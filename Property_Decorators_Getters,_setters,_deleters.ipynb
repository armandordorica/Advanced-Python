{
  "nbformat": 4,
  "nbformat_minor": 0,
  "metadata": {
    "colab": {
      "name": "Property Decorators - Getters, setters, deleters.ipynb",
      "provenance": [],
      "authorship_tag": "ABX9TyOlsqrjCujefb6KWgUpJF+9",
      "include_colab_link": true
    },
    "kernelspec": {
      "name": "python3",
      "display_name": "Python 3"
    }
  },
  "cells": [
    {
      "cell_type": "markdown",
      "metadata": {
        "id": "view-in-github",
        "colab_type": "text"
      },
      "source": [
        "<a href=\"https://colab.research.google.com/github/armandordorica/Advanced-Python/blob/master/Property_Decorators_Getters%2C_setters%2C_deleters.ipynb\" target=\"_parent\"><img src=\"https://colab.research.google.com/assets/colab-badge.svg\" alt=\"Open In Colab\"/></a>"
      ]
    },
    {
      "cell_type": "markdown",
      "metadata": {
        "id": "AIIwLwXS3l3t",
        "colab_type": "text"
      },
      "source": [
        "Reference: https://www.youtube.com/watch?v=jCzT9XFZ5bw"
      ]
    },
    {
      "cell_type": "code",
      "metadata": {
        "id": "6JffqI6l2ho_",
        "colab_type": "code",
        "colab": {}
      },
      "source": [
        "class Employee: \n",
        "  def __init__(self, first, last):\n",
        "    self.first = first\n",
        "    self.last = last\n",
        "    self.email = first + '.' + last + '@email.com'\n",
        "    \n",
        "  def fullname(self):\n",
        "    return '{} {}'.format(self.first, self.last)"
      ],
      "execution_count": 0,
      "outputs": []
    },
    {
      "cell_type": "code",
      "metadata": {
        "id": "XeFXJsIE2w1M",
        "colab_type": "code",
        "colab": {}
      },
      "source": [
        "emp_1 = Employee('John', 'Smith')"
      ],
      "execution_count": 0,
      "outputs": []
    },
    {
      "cell_type": "code",
      "metadata": {
        "id": "NLhcupCF20B5",
        "colab_type": "code",
        "colab": {
          "base_uri": "https://localhost:8080/",
          "height": 34
        },
        "outputId": "0dfa96bf-dea5-4dde-d9d8-acdc9d031ff1"
      },
      "source": [
        "print(emp_1.first)"
      ],
      "execution_count": 5,
      "outputs": [
        {
          "output_type": "stream",
          "text": [
            "John\n"
          ],
          "name": "stdout"
        }
      ]
    },
    {
      "cell_type": "code",
      "metadata": {
        "id": "V0EVsQW223TJ",
        "colab_type": "code",
        "colab": {
          "base_uri": "https://localhost:8080/",
          "height": 34
        },
        "outputId": "f3724b43-e9ff-4bcc-fade-3c890edd4702"
      },
      "source": [
        "print(emp_1.last)"
      ],
      "execution_count": 7,
      "outputs": [
        {
          "output_type": "stream",
          "text": [
            "Smith\n"
          ],
          "name": "stdout"
        }
      ]
    },
    {
      "cell_type": "code",
      "metadata": {
        "id": "ferDY2Y12464",
        "colab_type": "code",
        "colab": {
          "base_uri": "https://localhost:8080/",
          "height": 34
        },
        "outputId": "30abbe5d-d742-4b16-c1f3-7bddc90fabc8"
      },
      "source": [
        "print(emp_1.fullname())"
      ],
      "execution_count": 8,
      "outputs": [
        {
          "output_type": "stream",
          "text": [
            "John Smith\n"
          ],
          "name": "stdout"
        }
      ]
    },
    {
      "cell_type": "code",
      "metadata": {
        "id": "KCNoRA8c26_n",
        "colab_type": "code",
        "colab": {}
      },
      "source": [
        "emp_1.first = 'Jim'"
      ],
      "execution_count": 0,
      "outputs": []
    },
    {
      "cell_type": "code",
      "metadata": {
        "id": "xLdwqNS22-_x",
        "colab_type": "code",
        "colab": {
          "base_uri": "https://localhost:8080/",
          "height": 34
        },
        "outputId": "e81cbbf4-5b1a-4f5d-9451-0507e873d274"
      },
      "source": [
        "print(emp_1.fullname())"
      ],
      "execution_count": 10,
      "outputs": [
        {
          "output_type": "stream",
          "text": [
            "Jim Smith\n"
          ],
          "name": "stdout"
        }
      ]
    },
    {
      "cell_type": "code",
      "metadata": {
        "id": "jpCfD0wB3BYH",
        "colab_type": "code",
        "colab": {
          "base_uri": "https://localhost:8080/",
          "height": 34
        },
        "outputId": "e2b12749-977f-4da5-9027-d630dc04b9ee"
      },
      "source": [
        "print(emp_1.email)"
      ],
      "execution_count": 11,
      "outputs": [
        {
          "output_type": "stream",
          "text": [
            "John.Smith@email.com\n"
          ],
          "name": "stdout"
        }
      ]
    },
    {
      "cell_type": "markdown",
      "metadata": {
        "id": "r6_69lg83FIX",
        "colab_type": "text"
      },
      "source": [
        "Note how the email didn't get updated because it keeps the value that it was originally initialized to. We want to get the email updated automatically when either the first name or the last name is changed. \n",
        "\n",
        "**The property decorator** allows us to define that we can access like an attribute. "
      ]
    },
    {
      "cell_type": "code",
      "metadata": {
        "id": "KJi01Hzv3EUv",
        "colab_type": "code",
        "colab": {}
      },
      "source": [
        "class Employee: \n",
        "  def __init__(self, first, last):\n",
        "    self.first = first\n",
        "    self.last = last\n",
        "  \n",
        "  @property\n",
        "  def fullname(self):\n",
        "    return '{} {}'.format(self.first, self.last)\n",
        "\n",
        "  @property\n",
        "  def email(self):\n",
        "    return '{}.{}@email.com'.format(self.first, self.last)"
      ],
      "execution_count": 0,
      "outputs": []
    },
    {
      "cell_type": "code",
      "metadata": {
        "id": "D_-2qqwb4ZD8",
        "colab_type": "code",
        "colab": {}
      },
      "source": [
        "emp_1 = Employee('John', 'Smith')"
      ],
      "execution_count": 0,
      "outputs": []
    },
    {
      "cell_type": "markdown",
      "metadata": {
        "id": "Na5kqoto4cie",
        "colab_type": "text"
      },
      "source": [
        "Note that now we can call `fullname` as an attribute even though it's actually a function of other parameters because we are using this `@property` decorator."
      ]
    },
    {
      "cell_type": "code",
      "metadata": {
        "id": "4Nlm0OTn4TIE",
        "colab_type": "code",
        "colab": {
          "base_uri": "https://localhost:8080/",
          "height": 34
        },
        "outputId": "2ec9118a-dec0-451e-e902-a593d0408706"
      },
      "source": [
        "print(emp_1.fullname)"
      ],
      "execution_count": 22,
      "outputs": [
        {
          "output_type": "stream",
          "text": [
            "John Smith\n"
          ],
          "name": "stdout"
        }
      ]
    },
    {
      "cell_type": "markdown",
      "metadata": {
        "id": "-vhkZFvu5j3u",
        "colab_type": "text"
      },
      "source": [
        "### **Setters**"
      ]
    },
    {
      "cell_type": "markdown",
      "metadata": {
        "id": "Ezc6GQI-4oNu",
        "colab_type": "text"
      },
      "source": [
        "Why do we care about **setters**? What if we want to update object attributes in the reverse order? i.e. update the independent attributes via the dependent attributes. \n",
        "\n",
        "* Here we'll use the name of the property, i.e. `fullname.setter`"
      ]
    },
    {
      "cell_type": "code",
      "metadata": {
        "id": "SGLY5dlP4Vjk",
        "colab_type": "code",
        "colab": {}
      },
      "source": [
        "class Employee: \n",
        "  def __init__(self, first, last):\n",
        "    self.first = first\n",
        "    self.last = last\n",
        "  \n",
        "  @property\n",
        "  def fullname(self):\n",
        "    return '{} {}'.format(self.first, self.last)\n",
        "  \n",
        "  @fullname.setter\n",
        "  def fullname(self, name):\n",
        "    first, last = name.split(' ')\n",
        "    self.first = first\n",
        "    self.last = last\n",
        "\n",
        "\n",
        "  @property\n",
        "  def email(self):\n",
        "    return '{}.{}@email.com'.format(self.first, self.last)\n",
        "  "
      ],
      "execution_count": 0,
      "outputs": []
    },
    {
      "cell_type": "code",
      "metadata": {
        "id": "Tui0g69e5OI3",
        "colab_type": "code",
        "colab": {}
      },
      "source": [
        "emp_1 = Employee('John', 'Smith')"
      ],
      "execution_count": 0,
      "outputs": []
    },
    {
      "cell_type": "code",
      "metadata": {
        "id": "QhJIkG-G5RqL",
        "colab_type": "code",
        "colab": {
          "base_uri": "https://localhost:8080/",
          "height": 34
        },
        "outputId": "d8accdd7-084d-4694-ac47-866fe785f217"
      },
      "source": [
        "print(emp_1.fullname)"
      ],
      "execution_count": 25,
      "outputs": [
        {
          "output_type": "stream",
          "text": [
            "John Smith\n"
          ],
          "name": "stdout"
        }
      ]
    },
    {
      "cell_type": "code",
      "metadata": {
        "id": "Z1FC0K6s5S80",
        "colab_type": "code",
        "colab": {}
      },
      "source": [
        "emp_1.fullname = 'Corey Schafer'"
      ],
      "execution_count": 0,
      "outputs": []
    },
    {
      "cell_type": "code",
      "metadata": {
        "id": "x86dZnx05WJ0",
        "colab_type": "code",
        "colab": {
          "base_uri": "https://localhost:8080/",
          "height": 34
        },
        "outputId": "17282cf0-fdb6-4f82-a54f-6c9aa1ebcbdc"
      },
      "source": [
        "print(emp_1.fullname)"
      ],
      "execution_count": 27,
      "outputs": [
        {
          "output_type": "stream",
          "text": [
            "Corey Schafer\n"
          ],
          "name": "stdout"
        }
      ]
    },
    {
      "cell_type": "code",
      "metadata": {
        "id": "0Omrwise5X90",
        "colab_type": "code",
        "colab": {
          "base_uri": "https://localhost:8080/",
          "height": 34
        },
        "outputId": "94edd3cc-863e-4fdd-b2e1-80bc29bd5fac"
      },
      "source": [
        "print(emp_1.first)"
      ],
      "execution_count": 28,
      "outputs": [
        {
          "output_type": "stream",
          "text": [
            "Corey\n"
          ],
          "name": "stdout"
        }
      ]
    },
    {
      "cell_type": "code",
      "metadata": {
        "id": "BlTRVJey5ZMl",
        "colab_type": "code",
        "colab": {
          "base_uri": "https://localhost:8080/",
          "height": 34
        },
        "outputId": "cc058b0b-f34c-4ca0-a4be-278de9702544"
      },
      "source": [
        "print(emp_1.last)"
      ],
      "execution_count": 30,
      "outputs": [
        {
          "output_type": "stream",
          "text": [
            "Schafer\n"
          ],
          "name": "stdout"
        }
      ]
    },
    {
      "cell_type": "code",
      "metadata": {
        "id": "1qaUkNMm5ac8",
        "colab_type": "code",
        "colab": {
          "base_uri": "https://localhost:8080/",
          "height": 34
        },
        "outputId": "718ee5d9-baa9-48aa-a61a-b515712faccb"
      },
      "source": [
        "print(emp_1.email)"
      ],
      "execution_count": 31,
      "outputs": [
        {
          "output_type": "stream",
          "text": [
            "Corey.Schafer@email.com\n"
          ],
          "name": "stdout"
        }
      ]
    },
    {
      "cell_type": "code",
      "metadata": {
        "id": "Asmho9bY5f0j",
        "colab_type": "code",
        "colab": {}
      },
      "source": [
        ""
      ],
      "execution_count": 0,
      "outputs": []
    },
    {
      "cell_type": "markdown",
      "metadata": {
        "id": "HCX9sMUb5lzJ",
        "colab_type": "text"
      },
      "source": [
        "### **Deleters**"
      ]
    },
    {
      "cell_type": "code",
      "metadata": {
        "id": "7sJFsJyY5m0R",
        "colab_type": "code",
        "colab": {}
      },
      "source": [
        "class Employee: \n",
        "  def __init__(self, first, last):\n",
        "    self.first = first\n",
        "    self.last = last\n",
        "  \n",
        "  @property\n",
        "  def fullname(self):\n",
        "    return '{} {}'.format(self.first, self.last)\n",
        "  \n",
        "  @fullname.setter\n",
        "  def fullname(self, name):\n",
        "    first, last = name.split(' ')\n",
        "    self.first = first\n",
        "    self.last = last\n",
        "  \n",
        "  @fullname.deleter\n",
        "  def fullname(self):\n",
        "    print(\"Delete name!\")\n",
        "    self.first = None\n",
        "    self.last = None\n",
        "\n",
        "  @property\n",
        "  def email(self):\n",
        "    return '{}.{}@email.com'.format(self.first, self.last)\n",
        "  "
      ],
      "execution_count": 0,
      "outputs": []
    },
    {
      "cell_type": "code",
      "metadata": {
        "id": "P5c_dNzX5ytw",
        "colab_type": "code",
        "colab": {}
      },
      "source": [
        "emp_1 = Employee('John', 'Smith')"
      ],
      "execution_count": 0,
      "outputs": []
    },
    {
      "cell_type": "code",
      "metadata": {
        "id": "4xftTTr754oA",
        "colab_type": "code",
        "colab": {
          "base_uri": "https://localhost:8080/",
          "height": 34
        },
        "outputId": "54d39f95-c496-4964-d8c4-0299d15b6899"
      },
      "source": [
        "print(emp_1.fullname)"
      ],
      "execution_count": 34,
      "outputs": [
        {
          "output_type": "stream",
          "text": [
            "John Smith\n"
          ],
          "name": "stdout"
        }
      ]
    },
    {
      "cell_type": "code",
      "metadata": {
        "id": "ew9Nxqzu56EX",
        "colab_type": "code",
        "colab": {
          "base_uri": "https://localhost:8080/",
          "height": 34
        },
        "outputId": "a0461e20-00f1-489f-a1ab-9e6802507175"
      },
      "source": [
        "del emp_1.fullname"
      ],
      "execution_count": 35,
      "outputs": [
        {
          "output_type": "stream",
          "text": [
            "Delete name!\n"
          ],
          "name": "stdout"
        }
      ]
    },
    {
      "cell_type": "code",
      "metadata": {
        "id": "ByBNBzm658W_",
        "colab_type": "code",
        "colab": {
          "base_uri": "https://localhost:8080/",
          "height": 34
        },
        "outputId": "2349e836-ed14-4bb8-fa8d-e44012e9e0a6"
      },
      "source": [
        "print(emp_1.fullname)"
      ],
      "execution_count": 36,
      "outputs": [
        {
          "output_type": "stream",
          "text": [
            "None None\n"
          ],
          "name": "stdout"
        }
      ]
    },
    {
      "cell_type": "code",
      "metadata": {
        "id": "k6A0RzFi59ZP",
        "colab_type": "code",
        "colab": {
          "base_uri": "https://localhost:8080/",
          "height": 34
        },
        "outputId": "96ced0fc-f162-4112-a35b-882733da3465"
      },
      "source": [
        "print(emp_1.email)"
      ],
      "execution_count": 37,
      "outputs": [
        {
          "output_type": "stream",
          "text": [
            "None.None@email.com\n"
          ],
          "name": "stdout"
        }
      ]
    },
    {
      "cell_type": "code",
      "metadata": {
        "id": "x-_jEQ5L5_QF",
        "colab_type": "code",
        "colab": {}
      },
      "source": [
        ""
      ],
      "execution_count": 0,
      "outputs": []
    }
  ]
}