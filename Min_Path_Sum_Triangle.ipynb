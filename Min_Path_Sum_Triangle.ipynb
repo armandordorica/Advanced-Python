{
  "nbformat": 4,
  "nbformat_minor": 0,
  "metadata": {
    "colab": {
      "name": "Min Path Sum Triangle.ipynb",
      "provenance": [],
      "authorship_tag": "ABX9TyNTfUtp7eOjE1gP7nnXBOVZ",
      "include_colab_link": true
    },
    "kernelspec": {
      "name": "python3",
      "display_name": "Python 3"
    }
  },
  "cells": [
    {
      "cell_type": "markdown",
      "metadata": {
        "id": "view-in-github",
        "colab_type": "text"
      },
      "source": [
        "<a href=\"https://colab.research.google.com/github/armandordorica/Advanced-Python/blob/master/Min_Path_Sum_Triangle.ipynb\" target=\"_parent\"><img src=\"https://colab.research.google.com/assets/colab-badge.svg\" alt=\"Open In Colab\"/></a>"
      ]
    },
    {
      "cell_type": "markdown",
      "metadata": {
        "id": "rzWW-AzQ4dzf"
      },
      "source": [
        "Given a triangle array, return the minimum path sum from top to bottom"
      ]
    },
    {
      "cell_type": "code",
      "metadata": {
        "id": "1_T6uFQQ2vv2"
      },
      "source": [
        "triangle = [[2], [3,4],[6,5,7], [4,1,8,3]]"
      ],
      "execution_count": 8,
      "outputs": []
    },
    {
      "cell_type": "code",
      "metadata": {
        "id": "OHW1V_R-4KsY"
      },
      "source": [
        "def print_triangle(arr): \n",
        "  for i in range(0 ,len(arr)): \n",
        "    print(arr[i])\n",
        "    print(\"\\n\")"
      ],
      "execution_count": 9,
      "outputs": []
    },
    {
      "cell_type": "code",
      "metadata": {
        "colab": {
          "base_uri": "https://localhost:8080/"
        },
        "id": "JZgF6z374LgW",
        "outputId": "be38b301-7165-47c4-a561-b6b91b4b3ca5"
      },
      "source": [
        "print_triangle(triangle)"
      ],
      "execution_count": 68,
      "outputs": [
        {
          "output_type": "stream",
          "text": [
            "[2]\n",
            "\n",
            "\n",
            "[3, 4]\n",
            "\n",
            "\n",
            "[6, 5, 7]\n",
            "\n",
            "\n",
            "[4, 1, 8, 3]\n",
            "\n",
            "\n"
          ],
          "name": "stdout"
        }
      ]
    },
    {
      "cell_type": "code",
      "metadata": {
        "colab": {
          "base_uri": "https://localhost:8080/"
        },
        "id": "sedf73Uq4XON",
        "outputId": "f18f7af1-769d-498a-b508-b4bf49a32bb8"
      },
      "source": [
        "for i in range(0, len(triangle)): \n",
        "  print(min(triangle[i]))"
      ],
      "execution_count": 69,
      "outputs": [
        {
          "output_type": "stream",
          "text": [
            "2\n",
            "3\n",
            "5\n",
            "1\n"
          ],
          "name": "stdout"
        }
      ]
    },
    {
      "cell_type": "code",
      "metadata": {
        "colab": {
          "base_uri": "https://localhost:8080/"
        },
        "id": "a3yi8bGL4k80",
        "outputId": "6d913a2a-3c91-4de0-f864-8e1c701094cd"
      },
      "source": [
        "i=0\n",
        "m = 0\n",
        "current_value = triangle[i][m]\n",
        "sum = current_value\n",
        "print(sum, current_value)"
      ],
      "execution_count": 70,
      "outputs": [
        {
          "output_type": "stream",
          "text": [
            "2 2\n"
          ],
          "name": "stdout"
        }
      ]
    },
    {
      "cell_type": "code",
      "metadata": {
        "colab": {
          "base_uri": "https://localhost:8080/"
        },
        "id": "xfZ9S3Ca5TX5",
        "outputId": "bf2303ee-11c3-4ec5-9d6c-2fcf1bcea6ae"
      },
      "source": [
        "i = i+1\n",
        "i"
      ],
      "execution_count": 71,
      "outputs": [
        {
          "output_type": "execute_result",
          "data": {
            "text/plain": [
              "1"
            ]
          },
          "metadata": {
            "tags": []
          },
          "execution_count": 71
        }
      ]
    },
    {
      "cell_type": "code",
      "metadata": {
        "id": "r76TniX86N1T"
      },
      "source": [
        "def get_possible_indices(m): \n",
        "  possible_indices = []\n",
        "  possible_indices.append(m)\n",
        "  possible_indices.append(m+1)\n",
        "  possible_indices = list(set(possible_indices)) \n",
        "  \n",
        "  return possible_indices"
      ],
      "execution_count": 74,
      "outputs": []
    },
    {
      "cell_type": "code",
      "metadata": {
        "colab": {
          "base_uri": "https://localhost:8080/"
        },
        "id": "7a2t5fKh6baV",
        "outputId": "55deb8b8-cf5e-4034-fc8d-4d1d1b114783"
      },
      "source": [
        "possible_indices = possible_indices(m)\n",
        "possible_indices"
      ],
      "execution_count": 66,
      "outputs": [
        {
          "output_type": "execute_result",
          "data": {
            "text/plain": [
              "[0, 1]"
            ]
          },
          "metadata": {
            "tags": []
          },
          "execution_count": 66
        }
      ]
    },
    {
      "cell_type": "code",
      "metadata": {
        "colab": {
          "base_uri": "https://localhost:8080/"
        },
        "id": "OPP_WHxV5VQ5",
        "outputId": "b9104818-56c4-4bc7-8263-e2b46f7264bf"
      },
      "source": [
        "possible_additions = []\n",
        "for j in range(0, len(possible_indices)): \n",
        "  possible_additions.append(triangle[i][possible_indices[j]])\n",
        "possible_additions.index(min(possible_additions))"
      ],
      "execution_count": 67,
      "outputs": [
        {
          "output_type": "execute_result",
          "data": {
            "text/plain": [
              "0"
            ]
          },
          "metadata": {
            "tags": []
          },
          "execution_count": 67
        }
      ]
    },
    {
      "cell_type": "code",
      "metadata": {
        "id": "by08cZpZ7LQ8"
      },
      "source": [
        ""
      ],
      "execution_count": null,
      "outputs": []
    },
    {
      "cell_type": "code",
      "metadata": {
        "id": "dohYP7m25WoC"
      },
      "source": [
        "possible_indices = [current_index + 1, current_index]"
      ],
      "execution_count": 31,
      "outputs": []
    },
    {
      "cell_type": "code",
      "metadata": {
        "colab": {
          "base_uri": "https://localhost:8080/"
        },
        "id": "TuLphjCe5q5h",
        "outputId": "ef00d0d3-ac6a-4bca-9ed9-7bd2dba07355"
      },
      "source": [
        "possible_indices"
      ],
      "execution_count": 32,
      "outputs": [
        {
          "output_type": "execute_result",
          "data": {
            "text/plain": [
              "[1, 0]"
            ]
          },
          "metadata": {
            "tags": []
          },
          "execution_count": 32
        }
      ]
    },
    {
      "cell_type": "code",
      "metadata": {
        "colab": {
          "base_uri": "https://localhost:8080/"
        },
        "id": "Xl8JaxtJ5sHQ",
        "outputId": "3a54d013-64c4-4a7b-c0e4-847dbee3486b"
      },
      "source": [
        "sum = 0\n",
        "i = 0 \n",
        "m = triangle[i].index(min(triangle[i]))\n",
        "sum+= triangle[i][m]\n",
        "possible_indices = get_possible_indices(m)\n",
        "print(i, m, possible_indices, sum)"
      ],
      "execution_count": 96,
      "outputs": [
        {
          "output_type": "stream",
          "text": [
            "0 0 [0, 1] 2\n"
          ],
          "name": "stdout"
        }
      ]
    },
    {
      "cell_type": "code",
      "metadata": {
        "colab": {
          "base_uri": "https://localhost:8080/"
        },
        "id": "fGJ6QGho8pXT",
        "outputId": "d3aea638-90b8-4d73-a9cf-48c85084b02b"
      },
      "source": [
        "i = 1 \n",
        "possible_indices = get_possible_indices(m)\n",
        "m = triangle[i].index(min(triangle[i]))\n",
        "sum += triangle[i][m]\n",
        "print(i, m, possible_indices, sum)"
      ],
      "execution_count": 97,
      "outputs": [
        {
          "output_type": "stream",
          "text": [
            "1 0 [0, 1] 5\n"
          ],
          "name": "stdout"
        }
      ]
    },
    {
      "cell_type": "code",
      "metadata": {
        "colab": {
          "base_uri": "https://localhost:8080/"
        },
        "id": "s4tkDiWd89tm",
        "outputId": "7e1e7911-9183-45c5-9efa-0f4d5919627c"
      },
      "source": [
        "i = 2\n",
        "possible_indices = get_possible_indices(m)\n",
        "m = triangle[i].index(min(triangle[i]))\n",
        "sum += triangle[i][m]\n",
        "print(i, m, possible_indices, sum)"
      ],
      "execution_count": 98,
      "outputs": [
        {
          "output_type": "stream",
          "text": [
            "2 1 [0, 1] 10\n"
          ],
          "name": "stdout"
        }
      ]
    },
    {
      "cell_type": "code",
      "metadata": {
        "colab": {
          "base_uri": "https://localhost:8080/"
        },
        "id": "ICHEimnd9SAT",
        "outputId": "fe4886ca-a8c5-4747-8fec-daed44261cad"
      },
      "source": [
        "i = 3\n",
        "possible_indices = get_possible_indices(m)\n",
        "m = triangle[i].index(min(triangle[i]))\n",
        "sum += triangle[i][m]\n",
        "print(i, m, possible_indices, sum)"
      ],
      "execution_count": 99,
      "outputs": [
        {
          "output_type": "stream",
          "text": [
            "3 1 [1, 2] 11\n"
          ],
          "name": "stdout"
        }
      ]
    },
    {
      "cell_type": "code",
      "metadata": {
        "colab": {
          "base_uri": "https://localhost:8080/"
        },
        "id": "YXMUJwKo9e4c",
        "outputId": "1d6d4cdd-acd7-4c3d-a9ce-bef0d96b91e3"
      },
      "source": [
        ""
      ],
      "execution_count": 82,
      "outputs": [
        {
          "output_type": "execute_result",
          "data": {
            "text/plain": [
              "0"
            ]
          },
          "metadata": {
            "tags": []
          },
          "execution_count": 82
        }
      ]
    },
    {
      "cell_type": "code",
      "metadata": {
        "id": "jZl6VKBW9T3r"
      },
      "source": [
        "\n",
        "def get_min_path_sum(triangle): \n",
        "  sum = 0\n",
        "  i = 0 \n",
        "  m = triangle[i].index(min(triangle[i]))\n",
        "  sum+= triangle[i][m]\n",
        "  possible_indices = get_possible_indices(m)\n",
        "  print(i, m, possible_indices, sum)\n",
        "\n",
        "  for i in range(1, len(triangle)):\n",
        "    possible_indices = get_possible_indices(m)\n",
        "    m = triangle[i].index(min(triangle[i]))\n",
        "    sum += triangle[i][m]\n",
        "    print(i, m, possible_indices, sum)\n",
        "\n",
        "  return sum "
      ],
      "execution_count": 105,
      "outputs": []
    },
    {
      "cell_type": "code",
      "metadata": {
        "colab": {
          "base_uri": "https://localhost:8080/"
        },
        "id": "egcsqol291ov",
        "outputId": "6a155ea0-3fa3-4526-a3d9-0c8a8bb7b556"
      },
      "source": [
        "get_min_path_sum(triangle)"
      ],
      "execution_count": 106,
      "outputs": [
        {
          "output_type": "stream",
          "text": [
            "0 0 [0, 1] 2\n",
            "1 0 [0, 1] 5\n",
            "2 1 [0, 1] 10\n",
            "3 1 [1, 2] 11\n"
          ],
          "name": "stdout"
        },
        {
          "output_type": "execute_result",
          "data": {
            "text/plain": [
              "11"
            ]
          },
          "metadata": {
            "tags": []
          },
          "execution_count": 106
        }
      ]
    },
    {
      "cell_type": "code",
      "metadata": {
        "id": "HpeiF15E_KDG"
      },
      "source": [
        "triangle2 = [[-10]]"
      ],
      "execution_count": 107,
      "outputs": []
    },
    {
      "cell_type": "code",
      "metadata": {
        "colab": {
          "base_uri": "https://localhost:8080/"
        },
        "id": "_YLywhaX_M2U",
        "outputId": "92496e53-f1f4-4303-8ece-5c7de0f8aeb3"
      },
      "source": [
        "get_min_path_sum(triangle2)"
      ],
      "execution_count": 108,
      "outputs": [
        {
          "output_type": "stream",
          "text": [
            "0 0 [0, 1] -10\n"
          ],
          "name": "stdout"
        },
        {
          "output_type": "execute_result",
          "data": {
            "text/plain": [
              "-10"
            ]
          },
          "metadata": {
            "tags": []
          },
          "execution_count": 108
        }
      ]
    },
    {
      "cell_type": "code",
      "metadata": {
        "id": "qXgNHZVR_Uj0"
      },
      "source": [
        ""
      ],
      "execution_count": null,
      "outputs": []
    }
  ]
}