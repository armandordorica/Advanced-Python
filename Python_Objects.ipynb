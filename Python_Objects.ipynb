{
  "nbformat": 4,
  "nbformat_minor": 0,
  "metadata": {
    "colab": {
      "name": "Python Objects.ipynb",
      "provenance": [],
      "authorship_tag": "ABX9TyMUlQkXD4yFfh/wtBGLUVBd",
      "include_colab_link": true
    },
    "kernelspec": {
      "name": "python3",
      "display_name": "Python 3"
    }
  },
  "cells": [
    {
      "cell_type": "markdown",
      "metadata": {
        "id": "view-in-github",
        "colab_type": "text"
      },
      "source": [
        "<a href=\"https://colab.research.google.com/github/armandordorica/Advanced-Python/blob/master/Python_Objects.ipynb\" target=\"_parent\"><img src=\"https://colab.research.google.com/assets/colab-badge.svg\" alt=\"Open In Colab\"/></a>"
      ]
    },
    {
      "cell_type": "markdown",
      "metadata": {
        "id": "KvNmKfw2J-tH",
        "colab_type": "text"
      },
      "source": [
        "## **Python Tutorial on Objects and Classes**"
      ]
    },
    {
      "cell_type": "markdown",
      "metadata": {
        "id": "54wGKG-XKJNC",
        "colab_type": "text"
      },
      "source": [
        "Resources: Get Ready for Your Coding Interview (on Lynda.com)"
      ]
    },
    {
      "cell_type": "markdown",
      "metadata": {
        "id": "VcZjHoBeFkxu",
        "colab_type": "text"
      },
      "source": [
        "Example: \n",
        "Want the class `Robot` \n",
        "\n",
        "Attributes: \n",
        "* name \n",
        "* color\n",
        "* weight \n",
        "\n",
        "method:\n",
        "`introduceSelf()`\n",
        "\n",
        "Example object 1 (`r1`):\n",
        "* `name: \"Tom\"`\n",
        "* `color: \"red\"`\n",
        "* `weight: 30`\n",
        "\n",
        "Example object 2 (`r2`):\n",
        "* `name: \"Jerry\"`\n",
        "* `color: \"blue\"`\n",
        "* `weight: 40`"
      ]
    },
    {
      "cell_type": "code",
      "metadata": {
        "id": "_AYAC_a-GBAg",
        "colab_type": "code",
        "colab": {}
      },
      "source": [
        "class Robot: \n",
        "  # add self to every method you want to add to the class\n",
        "  def introduce_self(self):\n",
        "    print(\"My name is \" + self.name)\n",
        "\n"
      ],
      "execution_count": 0,
      "outputs": []
    },
    {
      "cell_type": "markdown",
      "metadata": {
        "id": "OLMn5JIoGcvo",
        "colab_type": "text"
      },
      "source": [
        "**Creating a new object with class robot**"
      ]
    },
    {
      "cell_type": "code",
      "metadata": {
        "id": "hKo42NBSGZnL",
        "colab_type": "code",
        "colab": {}
      },
      "source": [
        "r1 = Robot()"
      ],
      "execution_count": 0,
      "outputs": []
    },
    {
      "cell_type": "code",
      "metadata": {
        "id": "8W-Rk5S-Ghej",
        "colab_type": "code",
        "colab": {}
      },
      "source": [
        "r1.name = \"Tom\"\n",
        "r1.color = \"red\"\n",
        "r1.weight = 30"
      ],
      "execution_count": 0,
      "outputs": []
    },
    {
      "cell_type": "code",
      "metadata": {
        "id": "wTAqqquyGlFi",
        "colab_type": "code",
        "outputId": "d8411915-5dbb-4e32-fa40-dba99ffd2f84",
        "colab": {
          "base_uri": "https://localhost:8080/",
          "height": 34
        }
      },
      "source": [
        "r1.introduce_self()"
      ],
      "execution_count": 0,
      "outputs": [
        {
          "output_type": "stream",
          "text": [
            "My name is Tom\n"
          ],
          "name": "stdout"
        }
      ]
    },
    {
      "cell_type": "code",
      "metadata": {
        "id": "8PCp6mGLGlkC",
        "colab_type": "code",
        "colab": {}
      },
      "source": [
        "r2 = Robot ()\n",
        "r2.name = \"Jerry\"\n",
        "r2.color = \"blue\"\n",
        "r2.weight = 40"
      ],
      "execution_count": 0,
      "outputs": []
    },
    {
      "cell_type": "code",
      "metadata": {
        "id": "Z9b9qALeGy4Z",
        "colab_type": "code",
        "outputId": "413345a8-2b64-4cca-ca4c-e44cc22d2832",
        "colab": {
          "base_uri": "https://localhost:8080/",
          "height": 34
        }
      },
      "source": [
        "r2.introduce_self()"
      ],
      "execution_count": 0,
      "outputs": [
        {
          "output_type": "stream",
          "text": [
            "My name is Jerry\n"
          ],
          "name": "stdout"
        }
      ]
    },
    {
      "cell_type": "code",
      "metadata": {
        "id": "8YVPp2hmG0LA",
        "colab_type": "code",
        "colab": {}
      },
      "source": [
        ""
      ],
      "execution_count": 0,
      "outputs": []
    },
    {
      "cell_type": "markdown",
      "metadata": {
        "id": "cVLspZnwHLkQ",
        "colab_type": "text"
      },
      "source": [
        "## Enhanced version "
      ]
    },
    {
      "cell_type": "code",
      "metadata": {
        "id": "-anNumZMHNNh",
        "colab_type": "code",
        "colab": {}
      },
      "source": [
        "class Robot: \n",
        "  ## constructor \n",
        "  def __init__(self, name, color, weight):\n",
        "    self.name = name\n",
        "    self.color = color\n",
        "    self.weight = weight\n",
        "  # add self to every method you want to add to the class\n",
        "  def introduce_self(self):\n",
        "    print(\"My name is \" + self.name)\n"
      ],
      "execution_count": 0,
      "outputs": []
    },
    {
      "cell_type": "code",
      "metadata": {
        "id": "rzc8ZxiEHWuQ",
        "colab_type": "code",
        "colab": {}
      },
      "source": [
        "r1 = Robot(\"Tom\", \"Red\", 30)\n",
        "r2 = Robot(\"Jerry\", \"Blue\", 40)"
      ],
      "execution_count": 0,
      "outputs": []
    },
    {
      "cell_type": "markdown",
      "metadata": {
        "id": "Cng0Sd5VIBnG",
        "colab_type": "text"
      },
      "source": [
        "### **Interaction of multiple classes and objects**"
      ]
    },
    {
      "cell_type": "markdown",
      "metadata": {
        "id": "LuXrbKzbIKvT",
        "colab_type": "text"
      },
      "source": [
        "Want to create another class called `Person` with the following attributes: \n",
        "* `name` - String\n",
        "* `personality` - String\n",
        "* `isSitting` - (either true or false)\n",
        "* `robotOwned` - If person 1 owns robot 1 for example, set `robotOwned` to `r1`. \n",
        "\n",
        "Methods: \n",
        "* `sit_down()` - whe run on an object, it will toggle the `isSitting` attribute to `True`. \n",
        "* `stand_up()` - whe run on an object, it will toggle the `isSitting` attribute to `False`. \n",
        "\n",
        "Example object 1: \n",
        "* `name: \"Alice\"`\n",
        "* `personality:\"Aggressive\"` \n",
        "* `isSitting:\"False\"`\n",
        "\n",
        "Example object 2: \n",
        "* `name: \"Becky\"`\n",
        "* `personality:\"Talkative\"` \n",
        "* `isSitting:\"True\"`\n"
      ]
    },
    {
      "cell_type": "code",
      "metadata": {
        "id": "yMKXaLfbID4x",
        "colab_type": "code",
        "colab": {}
      },
      "source": [
        "class Person: \n",
        "  def __init__(self, n, p, i):\n",
        "    self.name = n\n",
        "    self.personality = p\n",
        "    self.is_sitting = i\n",
        "\n",
        "  def sit_down(self):\n",
        "    self.is_sitting = True\n",
        "  \n",
        "  def stand_up(self):\n",
        "    self.is_sitting = False\n",
        "\n"
      ],
      "execution_count": 0,
      "outputs": []
    },
    {
      "cell_type": "code",
      "metadata": {
        "id": "ylzk_O-IJjMf",
        "colab_type": "code",
        "colab": {}
      },
      "source": [
        "p1 = Person(\"Alice\", \"aggressive\", False)"
      ],
      "execution_count": 0,
      "outputs": []
    },
    {
      "cell_type": "code",
      "metadata": {
        "id": "mkS1_rNfJoGW",
        "colab_type": "code",
        "colab": {}
      },
      "source": [
        "p2 = Person(\"Becky\", \"talkative\", True)"
      ],
      "execution_count": 0,
      "outputs": []
    },
    {
      "cell_type": "code",
      "metadata": {
        "id": "-fEdXAqIJt-F",
        "colab_type": "code",
        "colab": {}
      },
      "source": [
        "p1.robot_owned = r2"
      ],
      "execution_count": 0,
      "outputs": []
    },
    {
      "cell_type": "code",
      "metadata": {
        "id": "8E_WZwj2J0PE",
        "colab_type": "code",
        "colab": {}
      },
      "source": [
        "p2.robot_owned = r1"
      ],
      "execution_count": 0,
      "outputs": []
    },
    {
      "cell_type": "code",
      "metadata": {
        "id": "37xLEtWNJ2uc",
        "colab_type": "code",
        "outputId": "502983ef-b8fd-4d27-9eb4-cf0328d4a4d0",
        "colab": {
          "base_uri": "https://localhost:8080/",
          "height": 34
        }
      },
      "source": [
        "p2.robot_owned.introduce_self()"
      ],
      "execution_count": 0,
      "outputs": [
        {
          "output_type": "stream",
          "text": [
            "My name is Tom\n"
          ],
          "name": "stdout"
        }
      ]
    },
    {
      "cell_type": "code",
      "metadata": {
        "id": "M8h_Tcr2J5Gc",
        "colab_type": "code",
        "colab": {}
      },
      "source": [
        ""
      ],
      "execution_count": 0,
      "outputs": []
    }
  ]
}