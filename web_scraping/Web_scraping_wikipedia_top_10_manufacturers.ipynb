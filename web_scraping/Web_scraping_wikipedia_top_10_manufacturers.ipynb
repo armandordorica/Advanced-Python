{
  "nbformat": 4,
  "nbformat_minor": 0,
  "metadata": {
    "colab": {
      "name": "Web scraping wikipedia top 10 manufacturers.ipynb",
      "provenance": [],
      "authorship_tag": "ABX9TyMqqxa/MGicGpY3vNh8zCzI",
      "include_colab_link": true
    },
    "kernelspec": {
      "name": "python3",
      "display_name": "Python 3"
    }
  },
  "cells": [
    {
      "cell_type": "markdown",
      "metadata": {
        "id": "view-in-github",
        "colab_type": "text"
      },
      "source": [
        "<a href=\"https://colab.research.google.com/github/armandordorica/Advanced-Python/blob/master/web_scraping/Web_scraping_wikipedia_top_10_manufacturers.ipynb\" target=\"_parent\"><img src=\"https://colab.research.google.com/assets/colab-badge.svg\" alt=\"Open In Colab\"/></a>"
      ]
    },
    {
      "cell_type": "code",
      "metadata": {
        "id": "H2QyiwXGWpfo",
        "colab_type": "code",
        "colab": {}
      },
      "source": [
        "# !pip install wikipedia"
      ],
      "execution_count": 0,
      "outputs": []
    },
    {
      "cell_type": "code",
      "metadata": {
        "id": "ZhtVeveVWq1o",
        "colab_type": "code",
        "colab": {}
      },
      "source": [
        "# import wikipedia\n",
        "import pandas as pd\n",
        "from bs4 import BeautifulSoup\n",
        "import requests"
      ],
      "execution_count": 0,
      "outputs": []
    },
    {
      "cell_type": "code",
      "metadata": {
        "id": "HALippHIZsQ2",
        "colab_type": "code",
        "colab": {}
      },
      "source": [
        "URL = 'https://en.wikipedia.org/wiki/List_of_largest_manufacturing_companies_by_revenue'\n",
        "response = requests.get(URL)"
      ],
      "execution_count": 0,
      "outputs": []
    },
    {
      "cell_type": "code",
      "metadata": {
        "id": "dURLcZ6sZ-Xk",
        "colab_type": "code",
        "colab": {}
      },
      "source": [
        "soup = BeautifulSoup(response.text, 'html.parser')"
      ],
      "execution_count": 0,
      "outputs": []
    },
    {
      "cell_type": "code",
      "metadata": {
        "id": "dPgdTUbCaBQM",
        "colab_type": "code",
        "colab": {}
      },
      "source": [
        "table = soup.find('table', {'class': 'wikitable sortable plainrowheads'}).tbody"
      ],
      "execution_count": 0,
      "outputs": []
    },
    {
      "cell_type": "code",
      "metadata": {
        "id": "c39xfLygaG3r",
        "colab_type": "code",
        "colab": {}
      },
      "source": [
        "# print(table)"
      ],
      "execution_count": 0,
      "outputs": []
    },
    {
      "cell_type": "code",
      "metadata": {
        "id": "pzZe_QnYaITj",
        "colab_type": "code",
        "colab": {}
      },
      "source": [
        "rows = table.find_all('tr')"
      ],
      "execution_count": 0,
      "outputs": []
    },
    {
      "cell_type": "code",
      "metadata": {
        "id": "xSqfzrx-am2X",
        "colab_type": "code",
        "colab": {}
      },
      "source": [
        "columns = [v.text.replace('\\n', '') for v in rows[0].find_all('th')]"
      ],
      "execution_count": 0,
      "outputs": []
    },
    {
      "cell_type": "code",
      "metadata": {
        "id": "6JW1oDMPasmN",
        "colab_type": "code",
        "outputId": "3d43f71d-b161-4741-f300-e219934b83f8",
        "colab": {
          "base_uri": "https://localhost:8080/",
          "height": 34
        }
      },
      "source": [
        "columns"
      ],
      "execution_count": 10,
      "outputs": [
        {
          "output_type": "execute_result",
          "data": {
            "text/plain": [
              "['No.', 'Company', 'Industry', 'Revenue (by US$ million)', 'Headquarters']"
            ]
          },
          "metadata": {
            "tags": []
          },
          "execution_count": 10
        }
      ]
    },
    {
      "cell_type": "code",
      "metadata": {
        "id": "U_oZD16wavl0",
        "colab_type": "code",
        "colab": {}
      },
      "source": [
        "df = pd.DataFrame(columns=columns)"
      ],
      "execution_count": 0,
      "outputs": []
    },
    {
      "cell_type": "code",
      "metadata": {
        "id": "u0-14_Aca2Jk",
        "colab_type": "code",
        "outputId": "afdd6ef8-a32c-408f-dcb4-85b2cd14f46c",
        "colab": {
          "base_uri": "https://localhost:8080/",
          "height": 260
        }
      },
      "source": [
        "for i in range(1, len(rows)): \n",
        "  tds = rows[i].find_all('td')\n",
        "\n",
        "  if len(tds)==4:\n",
        "    values = [tds[0].text, tds[1].text, '', tds[2].text, tds[3].text.replace('\\n', '').replace('\\xa0', '') ]\n",
        "  \n",
        "  else:\n",
        "    values = [td.text.replace('\\n', '').replace('\\xa0', '') for td in tds]\n",
        "\n",
        "  df = df.append(pd.Series(values, index = columns), ignore_index=True)\n",
        "\n",
        "print(df)"
      ],
      "execution_count": 14,
      "outputs": [
        {
          "output_type": "stream",
          "text": [
            "    No.                      Company  ... Revenue (by US$ million)    Headquarters\n",
            "0     1             Volkswagen Group  ...                  288,888         Germany\n",
            "1     2                 Toyota Group  ...                  265,172           Japan\n",
            "2     3                        Apple  ...                  229,234   United States\n",
            "3     4          Samsung Electronics  ...                  211,940     South Korea\n",
            "4     5                      Daimler  ...                  185,235         Germany\n",
            "..  ...                          ...  ...                      ...             ...\n",
            "95   96              GlaxoSmithKline  ...                   38,868  United Kingdom\n",
            "96   97                  Tyson Foods  ...                   38,260   United States\n",
            "97   98           Oracle Corporation  ...                   37,728   United States\n",
            "98   99  Mitsubishi Heavy Industries  ...                   37,103           Japan\n",
            "99  100                      Fujitsu  ...                   36,991           Japan\n",
            "\n",
            "[100 rows x 5 columns]\n"
          ],
          "name": "stdout"
        }
      ]
    },
    {
      "cell_type": "code",
      "metadata": {
        "id": "ff4sDDRobMiR",
        "colab_type": "code",
        "colab": {}
      },
      "source": [
        "df.to_csv(\"manufactureTop10.csv\")"
      ],
      "execution_count": 0,
      "outputs": []
    },
    {
      "cell_type": "code",
      "metadata": {
        "id": "KovbIdQbbWEh",
        "colab_type": "code",
        "outputId": "e16952e0-f5c6-4ed7-d643-42af8e39811f",
        "colab": {
          "base_uri": "https://localhost:8080/",
          "height": 416
        }
      },
      "source": [
        "df"
      ],
      "execution_count": 16,
      "outputs": [
        {
          "output_type": "execute_result",
          "data": {
            "text/html": [
              "<div>\n",
              "<style scoped>\n",
              "    .dataframe tbody tr th:only-of-type {\n",
              "        vertical-align: middle;\n",
              "    }\n",
              "\n",
              "    .dataframe tbody tr th {\n",
              "        vertical-align: top;\n",
              "    }\n",
              "\n",
              "    .dataframe thead th {\n",
              "        text-align: right;\n",
              "    }\n",
              "</style>\n",
              "<table border=\"1\" class=\"dataframe\">\n",
              "  <thead>\n",
              "    <tr style=\"text-align: right;\">\n",
              "      <th></th>\n",
              "      <th>No.</th>\n",
              "      <th>Company</th>\n",
              "      <th>Industry</th>\n",
              "      <th>Revenue (by US$ million)</th>\n",
              "      <th>Headquarters</th>\n",
              "    </tr>\n",
              "  </thead>\n",
              "  <tbody>\n",
              "    <tr>\n",
              "      <th>0</th>\n",
              "      <td>1</td>\n",
              "      <td>Volkswagen Group</td>\n",
              "      <td>Automotive</td>\n",
              "      <td>288,888</td>\n",
              "      <td>Germany</td>\n",
              "    </tr>\n",
              "    <tr>\n",
              "      <th>1</th>\n",
              "      <td>2</td>\n",
              "      <td>Toyota Group</td>\n",
              "      <td>Engineering, various</td>\n",
              "      <td>265,172</td>\n",
              "      <td>Japan</td>\n",
              "    </tr>\n",
              "    <tr>\n",
              "      <th>2</th>\n",
              "      <td>3</td>\n",
              "      <td>Apple</td>\n",
              "      <td>Electronics</td>\n",
              "      <td>229,234</td>\n",
              "      <td>United States</td>\n",
              "    </tr>\n",
              "    <tr>\n",
              "      <th>3</th>\n",
              "      <td>4</td>\n",
              "      <td>Samsung Electronics</td>\n",
              "      <td>Electronics, various</td>\n",
              "      <td>211,940</td>\n",
              "      <td>South Korea</td>\n",
              "    </tr>\n",
              "    <tr>\n",
              "      <th>4</th>\n",
              "      <td>5</td>\n",
              "      <td>Daimler</td>\n",
              "      <td>Automotive</td>\n",
              "      <td>185,235</td>\n",
              "      <td>Germany</td>\n",
              "    </tr>\n",
              "    <tr>\n",
              "      <th>...</th>\n",
              "      <td>...</td>\n",
              "      <td>...</td>\n",
              "      <td>...</td>\n",
              "      <td>...</td>\n",
              "      <td>...</td>\n",
              "    </tr>\n",
              "    <tr>\n",
              "      <th>95</th>\n",
              "      <td>96</td>\n",
              "      <td>GlaxoSmithKline</td>\n",
              "      <td>Pharmaceuticals</td>\n",
              "      <td>38,868</td>\n",
              "      <td>United Kingdom</td>\n",
              "    </tr>\n",
              "    <tr>\n",
              "      <th>96</th>\n",
              "      <td>97</td>\n",
              "      <td>Tyson Foods</td>\n",
              "      <td>Food &amp; Beverages</td>\n",
              "      <td>38,260</td>\n",
              "      <td>United States</td>\n",
              "    </tr>\n",
              "    <tr>\n",
              "      <th>97</th>\n",
              "      <td>98</td>\n",
              "      <td>Oracle Corporation</td>\n",
              "      <td>Electronics</td>\n",
              "      <td>37,728</td>\n",
              "      <td>United States</td>\n",
              "    </tr>\n",
              "    <tr>\n",
              "      <th>98</th>\n",
              "      <td>99</td>\n",
              "      <td>Mitsubishi Heavy Industries</td>\n",
              "      <td>Engineering, various</td>\n",
              "      <td>37,103</td>\n",
              "      <td>Japan</td>\n",
              "    </tr>\n",
              "    <tr>\n",
              "      <th>99</th>\n",
              "      <td>100</td>\n",
              "      <td>Fujitsu</td>\n",
              "      <td>Electronics</td>\n",
              "      <td>36,991</td>\n",
              "      <td>Japan</td>\n",
              "    </tr>\n",
              "  </tbody>\n",
              "</table>\n",
              "<p>100 rows × 5 columns</p>\n",
              "</div>"
            ],
            "text/plain": [
              "    No.                      Company  ... Revenue (by US$ million)    Headquarters\n",
              "0     1             Volkswagen Group  ...                  288,888         Germany\n",
              "1     2                 Toyota Group  ...                  265,172           Japan\n",
              "2     3                        Apple  ...                  229,234   United States\n",
              "3     4          Samsung Electronics  ...                  211,940     South Korea\n",
              "4     5                      Daimler  ...                  185,235         Germany\n",
              "..  ...                          ...  ...                      ...             ...\n",
              "95   96              GlaxoSmithKline  ...                   38,868  United Kingdom\n",
              "96   97                  Tyson Foods  ...                   38,260   United States\n",
              "97   98           Oracle Corporation  ...                   37,728   United States\n",
              "98   99  Mitsubishi Heavy Industries  ...                   37,103           Japan\n",
              "99  100                      Fujitsu  ...                   36,991           Japan\n",
              "\n",
              "[100 rows x 5 columns]"
            ]
          },
          "metadata": {
            "tags": []
          },
          "execution_count": 16
        }
      ]
    },
    {
      "cell_type": "code",
      "metadata": {
        "id": "l1bjIbe-bW2h",
        "colab_type": "code",
        "colab": {}
      },
      "source": [
        ""
      ],
      "execution_count": 0,
      "outputs": []
    }
  ]
}