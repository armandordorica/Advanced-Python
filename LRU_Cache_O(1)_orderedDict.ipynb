{
  "nbformat": 4,
  "nbformat_minor": 0,
  "metadata": {
    "colab": {
      "name": "LRU_Cache_O(1)_orderedDict.ipynb",
      "provenance": [],
      "authorship_tag": "ABX9TyMMSmYtqDwt9TKYqu3f9w4u",
      "include_colab_link": true
    },
    "kernelspec": {
      "name": "python3",
      "display_name": "Python 3"
    }
  },
  "cells": [
    {
      "cell_type": "markdown",
      "metadata": {
        "id": "view-in-github",
        "colab_type": "text"
      },
      "source": [
        "<a href=\"https://colab.research.google.com/github/armandordorica/Advanced-Python/blob/master/LRU_Cache_O(1)_orderedDict.ipynb\" target=\"_parent\"><img src=\"https://colab.research.google.com/assets/colab-badge.svg\" alt=\"Open In Colab\"/></a>"
      ]
    },
    {
      "cell_type": "code",
      "metadata": {
        "id": "hI_ZqlWM_hin",
        "colab_type": "code",
        "colab": {}
      },
      "source": [
        "from collections import OrderedDict\n",
        "class LRUCache: \n",
        "  def __init__(self, capacity):\n",
        "    self.capacity = capacity \n",
        "    self.cache = OrderedDict()\n",
        "\n",
        "  def get(self, key): \n",
        "    if key in self.cache: \n",
        "      #add key to most recently used \n",
        "      self.cache.move_to_end(key)\n",
        "      return self.cache[key]\n",
        "    else:\n",
        "      return -1\n",
        "\n",
        "  def put(self, key, value):\n",
        "    if len(self.cache.keys())< self.capacity and key not in self.cache: \n",
        "      print(\"case 00\")\n",
        "      #add key to most recently used \n",
        "      self.cache[key] = value \n",
        "      self.cache.move_to_end(key)\n",
        "    \n",
        "    elif len(self.cache.keys())< self.capacity and key in self.cache: \n",
        "      print(\"case 01\")\n",
        "      #add key to most recently used \n",
        "      \n",
        "      self.cache[key] = value \n",
        "      self.cache.move_to_end(key)\n",
        "    \n",
        "    elif len(self.cache.keys())== self.capacity and key not in self.cache: \n",
        "      print(\"case 10\")\n",
        "      #remove least recently used \n",
        "      self.cache.popitem(last=False)\n",
        "      #add key to most recently used \n",
        "      self.cache[key] = value\n",
        "      self.cache.move_to_end(key)\n",
        "\n",
        "    elif len(self.cache.keys())== self.capacity and key in self.cache: \n",
        "      print(\"case 11\")\n",
        "      #update value of key\n",
        "      #move key to most recently updated \n",
        "      self.cache[key] = value \n",
        "      self.cache.move_to_end(key)\n",
        "    return self.cache"
      ],
      "execution_count": 0,
      "outputs": []
    },
    {
      "cell_type": "code",
      "metadata": {
        "id": "_MXr2BBG_0u8",
        "colab_type": "code",
        "colab": {}
      },
      "source": [
        "cache = LRUCache(2)"
      ],
      "execution_count": 0,
      "outputs": []
    },
    {
      "cell_type": "code",
      "metadata": {
        "id": "6TOlDwo6BMQY",
        "colab_type": "code",
        "colab": {
          "base_uri": "https://localhost:8080/",
          "height": 52
        },
        "outputId": "66b29820-14c6-4cf6-b243-9a277b7a6e8c"
      },
      "source": [
        "cache.put(1, 1)"
      ],
      "execution_count": 72,
      "outputs": [
        {
          "output_type": "stream",
          "text": [
            "case 00\n"
          ],
          "name": "stdout"
        },
        {
          "output_type": "execute_result",
          "data": {
            "text/plain": [
              "OrderedDict([(1, 1)])"
            ]
          },
          "metadata": {
            "tags": []
          },
          "execution_count": 72
        }
      ]
    },
    {
      "cell_type": "code",
      "metadata": {
        "id": "lfFdjFsAByi9",
        "colab_type": "code",
        "colab": {
          "base_uri": "https://localhost:8080/",
          "height": 52
        },
        "outputId": "392d338c-6af7-4473-e0aa-ac6c000a6166"
      },
      "source": [
        "cache.put(2, 2)"
      ],
      "execution_count": 73,
      "outputs": [
        {
          "output_type": "stream",
          "text": [
            "case 00\n"
          ],
          "name": "stdout"
        },
        {
          "output_type": "execute_result",
          "data": {
            "text/plain": [
              "OrderedDict([(1, 1), (2, 2)])"
            ]
          },
          "metadata": {
            "tags": []
          },
          "execution_count": 73
        }
      ]
    },
    {
      "cell_type": "code",
      "metadata": {
        "id": "quKsAexJBy5E",
        "colab_type": "code",
        "colab": {
          "base_uri": "https://localhost:8080/",
          "height": 34
        },
        "outputId": "e29da4d5-d70f-41ca-fffe-d4e300eb86ff"
      },
      "source": [
        "cache.cache"
      ],
      "execution_count": 74,
      "outputs": [
        {
          "output_type": "execute_result",
          "data": {
            "text/plain": [
              "OrderedDict([(1, 1), (2, 2)])"
            ]
          },
          "metadata": {
            "tags": []
          },
          "execution_count": 74
        }
      ]
    },
    {
      "cell_type": "code",
      "metadata": {
        "id": "H7PBEhoSEGLf",
        "colab_type": "code",
        "colab": {
          "base_uri": "https://localhost:8080/",
          "height": 34
        },
        "outputId": "0dcc9e2a-cfef-42c5-b912-85a615c21053"
      },
      "source": [
        "cache.get(1)"
      ],
      "execution_count": 56,
      "outputs": [
        {
          "output_type": "execute_result",
          "data": {
            "text/plain": [
              "1"
            ]
          },
          "metadata": {
            "tags": []
          },
          "execution_count": 56
        }
      ]
    },
    {
      "cell_type": "code",
      "metadata": {
        "id": "vgy3uacYEH-G",
        "colab_type": "code",
        "colab": {
          "base_uri": "https://localhost:8080/",
          "height": 34
        },
        "outputId": "1f0618a5-40fd-4b0e-9046-bf15be8047d3"
      },
      "source": [
        "cache.cache"
      ],
      "execution_count": 57,
      "outputs": [
        {
          "output_type": "execute_result",
          "data": {
            "text/plain": [
              "OrderedDict([(2, 2), (1, 1)])"
            ]
          },
          "metadata": {
            "tags": []
          },
          "execution_count": 57
        }
      ]
    },
    {
      "cell_type": "code",
      "metadata": {
        "id": "7EAgPY2lEghS",
        "colab_type": "code",
        "colab": {
          "base_uri": "https://localhost:8080/",
          "height": 34
        },
        "outputId": "928be3a8-a633-4869-ab2c-ef48ff28d859"
      },
      "source": [
        "cache.put(3, 3)"
      ],
      "execution_count": 58,
      "outputs": [
        {
          "output_type": "stream",
          "text": [
            "case 10\n"
          ],
          "name": "stdout"
        }
      ]
    },
    {
      "cell_type": "code",
      "metadata": {
        "id": "mwtKmIO-FP1t",
        "colab_type": "code",
        "colab": {
          "base_uri": "https://localhost:8080/",
          "height": 34
        },
        "outputId": "26900c50-9080-43e2-af00-914170191585"
      },
      "source": [
        "cache.cache"
      ],
      "execution_count": 59,
      "outputs": [
        {
          "output_type": "execute_result",
          "data": {
            "text/plain": [
              "OrderedDict([(1, 1), (3, 3)])"
            ]
          },
          "metadata": {
            "tags": []
          },
          "execution_count": 59
        }
      ]
    },
    {
      "cell_type": "code",
      "metadata": {
        "id": "l1EvksrEEi2K",
        "colab_type": "code",
        "colab": {
          "base_uri": "https://localhost:8080/",
          "height": 34
        },
        "outputId": "50daefc4-fb7e-4564-99c8-ef5d353dfee3"
      },
      "source": [
        "cache.get(2)"
      ],
      "execution_count": 60,
      "outputs": [
        {
          "output_type": "execute_result",
          "data": {
            "text/plain": [
              "-1"
            ]
          },
          "metadata": {
            "tags": []
          },
          "execution_count": 60
        }
      ]
    },
    {
      "cell_type": "code",
      "metadata": {
        "id": "0guI45w8Ezg_",
        "colab_type": "code",
        "colab": {
          "base_uri": "https://localhost:8080/",
          "height": 34
        },
        "outputId": "fc2a3fd2-a48b-4313-87d3-7535b4c15a76"
      },
      "source": [
        "cache.cache"
      ],
      "execution_count": 61,
      "outputs": [
        {
          "output_type": "execute_result",
          "data": {
            "text/plain": [
              "OrderedDict([(1, 1), (3, 3)])"
            ]
          },
          "metadata": {
            "tags": []
          },
          "execution_count": 61
        }
      ]
    },
    {
      "cell_type": "code",
      "metadata": {
        "id": "ca3BKbCeFOfd",
        "colab_type": "code",
        "colab": {
          "base_uri": "https://localhost:8080/",
          "height": 34
        },
        "outputId": "d1695816-f127-47fe-8645-3db1e2d82b4b"
      },
      "source": [
        "cache.put(4, 4)"
      ],
      "execution_count": 62,
      "outputs": [
        {
          "output_type": "stream",
          "text": [
            "case 10\n"
          ],
          "name": "stdout"
        }
      ]
    },
    {
      "cell_type": "code",
      "metadata": {
        "id": "2XH2IcbEFY-v",
        "colab_type": "code",
        "colab": {
          "base_uri": "https://localhost:8080/",
          "height": 34
        },
        "outputId": "fba4fd18-bd16-4d6e-8255-7be9d90a1bb8"
      },
      "source": [
        "cache.cache"
      ],
      "execution_count": 63,
      "outputs": [
        {
          "output_type": "execute_result",
          "data": {
            "text/plain": [
              "OrderedDict([(3, 3), (4, 4)])"
            ]
          },
          "metadata": {
            "tags": []
          },
          "execution_count": 63
        }
      ]
    },
    {
      "cell_type": "code",
      "metadata": {
        "id": "w9uS1JbLFaLM",
        "colab_type": "code",
        "colab": {
          "base_uri": "https://localhost:8080/",
          "height": 34
        },
        "outputId": "50768f09-50ec-401e-c93d-387a9b8985a3"
      },
      "source": [
        "cache.get(1)"
      ],
      "execution_count": 64,
      "outputs": [
        {
          "output_type": "execute_result",
          "data": {
            "text/plain": [
              "-1"
            ]
          },
          "metadata": {
            "tags": []
          },
          "execution_count": 64
        }
      ]
    },
    {
      "cell_type": "code",
      "metadata": {
        "id": "fONZvegNFe3R",
        "colab_type": "code",
        "colab": {
          "base_uri": "https://localhost:8080/",
          "height": 34
        },
        "outputId": "acb12347-af2e-4187-acdb-73122c36676d"
      },
      "source": [
        "cache.cache"
      ],
      "execution_count": 65,
      "outputs": [
        {
          "output_type": "execute_result",
          "data": {
            "text/plain": [
              "OrderedDict([(3, 3), (4, 4)])"
            ]
          },
          "metadata": {
            "tags": []
          },
          "execution_count": 65
        }
      ]
    },
    {
      "cell_type": "code",
      "metadata": {
        "id": "5CTcWXe9Fccj",
        "colab_type": "code",
        "colab": {
          "base_uri": "https://localhost:8080/",
          "height": 34
        },
        "outputId": "ef583054-7cbb-4c4e-ccd9-d537b07bac64"
      },
      "source": [
        "cache.get(3)"
      ],
      "execution_count": 66,
      "outputs": [
        {
          "output_type": "execute_result",
          "data": {
            "text/plain": [
              "3"
            ]
          },
          "metadata": {
            "tags": []
          },
          "execution_count": 66
        }
      ]
    },
    {
      "cell_type": "code",
      "metadata": {
        "id": "_L68vEV5FfeL",
        "colab_type": "code",
        "colab": {
          "base_uri": "https://localhost:8080/",
          "height": 34
        },
        "outputId": "bda98fa8-dda6-4c54-a5e2-e52d86133abe"
      },
      "source": [
        "cache.cache"
      ],
      "execution_count": 67,
      "outputs": [
        {
          "output_type": "execute_result",
          "data": {
            "text/plain": [
              "OrderedDict([(4, 4), (3, 3)])"
            ]
          },
          "metadata": {
            "tags": []
          },
          "execution_count": 67
        }
      ]
    },
    {
      "cell_type": "code",
      "metadata": {
        "id": "KUE4JtJDFfy6",
        "colab_type": "code",
        "colab": {
          "base_uri": "https://localhost:8080/",
          "height": 34
        },
        "outputId": "e6f65939-f048-4551-c7bf-1e054e303dc3"
      },
      "source": [
        "cache.get(4)"
      ],
      "execution_count": 68,
      "outputs": [
        {
          "output_type": "execute_result",
          "data": {
            "text/plain": [
              "4"
            ]
          },
          "metadata": {
            "tags": []
          },
          "execution_count": 68
        }
      ]
    },
    {
      "cell_type": "code",
      "metadata": {
        "id": "PqjNKnNrFjFi",
        "colab_type": "code",
        "colab": {}
      },
      "source": [
        ""
      ],
      "execution_count": 0,
      "outputs": []
    }
  ]
}