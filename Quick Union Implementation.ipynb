{
  "nbformat": 4,
  "nbformat_minor": 0,
  "metadata": {
    "colab": {
      "name": "Quick Union.ipynb",
      "provenance": [],
      "authorship_tag": "ABX9TyMTRcEgRdY/U8j3c8N7ovVF",
      "include_colab_link": true
    },
    "kernelspec": {
      "name": "python3",
      "display_name": "Python 3"
    }
  },
  "cells": [
    {
      "cell_type": "markdown",
      "metadata": {
        "id": "view-in-github",
        "colab_type": "text"
      },
      "source": [
        "<a href=\"https://colab.research.google.com/github/armandordorica/Advanced-Python/blob/master/Quick%20Union%20Implementation.ipynb\" target=\"_parent\"><img src=\"https://colab.research.google.com/assets/colab-badge.svg\" alt=\"Open In Colab\"/></a>"
      ]
    },
    {
      "cell_type": "markdown",
      "metadata": {
        "id": "30rqU_A4Uw2e"
      },
      "source": [
        "Quick Union is a proposed solution to Quick Find, which is too slow for big problems. This is a \"lazy approach\" where we don't do anything unless we have to. \n",
        "\n",
        "* The data structure is the same as Quick Find but with a different interpretation\n",
        "  * Integer array of size N `id[]`\n",
        "  * Interpretation --> `id[i]` is the parent of `i`. \n",
        "  * Root of `i` is `id[id[id[...[id[i]...]]]`\n",
        "* Each entry in the array contains a reference to its parent in the tree. Once we know the roots, we can implement the `find` operation by checking whether the two items we're comparing have the same root. \n",
        "\n",
        "`FIND` --> Check if `p` and `q` have the same root \n",
        "`UNION` --> To merge components containing `p` and `q`, set the id of `p`'s root to the id of `q`'s root. "
      ]
    },
    {
      "cell_type": "code",
      "metadata": {
        "id": "-MXP9Un6dfIl"
      },
      "source": [
        "def get_root(i): \n",
        "  root = ids[i]\n",
        "\n",
        "  while root!=i: \n",
        "    i = root\n",
        "    root = ids[i]\n",
        "    # print(root, i)\n",
        "  return root\n",
        "\n",
        "def connected(p,q): \n",
        "  return get_root(p) == get_root(q)\n",
        "\n",
        "\n",
        "def get_connected_components(ids): \n",
        "  ## Count how many distinct roots you can find \n",
        "  all_roots = []\n",
        "\n",
        "  values = list(set(ids.values()))\n",
        "  for i in range(0, len(values)): \n",
        "    all_roots.append(get_root(values[i]))\n",
        "\n",
        "  return len(set(all_roots))\n"
      ],
      "execution_count": 125,
      "outputs": []
    },
    {
      "cell_type": "code",
      "metadata": {
        "id": "evzG6evKZwB2"
      },
      "source": [
        "N = 10 \n",
        "ids = {}\n",
        "for i in range(0, N): \n",
        "  ids[i]=i"
      ],
      "execution_count": 126,
      "outputs": []
    },
    {
      "cell_type": "code",
      "metadata": {
        "colab": {
          "base_uri": "https://localhost:8080/"
        },
        "id": "3sCsyLY3ZwhV",
        "outputId": "fdd7773a-d0c5-4504-a07e-40a25d09825b"
      },
      "source": [
        "ids"
      ],
      "execution_count": 127,
      "outputs": [
        {
          "output_type": "execute_result",
          "data": {
            "text/plain": [
              "{0: 0, 1: 1, 2: 2, 3: 3, 4: 4, 5: 5, 6: 6, 7: 7, 8: 8, 9: 9}"
            ]
          },
          "metadata": {
            "tags": []
          },
          "execution_count": 127
        }
      ]
    },
    {
      "cell_type": "code",
      "metadata": {
        "id": "LC-3CeiUgb5K"
      },
      "source": [
        "def union(p,q): \n",
        "  ids[get_root(p)] = ids[get_root(q)]\n",
        "  print(ids.values())"
      ],
      "execution_count": 128,
      "outputs": []
    },
    {
      "cell_type": "code",
      "metadata": {
        "colab": {
          "base_uri": "https://localhost:8080/"
        },
        "id": "P_WDVE-WgiPM",
        "outputId": "2163185c-b821-4756-ee0f-f5b658c5e3a7"
      },
      "source": [
        "union(4,3)"
      ],
      "execution_count": 129,
      "outputs": [
        {
          "output_type": "stream",
          "text": [
            "dict_values([0, 1, 2, 3, 3, 5, 6, 7, 8, 9])\n"
          ],
          "name": "stdout"
        }
      ]
    },
    {
      "cell_type": "code",
      "metadata": {
        "colab": {
          "base_uri": "https://localhost:8080/"
        },
        "id": "Ic8iThl1gMF4",
        "outputId": "5c74f180-cded-428f-fd67-91669d9e906b"
      },
      "source": [
        "get_connected_components(ids)"
      ],
      "execution_count": 130,
      "outputs": [
        {
          "output_type": "execute_result",
          "data": {
            "text/plain": [
              "9"
            ]
          },
          "metadata": {
            "tags": []
          },
          "execution_count": 130
        }
      ]
    },
    {
      "cell_type": "code",
      "metadata": {
        "colab": {
          "base_uri": "https://localhost:8080/"
        },
        "id": "EWTUrrDzdtUm",
        "outputId": "fc80f162-7c13-4a13-f4cb-8e263804d41b"
      },
      "source": [
        "union(3,8)"
      ],
      "execution_count": 131,
      "outputs": [
        {
          "output_type": "stream",
          "text": [
            "dict_values([0, 1, 2, 8, 3, 5, 6, 7, 8, 9])\n"
          ],
          "name": "stdout"
        }
      ]
    },
    {
      "cell_type": "code",
      "metadata": {
        "colab": {
          "base_uri": "https://localhost:8080/"
        },
        "id": "GSvQCZhhgP9s",
        "outputId": "f37339ce-5dc9-4b81-d6a0-0a735c584ccb"
      },
      "source": [
        "get_connected_components(ids)"
      ],
      "execution_count": 132,
      "outputs": [
        {
          "output_type": "execute_result",
          "data": {
            "text/plain": [
              "8"
            ]
          },
          "metadata": {
            "tags": []
          },
          "execution_count": 132
        }
      ]
    },
    {
      "cell_type": "code",
      "metadata": {
        "colab": {
          "base_uri": "https://localhost:8080/"
        },
        "id": "ATnRrmDLZw2D",
        "outputId": "e0484244-0fba-4c3c-8635-92448dd2596c"
      },
      "source": [
        "union(6,5)"
      ],
      "execution_count": 133,
      "outputs": [
        {
          "output_type": "stream",
          "text": [
            "dict_values([0, 1, 2, 8, 3, 5, 5, 7, 8, 9])\n"
          ],
          "name": "stdout"
        }
      ]
    },
    {
      "cell_type": "code",
      "metadata": {
        "colab": {
          "base_uri": "https://localhost:8080/"
        },
        "id": "FIeMb4c_aHTc",
        "outputId": "6f0e7a4d-acfb-475b-b3e3-3d2e1a61a597"
      },
      "source": [
        "union(9,4)"
      ],
      "execution_count": 134,
      "outputs": [
        {
          "output_type": "stream",
          "text": [
            "dict_values([0, 1, 2, 8, 3, 5, 5, 7, 8, 8])\n"
          ],
          "name": "stdout"
        }
      ]
    },
    {
      "cell_type": "code",
      "metadata": {
        "colab": {
          "base_uri": "https://localhost:8080/"
        },
        "id": "9ndGdLe8aOLz",
        "outputId": "95e00a9a-021f-46de-daef-d4b8d2750040"
      },
      "source": [
        "union(2,1)"
      ],
      "execution_count": 135,
      "outputs": [
        {
          "output_type": "stream",
          "text": [
            "dict_values([0, 1, 1, 8, 3, 5, 5, 7, 8, 8])\n"
          ],
          "name": "stdout"
        }
      ]
    },
    {
      "cell_type": "code",
      "metadata": {
        "colab": {
          "base_uri": "https://localhost:8080/"
        },
        "id": "Sb1j_oNta47i",
        "outputId": "cab1777c-ecd6-44b3-a89d-21eb3921a016"
      },
      "source": [
        "union(5,0)"
      ],
      "execution_count": 136,
      "outputs": [
        {
          "output_type": "stream",
          "text": [
            "dict_values([0, 1, 1, 8, 3, 0, 5, 7, 8, 8])\n"
          ],
          "name": "stdout"
        }
      ]
    },
    {
      "cell_type": "code",
      "metadata": {
        "colab": {
          "base_uri": "https://localhost:8080/"
        },
        "id": "t84DOPgygXhp",
        "outputId": "4e535fd6-755a-43bf-ccdc-31102fa41407"
      },
      "source": [
        "connected(8,9)"
      ],
      "execution_count": 137,
      "outputs": [
        {
          "output_type": "execute_result",
          "data": {
            "text/plain": [
              "True"
            ]
          },
          "metadata": {
            "tags": []
          },
          "execution_count": 137
        }
      ]
    },
    {
      "cell_type": "code",
      "metadata": {
        "colab": {
          "base_uri": "https://localhost:8080/"
        },
        "id": "xZE8nLv8gZTA",
        "outputId": "ab06af01-c479-4da9-ca1f-a78ce61b37db"
      },
      "source": [
        "connected(5,4)"
      ],
      "execution_count": 139,
      "outputs": [
        {
          "output_type": "execute_result",
          "data": {
            "text/plain": [
              "False"
            ]
          },
          "metadata": {
            "tags": []
          },
          "execution_count": 139
        }
      ]
    },
    {
      "cell_type": "code",
      "metadata": {
        "colab": {
          "base_uri": "https://localhost:8080/"
        },
        "id": "E3BGepTtbEBw",
        "outputId": "15ba2ac5-27e1-4c39-a299-6995b369f034"
      },
      "source": [
        "union(7,2)"
      ],
      "execution_count": 140,
      "outputs": [
        {
          "output_type": "stream",
          "text": [
            "dict_values([0, 1, 1, 8, 3, 0, 5, 1, 8, 8])\n"
          ],
          "name": "stdout"
        }
      ]
    },
    {
      "cell_type": "code",
      "metadata": {
        "colab": {
          "base_uri": "https://localhost:8080/"
        },
        "id": "TyP2w72lcUi8",
        "outputId": "f4ff3869-e0b2-4ad7-83be-9972509a2e38"
      },
      "source": [
        "union(6,1)"
      ],
      "execution_count": 141,
      "outputs": [
        {
          "output_type": "stream",
          "text": [
            "dict_values([1, 1, 1, 8, 3, 0, 5, 1, 8, 8])\n"
          ],
          "name": "stdout"
        }
      ]
    },
    {
      "cell_type": "code",
      "metadata": {
        "colab": {
          "base_uri": "https://localhost:8080/"
        },
        "id": "z2UIM0scct0p",
        "outputId": "60f6135b-ff8a-4242-b73b-c4ac7c2e1a09"
      },
      "source": [
        "union(7,3)"
      ],
      "execution_count": 142,
      "outputs": [
        {
          "output_type": "stream",
          "text": [
            "dict_values([1, 8, 1, 8, 3, 0, 5, 1, 8, 8])\n"
          ],
          "name": "stdout"
        }
      ]
    },
    {
      "cell_type": "code",
      "metadata": {
        "colab": {
          "base_uri": "https://localhost:8080/"
        },
        "id": "11ieQ4ghficc",
        "outputId": "6ad82f58-8f27-4552-a0b9-a413a1fdaba0"
      },
      "source": [
        "get_connected_components(ids)"
      ],
      "execution_count": 143,
      "outputs": [
        {
          "output_type": "execute_result",
          "data": {
            "text/plain": [
              "1"
            ]
          },
          "metadata": {
            "tags": []
          },
          "execution_count": 143
        }
      ]
    }
  ]
}