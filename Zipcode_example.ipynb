{
  "nbformat": 4,
  "nbformat_minor": 0,
  "metadata": {
    "colab": {
      "name": "Zipcode example.ipynb",
      "provenance": [],
      "authorship_tag": "ABX9TyPokS+VKOh1Q7N+GpSeOcyk",
      "include_colab_link": true
    },
    "kernelspec": {
      "name": "python3",
      "display_name": "Python 3"
    }
  },
  "cells": [
    {
      "cell_type": "markdown",
      "metadata": {
        "id": "view-in-github",
        "colab_type": "text"
      },
      "source": [
        "<a href=\"https://colab.research.google.com/github/armandordorica/Advanced-Python/blob/master/Zipcode_example.ipynb\" target=\"_parent\"><img src=\"https://colab.research.google.com/assets/colab-badge.svg\" alt=\"Open In Colab\"/></a>"
      ]
    },
    {
      "cell_type": "code",
      "metadata": {
        "id": "M9DlgsG7AIa8",
        "colab_type": "code",
        "colab": {}
      },
      "source": [
        "import numpy as np"
      ],
      "execution_count": 0,
      "outputs": []
    },
    {
      "cell_type": "code",
      "metadata": {
        "id": "9H7m8z8HCUPg",
        "colab_type": "code",
        "colab": {}
      },
      "source": [
        "# Driver code \n",
        "S = \"121426\"\n",
        "# S = \"523563\"\n",
        "# S = \"552523\""
      ],
      "execution_count": 0,
      "outputs": []
    },
    {
      "cell_type": "code",
      "metadata": {
        "id": "LzD_Hfu0DGbd",
        "colab_type": "code",
        "colab": {
          "base_uri": "https://localhost:8080/",
          "height": 69
        },
        "outputId": "f842fe93-fe8c-4edc-b99e-38417b12af23"
      },
      "source": [
        "determine_valid_zipcode(\"121426\")"
      ],
      "execution_count": 216,
      "outputs": [
        {
          "output_type": "stream",
          "text": [
            "INVALID ZIPCODE. \n",
            " X:1 is an alternating digit\n"
          ],
          "name": "stdout"
        },
        {
          "output_type": "execute_result",
          "data": {
            "text/plain": [
              "False"
            ]
          },
          "metadata": {
            "tags": []
          },
          "execution_count": 216
        }
      ]
    },
    {
      "cell_type": "code",
      "metadata": {
        "id": "c3ByFa9vJYRU",
        "colab_type": "code",
        "colab": {
          "base_uri": "https://localhost:8080/",
          "height": 69
        },
        "outputId": "b9333efe-13d6-4aba-dcde-d5506c804529"
      },
      "source": [
        "determine_valid_zipcode(\"100000\")"
      ],
      "execution_count": 217,
      "outputs": [
        {
          "output_type": "stream",
          "text": [
            "INVALID ZIPCODE. \n",
            " X:0 is an alternating digit\n"
          ],
          "name": "stdout"
        },
        {
          "output_type": "execute_result",
          "data": {
            "text/plain": [
              "False"
            ]
          },
          "metadata": {
            "tags": []
          },
          "execution_count": 217
        }
      ]
    },
    {
      "cell_type": "code",
      "metadata": {
        "id": "D9WqHnExMwUW",
        "colab_type": "code",
        "colab": {}
      },
      "source": [
        "class Zipcode:\n",
        "  def __init__(self, type, zipcode_number):\n",
        "    self.zipcode_number = zipcode_number\n",
        "    if self.determine_valid_zipcode(): \n",
        "      self.zipcode_number = zipcode_number\n",
        "      print(\"Zipcode number = {}\".format(self.zipcode_number))\n",
        "    else:\n",
        "      self.zipcode_number = None\n",
        "      print(\"Please enter a valid zipcode.\")\n",
        "    self.type = type\n",
        "\n",
        "  def shortestDistance(self, S, X): \n",
        "  \n",
        "    # Find distance from occurrences of X \n",
        "    # appearing before current character. \n",
        "    prev = float('-inf') \n",
        "    ans = [] \n",
        "    for i, j in enumerate(S): \n",
        "        if j == X: \n",
        "            prev = i \n",
        "        ans.append(i - prev) \n",
        "  \n",
        "  \n",
        "    # Find distance from occurrences of X \n",
        "    # appearing after current character and \n",
        "    # compare this distance with earlier. \n",
        "    prev = float('inf') \n",
        "    for i in range(len(S) - 1, -1, -1): \n",
        "        if S[i] == X: \n",
        "            prev = i \n",
        "        ans[i] = min(ans[i], prev - i) \n",
        "  \n",
        "    # return array of distance \n",
        "    return ans \n",
        "  \n",
        "  def determine_valid_zipcode(self):\n",
        "    zipcode = self.zipcode_number\n",
        "    lower_bound = 100000\n",
        "    upper_bound = 999999\n",
        "\n",
        "    X_array = list(np.arange(0,10))\n",
        "    counter = 0\n",
        "    for i in range(0, len(X_array)):\n",
        "      X = str(X_array[i])\n",
        "      if X in zipcode:\n",
        "        # print(\"X:{}\".format(X))\n",
        "        shortest_distance = shortestDistance(zipcode, X)\n",
        "        # print(\"Shortest distance for {} is {}\".format(X, shortest_distance))\n",
        "        # print(\"list of indices is:{}\".format(get_indices(shortest_distance)))\n",
        "        list_of_indices= get_indices(shortest_distance)\n",
        "        # print(\"Alternating digits:{}\".format(alternating_digits(list_of_indices)))\n",
        "        if alternating_digits(list_of_indices):\n",
        "          print (\"INVALID ZIPCODE. \\n X:{} is an alternating digit\".format(X))\n",
        "          return False\n",
        "        if  alternating_digits(list_of_indices) ==  False:\n",
        "          counter+=1\n",
        "          # print(\"Counter:\".format(counter))\n",
        "          \n",
        "    if counter == len(list(set(zipcode))): \n",
        "      if (int(zipcode)>= lower_bound and int(zipcode)<= upper_bound):\n",
        "        print(\"VALID ZIPCODE\")\n",
        "        return True \n",
        "      elif(int(zipcode)>= lower_bound and int(zipcode)<= upper_bound) == False:\n",
        "        print((int(zipcode)>= lower_bound and int(zipcode)<= upper_bound))\n",
        "        print(\"INVALID ZIPCODE. LENGTH OUT OF RANGE.\")\n",
        "        return False \n",
        "\n",
        "  def get_indices(self, shortest_distance): \n",
        "    list_of_indices=[]\n",
        "    for i in range(0, len(shortest_distance)):\n",
        "      if shortest_distance[i] == 0:\n",
        "        list_of_indices.append(i)\n",
        "    return list_of_indices\n",
        "\n",
        "  def alternating_digits(self, list_of_indices):\n",
        "    # print(list_of_indices)\n",
        "    for i in range(0, len(list_of_indices)-1):\n",
        "      if (list_of_indices[i+1]-list_of_indices[i]) ==2:\n",
        "        return True\n",
        "    for i in range(0, len(list_of_indices)-2):\n",
        "      if (list_of_indices[i+2]-list_of_indices[i]) ==2:\n",
        "        return True\n",
        "      \n",
        "    return False\n",
        "\n",
        "\n"
      ],
      "execution_count": 0,
      "outputs": []
    },
    {
      "cell_type": "code",
      "metadata": {
        "id": "UOcfHbhnNBQI",
        "colab_type": "code",
        "colab": {
          "base_uri": "https://localhost:8080/",
          "height": 52
        },
        "outputId": "764c0ac4-f627-4431-8564-a5753a60910b"
      },
      "source": [
        "example_zipcode = Zipcode(\"American\", \"123456\")"
      ],
      "execution_count": 219,
      "outputs": [
        {
          "output_type": "stream",
          "text": [
            "VALID ZIPCODE\n",
            "Zipcode number = 123456\n"
          ],
          "name": "stdout"
        }
      ]
    }
  ]
}