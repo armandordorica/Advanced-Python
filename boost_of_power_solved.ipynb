{
  "nbformat": 4,
  "nbformat_minor": 0,
  "metadata": {
    "file_extension": ".py",
    "kernelspec": {
      "display_name": "Python 3",
      "language": "python",
      "name": "python3"
    },
    "language_info": {
      "codemirror_mode": {
        "name": "ipython",
        "version": 3
      },
      "file_extension": ".py",
      "mimetype": "text/x-python",
      "name": "python",
      "nbconvert_exporter": "python",
      "pygments_lexer": "ipython3",
      "version": "3.7.3"
    },
    "mimetype": "text/x-python",
    "name": "python",
    "npconvert_exporter": "python",
    "pygments_lexer": "ipython3",
    "version": 3,
    "colab": {
      "name": "boost_of_power_solved.ipynb",
      "provenance": [],
      "include_colab_link": true
    }
  },
  "cells": [
    {
      "cell_type": "markdown",
      "metadata": {
        "id": "view-in-github",
        "colab_type": "text"
      },
      "source": [
        "<a href=\"https://colab.research.google.com/github/armandordorica/Advanced-Python/blob/master/boost_of_power_solved.ipynb\" target=\"_parent\"><img src=\"https://colab.research.google.com/assets/colab-badge.svg\" alt=\"Open In Colab\"/></a>"
      ]
    },
    {
      "cell_type": "markdown",
      "metadata": {
        "id": "1T4SkKZ9t47R"
      },
      "source": [
        " # Boost of Power"
      ]
    },
    {
      "cell_type": "markdown",
      "metadata": {
        "id": "0grwjUbvt47X"
      },
      "source": [
        " Add some power to your fraud detection algorithm by using a GradientTreeClassifier to leverage ensemble learning."
      ]
    },
    {
      "cell_type": "code",
      "metadata": {
        "id": "xFYd0gvwt47Y"
      },
      "source": [
        "# Initial imports\n",
        "import pandas as pd\n",
        "from pathlib import Path\n",
        "from sklearn import tree\n",
        "from sklearn.preprocessing import StandardScaler\n",
        "from sklearn.model_selection import train_test_split\n",
        "from sklearn.metrics import confusion_matrix\n",
        "from sklearn.metrics import accuracy_score\n",
        "from sklearn.metrics import classification_report\n",
        "from sklearn.ensemble import GradientBoostingClassifier\n",
        "\n",
        "# Needed for decision tree visualization\n",
        "import pydotplus\n",
        "from IPython.display import Image"
      ],
      "execution_count": null,
      "outputs": []
    },
    {
      "cell_type": "markdown",
      "metadata": {
        "id": "WvtaVop7t47Z"
      },
      "source": [
        " ### Preprocessing"
      ]
    },
    {
      "cell_type": "code",
      "metadata": {
        "id": "lv3yWyb-t47Z",
        "outputId": "bc0b6287-a18b-49ac-e312-149f3b8624b1"
      },
      "source": [
        "# Loading data\n",
        "file_path = Path(\"../Resources/sba_loans_encoded.csv\")\n",
        "df_loans = pd.read_csv(file_path)\n",
        "df_loans.head()"
      ],
      "execution_count": null,
      "outputs": [
        {
          "output_type": "execute_result",
          "data": {
            "text/html": [
              "<div>\n",
              "<style scoped>\n",
              "    .dataframe tbody tr th:only-of-type {\n",
              "        vertical-align: middle;\n",
              "    }\n",
              "\n",
              "    .dataframe tbody tr th {\n",
              "        vertical-align: top;\n",
              "    }\n",
              "\n",
              "    .dataframe thead th {\n",
              "        text-align: right;\n",
              "    }\n",
              "</style>\n",
              "<table border=\"1\" class=\"dataframe\">\n",
              "  <thead>\n",
              "    <tr style=\"text-align: right;\">\n",
              "      <th></th>\n",
              "      <th>Year</th>\n",
              "      <th>Month</th>\n",
              "      <th>Amount</th>\n",
              "      <th>Term</th>\n",
              "      <th>Zip</th>\n",
              "      <th>CreateJob</th>\n",
              "      <th>NoEmp</th>\n",
              "      <th>RealEstate</th>\n",
              "      <th>RevLineCr</th>\n",
              "      <th>UrbanRural</th>\n",
              "      <th>...</th>\n",
              "      <th>City_WILLITS</th>\n",
              "      <th>City_WILMINGTON</th>\n",
              "      <th>City_WINDSOR</th>\n",
              "      <th>City_WINNETKA</th>\n",
              "      <th>City_WOODLAND</th>\n",
              "      <th>City_WOODLAND HILLS</th>\n",
              "      <th>City_WRIGHTWOOD</th>\n",
              "      <th>City_Watsonville</th>\n",
              "      <th>City_YORBA LINDA</th>\n",
              "      <th>City_YUBA CITY</th>\n",
              "    </tr>\n",
              "  </thead>\n",
              "  <tbody>\n",
              "    <tr>\n",
              "      <th>0</th>\n",
              "      <td>2001</td>\n",
              "      <td>11</td>\n",
              "      <td>32812</td>\n",
              "      <td>36</td>\n",
              "      <td>92801</td>\n",
              "      <td>0</td>\n",
              "      <td>1</td>\n",
              "      <td>0</td>\n",
              "      <td>1</td>\n",
              "      <td>0</td>\n",
              "      <td>...</td>\n",
              "      <td>0</td>\n",
              "      <td>0</td>\n",
              "      <td>0</td>\n",
              "      <td>0</td>\n",
              "      <td>0</td>\n",
              "      <td>0</td>\n",
              "      <td>0</td>\n",
              "      <td>0</td>\n",
              "      <td>0</td>\n",
              "      <td>0</td>\n",
              "    </tr>\n",
              "    <tr>\n",
              "      <th>1</th>\n",
              "      <td>2001</td>\n",
              "      <td>4</td>\n",
              "      <td>30000</td>\n",
              "      <td>56</td>\n",
              "      <td>90505</td>\n",
              "      <td>0</td>\n",
              "      <td>1</td>\n",
              "      <td>0</td>\n",
              "      <td>1</td>\n",
              "      <td>0</td>\n",
              "      <td>...</td>\n",
              "      <td>0</td>\n",
              "      <td>0</td>\n",
              "      <td>0</td>\n",
              "      <td>0</td>\n",
              "      <td>0</td>\n",
              "      <td>0</td>\n",
              "      <td>0</td>\n",
              "      <td>0</td>\n",
              "      <td>0</td>\n",
              "      <td>0</td>\n",
              "    </tr>\n",
              "    <tr>\n",
              "      <th>2</th>\n",
              "      <td>2001</td>\n",
              "      <td>4</td>\n",
              "      <td>30000</td>\n",
              "      <td>36</td>\n",
              "      <td>92103</td>\n",
              "      <td>0</td>\n",
              "      <td>10</td>\n",
              "      <td>0</td>\n",
              "      <td>1</td>\n",
              "      <td>0</td>\n",
              "      <td>...</td>\n",
              "      <td>0</td>\n",
              "      <td>0</td>\n",
              "      <td>0</td>\n",
              "      <td>0</td>\n",
              "      <td>0</td>\n",
              "      <td>0</td>\n",
              "      <td>0</td>\n",
              "      <td>0</td>\n",
              "      <td>0</td>\n",
              "      <td>0</td>\n",
              "    </tr>\n",
              "    <tr>\n",
              "      <th>3</th>\n",
              "      <td>2003</td>\n",
              "      <td>10</td>\n",
              "      <td>50000</td>\n",
              "      <td>36</td>\n",
              "      <td>92108</td>\n",
              "      <td>0</td>\n",
              "      <td>6</td>\n",
              "      <td>0</td>\n",
              "      <td>1</td>\n",
              "      <td>0</td>\n",
              "      <td>...</td>\n",
              "      <td>0</td>\n",
              "      <td>0</td>\n",
              "      <td>0</td>\n",
              "      <td>0</td>\n",
              "      <td>0</td>\n",
              "      <td>0</td>\n",
              "      <td>0</td>\n",
              "      <td>0</td>\n",
              "      <td>0</td>\n",
              "      <td>0</td>\n",
              "    </tr>\n",
              "    <tr>\n",
              "      <th>4</th>\n",
              "      <td>2006</td>\n",
              "      <td>7</td>\n",
              "      <td>343000</td>\n",
              "      <td>240</td>\n",
              "      <td>91345</td>\n",
              "      <td>3</td>\n",
              "      <td>65</td>\n",
              "      <td>1</td>\n",
              "      <td>0</td>\n",
              "      <td>2</td>\n",
              "      <td>...</td>\n",
              "      <td>0</td>\n",
              "      <td>0</td>\n",
              "      <td>0</td>\n",
              "      <td>0</td>\n",
              "      <td>0</td>\n",
              "      <td>0</td>\n",
              "      <td>0</td>\n",
              "      <td>0</td>\n",
              "      <td>0</td>\n",
              "      <td>0</td>\n",
              "    </tr>\n",
              "  </tbody>\n",
              "</table>\n",
              "<p>5 rows × 684 columns</p>\n",
              "</div>"
            ],
            "text/plain": [
              "   Year  Month  Amount  Term    Zip  CreateJob  NoEmp  RealEstate  RevLineCr  \\\n",
              "0  2001     11   32812    36  92801          0      1           0          1   \n",
              "1  2001      4   30000    56  90505          0      1           0          1   \n",
              "2  2001      4   30000    36  92103          0     10           0          1   \n",
              "3  2003     10   50000    36  92108          0      6           0          1   \n",
              "4  2006      7  343000   240  91345          3     65           1          0   \n",
              "\n",
              "   UrbanRural  ...  City_WILLITS  City_WILMINGTON  City_WINDSOR  \\\n",
              "0           0  ...             0                0             0   \n",
              "1           0  ...             0                0             0   \n",
              "2           0  ...             0                0             0   \n",
              "3           0  ...             0                0             0   \n",
              "4           2  ...             0                0             0   \n",
              "\n",
              "   City_WINNETKA  City_WOODLAND  City_WOODLAND HILLS  City_WRIGHTWOOD  \\\n",
              "0              0              0                    0                0   \n",
              "1              0              0                    0                0   \n",
              "2              0              0                    0                0   \n",
              "3              0              0                    0                0   \n",
              "4              0              0                    0                0   \n",
              "\n",
              "   City_Watsonville  City_YORBA LINDA  City_YUBA CITY  \n",
              "0                 0                 0               0  \n",
              "1                 0                 0               0  \n",
              "2                 0                 0               0  \n",
              "3                 0                 0               0  \n",
              "4                 0                 0               0  \n",
              "\n",
              "[5 rows x 684 columns]"
            ]
          },
          "metadata": {
            "tags": []
          },
          "execution_count": 2
        }
      ]
    },
    {
      "cell_type": "code",
      "metadata": {
        "id": "qCakMBsft47a",
        "outputId": "c84c02ff-a17c-4275-f85e-7c034eeab8a8"
      },
      "source": [
        "# Define features set\n",
        "X = df_loans.copy()\n",
        "X.drop(\"Default\", axis=1, inplace=True)\n",
        "X.head()"
      ],
      "execution_count": null,
      "outputs": [
        {
          "output_type": "execute_result",
          "data": {
            "text/html": [
              "<div>\n",
              "<style scoped>\n",
              "    .dataframe tbody tr th:only-of-type {\n",
              "        vertical-align: middle;\n",
              "    }\n",
              "\n",
              "    .dataframe tbody tr th {\n",
              "        vertical-align: top;\n",
              "    }\n",
              "\n",
              "    .dataframe thead th {\n",
              "        text-align: right;\n",
              "    }\n",
              "</style>\n",
              "<table border=\"1\" class=\"dataframe\">\n",
              "  <thead>\n",
              "    <tr style=\"text-align: right;\">\n",
              "      <th></th>\n",
              "      <th>Year</th>\n",
              "      <th>Month</th>\n",
              "      <th>Amount</th>\n",
              "      <th>Term</th>\n",
              "      <th>Zip</th>\n",
              "      <th>CreateJob</th>\n",
              "      <th>NoEmp</th>\n",
              "      <th>RealEstate</th>\n",
              "      <th>RevLineCr</th>\n",
              "      <th>UrbanRural</th>\n",
              "      <th>...</th>\n",
              "      <th>City_WILLITS</th>\n",
              "      <th>City_WILMINGTON</th>\n",
              "      <th>City_WINDSOR</th>\n",
              "      <th>City_WINNETKA</th>\n",
              "      <th>City_WOODLAND</th>\n",
              "      <th>City_WOODLAND HILLS</th>\n",
              "      <th>City_WRIGHTWOOD</th>\n",
              "      <th>City_Watsonville</th>\n",
              "      <th>City_YORBA LINDA</th>\n",
              "      <th>City_YUBA CITY</th>\n",
              "    </tr>\n",
              "  </thead>\n",
              "  <tbody>\n",
              "    <tr>\n",
              "      <th>0</th>\n",
              "      <td>2001</td>\n",
              "      <td>11</td>\n",
              "      <td>32812</td>\n",
              "      <td>36</td>\n",
              "      <td>92801</td>\n",
              "      <td>0</td>\n",
              "      <td>1</td>\n",
              "      <td>0</td>\n",
              "      <td>1</td>\n",
              "      <td>0</td>\n",
              "      <td>...</td>\n",
              "      <td>0</td>\n",
              "      <td>0</td>\n",
              "      <td>0</td>\n",
              "      <td>0</td>\n",
              "      <td>0</td>\n",
              "      <td>0</td>\n",
              "      <td>0</td>\n",
              "      <td>0</td>\n",
              "      <td>0</td>\n",
              "      <td>0</td>\n",
              "    </tr>\n",
              "    <tr>\n",
              "      <th>1</th>\n",
              "      <td>2001</td>\n",
              "      <td>4</td>\n",
              "      <td>30000</td>\n",
              "      <td>56</td>\n",
              "      <td>90505</td>\n",
              "      <td>0</td>\n",
              "      <td>1</td>\n",
              "      <td>0</td>\n",
              "      <td>1</td>\n",
              "      <td>0</td>\n",
              "      <td>...</td>\n",
              "      <td>0</td>\n",
              "      <td>0</td>\n",
              "      <td>0</td>\n",
              "      <td>0</td>\n",
              "      <td>0</td>\n",
              "      <td>0</td>\n",
              "      <td>0</td>\n",
              "      <td>0</td>\n",
              "      <td>0</td>\n",
              "      <td>0</td>\n",
              "    </tr>\n",
              "    <tr>\n",
              "      <th>2</th>\n",
              "      <td>2001</td>\n",
              "      <td>4</td>\n",
              "      <td>30000</td>\n",
              "      <td>36</td>\n",
              "      <td>92103</td>\n",
              "      <td>0</td>\n",
              "      <td>10</td>\n",
              "      <td>0</td>\n",
              "      <td>1</td>\n",
              "      <td>0</td>\n",
              "      <td>...</td>\n",
              "      <td>0</td>\n",
              "      <td>0</td>\n",
              "      <td>0</td>\n",
              "      <td>0</td>\n",
              "      <td>0</td>\n",
              "      <td>0</td>\n",
              "      <td>0</td>\n",
              "      <td>0</td>\n",
              "      <td>0</td>\n",
              "      <td>0</td>\n",
              "    </tr>\n",
              "    <tr>\n",
              "      <th>3</th>\n",
              "      <td>2003</td>\n",
              "      <td>10</td>\n",
              "      <td>50000</td>\n",
              "      <td>36</td>\n",
              "      <td>92108</td>\n",
              "      <td>0</td>\n",
              "      <td>6</td>\n",
              "      <td>0</td>\n",
              "      <td>1</td>\n",
              "      <td>0</td>\n",
              "      <td>...</td>\n",
              "      <td>0</td>\n",
              "      <td>0</td>\n",
              "      <td>0</td>\n",
              "      <td>0</td>\n",
              "      <td>0</td>\n",
              "      <td>0</td>\n",
              "      <td>0</td>\n",
              "      <td>0</td>\n",
              "      <td>0</td>\n",
              "      <td>0</td>\n",
              "    </tr>\n",
              "    <tr>\n",
              "      <th>4</th>\n",
              "      <td>2006</td>\n",
              "      <td>7</td>\n",
              "      <td>343000</td>\n",
              "      <td>240</td>\n",
              "      <td>91345</td>\n",
              "      <td>3</td>\n",
              "      <td>65</td>\n",
              "      <td>1</td>\n",
              "      <td>0</td>\n",
              "      <td>2</td>\n",
              "      <td>...</td>\n",
              "      <td>0</td>\n",
              "      <td>0</td>\n",
              "      <td>0</td>\n",
              "      <td>0</td>\n",
              "      <td>0</td>\n",
              "      <td>0</td>\n",
              "      <td>0</td>\n",
              "      <td>0</td>\n",
              "      <td>0</td>\n",
              "      <td>0</td>\n",
              "    </tr>\n",
              "  </tbody>\n",
              "</table>\n",
              "<p>5 rows × 683 columns</p>\n",
              "</div>"
            ],
            "text/plain": [
              "   Year  Month  Amount  Term    Zip  CreateJob  NoEmp  RealEstate  RevLineCr  \\\n",
              "0  2001     11   32812    36  92801          0      1           0          1   \n",
              "1  2001      4   30000    56  90505          0      1           0          1   \n",
              "2  2001      4   30000    36  92103          0     10           0          1   \n",
              "3  2003     10   50000    36  92108          0      6           0          1   \n",
              "4  2006      7  343000   240  91345          3     65           1          0   \n",
              "\n",
              "   UrbanRural  ...  City_WILLITS  City_WILMINGTON  City_WINDSOR  \\\n",
              "0           0  ...             0                0             0   \n",
              "1           0  ...             0                0             0   \n",
              "2           0  ...             0                0             0   \n",
              "3           0  ...             0                0             0   \n",
              "4           2  ...             0                0             0   \n",
              "\n",
              "   City_WINNETKA  City_WOODLAND  City_WOODLAND HILLS  City_WRIGHTWOOD  \\\n",
              "0              0              0                    0                0   \n",
              "1              0              0                    0                0   \n",
              "2              0              0                    0                0   \n",
              "3              0              0                    0                0   \n",
              "4              0              0                    0                0   \n",
              "\n",
              "   City_Watsonville  City_YORBA LINDA  City_YUBA CITY  \n",
              "0                 0                 0               0  \n",
              "1                 0                 0               0  \n",
              "2                 0                 0               0  \n",
              "3                 0                 0               0  \n",
              "4                 0                 0               0  \n",
              "\n",
              "[5 rows x 683 columns]"
            ]
          },
          "metadata": {
            "tags": []
          },
          "execution_count": 3
        }
      ]
    },
    {
      "cell_type": "code",
      "metadata": {
        "id": "gK7q2ixYt47b",
        "outputId": "0b01d8d9-a955-42c0-bc2c-ec3eb91130b4"
      },
      "source": [
        "# Define target vector\n",
        "y = df_loans[\"Default\"].values.reshape(-1, 1)\n",
        "y[:5]"
      ],
      "execution_count": null,
      "outputs": [
        {
          "output_type": "execute_result",
          "data": {
            "text/plain": [
              "array([[0],\n",
              "       [0],\n",
              "       [0],\n",
              "       [0],\n",
              "       [0]])"
            ]
          },
          "metadata": {
            "tags": []
          },
          "execution_count": 4
        }
      ]
    },
    {
      "cell_type": "code",
      "metadata": {
        "id": "wY_Fl8vVt47b"
      },
      "source": [
        "# Splitting into Train and Test sets\n",
        "X_train, X_test, y_train, y_test = train_test_split(X, y, random_state=78)"
      ],
      "execution_count": null,
      "outputs": []
    },
    {
      "cell_type": "code",
      "metadata": {
        "id": "Tr70uj4it47b"
      },
      "source": [
        "# Create the StandardScaler instance\n",
        "scaler = StandardScaler()"
      ],
      "execution_count": null,
      "outputs": []
    },
    {
      "cell_type": "code",
      "metadata": {
        "id": "m2h52py4t47c"
      },
      "source": [
        "# Fit the Standard Scaler with the training data\n",
        "X_scaler = scaler.fit(X_train)"
      ],
      "execution_count": null,
      "outputs": []
    },
    {
      "cell_type": "code",
      "metadata": {
        "id": "dZaSN_wOt47c"
      },
      "source": [
        "# Scale the training data\n",
        "X_train_scaled = X_scaler.transform(X_train)\n",
        "X_test_scaled = X_scaler.transform(X_test)"
      ],
      "execution_count": null,
      "outputs": []
    },
    {
      "cell_type": "markdown",
      "metadata": {
        "id": "NZnDCYE-t47d"
      },
      "source": [
        " ### Choose Optimal Learning Rate"
      ]
    },
    {
      "cell_type": "code",
      "metadata": {
        "id": "ZhXIGE6kt47d",
        "outputId": "477fcbcd-b54f-483c-bb62-143fc5cbe971"
      },
      "source": [
        "# Choose learning rate\n",
        "learning_rates = [0.05, 0.1, 0.25, 0.5, 0.75, 1]\n",
        "for learning_rate in learning_rates:\n",
        "    model = GradientBoostingClassifier(\n",
        "        n_estimators=100,\n",
        "        learning_rate=learning_rate,\n",
        "        max_features=2,\n",
        "        max_depth=3,\n",
        "        random_state=0)\n",
        "    model.fit(X_train_scaled,y_train.ravel())\n",
        "    print(\"Learning rate: \", learning_rate)\n",
        "\n",
        "    # Score the model\n",
        "    print(\"Accuracy score (training): {0:.3f}\".format(\n",
        "        model.score(\n",
        "            X_train_scaled,\n",
        "            y_train.ravel())))\n",
        "    print(\"Accuracy score (validation): {0:.3f}\".format(\n",
        "        model.score(\n",
        "            X_test_scaled,\n",
        "            y_test.ravel())))\n",
        "    print()"
      ],
      "execution_count": null,
      "outputs": [
        {
          "output_type": "stream",
          "text": [
            "Learning rate:  0.05\n",
            "Accuracy score (training): 0.683\n",
            "Accuracy score (validation): 0.657\n",
            "\n",
            "Learning rate:  0.1\n",
            "Accuracy score (training): 0.716\n",
            "Accuracy score (validation): 0.670\n",
            "\n",
            "Learning rate:  0.25\n",
            "Accuracy score (training): 0.856\n",
            "Accuracy score (validation): 0.764\n",
            "\n",
            "Learning rate:  0.5\n",
            "Accuracy score (training): 0.926\n",
            "Accuracy score (validation): 0.821\n",
            "\n",
            "Learning rate:  0.75\n",
            "Accuracy score (training): 0.928\n",
            "Accuracy score (validation): 0.819\n",
            "\n",
            "Learning rate:  1\n",
            "Accuracy score (training): 0.927\n",
            "Accuracy score (validation): 0.844\n",
            "\n"
          ],
          "name": "stdout"
        }
      ]
    },
    {
      "cell_type": "markdown",
      "metadata": {
        "id": "KHSLa_Y-t47e"
      },
      "source": [
        " ### Build Model with Optimal Learning Rate"
      ]
    },
    {
      "cell_type": "code",
      "metadata": {
        "id": "_9kLGOX7t47e",
        "outputId": "11608a1a-382b-46fc-b6db-4114db3d9580"
      },
      "source": [
        "# Create GradientBoostingClassifier model\n",
        "model = GradientBoostingClassifier(\n",
        "    n_estimators=500,\n",
        "    learning_rate=1,\n",
        "    max_features=5,\n",
        "    max_depth=3,\n",
        "    random_state=0)\n",
        "\n",
        "# Fit the model\n",
        "model.fit(X_train_scaled,y_train.ravel())\n",
        "\n",
        "# Score the model\n",
        "print(\"Accuracy score (training): {0:.3f}\".format(\n",
        "    model.score(\n",
        "        X_train_scaled,\n",
        "        y_train)))\n",
        "print(\"Accuracy score (validation): {0:.3f}\".format(\n",
        "    model.score(\n",
        "        X_test_scaled,\n",
        "        y_test)))"
      ],
      "execution_count": null,
      "outputs": [
        {
          "output_type": "stream",
          "text": [
            "Accuracy score (training): 1.000\n",
            "Accuracy score (validation): 0.848\n"
          ],
          "name": "stdout"
        }
      ]
    },
    {
      "cell_type": "code",
      "metadata": {
        "id": "xIMMBkvit47f",
        "outputId": "218ebfaf-dad2-4d03-af04-c93e396f62ed"
      },
      "source": [
        "# Make predictions\n",
        "predictions = model.predict(X_test_scaled)\n",
        "\n",
        "# Generate accuracy score for predictions using y_test\n",
        "accuracy_score(y_test, predictions)"
      ],
      "execution_count": null,
      "outputs": [
        {
          "output_type": "execute_result",
          "data": {
            "text/plain": [
              "0.8476190476190476"
            ]
          },
          "metadata": {
            "tags": []
          },
          "execution_count": 11
        }
      ]
    },
    {
      "cell_type": "markdown",
      "metadata": {
        "id": "6GRG0BK9t47f"
      },
      "source": [
        " ### Model Evaluation"
      ]
    },
    {
      "cell_type": "code",
      "metadata": {
        "id": "XfEjrjBKt47f",
        "outputId": "67684aab-0226-43c5-a069-5a87ee678e1e"
      },
      "source": [
        "# Generatring the confusion matrix\n",
        "cm = confusion_matrix(y_test, predictions)\n",
        "cm_df = pd.DataFrame(\n",
        "    cm, index=[\"Actual 0\", \"Actual 1\"], columns=[\n",
        "        \"Predicted 0\",\n",
        "        \"Predicted 1\"\n",
        "    ]\n",
        ")\n",
        "\n",
        "display(cm_df)"
      ],
      "execution_count": null,
      "outputs": [
        {
          "output_type": "display_data",
          "data": {
            "text/html": [
              "<div>\n",
              "<style scoped>\n",
              "    .dataframe tbody tr th:only-of-type {\n",
              "        vertical-align: middle;\n",
              "    }\n",
              "\n",
              "    .dataframe tbody tr th {\n",
              "        vertical-align: top;\n",
              "    }\n",
              "\n",
              "    .dataframe thead th {\n",
              "        text-align: right;\n",
              "    }\n",
              "</style>\n",
              "<table border=\"1\" class=\"dataframe\">\n",
              "  <thead>\n",
              "    <tr style=\"text-align: right;\">\n",
              "      <th></th>\n",
              "      <th>Predicted 0</th>\n",
              "      <th>Predicted 1</th>\n",
              "    </tr>\n",
              "  </thead>\n",
              "  <tbody>\n",
              "    <tr>\n",
              "      <th>Actual 0</th>\n",
              "      <td>307</td>\n",
              "      <td>37</td>\n",
              "    </tr>\n",
              "    <tr>\n",
              "      <th>Actual 1</th>\n",
              "      <td>43</td>\n",
              "      <td>138</td>\n",
              "    </tr>\n",
              "  </tbody>\n",
              "</table>\n",
              "</div>"
            ],
            "text/plain": [
              "          Predicted 0  Predicted 1\n",
              "Actual 0          307           37\n",
              "Actual 1           43          138"
            ]
          },
          "metadata": {
            "tags": []
          }
        }
      ]
    },
    {
      "cell_type": "code",
      "metadata": {
        "id": "Rl-hmu2at47g",
        "outputId": "80c15754-8f99-415c-a399-bf3f307d9b97"
      },
      "source": [
        "# Generate classification report\n",
        "print(classification_report(y_test, predictions))"
      ],
      "execution_count": null,
      "outputs": [
        {
          "output_type": "stream",
          "text": [
            "              precision    recall  f1-score   support\n",
            "\n",
            "           0       0.88      0.89      0.88       344\n",
            "           1       0.79      0.76      0.78       181\n",
            "\n",
            "    accuracy                           0.85       525\n",
            "   macro avg       0.83      0.83      0.83       525\n",
            "weighted avg       0.85      0.85      0.85       525\n",
            "\n"
          ],
          "name": "stdout"
        }
      ]
    }
  ]
}