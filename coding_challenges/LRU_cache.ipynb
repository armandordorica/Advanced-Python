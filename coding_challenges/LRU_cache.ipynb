{
  "nbformat": 4,
  "nbformat_minor": 0,
  "metadata": {
    "colab": {
      "name": "LRU_cache.ipynb",
      "provenance": [],
      "collapsed_sections": [],
      "authorship_tag": "ABX9TyMKAekGF9FeHtmmlBhh2Z0y",
      "include_colab_link": true
    },
    "kernelspec": {
      "name": "python3",
      "display_name": "Python 3"
    }
  },
  "cells": [
    {
      "cell_type": "markdown",
      "metadata": {
        "id": "view-in-github",
        "colab_type": "text"
      },
      "source": [
        "<a href=\"https://colab.research.google.com/github/armandordorica/Advanced-Python/blob/master/coding_challenges/LRU_cache.ipynb\" target=\"_parent\"><img src=\"https://colab.research.google.com/assets/colab-badge.svg\" alt=\"Open In Colab\"/></a>"
      ]
    },
    {
      "cell_type": "code",
      "metadata": {
        "id": "a-EM2bcgQNrn",
        "colab_type": "code",
        "colab": {}
      },
      "source": [
        "\n",
        "class LRUCache:\n",
        "  def __init__(self, capacity):\n",
        "    self.capacity = capacity \n",
        "    self.cache = {}\n",
        "    self.queue = []\n",
        "\n",
        "  def put(self, key, value): \n",
        "    print(\"queue size:{}, capacity:{}\".format(len(self.queue), self.capacity))\n",
        "    if len(self.cache.keys()) < self.capacity and key not in self.cache:\n",
        "      self.cache[key] = value \n",
        "      print(\"there is still capacity and key is not in cache\")\n",
        "      if key in self.queue: \n",
        "        self.queue.remove(key)\n",
        "      self.queue.append(key)\n",
        "      print(\"cache is now:{}, queue is: {}\".format(self.cache, self.queue))\n",
        "      return self.cache\n",
        "    \n",
        "\n",
        "    if len(self.cache.keys()) <= self.capacity and key in self.cache:\n",
        "      self.cache[key] = value \n",
        "      print(\"there is still capacity and key is not in cache\")\n",
        "      if key in self.queue: \n",
        "        self.queue.remove(key)\n",
        "      self.queue.append(key)\n",
        "      print(\"cache is now:{}, queue is: {}\".format(self.cache, self.queue))\n",
        "\n",
        "      return self.cache\n",
        "    print(\"cache is now:{}, queue is: {}\".format(self.cache, self.queue))\n",
        "    \n",
        "    if len(self.cache.keys()) == self.capacity and key not in self.cache: \n",
        "      print(\"full capacity in cache\")\n",
        "      print(\"LRU key to be evicted is:{}\".format(self.queue[0]))\n",
        "      self.cache.pop(self.queue[0])\n",
        "      self.queue.pop(0) ## removing least recently used item \n",
        "      self.cache[key] = value \n",
        "    if key in self.queue: \n",
        "      self.queue.remove(key)\n",
        "    self.queue.append(key)\n",
        "    print(\"cache is now:{}, queue is: {}\".format(self.cache, self.queue))\n",
        "\n",
        "    return self.cache\n",
        "\n",
        "  def get(self, key): \n",
        "    if key not in self.cache:\n",
        "      print(\"key not found!\")\n",
        "      return -1\n",
        "    if key in self.queue: \n",
        "      self.queue.remove(key)\n",
        "    self.queue.append(key)\n",
        "    print(\"getting key:{}... cache is now:{}, queue is: {}\".format(key, self.cache, self.queue))\n",
        "    return self.cache[key]"
      ],
      "execution_count": 0,
      "outputs": []
    },
    {
      "cell_type": "code",
      "metadata": {
        "id": "SANrFLlcdORt",
        "colab_type": "code",
        "colab": {}
      },
      "source": [
        "cache = LRUCache(2)"
      ],
      "execution_count": 0,
      "outputs": []
    },
    {
      "cell_type": "code",
      "metadata": {
        "id": "wYSTZWnNerpx",
        "colab_type": "code",
        "colab": {
          "base_uri": "https://localhost:8080/",
          "height": 52
        },
        "outputId": "5ea49491-17cb-4d6f-ca75-bbfdd99368e6"
      },
      "source": [
        "cache.get(2)"
      ],
      "execution_count": 197,
      "outputs": [
        {
          "output_type": "stream",
          "text": [
            "key not found!\n"
          ],
          "name": "stdout"
        },
        {
          "output_type": "execute_result",
          "data": {
            "text/plain": [
              "-1"
            ]
          },
          "metadata": {
            "tags": []
          },
          "execution_count": 197
        }
      ]
    },
    {
      "cell_type": "code",
      "metadata": {
        "id": "Sm2TlgNxeuyP",
        "colab_type": "code",
        "colab": {
          "base_uri": "https://localhost:8080/",
          "height": 88
        },
        "outputId": "492051ad-ed74-409c-d039-b7c9461327ee"
      },
      "source": [
        "cache.put(2,6)"
      ],
      "execution_count": 198,
      "outputs": [
        {
          "output_type": "stream",
          "text": [
            "queue size:0, capacity:2\n",
            "there is still capacity and key is not in cache\n",
            "cache is now:{2: 6}, queue is: [2]\n"
          ],
          "name": "stdout"
        },
        {
          "output_type": "execute_result",
          "data": {
            "text/plain": [
              "{2: 6}"
            ]
          },
          "metadata": {
            "tags": []
          },
          "execution_count": 198
        }
      ]
    },
    {
      "cell_type": "code",
      "metadata": {
        "id": "XZTSqByFfloz",
        "colab_type": "code",
        "colab": {
          "base_uri": "https://localhost:8080/",
          "height": 52
        },
        "outputId": "7dc976eb-9082-49f5-d023-65c1b8829122"
      },
      "source": [
        "cache.get(1)"
      ],
      "execution_count": 199,
      "outputs": [
        {
          "output_type": "stream",
          "text": [
            "key not found!\n"
          ],
          "name": "stdout"
        },
        {
          "output_type": "execute_result",
          "data": {
            "text/plain": [
              "-1"
            ]
          },
          "metadata": {
            "tags": []
          },
          "execution_count": 199
        }
      ]
    },
    {
      "cell_type": "code",
      "metadata": {
        "id": "Oq22Y4jTfJvi",
        "colab_type": "code",
        "colab": {
          "base_uri": "https://localhost:8080/",
          "height": 88
        },
        "outputId": "61683447-1e89-43be-eaf2-4fe1932bcb26"
      },
      "source": [
        "cache.put(1,5)"
      ],
      "execution_count": 200,
      "outputs": [
        {
          "output_type": "stream",
          "text": [
            "queue size:1, capacity:2\n",
            "there is still capacity and key is not in cache\n",
            "cache is now:{2: 6, 1: 5}, queue is: [2, 1]\n"
          ],
          "name": "stdout"
        },
        {
          "output_type": "execute_result",
          "data": {
            "text/plain": [
              "{1: 5, 2: 6}"
            ]
          },
          "metadata": {
            "tags": []
          },
          "execution_count": 200
        }
      ]
    },
    {
      "cell_type": "code",
      "metadata": {
        "id": "u8fkuW7ljAPo",
        "colab_type": "code",
        "colab": {
          "base_uri": "https://localhost:8080/",
          "height": 88
        },
        "outputId": "5d28676d-ed1f-47d6-fb82-808dc1c854d0"
      },
      "source": [
        "cache.put(1,2)"
      ],
      "execution_count": 201,
      "outputs": [
        {
          "output_type": "stream",
          "text": [
            "queue size:2, capacity:2\n",
            "there is still capacity and key is not in cache\n",
            "cache is now:{2: 6, 1: 2}, queue is: [2, 1]\n"
          ],
          "name": "stdout"
        },
        {
          "output_type": "execute_result",
          "data": {
            "text/plain": [
              "{1: 2, 2: 6}"
            ]
          },
          "metadata": {
            "tags": []
          },
          "execution_count": 201
        }
      ]
    },
    {
      "cell_type": "code",
      "metadata": {
        "id": "rW6ewt_lfMf6",
        "colab_type": "code",
        "colab": {
          "base_uri": "https://localhost:8080/",
          "height": 52
        },
        "outputId": "2173e5bc-e7d4-471f-8131-d7b89ec32e25"
      },
      "source": [
        "cache.get(1)"
      ],
      "execution_count": 202,
      "outputs": [
        {
          "output_type": "stream",
          "text": [
            "getting key:1... cache is now:{2: 6, 1: 2}, queue is: [2, 1]\n"
          ],
          "name": "stdout"
        },
        {
          "output_type": "execute_result",
          "data": {
            "text/plain": [
              "2"
            ]
          },
          "metadata": {
            "tags": []
          },
          "execution_count": 202
        }
      ]
    },
    {
      "cell_type": "code",
      "metadata": {
        "id": "Ki1H3PZLgN0x",
        "colab_type": "code",
        "colab": {
          "base_uri": "https://localhost:8080/",
          "height": 52
        },
        "outputId": "f9bcd81d-86d8-49c8-9a2e-25a11358509b"
      },
      "source": [
        "cache.get(2)"
      ],
      "execution_count": 203,
      "outputs": [
        {
          "output_type": "stream",
          "text": [
            "getting key:2... cache is now:{2: 6, 1: 2}, queue is: [1, 2]\n"
          ],
          "name": "stdout"
        },
        {
          "output_type": "execute_result",
          "data": {
            "text/plain": [
              "6"
            ]
          },
          "metadata": {
            "tags": []
          },
          "execution_count": 203
        }
      ]
    },
    {
      "cell_type": "code",
      "metadata": {
        "id": "4bWv7hIOgxUb",
        "colab_type": "code",
        "colab": {
          "base_uri": "https://localhost:8080/",
          "height": 106
        },
        "outputId": "cf9f0a80-739d-44f9-a99e-2a808883da6a"
      },
      "source": [
        "cache.put(4, 4)"
      ],
      "execution_count": 149,
      "outputs": [
        {
          "output_type": "stream",
          "text": [
            "queue size:2, capacity:2\n",
            "cache is now:{1: 1, 3: 3}, queue is: [1, 3]\n",
            "full capacity in cache\n",
            "LRU key to be evicted is:1\n"
          ],
          "name": "stdout"
        },
        {
          "output_type": "execute_result",
          "data": {
            "text/plain": [
              "{3: 3, 4: 4}"
            ]
          },
          "metadata": {
            "tags": []
          },
          "execution_count": 149
        }
      ]
    },
    {
      "cell_type": "code",
      "metadata": {
        "id": "d8nwwGDmgnRm",
        "colab_type": "code",
        "colab": {
          "base_uri": "https://localhost:8080/",
          "height": 52
        },
        "outputId": "c8a60608-5f19-4b34-c660-c1b876f14395"
      },
      "source": [
        "cache.get(1)"
      ],
      "execution_count": 150,
      "outputs": [
        {
          "output_type": "stream",
          "text": [
            "key not found!\n"
          ],
          "name": "stdout"
        },
        {
          "output_type": "execute_result",
          "data": {
            "text/plain": [
              "-1"
            ]
          },
          "metadata": {
            "tags": []
          },
          "execution_count": 150
        }
      ]
    },
    {
      "cell_type": "code",
      "metadata": {
        "id": "I7GA6MtVgsRU",
        "colab_type": "code",
        "colab": {
          "base_uri": "https://localhost:8080/",
          "height": 52
        },
        "outputId": "961e856f-d7eb-4da0-8b56-13516535195e"
      },
      "source": [
        "cache.get(3)"
      ],
      "execution_count": 151,
      "outputs": [
        {
          "output_type": "stream",
          "text": [
            "getting key:3... cache is now:{3: 3, 4: 4}, queue is: [4, 3]\n"
          ],
          "name": "stdout"
        },
        {
          "output_type": "execute_result",
          "data": {
            "text/plain": [
              "3"
            ]
          },
          "metadata": {
            "tags": []
          },
          "execution_count": 151
        }
      ]
    },
    {
      "cell_type": "code",
      "metadata": {
        "id": "HiWVWgrtg3IM",
        "colab_type": "code",
        "colab": {
          "base_uri": "https://localhost:8080/",
          "height": 52
        },
        "outputId": "022a7bce-a6f2-4694-b7ad-b0970a4ecc17"
      },
      "source": [
        "cache.get(4)"
      ],
      "execution_count": 152,
      "outputs": [
        {
          "output_type": "stream",
          "text": [
            "getting key:4... cache is now:{3: 3, 4: 4}, queue is: [3, 4]\n"
          ],
          "name": "stdout"
        },
        {
          "output_type": "execute_result",
          "data": {
            "text/plain": [
              "4"
            ]
          },
          "metadata": {
            "tags": []
          },
          "execution_count": 152
        }
      ]
    },
    {
      "cell_type": "code",
      "metadata": {
        "id": "hJ4XJJnVg5CK",
        "colab_type": "code",
        "colab": {}
      },
      "source": [
        ""
      ],
      "execution_count": 0,
      "outputs": []
    }
  ]
}