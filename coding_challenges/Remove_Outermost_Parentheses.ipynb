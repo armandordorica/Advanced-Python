{
  "nbformat": 4,
  "nbformat_minor": 0,
  "metadata": {
    "colab": {
      "name": " Remove Outermost Parentheses.ipynb",
      "provenance": [],
      "authorship_tag": "ABX9TyOl+VKM7j0Euq/UR8jYO8MZ",
      "include_colab_link": true
    },
    "kernelspec": {
      "name": "python3",
      "display_name": "Python 3"
    }
  },
  "cells": [
    {
      "cell_type": "markdown",
      "metadata": {
        "id": "view-in-github",
        "colab_type": "text"
      },
      "source": [
        "<a href=\"https://colab.research.google.com/github/armandordorica/Advanced-Python/blob/master/coding_challenges/Remove_Outermost_Parentheses.ipynb\" target=\"_parent\"><img src=\"https://colab.research.google.com/assets/colab-badge.svg\" alt=\"Open In Colab\"/></a>"
      ]
    },
    {
      "cell_type": "code",
      "metadata": {
        "id": "DYmNwVSwQOen",
        "colab_type": "code",
        "colab": {}
      },
      "source": [
        "\n",
        "def concatenate_list_data(list):\n",
        "    result= ''\n",
        "    for element in list:\n",
        "        result += str(element)\n",
        "    return result\n",
        "\n",
        "def list_to_string(input): \n",
        "  input = input[1:-1]\n",
        "  if len(input)>0: \n",
        "    final_string = '('\n",
        "    for i in range(0, len(input)-1):\n",
        "      if (input[i+1] < input[i]):\n",
        "        final_string+= ')'\n",
        "      if (input[i+1] > input[i]):\n",
        "        final_string+= '('\n",
        "    return final_string\n",
        "  return ''\n",
        "\n",
        "def remove_outer_parentheses(s):\n",
        "  cum_sum = 0\n",
        "  sum_array = []\n",
        "  for i in range(0, len(s)):\n",
        "    if s[i] == '(':\n",
        "      cum_sum +=1\n",
        "    if s[i] == ')':\n",
        "      cum_sum -=1\n",
        "    sum_array.append(cum_sum)\n",
        "  sum_array\n",
        "  test_list = sum_array\n",
        "  \n",
        "  # printing original list \n",
        "  #print(\"The original list : \" + str(test_list)) \n",
        "    \n",
        "  # using list comprehension + zip() + slicing + enumerate() \n",
        "  # Split list into lists by particular value \n",
        "  size = len(test_list) \n",
        "  idx_list = [idx + 1 for idx, val in\n",
        "              enumerate(test_list) if val == 0] \n",
        "    \n",
        "    \n",
        "  res = [test_list[i: j] for i, j in\n",
        "          zip([0] + idx_list, idx_list + \n",
        "          ([size] if idx_list[-1] != size else []))] \n",
        "    \n",
        "  # print result \n",
        "  #print(str(res))\n",
        "\n",
        "  result =res\n",
        "  final_string = ''\n",
        "  for i in range(0, len(result)):\n",
        "    #print(list_to_string(result[i]))\n",
        "    final_string+=list_to_string(result[i])\n",
        "\n",
        "\n",
        "  return final_string\n"
      ],
      "execution_count": 0,
      "outputs": []
    },
    {
      "cell_type": "code",
      "metadata": {
        "id": "DauDBOzhQa1s",
        "colab_type": "code",
        "colab": {
          "base_uri": "https://localhost:8080/",
          "height": 34
        },
        "outputId": "6e30432d-e5b6-4566-9c8b-1b6e71e7de51"
      },
      "source": [
        "input1 =\"(()())(())\"\n",
        "output1 = \"()()()\"\n",
        "output1 == remove_outer_parentheses(input1)"
      ],
      "execution_count": 57,
      "outputs": [
        {
          "output_type": "execute_result",
          "data": {
            "text/plain": [
              "True"
            ]
          },
          "metadata": {
            "tags": []
          },
          "execution_count": 57
        }
      ]
    },
    {
      "cell_type": "code",
      "metadata": {
        "id": "ydc2PBApQn5x",
        "colab_type": "code",
        "colab": {
          "base_uri": "https://localhost:8080/",
          "height": 34
        },
        "outputId": "433fac01-8423-475c-86e6-2fa1616f87bc"
      },
      "source": [
        "input2 =\"(()())(())(()(()))\"\n",
        "output2 =\"()()()()(())\"\n",
        "output2 == remove_outer_parentheses(input2)\n"
      ],
      "execution_count": 58,
      "outputs": [
        {
          "output_type": "execute_result",
          "data": {
            "text/plain": [
              "True"
            ]
          },
          "metadata": {
            "tags": []
          },
          "execution_count": 58
        }
      ]
    },
    {
      "cell_type": "code",
      "metadata": {
        "id": "Ws3qaZbrQsEK",
        "colab_type": "code",
        "colab": {
          "base_uri": "https://localhost:8080/",
          "height": 34
        },
        "outputId": "b3a18c3f-759c-40d8-f254-6cf0247b51a6"
      },
      "source": [
        "input3 =\"()()\"\n",
        "output3 = \"\"\n",
        "output3 == remove_outer_parentheses(input3)"
      ],
      "execution_count": 59,
      "outputs": [
        {
          "output_type": "execute_result",
          "data": {
            "text/plain": [
              "True"
            ]
          },
          "metadata": {
            "tags": []
          },
          "execution_count": 59
        }
      ]
    },
    {
      "cell_type": "code",
      "metadata": {
        "id": "5atzNLqNQuL6",
        "colab_type": "code",
        "colab": {
          "base_uri": "https://localhost:8080/",
          "height": 34
        },
        "outputId": "ef9f5d65-8317-484c-ec32-949b8ce71273"
      },
      "source": [
        "input4 =\"()()()()()()()()()()\"\n",
        "output4 =\"\"\n",
        "output4 == remove_outer_parentheses(input4)"
      ],
      "execution_count": 60,
      "outputs": [
        {
          "output_type": "execute_result",
          "data": {
            "text/plain": [
              "True"
            ]
          },
          "metadata": {
            "tags": []
          },
          "execution_count": 60
        }
      ]
    },
    {
      "cell_type": "code",
      "metadata": {
        "id": "2boGmiUARz9T",
        "colab_type": "code",
        "colab": {
          "base_uri": "https://localhost:8080/",
          "height": 34
        },
        "outputId": "1e6c277d-62d0-4aaf-ae67-071b906c2881"
      },
      "source": [
        "input5 =\"(()(()))()\"\n",
        "output5 =\"()(())\"\n",
        "output5 == remove_outer_parentheses(input5)"
      ],
      "execution_count": 61,
      "outputs": [
        {
          "output_type": "execute_result",
          "data": {
            "text/plain": [
              "True"
            ]
          },
          "metadata": {
            "tags": []
          },
          "execution_count": 61
        }
      ]
    },
    {
      "cell_type": "code",
      "metadata": {
        "id": "9fAWL2s0T5E-",
        "colab_type": "code",
        "colab": {
          "base_uri": "https://localhost:8080/",
          "height": 34
        },
        "outputId": "bad1c640-d57c-4992-b8b4-f97abf9eb242"
      },
      "source": [
        "input6 = \"()()()()(())\"\n",
        "output6 = \"()\"\n",
        "output6 == remove_outer_parentheses(input6)"
      ],
      "execution_count": 62,
      "outputs": [
        {
          "output_type": "execute_result",
          "data": {
            "text/plain": [
              "True"
            ]
          },
          "metadata": {
            "tags": []
          },
          "execution_count": 62
        }
      ]
    },
    {
      "cell_type": "code",
      "metadata": {
        "id": "WdMjQc_YSZgM",
        "colab_type": "code",
        "colab": {
          "base_uri": "https://localhost:8080/",
          "height": 34
        },
        "outputId": "292e0f10-e9dc-4b4b-d162-c15ceda8bd8a"
      },
      "source": [
        "input7 = \"(()())()(())\"\n",
        "output7 = \"()()()\"\n",
        "output7 == remove_outer_parentheses(input7)"
      ],
      "execution_count": 63,
      "outputs": [
        {
          "output_type": "execute_result",
          "data": {
            "text/plain": [
              "True"
            ]
          },
          "metadata": {
            "tags": []
          },
          "execution_count": 63
        }
      ]
    },
    {
      "cell_type": "code",
      "metadata": {
        "id": "YBySYOYQUNB0",
        "colab_type": "code",
        "colab": {
          "base_uri": "https://localhost:8080/",
          "height": 34
        },
        "outputId": "ef38dee8-b80e-4889-aab4-8518d090c649"
      },
      "source": [
        "\n",
        "input8 = \"()(())()()()(())\"\n",
        "output8 = \"()()\"\n",
        "output8 == remove_outer_parentheses(input8)"
      ],
      "execution_count": 64,
      "outputs": [
        {
          "output_type": "execute_result",
          "data": {
            "text/plain": [
              "True"
            ]
          },
          "metadata": {
            "tags": []
          },
          "execution_count": 64
        }
      ]
    },
    {
      "cell_type": "code",
      "metadata": {
        "id": "VXz-DBkGUOVl",
        "colab_type": "code",
        "colab": {}
      },
      "source": [
        ""
      ],
      "execution_count": 0,
      "outputs": []
    }
  ]
}