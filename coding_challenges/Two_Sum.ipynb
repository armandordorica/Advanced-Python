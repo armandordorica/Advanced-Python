{
  "nbformat": 4,
  "nbformat_minor": 0,
  "metadata": {
    "colab": {
      "name": "Two Sum.ipynb",
      "provenance": [],
      "authorship_tag": "ABX9TyPzt2Nh3Iwwe7DpUk+4YyQo",
      "include_colab_link": true
    },
    "kernelspec": {
      "name": "python3",
      "display_name": "Python 3"
    }
  },
  "cells": [
    {
      "cell_type": "markdown",
      "metadata": {
        "id": "view-in-github",
        "colab_type": "text"
      },
      "source": [
        "<a href=\"https://colab.research.google.com/github/armandordorica/Advanced-Python/blob/master/coding_challenges/Two_Sum.ipynb\" target=\"_parent\"><img src=\"https://colab.research.google.com/assets/colab-badge.svg\" alt=\"Open In Colab\"/></a>"
      ]
    },
    {
      "cell_type": "markdown",
      "metadata": {
        "id": "_nOOfKjXWUCA",
        "colab_type": "text"
      },
      "source": [
        "Given an array of integers, return indices of the two numbers such that they add up to a specific target.\n",
        "\n",
        "You may assume that each input would have exactly one solution, and you may not use the same element twice.\n",
        "```\n",
        "Example:\n",
        "\n",
        "Given nums = [2, 7, 11, 15], target = 9,\n",
        "\n",
        "Because nums[0] + nums[1] = 2 + 7 = 9,\n",
        "return [0, 1].\n",
        "```"
      ]
    },
    {
      "cell_type": "markdown",
      "metadata": {
        "id": "YfLnVqz3qqrV",
        "colab_type": "text"
      },
      "source": [
        "### Brute Force"
      ]
    },
    {
      "cell_type": "code",
      "metadata": {
        "id": "Vy9BSU7fYJ1r",
        "colab_type": "code",
        "colab": {}
      },
      "source": [
        "import copy\n",
        "from itertools import combinations\n",
        "\n",
        "# Time complexity: O(n^2)\n",
        "# Space complexity: Constant \n",
        "\n",
        "input = [-3,4,3,90]\n",
        "target = 0\n",
        "\n",
        "def two_sum_brute_force(input_list, target):\n",
        "  input_list = copy.deepcopy(input_list)\n",
        "  possibilities = list(combinations(input_list, 2))\n",
        "  numbers = []\n",
        "  indices = []\n",
        "  for i in range(0, len(possibilities)):\n",
        "    if possibilities[i][0] + possibilities[i][1] == target:\n",
        "      if possibilities[i][0] == possibilities[i][1]: \n",
        "        indices = [j for j, x in enumerate(input_list) if x == possibilities[i][0]]\n",
        "        return indices\n",
        "      else: \n",
        "        numbers.append(possibilities[i])\n",
        "        indices.append(input_list.index(possibilities[i][0]))\n",
        "        indices.append(input_list.index(possibilities[i][1]))\n",
        "  return indices"
      ],
      "execution_count": 0,
      "outputs": []
    },
    {
      "cell_type": "markdown",
      "metadata": {
        "id": "kHBItpxbhV5v",
        "colab_type": "text"
      },
      "source": [
        "Add each element of the array as we process it one by one and add it to a hash table. \n",
        "Test whether or not target - the element is present in the hash table. If it is, we know that we've\n",
        "found the element we're looking for. "
      ]
    },
    {
      "cell_type": "markdown",
      "metadata": {
        "id": "3d_jW0hXqsfc",
        "colab_type": "text"
      },
      "source": [
        "### Hash Table"
      ]
    },
    {
      "cell_type": "code",
      "metadata": {
        "id": "X7S29to4doxW",
        "colab_type": "code",
        "colab": {}
      },
      "source": [
        "A = [2, 7, 11, 15]"
      ],
      "execution_count": 0,
      "outputs": []
    },
    {
      "cell_type": "code",
      "metadata": {
        "id": "u_wIJSnchZGB",
        "colab_type": "code",
        "colab": {}
      },
      "source": [
        "target = 9"
      ],
      "execution_count": 0,
      "outputs": []
    },
    {
      "cell_type": "code",
      "metadata": {
        "id": "VNvPhLm0iMcI",
        "colab_type": "code",
        "colab": {}
      },
      "source": [
        "def two_sum_hash_table(input_list, target): \n",
        "  A = copy.deepcopy(input_list)\n",
        "  ht = dict()\n",
        "  for i in range(0, len(A)):\n",
        "    ## If the element is present in our table, we've found a match \n",
        "    if A[i] in ht: \n",
        "      # print (A[i], ht[A[i]])\n",
        "      return (A[i], ht[A[i]])\n",
        "    else: \n",
        "      ht[target - A[i]] = A[i]\n",
        "  return False\n",
        "\n"
      ],
      "execution_count": 0,
      "outputs": []
    },
    {
      "cell_type": "code",
      "metadata": {
        "id": "odjjqIWbiMSy",
        "colab_type": "code",
        "colab": {}
      },
      "source": [
        "input_list = [2, 7, 11, 15,11]\n",
        "target = 9"
      ],
      "execution_count": 0,
      "outputs": []
    },
    {
      "cell_type": "code",
      "metadata": {
        "id": "_-T6B3I1hcn_",
        "colab_type": "code",
        "colab": {}
      },
      "source": [
        "def get_indices(mylist, number):\n",
        "  l1 = copy.deepcopy(mylist)\n",
        "  indices = [j for j, x in enumerate(l1) if x == number]\n",
        "  return indices\n"
      ],
      "execution_count": 0,
      "outputs": []
    },
    {
      "cell_type": "code",
      "metadata": {
        "id": "E9kKrB9zpFdS",
        "colab_type": "code",
        "colab": {}
      },
      "source": [
        "def get_all_indices(input_list_, target):\n",
        "  input_list =copy.deepcopy(input_list_)\n",
        "  elements = two_sum_hash_table(input_list, target)\n",
        "  indices= []\n",
        "\n",
        "  for i in range(len(elements)):\n",
        "    indices.append(get_indices(input_list, elements[i]))\n",
        "    print(elements[i])\n",
        "\n",
        "  flat_list = [item for sublist in indices for item in sublist]\n",
        "  flat_list = list(set(flat_list))\n",
        "  flat_list.sort()\n",
        "  return flat_list\n"
      ],
      "execution_count": 0,
      "outputs": []
    },
    {
      "cell_type": "code",
      "metadata": {
        "id": "x_U31VPdquOU",
        "colab_type": "code",
        "colab": {
          "base_uri": "https://localhost:8080/",
          "height": 34
        },
        "outputId": "424b461c-133f-49b9-f5c2-fc8cfe8b9a0b"
      },
      "source": [
        "A = [-2, 1, 2, 4, 7, 11]\n",
        "target = 13\n",
        "\n",
        "i = 0\n",
        "j = len(A)-1\n",
        "\n",
        "while i<=j:\n",
        "  if A[i]+A[j]== target:\n",
        "    print(A[i], A[j])\n",
        "    break\n",
        "  elif A[i]+A[j] < target:\n",
        "    i+=1\n",
        "  elif A[i]+A[j] > target: \n",
        "    j-=1\n"
      ],
      "execution_count": 220,
      "outputs": [
        {
          "output_type": "stream",
          "text": [
            "2 11\n"
          ],
          "name": "stdout"
        }
      ]
    },
    {
      "cell_type": "markdown",
      "metadata": {
        "id": "J-pznhKZuMej",
        "colab_type": "text"
      },
      "source": [
        "### Using two iterators"
      ]
    },
    {
      "cell_type": "code",
      "metadata": {
        "id": "SeFWR8oXr3_h",
        "colab_type": "code",
        "colab": {}
      },
      "source": [
        "def get_all_indices_iterator(input_list_, target): \n",
        "  A =copy.deepcopy(input_list_)\n",
        "  i = 0\n",
        "  j = len(A)-1\n",
        "\n",
        "  while i<=j:\n",
        "    if A[i]+A[j]== target:\n",
        "      return (A[i], A[j])\n",
        "    elif A[i]+A[j] < target:\n",
        "      i+=1\n",
        "    elif A[i]+A[j] > target: \n",
        "      j-=1\n"
      ],
      "execution_count": 0,
      "outputs": []
    },
    {
      "cell_type": "code",
      "metadata": {
        "id": "FTdRXLnKuDOZ",
        "colab_type": "code",
        "colab": {
          "base_uri": "https://localhost:8080/",
          "height": 34
        },
        "outputId": "74f10bfc-bc78-4422-c7e8-c9c8a731f7ef"
      },
      "source": [
        "get_all_indices_iterator(A, target)"
      ],
      "execution_count": 222,
      "outputs": [
        {
          "output_type": "execute_result",
          "data": {
            "text/plain": [
              "(2, 11)"
            ]
          },
          "metadata": {
            "tags": []
          },
          "execution_count": 222
        }
      ]
    },
    {
      "cell_type": "code",
      "metadata": {
        "id": "_Jt5MKCwuGcP",
        "colab_type": "code",
        "colab": {}
      },
      "source": [
        ""
      ],
      "execution_count": 0,
      "outputs": []
    }
  ]
}