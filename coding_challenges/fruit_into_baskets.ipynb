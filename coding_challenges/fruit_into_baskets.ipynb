{
  "nbformat": 4,
  "nbformat_minor": 0,
  "metadata": {
    "colab": {
      "name": "fruit_into_baskets.ipynb",
      "provenance": [],
      "collapsed_sections": [],
      "authorship_tag": "ABX9TyNjimwAEoOGlp/rrvvBLcdb",
      "include_colab_link": true
    },
    "kernelspec": {
      "name": "python3",
      "display_name": "Python 3"
    }
  },
  "cells": [
    {
      "cell_type": "markdown",
      "metadata": {
        "id": "view-in-github",
        "colab_type": "text"
      },
      "source": [
        "<a href=\"https://colab.research.google.com/github/armandordorica/Advanced-Python/blob/master/coding_challenges/fruit_into_baskets.ipynb\" target=\"_parent\"><img src=\"https://colab.research.google.com/assets/colab-badge.svg\" alt=\"Open In Colab\"/></a>"
      ]
    },
    {
      "cell_type": "code",
      "metadata": {
        "id": "J0Khv_AslLvi",
        "colab_type": "code",
        "colab": {}
      },
      "source": [
        "input1 = [1,2,1]\n",
        "input2 =[0,1,2,2]\n",
        "input3 =[1,2,3,2,2]\n",
        "input4 =  [3,3,3,1,2,1,1,2,3,3,4]"
      ],
      "execution_count": 0,
      "outputs": []
    },
    {
      "cell_type": "code",
      "metadata": {
        "id": "gQLZErPtmzxL",
        "colab_type": "code",
        "colab": {
          "base_uri": "https://localhost:8080/",
          "height": 138
        },
        "outputId": "e15de0ca-2795-48e0-a1c2-738b0d59b598"
      },
      "source": [
        "get_collectable_fruits(0, input1)"
      ],
      "execution_count": 108,
      "outputs": [
        {
          "output_type": "stream",
          "text": [
            "[1]\n",
            "0 1\n",
            "[1, 2]\n",
            "1 2\n",
            "[1, 2]\n",
            "2 1\n"
          ],
          "name": "stdout"
        },
        {
          "output_type": "execute_result",
          "data": {
            "text/plain": [
              "[1, 2, 1]"
            ]
          },
          "metadata": {
            "tags": []
          },
          "execution_count": 108
        }
      ]
    },
    {
      "cell_type": "code",
      "metadata": {
        "id": "RqCLIMYdpbJt",
        "colab_type": "code",
        "colab": {
          "base_uri": "https://localhost:8080/",
          "height": 242
        },
        "outputId": "ae333cf5-24c8-4e7c-e587-ae2781ef9a95"
      },
      "source": [
        "get_max_fruits([1,2,1])"
      ],
      "execution_count": 109,
      "outputs": [
        {
          "output_type": "stream",
          "text": [
            "[1]\n",
            "0 1\n",
            "[1, 2]\n",
            "1 2\n",
            "[1, 2]\n",
            "2 1\n",
            "[2]\n",
            "1 2\n",
            "[1, 2]\n",
            "2 1\n",
            "[1]\n",
            "2 1\n"
          ],
          "name": "stdout"
        },
        {
          "output_type": "execute_result",
          "data": {
            "text/plain": [
              "3"
            ]
          },
          "metadata": {
            "tags": []
          },
          "execution_count": 109
        }
      ]
    },
    {
      "cell_type": "code",
      "metadata": {
        "id": "7HOg93Sgpfrk",
        "colab_type": "code",
        "colab": {}
      },
      "source": [
        "def update_distinct_fruits(distinct_fruits, int_num):\n",
        "  distinct_fruits.append(int_num)\n",
        "  distinct_fruits = list(set(distinct_fruits))\n",
        "  return distinct_fruits\n",
        "  \n",
        "def find_max_list(list):\n",
        "    list_len = [len(i) for i in list]\n",
        "    return max(list_len)\n",
        "\n",
        "def get_collectable_fruits(start_point , input): \n",
        "  distinct_fruits = []\n",
        "  possibilities = []\n",
        "  for i in range(start_point, len(input)):\n",
        "    distinct_fruits = update_distinct_fruits(distinct_fruits, input[i])\n",
        "    if len(distinct_fruits) <0 or len(distinct_fruits)>2:\n",
        "      break \n",
        "    print(distinct_fruits)\n",
        "    print(i, input[i])\n",
        "    possibilities.append(input[start_point:i+1])\n",
        "  possibilities = possibilities[-1]\n",
        "  return  possibilities\n",
        "\n",
        "def get_max_fruits(input): \n",
        "  if len(input) >=1 and len(input) <= 40000:\n",
        "    possible_collections = []\n",
        "    for i in range(0, len(input)):\n",
        "      #print(get_collectable_fruits(i, input))\n",
        "      possible_collections.append(get_collectable_fruits(i, input))\n",
        "    return find_max_list(possible_collections)\n",
        "  return False\n",
        "\n",
        "class Solution():\n",
        "    def totalFruit(self, tree):\n",
        "        return get_max_fruits(tree)\n",
        "        \"\"\"\n",
        "        :type tree: List[int]\n",
        "        :rtype: int\n",
        "        \"\"\"\n",
        "        "
      ],
      "execution_count": 0,
      "outputs": []
    },
    {
      "cell_type": "code",
      "metadata": {
        "id": "aJNR7FjTpt_r",
        "colab_type": "code",
        "colab": {}
      },
      "source": [
        "sol = Solution()"
      ],
      "execution_count": 0,
      "outputs": []
    },
    {
      "cell_type": "code",
      "metadata": {
        "id": "om4Km9pcpvmr",
        "colab_type": "code",
        "colab": {
          "base_uri": "https://localhost:8080/",
          "height": 242
        },
        "outputId": "a8a8d492-0bb1-4c8f-ff22-162ec5156324"
      },
      "source": [
        "sol.totalFruit([1,2,1])"
      ],
      "execution_count": 112,
      "outputs": [
        {
          "output_type": "stream",
          "text": [
            "[1]\n",
            "0 1\n",
            "[1, 2]\n",
            "1 2\n",
            "[1, 2]\n",
            "2 1\n",
            "[2]\n",
            "1 2\n",
            "[1, 2]\n",
            "2 1\n",
            "[1]\n",
            "2 1\n"
          ],
          "name": "stdout"
        },
        {
          "output_type": "execute_result",
          "data": {
            "text/plain": [
              "3"
            ]
          },
          "metadata": {
            "tags": []
          },
          "execution_count": 112
        }
      ]
    },
    {
      "cell_type": "code",
      "metadata": {
        "id": "a38dAc_ap1Jz",
        "colab_type": "code",
        "colab": {
          "base_uri": "https://localhost:8080/",
          "height": 762
        },
        "outputId": "825bba4f-ded4-4f38-a65a-069891eab2f8"
      },
      "source": [
        "get_collectable_fruits(0, [0,0,0,0,0,0,0,0,0,0,0,0,0,0,0,0,0,0,0,0,1])"
      ],
      "execution_count": 113,
      "outputs": [
        {
          "output_type": "stream",
          "text": [
            "[0]\n",
            "0 0\n",
            "[0]\n",
            "1 0\n",
            "[0]\n",
            "2 0\n",
            "[0]\n",
            "3 0\n",
            "[0]\n",
            "4 0\n",
            "[0]\n",
            "5 0\n",
            "[0]\n",
            "6 0\n",
            "[0]\n",
            "7 0\n",
            "[0]\n",
            "8 0\n",
            "[0]\n",
            "9 0\n",
            "[0]\n",
            "10 0\n",
            "[0]\n",
            "11 0\n",
            "[0]\n",
            "12 0\n",
            "[0]\n",
            "13 0\n",
            "[0]\n",
            "14 0\n",
            "[0]\n",
            "15 0\n",
            "[0]\n",
            "16 0\n",
            "[0]\n",
            "17 0\n",
            "[0]\n",
            "18 0\n",
            "[0]\n",
            "19 0\n",
            "[0, 1]\n",
            "20 1\n"
          ],
          "name": "stdout"
        },
        {
          "output_type": "execute_result",
          "data": {
            "text/plain": [
              "[0, 0, 0, 0, 0, 0, 0, 0, 0, 0, 0, 0, 0, 0, 0, 0, 0, 0, 0, 0, 1]"
            ]
          },
          "metadata": {
            "tags": []
          },
          "execution_count": 113
        }
      ]
    },
    {
      "cell_type": "code",
      "metadata": {
        "id": "9riT3KZIsn7F",
        "colab_type": "code",
        "colab": {}
      },
      "source": [
        ""
      ],
      "execution_count": 0,
      "outputs": []
    }
  ]
}