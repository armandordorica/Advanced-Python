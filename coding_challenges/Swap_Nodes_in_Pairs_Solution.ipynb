{
  "nbformat": 4,
  "nbformat_minor": 0,
  "metadata": {
    "colab": {
      "name": "Swap Nodes in Pairs  Solution.ipynb",
      "provenance": [],
      "authorship_tag": "ABX9TyP1oYklWBJiz925ZCtW8Gxo",
      "include_colab_link": true
    },
    "kernelspec": {
      "name": "python3",
      "display_name": "Python 3"
    },
    "language_info": {
      "name": "python"
    }
  },
  "cells": [
    {
      "cell_type": "markdown",
      "metadata": {
        "id": "view-in-github",
        "colab_type": "text"
      },
      "source": [
        "<a href=\"https://colab.research.google.com/github/armandordorica/Advanced-Python/blob/master/coding_challenges/Swap_Nodes_in_Pairs_Solution.ipynb\" target=\"_parent\"><img src=\"https://colab.research.google.com/assets/colab-badge.svg\" alt=\"Open In Colab\"/></a>"
      ]
    },
    {
      "cell_type": "code",
      "metadata": {
        "id": "aXBfosyIc8xR"
      },
      "source": [
        "# Definition for singly-linked list.\n",
        "class ListNode:\n",
        "    def __init__(self, val=0, next=None):\n",
        "        self.val = val\n",
        "        self.next = next\n",
        "\n",
        "\n",
        "def swap_pairs(head): \n",
        "    #assign a dummy variable d that you'll use as a pointer to be swapping every item in the list \n",
        "    #assign a dummy variable d1 that you can keep as the main pointer of the overall list \n",
        "    d = d1 = ListNode(0) \n",
        "\n",
        "    d.next = head \n",
        "\n",
        "    while d.next and d.next.next: \n",
        "        # while d.next and d.next.next are not null (i.e. p and q which are my values to swap )\n",
        "        p = d.next \n",
        "        \n",
        "        q = p.next \n",
        "\n",
        "        # swapping\n",
        "        d.next = q \n",
        "        p.next = q.next \n",
        "        q.next = p \n",
        "\n",
        "\n",
        "        d = p \n",
        "\n",
        "    return d1.next \n",
        "\n",
        "class Solution:\n",
        "    def swapPairs(self, head: ListNode) -> ListNode:\n",
        "        return swap_pairs(head)\n",
        "        "
      ],
      "execution_count": null,
      "outputs": []
    }
  ]
}