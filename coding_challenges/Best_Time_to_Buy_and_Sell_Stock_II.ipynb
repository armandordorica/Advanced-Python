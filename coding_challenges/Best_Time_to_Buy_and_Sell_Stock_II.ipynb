{
  "nbformat": 4,
  "nbformat_minor": 0,
  "metadata": {
    "colab": {
      "name": "Best Time to Buy and Sell Stock II.ipynb",
      "provenance": [],
      "authorship_tag": "ABX9TyPpSiYWxkXpKWD1qX2J/w+q",
      "include_colab_link": true
    },
    "kernelspec": {
      "name": "python3",
      "display_name": "Python 3"
    },
    "language_info": {
      "name": "python"
    }
  },
  "cells": [
    {
      "cell_type": "markdown",
      "metadata": {
        "id": "view-in-github",
        "colab_type": "text"
      },
      "source": [
        "<a href=\"https://colab.research.google.com/github/armandordorica/Advanced-Python/blob/master/coding_challenges/Best_Time_to_Buy_and_Sell_Stock_II.ipynb\" target=\"_parent\"><img src=\"https://colab.research.google.com/assets/colab-badge.svg\" alt=\"Open In Colab\"/></a>"
      ]
    },
    {
      "cell_type": "code",
      "metadata": {
        "colab": {
          "base_uri": "https://localhost:8080/"
        },
        "id": "uz1FsWTWi0_W",
        "outputId": "3f638d6c-e2e0-44fd-8c0f-69ee19b31b87"
      },
      "source": [
        "# prices = [6,1,3,2,4,7]\n",
        "# prices = [7,1,5,3,6,4]\n",
        "prices = [1,5,3,6,4]\n",
        "\n",
        "def get_max_profit(prices): \n",
        "    sum_pos_slopes = 0\n",
        "\n",
        "    for i in range(0, len(prices)-1): \n",
        "        if prices[i+1]>prices[i]:\n",
        "            delta= prices[i+1]- prices[i]\n",
        "            sum_pos_slopes +=delta \n",
        "            print(prices[i], prices[i+1])\n",
        "\n",
        "    return sum_pos_slopes \n",
        "    \n",
        "print(sum_pos_slopes)\n",
        "\n"
      ],
      "execution_count": 1,
      "outputs": [
        {
          "output_type": "stream",
          "text": [
            "buy at :1, sell at :3\n",
            "start_index:1, end_index:2\n",
            "buy at :3, sell at :7\n",
            "start_index:2, end_index:5\n",
            "buy at :2, sell at :7\n",
            "start_index:3, end_index:5\n",
            "buy at :4, sell at :7\n",
            "start_index:4, end_index:5\n",
            "No overlap between tuple1:(1, 2), tuple_x:(3, 5)\n",
            "No overlap between tuple1:(1, 2), tuple_x:(4, 5)\n",
            "[{(1, 2), (4, 5), (3, 5)}, {(2, 5)}, {(3, 5)}]\n",
            "[(1, 2), (4, 5), (3, 5)]\n",
            "[(2, 5)]\n",
            "[(3, 5)]\n",
            "[0, 10, 4, 5]\n",
            "10\n"
          ],
          "name": "stdout"
        }
      ]
    },
    {
      "cell_type": "code",
      "metadata": {
        "id": "0-8evoHrRdwS"
      },
      "source": [
        "import numpy as np\n",
        "import matplotlib.pyplot as plt\n",
        "\n",
        "def plot_prices(prices): \n",
        "  x = np.arange(0, len(prices))\n",
        "  plt.plot(x,prices)"
      ],
      "execution_count": 6,
      "outputs": []
    },
    {
      "cell_type": "code",
      "metadata": {
        "colab": {
          "base_uri": "https://localhost:8080/",
          "height": 265
        },
        "id": "eQUhsyThRiZ9",
        "outputId": "5805f1db-aa99-44b2-dfe2-7ad218b92e66"
      },
      "source": [
        "plot_prices(prices)"
      ],
      "execution_count": 7,
      "outputs": [
        {
          "output_type": "display_data",
          "data": {
            "image/png": "[encoded data removed]",
            "text/plain": [
              "<Figure size 432x288 with 1 Axes>"
            ]
          },
          "metadata": {
            "tags": [],
            "needs_background": "light"
          }
        }
      ]
    },
    {
      "cell_type": "code",
      "metadata": {
        "id": "kl-R3Z6kRjyq"
      },
      "source": [
        ""
      ],
      "execution_count": null,
      "outputs": []
    }
  ]
}