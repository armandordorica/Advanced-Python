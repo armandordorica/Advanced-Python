{
  "nbformat": 4,
  "nbformat_minor": 0,
  "metadata": {
    "colab": {
      "name": "peak_element.ipynb",
      "provenance": [],
      "authorship_tag": "ABX9TyP1sDySdFx53JAD5IptvLK6"
    },
    "kernelspec": {
      "name": "python3",
      "display_name": "Python 3"
    }
  },
  "cells": [
    {
      "cell_type": "code",
      "metadata": {
        "id": "8B3DAW9amFdw",
        "colab_type": "code",
        "colab": {}
      },
      "source": [
        "import numpy as np\n",
        "\n",
        "\n",
        "def get_index_for_peak_element(input1):\n",
        "  if len(input1) <=2:\n",
        "    return np.argmax(input1)\n",
        "  for i in range(0, len(input1)-1):\n",
        "    if i >= 1: \n",
        "      # print(\"input[i]:{}\".format(input[i]))\n",
        "      # print(\"input[i-1]:{}\".format(input[i-1]))\n",
        "      # print(\"input[i+1]:{}\".format(input[i]))\n",
        "      if (input1[i]> input1[i-1]) and (input1[i]> input1[i+1]):\n",
        "        #print(input1[i])\n",
        "        return i\n",
        "    return np.argmax(input1)\n",
        "\n",
        "class Solution(object):\n",
        "    def findPeakElement(self, nums):\n",
        "        return get_index_for_peak_element(nums)\n",
        "        \"\"\"\n",
        "        :type nums: List[int]\n",
        "        :rtype: int\n",
        "        \"\"\"\n",
        "        "
      ],
      "execution_count": 0,
      "outputs": []
    }
  ]
}