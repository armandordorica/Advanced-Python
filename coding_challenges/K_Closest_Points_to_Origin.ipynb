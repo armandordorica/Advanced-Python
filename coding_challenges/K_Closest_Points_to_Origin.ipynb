{
  "nbformat": 4,
  "nbformat_minor": 0,
  "metadata": {
    "colab": {
      "name": "K Closest Points to Origin.ipynb",
      "provenance": [],
      "authorship_tag": "ABX9TyMleqz5OIpCAkEIX14BCZra",
      "include_colab_link": true
    },
    "kernelspec": {
      "name": "python3",
      "display_name": "Python 3"
    }
  },
  "cells": [
    {
      "cell_type": "markdown",
      "metadata": {
        "id": "view-in-github",
        "colab_type": "text"
      },
      "source": [
        "<a href=\"https://colab.research.google.com/github/armandordorica/Advanced-Python/blob/master/coding_challenges/K_Closest_Points_to_Origin.ipynb\" target=\"_parent\"><img src=\"https://colab.research.google.com/assets/colab-badge.svg\" alt=\"Open In Colab\"/></a>"
      ]
    },
    {
      "cell_type": "markdown",
      "metadata": {
        "id": "gxFkL0w1hSOP",
        "colab_type": "text"
      },
      "source": [
        "973. K Closest Points to Origin"
      ]
    },
    {
      "cell_type": "markdown",
      "metadata": {
        "id": "XP-pjMk7hfJV",
        "colab_type": "text"
      },
      "source": [
        "We have a list of points on the plane.  Find the K closest points to the origin (0, 0).\n",
        "\n",
        "(Here, the distance between two points on a plane is the Euclidean distance.)\n",
        "\n",
        "You may return the answer in any order.  The answer is guaranteed to be unique (except for the order that it is in.)"
      ]
    },
    {
      "cell_type": "markdown",
      "metadata": {
        "id": "pOEr-s_nhiqo",
        "colab_type": "text"
      },
      "source": [
        "### Example 1 \n",
        "**Input:** `points = [[1,3],[-2,2]]`, `K = 1`\n",
        "**Output:** `[[-2,2]]`\n",
        "**Explanation:**\n",
        "\n",
        "* The distance between `(1, 3)` and the origin is sqrt(10).\n",
        "* The distance between `(-2, 2)` and the origin is sqrt(8).\n",
        "\n",
        "Since `sqrt(8) < sqrt(10)`, `(-2, 2)` is closer to the origin.\n",
        "We only want the closest `K = 1` points from the origin, so the answer is just `[[-2,2]]`."
      ]
    },
    {
      "cell_type": "code",
      "metadata": {
        "id": "_szeT_jfhde1",
        "colab_type": "code",
        "colab": {}
      },
      "source": [
        "import matplotlib.pyplot as plt\n",
        "import numpy as np\n",
        "from math import sqrt\n",
        "\n",
        "from collections import deque\n",
        "\n",
        "class Plane: \n",
        "  def __init__(self, coordinates):\n",
        "    self.coordinates = coordinates\n",
        "\n",
        "    coordinates = []\n",
        "    for i in range(0, len(self.coordinates)):\n",
        "      coordinates.append(np.array(self.coordinates[i]))\n",
        "    self.coordinates = coordinates\n",
        "\n",
        "  def plot_coordinates(self):\n",
        "    self.nested_lst=self.coordinates\n",
        "    self.nested_lst_of_tuples = [tuple(l) for l in self.nested_lst]\n",
        "    plt.scatter(*zip(*self.nested_lst_of_tuples))\n",
        "    plt.show()\n",
        "\n",
        "  def get_euclidean_distance(self, input_coords):\n",
        "    origin = np.array([0,0])\n",
        "    return np.linalg.norm(origin-input_coords)\n",
        "\n",
        "  def get_closest_point_to_origin(self):\n",
        "    self.closest_point = self.coordinates[0]\n",
        "    self.ordered_points = []\n",
        "    \n",
        "    for i in range(0, len(self.coordinates)):\n",
        "        self.ordered_points.append([self.coordinates[i],self.get_euclidean_distance(self.coordinates[i])])\n",
        "        \n",
        "    self.ordered_points = self.Sort(self.ordered_points)\n",
        "\n",
        "    return  self.ordered_points[0]\n",
        "\n",
        "  \n",
        "  def get_k_closest_point_to_origin(self, k): \n",
        "    self.get_closest_point_to_origin()\n",
        "\n",
        "    return self.ordered_points[k-1][0]\n",
        "\n",
        "\n",
        "  def Sort(self, sub_li): \n",
        "    l = len(sub_li) \n",
        "    for i in range(0, l): \n",
        "        for j in range(0, l-i-1): \n",
        "            if (sub_li[j][1] > sub_li[j + 1][1]): \n",
        "                tempo = sub_li[j] \n",
        "                sub_li[j]= sub_li[j + 1] \n",
        "                sub_li[j + 1]= tempo \n",
        "    return sub_li \n",
        "  \n",
        "\n",
        "  \n",
        "\n"
      ],
      "execution_count": 0,
      "outputs": []
    },
    {
      "cell_type": "code",
      "metadata": {
        "id": "GZc59orEsJL4",
        "colab_type": "code",
        "colab": {
          "base_uri": "https://localhost:8080/",
          "height": 34
        },
        "outputId": "337cedd6-3c66-4b8c-8053-dca6bb52092b"
      },
      "source": [
        "i = 0\n",
        "self.coordinates[i+1]"
      ],
      "execution_count": 176,
      "outputs": [
        {
          "output_type": "execute_result",
          "data": {
            "text/plain": [
              "array([ 5, -1])"
            ]
          },
          "metadata": {
            "tags": []
          },
          "execution_count": 176
        }
      ]
    },
    {
      "cell_type": "code",
      "metadata": {
        "id": "MyWwntvTsQDt",
        "colab_type": "code",
        "colab": {
          "base_uri": "https://localhost:8080/",
          "height": 34
        },
        "outputId": "d6cd7790-feba-412a-8de5-c154863b5c38"
      },
      "source": [
        "self.get_euclidean_distance(self.coordinates[i+1])"
      ],
      "execution_count": 177,
      "outputs": [
        {
          "output_type": "execute_result",
          "data": {
            "text/plain": [
              "5.0990195135927845"
            ]
          },
          "metadata": {
            "tags": []
          },
          "execution_count": 177
        }
      ]
    },
    {
      "cell_type": "code",
      "metadata": {
        "id": "6Or0rqh7hTP1",
        "colab_type": "code",
        "colab": {}
      },
      "source": [
        "first_plane = Plane([[3,3],[5,-1],[-2,4]])"
      ],
      "execution_count": 0,
      "outputs": []
    },
    {
      "cell_type": "code",
      "metadata": {
        "id": "NtF3Yx9CnwVT",
        "colab_type": "code",
        "colab": {
          "base_uri": "https://localhost:8080/",
          "height": 34
        },
        "outputId": "42a32ff8-49d0-4ef6-f55a-c723333ef951"
      },
      "source": [
        "first_plane.coordinates"
      ],
      "execution_count": 179,
      "outputs": [
        {
          "output_type": "execute_result",
          "data": {
            "text/plain": [
              "[array([3, 3]), array([ 5, -1]), array([-2,  4])]"
            ]
          },
          "metadata": {
            "tags": []
          },
          "execution_count": 179
        }
      ]
    },
    {
      "cell_type": "code",
      "metadata": {
        "id": "lNfo0dbToAtF",
        "colab_type": "code",
        "colab": {
          "base_uri": "https://localhost:8080/",
          "height": 265
        },
        "outputId": "f6312314-681a-480c-a843-4c7d7c46d834"
      },
      "source": [
        "first_plane.plot_coordinates()"
      ],
      "execution_count": 180,
      "outputs": [
        {
          "output_type": "display_data",
          "data": {
            "image/png": "[encoded data removed]",
            "text/plain": [
              "<Figure size 432x288 with 1 Axes>"
            ]
          },
          "metadata": {
            "tags": [],
            "needs_background": "light"
          }
        }
      ]
    },
    {
      "cell_type": "code",
      "metadata": {
        "id": "5t7oekZnrPS4",
        "colab_type": "code",
        "colab": {
          "base_uri": "https://localhost:8080/",
          "height": 34
        },
        "outputId": "0a277928-8301-48b8-9365-990205e33d59"
      },
      "source": [
        "first_plane.get_closest_point_to_origin()"
      ],
      "execution_count": 181,
      "outputs": [
        {
          "output_type": "execute_result",
          "data": {
            "text/plain": [
              "[array([3, 3]), 4.242640687119285]"
            ]
          },
          "metadata": {
            "tags": []
          },
          "execution_count": 181
        }
      ]
    },
    {
      "cell_type": "code",
      "metadata": {
        "id": "piEbF0IIwJRv",
        "colab_type": "code",
        "colab": {
          "base_uri": "https://localhost:8080/",
          "height": 69
        },
        "outputId": "3f2147d8-4cf5-4d06-d99a-68658ff2383f"
      },
      "source": [
        "first_plane.ordered_points"
      ],
      "execution_count": 182,
      "outputs": [
        {
          "output_type": "execute_result",
          "data": {
            "text/plain": [
              "[[array([3, 3]), 4.242640687119285],\n",
              " [array([-2,  4]), 4.47213595499958],\n",
              " [array([ 5, -1]), 5.0990195135927845]]"
            ]
          },
          "metadata": {
            "tags": []
          },
          "execution_count": 182
        }
      ]
    },
    {
      "cell_type": "code",
      "metadata": {
        "id": "xfaMmseEv8gX",
        "colab_type": "code",
        "colab": {
          "base_uri": "https://localhost:8080/",
          "height": 34
        },
        "outputId": "f8131426-152a-4977-921c-9342439c676b"
      },
      "source": [
        "first_plane.get_k_closest_point_to_origin(3)"
      ],
      "execution_count": 174,
      "outputs": [
        {
          "output_type": "execute_result",
          "data": {
            "text/plain": [
              "array([ 5, -1])"
            ]
          },
          "metadata": {
            "tags": []
          },
          "execution_count": 174
        }
      ]
    },
    {
      "cell_type": "code",
      "metadata": {
        "id": "pyWrDztTw6AR",
        "colab_type": "code",
        "colab": {}
      },
      "source": [
        ""
      ],
      "execution_count": 0,
      "outputs": []
    }
  ]
}