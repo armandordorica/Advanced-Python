{
  "nbformat": 4,
  "nbformat_minor": 0,
  "metadata": {
    "colab": {
      "name": "game of life.ipynb",
      "provenance": [],
      "authorship_tag": "ABX9TyNdsdXaQ1IrFnnQPW+Y99sh",
      "include_colab_link": true
    },
    "kernelspec": {
      "name": "python3",
      "display_name": "Python 3"
    }
  },
  "cells": [
    {
      "cell_type": "markdown",
      "metadata": {
        "id": "view-in-github",
        "colab_type": "text"
      },
      "source": [
        "<a href=\"https://colab.research.google.com/github/armandordorica/Advanced-Python/blob/master/coding_challenges/game_of_life.ipynb\" target=\"_parent\"><img src=\"https://colab.research.google.com/assets/colab-badge.svg\" alt=\"Open In Colab\"/></a>"
      ]
    },
    {
      "cell_type": "code",
      "metadata": {
        "id": "CVqURYIRP7sj",
        "colab_type": "code",
        "colab": {}
      },
      "source": [
        "import numpy as np\n",
        "grid = [\n",
        "  [0,1,0],\n",
        "  [0,0,1],\n",
        "  [1,1,1],\n",
        "  [0,0,0]\n",
        "]"
      ],
      "execution_count": 1,
      "outputs": []
    },
    {
      "cell_type": "code",
      "metadata": {
        "id": "62J3OxGdz7ZY",
        "colab_type": "code",
        "colab": {}
      },
      "source": [
        "import numpy as np\n",
        "\n",
        "class Cell:\n",
        "  def __init__(self, i, j, grid): \n",
        "    self.i = i\n",
        "    self.j = j\n",
        "    self.grid = grid\n",
        "    self.num_neighbours = self.get_num_neighbours()\n",
        "    self.neighbours_indices = self.get_neighbours_indices()\n",
        "    self.current_status = grid[i][j]\n",
        "\n",
        "    self.next_status = self.get_status()\n",
        "\n",
        "  def get_neighbours_indices(self): \n",
        "    grid = np.array(self.grid)\n",
        "    i = self.i\n",
        "    j=self.j \n",
        "    i_s = [i-1, i, i+1]\n",
        "    j_s = [j-1, j, j+1]\n",
        "\n",
        "    cartesian_product = [(i,j) for i in i_s for j in j_s]\n",
        "\n",
        "    cartesian_product.remove((i,j))\n",
        "    possible_neighbours = cartesian_product\n",
        "    max_rows = grid.shape[0]-1\n",
        "    max_cols = grid.shape[1]-1\n",
        "    filtered_possible_values = list(filter( lambda x: (x[0] >= 0 and x[0]<= max_rows) and (x[1]>=0 and x[1]<= max_cols), possible_neighbours))\n",
        "    return filtered_possible_values\n",
        "\n",
        "  def get_neighbours_values(self):\n",
        "    return list(map(lambda x: self.grid[x[0]][x[1]], self.neighbours_indices))\n",
        "\n",
        "\n",
        "  def get_num_neighbours(self): \n",
        "    self.neighbours_indices = self.get_neighbours_indices()\n",
        "    self.neighbours_values = self.get_neighbours_values()\n",
        "    return sum(self.neighbours_values)\n",
        "\n",
        "  def get_status(self): \n",
        "    if self.current_status == 1: \n",
        "      if self.num_neighbours < 2 or self.num_neighbours > 3: \n",
        "        self.next_status = 0 \n",
        "\n",
        "      if self.num_neighbours == 2 or self.num_neighbours ==3: \n",
        "        self.next_status = 1 \n",
        "\n",
        "    elif self.current_status == 0:\n",
        "      if self.num_neighbours == 3:\n",
        "        self.next_status = 1 \n",
        "      \n",
        "      else: \n",
        "        self.next_status = self.current_status \n",
        "    \n",
        "    return self.next_status\n",
        "\n",
        "      \n",
        "class Grid:\n",
        "  def __init__(self, grid): \n",
        "    self.grid = grid \n",
        "    self.grid_of_cells = self.get_grid_of_cells()\n",
        "    self.next_status_grid = self.get_next_status_grid()\n",
        "    print(\"Grid at t:\\n{}\".format(np.array(self.grid)))\n",
        "    print(\"Grid at t+1:\\n{}\".format(np.array(self.next_status_grid)))\n",
        "\n",
        "  def get_grid_of_cells(self):\n",
        "    self.grid_of_cells = []\n",
        "    for i in range(0, len(self.grid)):\n",
        "      row =  []\n",
        "      for j in range(0, len(self.grid[i])):\n",
        "        #print(i,j)\n",
        "        cell = Cell(i, j, self.grid)\n",
        "        row.append(cell)\n",
        "      self.grid_of_cells.append(row)\n",
        "\n",
        "    return self.grid_of_cells\n",
        "  \n",
        "  def get_next_status_grid(self): \n",
        "    self.next_status_grid  = []\n",
        "\n",
        "    for i in range(0, len(self.grid_of_cells)): \n",
        "      row = []\n",
        "      for j in range(0, len(self.grid_of_cells[i])):\n",
        "        #print(i,j)\n",
        "        #print(self.grid_of_cells[i][j].next_status)\n",
        "        row.append(self.grid_of_cells[i][j].next_status)\n",
        "\n",
        "      self.next_status_grid.append(row)\n",
        "  \n",
        "    return self.next_status_grid\n"
      ],
      "execution_count": 2,
      "outputs": []
    },
    {
      "cell_type": "code",
      "metadata": {
        "id": "2aGyiz_A0maa",
        "colab_type": "code",
        "colab": {}
      },
      "source": [
        "grid = [\n",
        "  [0,1,0],\n",
        "  [0,0,1],\n",
        "  [1,1,1],\n",
        "  [0,0,0]\n",
        "]"
      ],
      "execution_count": 3,
      "outputs": []
    },
    {
      "cell_type": "code",
      "metadata": {
        "id": "65yZ2nIF0oNC",
        "colab_type": "code",
        "colab": {
          "base_uri": "https://localhost:8080/",
          "height": 196
        },
        "outputId": "8f218ee7-ce6a-408a-fa07-5fd9b27e48a5"
      },
      "source": [
        "new_grid = Grid(grid)"
      ],
      "execution_count": 4,
      "outputs": [
        {
          "output_type": "stream",
          "text": [
            "Grid at t:\n",
            "[[0 1 0]\n",
            " [0 0 1]\n",
            " [1 1 1]\n",
            " [0 0 0]]\n",
            "Grid at t+1:\n",
            "[[0 0 0]\n",
            " [1 0 1]\n",
            " [0 1 1]\n",
            " [0 1 0]]\n"
          ],
          "name": "stdout"
        }
      ]
    },
    {
      "cell_type": "code",
      "metadata": {
        "id": "lb72e-pA0q0Z",
        "colab_type": "code",
        "colab": {}
      },
      "source": [
        ""
      ],
      "execution_count": null,
      "outputs": []
    }
  ]
}