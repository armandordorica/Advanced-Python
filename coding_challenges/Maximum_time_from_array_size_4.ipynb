{
  "nbformat": 4,
  "nbformat_minor": 0,
  "metadata": {
    "colab": {
      "name": "Maximum_time_from_array_size_4.ipynb",
      "provenance": [],
      "collapsed_sections": [],
      "authorship_tag": "ABX9TyNblhlPYgkoso5BT9HpLjJ6",
      "include_colab_link": true
    },
    "kernelspec": {
      "name": "python3",
      "display_name": "Python 3"
    }
  },
  "cells": [
    {
      "cell_type": "markdown",
      "metadata": {
        "id": "view-in-github",
        "colab_type": "text"
      },
      "source": [
        "<a href=\"https://colab.research.google.com/github/armandordorica/Advanced-Python/blob/master/coding_challenges/Maximum_time_from_array_size_4.ipynb\" target=\"_parent\"><img src=\"https://colab.research.google.com/assets/colab-badge.svg\" alt=\"Open In Colab\"/></a>"
      ]
    },
    {
      "cell_type": "code",
      "metadata": {
        "id": "o21Ugr0Z2h1a",
        "colab_type": "code",
        "colab": {}
      },
      "source": [
        "from datetime import datetime\n",
        "from itertools import permutations \n",
        "\n",
        "\n",
        "def time_to_24h(time_string):\n",
        "  input_datetime = datetime.strptime(time_string, '%H:%M')\n",
        "  max_hrs = datetime.strptime('23:59', '%H:%M')\n",
        "  result = (max_hrs - input_datetime)\n",
        "  return result\n",
        "\n",
        "  \n",
        "def get_all_perms(input_list):\n",
        "  # Get all permutations of [1, 2, 3] \n",
        "  perm = permutations(input_list) \n",
        "    \n",
        "  all_perms = []\n",
        "  # Print the obtained permutations \n",
        "  for i in list(perm): \n",
        "      #print(i) \n",
        "      all_perms.append(i)\n",
        "  return all_perms\n",
        "\n",
        "def get_viable_perms(input_list): \n",
        "  all_perms = get_all_perms(input_list)\n",
        "  viable_perms = []\n",
        "  for i in range(0, len(all_perms)):\n",
        "    hr = int(str(all_perms[i][0]) + str(all_perms[i][1]))\n",
        "    #print(hr)\n",
        "    if hr < 24: \n",
        "      viable_perms.append(all_perms[i])\n",
        "  if len(viable_perms)>0: \n",
        "    return viable_perms\n",
        "  return ''\n",
        "\n",
        "def get_time_diffs(viable_perms): \n",
        "  time_diffs = []\n",
        "\n",
        "  for i in range(0, len(viable_perms)):\n",
        "    time_string = str(viable_perms[i][0]) + str(viable_perms[i][1]) + ':' + str(viable_perms[i][2]) + str(viable_perms[i][3])\n",
        "    #print(i, time_string, time_to_24h(time_string))\n",
        "    time_diffs.append((i,time_to_24h(time_string)))\n",
        "  return time_diffs\n",
        "\n",
        "\n",
        "def Sort(sub_li): \n",
        "    l = len(sub_li) \n",
        "    for i in range(0, l): \n",
        "        for j in range(0, l-i-1): \n",
        "            if (sub_li[j][1] > sub_li[j + 1][1]): \n",
        "                tempo = sub_li[j] \n",
        "                sub_li[j]= sub_li[j + 1] \n",
        "                sub_li[j + 1]= tempo \n",
        "    return sub_li \n",
        "  \n",
        "\n",
        "def get_min_timedelta(input_list): \n",
        "  viable_perms = get_viable_perms(input_list)\n",
        "  time_deltas_to_24h = get_time_diffs(viable_perms)\n",
        "  if len(time_deltas_to_24h)>0: \n",
        "    index = Sort(time_deltas_to_24h)[0][0]\n",
        "    #print(Sort(time_deltas_to_24h)[0][0])\n",
        "    return (str(viable_perms[index][0]) + str(viable_perms[index][1]) + ':' + str(viable_perms[index][2]) + str(viable_perms[index][3]) )\n",
        "  return ''"
      ],
      "execution_count": 0,
      "outputs": []
    },
    {
      "cell_type": "code",
      "metadata": {
        "id": "EXAkRIS6_ail",
        "colab_type": "code",
        "colab": {
          "base_uri": "https://localhost:8080/",
          "height": 34
        },
        "outputId": "aa1422ed-c645-4481-a943-7d1868e4dc49"
      },
      "source": [
        "get_min_timedelta([1,2,3,4])"
      ],
      "execution_count": 2,
      "outputs": [
        {
          "output_type": "execute_result",
          "data": {
            "text/plain": [
              "'23:41'"
            ]
          },
          "metadata": {
            "tags": []
          },
          "execution_count": 2
        }
      ]
    },
    {
      "cell_type": "code",
      "metadata": {
        "id": "Ganl5gci_dp3",
        "colab_type": "code",
        "colab": {
          "base_uri": "https://localhost:8080/",
          "height": 34
        },
        "outputId": "9785d3fd-a2a7-4b6e-9ebc-0f1f0518fd93"
      },
      "source": [
        "get_min_timedelta([1,1,2,2])"
      ],
      "execution_count": 24,
      "outputs": [
        {
          "output_type": "execute_result",
          "data": {
            "text/plain": [
              "'22:11'"
            ]
          },
          "metadata": {
            "tags": []
          },
          "execution_count": 24
        }
      ]
    },
    {
      "cell_type": "code",
      "metadata": {
        "id": "Cztf6Y6zFsow",
        "colab_type": "code",
        "colab": {
          "base_uri": "https://localhost:8080/",
          "height": 34
        },
        "outputId": "ca15a711-57e5-416d-a8cd-b20ad2c93982"
      },
      "source": [
        "get_min_timedelta([1,9,6,0])"
      ],
      "execution_count": 16,
      "outputs": [
        {
          "output_type": "execute_result",
          "data": {
            "text/plain": [
              "'19:06'"
            ]
          },
          "metadata": {
            "tags": []
          },
          "execution_count": 16
        }
      ]
    }
  ]
}