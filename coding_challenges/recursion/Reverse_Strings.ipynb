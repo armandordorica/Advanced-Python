{
  "nbformat": 4,
  "nbformat_minor": 0,
  "metadata": {
    "colab": {
      "name": "Reverse Strings.ipynb",
      "provenance": [],
      "authorship_tag": "ABX9TyNp7yPgEPp2OSFDlE8EnNGr",
      "include_colab_link": true
    },
    "kernelspec": {
      "name": "python3",
      "display_name": "Python 3"
    },
    "language_info": {
      "name": "python"
    }
  },
  "cells": [
    {
      "cell_type": "markdown",
      "metadata": {
        "id": "view-in-github",
        "colab_type": "text"
      },
      "source": [
        "<a href=\"https://colab.research.google.com/github/armandordorica/Advanced-Python/blob/master/coding_challenges/recursion/Reverse_Strings.ipynb\" target=\"_parent\"><img src=\"https://colab.research.google.com/assets/colab-badge.svg\" alt=\"Open In Colab\"/></a>"
      ]
    },
    {
      "cell_type": "code",
      "metadata": {
        "id": "QZONQiRgono9"
      },
      "source": [
        "\n",
        "def helper_recursion(start_pointer, end_pointer, s):\n",
        "    if start_pointer >= end_pointer: \n",
        "        return s\n",
        "    \n",
        "    else: \n",
        "        temp = s[start_pointer]\n",
        "        s[start_pointer] = s[end_pointer] \n",
        "        s[end_pointer] = temp \n",
        "        return helper_recursion(start_pointer+1, end_pointer-1, s)\n",
        "\n",
        "\n",
        "\n",
        "class Solution:\n",
        "    def reverseString(self, s: List[str]) -> None:\n",
        "        \n",
        "        start_pointer = 0\n",
        "        end_pointer = len(s)-1  \n",
        "    \n",
        "        return helper_recursion(start_pointer, end_pointer, s)\n",
        "        \"\"\"\n",
        "        Do not return anything, modify s in-place instead.\n",
        "        \"\"\"\n",
        "        "
      ],
      "execution_count": null,
      "outputs": []
    }
  ]
}