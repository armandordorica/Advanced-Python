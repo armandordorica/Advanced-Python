{
  "nbformat": 4,
  "nbformat_minor": 0,
  "metadata": {
    "colab": {
      "name": "Fibonacci.ipynb",
      "provenance": [],
      "authorship_tag": "ABX9TyOGySn2uIH+JibKD3uQh/fR",
      "include_colab_link": true
    },
    "kernelspec": {
      "name": "python3",
      "display_name": "Python 3"
    },
    "language_info": {
      "name": "python"
    }
  },
  "cells": [
    {
      "cell_type": "markdown",
      "metadata": {
        "id": "view-in-github",
        "colab_type": "text"
      },
      "source": [
        "<a href=\"https://colab.research.google.com/github/armandordorica/Advanced-Python/blob/master/coding_challenges/recursion/Fibonacci.ipynb\" target=\"_parent\"><img src=\"https://colab.research.google.com/assets/colab-badge.svg\" alt=\"Open In Colab\"/></a>"
      ]
    },
    {
      "cell_type": "code",
      "metadata": {
        "id": "olGHffG7Tv2k"
      },
      "source": [
        "cache = {}\n",
        "\n",
        "def get_fibonacci(n):\n",
        "    if n in cache:\n",
        "        return cache[n]\n",
        "    if n==0: \n",
        "        result = 0 \n",
        "    elif n==1: \n",
        "        result = 1 \n",
        "    \n",
        "    elif n>1: \n",
        "        result = get_fibonacci(n-1)+get_fibonacci(n-2) \n",
        "        \n",
        "    cache[n]=result \n",
        "    \n",
        "    return result \n",
        "\n",
        "class Solution:\n",
        "    def fib(self, n: int) -> int:\n",
        "        return get_fibonacci(n)\n",
        "        "
      ],
      "execution_count": null,
      "outputs": []
    }
  ]
}