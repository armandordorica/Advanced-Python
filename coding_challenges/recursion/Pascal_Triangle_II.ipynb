{
  "nbformat": 4,
  "nbformat_minor": 0,
  "metadata": {
    "colab": {
      "name": "Pascal Triangle II.ipynb",
      "provenance": [],
      "authorship_tag": "ABX9TyOJKmL2ryq1Hz8GU4/J4gL6",
      "include_colab_link": true
    },
    "kernelspec": {
      "name": "python3",
      "display_name": "Python 3"
    },
    "language_info": {
      "name": "python"
    }
  },
  "cells": [
    {
      "cell_type": "markdown",
      "metadata": {
        "id": "view-in-github",
        "colab_type": "text"
      },
      "source": [
        "<a href=\"https://colab.research.google.com/github/armandordorica/Advanced-Python/blob/master/coding_challenges/recursion/Pascal_Triangle_II.ipynb\" target=\"_parent\"><img src=\"https://colab.research.google.com/assets/colab-badge.svg\" alt=\"Open In Colab\"/></a>"
      ]
    },
    {
      "cell_type": "code",
      "metadata": {
        "id": "B1IK4B5ISg7p"
      },
      "source": [
        "results_dict = {}\n",
        "\n",
        "def pascal_triangle(i,j): \n",
        "    key = '{},{}'.format(i,j) \n",
        "    if key in results_dict.keys():\n",
        "        return results_dict[key]\n",
        "    elif i==j or j==1: \n",
        "        result = 1\n",
        "    else: \n",
        "        result = pascal_triangle(i-1,j-1) +pascal_triangle(i-1,j) \n",
        "        \n",
        "    if key not in results_dict.keys(): \n",
        "        results_dict[key] = result \n",
        "    return result \n",
        "    \n",
        "\n",
        "\n",
        "def get_pascal_row(rowIndex): \n",
        "    if rowIndex == 0: \n",
        "        return [1]\n",
        "    \n",
        "    rowIndex +=1 \n",
        "    \n",
        "    \n",
        "    if rowIndex%2 !=0: \n",
        "        output_row = [1]\n",
        "        first_half = []\n",
        "\n",
        "        for i in range(2, rowIndex//2+1): \n",
        "            result = pascal_triangle(rowIndex, i)\n",
        "            key = '{},{}'.format(rowIndex,i)\n",
        "            if key not in results_dict.keys(): \n",
        "                results_dict[key]=result \n",
        "            first_half.append(result)  \n",
        "\n",
        "        output_row += first_half\n",
        "        output_row += [pascal_triangle(rowIndex, rowIndex//2+1)]\n",
        "        first_half.reverse()\n",
        "        output_row += first_half\n",
        "        output_row.append(1)\n",
        "        \n",
        "    else: \n",
        "        output_row = [1]\n",
        "        first_half = []\n",
        "        \n",
        "        for i in range(2, rowIndex//2+1): \n",
        "            result = pascal_triangle(rowIndex, i)\n",
        "            key = '{},{}'.format(rowIndex,i)\n",
        "            if key not in results_dict.keys(): \n",
        "                results_dict[key]=result \n",
        "                \n",
        "            first_half.append(result) \n",
        "        \n",
        "        output_row += first_half\n",
        "        \n",
        "        first_half.reverse()\n",
        "        output_row +=first_half\n",
        "        output_row.append(1)\n",
        "        \n",
        "\n",
        "    return output_row \n",
        "                          \n",
        "    \n",
        "\n",
        "class Solution:\n",
        "    def getRow(self, rowIndex: int) -> List[int]:\n",
        "        return get_pascal_row(rowIndex)\n",
        "        "
      ],
      "execution_count": null,
      "outputs": []
    }
  ]
}