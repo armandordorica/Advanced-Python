{
  "nbformat": 4,
  "nbformat_minor": 0,
  "metadata": {
    "colab": {
      "name": "Critical Connections in a Network.ipynb",
      "provenance": [],
      "authorship_tag": "ABX9TyNfWDctMHojygG3JBI/OUwj",
      "include_colab_link": true
    },
    "kernelspec": {
      "name": "python3",
      "display_name": "Python 3"
    }
  },
  "cells": [
    {
      "cell_type": "markdown",
      "metadata": {
        "id": "view-in-github",
        "colab_type": "text"
      },
      "source": [
        "<a href=\"https://colab.research.google.com/github/armandordorica/Advanced-Python/blob/master/coding_challenges/Critical_Connections_in_a_Network.ipynb\" target=\"_parent\"><img src=\"https://colab.research.google.com/assets/colab-badge.svg\" alt=\"Open In Colab\"/></a>"
      ]
    },
    {
      "cell_type": "markdown",
      "metadata": {
        "id": "qodQuaX90CzP",
        "colab_type": "text"
      },
      "source": [
        "There are `n servers` numbered from `0` to `n-1` connected by undirected server-to-server connections forming a network where `connections[i] = [a, b]` represents a connection between servers a and b. Any server can reach any other server directly or indirectly through the network.\n",
        "\n",
        "* A critical connection is a connection that, if removed, will make some server unable to reach some other server.\n",
        "\n",
        "* Return all critical connections in the network in any order."
      ]
    },
    {
      "cell_type": "markdown",
      "metadata": {
        "id": "DadPgsW30Ndz",
        "colab_type": "text"
      },
      "source": [
        "**Sample Input/Output**\n",
        "* Input: `n = 4`, `connections = [[0,1],[1,2],[2,0],[1,3]]`\n",
        "* Output: `[[1,3]]`\n",
        "\n",
        "Explanation: `[[3,1]]` is also accepted."
      ]
    },
    {
      "cell_type": "code",
      "metadata": {
        "id": "2IeDyuyq0Mvt",
        "colab_type": "code",
        "colab": {}
      },
      "source": [
        "import matplotlib.pyplot as plt\n",
        "import networkx as nx\n",
        "from itertools import combinations \n",
        "\n",
        "\n",
        "n = 4\n",
        "input_edges = [[0,1],[1,2],[2,0],[1,3]]"
      ],
      "execution_count": 1,
      "outputs": []
    },
    {
      "cell_type": "code",
      "metadata": {
        "id": "mtuXji233wvH",
        "colab_type": "code",
        "colab": {}
      },
      "source": [
        "connections = [tuple(l) for l in input_edges]"
      ],
      "execution_count": 2,
      "outputs": []
    },
    {
      "cell_type": "code",
      "metadata": {
        "id": "srhFk6Gi3QWu",
        "colab_type": "code",
        "colab": {}
      },
      "source": [
        "# Create graph\n",
        "G = nx.Graph()\n",
        "# Fill graph with data\n",
        "G.add_edges_from(connections)\n",
        "\n",
        "# Get all simple paths from node 'a' to node 'i'\n",
        "# list(nx.all_simple_paths(G, '0', '1'))"
      ],
      "execution_count": 3,
      "outputs": []
    },
    {
      "cell_type": "code",
      "metadata": {
        "id": "7oRWYKBV3ZVv",
        "colab_type": "code",
        "colab": {
          "base_uri": "https://localhost:8080/",
          "height": 319
        },
        "outputId": "5b2ff477-f68c-417d-e85f-e2a967746ccf"
      },
      "source": [
        "nx.draw(G, node_color=\"cyan\", with_labels = True)\n",
        "plt.show() # display"
      ],
      "execution_count": 4,
      "outputs": [
        {
          "output_type": "display_data",
          "data": {
            "image/png": "[encoded data removed]",
            "text/plain": [
              "<Figure size 432x288 with 1 Axes>"
            ]
          },
          "metadata": {
            "tags": []
          }
        }
      ]
    },
    {
      "cell_type": "code",
      "metadata": {
        "id": "YPGSMDdP4Ymn",
        "colab_type": "code",
        "colab": {
          "base_uri": "https://localhost:8080/",
          "height": 34
        },
        "outputId": "fb4a8e49-13ff-4100-8072-96409fbdcda7"
      },
      "source": [
        "arr = list(G.nodes)\n",
        "r = 2\n",
        "possible_connections = list(combinations(arr, r)) \n",
        "print(\"Possible connections: {}\".format(possible_connections))"
      ],
      "execution_count": 5,
      "outputs": [
        {
          "output_type": "stream",
          "text": [
            "Possible connections: [(0, 1), (0, 2), (0, 3), (1, 2), (1, 3), (2, 3)]\n"
          ],
          "name": "stdout"
        }
      ]
    },
    {
      "cell_type": "code",
      "metadata": {
        "id": "kzHoFkBd4l_8",
        "colab_type": "code",
        "colab": {
          "base_uri": "https://localhost:8080/",
          "height": 250
        },
        "outputId": "f4f9c265-fee1-4125-f646-4590a8957e2d"
      },
      "source": [
        "critical_connections = []\n",
        "\n",
        "for i in range(0, len(possible_connections)):\n",
        "  a= possible_connections[i][0]\n",
        "  b= possible_connections[i][1]\n",
        "  print(\"Connection: {} to {}\".format(a, b))\n",
        "  paths = list(nx.all_simple_paths(G, a, b))\n",
        "\n",
        "  print(paths)\n",
        "  if len(paths) <= 1: \n",
        "    critical_connections.append(paths)\n",
        "\n",
        "\n",
        "flat_list = [item for sublist in critical_connections for item in sublist]\n",
        "\n",
        "critical_connections = flat_list\n",
        "\n",
        "\n",
        "print(\"Critical connections:{}\".format(critical_connections))"
      ],
      "execution_count": 6,
      "outputs": [
        {
          "output_type": "stream",
          "text": [
            "Connection: 0 to 1\n",
            "[[0, 1], [0, 2, 1]]\n",
            "Connection: 0 to 2\n",
            "[[0, 1, 2], [0, 2]]\n",
            "Connection: 0 to 3\n",
            "[[0, 1, 3], [0, 2, 1, 3]]\n",
            "Connection: 1 to 2\n",
            "[[1, 0, 2], [1, 2]]\n",
            "Connection: 1 to 3\n",
            "[[1, 3]]\n",
            "Connection: 2 to 3\n",
            "[[2, 1, 3], [2, 0, 1, 3]]\n",
            "Critical connections:[[1, 3]]\n"
          ],
          "name": "stdout"
        }
      ]
    },
    {
      "cell_type": "code",
      "metadata": {
        "id": "opmNIjUP7B-z",
        "colab_type": "code",
        "colab": {}
      },
      "source": [
        "def get_critical_connections(input_edges):\n",
        "  connections = [tuple(l) for l in input_edges]\n",
        "  G = nx.Graph()\n",
        "  # Fill graph with data\n",
        "  G.add_edges_from(connections)\n",
        "\n",
        "  arr = list(G.nodes)\n",
        "  r = 2\n",
        "  possible_connections = list(combinations(arr, r)) \n",
        "  print(\"Possible connections: {}\".format(possible_connections))\n",
        "\n",
        "  critical_connections = []\n",
        "\n",
        "  for i in range(0, len(possible_connections)):\n",
        "    a= possible_connections[i][0]\n",
        "    b= possible_connections[i][1]\n",
        "    print(\"Connection: {} to {}\".format(a, b))\n",
        "    paths = list(nx.all_simple_paths(G, a, b))\n",
        "\n",
        "    print(paths)\n",
        "    if len(paths) <= 1: \n",
        "      critical_connections.append(paths)\n",
        "\n",
        "\n",
        "  flat_list = [item for sublist in critical_connections for item in sublist]\n",
        "\n",
        "  critical_connections = flat_list\n",
        "\n",
        "  return critical_connections"
      ],
      "execution_count": 7,
      "outputs": []
    },
    {
      "cell_type": "code",
      "metadata": {
        "id": "XOhYd24p7aYK",
        "colab_type": "code",
        "colab": {
          "base_uri": "https://localhost:8080/",
          "height": 268
        },
        "outputId": "a4cd24b3-13ca-4e95-f2c6-565bbf854d42"
      },
      "source": [
        "get_critical_connections(input_edges)"
      ],
      "execution_count": 8,
      "outputs": [
        {
          "output_type": "stream",
          "text": [
            "Possible connections: [(0, 1), (0, 2), (0, 3), (1, 2), (1, 3), (2, 3)]\n",
            "Connection: 0 to 1\n",
            "[[0, 1], [0, 2, 1]]\n",
            "Connection: 0 to 2\n",
            "[[0, 1, 2], [0, 2]]\n",
            "Connection: 0 to 3\n",
            "[[0, 1, 3], [0, 2, 1, 3]]\n",
            "Connection: 1 to 2\n",
            "[[1, 0, 2], [1, 2]]\n",
            "Connection: 1 to 3\n",
            "[[1, 3]]\n",
            "Connection: 2 to 3\n",
            "[[2, 1, 3], [2, 0, 1, 3]]\n"
          ],
          "name": "stdout"
        },
        {
          "output_type": "execute_result",
          "data": {
            "text/plain": [
              "[[1, 3]]"
            ]
          },
          "metadata": {
            "tags": []
          },
          "execution_count": 8
        }
      ]
    },
    {
      "cell_type": "code",
      "metadata": {
        "id": "livzifcO4Hqa",
        "colab_type": "code",
        "colab": {
          "base_uri": "https://localhost:8080/",
          "height": 34
        },
        "outputId": "00feb940-e4f2-476d-d91b-55b495974a35"
      },
      "source": [
        "list(nx.all_simple_paths(G, 0, 1))"
      ],
      "execution_count": 9,
      "outputs": [
        {
          "output_type": "execute_result",
          "data": {
            "text/plain": [
              "[[0, 1], [0, 2, 1]]"
            ]
          },
          "metadata": {
            "tags": []
          },
          "execution_count": 9
        }
      ]
    },
    {
      "cell_type": "code",
      "metadata": {
        "id": "uJKJ2tkh4PI-",
        "colab_type": "code",
        "colab": {
          "base_uri": "https://localhost:8080/",
          "height": 34
        },
        "outputId": "306102d4-4e10-4a68-f88d-32544d0dd515"
      },
      "source": [
        "G.nodes"
      ],
      "execution_count": 10,
      "outputs": [
        {
          "output_type": "execute_result",
          "data": {
            "text/plain": [
              "NodeView((0, 1, 2, 3))"
            ]
          },
          "metadata": {
            "tags": []
          },
          "execution_count": 10
        }
      ]
    },
    {
      "cell_type": "code",
      "metadata": {
        "id": "F8NSs5XV3Tf_",
        "colab_type": "code",
        "colab": {
          "base_uri": "https://localhost:8080/",
          "height": 232
        },
        "outputId": "23a07592-aad9-4d16-c42b-9249c5c85d56"
      },
      "source": [
        "for start in G.nodes:\n",
        "    for end in G.nodes:\n",
        "        if start != end:\n",
        "            print(list(nx.all_simple_paths(G, start, end)))"
      ],
      "execution_count": 11,
      "outputs": [
        {
          "output_type": "stream",
          "text": [
            "[[0, 1], [0, 2, 1]]\n",
            "[[0, 1, 2], [0, 2]]\n",
            "[[0, 1, 3], [0, 2, 1, 3]]\n",
            "[[1, 0], [1, 2, 0]]\n",
            "[[1, 0, 2], [1, 2]]\n",
            "[[1, 3]]\n",
            "[[2, 1, 0], [2, 0]]\n",
            "[[2, 1], [2, 0, 1]]\n",
            "[[2, 1, 3], [2, 0, 1, 3]]\n",
            "[[3, 1, 0], [3, 1, 2, 0]]\n",
            "[[3, 1]]\n",
            "[[3, 1, 0, 2], [3, 1, 2]]\n"
          ],
          "name": "stdout"
        }
      ]
    },
    {
      "cell_type": "markdown",
      "metadata": {
        "id": "hZ5tveWA2qwN",
        "colab_type": "text"
      },
      "source": [
        "# Dijkstra's Shortest Path Algorithm\n",
        "Begin with two lists: \n",
        "`visited = []` - empty list \n",
        "`unvisited = []` - contains all the nodes\n",
        "\n",
        "1. Visit the unvisited vertex with the smallest known distance from the start vertex. "
      ]
    },
    {
      "cell_type": "code",
      "metadata": {
        "id": "e8tegDlt1_1X",
        "colab_type": "code",
        "colab": {}
      },
      "source": [
        ""
      ],
      "execution_count": null,
      "outputs": []
    }
  ]
}