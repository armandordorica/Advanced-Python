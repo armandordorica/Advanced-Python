{
  "nbformat": 4,
  "nbformat_minor": 0,
  "metadata": {
    "colab": {
      "name": "rotting_oranges.ipynb",
      "provenance": [],
      "authorship_tag": "ABX9TyN5eQoy06Vqj8D/NL6UJEf/",
      "include_colab_link": true
    },
    "kernelspec": {
      "name": "python3",
      "display_name": "Python 3"
    }
  },
  "cells": [
    {
      "cell_type": "markdown",
      "metadata": {
        "id": "view-in-github",
        "colab_type": "text"
      },
      "source": [
        "<a href=\"https://colab.research.google.com/github/armandordorica/Advanced-Python/blob/master/coding_challenges/rotting_oranges.ipynb\" target=\"_parent\"><img src=\"https://colab.research.google.com/assets/colab-badge.svg\" alt=\"Open In Colab\"/></a>"
      ]
    },
    {
      "cell_type": "code",
      "metadata": {
        "id": "bTkGeA1k7h_h",
        "colab_type": "code",
        "colab": {}
      },
      "source": [
        "import numpy as np"
      ],
      "execution_count": 1,
      "outputs": []
    },
    {
      "cell_type": "markdown",
      "metadata": {
        "id": "Z_KUatr8TSad",
        "colab_type": "text"
      },
      "source": [
        "# Instructions\n",
        "In a given grid, each cell can have one of three values:\n",
        "\n",
        "* the value 0 representing an empty cell;\n",
        "* the value 1 representing a fresh orange;\n",
        "* the value 2 representing a rotten orange.\n",
        "\n",
        "Every minute, any fresh orange that is adjacent (4-directionally) to a rotten orange becomes rotten.\n",
        "\n",
        "Return the minimum number of minutes that must elapse until no cell has a fresh orange.  If this is impossible, return -1 instead.\n",
        "\n"
      ]
    },
    {
      "cell_type": "markdown",
      "metadata": {
        "id": "vTc3q8Cn8BqE",
        "colab_type": "text"
      },
      "source": [
        "## Cell Class\n",
        "* Each cell has location (i,j) in a grid and a grid. \n",
        "* Each cell lives in a Grid\n",
        "* Each cell must be able to obtain the indices of the neighbours within the grid \n",
        "* Each cell must be able to obtain the values of the neighbours within the grid \n",
        "* Each cell must be able to obtain the number of rotten neighbours (based on their values)\n",
        "* Each cell must be able to obtain its next status based on its current status and the number of rotten neighbours \n",
        "\n",
        "## Grid Class \n",
        "* Each Grid is initialized with a numpy array \n",
        "* A Grid can then be represented as an m x n array of Cell objects \n",
        "* A Grid has num_rows and num_cols based on the shape[0] and shape[1] of the numpy array it is initialized with\n",
        "* A Grid has `num_ones` as attribute, which corresponds to the number of fresh oranges it still has. \n",
        "* A Grid must have a `next_grid` based on the next value of each of the cells given the neighbours within the Grid. \n",
        "\n"
      ]
    },
    {
      "cell_type": "code",
      "metadata": {
        "id": "klX2Cz0O-8kF",
        "colab_type": "code",
        "colab": {}
      },
      "source": [
        "class Cell:\n",
        "  def __init__(self, i,j,grid): \n",
        "    self.i = i \n",
        "    self.j = j\n",
        "    self.grid = np.array(grid)\n",
        "\n",
        "    self.current_status = self.grid[self.i][self.j]\n",
        "\n",
        "    self.neighbours_indices = self.get_neighbours_indices()\n",
        "\n",
        "    self.num_rotten_neighbours = self.get_rotten_neighbours()\n",
        "    self.next_status = self.get_next_status()\n",
        "\n",
        "\n",
        "  def get_neighbours_indices(self): \n",
        "    possible_neighbours = [(self.i-1,self.j), (self.i, self.j-1), (self.i, self.j+1), (self.i+1,self.j)]\n",
        "\n",
        "    max_rows = self.grid.shape[0]-1\n",
        "    max_cols = self.grid.shape[1]-1\n",
        "\n",
        "    filtered_neighbours = list(filter(lambda x: (x[0] >= 0 and x[0]<= max_rows) and (x[1]>=0 and x[1]<= max_cols), possible_neighbours))\n",
        "\n",
        "    return filtered_neighbours\n",
        "\n",
        "  def get_rotten_neighbours(self):\n",
        "    rotten_neighbours = []\n",
        "    for i in range(0, len(self.neighbours_indices)):\n",
        "      neighbour_value = self.grid[self.neighbours_indices[i][0], self.neighbours_indices[i][1]]\n",
        "\n",
        "      if neighbour_value == 2: \n",
        "        rotten_neighbours.append(self.neighbours_indices[i])\n",
        "        #print(cell.grid[cell.neighbours_indices[i][0], cell.neighbours_indices[i][1]])\n",
        "\n",
        "\n",
        "    return len(rotten_neighbours)\n",
        "\n",
        "\n",
        "  def get_next_status(self): \n",
        "    if self.num_rotten_neighbours > 0 and self.current_status ==1: \n",
        "      self.next_status = 2 \n",
        "\n",
        "    else: \n",
        "      self.next_status  = self.current_status\n",
        "    \n",
        "    return self.next_status\n",
        "\n",
        "\n",
        "    # self.current_status = grid[i][j]"
      ],
      "execution_count": 3,
      "outputs": []
    },
    {
      "cell_type": "code",
      "metadata": {
        "id": "BEoZi2zO-_Sh",
        "colab_type": "code",
        "colab": {}
      },
      "source": [
        "class Grid: \n",
        "  def __init__(self, grid): \n",
        "    self.grid = np.array(grid)\n",
        "    self.num_rows = self.grid.shape[0]\n",
        "    self.num_cols = self.grid.shape[1]\n",
        "    self.grid_of_cells = self.get_grid_of_cells()\n",
        "\n",
        "    self.next_grid = self.get_next_status_grid()\n",
        "\n",
        "    self.num_ones = self.get_num_ones()\n",
        "\n",
        "\n",
        "  \n",
        "  def get_grid_of_cells(self): \n",
        "    self.grid_of_cells = []\n",
        "    for i in range(0, self.num_rows):\n",
        "      row = []\n",
        "      for j in range(0, self.num_cols): \n",
        "        cell = Cell(i, j, self.grid)\n",
        "        row.append(cell)\n",
        "        #print(i, j, self.grid[i][j])\n",
        "        \n",
        "      self.grid_of_cells.append(row)\n",
        "    \n",
        "    return self.grid_of_cells\n",
        "\n",
        "\n",
        "  def get_next_status_grid(self): \n",
        "    self.next_grid = []\n",
        "\n",
        "    for i in range(0, self.num_rows):\n",
        "      rows= []\n",
        "      for j in range(0, self.num_cols):\n",
        "        rows.append(self.grid_of_cells[i][j].next_status)\n",
        "      \n",
        "      self.next_grid.append(rows)\n",
        "\n",
        "    \n",
        "    \n",
        "    return np.array(self.next_grid)\n",
        "\n",
        "  def get_num_ones(self):\n",
        "    unique, counts = np.unique(self.grid, return_counts=True)\n",
        "    counts = dict(zip(unique, counts))\n",
        "\n",
        "    if 1 in counts.keys(): \n",
        "      return counts[1]\n",
        "\n",
        "    else: \n",
        "      return 0\n"
      ],
      "execution_count": 4,
      "outputs": []
    },
    {
      "cell_type": "code",
      "metadata": {
        "id": "ktLjf7opRhs5",
        "colab_type": "code",
        "colab": {}
      },
      "source": [
        "def get_num_iterations_required(input_grid): \n",
        "    ## Initializing list of grids\n",
        "  iters = []\n",
        "  initial_grid = Grid(input_grid)\n",
        "  iters.append(initial_grid)\n",
        "\n",
        "  # initialize counter\n",
        "  i = 0\n",
        "\n",
        "  num_ones = []\n",
        "  curr_num_ones = iters[i].num_ones\n",
        "  num_ones.append(iters[i].num_ones)\n",
        "\n",
        "  while curr_num_ones > 0: \n",
        "    iters.append(Grid(iters[i].next_grid))\n",
        "\n",
        "    curr_num_ones = iters[i+1].num_ones\n",
        "    num_ones.append(iters[i+1].num_ones)\n",
        "\n",
        "    if i>0 and num_ones[i] == num_ones[i-1]: \n",
        "      break\n",
        "\n",
        "    i+=1\n",
        "\n",
        "\n",
        "  for i in range(0,len(iters)):\n",
        "    print(iters[i].grid)\n",
        "\n",
        "  if num_ones[-1]==0:\n",
        "    return (len(iters)-1)\n",
        "\n",
        "  if num_ones[-1]==1:\n",
        "    return (-1)\n",
        "\n",
        "  else: \n",
        "    print(\"Error\")\n",
        "    print(\"num_ones:{}\".format(num_ones))\n",
        "\n",
        "  "
      ],
      "execution_count": 53,
      "outputs": []
    },
    {
      "cell_type": "markdown",
      "metadata": {
        "id": "N1RCOYkCTaX5",
        "colab_type": "text"
      },
      "source": [
        "# Test Cases"
      ]
    },
    {
      "cell_type": "code",
      "metadata": {
        "id": "gc5aaCMxTbkz",
        "colab_type": "code",
        "colab": {
          "base_uri": "https://localhost:8080/",
          "height": 70
        },
        "outputId": "ed32f8d9-6d5b-44ef-deec-6a40225c6de5"
      },
      "source": [
        "g1 = [\n",
        "  [2,1,1],\n",
        "  [1,1,0],\n",
        "  [0,1,1]\n",
        "  ]\n",
        "np.array(g1)"
      ],
      "execution_count": 65,
      "outputs": [
        {
          "output_type": "execute_result",
          "data": {
            "text/plain": [
              "array([[2, 1, 1],\n",
              "       [1, 1, 0],\n",
              "       [0, 1, 1]])"
            ]
          },
          "metadata": {
            "tags": []
          },
          "execution_count": 65
        }
      ]
    },
    {
      "cell_type": "code",
      "metadata": {
        "id": "uuZZUf9WL8gv",
        "colab_type": "code",
        "colab": {
          "base_uri": "https://localhost:8080/",
          "height": 304
        },
        "outputId": "c4fce8e7-cb4e-4226-9c7a-b4f62a31a6ef"
      },
      "source": [
        "get_num_iterations_required(g1)"
      ],
      "execution_count": 66,
      "outputs": [
        {
          "output_type": "stream",
          "text": [
            "[[2 1 1]\n",
            " [1 1 0]\n",
            " [0 1 1]]\n",
            "[[2 2 1]\n",
            " [2 1 0]\n",
            " [0 1 1]]\n",
            "[[2 2 2]\n",
            " [2 2 0]\n",
            " [0 1 1]]\n",
            "[[2 2 2]\n",
            " [2 2 0]\n",
            " [0 2 1]]\n",
            "[[2 2 2]\n",
            " [2 2 0]\n",
            " [0 2 2]]\n"
          ],
          "name": "stdout"
        },
        {
          "output_type": "execute_result",
          "data": {
            "text/plain": [
              "4"
            ]
          },
          "metadata": {
            "tags": []
          },
          "execution_count": 66
        }
      ]
    },
    {
      "cell_type": "code",
      "metadata": {
        "id": "1Ln2gLjLOcv6",
        "colab_type": "code",
        "colab": {
          "base_uri": "https://localhost:8080/",
          "height": 70
        },
        "outputId": "d1cab8f6-c01e-44c4-8e39-3fd909161c71"
      },
      "source": [
        "g2 = [[2,1,1],[0,1,1],[1,0,1]]\n",
        "np.array(g2)"
      ],
      "execution_count": 67,
      "outputs": [
        {
          "output_type": "execute_result",
          "data": {
            "text/plain": [
              "array([[2, 1, 1],\n",
              "       [0, 1, 1],\n",
              "       [1, 0, 1]])"
            ]
          },
          "metadata": {
            "tags": []
          },
          "execution_count": 67
        }
      ]
    },
    {
      "cell_type": "code",
      "metadata": {
        "id": "zNSHzGplMsoy",
        "colab_type": "code",
        "colab": {
          "base_uri": "https://localhost:8080/",
          "height": 412
        },
        "outputId": "15c95132-faa6-4c13-c63e-ff692279dbf5"
      },
      "source": [
        "get_num_iterations_required(g2)"
      ],
      "execution_count": 68,
      "outputs": [
        {
          "output_type": "stream",
          "text": [
            "[[2 1 1]\n",
            " [0 1 1]\n",
            " [1 0 1]]\n",
            "[[2 2 1]\n",
            " [0 1 1]\n",
            " [1 0 1]]\n",
            "[[2 2 2]\n",
            " [0 2 1]\n",
            " [1 0 1]]\n",
            "[[2 2 2]\n",
            " [0 2 2]\n",
            " [1 0 1]]\n",
            "[[2 2 2]\n",
            " [0 2 2]\n",
            " [1 0 2]]\n",
            "[[2 2 2]\n",
            " [0 2 2]\n",
            " [1 0 2]]\n",
            "[[2 2 2]\n",
            " [0 2 2]\n",
            " [1 0 2]]\n"
          ],
          "name": "stdout"
        },
        {
          "output_type": "execute_result",
          "data": {
            "text/plain": [
              "-1"
            ]
          },
          "metadata": {
            "tags": []
          },
          "execution_count": 68
        }
      ]
    },
    {
      "cell_type": "code",
      "metadata": {
        "id": "ZW5Pn876Ni3n",
        "colab_type": "code",
        "colab": {}
      },
      "source": [
        ""
      ],
      "execution_count": null,
      "outputs": []
    }
  ]
}