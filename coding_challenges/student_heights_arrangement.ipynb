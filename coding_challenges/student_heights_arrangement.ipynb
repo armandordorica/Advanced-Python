{
  "nbformat": 4,
  "nbformat_minor": 0,
  "metadata": {
    "colab": {
      "name": "student_heights_arrangement.ipynb",
      "provenance": [],
      "authorship_tag": "ABX9TyNqUkwvLLw00Z+pHwAgtxbu",
      "include_colab_link": true
    },
    "kernelspec": {
      "name": "python3",
      "display_name": "Python 3"
    }
  },
  "cells": [
    {
      "cell_type": "markdown",
      "metadata": {
        "id": "view-in-github",
        "colab_type": "text"
      },
      "source": [
        "<a href=\"https://colab.research.google.com/github/armandordorica/Advanced-Python/blob/master/coding_challenges/student_heights_arrangement.ipynb\" target=\"_parent\"><img src=\"https://colab.research.google.com/assets/colab-badge.svg\" alt=\"Open In Colab\"/></a>"
      ]
    },
    {
      "cell_type": "code",
      "metadata": {
        "id": "WA5FQ_XerwvN",
        "colab_type": "code",
        "colab": {}
      },
      "source": [
        "ex1_input = [1,1,4,2,1,3]"
      ],
      "execution_count": 0,
      "outputs": []
    },
    {
      "cell_type": "code",
      "metadata": {
        "id": "7vX0ybyJrxvo",
        "colab_type": "code",
        "colab": {}
      },
      "source": [
        "input_sorted = sorted(ex1_input)"
      ],
      "execution_count": 0,
      "outputs": []
    },
    {
      "cell_type": "code",
      "metadata": {
        "id": "TW8CWu3Zr2us",
        "colab_type": "code",
        "colab": {
          "base_uri": "https://localhost:8080/",
          "height": 34
        },
        "outputId": "66eb3a12-5553-4bfb-c20b-a3f26a2a0e8f"
      },
      "source": [
        "ex1_input"
      ],
      "execution_count": 11,
      "outputs": [
        {
          "output_type": "execute_result",
          "data": {
            "text/plain": [
              "[1, 1, 4, 2, 1, 3]"
            ]
          },
          "metadata": {
            "tags": []
          },
          "execution_count": 11
        }
      ]
    },
    {
      "cell_type": "code",
      "metadata": {
        "id": "poaMPmalsEma",
        "colab_type": "code",
        "colab": {}
      },
      "source": [
        "def get_list_mismatches(input_list):\n",
        "  if len(input_list) == 0:\n",
        "    return 0 \n",
        "  input_sorted = sorted(input_list)\n",
        "  mismatches = []\n",
        "  for i in range(0, len(input_list)):\n",
        "    #print(input_list[i], input_sorted[i])\n",
        "    if input_list[i] != input_sorted[i]:\n",
        "      mismatches.append(input_list[i])\n",
        "  return mismatches"
      ],
      "execution_count": 0,
      "outputs": []
    },
    {
      "cell_type": "code",
      "metadata": {
        "id": "dvzwpV2btr4v",
        "colab_type": "code",
        "colab": {}
      },
      "source": [
        "def get_students_to_move(input_list):\n",
        "  return len(get_list_mismatches(input_list))"
      ],
      "execution_count": 0,
      "outputs": []
    },
    {
      "cell_type": "code",
      "metadata": {
        "id": "cO9bW5JYsd1V",
        "colab_type": "code",
        "colab": {
          "base_uri": "https://localhost:8080/",
          "height": 34
        },
        "outputId": "753948a4-b5c5-45cb-ac8d-185c0034dde8"
      },
      "source": [
        "get_students_to_move([1,1,4,2,1,3])"
      ],
      "execution_count": 34,
      "outputs": [
        {
          "output_type": "execute_result",
          "data": {
            "text/plain": [
              "3"
            ]
          },
          "metadata": {
            "tags": []
          },
          "execution_count": 34
        }
      ]
    },
    {
      "cell_type": "code",
      "metadata": {
        "id": "Q8tzaGlJtCFT",
        "colab_type": "code",
        "colab": {
          "base_uri": "https://localhost:8080/",
          "height": 34
        },
        "outputId": "c2a86f11-b111-4e36-b06f-7a368eb6fe90"
      },
      "source": [
        "get_students_to_move([5,1,2,3,4])"
      ],
      "execution_count": 35,
      "outputs": [
        {
          "output_type": "execute_result",
          "data": {
            "text/plain": [
              "5"
            ]
          },
          "metadata": {
            "tags": []
          },
          "execution_count": 35
        }
      ]
    },
    {
      "cell_type": "code",
      "metadata": {
        "id": "e0ga42QUt7yE",
        "colab_type": "code",
        "colab": {
          "base_uri": "https://localhost:8080/",
          "height": 34
        },
        "outputId": "2e88c49a-07f6-477f-f088-ffa325eda50f"
      },
      "source": [
        "get_students_to_move([1,2,3,4,5])"
      ],
      "execution_count": 36,
      "outputs": [
        {
          "output_type": "execute_result",
          "data": {
            "text/plain": [
              "0"
            ]
          },
          "metadata": {
            "tags": []
          },
          "execution_count": 36
        }
      ]
    },
    {
      "cell_type": "code",
      "metadata": {
        "id": "Q7rj8rjzt-6U",
        "colab_type": "code",
        "colab": {}
      },
      "source": [
        ""
      ],
      "execution_count": 0,
      "outputs": []
    }
  ]
}