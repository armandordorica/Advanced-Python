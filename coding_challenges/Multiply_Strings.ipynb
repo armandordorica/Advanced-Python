{
  "nbformat": 4,
  "nbformat_minor": 0,
  "metadata": {
    "colab": {
      "name": "Multiply_Strings.ipynb",
      "provenance": [],
      "authorship_tag": "ABX9TyOHdQfJ+Bllw3wdbv5kRajN",
      "include_colab_link": true
    },
    "kernelspec": {
      "name": "python3",
      "display_name": "Python 3"
    },
    "language_info": {
      "name": "python"
    }
  },
  "cells": [
    {
      "cell_type": "markdown",
      "metadata": {
        "id": "view-in-github",
        "colab_type": "text"
      },
      "source": [
        "<a href=\"https://colab.research.google.com/github/armandordorica/Advanced-Python/blob/master/coding_challenges/Multiply_Strings.ipynb\" target=\"_parent\"><img src=\"https://colab.research.google.com/assets/colab-badge.svg\" alt=\"Open In Colab\"/></a>"
      ]
    },
    {
      "cell_type": "code",
      "metadata": {
        "id": "9pHj1yvhsxQS"
      },
      "source": [
        "\n",
        "nums_dict = {\n",
        "'0':0, '1':1, '2':2, '3':3, '4':4, '5':5, '6':6, \n",
        "    '7':7, '8':8, '9':9\n",
        "}\n",
        "    \n",
        "      \n",
        "def multiply_strings(num1, num2): \n",
        "\n",
        "    num1 =list(num1)\n",
        "    num2 =list(num2)\n",
        "\n",
        "    num1.reverse()\n",
        "    num2.reverse()\n",
        "\n",
        "\n",
        "    sum_arr =0\n",
        "    for i in range(0, len(num2)):\n",
        "        for j in range(0, len(num1)): \n",
        "            sum_arr+= nums_dict[num2[i]]*nums_dict[num1[j]]*10**j*10**i\n",
        "\n",
        "\n",
        "    return str(sum_arr)\n",
        "        "
      ],
      "execution_count": null,
      "outputs": []
    }
  ]
}