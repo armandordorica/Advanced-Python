{
  "nbformat": 4,
  "nbformat_minor": 0,
  "metadata": {
    "colab": {
      "name": "4Sum to zero.ipynb",
      "provenance": [],
      "collapsed_sections": [],
      "authorship_tag": "ABX9TyPaifHL9xmdJQiTt+LgklpQ",
      "include_colab_link": true
    },
    "kernelspec": {
      "name": "python3",
      "display_name": "Python 3"
    }
  },
  "cells": [
    {
      "cell_type": "markdown",
      "metadata": {
        "id": "view-in-github",
        "colab_type": "text"
      },
      "source": [
        "<a href=\"https://colab.research.google.com/github/armandordorica/Advanced-Python/blob/master/coding_challenges/4Sum_to_zero%20with%20Pytest.ipynb\" target=\"_parent\"><img src=\"https://colab.research.google.com/assets/colab-badge.svg\" alt=\"Open In Colab\"/></a>"
      ]
    },
    {
      "cell_type": "code",
      "metadata": {
        "id": "tFepcm-Z__fy",
        "colab_type": "code",
        "colab": {
          "base_uri": "https://localhost:8080/",
          "height": 33
        },
        "outputId": "7128bc63-3410-427a-b5d9-1e57d0f3d05c"
      },
      "source": [
        "pip -q install pytest pytest-sugar"
      ],
      "execution_count": 1,
      "outputs": [
        {
          "output_type": "stream",
          "text": [
            "  Building wheel for pytest-sugar (setup.py) ... \u001b[?25l\u001b[?25hdone\n"
          ],
          "name": "stdout"
        }
      ]
    },
    {
      "cell_type": "code",
      "metadata": {
        "id": "IwOvnPpIACat",
        "colab_type": "code",
        "colab": {
          "base_uri": "https://localhost:8080/",
          "height": 51
        },
        "outputId": "e9bd54de-df15-4b8a-d20b-d19c4418c1c1"
      },
      "source": [
        "# move to tdd directory\n",
        "from pathlib import Path\n",
        "if Path.cwd().name != 'tdd':\n",
        "    %mkdir tdd\n",
        "    %cd tdd\n",
        "\n",
        "%pwd"
      ],
      "execution_count": 2,
      "outputs": [
        {
          "output_type": "stream",
          "text": [
            "/content/tdd\n"
          ],
          "name": "stdout"
        },
        {
          "output_type": "execute_result",
          "data": {
            "application/vnd.google.colaboratory.intrinsic": {
              "type": "string"
            },
            "text/plain": [
              "'/content/tdd'"
            ]
          },
          "metadata": {
            "tags": []
          },
          "execution_count": 2
        }
      ]
    },
    {
      "cell_type": "code",
      "metadata": {
        "id": "esNmcdLuAEBL",
        "colab_type": "code",
        "colab": {
          "base_uri": "https://localhost:8080/",
          "height": 33
        },
        "outputId": "bb0cfefa-a3f9-4d8c-9312-e87b9d92ce57"
      },
      "source": [
        "%rm *.py"
      ],
      "execution_count": 3,
      "outputs": [
        {
          "output_type": "stream",
          "text": [
            "rm: cannot remove '*.py': No such file or directory\n"
          ],
          "name": "stdout"
        }
      ]
    },
    {
      "cell_type": "code",
      "metadata": {
        "id": "cw4aq-ctO18E",
        "colab_type": "code",
        "colab": {}
      },
      "source": [
        "import itertools\n",
        "import pytest"
      ],
      "execution_count": 4,
      "outputs": []
    },
    {
      "cell_type": "code",
      "metadata": {
        "id": "ZS_LYdAjOD3w",
        "colab_type": "code",
        "colab": {
          "base_uri": "https://localhost:8080/",
          "height": 33
        },
        "outputId": "95a671a9-dbc2-4e47-a6f5-87d2291c02b0"
      },
      "source": [
        "%%file test_4sumII.py\n",
        "\n",
        "import pytest\n",
        "import itertools \n",
        "\n",
        "def truth_table_fn(input_values, n): \n",
        "  return list(itertools.product(input_values, repeat=n))\n",
        "\n",
        "def get_len_zero_tuples(A,B,C,D): \n",
        "  N = len(A)\n",
        "  input_values = list(range(N))\n",
        "  n = 4\n",
        "  truth_table = truth_table_fn(input_values, n)\n",
        "\n",
        "\n",
        "  zero_tuples = []\n",
        "  for i in range(0, len(truth_table)):\n",
        "    result = A[truth_table[i][0]] + B[truth_table[i][1]] + C[truth_table[i][2]] + D[truth_table[i][3]]\n",
        "    if result == 0: \n",
        "      print(i, result)\n",
        "      zero_tuples.append(truth_table[i])\n",
        "      print(truth_table[i])\n",
        "\n",
        "  return len(zero_tuples)\n",
        "\n",
        "\n",
        "\n",
        "def test_get_len_zero_tuples_basic(): \n",
        "  A = [1,2]\n",
        "  B = [-2, -1]\n",
        "  C = [-1, 2]\n",
        "  D = [0,2]\n",
        "  assert get_len_zero_tuples(A,B,C,D) == 2\n",
        "\n",
        "def test_get_len_zero_tuples_empty(): \n",
        "  A = [0]\n",
        "  B = [0]\n",
        "  C = [0]\n",
        "  D = [0]\n",
        "  assert get_len_zero_tuples(A,B,C,D) == 1\n"
      ],
      "execution_count": 9,
      "outputs": [
        {
          "output_type": "stream",
          "text": [
            "Overwriting test_4sumII.py\n"
          ],
          "name": "stdout"
        }
      ]
    },
    {
      "cell_type": "code",
      "metadata": {
        "id": "-jdpnBDaOcLx",
        "colab_type": "code",
        "colab": {
          "base_uri": "https://localhost:8080/",
          "height": 160
        },
        "outputId": "005560c0-3072-4112-928d-e706509b3de5"
      },
      "source": [
        "!python -m pytest test_4sumII.py"
      ],
      "execution_count": null,
      "outputs": [
        {
          "output_type": "stream",
          "text": [
            "\u001b[1mTest session starts (platform: linux, Python 3.6.9, pytest 3.6.4, pytest-sugar 0.9.3)\u001b[0m\n",
            "rootdir: /content/tdd, inifile:\n",
            "plugins: typeguard-2.7.1, sugar-0.9.3\n",
            "\r\n",
            "\r \u001b[36m\u001b[0mtest_4sumII.py\u001b[0m \u001b[32m✓\u001b[0m                                                 \u001b[32m50% \u001b[0m\u001b[40m\u001b[32m█\u001b[0m\u001b[40m\u001b[32m████     \u001b[0m\r \u001b[36m\u001b[0mtest_4sumII.py\u001b[0m \u001b[32m✓\u001b[0m\u001b[32m✓\u001b[0m                                               \u001b[32m100% \u001b[0m\u001b[40m\u001b[32m█\u001b[0m\u001b[40m\u001b[32m████\u001b[0m\u001b[40m\u001b[32m█\u001b[0m\u001b[40m\u001b[32m████\u001b[0m\n",
            "\n",
            "Results (0.03s):\n",
            "\u001b[32m       2 passed\u001b[0m\n"
          ],
          "name": "stdout"
        }
      ]
    },
    {
      "cell_type": "code",
      "metadata": {
        "id": "XknzTZc7aHny",
        "colab_type": "code",
        "colab": {}
      },
      "source": [
        "\n",
        "def truth_table_fn(input_values, n): \n",
        "  return list(itertools.product(input_values, repeat=n))\n",
        "\n",
        "def get_len_zero_tuples(A,B,C,D): \n",
        "  N = len(A)\n",
        "  input_values = list(range(N))\n",
        "  n = 4\n",
        "  truth_table = truth_table_fn(input_values, n)\n",
        "\n",
        "\n",
        "  zero_tuples = []\n",
        "  for i in range(0, len(truth_table)):\n",
        "    result = A[truth_table[i][0]] + B[truth_table[i][1]] + C[truth_table[i][2]] + D[truth_table[i][3]]\n",
        "    if result == 0: \n",
        "      #print(i, result)\n",
        "      zero_tuples.append(truth_table[i])\n",
        "      print(truth_table[i])\n",
        "\n",
        "  return len(zero_tuples)\n",
        "\n",
        "\n",
        "\n",
        "def test_get_len_zero_tuples_basic(): \n",
        "  A = [1,2]\n",
        "  B = [-2, -1]\n",
        "  C = [-1, 2]\n",
        "  D = [0,2]\n",
        "  assert get_len_zero_tuples(A,B,C,D) == 2\n",
        "\n",
        "def test_get_len_zero_tuples_empty(): \n",
        "  A = [0]\n",
        "  B = [0]\n",
        "  C = [0]\n",
        "  D = [0]\n",
        "  assert get_len_zero_tuples(A,B,C,D) == 1\n"
      ],
      "execution_count": 198,
      "outputs": []
    },
    {
      "cell_type": "code",
      "metadata": {
        "id": "uukyJFE1aCRT",
        "colab_type": "code",
        "colab": {}
      },
      "source": [
        "A = [-1,-1]\n",
        "B = [-1,1]\n",
        "C = [-1,1]\n",
        "D = [1,-1]"
      ],
      "execution_count": 157,
      "outputs": []
    },
    {
      "cell_type": "code",
      "metadata": {
        "id": "48fRWcXlO9kO",
        "colab_type": "code",
        "colab": {
          "base_uri": "https://localhost:8080/",
          "height": 131
        },
        "outputId": "8004fffa-7336-417c-cd4b-7a2a5e011d41"
      },
      "source": [
        "get_len_zero_tuples(A,B,C,D)"
      ],
      "execution_count": 158,
      "outputs": [
        {
          "output_type": "stream",
          "text": [
            "(0, 0, 1, 0)\n",
            "(0, 1, 0, 0)\n",
            "(0, 1, 1, 1)\n",
            "(1, 0, 1, 0)\n",
            "(1, 1, 0, 0)\n",
            "(1, 1, 1, 1)\n"
          ],
          "name": "stdout"
        },
        {
          "output_type": "execute_result",
          "data": {
            "text/plain": [
              "6"
            ]
          },
          "metadata": {
            "tags": []
          },
          "execution_count": 158
        }
      ]
    },
    {
      "cell_type": "markdown",
      "metadata": {
        "id": "7wjaYHKbo7Cl",
        "colab_type": "text"
      },
      "source": [
        "### With Hash table"
      ]
    },
    {
      "cell_type": "code",
      "metadata": {
        "id": "uEpN2gHBaFH9",
        "colab_type": "code",
        "colab": {}
      },
      "source": [
        "A = [1,2,0]\n",
        "B = [-2, -1,0]\n",
        "C = [-1, 2,0]\n",
        "D = [0,2,0]\n"
      ],
      "execution_count": 223,
      "outputs": []
    },
    {
      "cell_type": "code",
      "metadata": {
        "id": "seKaN_g7pEMi",
        "colab_type": "code",
        "colab": {}
      },
      "source": [
        "A = [0]\n",
        "B = [0]\n",
        "C = [0]\n",
        "D = [0]"
      ],
      "execution_count": 224,
      "outputs": []
    },
    {
      "cell_type": "code",
      "metadata": {
        "id": "3lpIl4SYpJGI",
        "colab_type": "code",
        "colab": {}
      },
      "source": [
        "A = [1,2]\n",
        "B = [-2, -1]\n",
        "C = [-1, 2]\n",
        "D = [0,2]"
      ],
      "execution_count": 225,
      "outputs": []
    },
    {
      "cell_type": "code",
      "metadata": {
        "id": "0NmcqmJBrOCh",
        "colab_type": "code",
        "colab": {}
      },
      "source": [
        "A = [-1,-1]\n",
        "B = [-1,1]\n",
        "C = [-1,1]\n",
        "D = [1,-1]"
      ],
      "execution_count": 226,
      "outputs": []
    },
    {
      "cell_type": "code",
      "metadata": {
        "id": "ruhwXsneuISr",
        "colab_type": "code",
        "colab": {}
      },
      "source": [
        "A = [1,2,0]\n",
        "B = [-2, -1,0]\n",
        "C = [-1, 2,0]\n",
        "D = [0,2,0]"
      ],
      "execution_count": 227,
      "outputs": []
    },
    {
      "cell_type": "code",
      "metadata": {
        "id": "S-OkPry8hIXn",
        "colab_type": "code",
        "colab": {}
      },
      "source": [
        "# A+B = - (C+D) "
      ],
      "execution_count": 160,
      "outputs": []
    },
    {
      "cell_type": "code",
      "metadata": {
        "id": "rsT00n1Dzgak",
        "colab_type": "code",
        "colab": {}
      },
      "source": [
        "pip -q install pytest pytest-sugar"
      ],
      "execution_count": null,
      "outputs": []
    },
    {
      "cell_type": "code",
      "metadata": {
        "id": "9QPNlNiazefc",
        "colab_type": "code",
        "colab": {}
      },
      "source": [
        "# move to tdd directory\n",
        "from pathlib import Path\n",
        "if Path.cwd().name != 'tdd':\n",
        "    %mkdir tdd\n",
        "    %cd tdd\n",
        "\n",
        "%pwd"
      ],
      "execution_count": null,
      "outputs": []
    },
    {
      "cell_type": "code",
      "metadata": {
        "id": "x2qRUrlMzcOE",
        "colab_type": "code",
        "colab": {}
      },
      "source": [
        "%rm *.py"
      ],
      "execution_count": null,
      "outputs": []
    },
    {
      "cell_type": "code",
      "metadata": {
        "id": "pThhc9LEhMzR",
        "colab_type": "code",
        "colab": {
          "base_uri": "https://localhost:8080/",
          "height": 33
        },
        "outputId": "5700d15c-c291-401e-8e12-8389f4080986"
      },
      "source": [
        "%%file test_4sumII.py\n",
        "\n",
        "\n",
        "import itertools\n",
        "import pytest\n",
        "\n",
        "def get_left_side(A,B): \n",
        "  indices = list(itertools.product(list(range(len(A))), repeat=2))\n",
        "\n",
        "  left_side = dict()\n",
        "\n",
        "  for i in range(0, len(indices)): \n",
        "    value = A[indices[i][0]]+ B[indices[i][1]]\n",
        "\n",
        "    if value not in left_side.keys(): \n",
        "      left_side[value] = 1 \n",
        "    \n",
        "    else: \n",
        "      left_side[value] = left_side[value] +1 \n",
        "\n",
        "    #print(i, value)\n",
        "  return left_side\n",
        "\n",
        "def get_right_side(C,D): \n",
        "  indices = list(itertools.product(list(range(len(C))), repeat=2))\n",
        "\n",
        "  right_side = dict()\n",
        "  for i in range(0, len(indices)): \n",
        "    value = (C[indices[i][0]]+ D[indices[i][1]])\n",
        "\n",
        "    if value not in right_side.keys(): \n",
        "      right_side[value] = 1 \n",
        "    \n",
        "    else: \n",
        "      right_side[value] = right_side[value] +1 \n",
        "\n",
        "  return right_side\n",
        "\n",
        "\n",
        "def count_matches(left_side, right_side): \n",
        "  count = 0\n",
        "\n",
        "  for i in list(left_side.keys()):\n",
        "    # print(i, left_side[i])\n",
        "    if -i in right_side.keys():\n",
        "      #print(\"{} in right_side keys\".format(-i))\n",
        "      #print(\"left_side[{}] = {}, right_side[{}] = {}\".format(i, left_side[i], i, right_side[-i]))\n",
        "      #print(\"Product = {}\".format(left_side[i]*right_side[-i]))\n",
        "\n",
        "      count+= (left_side[i] * right_side[-i])\n",
        "\n",
        "  return count\n",
        "\n",
        "\n",
        "\n",
        "\n",
        "\n",
        "\n",
        "def test_get_len_zero_tuples_basic(): \n",
        "  A = [1,2]\n",
        "  B = [-2, -1]\n",
        "  C = [-1, 2]\n",
        "  D = [0,2]\n",
        "  left_side = get_left_side(A,B)\n",
        "  right_side = get_right_side(C,D)\n",
        "\n",
        "\n",
        "  count_matches(left_side, right_side)\n",
        "\n",
        "  assert count_matches(left_side, right_side) == 2\n",
        "\n",
        "def test_get_len_zero_tuples_empty(): \n",
        "  A = [0]\n",
        "  B = [0]\n",
        "  C = [0]\n",
        "  D = [0]\n",
        "  left_side = get_left_side(A,B)\n",
        "  right_side = get_right_side(C,D)\n",
        "\n",
        "\n",
        "  count_matches(left_side, right_side)\n",
        "\n",
        "  assert count_matches(left_side, right_side) == 1\n",
        "\n",
        "\n",
        "def test_get_len_zero_tuples_3(): \n",
        "  A = [1,2,0]\n",
        "  B = [-2, -1,0]\n",
        "  C = [-1, 2,0]\n",
        "  D = [0,2,0]\n",
        "  left_side = get_left_side(A,B)\n",
        "  right_side = get_right_side(C,D)\n",
        "\n",
        "\n",
        "  count_matches(left_side, right_side)\n",
        "\n",
        "  assert count_matches(left_side, right_side) == 15\n",
        "\n"
      ],
      "execution_count": 235,
      "outputs": [
        {
          "output_type": "stream",
          "text": [
            "Overwriting test_4sumII.py\n"
          ],
          "name": "stdout"
        }
      ]
    },
    {
      "cell_type": "code",
      "metadata": {
        "id": "1Bs5LnT5rpHb",
        "colab_type": "code",
        "colab": {
          "base_uri": "https://localhost:8080/",
          "height": 147
        },
        "outputId": "4f7d1ec8-7eea-4730-e8f7-bc4169f1d23b"
      },
      "source": [
        "!python -m pytest test_4sumII.py"
      ],
      "execution_count": 236,
      "outputs": [
        {
          "output_type": "stream",
          "text": [
            "\u001b[1mTest session starts (platform: linux, Python 3.6.9, pytest 3.6.4, pytest-sugar 0.9.3)\u001b[0m\n",
            "rootdir: /content/tdd, inifile:\n",
            "plugins: typeguard-2.7.1, sugar-0.9.3\n",
            "\r\n",
            "\r \u001b[36m\u001b[0mtest_4sumII.py\u001b[0m \u001b[32m✓\u001b[0m                                                 \u001b[32m33% \u001b[0m\u001b[40m\u001b[32m█\u001b[0m\u001b[40m\u001b[32m██▍      \u001b[0m\r \u001b[36m\u001b[0mtest_4sumII.py\u001b[0m \u001b[32m✓\u001b[0m\u001b[32m✓\u001b[0m                                                \u001b[32m67% \u001b[0m\u001b[40m\u001b[32m█\u001b[0m\u001b[40m\u001b[32m██\u001b[0m\u001b[40m\u001b[32m█\u001b[0m\u001b[40m\u001b[32m██▋   \u001b[0m\r \u001b[36m\u001b[0mtest_4sumII.py\u001b[0m \u001b[32m✓\u001b[0m\u001b[32m✓\u001b[0m\u001b[32m✓\u001b[0m                                              \u001b[32m100% \u001b[0m\u001b[40m\u001b[32m█\u001b[0m\u001b[40m\u001b[32m██\u001b[0m\u001b[40m\u001b[32m█\u001b[0m\u001b[40m\u001b[32m██\u001b[0m\u001b[40m\u001b[32m█\u001b[0m\u001b[40m\u001b[32m███\u001b[0m\n",
            "\n",
            "Results (0.03s):\n",
            "\u001b[32m       3 passed\u001b[0m\n"
          ],
          "name": "stdout"
        }
      ]
    },
    {
      "cell_type": "code",
      "metadata": {
        "id": "ngX6awFhzn36",
        "colab_type": "code",
        "colab": {}
      },
      "source": [
        ""
      ],
      "execution_count": null,
      "outputs": []
    }
  ]
}