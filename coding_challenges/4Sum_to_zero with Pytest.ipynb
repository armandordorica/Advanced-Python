{
  "nbformat": 4,
  "nbformat_minor": 0,
  "metadata": {
    "colab": {
      "name": "4Sum to zero.ipynb",
      "provenance": [],
      "collapsed_sections": [],
      "authorship_tag": "ABX9TyPS1KT36hvfyjsNX1Po4TJc",
      "include_colab_link": true
    },
    "kernelspec": {
      "name": "python3",
      "display_name": "Python 3"
    }
  },
  "cells": [
    {
      "cell_type": "markdown",
      "metadata": {
        "id": "view-in-github",
        "colab_type": "text"
      },
      "source": [
        "<a href=\"https://colab.research.google.com/github/armandordorica/Advanced-Python/blob/master/coding_challenges/4Sum_to_zero%20with%20Pytest.ipynb\" target=\"_parent\"><img src=\"https://colab.research.google.com/assets/colab-badge.svg\" alt=\"Open In Colab\"/></a>"
      ]
    },
    {
      "cell_type": "code",
      "metadata": {
        "id": "tFepcm-Z__fy",
        "colab_type": "code",
        "colab": {}
      },
      "source": [
        "pip -q install pytest pytest-sugar"
      ],
      "execution_count": 1,
      "outputs": []
    },
    {
      "cell_type": "code",
      "metadata": {
        "id": "IwOvnPpIACat",
        "colab_type": "code",
        "colab": {
          "base_uri": "https://localhost:8080/",
          "height": 72
        },
        "outputId": "8dfa8284-2c48-443b-b4ae-abd244a99b8a"
      },
      "source": [
        "# move to tdd directory\n",
        "from pathlib import Path\n",
        "if Path.cwd().name != 'tdd':\n",
        "    %mkdir tdd\n",
        "    %cd tdd\n",
        "\n",
        "%pwd"
      ],
      "execution_count": 2,
      "outputs": [
        {
          "output_type": "stream",
          "text": [
            "mkdir: cannot create directory ‘tdd’: File exists\n",
            "/content/tdd\n"
          ],
          "name": "stdout"
        },
        {
          "output_type": "execute_result",
          "data": {
            "application/vnd.google.colaboratory.intrinsic": {
              "type": "string"
            },
            "text/plain": [
              "'/content/tdd'"
            ]
          },
          "metadata": {
            "tags": []
          },
          "execution_count": 2
        }
      ]
    },
    {
      "cell_type": "code",
      "metadata": {
        "id": "esNmcdLuAEBL",
        "colab_type": "code",
        "colab": {}
      },
      "source": [
        "%rm *.py"
      ],
      "execution_count": 3,
      "outputs": []
    },
    {
      "cell_type": "code",
      "metadata": {
        "id": "cw4aq-ctO18E",
        "colab_type": "code",
        "colab": {}
      },
      "source": [
        "import itertools\n",
        "import pytest"
      ],
      "execution_count": 4,
      "outputs": []
    },
    {
      "cell_type": "code",
      "metadata": {
        "id": "ZS_LYdAjOD3w",
        "colab_type": "code",
        "colab": {
          "base_uri": "https://localhost:8080/",
          "height": 34
        },
        "outputId": "d8cf346e-8885-4006-931f-0859fa5687b3"
      },
      "source": [
        "%%file test_4sumII.py\n",
        "\n",
        "import pytest\n",
        "import itertools \n",
        "\n",
        "def truth_table_fn(input_values, n): \n",
        "  return list(itertools.product(input_values, repeat=n))\n",
        "\n",
        "def get_len_zero_tuples(A,B,C,D): \n",
        "  N = len(A)\n",
        "  input_values = list(range(N))\n",
        "  n = 4\n",
        "\n",
        "  truth_table = truth_table_fn(input_values, n)\n",
        "\n",
        "\n",
        "  zero_tuples = []\n",
        "  for i in range(0, len(truth_table)):\n",
        "    result = A[truth_table[i][0]] + B[truth_table[i][1]] + C[truth_table[i][2]] + D[truth_table[i][3]]\n",
        "    if result == 0: \n",
        "      print(i, result)\n",
        "      zero_tuples.append(truth_table[i])\n",
        "      print(truth_table[i])\n",
        "\n",
        "  return len(zero_tuples)\n",
        "\n",
        "\n",
        "\n",
        "def test_get_len_zero_tuples_basic(): \n",
        "  A = [1,2]\n",
        "  B = [-2, -1]\n",
        "  C = [-1, 2]\n",
        "  D = [0,2]\n",
        "  assert get_len_zero_tuples(A,B,C,D) == 2\n",
        "\n",
        "def test_get_len_zero_tuples_empty(): \n",
        "  A = [0]\n",
        "  B = [0]\n",
        "  C = [0]\n",
        "  D = [0]\n",
        "  assert get_len_zero_tuples(A,B,C,D) == 1\n"
      ],
      "execution_count": 5,
      "outputs": [
        {
          "output_type": "stream",
          "text": [
            "Writing test_4sumII.py\n"
          ],
          "name": "stdout"
        }
      ]
    },
    {
      "cell_type": "code",
      "metadata": {
        "id": "-jdpnBDaOcLx",
        "colab_type": "code",
        "colab": {
          "base_uri": "https://localhost:8080/",
          "height": 160
        },
        "outputId": "005560c0-3072-4112-928d-e706509b3de5"
      },
      "source": [
        "!python -m pytest test_4sumII.py"
      ],
      "execution_count": 6,
      "outputs": [
        {
          "output_type": "stream",
          "text": [
            "\u001b[1mTest session starts (platform: linux, Python 3.6.9, pytest 3.6.4, pytest-sugar 0.9.3)\u001b[0m\n",
            "rootdir: /content/tdd, inifile:\n",
            "plugins: typeguard-2.7.1, sugar-0.9.3\n",
            "\r\n",
            "\r \u001b[36m\u001b[0mtest_4sumII.py\u001b[0m \u001b[32m✓\u001b[0m                                                 \u001b[32m50% \u001b[0m\u001b[40m\u001b[32m█\u001b[0m\u001b[40m\u001b[32m████     \u001b[0m\r \u001b[36m\u001b[0mtest_4sumII.py\u001b[0m \u001b[32m✓\u001b[0m\u001b[32m✓\u001b[0m                                               \u001b[32m100% \u001b[0m\u001b[40m\u001b[32m█\u001b[0m\u001b[40m\u001b[32m████\u001b[0m\u001b[40m\u001b[32m█\u001b[0m\u001b[40m\u001b[32m████\u001b[0m\n",
            "\n",
            "Results (0.03s):\n",
            "\u001b[32m       2 passed\u001b[0m\n"
          ],
          "name": "stdout"
        }
      ]
    },
    {
      "cell_type": "code",
      "metadata": {
        "id": "48fRWcXlO9kO",
        "colab_type": "code",
        "colab": {}
      },
      "source": [
        ""
      ],
      "execution_count": null,
      "outputs": []
    }
  ]
}