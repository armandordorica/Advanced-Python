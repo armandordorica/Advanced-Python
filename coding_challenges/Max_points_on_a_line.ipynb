{
  "nbformat": 4,
  "nbformat_minor": 0,
  "metadata": {
    "colab": {
      "name": "Max points on a line.ipynb",
      "provenance": [],
      "authorship_tag": "ABX9TyPD9vqEiQUMjgKGJDPtCLhA",
      "include_colab_link": true
    },
    "kernelspec": {
      "name": "python3",
      "display_name": "Python 3"
    }
  },
  "cells": [
    {
      "cell_type": "markdown",
      "metadata": {
        "id": "view-in-github",
        "colab_type": "text"
      },
      "source": [
        "<a href=\"https://colab.research.google.com/github/armandordorica/Advanced-Python/blob/master/coding_challenges/Max_points_on_a_line.ipynb\" target=\"_parent\"><img src=\"https://colab.research.google.com/assets/colab-badge.svg\" alt=\"Open In Colab\"/></a>"
      ]
    },
    {
      "cell_type": "code",
      "metadata": {
        "id": "rGZJoWgSqb4z",
        "colab_type": "code",
        "colab": {}
      },
      "source": [
        "from itertools import combinations \n",
        "import matplotlib.pyplot as plt\n",
        "\n",
        "input =[[1,1],[3,2],[5,3],[4,1],[2,3],[1,4]]"
      ],
      "execution_count": 0,
      "outputs": []
    },
    {
      "cell_type": "code",
      "metadata": {
        "id": "xMgeWujVqk_E",
        "colab_type": "code",
        "colab": {}
      },
      "source": [
        " def plot_coordinates(coordinates):\n",
        "    nested_lst=coordinates\n",
        "    nested_lst_of_tuples = [tuple(l) for l in nested_lst]\n",
        "    plt.scatter(*zip(*nested_lst_of_tuples))\n",
        "    plt.show()"
      ],
      "execution_count": 0,
      "outputs": []
    },
    {
      "cell_type": "code",
      "metadata": {
        "id": "MJTMNbp8q5P-",
        "colab_type": "code",
        "colab": {
          "base_uri": "https://localhost:8080/",
          "height": 265
        },
        "outputId": "260c3ef0-fee5-466b-cd86-79907e9a8a79"
      },
      "source": [
        "plot_coordinates(input)"
      ],
      "execution_count": 38,
      "outputs": [
        {
          "output_type": "display_data",
          "data": {
            "image/png": "[encoded data removed]",
            "text/plain": [
              "<Figure size 432x288 with 1 Axes>"
            ]
          },
          "metadata": {
            "tags": [],
            "needs_background": "light"
          }
        }
      ]
    },
    {
      "cell_type": "code",
      "metadata": {
        "id": "UJ8B7uJOrNuj",
        "colab_type": "code",
        "colab": {}
      },
      "source": [
        "def get_slope(p1, p2):\n",
        "  return (p1[1] - p2[1])/(p1[0] - p2[0])"
      ],
      "execution_count": 0,
      "outputs": []
    },
    {
      "cell_type": "code",
      "metadata": {
        "id": "9iyPpRkcu1rp",
        "colab_type": "code",
        "colab": {}
      },
      "source": [
        "def same_slopes(input_list):\n",
        "   return len(set(input_list)) <= 1\n",
        "\n",
        "def are_points_collinear(list_of_indices):\n",
        "  slopes = []\n",
        "  for j in range(0, len(list_of_indices)-1):\n",
        "    a = list_of_indices[j]\n",
        "    b = list_of_indices[j+1]\n",
        "    p1 = input[a]\n",
        "    p2 = input[b]\n",
        "    #print(a, b, p1, p2, \"slope:{}\".format(get_slope(p1, p2)))\n",
        "    slopes.append(get_slope(p1, p2))\n",
        "  return (same_slopes(slopes))\n",
        "\n",
        "\n",
        "def get_indices_of_collinear_points(indices_combinations): \n",
        "  for i in range(0, len(indices_combinations)):\n",
        "    list_of_indices = indices_combinations[i]\n",
        "    #print(list_of_indices, are_points_collinear(list_of_indices))\n",
        "    if are_points_collinear(list_of_indices):\n",
        "      return list_of_indices\n",
        "\n",
        "\n",
        "def get_all_possible_combinations(input): \n",
        "  indices_combinations = []\n",
        "  for j in range(len(input), 2, -1):\n",
        "    indices_combinations.append(list(combinations(range(0,len(input)), j)))\n",
        "\n",
        "  l =indices_combinations\n",
        "  flat_list = [item for sublist in l for item in sublist]\n",
        "  return flat_list "
      ],
      "execution_count": 0,
      "outputs": []
    },
    {
      "cell_type": "code",
      "metadata": {
        "id": "1VSZ749kzmf2",
        "colab_type": "code",
        "colab": {}
      },
      "source": [
        "indices_combinations = get_all_possible_combinations(input)\n",
        "\n",
        "index_list = list(get_indices_of_collinear_points(indices_combinations))"
      ],
      "execution_count": 0,
      "outputs": []
    },
    {
      "cell_type": "code",
      "metadata": {
        "id": "G8iaDCoGznJ3",
        "colab_type": "code",
        "colab": {}
      },
      "source": [
        "max_points_on_a_line=len(get_indices_of_collinear_points(indices_combinations))"
      ],
      "execution_count": 0,
      "outputs": []
    },
    {
      "cell_type": "code",
      "metadata": {
        "id": "xeuoA5Vu1Mix",
        "colab_type": "code",
        "colab": {
          "base_uri": "https://localhost:8080/",
          "height": 34
        },
        "outputId": "0221f069-59bc-4a01-ecb2-3130925c6a8c"
      },
      "source": [
        "max_points_on_a_line"
      ],
      "execution_count": 43,
      "outputs": [
        {
          "output_type": "execute_result",
          "data": {
            "text/plain": [
              "4"
            ]
          },
          "metadata": {
            "tags": []
          },
          "execution_count": 43
        }
      ]
    },
    {
      "cell_type": "code",
      "metadata": {
        "id": "0r-9HQh701o1",
        "colab_type": "code",
        "colab": {
          "base_uri": "https://localhost:8080/",
          "height": 34
        },
        "outputId": "b4fa6868-eef9-460a-9194-68b93484dc13"
      },
      "source": [
        "res_list = [input[i] for i in index_list] \n",
        "res_list"
      ],
      "execution_count": 44,
      "outputs": [
        {
          "output_type": "execute_result",
          "data": {
            "text/plain": [
              "[[3, 2], [4, 1], [2, 3], [1, 4]]"
            ]
          },
          "metadata": {
            "tags": []
          },
          "execution_count": 44
        }
      ]
    },
    {
      "cell_type": "code",
      "metadata": {
        "id": "g5me3NDk07fU",
        "colab_type": "code",
        "colab": {
          "base_uri": "https://localhost:8080/",
          "height": 265
        },
        "outputId": "73e577d8-3481-49bb-dfcd-0129675b0687"
      },
      "source": [
        "plot_coordinates(res_list)"
      ],
      "execution_count": 45,
      "outputs": [
        {
          "output_type": "display_data",
          "data": {
            "image/png": "[encoded data removed]",
            "text/plain": [
              "<Figure size 432x288 with 1 Axes>"
            ]
          },
          "metadata": {
            "tags": [],
            "needs_background": "light"
          }
        }
      ]
    },
    {
      "cell_type": "code",
      "metadata": {
        "id": "Xevh-Ab-1TzZ",
        "colab_type": "code",
        "colab": {}
      },
      "source": [
        ""
      ],
      "execution_count": 0,
      "outputs": []
    }
  ]
}