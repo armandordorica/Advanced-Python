{
  "nbformat": 4,
  "nbformat_minor": 0,
  "metadata": {
    "colab": {
      "name": " Reorder Data in Log Files.ipynb",
      "provenance": [],
      "authorship_tag": "ABX9TyOa2t89gM1h+9P3OudtXnHe",
      "include_colab_link": true
    },
    "kernelspec": {
      "name": "python3",
      "display_name": "Python 3"
    }
  },
  "cells": [
    {
      "cell_type": "markdown",
      "metadata": {
        "id": "view-in-github",
        "colab_type": "text"
      },
      "source": [
        "<a href=\"https://colab.research.google.com/github/armandordorica/Advanced-Python/blob/master/coding_challenges/Reorder_Data_in_Log_Files.ipynb\" target=\"_parent\"><img src=\"https://colab.research.google.com/assets/colab-badge.svg\" alt=\"Open In Colab\"/></a>"
      ]
    },
    {
      "cell_type": "code",
      "metadata": {
        "id": "qSvGTU0lxdAZ",
        "colab_type": "code",
        "colab": {}
      },
      "source": [
        "s1 = \"dig1 8 1 5 1\"\n",
        "s2 = \"let1 art can\""
      ],
      "execution_count": 0,
      "outputs": []
    },
    {
      "cell_type": "code",
      "metadata": {
        "id": "UQ6pnhxzylKV",
        "colab_type": "code",
        "colab": {}
      },
      "source": [
        "\n",
        "import pandas\n",
        "def classify_logs(s): \n",
        "  if s.split()[1][0].isalpha(): \n",
        "    return \"letter\"\n",
        "  elif s.split()[1][0].isdigit():\n",
        "    return \"digit\"\n",
        "\n",
        "\n",
        "\n",
        "def get_reorderded_logs(logs): \n",
        "  letter_logs = get_letter_logs(logs)\n",
        "  digit_logs = get_digit_logs(logs)\n",
        "\n",
        "\n",
        "\n",
        "  letter_logs = sort_letter_logs(letter_logs)\n",
        "  print(letter_logs)\n",
        "  ordered_logs = letter_logs  + digit_logs\n",
        "\n",
        "  return ordered_logs \n",
        "\n",
        "\n",
        "def get_digit_logs(logs): \n",
        "  digit_logs = []\n",
        "  for i in range(0, len(logs)): \n",
        "    if classify_logs(logs[i]) =='digit': \n",
        "      digit_logs.append(logs[i])\n",
        "\n",
        "  return digit_logs\n",
        "\n",
        "\n",
        "def get_letter_logs(logs): \n",
        "  letter_logs = []\n",
        "  for i in range(0, len(logs)): \n",
        "    if classify_logs(logs[i]) =='letter': \n",
        "      letter_logs.append(logs[i])\n",
        "\n",
        "  return letter_logs\n",
        "\n",
        "\n",
        "def sort_letter_logs(letter_logs): \n",
        "  w, h = 2, len(letter_logs)\n",
        "  d = [[0 for x in range(w)] for y in range(h)] \n",
        "\n",
        "  for i in range(0, len(letter_logs)):\n",
        "    d[i][0]=letter_logs[i].split()[0]\n",
        "    d[i][1] = letter_logs[i].split()[1:]\n",
        "\n",
        "\n",
        "  df = pandas.DataFrame(d, columns=['key', 'value'])\n",
        "\n",
        "  df['values_string'] = \"\"\n",
        "\n",
        "  for i in range(0, len(df)):\n",
        "    df['values_string'].loc[i]= \" \".join(df['value'].loc[i])\n",
        "\n",
        "  df =df.sort_values(['values_string', 'key'])\n",
        "  df.reset_index(inplace=True)\n",
        "\n",
        "  sorted_letter_logs = []\n",
        "  for i in range(0, len(df)):\n",
        "    sorted_letter_logs.append(df['key'].loc[i] + \" \" + df['values_string'].loc[i])\n",
        "\n",
        "  return sorted_letter_logs"
      ],
      "execution_count": 0,
      "outputs": []
    },
    {
      "cell_type": "code",
      "metadata": {
        "id": "LewLRTYd74_v",
        "colab_type": "code",
        "colab": {}
      },
      "source": [
        "logs = [\"27 85717 7\", \"2 y xyr fc\", \"52 314 99\", \"d 046099 0\", \"m azv x f\", \"7e apw c y\", \"8 hyyq z p\", \"6 3272401\", \"c otdk cl\", \"8 ksif m u\"]"
      ],
      "execution_count": 0,
      "outputs": []
    },
    {
      "cell_type": "code",
      "metadata": {
        "id": "6f6DuSTu8Gg3",
        "colab_type": "code",
        "colab": {
          "base_uri": "https://localhost:8080/",
          "height": 214
        },
        "outputId": "c6f7280b-c2ed-4bc5-ca2a-216b15c71276"
      },
      "source": [
        "get_reorderded_logs(logs)"
      ],
      "execution_count": 351,
      "outputs": [
        {
          "output_type": "stream",
          "text": [
            "['7e apw c y', 'm azv x f', '8 hyyq z p', '8 ksif m u', 'c otdk cl', '2 y xyr fc']\n"
          ],
          "name": "stdout"
        },
        {
          "output_type": "execute_result",
          "data": {
            "text/plain": [
              "['7e apw c y',\n",
              " 'm azv x f',\n",
              " '8 hyyq z p',\n",
              " '8 ksif m u',\n",
              " 'c otdk cl',\n",
              " '2 y xyr fc',\n",
              " '27 85717 7',\n",
              " '52 314 99',\n",
              " 'd 046099 0',\n",
              " '6 3272401']"
            ]
          },
          "metadata": {
            "tags": []
          },
          "execution_count": 351
        }
      ]
    },
    {
      "cell_type": "code",
      "metadata": {
        "id": "Ie5mI1of5n32",
        "colab_type": "code",
        "colab": {}
      },
      "source": [
        ""
      ],
      "execution_count": 0,
      "outputs": []
    }
  ]
}