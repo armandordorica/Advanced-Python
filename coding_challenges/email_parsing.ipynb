{
  "nbformat": 4,
  "nbformat_minor": 0,
  "metadata": {
    "colab": {
      "name": "email_parsing.ipynb",
      "provenance": [],
      "authorship_tag": "ABX9TyMM36XW1LLaXpHtOQ0dNrUQ",
      "include_colab_link": true
    },
    "kernelspec": {
      "name": "python3",
      "display_name": "Python 3"
    }
  },
  "cells": [
    {
      "cell_type": "markdown",
      "metadata": {
        "id": "view-in-github",
        "colab_type": "text"
      },
      "source": [
        "<a href=\"https://colab.research.google.com/github/armandordorica/Advanced-Python/blob/master/coding_challenges/email_parsing.ipynb\" target=\"_parent\"><img src=\"https://colab.research.google.com/assets/colab-badge.svg\" alt=\"Open In Colab\"/></a>"
      ]
    },
    {
      "cell_type": "code",
      "metadata": {
        "id": "BrgE1Z5DfeII",
        "colab_type": "code",
        "colab": {
          "base_uri": "https://localhost:8080/",
          "height": 34
        },
        "outputId": "80fec446-8f0d-4706-88d1-56c6be766659"
      },
      "source": [
        "input = \"testemail+david@lee.tcode.com\"\n",
        "input"
      ],
      "execution_count": 37,
      "outputs": [
        {
          "output_type": "execute_result",
          "data": {
            "text/plain": [
              "'testemail+david@lee.tcode.com'"
            ]
          },
          "metadata": {
            "tags": []
          },
          "execution_count": 37
        }
      ]
    },
    {
      "cell_type": "code",
      "metadata": {
        "id": "n6WwhF_Qfh7p",
        "colab_type": "code",
        "colab": {}
      },
      "source": [
        "def parse_email(input):\n",
        "  if len(input)>= 1 and len(input)<=100: \n",
        "    if input.count('@')==1: \n",
        "      local_name = input.split('@')[0]\n",
        "      domain_name = input.split('@')[1]\n",
        "      if len(domain_name) > 0: \n",
        "        if local_name[0] != '+':\n",
        "            local_name = local_name.replace('.', '')\n",
        "            if local_name.count('+')>=1: \n",
        "              local_name = local_name[0:local_name.find('+')]\n",
        "            final_email = local_name + '@' + domain_name\n",
        "            return final_email"
      ],
      "execution_count": 0,
      "outputs": []
    },
    {
      "cell_type": "code",
      "metadata": {
        "id": "Y2QFDqxugDgR",
        "colab_type": "code",
        "colab": {}
      },
      "source": [
        "input_array =[\"a@leetcode.com\",\"b@leetcode.com\",\"c@leetcode.com\"]"
      ],
      "execution_count": 0,
      "outputs": []
    },
    {
      "cell_type": "code",
      "metadata": {
        "id": "59_zXf8-gc1f",
        "colab_type": "code",
        "colab": {}
      },
      "source": [
        "def get_num_emails(input_array): \n",
        "  if len(input_array)>=1 and len(input_array)<= 100: \n",
        "    final_list = []\n",
        "    for i in range(0, len(input_array)):\n",
        "      #print(input_array[i], parse_email(input_array[i]))\n",
        "      final_list.append(parse_email(input_array[i]))\n",
        "    print(list(set(final_list)))\n",
        "    return len(list(set(final_list)))"
      ],
      "execution_count": 0,
      "outputs": []
    },
    {
      "cell_type": "code",
      "metadata": {
        "id": "qVF_i5NSgf0P",
        "colab_type": "code",
        "colab": {
          "base_uri": "https://localhost:8080/",
          "height": 52
        },
        "outputId": "c9a6562b-eabb-4819-ad93-addcd91f1ed5"
      },
      "source": [
        "get_num_emails(input_array)"
      ],
      "execution_count": 90,
      "outputs": [
        {
          "output_type": "stream",
          "text": [
            "['a@leetcode.com', 'c@leetcode.com', 'b@leetcode.com']\n"
          ],
          "name": "stdout"
        },
        {
          "output_type": "execute_result",
          "data": {
            "text/plain": [
              "3"
            ]
          },
          "metadata": {
            "tags": []
          },
          "execution_count": 90
        }
      ]
    },
    {
      "cell_type": "code",
      "metadata": {
        "id": "Sq-ewB7XgnKe",
        "colab_type": "code",
        "colab": {
          "base_uri": "https://localhost:8080/",
          "height": 34
        },
        "outputId": "d96fdc35-fe30-452d-a309-8c431140c689"
      },
      "source": [
        "\"testemail+david@lee.tcode.com\".count('@')"
      ],
      "execution_count": 91,
      "outputs": [
        {
          "output_type": "execute_result",
          "data": {
            "text/plain": [
              "1"
            ]
          },
          "metadata": {
            "tags": []
          },
          "execution_count": 91
        }
      ]
    },
    {
      "cell_type": "code",
      "metadata": {
        "id": "EoAO7ZhjhKYg",
        "colab_type": "code",
        "colab": {
          "base_uri": "https://localhost:8080/",
          "height": 34
        },
        "outputId": "98082dac-1cb4-4e36-91d6-108f027e3f2d"
      },
      "source": [
        "input = \"a@leetcode.com\"\n",
        "parse_email(\"a@leetcode.com\")\n",
        "len(input)>= 1 and len(input)<=100\n",
        "input.count('@')==1"
      ],
      "execution_count": 92,
      "outputs": [
        {
          "output_type": "execute_result",
          "data": {
            "text/plain": [
              "True"
            ]
          },
          "metadata": {
            "tags": []
          },
          "execution_count": 92
        }
      ]
    },
    {
      "cell_type": "code",
      "metadata": {
        "id": "W3Ufvg74iDf5",
        "colab_type": "code",
        "colab": {
          "base_uri": "https://localhost:8080/",
          "height": 34
        },
        "outputId": "bd2499ee-228f-4e97-d49b-880f80acdf6b"
      },
      "source": [
        "input.split('@')[0]\n",
        "local_name = input.split('@')[0]\n",
        "local_name = local_name.replace('.', '')\n",
        "local_name"
      ],
      "execution_count": 93,
      "outputs": [
        {
          "output_type": "execute_result",
          "data": {
            "text/plain": [
              "'a'"
            ]
          },
          "metadata": {
            "tags": []
          },
          "execution_count": 93
        }
      ]
    },
    {
      "cell_type": "code",
      "metadata": {
        "id": "MT_adTafiNxw",
        "colab_type": "code",
        "colab": {}
      },
      "source": [
        ""
      ],
      "execution_count": 0,
      "outputs": []
    }
  ]
}