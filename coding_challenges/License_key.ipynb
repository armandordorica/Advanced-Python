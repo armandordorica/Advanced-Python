{
  "nbformat": 4,
  "nbformat_minor": 0,
  "metadata": {
    "colab": {
      "name": "License_key.ipynb",
      "provenance": [],
      "authorship_tag": "ABX9TyOj1pQhN/u0BdlG74aLToff",
      "include_colab_link": true
    },
    "kernelspec": {
      "name": "python3",
      "display_name": "Python 3"
    }
  },
  "cells": [
    {
      "cell_type": "markdown",
      "metadata": {
        "id": "view-in-github",
        "colab_type": "text"
      },
      "source": [
        "<a href=\"https://colab.research.google.com/github/armandordorica/Advanced-Python/blob/master/coding_challenges/License_key.ipynb\" target=\"_parent\"><img src=\"https://colab.research.google.com/assets/colab-badge.svg\" alt=\"Open In Colab\"/></a>"
      ]
    },
    {
      "cell_type": "code",
      "metadata": {
        "id": "UgaqUrv-vpqF",
        "colab_type": "code",
        "colab": {}
      },
      "source": [
        "import re\n",
        "\n",
        "def concatenate_list_data(list):\n",
        "    result= ''\n",
        "    for element in list:\n",
        "        result += str(element)\n",
        "    return result\n",
        "\n",
        "def chunkstring(string, length):\n",
        "    return (string[0+i:length+i] for i in range(0, len(string), length))"
      ],
      "execution_count": 0,
      "outputs": []
    },
    {
      "cell_type": "code",
      "metadata": {
        "id": "qPgD1i-eviz5",
        "colab_type": "code",
        "colab": {}
      },
      "source": [
        "s = \"5F3Z-2e-9-w\""
      ],
      "execution_count": 0,
      "outputs": []
    },
    {
      "cell_type": "code",
      "metadata": {
        "id": "SeJysiLgx5x-",
        "colab_type": "code",
        "colab": {}
      },
      "source": [
        "def concatenate_list_data(list):\n",
        "    result= ''\n",
        "    for element in list:\n",
        "        result += str(element)\n",
        "    return result\n",
        "    \n",
        "def chunkstring(string, length):\n",
        "    return (string[0+i:length+i] for i in range(0, len(string), length))\n",
        "\n",
        "def get_license_key_format(s, k):\n",
        "  valid = re.match('^[\\w-]+$', s) is not None\n",
        "  if valid: \n",
        "    if len(s)<= 12000: \n",
        "      if isinstance(k, int) and k>=0: \n",
        "        final = []\n",
        "\n",
        "        splitted_s =s.split(\"-\")\n",
        "        upper_s = concatenate_list_data(splitted_s).upper()\n",
        "\n",
        "\n",
        "        mod_num = len(upper_s)%k\n",
        "        final.append(upper_s[:mod_num])\n",
        "        final.append(\"-\")\n",
        "\n",
        "\n",
        "        upper_s = upper_s[mod_num:]\n",
        "\n",
        "        k_s = list(chunkstring(upper_s, k))\n",
        "\n",
        "        for i in range(0, len(k_s)):\n",
        "          #print(k_s[i])\n",
        "          final.append(k_s[i])\n",
        "          final.append(\"-\")\n",
        "\n",
        "        final = final[:-1]\n",
        "\n",
        "        answer = concatenate_list_data(final)\n",
        "\n",
        "        if answer[0]=='-':\n",
        "          answer  = answer[1:]\n",
        "        \n",
        "        return answer\n",
        "  return false \n",
        "    \n",
        "class Solution(object):\n",
        "    def licenseKeyFormatting(self, S, K):\n",
        "        return get_license_key_format(S, K)\n",
        "        \"\"\"\n",
        "        :type S: str\n",
        "        :type K: int\n",
        "        :rtype: str\n",
        "        \"\"\"\n",
        "        "
      ],
      "execution_count": 0,
      "outputs": []
    },
    {
      "cell_type": "code",
      "metadata": {
        "id": "wZkVfj0xyfrC",
        "colab_type": "code",
        "colab": {
          "base_uri": "https://localhost:8080/",
          "height": 34
        },
        "outputId": "7324b888-1803-446b-dd3e-03cb54ed409a"
      },
      "source": [
        "s = \"5F3Z-2e-9-w\"\n",
        "k=4\n",
        "get_license_key_format(s, k)"
      ],
      "execution_count": 64,
      "outputs": [
        {
          "output_type": "execute_result",
          "data": {
            "text/plain": [
              "'5F3Z-2E9W'"
            ]
          },
          "metadata": {
            "tags": []
          },
          "execution_count": 64
        }
      ]
    },
    {
      "cell_type": "code",
      "metadata": {
        "id": "VhkY5k18yiwh",
        "colab_type": "code",
        "colab": {
          "base_uri": "https://localhost:8080/",
          "height": 34
        },
        "outputId": "224e1948-b42c-4791-aed0-37350fcff903"
      },
      "source": [
        "s = \"2-5g-3-J\"\n",
        "k=2\n",
        "get_license_key_format(s, k)"
      ],
      "execution_count": 65,
      "outputs": [
        {
          "output_type": "execute_result",
          "data": {
            "text/plain": [
              "'2-5G-3J'"
            ]
          },
          "metadata": {
            "tags": []
          },
          "execution_count": 65
        }
      ]
    },
    {
      "cell_type": "code",
      "metadata": {
        "id": "GCJ8AynY0S1g",
        "colab_type": "code",
        "colab": {}
      },
      "source": [
        ""
      ],
      "execution_count": 0,
      "outputs": []
    }
  ]
}