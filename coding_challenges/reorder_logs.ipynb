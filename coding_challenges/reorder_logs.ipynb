{
  "nbformat": 4,
  "nbformat_minor": 0,
  "metadata": {
    "colab": {
      "name": "reorder_logs",
      "provenance": [],
      "authorship_tag": "ABX9TyMPA/OmJaUDBUs3duposol+",
      "include_colab_link": true
    },
    "kernelspec": {
      "name": "python3",
      "display_name": "Python 3"
    }
  },
  "cells": [
    {
      "cell_type": "markdown",
      "metadata": {
        "id": "view-in-github",
        "colab_type": "text"
      },
      "source": [
        "<a href=\"https://colab.research.google.com/github/armandordorica/Advanced-Python/blob/master/coding_challenges/reorder_logs.ipynb\" target=\"_parent\"><img src=\"https://colab.research.google.com/assets/colab-badge.svg\" alt=\"Open In Colab\"/></a>"
      ]
    },
    {
      "cell_type": "code",
      "metadata": {
        "id": "LewLRTYd74_v",
        "colab_type": "code",
        "colab": {}
      },
      "source": [
        "logs = [\"27 85717 7\", \"2 y xyr fc\", \"52 314 99\", \"d 046099 0\", \"m azv x f\", \"7e apw c y\", \"8 hyyq z p\", \"6 3272401\", \"c otdk cl\", \"8 ksif m u\"]"
      ],
      "execution_count": 87,
      "outputs": []
    },
    {
      "cell_type": "code",
      "metadata": {
        "id": "L9TgKhzPRh6r",
        "colab_type": "code",
        "colab": {}
      },
      "source": [
        "def f(log):\n",
        "  id_, rest = log.split(\" \", 1)\n",
        "  #print(id_, rest)\n",
        "  if rest[0].isalpha():\n",
        "    return (0, rest, id_)\n",
        "  else: \n",
        "    return (1,)\n",
        "\n"
      ],
      "execution_count": 96,
      "outputs": []
    },
    {
      "cell_type": "code",
      "metadata": {
        "id": "PI6H9embSDkc",
        "colab_type": "code",
        "colab": {}
      },
      "source": [
        "def sort_logs(logs):\n",
        "  return sorted(logs, key = f)"
      ],
      "execution_count": 97,
      "outputs": []
    },
    {
      "cell_type": "code",
      "metadata": {
        "id": "Rqi4MfWjRkB3",
        "colab_type": "code",
        "colab": {
          "base_uri": "https://localhost:8080/",
          "height": 196
        },
        "outputId": "36d048b9-9e3d-43ea-846a-c92601c3fc96"
      },
      "source": [
        "sort_logs(logs)"
      ],
      "execution_count": 98,
      "outputs": [
        {
          "output_type": "execute_result",
          "data": {
            "text/plain": [
              "['7e apw c y',\n",
              " 'm azv x f',\n",
              " '8 hyyq z p',\n",
              " '8 ksif m u',\n",
              " 'c otdk cl',\n",
              " '2 y xyr fc',\n",
              " '27 85717 7',\n",
              " '52 314 99',\n",
              " 'd 046099 0',\n",
              " '6 3272401']"
            ]
          },
          "metadata": {
            "tags": []
          },
          "execution_count": 98
        }
      ]
    }
  ]
}