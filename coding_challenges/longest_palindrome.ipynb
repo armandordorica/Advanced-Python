{
  "nbformat": 4,
  "nbformat_minor": 0,
  "metadata": {
    "colab": {
      "name": "longest_palindrome.ipynb",
      "provenance": [],
      "authorship_tag": "ABX9TyNxGv62cZo0Yoqi9MLmu6nX",
      "include_colab_link": true
    },
    "kernelspec": {
      "name": "python3",
      "display_name": "Python 3"
    }
  },
  "cells": [
    {
      "cell_type": "markdown",
      "metadata": {
        "id": "view-in-github",
        "colab_type": "text"
      },
      "source": [
        "<a href=\"https://colab.research.google.com/github/armandordorica/Advanced-Python/blob/master/coding_challenges/longest_palindrome.ipynb\" target=\"_parent\"><img src=\"https://colab.research.google.com/assets/colab-badge.svg\" alt=\"Open In Colab\"/></a>"
      ]
    },
    {
      "cell_type": "code",
      "metadata": {
        "id": "SPSWpGnisAKP",
        "colab_type": "code",
        "colab": {}
      },
      "source": [
        "# Function to print all sub strings \n",
        "def subString(s, n): \n",
        "  string_length = len(s)\n",
        "  possible_strings = []\n",
        "  # Pick starting point in outer loop \n",
        "  # and lengths of different strings for \n",
        "  # a given starting point \n",
        "  for i in range(n): \n",
        "      for length in range(i+1,n+1): \n",
        "          substr = s[i: length]\n",
        "          if substr[0] == substr[-1]:\n",
        "            possible_strings.append(substr)\n",
        "  \n",
        "  possible_strings = list(set(possible_strings))\n",
        "  return possible_strings\n",
        "# Driver program to test above function \n",
        "\n",
        "def is_palindrome(s):\n",
        "  if s == s[::-1]:\n",
        "    return True \n",
        "  else:\n",
        "    return False\n",
        "\n",
        "def get_longest_palindrome(possible_palindromes): \n",
        "  for i in range(0,len(possible_palindromes)):\n",
        "    if is_palindrome(possible_palindromes[i]):\n",
        "      return possible_palindromes[i]\n",
        "      \n",
        "\n",
        "def get_longest_palindrome(s): \n",
        "  if len(s)>0: \n",
        "    possible_palindromes = subString(s,len(s))\n",
        "    possible_palindromes = sorted(possible_palindromes, key=len, reverse=True)\n",
        "    for i in range(0,len(possible_palindromes)):\n",
        "      if is_palindrome(possible_palindromes[i]):\n",
        "        return possible_palindromes[i]\n",
        "    \n",
        "  else:\n",
        "    return s\n"
      ],
      "execution_count": 0,
      "outputs": []
    },
    {
      "cell_type": "code",
      "metadata": {
        "id": "XfzazxDbsDlL",
        "colab_type": "code",
        "colab": {
          "base_uri": "https://localhost:8080/",
          "height": 34
        },
        "outputId": "cb03d8a9-4f41-437b-bec6-a20527626138"
      },
      "source": [
        "s = \"\"; \n",
        "possible_palindromes = subString(s,len(s))\n",
        "possible_palindromes = sorted(possible_palindromes, key=len, reverse=True)\n",
        "get_longest_palindrome(possible_palindromes)"
      ],
      "execution_count": 47,
      "outputs": [
        {
          "output_type": "execute_result",
          "data": {
            "text/plain": [
              "[]"
            ]
          },
          "metadata": {
            "tags": []
          },
          "execution_count": 47
        }
      ]
    },
    {
      "cell_type": "code",
      "metadata": {
        "id": "xlGVn99nsvHX",
        "colab_type": "code",
        "colab": {
          "base_uri": "https://localhost:8080/",
          "height": 34
        },
        "outputId": "3aabcef2-0166-4b20-a068-2491b541c2e7"
      },
      "source": [
        "get_longest_palindrome(possible_palindromes)"
      ],
      "execution_count": 48,
      "outputs": [
        {
          "output_type": "execute_result",
          "data": {
            "text/plain": [
              "[]"
            ]
          },
          "metadata": {
            "tags": []
          },
          "execution_count": 48
        }
      ]
    },
    {
      "cell_type": "code",
      "metadata": {
        "id": "1dotisZes5rx",
        "colab_type": "code",
        "colab": {
          "base_uri": "https://localhost:8080/",
          "height": 34
        },
        "outputId": "06ce1b9e-7faf-4730-d0b8-0b70232fa1c5"
      },
      "source": [
        "get_longest_palindrome(\"\")"
      ],
      "execution_count": 49,
      "outputs": [
        {
          "output_type": "execute_result",
          "data": {
            "text/plain": [
              "''"
            ]
          },
          "metadata": {
            "tags": []
          },
          "execution_count": 49
        }
      ]
    },
    {
      "cell_type": "code",
      "metadata": {
        "id": "Gr7pXrwatCrh",
        "colab_type": "code",
        "colab": {}
      },
      "source": [
        "s = \"civilwartestingwhetherthatnaptionoranynartionsoconceivedandsodedicatedcanlongendureWeareqmetonagreatbattlefiemldoftzhatwarWehavecometodedicpateaportionofthatfieldasafinalrestingplaceforthosewhoheregavetheirlivesthatthatnationmightliveItisaltogetherfangandproperthatweshoulddothisButinalargersensewecannotdedicatewecannotconsecratewecannothallowthisgroundThebravelmenlivinganddeadwhostruggledherehaveconsecrateditfaraboveourpoorponwertoaddordetractTgheworldadswfilllittlenotlenorlongrememberwhatwesayherebutitcanneverforgetwhattheydidhereItisforusthelivingrathertobededicatedheretotheulnfinishedworkwhichtheywhofoughtherehavethusfarsonoblyadvancedItisratherforustobeherededicatedtothegreattdafskremainingbeforeusthatfromthesehonoreddeadwetakeincreaseddevotiontothatcauseforwhichtheygavethelastpfullmeasureofdevotionthatweherehighlyresolvethatthesedeadshallnothavediedinvainthatthisnationunsderGodshallhaveanewbirthoffreedomandthatgovernmentofthepeoplebythepeopleforthepeopleshallnotperishfromtheearth\""
      ],
      "execution_count": 0,
      "outputs": []
    },
    {
      "cell_type": "code",
      "metadata": {
        "id": "mE1enDGdtShU",
        "colab_type": "code",
        "colab": {
          "base_uri": "https://localhost:8080/",
          "height": 34
        },
        "outputId": "e957284a-6a0b-43fd-9d1b-dc8c7f496b3c"
      },
      "source": [
        "s =\"abaa\"\n",
        "subString(s,len(s))"
      ],
      "execution_count": 55,
      "outputs": [
        {
          "output_type": "execute_result",
          "data": {
            "text/plain": [
              "['aa', 'abaa', 'b', 'a', 'aba']"
            ]
          },
          "metadata": {
            "tags": []
          },
          "execution_count": 55
        }
      ]
    },
    {
      "cell_type": "code",
      "metadata": {
        "id": "FZC3L5QctT6E",
        "colab_type": "code",
        "colab": {}
      },
      "source": [
        ""
      ],
      "execution_count": 0,
      "outputs": []
    }
  ]
}