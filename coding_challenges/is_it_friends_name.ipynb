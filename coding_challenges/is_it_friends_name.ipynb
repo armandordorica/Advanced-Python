{
  "nbformat": 4,
  "nbformat_minor": 0,
  "metadata": {
    "colab": {
      "name": "is_it_friends_name.ipynb",
      "provenance": [],
      "authorship_tag": "ABX9TyNnkXszx9xS8kUVNAJWYt0g",
      "include_colab_link": true
    },
    "kernelspec": {
      "name": "python3",
      "display_name": "Python 3"
    }
  },
  "cells": [
    {
      "cell_type": "markdown",
      "metadata": {
        "id": "view-in-github",
        "colab_type": "text"
      },
      "source": [
        "<a href=\"https://colab.research.google.com/github/armandordorica/Advanced-Python/blob/master/coding_challenges/is_it_friends_name.ipynb\" target=\"_parent\"><img src=\"https://colab.research.google.com/assets/colab-badge.svg\" alt=\"Open In Colab\"/></a>"
      ]
    },
    {
      "cell_type": "code",
      "metadata": {
        "id": "hrFHfZd7vhb3",
        "colab_type": "code",
        "colab": {}
      },
      "source": [
        "from itertools import groupby"
      ],
      "execution_count": 0,
      "outputs": []
    },
    {
      "cell_type": "code",
      "metadata": {
        "id": "1jWIjuRewblQ",
        "colab_type": "code",
        "colab": {}
      },
      "source": [
        "def get_consecutive_char_count(s):\n",
        "  groups = groupby(s)\n",
        "  result = [(label, sum(1 for _ in group)) for label, group in groups]  \n",
        "  return result\n",
        "\n",
        "def all_elements_equal(iterator):\n",
        "   return len(set(iterator)) <= 1\n",
        "\n",
        "def get_consec_count_same_order(consec_count_name, consec_count_typed):\n",
        "  if len(consec_count_name) == len(consec_count_typed):\n",
        "    matches = []\n",
        "    for i in range(0, len(consec_count_name)):\n",
        "      if (consec_count_name[i][0] == consec_count_typed[i][0]): \n",
        "        matches.append(True) \n",
        "      else:\n",
        "        matches.append(False)\n",
        "    return all_elements_equal(matches)\n",
        "  return False \n",
        "\n",
        "def get_consec_count_gte_frequency(consec_count_name, consec_count_typed):\n",
        "  if len(consec_count_name) == len(consec_count_typed):\n",
        "    matches = []\n",
        "    for i in range(0, len(consec_count_name)):\n",
        "      if consec_count_typed[i][1]>= consec_count_name[i][1]:\n",
        "        matches.append(True)\n",
        "      else:\n",
        "        matches.append(False)\n",
        "    return all_elements_equal(matches)\n",
        "  return False\n",
        "\n",
        "def is_it_friends_name(name, typed):\n",
        "  if len(name) >= 1 and len(name) <= 1000 and len(typed)>= 1 and len(typed)<= 1000:\n",
        "    consec_count_name = get_consecutive_char_count(name)\n",
        "    consec_count_typed = get_consecutive_char_count(typed)\n",
        "    return (get_consec_count_same_order(consec_count_name, consec_count_typed) and get_consec_count_gte_frequency(consec_count_name, consec_count_typed))\n",
        "  return False"
      ],
      "execution_count": 0,
      "outputs": []
    },
    {
      "cell_type": "code",
      "metadata": {
        "id": "0bMyO97GyLuw",
        "colab_type": "code",
        "colab": {}
      },
      "source": [
        ""
      ],
      "execution_count": 0,
      "outputs": []
    },
    {
      "cell_type": "code",
      "metadata": {
        "id": "CwhbwkjFxI7S",
        "colab_type": "code",
        "colab": {}
      },
      "source": [
        ""
      ],
      "execution_count": 0,
      "outputs": []
    },
    {
      "cell_type": "code",
      "metadata": {
        "id": "pt9SlApMxp2m",
        "colab_type": "code",
        "colab": {}
      },
      "source": [
        "\n",
        "    "
      ],
      "execution_count": 0,
      "outputs": []
    },
    {
      "cell_type": "code",
      "metadata": {
        "id": "i3tdmn7iyn_l",
        "colab_type": "code",
        "colab": {}
      },
      "source": [
        ""
      ],
      "execution_count": 0,
      "outputs": []
    },
    {
      "cell_type": "code",
      "metadata": {
        "id": "L5JuxPL2zJfd",
        "colab_type": "code",
        "colab": {
          "base_uri": "https://localhost:8080/",
          "height": 34
        },
        "outputId": "c3f47726-92f4-4695-b0b7-707c6ea56542"
      },
      "source": [
        "name = \"alex\"\n",
        "typed = \"aaleex\"\n",
        "is_it_friends_name(name, typed)"
      ],
      "execution_count": 126,
      "outputs": [
        {
          "output_type": "execute_result",
          "data": {
            "text/plain": [
              "True"
            ]
          },
          "metadata": {
            "tags": []
          },
          "execution_count": 126
        }
      ]
    },
    {
      "cell_type": "code",
      "metadata": {
        "id": "DfoYwnRvzM8I",
        "colab_type": "code",
        "colab": {
          "base_uri": "https://localhost:8080/",
          "height": 34
        },
        "outputId": "f6d362b2-22b1-40c1-d8cf-e90bb6b176b4"
      },
      "source": [
        "name = \"saeed\"\n",
        "typed = \"ssaaedd\"\n",
        "is_it_friends_name(name, typed)"
      ],
      "execution_count": 127,
      "outputs": [
        {
          "output_type": "execute_result",
          "data": {
            "text/plain": [
              "False"
            ]
          },
          "metadata": {
            "tags": []
          },
          "execution_count": 127
        }
      ]
    },
    {
      "cell_type": "code",
      "metadata": {
        "id": "3jAdSmDdzBao",
        "colab_type": "code",
        "colab": {
          "base_uri": "https://localhost:8080/",
          "height": 34
        },
        "outputId": "fd4d08e8-e7bb-45a1-e535-f35307804d26"
      },
      "source": [
        "name = \"leelee\"\n",
        "typed = \"lleeelee\"\n",
        "is_it_friends_name(name, typed)"
      ],
      "execution_count": 128,
      "outputs": [
        {
          "output_type": "execute_result",
          "data": {
            "text/plain": [
              "True"
            ]
          },
          "metadata": {
            "tags": []
          },
          "execution_count": 128
        }
      ]
    },
    {
      "cell_type": "code",
      "metadata": {
        "id": "3QxtEMTtzGOI",
        "colab_type": "code",
        "colab": {
          "base_uri": "https://localhost:8080/",
          "height": 34
        },
        "outputId": "801c33c7-bcbf-440b-f932-c4c6f274c635"
      },
      "source": [
        "name = \"laiden\"\n",
        "typed = \"laiden\"\n",
        "is_it_friends_name(name, typed)"
      ],
      "execution_count": 129,
      "outputs": [
        {
          "output_type": "execute_result",
          "data": {
            "text/plain": [
              "True"
            ]
          },
          "metadata": {
            "tags": []
          },
          "execution_count": 129
        }
      ]
    },
    {
      "cell_type": "code",
      "metadata": {
        "id": "rMezyMd8zXPP",
        "colab_type": "code",
        "colab": {
          "base_uri": "https://localhost:8080/",
          "height": 34
        },
        "outputId": "6bba154b-4aaa-4284-fe14-44c89ed61342"
      },
      "source": [
        "name = \"xnhtq\"\n",
        "typed = \"xhhttqq\"\n",
        "is_it_friends_name(name, typed)"
      ],
      "execution_count": 130,
      "outputs": [
        {
          "output_type": "execute_result",
          "data": {
            "text/plain": [
              "False"
            ]
          },
          "metadata": {
            "tags": []
          },
          "execution_count": 130
        }
      ]
    }
  ]
}