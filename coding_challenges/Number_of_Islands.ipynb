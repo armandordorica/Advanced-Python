{
  "nbformat": 4,
  "nbformat_minor": 0,
  "metadata": {
    "colab": {
      "name": "Number of Islands.ipynb",
      "provenance": [],
      "collapsed_sections": [],
      "authorship_tag": "ABX9TyOqn4v6t09mwh8ZurqnWlt9",
      "include_colab_link": true
    },
    "kernelspec": {
      "name": "python3",
      "display_name": "Python 3"
    }
  },
  "cells": [
    {
      "cell_type": "markdown",
      "metadata": {
        "id": "view-in-github",
        "colab_type": "text"
      },
      "source": [
        "<a href=\"https://colab.research.google.com/github/armandordorica/Advanced-Python/blob/master/coding_challenges/Number_of_Islands.ipynb\" target=\"_parent\"><img src=\"https://colab.research.google.com/assets/colab-badge.svg\" alt=\"Open In Colab\"/></a>"
      ]
    },
    {
      "cell_type": "code",
      "metadata": {
        "id": "Ah4NhPe7yaWZ",
        "colab_type": "code",
        "colab": {}
      },
      "source": [
        "import numpy as np\n",
        "import copy\n",
        "\n",
        "\n",
        "input = [[1,1,1,1,0],\n",
        "[1,1,0,1,0],\n",
        "[1,1,0,0,0],\n",
        "[0,0,0,0,0]]\n",
        "\n",
        "\n",
        "def get_indices(input):\n",
        "  num_rows = np.array(input).shape[0]\n",
        "  num_cols = np.array(input).shape[1]\n",
        "  list_of_coords = []\n",
        "  for i in range(0, num_rows):\n",
        "    for j in range(0, num_cols):\n",
        "      if input[i][j]==1:\n",
        "        list_of_coords.append((i,j))\n",
        "      ###print(i,j)\n",
        "  return list_of_coords\n",
        "\n",
        "def are_neighbours(coord1, coord2):\n",
        "  if (np.abs(coord1[1]-coord2[1]) + np.abs(coord1[0]-coord2[0]))<=1: \n",
        "    return True \n",
        "  return False\n",
        "\n",
        "def get_possible_neighbours(coord): \n",
        "  i = coord[0]\n",
        "  j =coord[1]\n",
        "  a = np.abs(i + 1)\n",
        "  b = np.abs(i-1)\n",
        "  c = np.abs(j+1)\n",
        "  d = np.abs(j-1)\n",
        "  possible_neighbours =list(set(((a,j), (i, c), (b,j), (i,d))))\n",
        "\n",
        "  return possible_neighbours \n",
        "\n",
        "def get_neighbours_cluster(input): \n",
        "  ones_indices = get_indices(input)\n",
        "  island1 = []\n",
        "  island1.append(ones_indices.pop(0))\n",
        "\n",
        "  i = 0\n",
        "  while i<len(island1): \n",
        "    #print(i, island1)\n",
        "    possible_neighbours = get_possible_neighbours(island1[i])\n",
        "    #print(\"possible_neighbours of {}: {}\".format(island1[i], possible_neighbours))\n",
        "    found_neighbours = list(set(possible_neighbours).intersection(ones_indices))\n",
        "    #print(\"found neighbours:{}\".format(found_neighbours))\n",
        "    island1.extend(found_neighbours)\n",
        "    #print(\"extending neighbours:{}\".format(island1))\n",
        "    #island1 = list(set(island1))\n",
        "    #print(\"island1:{}\\n\".format(island1))\n",
        "    ones_indices = [item for item in ones_indices if item not in found_neighbours]\n",
        "    i+=1\n",
        "\n",
        "\n",
        "  return island1\n",
        "\n",
        "def get_all_islands(input): \n",
        "  ones_indices = get_indices(input)\n",
        "  all_islands = []\n",
        "  for k in range(0, len(ones_indices)): \n",
        "    ones_indices = get_indices(input)\n",
        "    island1 = []\n",
        "    #print(\"k:{}\".format(k))\n",
        "    island1.append(ones_indices.pop(k))\n",
        "\n",
        "    i = 0\n",
        "    while i<len(island1): \n",
        "      #print(i, island1)\n",
        "      possible_neighbours = get_possible_neighbours(island1[i])\n",
        "      #print(\"possible_neighbours of {}: {}\".format(island1[i], possible_neighbours))\n",
        "      found_neighbours = list(set(possible_neighbours).intersection(ones_indices))\n",
        "      #print(\"found neighbours:{}\".format(found_neighbours))\n",
        "      island1.extend(found_neighbours)\n",
        "      #print(\"extending neighbours:{}\".format(island1))\n",
        "      #island1 = list(set(island1))\n",
        "      #print(\"island1:{}\\n\".format(island1))\n",
        "      ones_indices = [item for item in ones_indices if item not in found_neighbours]\n",
        "      i+=1\n",
        "    all_islands.append(island1)\n",
        "  return all_islands\n",
        "\n",
        "def reformat_input(input_list): \n",
        "  input = copy.deepcopy(input_list)\n",
        "  list_of_ints = []\n",
        "\n",
        "  for i in range(0, len(input)): \n",
        "    l1 = input[i]\n",
        "    l1 = [int(i) for i in l1] \n",
        "    list_of_ints.append(l1)\n",
        "\n",
        "  return list_of_ints\n",
        "\n",
        "\n",
        "\n",
        "\n",
        "def get_number_of_islands(input_list): \n",
        "\n",
        "  if len(input_list)==0: \n",
        "    return 0\n",
        "  input = reformat_input(copy.deepcopy(input_list))\n",
        "  #print(\"input_list:{}\".format(input))\n",
        "  #print(get_indices(input))\n",
        "  if len(get_indices(input)) == 0:\n",
        "    return 0\n",
        "  \n",
        "\n",
        "\n",
        "\n",
        "  \n",
        "  all_islands = get_all_islands(input)\n",
        "  distinct_islands = []\n",
        "  distinct_islands.append(set(all_islands[0]))\n",
        "\n",
        "  for i in range(1, len(all_islands)):\n",
        "    if set(all_islands[i]) not in distinct_islands: \n",
        "      distinct_islands.append(set(all_islands[i]))\n",
        "  #print(\"Distinct islands:{}\".format(distinct_islands))\n",
        "  return len(distinct_islands)\n"
      ],
      "execution_count": 0,
      "outputs": []
    },
    {
      "cell_type": "code",
      "metadata": {
        "id": "fW_hGL9ezdES",
        "colab_type": "code",
        "outputId": "2e5216aa-6b6b-4c05-f0ed-7ad29f100ebc",
        "colab": {
          "base_uri": "https://localhost:8080/",
          "height": 34
        }
      },
      "source": [
        "input_list  = [[\"0\"]]\n",
        "input_list =[[\"1\",\"1\",\"1\",\"1\",\"0\"],[\"1\",\"1\",\"0\",\"1\",\"0\"],[\"1\",\"1\",\"0\",\"0\",\"0\"],[\"0\",\"0\",\"0\",\"0\",\"0\"]]\n",
        "input_list  = []\n",
        "input_list = [[\"1\",\"1\",\"1\",\"1\",\"1\",\"1\"],[\"1\",\"0\",\"0\",\"0\",\"0\",\"1\"],[\"1\",\"0\",\"1\",\"1\",\"0\",\"1\"],[\"1\",\"0\",\"0\",\"0\",\"0\",\"1\"],[\"1\",\"1\",\"1\",\"1\",\"1\",\"1\"]]\n",
        "get_number_of_islands(input_list)"
      ],
      "execution_count": 240,
      "outputs": [
        {
          "output_type": "execute_result",
          "data": {
            "text/plain": [
              "2"
            ]
          },
          "metadata": {
            "tags": []
          },
          "execution_count": 240
        }
      ]
    },
    {
      "cell_type": "code",
      "metadata": {
        "id": "_7yhQpWs5THY",
        "colab_type": "code",
        "colab": {}
      },
      "source": [
        "#print(input_list)"
      ],
      "execution_count": 0,
      "outputs": []
    },
    {
      "cell_type": "code",
      "metadata": {
        "id": "7Iclry7y4HYd",
        "colab_type": "code",
        "colab": {}
      },
      "source": [
        "all_islands = [[(0, 0), (0, 1), (1, 0), (0, 2), (2, 0), (0, 3), (3, 0), (0, 4), (4, 0), (0, 5), (4, 1), (1, 5), (4, 2), (2, 5), (4, 3), (3, 5), (4, 4), (4, 5)], [(2, 2), (2, 3)], [(2, 5), (1, 5), (3, 5), (0, 5), (4, 5), (0, 4), (4, 4), (0, 3), (4, 3), (0, 2), (4, 2), (0, 1), (4, 1), (0, 0), (4, 0), (1, 0), (3, 0), (2, 0)]]\n"
      ],
      "execution_count": 0,
      "outputs": []
    },
    {
      "cell_type": "code",
      "metadata": {
        "id": "0AwOIv1-2kJ_",
        "colab_type": "code",
        "outputId": "7f96f9be-9371-4ac0-c5dd-9ec8a0f8510d",
        "colab": {
          "base_uri": "https://localhost:8080/",
          "height": 34
        }
      },
      "source": [
        "set(all_islands[0]) == set(all_islands[2])"
      ],
      "execution_count": 243,
      "outputs": [
        {
          "output_type": "execute_result",
          "data": {
            "text/plain": [
              "True"
            ]
          },
          "metadata": {
            "tags": []
          },
          "execution_count": 243
        }
      ]
    },
    {
      "cell_type": "code",
      "metadata": {
        "id": "3oJ17akV2_x2",
        "colab_type": "code",
        "outputId": "a45d2ba0-02da-4576-8f1e-7fed4a29377b",
        "colab": {
          "base_uri": "https://localhost:8080/",
          "height": 34
        }
      },
      "source": [
        "set(all_islands[2]) in distinct_islands"
      ],
      "execution_count": 244,
      "outputs": [
        {
          "output_type": "execute_result",
          "data": {
            "text/plain": [
              "True"
            ]
          },
          "metadata": {
            "tags": []
          },
          "execution_count": 244
        }
      ]
    },
    {
      "cell_type": "code",
      "metadata": {
        "id": "kN7qr-CA9pjV",
        "colab_type": "code",
        "colab": {}
      },
      "source": [
        "distinct_islands = []\n",
        "distinct_islands.append(set(all_islands[0]))\n",
        "\n",
        "for i in range(1, len(all_islands)):\n",
        "  if set(all_islands[i]) not in distinct_islands: \n",
        "    distinct_islands.append(set(all_islands[i]))\n",
        "\n"
      ],
      "execution_count": 0,
      "outputs": []
    },
    {
      "cell_type": "code",
      "metadata": {
        "id": "imo12TiR9-xs",
        "colab_type": "code",
        "outputId": "bd4e0ce2-4e52-4b14-f57e-ceeb38c822e9",
        "colab": {
          "base_uri": "https://localhost:8080/",
          "height": 346
        }
      },
      "source": [
        "distinct_islands"
      ],
      "execution_count": 246,
      "outputs": [
        {
          "output_type": "execute_result",
          "data": {
            "text/plain": [
              "[{(0, 0),\n",
              "  (0, 1),\n",
              "  (0, 2),\n",
              "  (0, 3),\n",
              "  (0, 4),\n",
              "  (0, 5),\n",
              "  (1, 0),\n",
              "  (1, 5),\n",
              "  (2, 0),\n",
              "  (2, 5),\n",
              "  (3, 0),\n",
              "  (3, 5),\n",
              "  (4, 0),\n",
              "  (4, 1),\n",
              "  (4, 2),\n",
              "  (4, 3),\n",
              "  (4, 4),\n",
              "  (4, 5)},\n",
              " {(2, 2), (2, 3)}]"
            ]
          },
          "metadata": {
            "tags": []
          },
          "execution_count": 246
        }
      ]
    },
    {
      "cell_type": "code",
      "metadata": {
        "id": "KOYeh8P_-rFR",
        "colab_type": "code",
        "colab": {}
      },
      "source": [
        "if set(all_islands[i]) not in distinct_islands: \n",
        "  distinct_islands.append(set(all_islands[i]))"
      ],
      "execution_count": 0,
      "outputs": []
    },
    {
      "cell_type": "code",
      "metadata": {
        "id": "mtefq6cW-sHl",
        "colab_type": "code",
        "outputId": "6e2d83cd-afb3-4237-9b8b-0fc6613ca060",
        "colab": {
          "base_uri": "https://localhost:8080/",
          "height": 34
        }
      },
      "source": [
        "len(distinct_islands)"
      ],
      "execution_count": 248,
      "outputs": [
        {
          "output_type": "execute_result",
          "data": {
            "text/plain": [
              "2"
            ]
          },
          "metadata": {
            "tags": []
          },
          "execution_count": 248
        }
      ]
    },
    {
      "cell_type": "code",
      "metadata": {
        "id": "fJ5wXOa2-yzW",
        "colab_type": "code",
        "colab": {}
      },
      "source": [
        "class Solution: \n",
        "  def __init__(self, grid):\n",
        "    self.grid = grid \n",
        "\n",
        "  def numIslands(self): \n",
        "    if not self.grid:\n",
        "      return 0\n",
        "    \n",
        "    count = 0 \n",
        "\n",
        "    for i in range(len(self.grid)): \n",
        "      print(\"i:{}\".format(i))\n",
        "      for j in range(len(self.grid[0])):\n",
        "        print(\"j:{}\".format(j))\n",
        "        if self.grid[i][j]=='1': \n",
        "           self.dfs(i,j)\n",
        "           count+=1\n",
        "      return count\n",
        "\n",
        "  def dfs(self, i,j):\n",
        "    if i < 0 or j<0 or i> len(self.grid) or j > len(self.grid) or self.grid[i][j]!=1: \n",
        "      return \n",
        "    else: \n",
        "      self.grid[i][j] = '#'\n",
        "      self.dfs(i+1, j)\n",
        "      self.dfs(i-1, j)\n",
        "      self.dfs(i, j+1)\n",
        "      self.dfs(self.grid, i, j-1)"
      ],
      "execution_count": 0,
      "outputs": []
    },
    {
      "cell_type": "markdown",
      "metadata": {
        "id": "0qQcX-w2ZhkW",
        "colab_type": "text"
      },
      "source": [
        "### Using Recursive Depth First Search"
      ]
    },
    {
      "cell_type": "code",
      "metadata": {
        "id": "Al0bxrW3GrdL",
        "colab_type": "code",
        "colab": {}
      },
      "source": [
        "def numIslands(grid):\n",
        "    if not grid:\n",
        "        return 0\n",
        "        \n",
        "    count = 0\n",
        "    for i in range(len(grid)):\n",
        "        for j in range(len(grid[0])):\n",
        "            if grid[i][j] == '1':\n",
        "                dfs(grid, i, j)\n",
        "                print(dfs(grid, i, j))\n",
        "                count += 1\n",
        "\n",
        "    return count\n",
        "\n",
        "def dfs( grid, i, j):\n",
        "    if i<0 or j<0 or i>=len(grid) or j>=len(grid[0]) or grid[i][j] != '1':\n",
        "        return\n",
        "    grid[i][j] = '#'\n",
        "    print(grid)\n",
        "    dfs(grid, i+1, j)\n",
        "    dfs(grid, i-1, j)\n",
        "    dfs(grid, i, j+1)\n",
        "    dfs(grid, i, j-1)\n"
      ],
      "execution_count": 0,
      "outputs": []
    },
    {
      "cell_type": "code",
      "metadata": {
        "id": "9u0MHv5LHtoU",
        "colab_type": "code",
        "outputId": "f4ddb009-485c-48ae-f52e-82d786904ea4",
        "colab": {
          "base_uri": "https://localhost:8080/",
          "height": 416
        }
      },
      "source": [
        "numIslands(input_list)"
      ],
      "execution_count": 236,
      "outputs": [
        {
          "output_type": "stream",
          "text": [
            "[['#', '1', '1', '1', '1', '1'], ['1', '0', '0', '0', '0', '1'], ['1', '0', '1', '1', '0', '1'], ['1', '0', '0', '0', '0', '1'], ['1', '1', '1', '1', '1', '1']]\n",
            "[['#', '1', '1', '1', '1', '1'], ['#', '0', '0', '0', '0', '1'], ['1', '0', '1', '1', '0', '1'], ['1', '0', '0', '0', '0', '1'], ['1', '1', '1', '1', '1', '1']]\n",
            "[['#', '1', '1', '1', '1', '1'], ['#', '0', '0', '0', '0', '1'], ['#', '0', '1', '1', '0', '1'], ['1', '0', '0', '0', '0', '1'], ['1', '1', '1', '1', '1', '1']]\n",
            "[['#', '1', '1', '1', '1', '1'], ['#', '0', '0', '0', '0', '1'], ['#', '0', '1', '1', '0', '1'], ['#', '0', '0', '0', '0', '1'], ['1', '1', '1', '1', '1', '1']]\n",
            "[['#', '1', '1', '1', '1', '1'], ['#', '0', '0', '0', '0', '1'], ['#', '0', '1', '1', '0', '1'], ['#', '0', '0', '0', '0', '1'], ['#', '1', '1', '1', '1', '1']]\n",
            "[['#', '1', '1', '1', '1', '1'], ['#', '0', '0', '0', '0', '1'], ['#', '0', '1', '1', '0', '1'], ['#', '0', '0', '0', '0', '1'], ['#', '#', '1', '1', '1', '1']]\n",
            "[['#', '1', '1', '1', '1', '1'], ['#', '0', '0', '0', '0', '1'], ['#', '0', '1', '1', '0', '1'], ['#', '0', '0', '0', '0', '1'], ['#', '#', '#', '1', '1', '1']]\n",
            "[['#', '1', '1', '1', '1', '1'], ['#', '0', '0', '0', '0', '1'], ['#', '0', '1', '1', '0', '1'], ['#', '0', '0', '0', '0', '1'], ['#', '#', '#', '#', '1', '1']]\n",
            "[['#', '1', '1', '1', '1', '1'], ['#', '0', '0', '0', '0', '1'], ['#', '0', '1', '1', '0', '1'], ['#', '0', '0', '0', '0', '1'], ['#', '#', '#', '#', '#', '1']]\n",
            "[['#', '1', '1', '1', '1', '1'], ['#', '0', '0', '0', '0', '1'], ['#', '0', '1', '1', '0', '1'], ['#', '0', '0', '0', '0', '1'], ['#', '#', '#', '#', '#', '#']]\n",
            "[['#', '1', '1', '1', '1', '1'], ['#', '0', '0', '0', '0', '1'], ['#', '0', '1', '1', '0', '1'], ['#', '0', '0', '0', '0', '#'], ['#', '#', '#', '#', '#', '#']]\n",
            "[['#', '1', '1', '1', '1', '1'], ['#', '0', '0', '0', '0', '1'], ['#', '0', '1', '1', '0', '#'], ['#', '0', '0', '0', '0', '#'], ['#', '#', '#', '#', '#', '#']]\n",
            "[['#', '1', '1', '1', '1', '1'], ['#', '0', '0', '0', '0', '#'], ['#', '0', '1', '1', '0', '#'], ['#', '0', '0', '0', '0', '#'], ['#', '#', '#', '#', '#', '#']]\n",
            "[['#', '1', '1', '1', '1', '#'], ['#', '0', '0', '0', '0', '#'], ['#', '0', '1', '1', '0', '#'], ['#', '0', '0', '0', '0', '#'], ['#', '#', '#', '#', '#', '#']]\n",
            "[['#', '1', '1', '1', '#', '#'], ['#', '0', '0', '0', '0', '#'], ['#', '0', '1', '1', '0', '#'], ['#', '0', '0', '0', '0', '#'], ['#', '#', '#', '#', '#', '#']]\n",
            "[['#', '1', '1', '#', '#', '#'], ['#', '0', '0', '0', '0', '#'], ['#', '0', '1', '1', '0', '#'], ['#', '0', '0', '0', '0', '#'], ['#', '#', '#', '#', '#', '#']]\n",
            "[['#', '1', '#', '#', '#', '#'], ['#', '0', '0', '0', '0', '#'], ['#', '0', '1', '1', '0', '#'], ['#', '0', '0', '0', '0', '#'], ['#', '#', '#', '#', '#', '#']]\n",
            "[['#', '#', '#', '#', '#', '#'], ['#', '0', '0', '0', '0', '#'], ['#', '0', '1', '1', '0', '#'], ['#', '0', '0', '0', '0', '#'], ['#', '#', '#', '#', '#', '#']]\n",
            "None\n",
            "[['#', '#', '#', '#', '#', '#'], ['#', '0', '0', '0', '0', '#'], ['#', '0', '#', '1', '0', '#'], ['#', '0', '0', '0', '0', '#'], ['#', '#', '#', '#', '#', '#']]\n",
            "[['#', '#', '#', '#', '#', '#'], ['#', '0', '0', '0', '0', '#'], ['#', '0', '#', '#', '0', '#'], ['#', '0', '0', '0', '0', '#'], ['#', '#', '#', '#', '#', '#']]\n",
            "None\n"
          ],
          "name": "stdout"
        },
        {
          "output_type": "execute_result",
          "data": {
            "text/plain": [
              "2"
            ]
          },
          "metadata": {
            "tags": []
          },
          "execution_count": 236
        }
      ]
    },
    {
      "cell_type": "code",
      "metadata": {
        "id": "BYn5qO9DHvH7",
        "colab_type": "code",
        "colab": {}
      },
      "source": [
        "input_list = [['1', '1', '1', '1', '1', '1'], ['1', '0', '0', '0', '0', '1'], ['1', '0', '1', '1', '0', '1'], ['1', '0', '0', '0', '0', '1'], ['1', '1', '1', '1', '1', '1']]"
      ],
      "execution_count": 0,
      "outputs": []
    },
    {
      "cell_type": "code",
      "metadata": {
        "id": "k8oIb-QWH3P7",
        "colab_type": "code",
        "outputId": "26644e15-5084-4973-e73c-fceac1b46686",
        "colab": {
          "base_uri": "https://localhost:8080/",
          "height": 104
        }
      },
      "source": [
        "input_list"
      ],
      "execution_count": 238,
      "outputs": [
        {
          "output_type": "execute_result",
          "data": {
            "text/plain": [
              "[['#', '#', '#', '#', '#', '#'],\n",
              " ['#', '0', '0', '0', '0', '#'],\n",
              " ['#', '0', '#', '#', '0', '#'],\n",
              " ['#', '0', '0', '0', '0', '#'],\n",
              " ['#', '#', '#', '#', '#', '#']]"
            ]
          },
          "metadata": {
            "tags": []
          },
          "execution_count": 238
        }
      ]
    },
    {
      "cell_type": "code",
      "metadata": {
        "id": "ozkrGn53H-gy",
        "colab_type": "code",
        "colab": {}
      },
      "source": [
        ""
      ],
      "execution_count": 0,
      "outputs": []
    }
  ]
}