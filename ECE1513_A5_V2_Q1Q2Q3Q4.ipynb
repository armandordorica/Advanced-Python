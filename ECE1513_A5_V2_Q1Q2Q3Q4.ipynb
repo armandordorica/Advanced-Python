{
  "nbformat": 4,
  "nbformat_minor": 0,
  "metadata": {
    "accelerator": "GPU",
    "colab": {
      "name": "ECE1513_A5_V2.ipynb",
      "provenance": [],
      "collapsed_sections": [],
      "include_colab_link": true
    },
    "kernelspec": {
      "display_name": "Python 3",
      "language": "python",
      "name": "python3"
    },
    "language_info": {
      "codemirror_mode": {
        "name": "ipython",
        "version": 3
      },
      "file_extension": ".py",
      "mimetype": "text/x-python",
      "name": "python",
      "nbconvert_exporter": "python",
      "pygments_lexer": "ipython3",
      "version": "3.7.3"
    }
  },
  "cells": [
    {
      "cell_type": "markdown",
      "metadata": {
        "id": "view-in-github",
        "colab_type": "text"
      },
      "source": [
        "<a href=\"https://colab.research.google.com/github/armandordorica/Advanced-Python/blob/master/ECE1513_A5_V2_Q1Q2Q3Q4.ipynb\" target=\"_parent\"><img src=\"https://colab.research.google.com/assets/colab-badge.svg\" alt=\"Open In Colab\"/></a>"
      ]
    },
    {
      "cell_type": "markdown",
      "metadata": {
        "id": "KKdo82c_3WOb",
        "colab_type": "text"
      },
      "source": [
        "## **ECE1513 - Assignment 5 - Training Adversarial Networks**"
      ]
    },
    {
      "cell_type": "markdown",
      "metadata": {
        "colab_type": "text",
        "id": "pxMUmlEENLXc"
      },
      "source": [
        "Let's first get the imports out of the way."
      ]
    },
    {
      "cell_type": "code",
      "metadata": {
        "colab_type": "code",
        "id": "v0yDWKUrCBiX",
        "colab": {}
      },
      "source": [
        "import array\n",
        "import gzip\n",
        "import itertools\n",
        "import numpy\n",
        "import numpy.random as npr\n",
        "import os\n",
        "import struct\n",
        "import time\n",
        "from os import path\n",
        "import urllib.request\n",
        "\n",
        "import jax.numpy as np\n",
        "from jax.api import jit, grad\n",
        "from jax.config import config\n",
        "from jax.scipy.special import logsumexp\n",
        "from jax import random"
      ],
      "execution_count": 0,
      "outputs": []
    },
    {
      "cell_type": "markdown",
      "metadata": {
        "colab_type": "text",
        "id": "nIp--T57NGrU"
      },
      "source": [
        "The following cell contains boilerplate code to download and load MNIST data."
      ]
    },
    {
      "cell_type": "code",
      "metadata": {
        "colab_type": "code",
        "id": "Du24u5vtDEIn",
        "colab": {}
      },
      "source": [
        "_DATA = \"/tmp/\"\n",
        "\n",
        "def _download(url, filename):\n",
        "  \"\"\"Download a url to a file in the JAX data temp directory.\"\"\"\n",
        "  if not path.exists(_DATA):\n",
        "    os.makedirs(_DATA)\n",
        "  out_file = path.join(_DATA, filename)\n",
        "  if not path.isfile(out_file):\n",
        "    urllib.request.urlretrieve(url, out_file)\n",
        "    print(\"downloaded {} to {}\".format(url, _DATA))\n",
        "\n",
        "\n",
        "def _partial_flatten(x):\n",
        "  \"\"\"Flatten all but the first dimension of an ndarray.\"\"\"\n",
        "  return numpy.reshape(x, (x.shape[0], -1))\n",
        "\n",
        "\n",
        "def _one_hot(x, k, dtype=numpy.float32):\n",
        "  \"\"\"Create a one-hot encoding of x of size k.\"\"\"\n",
        "  return numpy.array(x[:, None] == numpy.arange(k), dtype)\n",
        "\n",
        "\n",
        "def mnist_raw():\n",
        "  \"\"\"Download and parse the raw MNIST dataset.\"\"\"\n",
        "  # CVDF mirror of http://yann.lecun.com/exdb/mnist/\n",
        "  base_url = \"https://storage.googleapis.com/cvdf-datasets/mnist/\"\n",
        "\n",
        "  def parse_labels(filename):\n",
        "    with gzip.open(filename, \"rb\") as fh:\n",
        "      _ = struct.unpack(\">II\", fh.read(8))\n",
        "      return numpy.array(array.array(\"B\", fh.read()), dtype=numpy.uint8)\n",
        "\n",
        "  def parse_images(filename):\n",
        "    with gzip.open(filename, \"rb\") as fh:\n",
        "      _, num_data, rows, cols = struct.unpack(\">IIII\", fh.read(16))\n",
        "      return numpy.array(array.array(\"B\", fh.read()),\n",
        "                      dtype=numpy.uint8).reshape(num_data, rows, cols)\n",
        "\n",
        "  for filename in [\"train-images-idx3-ubyte.gz\", \"train-labels-idx1-ubyte.gz\",\n",
        "                   \"t10k-images-idx3-ubyte.gz\", \"t10k-labels-idx1-ubyte.gz\"]:\n",
        "    _download(base_url + filename, filename)\n",
        "\n",
        "  train_images = parse_images(path.join(_DATA, \"train-images-idx3-ubyte.gz\"))\n",
        "  train_labels = parse_labels(path.join(_DATA, \"train-labels-idx1-ubyte.gz\"))\n",
        "  test_images = parse_images(path.join(_DATA, \"t10k-images-idx3-ubyte.gz\"))\n",
        "  test_labels = parse_labels(path.join(_DATA, \"t10k-labels-idx1-ubyte.gz\"))\n",
        "\n",
        "  return train_images, train_labels, test_images, test_labels\n",
        "\n",
        "\n",
        "def mnist(create_outliers=False):\n",
        "  \"\"\"Download, parse and process MNIST data to unit scale and one-hot labels.\"\"\"\n",
        "  train_images, train_labels, test_images, test_labels = mnist_raw()\n",
        "\n",
        "  train_images = _partial_flatten(train_images) / numpy.float32(255.)\n",
        "  test_images = _partial_flatten(test_images) / numpy.float32(255.)\n",
        "  train_labels = _one_hot(train_labels, 10)\n",
        "  test_labels = _one_hot(test_labels, 10)\n",
        "\n",
        "  if create_outliers:\n",
        "    mum_outliers = 30000\n",
        "    perm = numpy.random.RandomState(0).permutation(mum_outliers)\n",
        "    train_images[:mum_outliers] = train_images[:mum_outliers][perm]\n",
        "\n",
        "  return train_images, train_labels, test_images, test_labels\n",
        "\n",
        "def shape_as_image(images, labels, dummy_dim=False):\n",
        "  target_shape = (-1, 1, 28, 28, 1) if dummy_dim else (-1, 28, 28, 1)\n",
        "  return np.reshape(images, target_shape), labels\n",
        "\n",
        "train_images, train_labels, test_images, test_labels = mnist(create_outliers=False)\n",
        "num_train = train_images.shape[0]"
      ],
      "execution_count": 0,
      "outputs": []
    },
    {
      "cell_type": "markdown",
      "metadata": {
        "colab_type": "text",
        "id": "LdTKppnqIHeV"
      },
      "source": [
        "# **Problem 1**\n",
        "\n",
        "This function computes the output of a fully-connected neural network (i.e., multilayer perceptron) by iterating over all of its layers and:\n",
        "\n",
        "1. taking the `activations` of the previous layer (or the input itself for the first hidden layer) to compute the `outputs` of a linear classifier. Recall the lectures: `outputs` is what we wrote $z=w\\cdot x + b$ where $x$ is the input to the linear classifier. \n",
        "2. applying a non-linear activation. Here we will use $tanh$.\n",
        "\n",
        "Complete the following cell to compute `outputs` and `activations`. "
      ]
    },
    {
      "cell_type": "code",
      "metadata": {
        "id": "rUv8dmqtY_pe",
        "colab_type": "code",
        "outputId": "8b166cfc-1388-43a8-f580-45ee16fd766d",
        "colab": {
          "base_uri": "https://localhost:8080/",
          "height": 34
        }
      },
      "source": [
        "train_images[0].shape"
      ],
      "execution_count": 3,
      "outputs": [
        {
          "output_type": "execute_result",
          "data": {
            "text/plain": [
              "(784,)"
            ]
          },
          "metadata": {
            "tags": []
          },
          "execution_count": 3
        }
      ]
    },
    {
      "cell_type": "code",
      "metadata": {
        "id": "qoSCFntkWhyB",
        "colab_type": "code",
        "colab": {}
      },
      "source": [
        "import matplotlib.pyplot as plt\n",
        "a = np.reshape(train_images[15], [28,28])\n"
      ],
      "execution_count": 0,
      "outputs": []
    },
    {
      "cell_type": "code",
      "metadata": {
        "id": "XMSiZhu5ZJmP",
        "colab_type": "code",
        "outputId": "8e66e8bf-c83c-499a-efee-66bdd24a946c",
        "colab": {
          "base_uri": "https://localhost:8080/",
          "height": 282
        }
      },
      "source": [
        "plt.imshow(a, cmap='Greys_r')"
      ],
      "execution_count": 5,
      "outputs": [
        {
          "output_type": "execute_result",
          "data": {
            "text/plain": [
              "<matplotlib.image.AxesImage at 0x7f76a5c087f0>"
            ]
          },
          "metadata": {
            "tags": []
          },
          "execution_count": 5
        },
        {
          "output_type": "display_data",
          "data": {
            "image/png": "[encoded data removed]",
            "text/plain": [
              "<Figure size 432x288 with 1 Axes>"
            ]
          },
          "metadata": {
            "tags": []
          }
        }
      ]
    },
    {
      "cell_type": "code",
      "metadata": {
        "id": "7uX-juqIbdH1",
        "colab_type": "code",
        "outputId": "2db7152d-9283-4607-ac40-98cbf0fbf72e",
        "colab": {
          "base_uri": "https://localhost:8080/",
          "height": 34
        }
      },
      "source": [
        "int_train_labels = np.argmax(train_labels, axis=1)\n",
        "int_train_labels.shape"
      ],
      "execution_count": 6,
      "outputs": [
        {
          "output_type": "execute_result",
          "data": {
            "text/plain": [
              "(60000,)"
            ]
          },
          "metadata": {
            "tags": []
          },
          "execution_count": 6
        }
      ]
    },
    {
      "cell_type": "markdown",
      "metadata": {
        "id": "ns0vCDwydOb-",
        "colab_type": "text"
      },
      "source": [
        "**Get all the indexes of the training data that were classified as 7**"
      ]
    },
    {
      "cell_type": "code",
      "metadata": {
        "id": "7L3WkmLscvzL",
        "colab_type": "code",
        "colab": {}
      },
      "source": [
        "int_train_labels_list = list(int_train_labels)\n",
        "indexes_7 = [index for index in range(len(int_train_labels_list)) if int_train_labels_list[index] == 7]"
      ],
      "execution_count": 0,
      "outputs": []
    },
    {
      "cell_type": "markdown",
      "metadata": {
        "id": "_9SnFBzsf3vL",
        "colab_type": "text"
      },
      "source": [
        "**Sample 5 examples from the train data where it is labeled as a 7**"
      ]
    },
    {
      "cell_type": "code",
      "metadata": {
        "id": "MnH5R3U_dnZ4",
        "colab_type": "code",
        "colab": {}
      },
      "source": [
        "from random import sample\n",
        "sample_indexes= sample(indexes_7,5)"
      ],
      "execution_count": 0,
      "outputs": []
    },
    {
      "cell_type": "code",
      "metadata": {
        "id": "RpKHA5QaeMtT",
        "colab_type": "code",
        "outputId": "c7e602ca-2173-4f19-8ea3-cee9643e26a0",
        "colab": {
          "base_uri": "https://localhost:8080/",
          "height": 34
        }
      },
      "source": [
        "sample_indexes"
      ],
      "execution_count": 9,
      "outputs": [
        {
          "output_type": "execute_result",
          "data": {
            "text/plain": [
              "[6871, 47221, 819, 9077, 36767]"
            ]
          },
          "metadata": {
            "tags": []
          },
          "execution_count": 9
        }
      ]
    },
    {
      "cell_type": "code",
      "metadata": {
        "id": "hvPErN4zdatg",
        "colab_type": "code",
        "outputId": "bc543925-f3e0-4a74-9315-90cf64553484",
        "colab": {
          "base_uri": "https://localhost:8080/",
          "height": 430
        }
      },
      "source": [
        "plt.figure(figsize=(50, 50))\n",
        "for i in range(0,len(sample_indexes)):\n",
        "  print(sample_indexes[i])\n",
        "  index = sample_indexes[i]\n",
        "  a = np.reshape(train_images[index], [28,28])\n",
        "  plt.subplot(int(len(sample_indexes)/6)+1, 6, i+1)\n",
        "  plt.imshow(a, cmap='Greys_r')"
      ],
      "execution_count": 10,
      "outputs": [
        {
          "output_type": "stream",
          "text": [
            "6871\n",
            "47221\n",
            "819\n",
            "9077\n",
            "36767\n"
          ],
          "name": "stdout"
        },
        {
          "output_type": "display_data",
          "data": {
            "image/png": "[encoded data removed]",
            "text/plain": [
              "<Figure size 3600x3600 with 5 Axes>"
            ]
          },
          "metadata": {
            "tags": []
          }
        }
      ]
    },
    {
      "cell_type": "code",
      "metadata": {
        "id": "qQIeKINFdarn",
        "colab_type": "code",
        "colab": {}
      },
      "source": [
        "def train_sample_sevens(num_of_samples):\n",
        "  int_train_labels = np.argmax(train_labels, axis=1)\n",
        "  int_train_labels_list = list(int_train_labels)\n",
        "  indexes_7 = [index for index in range(len(int_train_labels_list)) if int_train_labels_list[index] == 7]\n",
        "  sample_indexes= sample(indexes_7,num_of_samples)\n",
        "\n",
        "  plt.figure(figsize=(30, 30))\n",
        "  for i in range(0,len(sample_indexes)):\n",
        "    # print(sample_indexes[i])\n",
        "    index = sample_indexes[i]\n",
        "    a = np.reshape(train_images[index], [28,28])\n",
        "    plt.subplot(int(len(sample_indexes)/10)+1, 10, i+1)\n",
        "    plt.imshow(a, cmap='Greys_r')"
      ],
      "execution_count": 0,
      "outputs": []
    },
    {
      "cell_type": "code",
      "metadata": {
        "id": "aUXGMmDqdapT",
        "colab_type": "code",
        "outputId": "279347ca-6635-4005-c5c2-43b7b4244b89",
        "colab": {
          "base_uri": "https://localhost:8080/",
          "height": 190
        }
      },
      "source": [
        "train_sample_sevens(7)"
      ],
      "execution_count": 12,
      "outputs": [
        {
          "output_type": "display_data",
          "data": {
            "image/png": "[encoded data removed]",
            "text/plain": [
              "<Figure size 2160x2160 with 7 Axes>"
            ]
          },
          "metadata": {
            "tags": []
          }
        }
      ]
    },
    {
      "cell_type": "markdown",
      "metadata": {
        "id": "rVvqEWnGiSzi",
        "colab_type": "text"
      },
      "source": [
        "### **Visualizing Test Data Images**"
      ]
    },
    {
      "cell_type": "code",
      "metadata": {
        "id": "fMfF-Dh_h0y9",
        "colab_type": "code",
        "outputId": "48f40b30-bbb8-4c42-e3ff-e6b30d4affa4",
        "colab": {
          "base_uri": "https://localhost:8080/",
          "height": 34
        }
      },
      "source": [
        "test_images.shape"
      ],
      "execution_count": 13,
      "outputs": [
        {
          "output_type": "execute_result",
          "data": {
            "text/plain": [
              "(10000, 784)"
            ]
          },
          "metadata": {
            "tags": []
          },
          "execution_count": 13
        }
      ]
    },
    {
      "cell_type": "code",
      "metadata": {
        "id": "pxqxQhjvh0xJ",
        "colab_type": "code",
        "outputId": "6b2b9f81-a7e4-420e-dc46-6e5d401a9736",
        "colab": {
          "base_uri": "https://localhost:8080/",
          "height": 34
        }
      },
      "source": [
        "test_images[0].shape\n"
      ],
      "execution_count": 14,
      "outputs": [
        {
          "output_type": "execute_result",
          "data": {
            "text/plain": [
              "(784,)"
            ]
          },
          "metadata": {
            "tags": []
          },
          "execution_count": 14
        }
      ]
    },
    {
      "cell_type": "code",
      "metadata": {
        "id": "Mi5jXguYh0vG",
        "colab_type": "code",
        "outputId": "2205efae-4ef4-49e7-f21c-48b990b495a9",
        "colab": {
          "base_uri": "https://localhost:8080/",
          "height": 282
        }
      },
      "source": [
        "import matplotlib.pyplot as plt\n",
        "a = np.reshape(test_images[15], [28,28])\n",
        "plt.imshow(a, cmap='Greys_r')\n"
      ],
      "execution_count": 15,
      "outputs": [
        {
          "output_type": "execute_result",
          "data": {
            "text/plain": [
              "<matplotlib.image.AxesImage at 0x7f7691516780>"
            ]
          },
          "metadata": {
            "tags": []
          },
          "execution_count": 15
        },
        {
          "output_type": "display_data",
          "data": {
            "image/png": "[encoded data removed]",
            "text/plain": [
              "<Figure size 432x288 with 1 Axes>"
            ]
          },
          "metadata": {
            "tags": []
          }
        }
      ]
    },
    {
      "cell_type": "code",
      "metadata": {
        "id": "uknWYeVgh0s4",
        "colab_type": "code",
        "outputId": "2b46ecef-c3af-46af-d785-2da27b5f50f6",
        "colab": {
          "base_uri": "https://localhost:8080/",
          "height": 34
        }
      },
      "source": [
        "int_test_labels = np.argmax(test_labels, axis=1)\n",
        "int_test_labels.shape"
      ],
      "execution_count": 16,
      "outputs": [
        {
          "output_type": "execute_result",
          "data": {
            "text/plain": [
              "(10000,)"
            ]
          },
          "metadata": {
            "tags": []
          },
          "execution_count": 16
        }
      ]
    },
    {
      "cell_type": "code",
      "metadata": {
        "id": "X22FhuIwh0qd",
        "colab_type": "code",
        "colab": {}
      },
      "source": [
        "def test_sample_sevens(num_of_samples):\n",
        "  int_test_labels = np.argmax(test_labels, axis=1)\n",
        "  int_test_labels_list = list(int_test_labels)\n",
        "  indexes_7 = [index for index in range(len(int_test_labels_list)) if int_test_labels_list[index] == 7]\n",
        "  sample_indexes= sample(indexes_7,num_of_samples)\n",
        "\n",
        "  plt.figure(figsize=(30, 30))\n",
        "  for i in range(0,len(sample_indexes)):\n",
        "    # print(sample_indexes[i])\n",
        "    index = sample_indexes[i]\n",
        "    a = np.reshape(test_images[index], [28,28])\n",
        "    plt.subplot(int(len(sample_indexes)/10)+1, 10, i+1)\n",
        "    plt.imshow(a, cmap='Greys_r')"
      ],
      "execution_count": 0,
      "outputs": []
    },
    {
      "cell_type": "code",
      "metadata": {
        "id": "Sq5sJjRvh0n4",
        "colab_type": "code",
        "outputId": "49f71298-e518-4822-a62a-728cbd12d723",
        "colab": {
          "base_uri": "https://localhost:8080/",
          "height": 190
        }
      },
      "source": [
        "test_sample_sevens(5)"
      ],
      "execution_count": 18,
      "outputs": [
        {
          "output_type": "display_data",
          "data": {
            "image/png": "[encoded data removed]",
            "text/plain": [
              "<Figure size 2160x2160 with 5 Axes>"
            ]
          },
          "metadata": {
            "tags": []
          }
        }
      ]
    },
    {
      "cell_type": "code",
      "metadata": {
        "colab_type": "code",
        "id": "PGU4xK-iHjhx",
        "colab": {}
      },
      "source": [
        "def predict(params, inputs):\n",
        "  activations = inputs\n",
        "  for w, b in params[:-1]:\n",
        "    outputs = np.dot(activations, w) + b\n",
        "    activations = np.tanh(outputs)\n",
        "  final_w, final_b = params[-1]\n",
        "  logits = np.dot(activations, final_w) + final_b\n",
        "  return logits - logsumexp(logits, axis=1, keepdims=True)"
      ],
      "execution_count": 0,
      "outputs": []
    },
    {
      "cell_type": "markdown",
      "metadata": {
        "colab_type": "text",
        "id": "UgE_NBb9JNDI"
      },
      "source": [
        "The following cell computes the loss of our model. Here we are using cross-entropy combined with a softmax but the implementation uses the `LogSumExp` trick for numerical stability. This is why our previous function `predict` returns the logits to which we substract the `logsumexp` of logits. We discussed this in class but you can read more about it [here](https://blog.feedly.com/tricks-of-the-trade-logsumexp/).\n",
        "\n",
        "Complete the return line. Recall that the loss is defined as :\n",
        "$$ l(X, Y) = -\\frac{1}{n} \\sum_{i\\in 1..n}  \\sum_{j\\in 1.. K}y_j^{(i)} \\log(f_j(x^{(i)})) = -\\frac{1}{n} \\sum_{i\\in 1..n}  \\sum_{j\\in 1.. K}y_j^{(i)} \\log\\left(\\frac{z_j^{(i)}}{\\sum_{k\\in 1..K}z_k^{(i)}}\\right) $$\n",
        "where $X$ is a matrix containing a batch of $n$ training inputs, and $Y$ a matrix containing a batch of one-hot encoded labels defined over $K$ labels. Here $z_j^{(i)}$ is the logits (i.e., input to the softmax) of the model on the example $i$ of our batch of training examples $X$."
      ]
    },
    {
      "cell_type": "code",
      "metadata": {
        "colab_type": "code",
        "id": "JlgdP72hH9ly",
        "colab": {}
      },
      "source": [
        "def loss(params, batch):\n",
        "  inputs, targets = batch\n",
        "  preds = predict(params, inputs)\n",
        "  return -np.mean((np.sum(targets*preds,axis=1)))"
      ],
      "execution_count": 0,
      "outputs": []
    },
    {
      "cell_type": "markdown",
      "metadata": {
        "colab_type": "text",
        "id": "ILZ-q5PTMohU"
      },
      "source": [
        "The following cell defines the accuracy of our model and how to initialize its parameters. "
      ]
    },
    {
      "cell_type": "code",
      "metadata": {
        "colab_type": "code",
        "id": "UDjCuIGzIAjf",
        "colab": {}
      },
      "source": [
        "def accuracy(params, batch):\n",
        "  inputs, targets = batch\n",
        "  target_class = np.argmax(targets, axis=1)\n",
        "  predicted_class = np.argmax(predict(params, inputs), axis=1)\n",
        "  return np.mean(predicted_class == target_class)\n",
        "\n",
        "def init_random_params(layer_sizes, rng=npr.RandomState(0)):\n",
        "  scale = 0.1\n",
        "  return [(scale * rng.randn(m, n), scale * rng.randn(n))\n",
        "          for m, n, in zip(layer_sizes[:-1], layer_sizes[1:])]"
      ],
      "execution_count": 0,
      "outputs": []
    },
    {
      "cell_type": "markdown",
      "metadata": {
        "colab_type": "text",
        "id": "as46_qd5NWMA"
      },
      "source": [
        "The following line defines our architecture with the number of neurons contained in each fully-connected layer (the first layer has 784 neurons because MNIST images are 28*28=784 pixels and the last layer has 10 neurons because MNIST has 10 classes)"
      ]
    },
    {
      "cell_type": "code",
      "metadata": {
        "colab_type": "code",
        "id": "MZzv-4dHNV4D",
        "colab": {}
      },
      "source": [
        "#Good fit\n",
        "layer_sizes = [784, 1024, 128, 10]\n",
        "\n",
        "# underfits \n",
        "#layer_sizes = [784, 4, 2, 10]\n",
        "\n",
        "# overfits\n",
        "#layer_sizes = [784, 1024, 1024, 1024, 1024, 128, 10]\n"
      ],
      "execution_count": 0,
      "outputs": []
    },
    {
      "cell_type": "markdown",
      "metadata": {
        "colab_type": "text",
        "id": "PKroKJ6TOETY"
      },
      "source": [
        "The following cell creates a Python generator for our dataset. It outputs one batch of $n$ training examples at a time. "
      ]
    },
    {
      "cell_type": "code",
      "metadata": {
        "colab_type": "code",
        "id": "_6lLT1klOMIn",
        "colab": {}
      },
      "source": [
        "batch_size = 128\n",
        "num_complete_batches, leftover = divmod(num_train, batch_size)\n",
        "num_batches = num_complete_batches + bool(leftover)\n",
        "\n",
        "def data_stream():\n",
        "  rng = npr.RandomState(0)\n",
        "  while True:\n",
        "    perm = rng.permutation(num_train)\n",
        "    for i in range(num_batches):\n",
        "      batch_idx = perm[i * batch_size:(i + 1) * batch_size]\n",
        "      yield train_images[batch_idx], train_labels[batch_idx]\n",
        "batches = data_stream()"
      ],
      "execution_count": 0,
      "outputs": []
    },
    {
      "cell_type": "markdown",
      "metadata": {
        "colab_type": "text",
        "id": "Lm-UbcYZOOci"
      },
      "source": [
        "We are now ready to define our optimizer. Here we use mini-batch stochastic gradient descent. Complete `<w UPDATE RULE>` and `<b UPDATE RULE>` using the update rule we saw in class. Recall that `dw` is the partial derivative of the `loss` with respect to `w` and `learning_rate` is the learning rate of gradient descent. "
      ]
    },
    {
      "cell_type": "code",
      "metadata": {
        "colab_type": "code",
        "id": "Z8EktCm-OvFh",
        "colab": {}
      },
      "source": [
        "learning_rate = 0.1\n",
        "# oscillates but converges for e.g. 0.5 and doesn't converge for 1.5\n",
        "\n",
        "@jit\n",
        "def update(params, batch):\n",
        "  grads = grad(loss)(params, batch)\n",
        "  return [(w - learning_rate * dw, b - learning_rate* db)\n",
        "          for (w, b), (dw, db) in zip(params, grads)]"
      ],
      "execution_count": 0,
      "outputs": []
    },
    {
      "cell_type": "markdown",
      "metadata": {
        "colab_type": "text",
        "id": "Tqo4M7uNOvzo"
      },
      "source": [
        "This is now the proper training loop for our fully-connected neural network. "
      ]
    },
    {
      "cell_type": "code",
      "metadata": {
        "colab_type": "code",
        "id": "fgrHTrafDHAE",
        "outputId": "0dc42aab-8112-4c17-939a-3064149e311a",
        "colab": {
          "base_uri": "https://localhost:8080/",
          "height": 537
        }
      },
      "source": [
        "num_epochs = 10\n",
        "params = init_random_params(layer_sizes)\n",
        "for epoch in range(num_epochs):\n",
        "  start_time = time.time()\n",
        "  for _ in range(num_batches):\n",
        "    params = update(params, next(batches))\n",
        "  epoch_time = time.time() - start_time\n",
        "\n",
        "  train_acc = accuracy(params, (train_images, train_labels))\n",
        "  test_acc = accuracy(params, (test_images, test_labels))\n",
        "  print(\"Epoch {} in {:0.2f} sec\".format(epoch, epoch_time))\n",
        "  print(\"Training set accuracy {}\".format(train_acc))\n",
        "  print(\"Test set accuracy {}\".format(test_acc))"
      ],
      "execution_count": 25,
      "outputs": [
        {
          "output_type": "stream",
          "text": [
            "Epoch 0 in 1.93 sec\n",
            "Training set accuracy 0.9401500225067139\n",
            "Test set accuracy 0.9377000331878662\n",
            "Epoch 1 in 0.49 sec\n",
            "Training set accuracy 0.9592833518981934\n",
            "Test set accuracy 0.95250004529953\n",
            "Epoch 2 in 0.47 sec\n",
            "Training set accuracy 0.9681666493415833\n",
            "Test set accuracy 0.9607000350952148\n",
            "Epoch 3 in 0.47 sec\n",
            "Training set accuracy 0.9759166836738586\n",
            "Test set accuracy 0.9663000702857971\n",
            "Epoch 4 in 0.49 sec\n",
            "Training set accuracy 0.9795500040054321\n",
            "Test set accuracy 0.9676000475883484\n",
            "Epoch 5 in 0.47 sec\n",
            "Training set accuracy 0.982616662979126\n",
            "Test set accuracy 0.970300018787384\n",
            "Epoch 6 in 0.51 sec\n",
            "Training set accuracy 0.9865833520889282\n",
            "Test set accuracy 0.9716000556945801\n",
            "Epoch 7 in 0.49 sec\n",
            "Training set accuracy 0.9892333149909973\n",
            "Test set accuracy 0.9736000299453735\n",
            "Epoch 8 in 0.51 sec\n",
            "Training set accuracy 0.9911666512489319\n",
            "Test set accuracy 0.9741000533103943\n",
            "Epoch 9 in 0.50 sec\n",
            "Training set accuracy 0.992983341217041\n",
            "Test set accuracy 0.9746000170707703\n"
          ],
          "name": "stdout"
        }
      ]
    },
    {
      "cell_type": "markdown",
      "metadata": {
        "colab_type": "text",
        "id": "s9yFvjncWk8G"
      },
      "source": [
        "# **Problem 2**\n",
        "\n",
        "Before we get started, we need to import two small libraries that contain boilerplate code for common neural network layer types and for optimizers like mini-batch SGD."
      ]
    },
    {
      "cell_type": "code",
      "metadata": {
        "colab_type": "code",
        "id": "tvLxNfXtXCRb",
        "colab": {}
      },
      "source": [
        "from jax.experimental import optimizers\n",
        "from jax.experimental import stax"
      ],
      "execution_count": 0,
      "outputs": []
    },
    {
      "cell_type": "markdown",
      "metadata": {
        "colab_type": "text",
        "id": "nNwMlXqfXI8G"
      },
      "source": [
        "Here is a fully-connected neural network architecture, like the one of Problem 1, but this time defined with `stax`"
      ]
    },
    {
      "cell_type": "code",
      "metadata": {
        "colab_type": "code",
        "id": "Y4wu1XqFds4X",
        "colab": {}
      },
      "source": [
        "init_random_params, predict = stax.serial(\n",
        "    stax.Conv(128, (8,8), padding='valid', strides=(2,2)),\n",
        "    stax.MaxPool((2,2),(1,1)),\n",
        "    stax.Conv(128, (4,4), padding='valid', strides=(2,2)),\n",
        "    stax.Relu,\n",
        "    stax.MaxPool((2,2),(1,1)),\n",
        "    stax.Flatten,\n",
        "    stax.Dense(32),\n",
        "    stax.Relu,\n",
        "    stax.Dense(10)\n",
        ")"
      ],
      "execution_count": 0,
      "outputs": []
    },
    {
      "cell_type": "markdown",
      "metadata": {
        "colab_type": "text",
        "id": "nEW_OcOCdwFX"
      },
      "source": [
        "We redefine the cross-entropy loss for this model. As done in Problem 1, complete the return line below (it's identical). "
      ]
    },
    {
      "cell_type": "code",
      "metadata": {
        "colab_type": "code",
        "id": "zQEeOtAEdvYn",
        "colab": {}
      },
      "source": [
        "def loss(params, batch):\n",
        "  inputs, targets = batch\n",
        "  logits = predict(params, inputs)\n",
        "  preds  = stax.logsoftmax(logits)\n",
        "  return -(1/preds.shape[0])*np.sum(targets * preds)"
      ],
      "execution_count": 0,
      "outputs": []
    },
    {
      "cell_type": "markdown",
      "metadata": {
        "colab_type": "text",
        "id": "8ZBxTvCweJbN"
      },
      "source": [
        "Next, we define the mini-batch SGD optimizer, this time with the optimizers library in JAX. "
      ]
    },
    {
      "cell_type": "code",
      "metadata": {
        "colab_type": "code",
        "id": "peG-cAZ0eGTG",
        "colab": {}
      },
      "source": [
        "learning_rate = 0.15\n",
        "opt_init, opt_update, get_params = optimizers.sgd(learning_rate)\n",
        "\n",
        "@jit\n",
        "def update(_, i, opt_state, batch):\n",
        "  params = get_params(opt_state)\n",
        "  return opt_update(i, grad(loss)(params, batch), opt_state)"
      ],
      "execution_count": 0,
      "outputs": []
    },
    {
      "cell_type": "markdown",
      "metadata": {
        "colab_type": "text",
        "id": "gVx2h8lqeoTD"
      },
      "source": [
        "The next cell contains our training loop, very similar to Problem 1. "
      ]
    },
    {
      "cell_type": "code",
      "metadata": {
        "colab_type": "code",
        "id": "41Y6wwFzb-mk",
        "outputId": "5cd47be6-41b9-4cc8-d4f9-8a4942425e47",
        "colab": {
          "base_uri": "https://localhost:8080/",
          "height": 225
        }
      },
      "source": [
        "num_epochs = 12\n",
        "\n",
        "key = random.PRNGKey(123)\n",
        "_, init_params = init_random_params(key, (-1, 28, 28, 1))\n",
        "opt_state = opt_init(init_params)\n",
        "itercount = itertools.count()\n",
        "for epoch in range(1, num_epochs + 1):\n",
        "  for _ in range(num_batches):\n",
        "    opt_state = update(key, next(itercount), opt_state, shape_as_image(*next(batches)))\n",
        "\n",
        "  params = get_params(opt_state)\n",
        "  test_acc = accuracy(params, shape_as_image(test_images, test_labels))\n",
        "  test_loss = loss(params, shape_as_image(test_images, test_labels))\n",
        "  print('Test set loss, accuracy (%): ({:.2f}, {:.2f})'.format(test_loss, 100 * test_acc))\n",
        "\n",
        "  "
      ],
      "execution_count": 30,
      "outputs": [
        {
          "output_type": "stream",
          "text": [
            "Test set loss, accuracy (%): (0.08, 97.47)\n",
            "Test set loss, accuracy (%): (0.05, 98.16)\n",
            "Test set loss, accuracy (%): (0.04, 98.60)\n",
            "Test set loss, accuracy (%): (0.03, 99.03)\n",
            "Test set loss, accuracy (%): (0.04, 98.78)\n",
            "Test set loss, accuracy (%): (0.03, 99.19)\n",
            "Test set loss, accuracy (%): (0.03, 99.12)\n",
            "Test set loss, accuracy (%): (0.03, 99.19)\n",
            "Test set loss, accuracy (%): (0.02, 99.24)\n",
            "Test set loss, accuracy (%): (0.02, 99.22)\n",
            "Test set loss, accuracy (%): (0.02, 99.26)\n",
            "Test set loss, accuracy (%): (0.02, 99.27)\n"
          ],
          "name": "stdout"
        }
      ]
    },
    {
      "cell_type": "markdown",
      "metadata": {
        "id": "T05oMekesdMX",
        "colab_type": "text"
      },
      "source": [
        "### **`x` is an image from the test set that was originally correctly classified**"
      ]
    },
    {
      "cell_type": "code",
      "metadata": {
        "id": "M4Tc-nAvxSWD",
        "colab_type": "code",
        "colab": {}
      },
      "source": [
        "x = test_images[917]\n",
        "x_reshaped = np.reshape(x, [1,28,28,1])"
      ],
      "execution_count": 0,
      "outputs": []
    },
    {
      "cell_type": "code",
      "metadata": {
        "id": "XYRM0T34xSTD",
        "colab_type": "code",
        "colab": {}
      },
      "source": [
        "def model_prediction(index):\n",
        "  predicted_class = np.argmax(predict(params, np.reshape(test_images[index], [1,28,28,1])))\n",
        "  predicted = int(predicted_class)\n",
        "  print(\"Predicted: {}\".format(predicted))\n",
        "  plt.imshow(a, cmap='Greys_r')"
      ],
      "execution_count": 0,
      "outputs": []
    },
    {
      "cell_type": "markdown",
      "metadata": {
        "id": "-kfEUbG01qea",
        "colab_type": "text"
      },
      "source": [
        "### **Predict image method**"
      ]
    },
    {
      "cell_type": "code",
      "metadata": {
        "id": "eMuFAsIZyn1O",
        "colab_type": "code",
        "colab": {}
      },
      "source": [
        "def predict_image(input_image):\n",
        "  \"\"\"\n",
        "  input_image: np array with shape (1, 28, 28, 1)\n",
        "  \"\"\"\n",
        "  input_image = np.array(input_image)\n",
        "  predicted_class = np.argmax(predict(params, input_image))\n",
        "  predicted = int(predicted_class) \n",
        "  img = np.reshape(input_image, [28,28])\n",
        "  plt.imshow(img, cmap='gist_gray') \n",
        "  print(\"Predicted class: {}\".format(predicted))\n",
        "  return predicted "
      ],
      "execution_count": 0,
      "outputs": []
    },
    {
      "cell_type": "markdown",
      "metadata": {
        "id": "C2Ede5aU2oIU",
        "colab_type": "text"
      },
      "source": [
        "### **Predict vector output method**"
      ]
    },
    {
      "cell_type": "code",
      "metadata": {
        "id": "VnZz3deS2u-G",
        "colab_type": "code",
        "colab": {}
      },
      "source": [
        "def predict_vector_output(input_image):\n",
        "  \"\"\"\n",
        "  input_image: np array with shape (1, 28, 28, 1)\n",
        "  \"\"\"\n",
        "  input_image = np.array(input_image)\n",
        "  return np.array(predict(params, input_image))"
      ],
      "execution_count": 0,
      "outputs": []
    },
    {
      "cell_type": "markdown",
      "metadata": {
        "id": "znun4Uiv0LEW",
        "colab_type": "text"
      },
      "source": [
        "### **Result for original image in test set**"
      ]
    },
    {
      "cell_type": "code",
      "metadata": {
        "id": "g5WQTPvm0RkV",
        "colab_type": "code",
        "colab": {}
      },
      "source": [
        "x = test_images[917]\n",
        "x_reshaped = np.reshape(x, [1,28,28,1])"
      ],
      "execution_count": 0,
      "outputs": []
    },
    {
      "cell_type": "code",
      "metadata": {
        "id": "XhukNTc7zJYJ",
        "colab_type": "code",
        "colab": {
          "base_uri": "https://localhost:8080/",
          "height": 300
        },
        "outputId": "b344f29b-600e-4133-981a-f4b7c3e2b05b"
      },
      "source": [
        "predict_image(x_reshaped)"
      ],
      "execution_count": 36,
      "outputs": [
        {
          "output_type": "stream",
          "text": [
            "Predicted class: 7\n"
          ],
          "name": "stdout"
        },
        {
          "output_type": "execute_result",
          "data": {
            "text/plain": [
              "7"
            ]
          },
          "metadata": {
            "tags": []
          },
          "execution_count": 36
        },
        {
          "output_type": "display_data",
          "data": {
            "image/png": "[encoded data removed]",
            "text/plain": [
              "<Figure size 432x288 with 1 Axes>"
            ]
          },
          "metadata": {
            "tags": []
          }
        }
      ]
    },
    {
      "cell_type": "markdown",
      "metadata": {
        "id": "9qdwbfOY0gOI",
        "colab_type": "text"
      },
      "source": [
        "### **Generate perturbed image method**\n",
        "**Q1 (1) - Code used to find the perturbation**"
      ]
    },
    {
      "cell_type": "code",
      "metadata": {
        "id": "tLjAaVb-0mHb",
        "colab_type": "code",
        "colab": {}
      },
      "source": [
        "def perturbe_image(epsilon, index_of_test_image): \n",
        "  epsilon = epsilon\n",
        "  x_grad = grad(loss,1)(params, shape_as_image(test_images[index_of_test_image], test_labels[index_of_test_image]))\n",
        "  np_x_grad = np.array(x_grad[0])\n",
        "  np_x_grad_sign = np.sign(np_x_grad)\n",
        "  perturbation  = np_x_grad_sign* epsilon\n",
        "\n",
        "  x = test_images[index_of_test_image]\n",
        "  x_reshaped = np.reshape(x, [1,28,28,1])\n",
        "\n",
        "  x_star = x_reshaped + perturbation\n",
        "  return x_star"
      ],
      "execution_count": 0,
      "outputs": []
    },
    {
      "cell_type": "markdown",
      "metadata": {
        "id": "YbejcvnF0YCX",
        "colab_type": "text"
      },
      "source": [
        "### **Result for perturbed image in test set**\n",
        "**Q1 (2) Visualization of the perturbed image**"
      ]
    },
    {
      "cell_type": "code",
      "metadata": {
        "id": "3Qy-0cjtzFqh",
        "colab_type": "code",
        "colab": {
          "base_uri": "https://localhost:8080/",
          "height": 300
        },
        "outputId": "ee864316-943f-4c8e-c067-3414c932152b"
      },
      "source": [
        "x_star = perturbe_image(0.3, 917)\n",
        "predict_image(x_star)"
      ],
      "execution_count": 38,
      "outputs": [
        {
          "output_type": "stream",
          "text": [
            "Predicted class: 3\n"
          ],
          "name": "stdout"
        },
        {
          "output_type": "execute_result",
          "data": {
            "text/plain": [
              "3"
            ]
          },
          "metadata": {
            "tags": []
          },
          "execution_count": 38
        },
        {
          "output_type": "display_data",
          "data": {
            "image/png": "[encoded data removed]",
            "text/plain": [
              "<Figure size 432x288 with 1 Axes>"
            ]
          },
          "metadata": {
            "tags": []
          }
        }
      ]
    },
    {
      "cell_type": "markdown",
      "metadata": {
        "id": "NSGKCvGk3KFM",
        "colab_type": "text"
      },
      "source": [
        "**Q1 (3) The prediction vector output by the model on the original and perturbed image**"
      ]
    },
    {
      "cell_type": "code",
      "metadata": {
        "id": "73WFcTAw2dBC",
        "colab_type": "code",
        "colab": {
          "base_uri": "https://localhost:8080/",
          "height": 69
        },
        "outputId": "43a0692b-a180-439f-ee95-54dc0626cf56"
      },
      "source": [
        "predict_vector_output(x_reshaped)\n"
      ],
      "execution_count": 39,
      "outputs": [
        {
          "output_type": "execute_result",
          "data": {
            "text/plain": [
              "DeviceArray([[ -3.6405835 ,  -0.83469486,   1.6745666 ,   3.1052432 ,\n",
              "               -1.7701457 ,  -3.8864946 , -18.328262  ,  17.085344  ,\n",
              "               -5.157089  ,   5.2541113 ]], dtype=float32)"
            ]
          },
          "metadata": {
            "tags": []
          },
          "execution_count": 39
        }
      ]
    },
    {
      "cell_type": "code",
      "metadata": {
        "id": "yXlFF6hq2832",
        "colab_type": "code",
        "colab": {
          "base_uri": "https://localhost:8080/",
          "height": 69
        },
        "outputId": "61c4630e-9f9e-4143-e3e5-495efa3ccdd8"
      },
      "source": [
        "predict_vector_output(x_star)"
      ],
      "execution_count": 40,
      "outputs": [
        {
          "output_type": "execute_result",
          "data": {
            "text/plain": [
              "DeviceArray([[ -3.1837993 ,   0.45956945,  -4.328016  ,  15.009528  ,\n",
              "               -2.8964155 ,   4.8086553 , -14.488246  ,   3.1471734 ,\n",
              "               -0.9284396 ,  12.764921  ]], dtype=float32)"
            ]
          },
          "metadata": {
            "tags": []
          },
          "execution_count": 40
        }
      ]
    },
    {
      "cell_type": "markdown",
      "metadata": {
        "id": "R64IjOyQC3QC",
        "colab_type": "text"
      },
      "source": [
        "---------------------------------------------------------------------"
      ]
    },
    {
      "cell_type": "code",
      "metadata": {
        "id": "aZ_ywqF6d-dI",
        "colab_type": "code",
        "colab": {
          "base_uri": "https://localhost:8080/",
          "height": 132
        },
        "outputId": "a748a80e-4b52-4e23-e60b-00fd5326a60f"
      },
      "source": [
        "break"
      ],
      "execution_count": 41,
      "outputs": [
        {
          "output_type": "error",
          "ename": "SyntaxError",
          "evalue": "ignored",
          "traceback": [
            "\u001b[0;36m  File \u001b[0;32m\"<ipython-input-41-6aaf1f276005>\"\u001b[0;36m, line \u001b[0;32m1\u001b[0m\n\u001b[0;31m    break\u001b[0m\n\u001b[0m         ^\u001b[0m\n\u001b[0;31mSyntaxError\u001b[0m\u001b[0;31m:\u001b[0m 'break' outside loop\n"
          ]
        }
      ]
    },
    {
      "cell_type": "markdown",
      "metadata": {
        "id": "A8x3mzqjCtu8",
        "colab_type": "text"
      },
      "source": [
        "# **Q2 begins here**"
      ]
    },
    {
      "cell_type": "markdown",
      "metadata": {
        "id": "HReK3UfD52Fz",
        "colab_type": "text"
      },
      "source": [
        "### **Obtaining 1000 indices for original 7s**"
      ]
    },
    {
      "cell_type": "code",
      "metadata": {
        "id": "z8ChSWvz57IH",
        "colab_type": "code",
        "colab": {}
      },
      "source": [
        "def test_sample_sevens_indices(num_of_samples):\n",
        "  int_test_labels = np.argmax(test_labels, axis=1)\n",
        "  int_test_labels_list = list(int_test_labels)\n",
        "  indexes_7 = [index for index in range(len(int_test_labels_list)) if int_test_labels_list[index] == 7]\n",
        "  sample_indexes= sample(indexes_7,num_of_samples)\n",
        "\n",
        "  return sample_indexes"
      ],
      "execution_count": 0,
      "outputs": []
    },
    {
      "cell_type": "code",
      "metadata": {
        "id": "bKx6sCOq6EIG",
        "colab_type": "code",
        "colab": {}
      },
      "source": [
        "thousand_indices = test_sample_sevens_indices(1000)"
      ],
      "execution_count": 0,
      "outputs": []
    },
    {
      "cell_type": "code",
      "metadata": {
        "id": "rgFxP8TM7AY5",
        "colab_type": "code",
        "colab": {}
      },
      "source": [
        "def predict_output_class(input_image):\n",
        "  \"\"\"\n",
        "  input_image: np array with shape (1, 28, 28, 1)\n",
        "  \"\"\"\n",
        "  input_image = np.array(input_image)\n",
        "  predicted_class = np.argmax(predict(params, input_image))\n",
        "  predicted = int(predicted_class) \n",
        "  return predicted "
      ],
      "execution_count": 0,
      "outputs": []
    },
    {
      "cell_type": "markdown",
      "metadata": {
        "id": "3qY350ad7eeQ",
        "colab_type": "text"
      },
      "source": [
        "### **Obtaining Predicted Output Class for Original 1000 samples**\n",
        "\n",
        "---\n",
        "\n"
      ]
    },
    {
      "cell_type": "code",
      "metadata": {
        "id": "FTNtdKil6wj_",
        "colab_type": "code",
        "colab": {
          "base_uri": "https://localhost:8080/",
          "height": 1000
        },
        "outputId": "12eb72af-63ff-4a6b-803a-118ba650d831"
      },
      "source": [
        "thousand_testing_sevens = []\n",
        "thousand_testing_sevens_labels = []\n",
        "for i in thousand_indices:\n",
        "  x = test_images[i]\n",
        "  thousand_testing_sevens.append(test_images[i])\n",
        "  x_reshaped = np.reshape(x, [1,28,28,1])\n",
        "  predicted = predict_output_class(x_reshaped)\n",
        "  actual_value = int(np.argmax(test_labels[i]))\n",
        "  thousand_testing_sevens_labels.append(test_labels[i])\n",
        "  print(\"Index: {} \\t Predicted: {} \\t Actual:{}\".\\\n",
        "        format(i, predicted, actual_value))"
      ],
      "execution_count": 91,
      "outputs": [
        {
          "output_type": "stream",
          "text": [
            "Index: 4760 \t Predicted: 7 \t Actual:7\n",
            "Index: 2095 \t Predicted: 7 \t Actual:7\n",
            "Index: 4938 \t Predicted: 7 \t Actual:7\n",
            "Index: 3294 \t Predicted: 7 \t Actual:7\n",
            "Index: 9384 \t Predicted: 7 \t Actual:7\n",
            "Index: 6364 \t Predicted: 7 \t Actual:7\n",
            "Index: 1883 \t Predicted: 7 \t Actual:7\n",
            "Index: 8837 \t Predicted: 7 \t Actual:7\n",
            "Index: 8248 \t Predicted: 7 \t Actual:7\n",
            "Index: 960 \t Predicted: 7 \t Actual:7\n",
            "Index: 7238 \t Predicted: 7 \t Actual:7\n",
            "Index: 9323 \t Predicted: 7 \t Actual:7\n",
            "Index: 4837 \t Predicted: 7 \t Actual:7\n",
            "Index: 9302 \t Predicted: 7 \t Actual:7\n",
            "Index: 2622 \t Predicted: 7 \t Actual:7\n",
            "Index: 75 \t Predicted: 7 \t Actual:7\n",
            "Index: 689 \t Predicted: 7 \t Actual:7\n",
            "Index: 825 \t Predicted: 7 \t Actual:7\n",
            "Index: 9721 \t Predicted: 7 \t Actual:7\n",
            "Index: 3059 \t Predicted: 7 \t Actual:7\n",
            "Index: 3505 \t Predicted: 7 \t Actual:7\n",
            "Index: 9101 \t Predicted: 7 \t Actual:7\n",
            "Index: 8218 \t Predicted: 7 \t Actual:7\n",
            "Index: 9746 \t Predicted: 7 \t Actual:7\n",
            "Index: 4624 \t Predicted: 7 \t Actual:7\n",
            "Index: 6198 \t Predicted: 7 \t Actual:7\n",
            "Index: 7268 \t Predicted: 7 \t Actual:7\n",
            "Index: 7267 \t Predicted: 7 \t Actual:7\n",
            "Index: 3202 \t Predicted: 7 \t Actual:7\n",
            "Index: 7796 \t Predicted: 7 \t Actual:7\n",
            "Index: 2577 \t Predicted: 7 \t Actual:7\n",
            "Index: 9399 \t Predicted: 7 \t Actual:7\n",
            "Index: 3349 \t Predicted: 7 \t Actual:7\n",
            "Index: 4130 \t Predicted: 7 \t Actual:7\n",
            "Index: 6353 \t Predicted: 7 \t Actual:7\n",
            "Index: 3498 \t Predicted: 7 \t Actual:7\n",
            "Index: 4821 \t Predicted: 7 \t Actual:7\n",
            "Index: 853 \t Predicted: 7 \t Actual:7\n",
            "Index: 2123 \t Predicted: 7 \t Actual:7\n",
            "Index: 9393 \t Predicted: 7 \t Actual:7\n",
            "Index: 7477 \t Predicted: 7 \t Actual:7\n",
            "Index: 9773 \t Predicted: 7 \t Actual:7\n",
            "Index: 6576 \t Predicted: 1 \t Actual:7\n",
            "Index: 6589 \t Predicted: 7 \t Actual:7\n",
            "Index: 822 \t Predicted: 7 \t Actual:7\n",
            "Index: 2490 \t Predicted: 7 \t Actual:7\n",
            "Index: 4215 \t Predicted: 7 \t Actual:7\n",
            "Index: 7766 \t Predicted: 7 \t Actual:7\n",
            "Index: 1133 \t Predicted: 7 \t Actual:7\n",
            "Index: 1500 \t Predicted: 7 \t Actual:7\n",
            "Index: 111 \t Predicted: 7 \t Actual:7\n",
            "Index: 1156 \t Predicted: 7 \t Actual:7\n",
            "Index: 9009 \t Predicted: 7 \t Actual:7\n",
            "Index: 5238 \t Predicted: 7 \t Actual:7\n",
            "Index: 5914 \t Predicted: 7 \t Actual:7\n",
            "Index: 9640 \t Predicted: 7 \t Actual:7\n",
            "Index: 9909 \t Predicted: 7 \t Actual:7\n",
            "Index: 223 \t Predicted: 7 \t Actual:7\n",
            "Index: 8956 \t Predicted: 7 \t Actual:7\n",
            "Index: 8144 \t Predicted: 7 \t Actual:7\n",
            "Index: 4966 \t Predicted: 7 \t Actual:7\n",
            "Index: 3743 \t Predicted: 7 \t Actual:7\n",
            "Index: 941 \t Predicted: 7 \t Actual:7\n",
            "Index: 8641 \t Predicted: 7 \t Actual:7\n",
            "Index: 3425 \t Predicted: 7 \t Actual:7\n",
            "Index: 6223 \t Predicted: 7 \t Actual:7\n",
            "Index: 6730 \t Predicted: 7 \t Actual:7\n",
            "Index: 1143 \t Predicted: 7 \t Actual:7\n",
            "Index: 5107 \t Predicted: 7 \t Actual:7\n",
            "Index: 5205 \t Predicted: 7 \t Actual:7\n",
            "Index: 617 \t Predicted: 7 \t Actual:7\n",
            "Index: 6708 \t Predicted: 7 \t Actual:7\n",
            "Index: 9469 \t Predicted: 7 \t Actual:7\n",
            "Index: 3352 \t Predicted: 7 \t Actual:7\n",
            "Index: 7605 \t Predicted: 7 \t Actual:7\n",
            "Index: 2967 \t Predicted: 7 \t Actual:7\n",
            "Index: 3585 \t Predicted: 7 \t Actual:7\n",
            "Index: 5485 \t Predicted: 7 \t Actual:7\n",
            "Index: 3236 \t Predicted: 7 \t Actual:7\n",
            "Index: 5246 \t Predicted: 7 \t Actual:7\n",
            "Index: 4551 \t Predicted: 7 \t Actual:7\n",
            "Index: 6267 \t Predicted: 7 \t Actual:7\n",
            "Index: 2567 \t Predicted: 7 \t Actual:7\n",
            "Index: 6360 \t Predicted: 7 \t Actual:7\n",
            "Index: 8984 \t Predicted: 7 \t Actual:7\n",
            "Index: 5466 \t Predicted: 7 \t Actual:7\n",
            "Index: 8911 \t Predicted: 7 \t Actual:7\n",
            "Index: 8285 \t Predicted: 7 \t Actual:7\n",
            "Index: 7286 \t Predicted: 7 \t Actual:7\n",
            "Index: 9731 \t Predicted: 7 \t Actual:7\n",
            "Index: 175 \t Predicted: 7 \t Actual:7\n",
            "Index: 4322 \t Predicted: 7 \t Actual:7\n",
            "Index: 9851 \t Predicted: 7 \t Actual:7\n",
            "Index: 4855 \t Predicted: 7 \t Actual:7\n",
            "Index: 987 \t Predicted: 7 \t Actual:7\n",
            "Index: 2238 \t Predicted: 7 \t Actual:7\n",
            "Index: 6679 \t Predicted: 7 \t Actual:7\n",
            "Index: 1540 \t Predicted: 7 \t Actual:7\n",
            "Index: 3573 \t Predicted: 7 \t Actual:7\n",
            "Index: 1326 \t Predicted: 7 \t Actual:7\n",
            "Index: 9990 \t Predicted: 7 \t Actual:7\n",
            "Index: 4881 \t Predicted: 7 \t Actual:7\n",
            "Index: 4049 \t Predicted: 7 \t Actual:7\n",
            "Index: 2141 \t Predicted: 7 \t Actual:7\n",
            "Index: 255 \t Predicted: 7 \t Actual:7\n",
            "Index: 8455 \t Predicted: 7 \t Actual:7\n",
            "Index: 605 \t Predicted: 7 \t Actual:7\n",
            "Index: 2961 \t Predicted: 7 \t Actual:7\n",
            "Index: 2399 \t Predicted: 7 \t Actual:7\n",
            "Index: 6741 \t Predicted: 7 \t Actual:7\n",
            "Index: 2024 \t Predicted: 7 \t Actual:7\n",
            "Index: 1346 \t Predicted: 7 \t Actual:7\n",
            "Index: 6170 \t Predicted: 7 \t Actual:7\n",
            "Index: 2234 \t Predicted: 7 \t Actual:7\n",
            "Index: 2240 \t Predicted: 7 \t Actual:7\n",
            "Index: 1110 \t Predicted: 7 \t Actual:7\n",
            "Index: 5498 \t Predicted: 7 \t Actual:7\n",
            "Index: 1175 \t Predicted: 7 \t Actual:7\n",
            "Index: 9141 \t Predicted: 7 \t Actual:7\n",
            "Index: 7260 \t Predicted: 7 \t Actual:7\n",
            "Index: 8402 \t Predicted: 7 \t Actual:7\n",
            "Index: 4498 \t Predicted: 7 \t Actual:7\n",
            "Index: 2665 \t Predicted: 7 \t Actual:7\n",
            "Index: 5670 \t Predicted: 7 \t Actual:7\n",
            "Index: 5482 \t Predicted: 7 \t Actual:7\n",
            "Index: 852 \t Predicted: 7 \t Actual:7\n",
            "Index: 262 \t Predicted: 7 \t Actual:7\n",
            "Index: 3604 \t Predicted: 7 \t Actual:7\n",
            "Index: 7744 \t Predicted: 7 \t Actual:7\n",
            "Index: 6242 \t Predicted: 7 \t Actual:7\n",
            "Index: 8555 \t Predicted: 7 \t Actual:7\n",
            "Index: 9015 \t Predicted: 2 \t Actual:7\n",
            "Index: 5649 \t Predicted: 7 \t Actual:7\n",
            "Index: 3848 \t Predicted: 7 \t Actual:7\n",
            "Index: 6171 \t Predicted: 7 \t Actual:7\n",
            "Index: 2285 \t Predicted: 7 \t Actual:7\n",
            "Index: 3125 \t Predicted: 7 \t Actual:7\n",
            "Index: 3103 \t Predicted: 7 \t Actual:7\n",
            "Index: 8541 \t Predicted: 7 \t Actual:7\n",
            "Index: 6503 \t Predicted: 7 \t Actual:7\n",
            "Index: 9077 \t Predicted: 7 \t Actual:7\n",
            "Index: 6158 \t Predicted: 7 \t Actual:7\n",
            "Index: 8918 \t Predicted: 7 \t Actual:7\n",
            "Index: 9618 \t Predicted: 7 \t Actual:7\n",
            "Index: 8786 \t Predicted: 7 \t Actual:7\n",
            "Index: 4865 \t Predicted: 7 \t Actual:7\n",
            "Index: 2646 \t Predicted: 7 \t Actual:7\n",
            "Index: 8375 \t Predicted: 7 \t Actual:7\n",
            "Index: 1595 \t Predicted: 7 \t Actual:7\n",
            "Index: 4781 \t Predicted: 7 \t Actual:7\n",
            "Index: 6316 \t Predicted: 7 \t Actual:7\n",
            "Index: 1935 \t Predicted: 7 \t Actual:7\n",
            "Index: 6815 \t Predicted: 7 \t Actual:7\n",
            "Index: 557 \t Predicted: 7 \t Actual:7\n",
            "Index: 7144 \t Predicted: 7 \t Actual:7\n",
            "Index: 5064 \t Predicted: 7 \t Actual:7\n",
            "Index: 917 \t Predicted: 7 \t Actual:7\n",
            "Index: 2187 \t Predicted: 7 \t Actual:7\n",
            "Index: 1543 \t Predicted: 7 \t Actual:7\n",
            "Index: 7912 \t Predicted: 7 \t Actual:7\n",
            "Index: 4530 \t Predicted: 7 \t Actual:7\n",
            "Index: 6263 \t Predicted: 7 \t Actual:7\n",
            "Index: 4991 \t Predicted: 7 \t Actual:7\n",
            "Index: 6121 \t Predicted: 7 \t Actual:7\n",
            "Index: 4400 \t Predicted: 7 \t Actual:7\n",
            "Index: 9451 \t Predicted: 7 \t Actual:7\n",
            "Index: 3713 \t Predicted: 7 \t Actual:7\n",
            "Index: 9019 \t Predicted: 7 \t Actual:7\n",
            "Index: 9650 \t Predicted: 7 \t Actual:7\n",
            "Index: 6640 \t Predicted: 7 \t Actual:7\n",
            "Index: 8620 \t Predicted: 7 \t Actual:7\n",
            "Index: 1563 \t Predicted: 7 \t Actual:7\n",
            "Index: 9248 \t Predicted: 7 \t Actual:7\n",
            "Index: 26 \t Predicted: 7 \t Actual:7\n",
            "Index: 911 \t Predicted: 7 \t Actual:7\n",
            "Index: 1361 \t Predicted: 7 \t Actual:7\n",
            "Index: 705 \t Predicted: 7 \t Actual:7\n",
            "Index: 4815 \t Predicted: 7 \t Actual:7\n",
            "Index: 4955 \t Predicted: 7 \t Actual:7\n",
            "Index: 6105 \t Predicted: 7 \t Actual:7\n",
            "Index: 3920 \t Predicted: 7 \t Actual:7\n",
            "Index: 7504 \t Predicted: 7 \t Actual:7\n",
            "Index: 6963 \t Predicted: 7 \t Actual:7\n",
            "Index: 4433 \t Predicted: 7 \t Actual:7\n",
            "Index: 2070 \t Predicted: 7 \t Actual:7\n",
            "Index: 7189 \t Predicted: 7 \t Actual:7\n",
            "Index: 9919 \t Predicted: 7 \t Actual:7\n",
            "Index: 7852 \t Predicted: 7 \t Actual:7\n",
            "Index: 9859 \t Predicted: 7 \t Actual:7\n",
            "Index: 2270 \t Predicted: 7 \t Actual:7\n",
            "Index: 8316 \t Predicted: 7 \t Actual:7\n",
            "Index: 2539 \t Predicted: 7 \t Actual:7\n",
            "Index: 114 \t Predicted: 7 \t Actual:7\n",
            "Index: 9288 \t Predicted: 7 \t Actual:7\n",
            "Index: 1347 \t Predicted: 7 \t Actual:7\n",
            "Index: 2507 \t Predicted: 7 \t Actual:7\n",
            "Index: 649 \t Predicted: 7 \t Actual:7\n",
            "Index: 3292 \t Predicted: 7 \t Actual:7\n",
            "Index: 2474 \t Predicted: 7 \t Actual:7\n",
            "Index: 7021 \t Predicted: 7 \t Actual:7\n",
            "Index: 5563 \t Predicted: 7 \t Actual:7\n",
            "Index: 6874 \t Predicted: 7 \t Actual:7\n",
            "Index: 9771 \t Predicted: 7 \t Actual:7\n",
            "Index: 7300 \t Predicted: 7 \t Actual:7\n",
            "Index: 859 \t Predicted: 7 \t Actual:7\n",
            "Index: 5549 \t Predicted: 7 \t Actual:7\n",
            "Index: 946 \t Predicted: 7 \t Actual:7\n",
            "Index: 8573 \t Predicted: 7 \t Actual:7\n",
            "Index: 3329 \t Predicted: 7 \t Actual:7\n",
            "Index: 6858 \t Predicted: 7 \t Actual:7\n",
            "Index: 2484 \t Predicted: 7 \t Actual:7\n",
            "Index: 2642 \t Predicted: 7 \t Actual:7\n",
            "Index: 1006 \t Predicted: 7 \t Actual:7\n",
            "Index: 8391 \t Predicted: 7 \t Actual:7\n",
            "Index: 9869 \t Predicted: 7 \t Actual:7\n",
            "Index: 5600 \t Predicted: 7 \t Actual:7\n",
            "Index: 5512 \t Predicted: 7 \t Actual:7\n",
            "Index: 2028 \t Predicted: 7 \t Actual:7\n",
            "Index: 7695 \t Predicted: 7 \t Actual:7\n",
            "Index: 3079 \t Predicted: 7 \t Actual:7\n",
            "Index: 4746 \t Predicted: 7 \t Actual:7\n",
            "Index: 6434 \t Predicted: 7 \t Actual:7\n",
            "Index: 5114 \t Predicted: 7 \t Actual:7\n",
            "Index: 9929 \t Predicted: 7 \t Actual:7\n",
            "Index: 7219 \t Predicted: 7 \t Actual:7\n",
            "Index: 3328 \t Predicted: 7 \t Actual:7\n",
            "Index: 4593 \t Predicted: 7 \t Actual:7\n",
            "Index: 5773 \t Predicted: 7 \t Actual:7\n",
            "Index: 1848 \t Predicted: 7 \t Actual:7\n",
            "Index: 7082 \t Predicted: 7 \t Actual:7\n",
            "Index: 2442 \t Predicted: 7 \t Actual:7\n",
            "Index: 5297 \t Predicted: 7 \t Actual:7\n",
            "Index: 3101 \t Predicted: 7 \t Actual:7\n",
            "Index: 4578 \t Predicted: 7 \t Actual:7\n",
            "Index: 4921 \t Predicted: 7 \t Actual:7\n",
            "Index: 4142 \t Predicted: 7 \t Actual:7\n",
            "Index: 5363 \t Predicted: 7 \t Actual:7\n",
            "Index: 2841 \t Predicted: 7 \t Actual:7\n",
            "Index: 6539 \t Predicted: 7 \t Actual:7\n",
            "Index: 1507 \t Predicted: 7 \t Actual:7\n",
            "Index: 1734 \t Predicted: 7 \t Actual:7\n",
            "Index: 6561 \t Predicted: 7 \t Actual:7\n",
            "Index: 3838 \t Predicted: 7 \t Actual:7\n",
            "Index: 8654 \t Predicted: 7 \t Actual:7\n",
            "Index: 8043 \t Predicted: 7 \t Actual:7\n",
            "Index: 6830 \t Predicted: 7 \t Actual:7\n",
            "Index: 3309 \t Predicted: 7 \t Actual:7\n",
            "Index: 8151 \t Predicted: 7 \t Actual:7\n",
            "Index: 4540 \t Predicted: 7 \t Actual:7\n",
            "Index: 8428 \t Predicted: 7 \t Actual:7\n",
            "Index: 6609 \t Predicted: 7 \t Actual:7\n",
            "Index: 2521 \t Predicted: 7 \t Actual:7\n",
            "Index: 282 \t Predicted: 7 \t Actual:7\n",
            "Index: 41 \t Predicted: 7 \t Actual:7\n",
            "Index: 3055 \t Predicted: 7 \t Actual:7\n",
            "Index: 5858 \t Predicted: 7 \t Actual:7\n",
            "Index: 9979 \t Predicted: 7 \t Actual:7\n",
            "Index: 3009 \t Predicted: 7 \t Actual:7\n",
            "Index: 3692 \t Predicted: 7 \t Actual:7\n",
            "Index: 9567 \t Predicted: 7 \t Actual:7\n",
            "Index: 2547 \t Predicted: 7 \t Actual:7\n",
            "Index: 2048 \t Predicted: 7 \t Actual:7\n",
            "Index: 8565 \t Predicted: 7 \t Actual:7\n",
            "Index: 2143 \t Predicted: 7 \t Actual:7\n",
            "Index: 8871 \t Predicted: 7 \t Actual:7\n",
            "Index: 3609 \t Predicted: 7 \t Actual:7\n",
            "Index: 4568 \t Predicted: 7 \t Actual:7\n",
            "Index: 3360 \t Predicted: 7 \t Actual:7\n",
            "Index: 2730 \t Predicted: 7 \t Actual:7\n",
            "Index: 2252 \t Predicted: 7 \t Actual:7\n",
            "Index: 1805 \t Predicted: 7 \t Actual:7\n",
            "Index: 9608 \t Predicted: 7 \t Actual:7\n",
            "Index: 5532 \t Predicted: 7 \t Actual:7\n",
            "Index: 6363 \t Predicted: 7 \t Actual:7\n",
            "Index: 3038 \t Predicted: 7 \t Actual:7\n",
            "Index: 3303 \t Predicted: 7 \t Actual:7\n",
            "Index: 6934 \t Predicted: 7 \t Actual:7\n",
            "Index: 2193 \t Predicted: 7 \t Actual:7\n",
            "Index: 6855 \t Predicted: 7 \t Actual:7\n",
            "Index: 3356 \t Predicted: 7 \t Actual:7\n",
            "Index: 4467 \t Predicted: 7 \t Actual:7\n",
            "Index: 2016 \t Predicted: 7 \t Actual:7\n",
            "Index: 2710 \t Predicted: 7 \t Actual:7\n",
            "Index: 70 \t Predicted: 7 \t Actual:7\n",
            "Index: 5866 \t Predicted: 7 \t Actual:7\n",
            "Index: 5640 \t Predicted: 7 \t Actual:7\n",
            "Index: 4214 \t Predicted: 7 \t Actual:7\n",
            "Index: 3720 \t Predicted: 7 \t Actual:7\n",
            "Index: 5745 \t Predicted: 7 \t Actual:7\n",
            "Index: 1194 \t Predicted: 7 \t Actual:7\n",
            "Index: 9895 \t Predicted: 7 \t Actual:7\n",
            "Index: 5835 \t Predicted: 7 \t Actual:7\n",
            "Index: 482 \t Predicted: 7 \t Actual:7\n",
            "Index: 1925 \t Predicted: 7 \t Actual:7\n",
            "Index: 3878 \t Predicted: 7 \t Actual:7\n",
            "Index: 5261 \t Predicted: 7 \t Actual:7\n",
            "Index: 8885 \t Predicted: 7 \t Actual:7\n",
            "Index: 6825 \t Predicted: 7 \t Actual:7\n",
            "Index: 9968 \t Predicted: 7 \t Actual:7\n",
            "Index: 1173 \t Predicted: 7 \t Actual:7\n",
            "Index: 3721 \t Predicted: 7 \t Actual:7\n",
            "Index: 9637 \t Predicted: 7 \t Actual:7\n",
            "Index: 7490 \t Predicted: 7 \t Actual:7\n",
            "Index: 7573 \t Predicted: 7 \t Actual:7\n",
            "Index: 6335 \t Predicted: 7 \t Actual:7\n",
            "Index: 2332 \t Predicted: 7 \t Actual:7\n",
            "Index: 2505 \t Predicted: 7 \t Actual:7\n",
            "Index: 7940 \t Predicted: 7 \t Actual:7\n",
            "Index: 8727 \t Predicted: 7 \t Actual:7\n",
            "Index: 5412 \t Predicted: 7 \t Actual:7\n",
            "Index: 1792 \t Predicted: 7 \t Actual:7\n",
            "Index: 9644 \t Predicted: 7 \t Actual:7\n",
            "Index: 1520 \t Predicted: 7 \t Actual:7\n",
            "Index: 337 \t Predicted: 7 \t Actual:7\n",
            "Index: 898 \t Predicted: 7 \t Actual:7\n",
            "Index: 9169 \t Predicted: 7 \t Actual:7\n",
            "Index: 4357 \t Predicted: 7 \t Actual:7\n",
            "Index: 1119 \t Predicted: 7 \t Actual:7\n",
            "Index: 3162 \t Predicted: 7 \t Actual:7\n",
            "Index: 3084 \t Predicted: 7 \t Actual:7\n",
            "Index: 4027 \t Predicted: 7 \t Actual:7\n",
            "Index: 5097 \t Predicted: 7 \t Actual:7\n",
            "Index: 3208 \t Predicted: 7 \t Actual:7\n",
            "Index: 307 \t Predicted: 7 \t Actual:7\n",
            "Index: 2628 \t Predicted: 7 \t Actual:7\n",
            "Index: 7149 \t Predicted: 7 \t Actual:7\n",
            "Index: 6471 \t Predicted: 7 \t Actual:7\n",
            "Index: 4485 \t Predicted: 7 \t Actual:7\n",
            "Index: 7439 \t Predicted: 7 \t Actual:7\n",
            "Index: 7079 \t Predicted: 7 \t Actual:7\n",
            "Index: 9868 \t Predicted: 7 \t Actual:7\n",
            "Index: 171 \t Predicted: 7 \t Actual:7\n",
            "Index: 4654 \t Predicted: 7 \t Actual:7\n",
            "Index: 468 \t Predicted: 7 \t Actual:7\n",
            "Index: 6164 \t Predicted: 7 \t Actual:7\n",
            "Index: 3441 \t Predicted: 7 \t Actual:7\n",
            "Index: 522 \t Predicted: 7 \t Actual:7\n",
            "Index: 6490 \t Predicted: 7 \t Actual:7\n",
            "Index: 1328 \t Predicted: 7 \t Actual:7\n",
            "Index: 2837 \t Predicted: 7 \t Actual:7\n",
            "Index: 9328 \t Predicted: 7 \t Actual:7\n",
            "Index: 383 \t Predicted: 7 \t Actual:7\n",
            "Index: 8638 \t Predicted: 7 \t Actual:7\n",
            "Index: 7924 \t Predicted: 7 \t Actual:7\n",
            "Index: 7230 \t Predicted: 7 \t Actual:7\n",
            "Index: 1716 \t Predicted: 7 \t Actual:7\n",
            "Index: 5808 \t Predicted: 7 \t Actual:7\n",
            "Index: 2091 \t Predicted: 7 \t Actual:7\n",
            "Index: 6361 \t Predicted: 7 \t Actual:7\n",
            "Index: 6837 \t Predicted: 7 \t Actual:7\n",
            "Index: 7538 \t Predicted: 7 \t Actual:7\n",
            "Index: 5287 \t Predicted: 7 \t Actual:7\n",
            "Index: 1975 \t Predicted: 7 \t Actual:7\n",
            "Index: 5959 \t Predicted: 7 \t Actual:7\n",
            "Index: 9486 \t Predicted: 7 \t Actual:7\n",
            "Index: 8931 \t Predicted: 7 \t Actual:7\n",
            "Index: 5714 \t Predicted: 7 \t Actual:7\n",
            "Index: 6724 \t Predicted: 7 \t Actual:7\n",
            "Index: 4107 \t Predicted: 7 \t Actual:7\n",
            "Index: 86 \t Predicted: 7 \t Actual:7\n",
            "Index: 550 \t Predicted: 7 \t Actual:7\n",
            "Index: 9164 \t Predicted: 7 \t Actual:7\n",
            "Index: 9204 \t Predicted: 7 \t Actual:7\n",
            "Index: 6149 \t Predicted: 7 \t Actual:7\n",
            "Index: 6697 \t Predicted: 7 \t Actual:7\n",
            "Index: 7801 \t Predicted: 7 \t Actual:7\n",
            "Index: 9300 \t Predicted: 7 \t Actual:7\n",
            "Index: 9044 \t Predicted: 7 \t Actual:7\n",
            "Index: 3122 \t Predicted: 7 \t Actual:7\n",
            "Index: 9340 \t Predicted: 7 \t Actual:7\n",
            "Index: 5657 \t Predicted: 7 \t Actual:7\n",
            "Index: 7606 \t Predicted: 7 \t Actual:7\n",
            "Index: 4099 \t Predicted: 7 \t Actual:7\n",
            "Index: 5154 \t Predicted: 7 \t Actual:7\n",
            "Index: 7915 \t Predicted: 7 \t Actual:7\n",
            "Index: 1244 \t Predicted: 7 \t Actual:7\n",
            "Index: 6026 \t Predicted: 7 \t Actual:7\n",
            "Index: 9823 \t Predicted: 7 \t Actual:7\n",
            "Index: 7614 \t Predicted: 7 \t Actual:7\n",
            "Index: 3189 \t Predicted: 7 \t Actual:7\n",
            "Index: 832 \t Predicted: 7 \t Actual:7\n",
            "Index: 234 \t Predicted: 7 \t Actual:7\n",
            "Index: 8678 \t Predicted: 7 \t Actual:7\n",
            "Index: 5663 \t Predicted: 7 \t Actual:7\n",
            "Index: 8510 \t Predicted: 7 \t Actual:7\n",
            "Index: 2480 \t Predicted: 7 \t Actual:7\n",
            "Index: 4566 \t Predicted: 7 \t Actual:7\n",
            "Index: 2482 \t Predicted: 7 \t Actual:7\n",
            "Index: 9837 \t Predicted: 7 \t Actual:7\n",
            "Index: 5887 \t Predicted: 7 \t Actual:7\n",
            "Index: 3751 \t Predicted: 7 \t Actual:7\n",
            "Index: 8401 \t Predicted: 7 \t Actual:7\n",
            "Index: 8631 \t Predicted: 7 \t Actual:7\n",
            "Index: 5540 \t Predicted: 7 \t Actual:7\n",
            "Index: 7032 \t Predicted: 7 \t Actual:7\n",
            "Index: 2059 \t Predicted: 7 \t Actual:7\n",
            "Index: 1710 \t Predicted: 7 \t Actual:7\n",
            "Index: 1122 \t Predicted: 7 \t Actual:7\n",
            "Index: 5751 \t Predicted: 7 \t Actual:7\n",
            "Index: 4487 \t Predicted: 7 \t Actual:7\n",
            "Index: 8525 \t Predicted: 7 \t Actual:7\n",
            "Index: 7844 \t Predicted: 7 \t Actual:7\n",
            "Index: 1369 \t Predicted: 7 \t Actual:7\n",
            "Index: 3494 \t Predicted: 7 \t Actual:7\n",
            "Index: 9067 \t Predicted: 7 \t Actual:7\n",
            "Index: 4423 \t Predicted: 7 \t Actual:7\n",
            "Index: 6986 \t Predicted: 7 \t Actual:7\n",
            "Index: 7088 \t Predicted: 7 \t Actual:7\n",
            "Index: 3184 \t Predicted: 7 \t Actual:7\n",
            "Index: 328 \t Predicted: 7 \t Actual:7\n",
            "Index: 6606 \t Predicted: 7 \t Actual:7\n",
            "Index: 9413 \t Predicted: 7 \t Actual:7\n",
            "Index: 841 \t Predicted: 7 \t Actual:7\n",
            "Index: 358 \t Predicted: 7 \t Actual:7\n",
            "Index: 3109 \t Predicted: 1 \t Actual:7\n",
            "Index: 7757 \t Predicted: 7 \t Actual:7\n",
            "Index: 3667 \t Predicted: 7 \t Actual:7\n",
            "Index: 5040 \t Predicted: 7 \t Actual:7\n",
            "Index: 2372 \t Predicted: 7 \t Actual:7\n",
            "Index: 8688 \t Predicted: 7 \t Actual:7\n",
            "Index: 7098 \t Predicted: 7 \t Actual:7\n",
            "Index: 4459 \t Predicted: 7 \t Actual:7\n",
            "Index: 2036 \t Predicted: 7 \t Actual:7\n",
            "Index: 6449 \t Predicted: 7 \t Actual:7\n",
            "Index: 9212 \t Predicted: 7 \t Actual:7\n",
            "Index: 263 \t Predicted: 7 \t Actual:7\n",
            "Index: 9765 \t Predicted: 7 \t Actual:7\n",
            "Index: 6791 \t Predicted: 7 \t Actual:7\n",
            "Index: 3799 \t Predicted: 7 \t Actual:7\n",
            "Index: 1718 \t Predicted: 7 \t Actual:7\n",
            "Index: 626 \t Predicted: 7 \t Actual:7\n",
            "Index: 2167 \t Predicted: 7 \t Actual:7\n",
            "Index: 5798 \t Predicted: 7 \t Actual:7\n",
            "Index: 9242 \t Predicted: 7 \t Actual:7\n",
            "Index: 4238 \t Predicted: 7 \t Actual:7\n",
            "Index: 6098 \t Predicted: 7 \t Actual:7\n",
            "Index: 8825 \t Predicted: 7 \t Actual:7\n",
            "Index: 7903 \t Predicted: 7 \t Actual:7\n",
            "Index: 2268 \t Predicted: 7 \t Actual:7\n",
            "Index: 3736 \t Predicted: 7 \t Actual:7\n",
            "Index: 83 \t Predicted: 7 \t Actual:7\n",
            "Index: 3647 \t Predicted: 7 \t Actual:7\n",
            "Index: 2833 \t Predicted: 7 \t Actual:7\n",
            "Index: 8733 \t Predicted: 7 \t Actual:7\n",
            "Index: 6147 \t Predicted: 7 \t Actual:7\n",
            "Index: 7069 \t Predicted: 7 \t Actual:7\n",
            "Index: 4225 \t Predicted: 7 \t Actual:7\n",
            "Index: 6292 \t Predicted: 7 \t Actual:7\n",
            "Index: 8284 \t Predicted: 7 \t Actual:7\n",
            "Index: 8718 \t Predicted: 7 \t Actual:7\n",
            "Index: 243 \t Predicted: 7 \t Actual:7\n",
            "Index: 6619 \t Predicted: 7 \t Actual:7\n",
            "Index: 1624 \t Predicted: 7 \t Actual:7\n",
            "Index: 8234 \t Predicted: 7 \t Actual:7\n",
            "Index: 6017 \t Predicted: 7 \t Actual:7\n",
            "Index: 9543 \t Predicted: 7 \t Actual:7\n",
            "Index: 7825 \t Predicted: 7 \t Actual:7\n",
            "Index: 6050 \t Predicted: 7 \t Actual:7\n",
            "Index: 7584 \t Predicted: 7 \t Actual:7\n",
            "Index: 4800 \t Predicted: 7 \t Actual:7\n",
            "Index: 8106 \t Predicted: 7 \t Actual:7\n",
            "Index: 8052 \t Predicted: 7 \t Actual:7\n",
            "Index: 684 \t Predicted: 7 \t Actual:7\n",
            "Index: 8791 \t Predicted: 7 \t Actual:7\n",
            "Index: 909 \t Predicted: 7 \t Actual:7\n",
            "Index: 2104 \t Predicted: 7 \t Actual:7\n",
            "Index: 5576 \t Predicted: 7 \t Actual:7\n",
            "Index: 5551 \t Predicted: 7 \t Actual:7\n",
            "Index: 9505 \t Predicted: 7 \t Actual:7\n",
            "Index: 9151 \t Predicted: 7 \t Actual:7\n",
            "Index: 3854 \t Predicted: 7 \t Actual:7\n",
            "Index: 5845 \t Predicted: 7 \t Actual:7\n",
            "Index: 4742 \t Predicted: 7 \t Actual:7\n",
            "Index: 1750 \t Predicted: 7 \t Actual:7\n",
            "Index: 8387 \t Predicted: 7 \t Actual:7\n",
            "Index: 7375 \t Predicted: 7 \t Actual:7\n",
            "Index: 9711 \t Predicted: 7 \t Actual:7\n",
            "Index: 2523 \t Predicted: 7 \t Actual:7\n",
            "Index: 5190 \t Predicted: 7 \t Actual:7\n",
            "Index: 5654 \t Predicted: 7 \t Actual:7\n",
            "Index: 554 \t Predicted: 7 \t Actual:7\n",
            "Index: 6853 \t Predicted: 7 \t Actual:7\n",
            "Index: 2063 \t Predicted: 7 \t Actual:7\n",
            "Index: 8124 \t Predicted: 7 \t Actual:7\n",
            "Index: 5471 \t Predicted: 7 \t Actual:7\n",
            "Index: 7392 \t Predicted: 7 \t Actual:7\n",
            "Index: 3719 \t Predicted: 7 \t Actual:7\n",
            "Index: 8749 \t Predicted: 7 \t Actual:7\n",
            "Index: 5094 \t Predicted: 7 \t Actual:7\n",
            "Index: 1660 \t Predicted: 7 \t Actual:7\n",
            "Index: 9495 \t Predicted: 7 \t Actual:7\n",
            "Index: 679 \t Predicted: 7 \t Actual:7\n",
            "Index: 9448 \t Predicted: 7 \t Actual:7\n",
            "Index: 4295 \t Predicted: 7 \t Actual:7\n",
            "Index: 9087 \t Predicted: 7 \t Actual:7\n",
            "Index: 1754 \t Predicted: 7 \t Actual:7\n",
            "Index: 9447 \t Predicted: 7 \t Actual:7\n",
            "Index: 1966 \t Predicted: 7 \t Actual:7\n",
            "Index: 8734 \t Predicted: 7 \t Actual:7\n",
            "Index: 1949 \t Predicted: 7 \t Actual:7\n",
            "Index: 2749 \t Predicted: 7 \t Actual:7\n",
            "Index: 8302 \t Predicted: 7 \t Actual:7\n",
            "Index: 9963 \t Predicted: 7 \t Actual:7\n",
            "Index: 8313 \t Predicted: 7 \t Actual:7\n",
            "Index: 746 \t Predicted: 7 \t Actual:7\n",
            "Index: 880 \t Predicted: 7 \t Actual:7\n",
            "Index: 6054 \t Predicted: 7 \t Actual:7\n",
            "Index: 7419 \t Predicted: 7 \t Actual:7\n",
            "Index: 5988 \t Predicted: 7 \t Actual:7\n",
            "Index: 7650 \t Predicted: 7 \t Actual:7\n",
            "Index: 9884 \t Predicted: 7 \t Actual:7\n",
            "Index: 3418 \t Predicted: 7 \t Actual:7\n",
            "Index: 9327 \t Predicted: 7 \t Actual:7\n",
            "Index: 2564 \t Predicted: 7 \t Actual:7\n",
            "Index: 4773 \t Predicted: 7 \t Actual:7\n",
            "Index: 7334 \t Predicted: 7 \t Actual:7\n",
            "Index: 1386 \t Predicted: 7 \t Actual:7\n",
            "Index: 3400 \t Predicted: 7 \t Actual:7\n",
            "Index: 842 \t Predicted: 7 \t Actual:7\n",
            "Index: 5854 \t Predicted: 7 \t Actual:7\n",
            "Index: 2301 \t Predicted: 7 \t Actual:7\n",
            "Index: 124 \t Predicted: 7 \t Actual:7\n",
            "Index: 5058 \t Predicted: 7 \t Actual:7\n",
            "Index: 5313 \t Predicted: 7 \t Actual:7\n",
            "Index: 1497 \t Predicted: 7 \t Actual:7\n",
            "Index: 9560 \t Predicted: 7 \t Actual:7\n",
            "Index: 3993 \t Predicted: 7 \t Actual:7\n",
            "Index: 1117 \t Predicted: 7 \t Actual:7\n",
            "Index: 8974 \t Predicted: 7 \t Actual:7\n",
            "Index: 1104 \t Predicted: 7 \t Actual:7\n",
            "Index: 4539 \t Predicted: 7 \t Actual:7\n",
            "Index: 8202 \t Predicted: 7 \t Actual:7\n",
            "Index: 1401 \t Predicted: 7 \t Actual:7\n",
            "Index: 7902 \t Predicted: 7 \t Actual:7\n",
            "Index: 636 \t Predicted: 7 \t Actual:7\n",
            "Index: 3525 \t Predicted: 7 \t Actual:7\n",
            "Index: 1505 \t Predicted: 7 \t Actual:7\n",
            "Index: 9270 \t Predicted: 7 \t Actual:7\n",
            "Index: 6586 \t Predicted: 7 \t Actual:7\n",
            "Index: 2823 \t Predicted: 7 \t Actual:7\n",
            "Index: 7432 \t Predicted: 7 \t Actual:7\n",
            "Index: 3637 \t Predicted: 7 \t Actual:7\n",
            "Index: 8364 \t Predicted: 7 \t Actual:7\n",
            "Index: 9628 \t Predicted: 7 \t Actual:7\n",
            "Index: 438 \t Predicted: 7 \t Actual:7\n",
            "Index: 726 \t Predicted: 7 \t Actual:7\n",
            "Index: 494 \t Predicted: 7 \t Actual:7\n",
            "Index: 8874 \t Predicted: 7 \t Actual:7\n",
            "Index: 667 \t Predicted: 7 \t Actual:7\n",
            "Index: 2463 \t Predicted: 7 \t Actual:7\n",
            "Index: 6756 \t Predicted: 7 \t Actual:7\n",
            "Index: 4612 \t Predicted: 7 \t Actual:7\n",
            "Index: 3296 \t Predicted: 7 \t Actual:7\n",
            "Index: 5728 \t Predicted: 7 \t Actual:7\n",
            "Index: 6871 \t Predicted: 7 \t Actual:7\n",
            "Index: 6960 \t Predicted: 7 \t Actual:7\n",
            "Index: 9522 \t Predicted: 7 \t Actual:7\n",
            "Index: 8891 \t Predicted: 7 \t Actual:7\n",
            "Index: 4811 \t Predicted: 7 \t Actual:7\n",
            "Index: 8074 \t Predicted: 7 \t Actual:7\n",
            "Index: 5999 \t Predicted: 7 \t Actual:7\n",
            "Index: 9279 \t Predicted: 7 \t Actual:7\n",
            "Index: 9816 \t Predicted: 7 \t Actual:7\n",
            "Index: 1496 \t Predicted: 7 \t Actual:7\n",
            "Index: 7416 \t Predicted: 7 \t Actual:7\n",
            "Index: 4460 \t Predicted: 7 \t Actual:7\n",
            "Index: 4119 \t Predicted: 7 \t Actual:7\n",
            "Index: 6648 \t Predicted: 7 \t Actual:7\n",
            "Index: 254 \t Predicted: 7 \t Actual:7\n",
            "Index: 9734 \t Predicted: 7 \t Actual:7\n",
            "Index: 6762 \t Predicted: 7 \t Actual:7\n",
            "Index: 3061 \t Predicted: 7 \t Actual:7\n",
            "Index: 702 \t Predicted: 7 \t Actual:7\n",
            "Index: 220 \t Predicted: 7 \t Actual:7\n",
            "Index: 9660 \t Predicted: 7 \t Actual:7\n",
            "Index: 4678 \t Predicted: 7 \t Actual:7\n",
            "Index: 7445 \t Predicted: 7 \t Actual:7\n",
            "Index: 9045 \t Predicted: 7 \t Actual:7\n",
            "Index: 5334 \t Predicted: 7 \t Actual:7\n",
            "Index: 4073 \t Predicted: 7 \t Actual:7\n",
            "Index: 5906 \t Predicted: 7 \t Actual:7\n",
            "Index: 8398 \t Predicted: 7 \t Actual:7\n",
            "Index: 5465 \t Predicted: 7 \t Actual:7\n",
            "Index: 3836 \t Predicted: 7 \t Actual:7\n",
            "Index: 415 \t Predicted: 7 \t Actual:7\n",
            "Index: 1039 \t Predicted: 1 \t Actual:7\n",
            "Index: 5371 \t Predicted: 7 \t Actual:7\n",
            "Index: 8736 \t Predicted: 7 \t Actual:7\n",
            "Index: 3376 \t Predicted: 7 \t Actual:7\n",
            "Index: 413 \t Predicted: 7 \t Actual:7\n",
            "Index: 9916 \t Predicted: 7 \t Actual:7\n",
            "Index: 9262 \t Predicted: 7 \t Actual:7\n",
            "Index: 9515 \t Predicted: 7 \t Actual:7\n",
            "Index: 7960 \t Predicted: 7 \t Actual:7\n",
            "Index: 9652 \t Predicted: 7 \t Actual:7\n",
            "Index: 144 \t Predicted: 7 \t Actual:7\n",
            "Index: 5610 \t Predicted: 7 \t Actual:7\n",
            "Index: 7998 \t Predicted: 7 \t Actual:7\n",
            "Index: 4794 \t Predicted: 7 \t Actual:7\n",
            "Index: 730 \t Predicted: 7 \t Actual:7\n",
            "Index: 2334 \t Predicted: 7 \t Actual:7\n",
            "Index: 6366 \t Predicted: 7 \t Actual:7\n",
            "Index: 5162 \t Predicted: 7 \t Actual:7\n",
            "Index: 9690 \t Predicted: 7 \t Actual:7\n",
            "Index: 1359 \t Predicted: 7 \t Actual:7\n",
            "Index: 703 \t Predicted: 7 \t Actual:7\n",
            "Index: 411 \t Predicted: 7 \t Actual:7\n",
            "Index: 3399 \t Predicted: 7 \t Actual:7\n",
            "Index: 6954 \t Predicted: 7 \t Actual:7\n",
            "Index: 6599 \t Predicted: 7 \t Actual:7\n",
            "Index: 5789 \t Predicted: 7 \t Actual:7\n",
            "Index: 3632 \t Predicted: 7 \t Actual:7\n",
            "Index: 666 \t Predicted: 7 \t Actual:7\n",
            "Index: 1186 \t Predicted: 7 \t Actual:7\n",
            "Index: 2195 \t Predicted: 7 \t Actual:7\n",
            "Index: 7877 \t Predicted: 7 \t Actual:7\n",
            "Index: 2666 \t Predicted: 7 \t Actual:7\n",
            "Index: 1875 \t Predicted: 7 \t Actual:7\n",
            "Index: 8356 \t Predicted: 7 \t Actual:7\n",
            "Index: 5048 \t Predicted: 7 \t Actual:7\n",
            "Index: 5560 \t Predicted: 7 \t Actual:7\n",
            "Index: 5121 \t Predicted: 7 \t Actual:7\n",
            "Index: 4151 \t Predicted: 7 \t Actual:7\n",
            "Index: 5179 \t Predicted: 7 \t Actual:7\n",
            "Index: 9196 \t Predicted: 7 \t Actual:7\n",
            "Index: 9166 \t Predicted: 7 \t Actual:7\n",
            "Index: 7028 \t Predicted: 7 \t Actual:7\n",
            "Index: 4561 \t Predicted: 7 \t Actual:7\n",
            "Index: 579 \t Predicted: 7 \t Actual:7\n",
            "Index: 7523 \t Predicted: 7 \t Actual:7\n",
            "Index: 7513 \t Predicted: 7 \t Actual:7\n",
            "Index: 8008 \t Predicted: 7 \t Actual:7\n",
            "Index: 4148 \t Predicted: 7 \t Actual:7\n",
            "Index: 1494 \t Predicted: 7 \t Actual:7\n",
            "Index: 2220 \t Predicted: 7 \t Actual:7\n",
            "Index: 6452 \t Predicted: 7 \t Actual:7\n",
            "Index: 1021 \t Predicted: 7 \t Actual:7\n",
            "Index: 7111 \t Predicted: 7 \t Actual:7\n",
            "Index: 1941 \t Predicted: 7 \t Actual:7\n",
            "Index: 1919 \t Predicted: 7 \t Actual:7\n",
            "Index: 6188 \t Predicted: 7 \t Actual:7\n",
            "Index: 1091 \t Predicted: 7 \t Actual:7\n",
            "Index: 6119 \t Predicted: 7 \t Actual:7\n",
            "Index: 370 \t Predicted: 7 \t Actual:7\n",
            "Index: 2115 \t Predicted: 7 \t Actual:7\n",
            "Index: 7966 \t Predicted: 7 \t Actual:7\n",
            "Index: 2513 \t Predicted: 7 \t Actual:7\n",
            "Index: 8321 \t Predicted: 7 \t Actual:7\n",
            "Index: 9576 \t Predicted: 7 \t Actual:7\n",
            "Index: 5122 \t Predicted: 7 \t Actual:7\n",
            "Index: 2314 \t Predicted: 7 \t Actual:7\n",
            "Index: 1366 \t Predicted: 7 \t Actual:7\n",
            "Index: 6856 \t Predicted: 7 \t Actual:7\n",
            "Index: 4660 \t Predicted: 7 \t Actual:7\n",
            "Index: 651 \t Predicted: 7 \t Actual:7\n",
            "Index: 36 \t Predicted: 7 \t Actual:7\n",
            "Index: 9186 \t Predicted: 7 \t Actual:7\n",
            "Index: 3656 \t Predicted: 7 \t Actual:7\n",
            "Index: 676 \t Predicted: 7 \t Actual:7\n",
            "Index: 4028 \t Predicted: 7 \t Actual:7\n",
            "Index: 8651 \t Predicted: 7 \t Actual:7\n",
            "Index: 8767 \t Predicted: 7 \t Actual:7\n",
            "Index: 5365 \t Predicted: 7 \t Actual:7\n",
            "Index: 4064 \t Predicted: 7 \t Actual:7\n",
            "Index: 4913 \t Predicted: 7 \t Actual:7\n",
            "Index: 7760 \t Predicted: 7 \t Actual:7\n",
            "Index: 5277 \t Predicted: 7 \t Actual:7\n",
            "Index: 6944 \t Predicted: 7 \t Actual:7\n",
            "Index: 3575 \t Predicted: 7 \t Actual:7\n",
            "Index: 1241 \t Predicted: 7 \t Actual:7\n",
            "Index: 5372 \t Predicted: 7 \t Actual:7\n",
            "Index: 2890 \t Predicted: 7 \t Actual:7\n",
            "Index: 8833 \t Predicted: 7 \t Actual:7\n",
            "Index: 3373 \t Predicted: 7 \t Actual:7\n",
            "Index: 9294 \t Predicted: 7 \t Actual:7\n",
            "Index: 4083 \t Predicted: 7 \t Actual:7\n",
            "Index: 1592 \t Predicted: 7 \t Actual:7\n",
            "Index: 6805 \t Predicted: 7 \t Actual:7\n",
            "Index: 3580 \t Predicted: 7 \t Actual:7\n",
            "Index: 7204 \t Predicted: 7 \t Actual:7\n",
            "Index: 2695 \t Predicted: 7 \t Actual:7\n",
            "Index: 8606 \t Predicted: 7 \t Actual:7\n",
            "Index: 6380 \t Predicted: 7 \t Actual:7\n",
            "Index: 5425 \t Predicted: 7 \t Actual:7\n",
            "Index: 4784 \t Predicted: 7 \t Actual:7\n",
            "Index: 2887 \t Predicted: 7 \t Actual:7\n",
            "Index: 8282 \t Predicted: 7 \t Actual:7\n",
            "Index: 2851 \t Predicted: 7 \t Actual:7\n",
            "Index: 2578 \t Predicted: 7 \t Actual:7\n",
            "Index: 2262 \t Predicted: 7 \t Actual:7\n",
            "Index: 5324 \t Predicted: 7 \t Actual:7\n",
            "Index: 1576 \t Predicted: 7 \t Actual:7\n",
            "Index: 7598 \t Predicted: 7 \t Actual:7\n",
            "Index: 7041 \t Predicted: 7 \t Actual:7\n",
            "Index: 5110 \t Predicted: 7 \t Actual:7\n",
            "Index: 7141 \t Predicted: 7 \t Actual:7\n",
            "Index: 2736 \t Predicted: 7 \t Actual:7\n",
            "Index: 1933 \t Predicted: 7 \t Actual:7\n",
            "Index: 2844 \t Predicted: 7 \t Actual:7\n",
            "Index: 2888 \t Predicted: 7 \t Actual:7\n",
            "Index: 6048 \t Predicted: 7 \t Actual:7\n",
            "Index: 9743 \t Predicted: 7 \t Actual:7\n",
            "Index: 7533 \t Predicted: 7 \t Actual:7\n",
            "Index: 4936 \t Predicted: 7 \t Actual:7\n",
            "Index: 2591 \t Predicted: 7 \t Actual:7\n",
            "Index: 9573 \t Predicted: 7 \t Actual:7\n",
            "Index: 7908 \t Predicted: 7 \t Actual:7\n",
            "Index: 4493 \t Predicted: 7 \t Actual:7\n",
            "Index: 9108 \t Predicted: 7 \t Actual:7\n",
            "Index: 8904 \t Predicted: 7 \t Actual:7\n",
            "Index: 8265 \t Predicted: 7 \t Actual:7\n",
            "Index: 3111 \t Predicted: 7 \t Actual:7\n",
            "Index: 930 \t Predicted: 7 \t Actual:7\n",
            "Index: 8110 \t Predicted: 7 \t Actual:7\n",
            "Index: 9788 \t Predicted: 7 \t Actual:7\n",
            "Index: 7390 \t Predicted: 7 \t Actual:7\n",
            "Index: 9419 \t Predicted: 7 \t Actual:7\n",
            "Index: 1703 \t Predicted: 7 \t Actual:7\n",
            "Index: 1100 \t Predicted: 7 \t Actual:7\n",
            "Index: 1012 \t Predicted: 7 \t Actual:7\n",
            "Index: 2915 \t Predicted: 7 \t Actual:7\n",
            "Index: 8698 \t Predicted: 7 \t Actual:7\n",
            "Index: 9852 \t Predicted: 7 \t Actual:7\n",
            "Index: 7677 \t Predicted: 7 \t Actual:7\n",
            "Index: 2808 \t Predicted: 7 \t Actual:7\n",
            "Index: 7565 \t Predicted: 7 \t Actual:7\n",
            "Index: 8959 \t Predicted: 7 \t Actual:7\n",
            "Index: 9534 \t Predicted: 7 \t Actual:7\n",
            "Index: 8403 \t Predicted: 7 \t Actual:7\n",
            "Index: 4793 \t Predicted: 7 \t Actual:7\n",
            "Index: 2563 \t Predicted: 7 \t Actual:7\n",
            "Index: 9935 \t Predicted: 7 \t Actual:7\n",
            "Index: 5310 \t Predicted: 7 \t Actual:7\n",
            "Index: 3643 \t Predicted: 7 \t Actual:7\n",
            "Index: 9314 \t Predicted: 7 \t Actual:7\n",
            "Index: 771 \t Predicted: 7 \t Actual:7\n",
            "Index: 7030 \t Predicted: 7 \t Actual:7\n",
            "Index: 9024 \t Predicted: 7 \t Actual:7\n",
            "Index: 1355 \t Predicted: 7 \t Actual:7\n",
            "Index: 133 \t Predicted: 7 \t Actual:7\n",
            "Index: 6208 \t Predicted: 7 \t Actual:7\n",
            "Index: 8805 \t Predicted: 7 \t Actual:7\n",
            "Index: 4861 \t Predicted: 7 \t Actual:7\n",
            "Index: 9806 \t Predicted: 7 \t Actual:7\n",
            "Index: 8519 \t Predicted: 7 \t Actual:7\n",
            "Index: 8926 \t Predicted: 7 \t Actual:7\n",
            "Index: 7296 \t Predicted: 7 \t Actual:7\n",
            "Index: 8175 \t Predicted: 7 \t Actual:7\n",
            "Index: 8173 \t Predicted: 7 \t Actual:7\n",
            "Index: 5177 \t Predicted: 7 \t Actual:7\n",
            "Index: 3054 \t Predicted: 7 \t Actual:7\n",
            "Index: 34 \t Predicted: 7 \t Actual:7\n",
            "Index: 7985 \t Predicted: 7 \t Actual:7\n",
            "Index: 3011 \t Predicted: 7 \t Actual:7\n",
            "Index: 1498 \t Predicted: 7 \t Actual:7\n",
            "Index: 6326 \t Predicted: 7 \t Actual:7\n",
            "Index: 8003 \t Predicted: 7 \t Actual:7\n",
            "Index: 6243 \t Predicted: 7 \t Actual:7\n",
            "Index: 6653 \t Predicted: 7 \t Actual:7\n",
            "Index: 8475 \t Predicted: 7 \t Actual:7\n",
            "Index: 6346 \t Predicted: 7 \t Actual:7\n",
            "Index: 5437 \t Predicted: 7 \t Actual:7\n",
            "Index: 2132 \t Predicted: 7 \t Actual:7\n",
            "Index: 7276 \t Predicted: 7 \t Actual:7\n",
            "Index: 2377 \t Predicted: 7 \t Actual:7\n",
            "Index: 4747 \t Predicted: 7 \t Actual:7\n",
            "Index: 1283 \t Predicted: 7 \t Actual:7\n",
            "Index: 5402 \t Predicted: 7 \t Actual:7\n",
            "Index: 4658 \t Predicted: 7 \t Actual:7\n",
            "Index: 2595 \t Predicted: 7 \t Actual:7\n",
            "Index: 7865 \t Predicted: 7 \t Actual:7\n",
            "Index: 2820 \t Predicted: 7 \t Actual:7\n",
            "Index: 3616 \t Predicted: 7 \t Actual:7\n",
            "Index: 6007 \t Predicted: 7 \t Actual:7\n",
            "Index: 64 \t Predicted: 7 \t Actual:7\n",
            "Index: 2874 \t Predicted: 7 \t Actual:7\n",
            "Index: 4623 \t Predicted: 7 \t Actual:7\n",
            "Index: 6441 \t Predicted: 7 \t Actual:7\n",
            "Index: 8512 \t Predicted: 7 \t Actual:7\n",
            "Index: 4061 \t Predicted: 7 \t Actual:7\n",
            "Index: 9000 \t Predicted: 7 \t Actual:7\n",
            "Index: 2290 \t Predicted: 7 \t Actual:7\n",
            "Index: 2968 \t Predicted: 7 \t Actual:7\n",
            "Index: 1770 \t Predicted: 7 \t Actual:7\n",
            "Index: 1226 \t Predicted: 2 \t Actual:7\n",
            "Index: 6306 \t Predicted: 7 \t Actual:7\n",
            "Index: 9036 \t Predicted: 7 \t Actual:7\n",
            "Index: 6684 \t Predicted: 7 \t Actual:7\n",
            "Index: 9031 \t Predicted: 7 \t Actual:7\n",
            "Index: 7180 \t Predicted: 7 \t Actual:7\n",
            "Index: 1887 \t Predicted: 7 \t Actual:7\n",
            "Index: 3730 \t Predicted: 7 \t Actual:7\n",
            "Index: 756 \t Predicted: 7 \t Actual:7\n",
            "Index: 2278 \t Predicted: 7 \t Actual:7\n",
            "Index: 301 \t Predicted: 7 \t Actual:7\n",
            "Index: 551 \t Predicted: 7 \t Actual:7\n",
            "Index: 5795 \t Predicted: 7 \t Actual:7\n",
            "Index: 4453 \t Predicted: 7 \t Actual:7\n",
            "Index: 3767 \t Predicted: 2 \t Actual:7\n",
            "Index: 8188 \t Predicted: 7 \t Actual:7\n",
            "Index: 7861 \t Predicted: 7 \t Actual:7\n",
            "Index: 3423 \t Predicted: 7 \t Actual:7\n",
            "Index: 8465 \t Predicted: 7 \t Actual:7\n",
            "Index: 1772 \t Predicted: 7 \t Actual:7\n",
            "Index: 846 \t Predicted: 9 \t Actual:7\n",
            "Index: 5861 \t Predicted: 7 \t Actual:7\n",
            "Index: 7307 \t Predicted: 7 \t Actual:7\n",
            "Index: 1903 \t Predicted: 7 \t Actual:7\n",
            "Index: 4970 \t Predicted: 7 \t Actual:7\n",
            "Index: 4900 \t Predicted: 7 \t Actual:7\n",
            "Index: 5071 \t Predicted: 7 \t Actual:7\n",
            "Index: 8190 \t Predicted: 7 \t Actual:7\n",
            "Index: 1544 \t Predicted: 7 \t Actual:7\n",
            "Index: 4522 \t Predicted: 7 \t Actual:7\n",
            "Index: 3225 \t Predicted: 9 \t Actual:7\n",
            "Index: 1806 \t Predicted: 7 \t Actual:7\n",
            "Index: 9147 \t Predicted: 7 \t Actual:7\n",
            "Index: 6069 \t Predicted: 7 \t Actual:7\n",
            "Index: 4730 \t Predicted: 7 \t Actual:7\n",
            "Index: 1721 \t Predicted: 7 \t Actual:7\n",
            "Index: 1171 \t Predicted: 7 \t Actual:7\n",
            "Index: 1566 \t Predicted: 7 \t Actual:7\n",
            "Index: 3535 \t Predicted: 7 \t Actual:7\n",
            "Index: 6253 \t Predicted: 7 \t Actual:7\n",
            "Index: 9894 \t Predicted: 7 \t Actual:7\n",
            "Index: 8030 \t Predicted: 7 \t Actual:7\n",
            "Index: 1164 \t Predicted: 7 \t Actual:7\n",
            "Index: 6339 \t Predicted: 7 \t Actual:7\n",
            "Index: 3316 \t Predicted: 7 \t Actual:7\n",
            "Index: 7460 \t Predicted: 7 \t Actual:7\n",
            "Index: 1141 \t Predicted: 7 \t Actual:7\n",
            "Index: 6079 \t Predicted: 7 \t Actual:7\n",
            "Index: 7355 \t Predicted: 7 \t Actual:7\n",
            "Index: 4199 \t Predicted: 9 \t Actual:7\n",
            "Index: 3997 \t Predicted: 7 \t Actual:7\n",
            "Index: 7059 \t Predicted: 7 \t Actual:7\n",
            "Index: 4690 \t Predicted: 7 \t Actual:7\n",
            "Index: 4868 \t Predicted: 7 \t Actual:7\n",
            "Index: 3107 \t Predicted: 7 \t Actual:7\n",
            "Index: 1809 \t Predicted: 7 \t Actual:7\n",
            "Index: 4228 \t Predicted: 7 \t Actual:7\n",
            "Index: 3572 \t Predicted: 7 \t Actual:7\n",
            "Index: 8421 \t Predicted: 7 \t Actual:7\n",
            "Index: 1071 \t Predicted: 7 \t Actual:7\n",
            "Index: 5496 \t Predicted: 7 \t Actual:7\n",
            "Index: 4993 \t Predicted: 7 \t Actual:7\n",
            "Index: 4471 \t Predicted: 7 \t Actual:7\n",
            "Index: 1581 \t Predicted: 7 \t Actual:7\n",
            "Index: 4767 \t Predicted: 7 \t Actual:7\n",
            "Index: 3308 \t Predicted: 7 \t Actual:7\n",
            "Index: 3976 \t Predicted: 7 \t Actual:7\n",
            "Index: 7362 \t Predicted: 7 \t Actual:7\n",
            "Index: 8304 \t Predicted: 7 \t Actual:7\n",
            "Index: 5422 \t Predicted: 7 \t Actual:7\n",
            "Index: 7493 \t Predicted: 7 \t Actual:7\n",
            "Index: 7145 \t Predicted: 7 \t Actual:7\n",
            "Index: 1776 \t Predicted: 7 \t Actual:7\n",
            "Index: 9566 \t Predicted: 7 \t Actual:7\n",
            "Index: 4102 \t Predicted: 7 \t Actual:7\n",
            "Index: 9285 \t Predicted: 7 \t Actual:7\n",
            "Index: 2243 \t Predicted: 7 \t Actual:7\n",
            "Index: 9586 \t Predicted: 7 \t Actual:7\n",
            "Index: 4693 \t Predicted: 7 \t Actual:7\n",
            "Index: 9781 \t Predicted: 7 \t Actual:7\n",
            "Index: 4994 \t Predicted: 7 \t Actual:7\n",
            "Index: 3753 \t Predicted: 7 \t Actual:7\n",
            "Index: 1206 \t Predicted: 7 \t Actual:7\n",
            "Index: 7734 \t Predicted: 7 \t Actual:7\n",
            "Index: 3040 \t Predicted: 7 \t Actual:7\n",
            "Index: 80 \t Predicted: 7 \t Actual:7\n",
            "Index: 4715 \t Predicted: 7 \t Actual:7\n",
            "Index: 2365 \t Predicted: 7 \t Actual:7\n",
            "Index: 4007 \t Predicted: 7 \t Actual:7\n",
            "Index: 3453 \t Predicted: 7 \t Actual:7\n",
            "Index: 8591 \t Predicted: 7 \t Actual:7\n",
            "Index: 5180 \t Predicted: 7 \t Actual:7\n",
            "Index: 229 \t Predicted: 7 \t Actual:7\n",
            "Index: 5949 \t Predicted: 7 \t Actual:7\n",
            "Index: 7711 \t Predicted: 7 \t Actual:7\n",
            "Index: 1363 \t Predicted: 7 \t Actual:7\n",
            "Index: 5326 \t Predicted: 7 \t Actual:7\n",
            "Index: 4175 \t Predicted: 7 \t Actual:7\n",
            "Index: 3361 \t Predicted: 7 \t Actual:7\n",
            "Index: 3213 \t Predicted: 7 \t Actual:7\n",
            "Index: 0 \t Predicted: 7 \t Actual:7\n",
            "Index: 60 \t Predicted: 7 \t Actual:7\n",
            "Index: 8480 \t Predicted: 7 \t Actual:7\n",
            "Index: 7950 \t Predicted: 7 \t Actual:7\n",
            "Index: 8883 \t Predicted: 7 \t Actual:7\n",
            "Index: 6731 \t Predicted: 7 \t Actual:7\n",
            "Index: 9684 \t Predicted: 7 \t Actual:7\n",
            "Index: 79 \t Predicted: 7 \t Actual:7\n",
            "Index: 2325 \t Predicted: 7 \t Actual:7\n",
            "Index: 5533 \t Predicted: 7 \t Actual:7\n",
            "Index: 97 \t Predicted: 7 \t Actual:7\n",
            "Index: 3378 \t Predicted: 7 \t Actual:7\n",
            "Index: 1321 \t Predicted: 7 \t Actual:7\n",
            "Index: 1126 \t Predicted: 7 \t Actual:7\n",
            "Index: 9546 \t Predicted: 7 \t Actual:7\n",
            "Index: 1783 \t Predicted: 7 \t Actual:7\n",
            "Index: 9172 \t Predicted: 7 \t Actual:7\n",
            "Index: 7197 \t Predicted: 7 \t Actual:7\n",
            "Index: 2565 \t Predicted: 7 \t Actual:7\n",
            "Index: 3589 \t Predicted: 7 \t Actual:7\n",
            "Index: 9958 \t Predicted: 7 \t Actual:7\n",
            "Index: 2275 \t Predicted: 7 \t Actual:7\n",
            "Index: 1950 \t Predicted: 7 \t Actual:7\n",
            "Index: 5939 \t Predicted: 7 \t Actual:7\n",
            "Index: 6458 \t Predicted: 7 \t Actual:7\n",
            "Index: 1799 \t Predicted: 7 \t Actual:7\n",
            "Index: 510 \t Predicted: 7 \t Actual:7\n",
            "Index: 6006 \t Predicted: 7 \t Actual:7\n",
            "Index: 7927 \t Predicted: 7 \t Actual:7\n",
            "Index: 6377 \t Predicted: 7 \t Actual:7\n",
            "Index: 6663 \t Predicted: 7 \t Actual:7\n",
            "Index: 1055 \t Predicted: 7 \t Actual:7\n",
            "Index: 1741 \t Predicted: 7 \t Actual:7\n",
            "Index: 2843 \t Predicted: 7 \t Actual:7\n",
            "Index: 1260 \t Predicted: 1 \t Actual:7\n",
            "Index: 1784 \t Predicted: 7 \t Actual:7\n",
            "Index: 8350 \t Predicted: 7 \t Actual:7\n",
            "Index: 7701 \t Predicted: 7 \t Actual:7\n",
            "Index: 7544 \t Predicted: 7 \t Actual:7\n",
            "Index: 5234 \t Predicted: 7 \t Actual:7\n",
            "Index: 8064 \t Predicted: 7 \t Actual:7\n",
            "Index: 7124 \t Predicted: 7 \t Actual:7\n",
            "Index: 6307 \t Predicted: 7 \t Actual:7\n",
            "Index: 4053 \t Predicted: 7 \t Actual:7\n",
            "Index: 9374 \t Predicted: 7 \t Actual:7\n",
            "Index: 4391 \t Predicted: 7 \t Actual:7\n",
            "Index: 1477 \t Predicted: 7 \t Actual:7\n",
            "Index: 1564 \t Predicted: 7 \t Actual:7\n",
            "Index: 17 \t Predicted: 7 \t Actual:7\n",
            "Index: 2344 \t Predicted: 7 \t Actual:7\n",
            "Index: 2607 \t Predicted: 7 \t Actual:7\n",
            "Index: 9957 \t Predicted: 7 \t Actual:7\n",
            "Index: 1276 \t Predicted: 7 \t Actual:7\n",
            "Index: 9458 \t Predicted: 7 \t Actual:7\n",
            "Index: 4200 \t Predicted: 7 \t Actual:7\n",
            "Index: 5655 \t Predicted: 7 \t Actual:7\n",
            "Index: 8203 \t Predicted: 7 \t Actual:7\n",
            "Index: 3969 \t Predicted: 7 \t Actual:7\n",
            "Index: 3161 \t Predicted: 7 \t Actual:7\n",
            "Index: 5709 \t Predicted: 7 \t Actual:7\n",
            "Index: 3277 \t Predicted: 7 \t Actual:7\n",
            "Index: 6674 \t Predicted: 7 \t Actual:7\n",
            "Index: 1096 \t Predicted: 7 \t Actual:7\n",
            "Index: 1522 \t Predicted: 9 \t Actual:7\n",
            "Index: 6852 \t Predicted: 7 \t Actual:7\n",
            "Index: 9899 \t Predicted: 7 \t Actual:7\n",
            "Index: 8608 \t Predicted: 7 \t Actual:7\n",
            "Index: 8417 \t Predicted: 7 \t Actual:7\n",
            "Index: 122 \t Predicted: 7 \t Actual:7\n",
            "Index: 5620 \t Predicted: 7 \t Actual:7\n",
            "Index: 950 \t Predicted: 7 \t Actual:7\n",
            "Index: 9864 \t Predicted: 7 \t Actual:7\n",
            "Index: 4297 \t Predicted: 7 \t Actual:7\n",
            "Index: 2605 \t Predicted: 7 \t Actual:7\n",
            "Index: 1671 \t Predicted: 7 \t Actual:7\n",
            "Index: 6662 \t Predicted: 7 \t Actual:7\n",
            "Index: 7647 \t Predicted: 7 \t Actual:7\n",
            "Index: 2588 \t Predicted: 7 \t Actual:7\n",
            "Index: 585 \t Predicted: 7 \t Actual:7\n",
            "Index: 141 \t Predicted: 7 \t Actual:7\n",
            "Index: 410 \t Predicted: 7 \t Actual:7\n",
            "Index: 3973 \t Predicted: 7 \t Actual:7\n",
            "Index: 9257 \t Predicted: 7 \t Actual:7\n",
            "Index: 658 \t Predicted: 7 \t Actual:7\n",
            "Index: 6269 \t Predicted: 7 \t Actual:7\n",
            "Index: 3166 \t Predicted: 7 \t Actual:7\n",
            "Index: 9113 \t Predicted: 7 \t Actual:7\n",
            "Index: 5317 \t Predicted: 7 \t Actual:7\n",
            "Index: 3098 \t Predicted: 7 \t Actual:7\n",
            "Index: 7356 \t Predicted: 7 \t Actual:7\n",
            "Index: 4697 \t Predicted: 7 \t Actual:7\n",
            "Index: 6845 \t Predicted: 7 \t Actual:7\n",
            "Index: 1705 \t Predicted: 7 \t Actual:7\n",
            "Index: 6577 \t Predicted: 7 \t Actual:7\n",
            "Index: 7320 \t Predicted: 7 \t Actual:7\n",
            "Index: 5240 \t Predicted: 7 \t Actual:7\n",
            "Index: 6768 \t Predicted: 7 \t Actual:7\n",
            "Index: 8497 \t Predicted: 7 \t Actual:7\n",
            "Index: 5992 \t Predicted: 7 \t Actual:7\n",
            "Index: 4089 \t Predicted: 7 \t Actual:7\n",
            "Index: 3936 \t Predicted: 7 \t Actual:7\n",
            "Index: 6666 \t Predicted: 7 \t Actual:7\n",
            "Index: 7467 \t Predicted: 7 \t Actual:7\n",
            "Index: 2993 \t Predicted: 7 \t Actual:7\n",
            "Index: 2317 \t Predicted: 7 \t Actual:7\n",
            "Index: 9463 \t Predicted: 7 \t Actual:7\n",
            "Index: 3192 \t Predicted: 7 \t Actual:7\n",
            "Index: 3594 \t Predicted: 7 \t Actual:7\n",
            "Index: 8815 \t Predicted: 7 \t Actual:7\n",
            "Index: 7978 \t Predicted: 7 \t Actual:7\n",
            "Index: 7645 \t Predicted: 7 \t Actual:7\n",
            "Index: 8617 \t Predicted: 7 \t Actual:7\n",
            "Index: 4886 \t Predicted: 7 \t Actual:7\n",
            "Index: 7648 \t Predicted: 7 \t Actual:7\n",
            "Index: 5688 \t Predicted: 7 \t Actual:7\n",
            "Index: 1814 \t Predicted: 7 \t Actual:7\n"
          ],
          "name": "stdout"
        }
      ]
    },
    {
      "cell_type": "markdown",
      "metadata": {
        "id": "tOai8PL992nX",
        "colab_type": "text"
      },
      "source": [
        "### **Original accuracy for 1000 samples of 7s**"
      ]
    },
    {
      "cell_type": "code",
      "metadata": {
        "id": "Fx9tCAqk8sGQ",
        "colab_type": "code",
        "colab": {}
      },
      "source": [
        "thousand_testing_sevens = np.array(thousand_testing_sevens)\n",
        "thousand_testing_sevens_labels = np.array(thousand_testing_sevens_labels)\n",
        "accuracy(params, shape_as_image(thousand_testing_sevens, thousand_testing_sevens_labels))"
      ],
      "execution_count": 0,
      "outputs": []
    },
    {
      "cell_type": "code",
      "metadata": {
        "id": "6YtkB3se9Xh9",
        "colab_type": "code",
        "colab": {}
      },
      "source": [
        ""
      ],
      "execution_count": 0,
      "outputs": []
    },
    {
      "cell_type": "code",
      "metadata": {
        "id": "4f-JQc156K1E",
        "colab_type": "code",
        "colab": {
          "base_uri": "https://localhost:8080/",
          "height": 34
        },
        "outputId": "f3d543c7-e148-4a36-d41d-ad27fa750479"
      },
      "source": [
        ""
      ],
      "execution_count": 94,
      "outputs": [
        {
          "output_type": "execute_result",
          "data": {
            "text/plain": [
              "DeviceArray(0.989, dtype=float32)"
            ]
          },
          "metadata": {
            "tags": []
          },
          "execution_count": 94
        }
      ]
    },
    {
      "cell_type": "markdown",
      "metadata": {
        "id": "l-Vdk79f-oBq",
        "colab_type": "text"
      },
      "source": [
        "### Generating 1000 perturbed images"
      ]
    },
    {
      "cell_type": "code",
      "metadata": {
        "id": "YdotMoGK-QhZ",
        "colab_type": "code",
        "colab": {}
      },
      "source": [
        "perturbed_images = []\n",
        "for i in thousand_indices:\n",
        "  perturbed_images.append(perturbe_image(0.3, i))"
      ],
      "execution_count": 0,
      "outputs": []
    },
    {
      "cell_type": "markdown",
      "metadata": {
        "id": "nl8cbhTZBCea",
        "colab_type": "text"
      },
      "source": [
        "### **Sampling an image to visualize perturbation**"
      ]
    },
    {
      "cell_type": "code",
      "metadata": {
        "id": "_PBqXJ6F-7AJ",
        "colab_type": "code",
        "colab": {
          "base_uri": "https://localhost:8080/",
          "height": 34
        },
        "outputId": "eb732fbb-5a83-493f-fc43-01d7c3ef1c98"
      },
      "source": [
        "thousand_indices[100]"
      ],
      "execution_count": 96,
      "outputs": [
        {
          "output_type": "execute_result",
          "data": {
            "text/plain": [
              "9990"
            ]
          },
          "metadata": {
            "tags": []
          },
          "execution_count": 96
        }
      ]
    },
    {
      "cell_type": "code",
      "metadata": {
        "id": "aHuPRDMi_DDG",
        "colab_type": "code",
        "colab": {
          "base_uri": "https://localhost:8080/",
          "height": 300
        },
        "outputId": "bdc45a1f-6128-48fb-e99a-2188bbf922cf"
      },
      "source": [
        "x = test_images[1164]\n",
        "x_reshaped = np.reshape(x, [1,28,28,1])\n",
        "predict_image(x_reshaped)"
      ],
      "execution_count": 97,
      "outputs": [
        {
          "output_type": "stream",
          "text": [
            "Predicted class: 7\n"
          ],
          "name": "stdout"
        },
        {
          "output_type": "execute_result",
          "data": {
            "text/plain": [
              "7"
            ]
          },
          "metadata": {
            "tags": []
          },
          "execution_count": 97
        },
        {
          "output_type": "display_data",
          "data": {
            "image/png": "[encoded data removed]",
            "text/plain": [
              "<Figure size 432x288 with 1 Axes>"
            ]
          },
          "metadata": {
            "tags": []
          }
        }
      ]
    },
    {
      "cell_type": "code",
      "metadata": {
        "id": "-SpQ-IBP-vcB",
        "colab_type": "code",
        "colab": {
          "base_uri": "https://localhost:8080/",
          "height": 300
        },
        "outputId": "c5c361f7-16bc-4c3b-d2a6-633cef9499a9"
      },
      "source": [
        "predict_image(perturbed_images[100])"
      ],
      "execution_count": 98,
      "outputs": [
        {
          "output_type": "stream",
          "text": [
            "Predicted class: 3\n"
          ],
          "name": "stdout"
        },
        {
          "output_type": "execute_result",
          "data": {
            "text/plain": [
              "3"
            ]
          },
          "metadata": {
            "tags": []
          },
          "execution_count": 98
        },
        {
          "output_type": "display_data",
          "data": {
            "image/png": "[encoded data removed]",
            "text/plain": [
              "<Figure size 432x288 with 1 Axes>"
            ]
          },
          "metadata": {
            "tags": []
          }
        }
      ]
    },
    {
      "cell_type": "markdown",
      "metadata": {
        "id": "ipOH9-XrB6Xf",
        "colab_type": "text"
      },
      "source": [
        "### **Accuracy from perturbed images**"
      ]
    },
    {
      "cell_type": "code",
      "metadata": {
        "id": "_N2unC2m_cD6",
        "colab_type": "code",
        "colab": {}
      },
      "source": [
        "perturbed_images = np.array(perturbed_images)\n",
        "accuracy(params, shape_as_image(perturbed_images, thousand_testing_sevens_labels))"
      ],
      "execution_count": 0,
      "outputs": []
    },
    {
      "cell_type": "code",
      "metadata": {
        "id": "Bs57Z0JS_hNt",
        "colab_type": "code",
        "colab": {
          "base_uri": "https://localhost:8080/",
          "height": 1000
        },
        "outputId": "71546efd-d333-4197-eefc-7eef338db62d"
      },
      "source": [
        "perturbed_predictions = []\n",
        "for i in range(0, len(thousand_indices)):\n",
        "  x = test_images[thousand_indices[i]]\n",
        "  x_reshaped = np.reshape(x, [1,28,28,1])\n",
        "  predicted = predict_output_class(x_reshaped)\n",
        "  perturbed_image_prediction = predict_output_class(perturbed_images[i])\n",
        "  perturbed_predictions.append(perturbed_image_prediction)\n",
        "  actual_value = int(np.argmax(test_labels[thousand_indices[i]]))\n",
        "  \n",
        "  print(\"Index: {} \\t Original Predicted: {} Perturbed predicted: {} \\t Actual:{}\".\\\n",
        "        format(i, predicted, perturbed_image_prediction, actual_value))"
      ],
      "execution_count": 101,
      "outputs": [
        {
          "output_type": "stream",
          "text": [
            "Index: 0 \t Original Predicted: 7 Perturbed predicted: 1 \t Actual:7\n",
            "Index: 1 \t Original Predicted: 7 Perturbed predicted: 9 \t Actual:7\n",
            "Index: 2 \t Original Predicted: 7 Perturbed predicted: 3 \t Actual:7\n",
            "Index: 3 \t Original Predicted: 7 Perturbed predicted: 2 \t Actual:7\n",
            "Index: 4 \t Original Predicted: 7 Perturbed predicted: 9 \t Actual:7\n",
            "Index: 5 \t Original Predicted: 7 Perturbed predicted: 9 \t Actual:7\n",
            "Index: 6 \t Original Predicted: 7 Perturbed predicted: 9 \t Actual:7\n",
            "Index: 7 \t Original Predicted: 7 Perturbed predicted: 9 \t Actual:7\n",
            "Index: 8 \t Original Predicted: 7 Perturbed predicted: 3 \t Actual:7\n",
            "Index: 9 \t Original Predicted: 7 Perturbed predicted: 5 \t Actual:7\n",
            "Index: 10 \t Original Predicted: 7 Perturbed predicted: 9 \t Actual:7\n",
            "Index: 11 \t Original Predicted: 7 Perturbed predicted: 3 \t Actual:7\n",
            "Index: 12 \t Original Predicted: 7 Perturbed predicted: 2 \t Actual:7\n",
            "Index: 13 \t Original Predicted: 7 Perturbed predicted: 3 \t Actual:7\n",
            "Index: 14 \t Original Predicted: 7 Perturbed predicted: 3 \t Actual:7\n",
            "Index: 15 \t Original Predicted: 7 Perturbed predicted: 3 \t Actual:7\n",
            "Index: 16 \t Original Predicted: 7 Perturbed predicted: 1 \t Actual:7\n",
            "Index: 17 \t Original Predicted: 7 Perturbed predicted: 9 \t Actual:7\n",
            "Index: 18 \t Original Predicted: 7 Perturbed predicted: 9 \t Actual:7\n",
            "Index: 19 \t Original Predicted: 7 Perturbed predicted: 9 \t Actual:7\n",
            "Index: 20 \t Original Predicted: 7 Perturbed predicted: 3 \t Actual:7\n",
            "Index: 21 \t Original Predicted: 7 Perturbed predicted: 9 \t Actual:7\n",
            "Index: 22 \t Original Predicted: 7 Perturbed predicted: 9 \t Actual:7\n",
            "Index: 23 \t Original Predicted: 7 Perturbed predicted: 5 \t Actual:7\n",
            "Index: 24 \t Original Predicted: 7 Perturbed predicted: 3 \t Actual:7\n",
            "Index: 25 \t Original Predicted: 7 Perturbed predicted: 3 \t Actual:7\n",
            "Index: 26 \t Original Predicted: 7 Perturbed predicted: 1 \t Actual:7\n",
            "Index: 27 \t Original Predicted: 7 Perturbed predicted: 5 \t Actual:7\n",
            "Index: 28 \t Original Predicted: 7 Perturbed predicted: 8 \t Actual:7\n",
            "Index: 29 \t Original Predicted: 7 Perturbed predicted: 9 \t Actual:7\n",
            "Index: 30 \t Original Predicted: 7 Perturbed predicted: 1 \t Actual:7\n",
            "Index: 31 \t Original Predicted: 7 Perturbed predicted: 9 \t Actual:7\n",
            "Index: 32 \t Original Predicted: 7 Perturbed predicted: 3 \t Actual:7\n",
            "Index: 33 \t Original Predicted: 7 Perturbed predicted: 3 \t Actual:7\n",
            "Index: 34 \t Original Predicted: 7 Perturbed predicted: 9 \t Actual:7\n",
            "Index: 35 \t Original Predicted: 7 Perturbed predicted: 9 \t Actual:7\n",
            "Index: 36 \t Original Predicted: 7 Perturbed predicted: 5 \t Actual:7\n",
            "Index: 37 \t Original Predicted: 7 Perturbed predicted: 3 \t Actual:7\n",
            "Index: 38 \t Original Predicted: 7 Perturbed predicted: 3 \t Actual:7\n",
            "Index: 39 \t Original Predicted: 7 Perturbed predicted: 9 \t Actual:7\n",
            "Index: 40 \t Original Predicted: 7 Perturbed predicted: 2 \t Actual:7\n",
            "Index: 41 \t Original Predicted: 7 Perturbed predicted: 5 \t Actual:7\n",
            "Index: 42 \t Original Predicted: 1 Perturbed predicted: 1 \t Actual:7\n",
            "Index: 43 \t Original Predicted: 7 Perturbed predicted: 2 \t Actual:7\n",
            "Index: 44 \t Original Predicted: 7 Perturbed predicted: 5 \t Actual:7\n",
            "Index: 45 \t Original Predicted: 7 Perturbed predicted: 9 \t Actual:7\n",
            "Index: 46 \t Original Predicted: 7 Perturbed predicted: 3 \t Actual:7\n",
            "Index: 47 \t Original Predicted: 7 Perturbed predicted: 9 \t Actual:7\n",
            "Index: 48 \t Original Predicted: 7 Perturbed predicted: 9 \t Actual:7\n",
            "Index: 49 \t Original Predicted: 7 Perturbed predicted: 3 \t Actual:7\n",
            "Index: 50 \t Original Predicted: 7 Perturbed predicted: 1 \t Actual:7\n",
            "Index: 51 \t Original Predicted: 7 Perturbed predicted: 5 \t Actual:7\n",
            "Index: 52 \t Original Predicted: 7 Perturbed predicted: 2 \t Actual:7\n",
            "Index: 53 \t Original Predicted: 7 Perturbed predicted: 3 \t Actual:7\n",
            "Index: 54 \t Original Predicted: 7 Perturbed predicted: 4 \t Actual:7\n",
            "Index: 55 \t Original Predicted: 7 Perturbed predicted: 3 \t Actual:7\n",
            "Index: 56 \t Original Predicted: 7 Perturbed predicted: 9 \t Actual:7\n",
            "Index: 57 \t Original Predicted: 7 Perturbed predicted: 9 \t Actual:7\n",
            "Index: 58 \t Original Predicted: 7 Perturbed predicted: 9 \t Actual:7\n",
            "Index: 59 \t Original Predicted: 7 Perturbed predicted: 3 \t Actual:7\n",
            "Index: 60 \t Original Predicted: 7 Perturbed predicted: 3 \t Actual:7\n",
            "Index: 61 \t Original Predicted: 7 Perturbed predicted: 3 \t Actual:7\n",
            "Index: 62 \t Original Predicted: 7 Perturbed predicted: 9 \t Actual:7\n",
            "Index: 63 \t Original Predicted: 7 Perturbed predicted: 3 \t Actual:7\n",
            "Index: 64 \t Original Predicted: 7 Perturbed predicted: 3 \t Actual:7\n",
            "Index: 65 \t Original Predicted: 7 Perturbed predicted: 9 \t Actual:7\n",
            "Index: 66 \t Original Predicted: 7 Perturbed predicted: 9 \t Actual:7\n",
            "Index: 67 \t Original Predicted: 7 Perturbed predicted: 3 \t Actual:7\n",
            "Index: 68 \t Original Predicted: 7 Perturbed predicted: 9 \t Actual:7\n",
            "Index: 69 \t Original Predicted: 7 Perturbed predicted: 2 \t Actual:7\n",
            "Index: 70 \t Original Predicted: 7 Perturbed predicted: 2 \t Actual:7\n",
            "Index: 71 \t Original Predicted: 7 Perturbed predicted: 2 \t Actual:7\n",
            "Index: 72 \t Original Predicted: 7 Perturbed predicted: 9 \t Actual:7\n",
            "Index: 73 \t Original Predicted: 7 Perturbed predicted: 3 \t Actual:7\n",
            "Index: 74 \t Original Predicted: 7 Perturbed predicted: 9 \t Actual:7\n",
            "Index: 75 \t Original Predicted: 7 Perturbed predicted: 3 \t Actual:7\n",
            "Index: 76 \t Original Predicted: 7 Perturbed predicted: 3 \t Actual:7\n",
            "Index: 77 \t Original Predicted: 7 Perturbed predicted: 3 \t Actual:7\n",
            "Index: 78 \t Original Predicted: 7 Perturbed predicted: 5 \t Actual:7\n",
            "Index: 79 \t Original Predicted: 7 Perturbed predicted: 2 \t Actual:7\n",
            "Index: 80 \t Original Predicted: 7 Perturbed predicted: 4 \t Actual:7\n",
            "Index: 81 \t Original Predicted: 7 Perturbed predicted: 9 \t Actual:7\n",
            "Index: 82 \t Original Predicted: 7 Perturbed predicted: 3 \t Actual:7\n",
            "Index: 83 \t Original Predicted: 7 Perturbed predicted: 9 \t Actual:7\n",
            "Index: 84 \t Original Predicted: 7 Perturbed predicted: 2 \t Actual:7\n",
            "Index: 85 \t Original Predicted: 7 Perturbed predicted: 9 \t Actual:7\n",
            "Index: 86 \t Original Predicted: 7 Perturbed predicted: 3 \t Actual:7\n",
            "Index: 87 \t Original Predicted: 7 Perturbed predicted: 9 \t Actual:7\n",
            "Index: 88 \t Original Predicted: 7 Perturbed predicted: 9 \t Actual:7\n",
            "Index: 89 \t Original Predicted: 7 Perturbed predicted: 9 \t Actual:7\n",
            "Index: 90 \t Original Predicted: 7 Perturbed predicted: 1 \t Actual:7\n",
            "Index: 91 \t Original Predicted: 7 Perturbed predicted: 3 \t Actual:7\n",
            "Index: 92 \t Original Predicted: 7 Perturbed predicted: 3 \t Actual:7\n",
            "Index: 93 \t Original Predicted: 7 Perturbed predicted: 9 \t Actual:7\n",
            "Index: 94 \t Original Predicted: 7 Perturbed predicted: 3 \t Actual:7\n",
            "Index: 95 \t Original Predicted: 7 Perturbed predicted: 3 \t Actual:7\n",
            "Index: 96 \t Original Predicted: 7 Perturbed predicted: 3 \t Actual:7\n",
            "Index: 97 \t Original Predicted: 7 Perturbed predicted: 3 \t Actual:7\n",
            "Index: 98 \t Original Predicted: 7 Perturbed predicted: 2 \t Actual:7\n",
            "Index: 99 \t Original Predicted: 7 Perturbed predicted: 2 \t Actual:7\n",
            "Index: 100 \t Original Predicted: 7 Perturbed predicted: 3 \t Actual:7\n",
            "Index: 101 \t Original Predicted: 7 Perturbed predicted: 3 \t Actual:7\n",
            "Index: 102 \t Original Predicted: 7 Perturbed predicted: 9 \t Actual:7\n",
            "Index: 103 \t Original Predicted: 7 Perturbed predicted: 3 \t Actual:7\n",
            "Index: 104 \t Original Predicted: 7 Perturbed predicted: 2 \t Actual:7\n",
            "Index: 105 \t Original Predicted: 7 Perturbed predicted: 3 \t Actual:7\n",
            "Index: 106 \t Original Predicted: 7 Perturbed predicted: 9 \t Actual:7\n",
            "Index: 107 \t Original Predicted: 7 Perturbed predicted: 2 \t Actual:7\n",
            "Index: 108 \t Original Predicted: 7 Perturbed predicted: 3 \t Actual:7\n",
            "Index: 109 \t Original Predicted: 7 Perturbed predicted: 9 \t Actual:7\n",
            "Index: 110 \t Original Predicted: 7 Perturbed predicted: 9 \t Actual:7\n",
            "Index: 111 \t Original Predicted: 7 Perturbed predicted: 3 \t Actual:7\n",
            "Index: 112 \t Original Predicted: 7 Perturbed predicted: 9 \t Actual:7\n",
            "Index: 113 \t Original Predicted: 7 Perturbed predicted: 2 \t Actual:7\n",
            "Index: 114 \t Original Predicted: 7 Perturbed predicted: 3 \t Actual:7\n",
            "Index: 115 \t Original Predicted: 7 Perturbed predicted: 3 \t Actual:7\n",
            "Index: 116 \t Original Predicted: 7 Perturbed predicted: 3 \t Actual:7\n",
            "Index: 117 \t Original Predicted: 7 Perturbed predicted: 3 \t Actual:7\n",
            "Index: 118 \t Original Predicted: 7 Perturbed predicted: 8 \t Actual:7\n",
            "Index: 119 \t Original Predicted: 7 Perturbed predicted: 9 \t Actual:7\n",
            "Index: 120 \t Original Predicted: 7 Perturbed predicted: 2 \t Actual:7\n",
            "Index: 121 \t Original Predicted: 7 Perturbed predicted: 2 \t Actual:7\n",
            "Index: 122 \t Original Predicted: 7 Perturbed predicted: 3 \t Actual:7\n",
            "Index: 123 \t Original Predicted: 7 Perturbed predicted: 9 \t Actual:7\n",
            "Index: 124 \t Original Predicted: 7 Perturbed predicted: 9 \t Actual:7\n",
            "Index: 125 \t Original Predicted: 7 Perturbed predicted: 3 \t Actual:7\n",
            "Index: 126 \t Original Predicted: 7 Perturbed predicted: 3 \t Actual:7\n",
            "Index: 127 \t Original Predicted: 7 Perturbed predicted: 6 \t Actual:7\n",
            "Index: 128 \t Original Predicted: 7 Perturbed predicted: 9 \t Actual:7\n",
            "Index: 129 \t Original Predicted: 7 Perturbed predicted: 9 \t Actual:7\n",
            "Index: 130 \t Original Predicted: 7 Perturbed predicted: 3 \t Actual:7\n",
            "Index: 131 \t Original Predicted: 2 Perturbed predicted: 2 \t Actual:7\n",
            "Index: 132 \t Original Predicted: 7 Perturbed predicted: 9 \t Actual:7\n",
            "Index: 133 \t Original Predicted: 7 Perturbed predicted: 2 \t Actual:7\n",
            "Index: 134 \t Original Predicted: 7 Perturbed predicted: 3 \t Actual:7\n",
            "Index: 135 \t Original Predicted: 7 Perturbed predicted: 3 \t Actual:7\n",
            "Index: 136 \t Original Predicted: 7 Perturbed predicted: 3 \t Actual:7\n",
            "Index: 137 \t Original Predicted: 7 Perturbed predicted: 3 \t Actual:7\n",
            "Index: 138 \t Original Predicted: 7 Perturbed predicted: 9 \t Actual:7\n",
            "Index: 139 \t Original Predicted: 7 Perturbed predicted: 9 \t Actual:7\n",
            "Index: 140 \t Original Predicted: 7 Perturbed predicted: 9 \t Actual:7\n",
            "Index: 141 \t Original Predicted: 7 Perturbed predicted: 3 \t Actual:7\n",
            "Index: 142 \t Original Predicted: 7 Perturbed predicted: 9 \t Actual:7\n",
            "Index: 143 \t Original Predicted: 7 Perturbed predicted: 3 \t Actual:7\n",
            "Index: 144 \t Original Predicted: 7 Perturbed predicted: 9 \t Actual:7\n",
            "Index: 145 \t Original Predicted: 7 Perturbed predicted: 3 \t Actual:7\n",
            "Index: 146 \t Original Predicted: 7 Perturbed predicted: 3 \t Actual:7\n",
            "Index: 147 \t Original Predicted: 7 Perturbed predicted: 9 \t Actual:7\n",
            "Index: 148 \t Original Predicted: 7 Perturbed predicted: 3 \t Actual:7\n",
            "Index: 149 \t Original Predicted: 7 Perturbed predicted: 3 \t Actual:7\n",
            "Index: 150 \t Original Predicted: 7 Perturbed predicted: 3 \t Actual:7\n",
            "Index: 151 \t Original Predicted: 7 Perturbed predicted: 3 \t Actual:7\n",
            "Index: 152 \t Original Predicted: 7 Perturbed predicted: 9 \t Actual:7\n",
            "Index: 153 \t Original Predicted: 7 Perturbed predicted: 2 \t Actual:7\n",
            "Index: 154 \t Original Predicted: 7 Perturbed predicted: 3 \t Actual:7\n",
            "Index: 155 \t Original Predicted: 7 Perturbed predicted: 9 \t Actual:7\n",
            "Index: 156 \t Original Predicted: 7 Perturbed predicted: 3 \t Actual:7\n",
            "Index: 157 \t Original Predicted: 7 Perturbed predicted: 3 \t Actual:7\n",
            "Index: 158 \t Original Predicted: 7 Perturbed predicted: 3 \t Actual:7\n",
            "Index: 159 \t Original Predicted: 7 Perturbed predicted: 9 \t Actual:7\n",
            "Index: 160 \t Original Predicted: 7 Perturbed predicted: 5 \t Actual:7\n",
            "Index: 161 \t Original Predicted: 7 Perturbed predicted: 9 \t Actual:7\n",
            "Index: 162 \t Original Predicted: 7 Perturbed predicted: 3 \t Actual:7\n",
            "Index: 163 \t Original Predicted: 7 Perturbed predicted: 9 \t Actual:7\n",
            "Index: 164 \t Original Predicted: 7 Perturbed predicted: 1 \t Actual:7\n",
            "Index: 165 \t Original Predicted: 7 Perturbed predicted: 5 \t Actual:7\n",
            "Index: 166 \t Original Predicted: 7 Perturbed predicted: 3 \t Actual:7\n",
            "Index: 167 \t Original Predicted: 7 Perturbed predicted: 2 \t Actual:7\n",
            "Index: 168 \t Original Predicted: 7 Perturbed predicted: 2 \t Actual:7\n",
            "Index: 169 \t Original Predicted: 7 Perturbed predicted: 9 \t Actual:7\n",
            "Index: 170 \t Original Predicted: 7 Perturbed predicted: 9 \t Actual:7\n",
            "Index: 171 \t Original Predicted: 7 Perturbed predicted: 3 \t Actual:7\n",
            "Index: 172 \t Original Predicted: 7 Perturbed predicted: 9 \t Actual:7\n",
            "Index: 173 \t Original Predicted: 7 Perturbed predicted: 3 \t Actual:7\n",
            "Index: 174 \t Original Predicted: 7 Perturbed predicted: 3 \t Actual:7\n",
            "Index: 175 \t Original Predicted: 7 Perturbed predicted: 3 \t Actual:7\n",
            "Index: 176 \t Original Predicted: 7 Perturbed predicted: 3 \t Actual:7\n",
            "Index: 177 \t Original Predicted: 7 Perturbed predicted: 9 \t Actual:7\n",
            "Index: 178 \t Original Predicted: 7 Perturbed predicted: 5 \t Actual:7\n",
            "Index: 179 \t Original Predicted: 7 Perturbed predicted: 3 \t Actual:7\n",
            "Index: 180 \t Original Predicted: 7 Perturbed predicted: 3 \t Actual:7\n",
            "Index: 181 \t Original Predicted: 7 Perturbed predicted: 3 \t Actual:7\n",
            "Index: 182 \t Original Predicted: 7 Perturbed predicted: 9 \t Actual:7\n",
            "Index: 183 \t Original Predicted: 7 Perturbed predicted: 2 \t Actual:7\n",
            "Index: 184 \t Original Predicted: 7 Perturbed predicted: 9 \t Actual:7\n",
            "Index: 185 \t Original Predicted: 7 Perturbed predicted: 9 \t Actual:7\n",
            "Index: 186 \t Original Predicted: 7 Perturbed predicted: 9 \t Actual:7\n",
            "Index: 187 \t Original Predicted: 7 Perturbed predicted: 9 \t Actual:7\n",
            "Index: 188 \t Original Predicted: 7 Perturbed predicted: 3 \t Actual:7\n",
            "Index: 189 \t Original Predicted: 7 Perturbed predicted: 3 \t Actual:7\n",
            "Index: 190 \t Original Predicted: 7 Perturbed predicted: 2 \t Actual:7\n",
            "Index: 191 \t Original Predicted: 7 Perturbed predicted: 9 \t Actual:7\n",
            "Index: 192 \t Original Predicted: 7 Perturbed predicted: 3 \t Actual:7\n",
            "Index: 193 \t Original Predicted: 7 Perturbed predicted: 3 \t Actual:7\n",
            "Index: 194 \t Original Predicted: 7 Perturbed predicted: 9 \t Actual:7\n",
            "Index: 195 \t Original Predicted: 7 Perturbed predicted: 3 \t Actual:7\n",
            "Index: 196 \t Original Predicted: 7 Perturbed predicted: 9 \t Actual:7\n",
            "Index: 197 \t Original Predicted: 7 Perturbed predicted: 9 \t Actual:7\n",
            "Index: 198 \t Original Predicted: 7 Perturbed predicted: 8 \t Actual:7\n",
            "Index: 199 \t Original Predicted: 7 Perturbed predicted: 9 \t Actual:7\n",
            "Index: 200 \t Original Predicted: 7 Perturbed predicted: 3 \t Actual:7\n",
            "Index: 201 \t Original Predicted: 7 Perturbed predicted: 3 \t Actual:7\n",
            "Index: 202 \t Original Predicted: 7 Perturbed predicted: 0 \t Actual:7\n",
            "Index: 203 \t Original Predicted: 7 Perturbed predicted: 9 \t Actual:7\n",
            "Index: 204 \t Original Predicted: 7 Perturbed predicted: 3 \t Actual:7\n",
            "Index: 205 \t Original Predicted: 7 Perturbed predicted: 9 \t Actual:7\n",
            "Index: 206 \t Original Predicted: 7 Perturbed predicted: 3 \t Actual:7\n",
            "Index: 207 \t Original Predicted: 7 Perturbed predicted: 9 \t Actual:7\n",
            "Index: 208 \t Original Predicted: 7 Perturbed predicted: 2 \t Actual:7\n",
            "Index: 209 \t Original Predicted: 7 Perturbed predicted: 9 \t Actual:7\n",
            "Index: 210 \t Original Predicted: 7 Perturbed predicted: 9 \t Actual:7\n",
            "Index: 211 \t Original Predicted: 7 Perturbed predicted: 9 \t Actual:7\n",
            "Index: 212 \t Original Predicted: 7 Perturbed predicted: 9 \t Actual:7\n",
            "Index: 213 \t Original Predicted: 7 Perturbed predicted: 2 \t Actual:7\n",
            "Index: 214 \t Original Predicted: 7 Perturbed predicted: 3 \t Actual:7\n",
            "Index: 215 \t Original Predicted: 7 Perturbed predicted: 9 \t Actual:7\n",
            "Index: 216 \t Original Predicted: 7 Perturbed predicted: 9 \t Actual:7\n",
            "Index: 217 \t Original Predicted: 7 Perturbed predicted: 5 \t Actual:7\n",
            "Index: 218 \t Original Predicted: 7 Perturbed predicted: 9 \t Actual:7\n",
            "Index: 219 \t Original Predicted: 7 Perturbed predicted: 3 \t Actual:7\n",
            "Index: 220 \t Original Predicted: 7 Perturbed predicted: 5 \t Actual:7\n",
            "Index: 221 \t Original Predicted: 7 Perturbed predicted: 5 \t Actual:7\n",
            "Index: 222 \t Original Predicted: 7 Perturbed predicted: 9 \t Actual:7\n",
            "Index: 223 \t Original Predicted: 7 Perturbed predicted: 9 \t Actual:7\n",
            "Index: 224 \t Original Predicted: 7 Perturbed predicted: 9 \t Actual:7\n",
            "Index: 225 \t Original Predicted: 7 Perturbed predicted: 2 \t Actual:7\n",
            "Index: 226 \t Original Predicted: 7 Perturbed predicted: 3 \t Actual:7\n",
            "Index: 227 \t Original Predicted: 7 Perturbed predicted: 9 \t Actual:7\n",
            "Index: 228 \t Original Predicted: 7 Perturbed predicted: 9 \t Actual:7\n",
            "Index: 229 \t Original Predicted: 7 Perturbed predicted: 3 \t Actual:7\n",
            "Index: 230 \t Original Predicted: 7 Perturbed predicted: 3 \t Actual:7\n",
            "Index: 231 \t Original Predicted: 7 Perturbed predicted: 9 \t Actual:7\n",
            "Index: 232 \t Original Predicted: 7 Perturbed predicted: 9 \t Actual:7\n",
            "Index: 233 \t Original Predicted: 7 Perturbed predicted: 9 \t Actual:7\n",
            "Index: 234 \t Original Predicted: 7 Perturbed predicted: 9 \t Actual:7\n",
            "Index: 235 \t Original Predicted: 7 Perturbed predicted: 3 \t Actual:7\n",
            "Index: 236 \t Original Predicted: 7 Perturbed predicted: 9 \t Actual:7\n",
            "Index: 237 \t Original Predicted: 7 Perturbed predicted: 2 \t Actual:7\n",
            "Index: 238 \t Original Predicted: 7 Perturbed predicted: 9 \t Actual:7\n",
            "Index: 239 \t Original Predicted: 7 Perturbed predicted: 3 \t Actual:7\n",
            "Index: 240 \t Original Predicted: 7 Perturbed predicted: 5 \t Actual:7\n",
            "Index: 241 \t Original Predicted: 7 Perturbed predicted: 3 \t Actual:7\n",
            "Index: 242 \t Original Predicted: 7 Perturbed predicted: 1 \t Actual:7\n",
            "Index: 243 \t Original Predicted: 7 Perturbed predicted: 9 \t Actual:7\n",
            "Index: 244 \t Original Predicted: 7 Perturbed predicted: 2 \t Actual:7\n",
            "Index: 245 \t Original Predicted: 7 Perturbed predicted: 9 \t Actual:7\n",
            "Index: 246 \t Original Predicted: 7 Perturbed predicted: 3 \t Actual:7\n",
            "Index: 247 \t Original Predicted: 7 Perturbed predicted: 3 \t Actual:7\n",
            "Index: 248 \t Original Predicted: 7 Perturbed predicted: 3 \t Actual:7\n",
            "Index: 249 \t Original Predicted: 7 Perturbed predicted: 9 \t Actual:7\n",
            "Index: 250 \t Original Predicted: 7 Perturbed predicted: 3 \t Actual:7\n",
            "Index: 251 \t Original Predicted: 7 Perturbed predicted: 0 \t Actual:7\n",
            "Index: 252 \t Original Predicted: 7 Perturbed predicted: 3 \t Actual:7\n",
            "Index: 253 \t Original Predicted: 7 Perturbed predicted: 2 \t Actual:7\n",
            "Index: 254 \t Original Predicted: 7 Perturbed predicted: 8 \t Actual:7\n",
            "Index: 255 \t Original Predicted: 7 Perturbed predicted: 4 \t Actual:7\n",
            "Index: 256 \t Original Predicted: 7 Perturbed predicted: 9 \t Actual:7\n",
            "Index: 257 \t Original Predicted: 7 Perturbed predicted: 9 \t Actual:7\n",
            "Index: 258 \t Original Predicted: 7 Perturbed predicted: 9 \t Actual:7\n",
            "Index: 259 \t Original Predicted: 7 Perturbed predicted: 9 \t Actual:7\n",
            "Index: 260 \t Original Predicted: 7 Perturbed predicted: 3 \t Actual:7\n",
            "Index: 261 \t Original Predicted: 7 Perturbed predicted: 9 \t Actual:7\n",
            "Index: 262 \t Original Predicted: 7 Perturbed predicted: 3 \t Actual:7\n",
            "Index: 263 \t Original Predicted: 7 Perturbed predicted: 2 \t Actual:7\n",
            "Index: 264 \t Original Predicted: 7 Perturbed predicted: 9 \t Actual:7\n",
            "Index: 265 \t Original Predicted: 7 Perturbed predicted: 3 \t Actual:7\n",
            "Index: 266 \t Original Predicted: 7 Perturbed predicted: 3 \t Actual:7\n",
            "Index: 267 \t Original Predicted: 7 Perturbed predicted: 3 \t Actual:7\n",
            "Index: 268 \t Original Predicted: 7 Perturbed predicted: 4 \t Actual:7\n",
            "Index: 269 \t Original Predicted: 7 Perturbed predicted: 3 \t Actual:7\n",
            "Index: 270 \t Original Predicted: 7 Perturbed predicted: 9 \t Actual:7\n",
            "Index: 271 \t Original Predicted: 7 Perturbed predicted: 3 \t Actual:7\n",
            "Index: 272 \t Original Predicted: 7 Perturbed predicted: 1 \t Actual:7\n",
            "Index: 273 \t Original Predicted: 7 Perturbed predicted: 9 \t Actual:7\n",
            "Index: 274 \t Original Predicted: 7 Perturbed predicted: 5 \t Actual:7\n",
            "Index: 275 \t Original Predicted: 7 Perturbed predicted: 9 \t Actual:7\n",
            "Index: 276 \t Original Predicted: 7 Perturbed predicted: 9 \t Actual:7\n",
            "Index: 277 \t Original Predicted: 7 Perturbed predicted: 3 \t Actual:7\n",
            "Index: 278 \t Original Predicted: 7 Perturbed predicted: 9 \t Actual:7\n",
            "Index: 279 \t Original Predicted: 7 Perturbed predicted: 3 \t Actual:7\n",
            "Index: 280 \t Original Predicted: 7 Perturbed predicted: 9 \t Actual:7\n",
            "Index: 281 \t Original Predicted: 7 Perturbed predicted: 2 \t Actual:7\n",
            "Index: 282 \t Original Predicted: 7 Perturbed predicted: 5 \t Actual:7\n",
            "Index: 283 \t Original Predicted: 7 Perturbed predicted: 9 \t Actual:7\n",
            "Index: 284 \t Original Predicted: 7 Perturbed predicted: 4 \t Actual:7\n",
            "Index: 285 \t Original Predicted: 7 Perturbed predicted: 9 \t Actual:7\n",
            "Index: 286 \t Original Predicted: 7 Perturbed predicted: 9 \t Actual:7\n",
            "Index: 287 \t Original Predicted: 7 Perturbed predicted: 3 \t Actual:7\n",
            "Index: 288 \t Original Predicted: 7 Perturbed predicted: 1 \t Actual:7\n",
            "Index: 289 \t Original Predicted: 7 Perturbed predicted: 9 \t Actual:7\n",
            "Index: 290 \t Original Predicted: 7 Perturbed predicted: 9 \t Actual:7\n",
            "Index: 291 \t Original Predicted: 7 Perturbed predicted: 9 \t Actual:7\n",
            "Index: 292 \t Original Predicted: 7 Perturbed predicted: 9 \t Actual:7\n",
            "Index: 293 \t Original Predicted: 7 Perturbed predicted: 3 \t Actual:7\n",
            "Index: 294 \t Original Predicted: 7 Perturbed predicted: 5 \t Actual:7\n",
            "Index: 295 \t Original Predicted: 7 Perturbed predicted: 2 \t Actual:7\n",
            "Index: 296 \t Original Predicted: 7 Perturbed predicted: 9 \t Actual:7\n",
            "Index: 297 \t Original Predicted: 7 Perturbed predicted: 3 \t Actual:7\n",
            "Index: 298 \t Original Predicted: 7 Perturbed predicted: 9 \t Actual:7\n",
            "Index: 299 \t Original Predicted: 7 Perturbed predicted: 8 \t Actual:7\n",
            "Index: 300 \t Original Predicted: 7 Perturbed predicted: 1 \t Actual:7\n",
            "Index: 301 \t Original Predicted: 7 Perturbed predicted: 9 \t Actual:7\n",
            "Index: 302 \t Original Predicted: 7 Perturbed predicted: 3 \t Actual:7\n",
            "Index: 303 \t Original Predicted: 7 Perturbed predicted: 9 \t Actual:7\n",
            "Index: 304 \t Original Predicted: 7 Perturbed predicted: 9 \t Actual:7\n",
            "Index: 305 \t Original Predicted: 7 Perturbed predicted: 3 \t Actual:7\n",
            "Index: 306 \t Original Predicted: 7 Perturbed predicted: 3 \t Actual:7\n",
            "Index: 307 \t Original Predicted: 7 Perturbed predicted: 9 \t Actual:7\n",
            "Index: 308 \t Original Predicted: 7 Perturbed predicted: 3 \t Actual:7\n",
            "Index: 309 \t Original Predicted: 7 Perturbed predicted: 9 \t Actual:7\n",
            "Index: 310 \t Original Predicted: 7 Perturbed predicted: 3 \t Actual:7\n",
            "Index: 311 \t Original Predicted: 7 Perturbed predicted: 3 \t Actual:7\n",
            "Index: 312 \t Original Predicted: 7 Perturbed predicted: 2 \t Actual:7\n",
            "Index: 313 \t Original Predicted: 7 Perturbed predicted: 3 \t Actual:7\n",
            "Index: 314 \t Original Predicted: 7 Perturbed predicted: 3 \t Actual:7\n",
            "Index: 315 \t Original Predicted: 7 Perturbed predicted: 9 \t Actual:7\n",
            "Index: 316 \t Original Predicted: 7 Perturbed predicted: 3 \t Actual:7\n",
            "Index: 317 \t Original Predicted: 7 Perturbed predicted: 2 \t Actual:7\n",
            "Index: 318 \t Original Predicted: 7 Perturbed predicted: 3 \t Actual:7\n",
            "Index: 319 \t Original Predicted: 7 Perturbed predicted: 9 \t Actual:7\n",
            "Index: 320 \t Original Predicted: 7 Perturbed predicted: 1 \t Actual:7\n",
            "Index: 321 \t Original Predicted: 7 Perturbed predicted: 9 \t Actual:7\n",
            "Index: 322 \t Original Predicted: 7 Perturbed predicted: 3 \t Actual:7\n",
            "Index: 323 \t Original Predicted: 7 Perturbed predicted: 3 \t Actual:7\n",
            "Index: 324 \t Original Predicted: 7 Perturbed predicted: 2 \t Actual:7\n",
            "Index: 325 \t Original Predicted: 7 Perturbed predicted: 9 \t Actual:7\n",
            "Index: 326 \t Original Predicted: 7 Perturbed predicted: 1 \t Actual:7\n",
            "Index: 327 \t Original Predicted: 7 Perturbed predicted: 9 \t Actual:7\n",
            "Index: 328 \t Original Predicted: 7 Perturbed predicted: 3 \t Actual:7\n",
            "Index: 329 \t Original Predicted: 7 Perturbed predicted: 9 \t Actual:7\n",
            "Index: 330 \t Original Predicted: 7 Perturbed predicted: 9 \t Actual:7\n",
            "Index: 331 \t Original Predicted: 7 Perturbed predicted: 3 \t Actual:7\n",
            "Index: 332 \t Original Predicted: 7 Perturbed predicted: 3 \t Actual:7\n",
            "Index: 333 \t Original Predicted: 7 Perturbed predicted: 3 \t Actual:7\n",
            "Index: 334 \t Original Predicted: 7 Perturbed predicted: 9 \t Actual:7\n",
            "Index: 335 \t Original Predicted: 7 Perturbed predicted: 2 \t Actual:7\n",
            "Index: 336 \t Original Predicted: 7 Perturbed predicted: 3 \t Actual:7\n",
            "Index: 337 \t Original Predicted: 7 Perturbed predicted: 9 \t Actual:7\n",
            "Index: 338 \t Original Predicted: 7 Perturbed predicted: 8 \t Actual:7\n",
            "Index: 339 \t Original Predicted: 7 Perturbed predicted: 3 \t Actual:7\n",
            "Index: 340 \t Original Predicted: 7 Perturbed predicted: 3 \t Actual:7\n",
            "Index: 341 \t Original Predicted: 7 Perturbed predicted: 3 \t Actual:7\n",
            "Index: 342 \t Original Predicted: 7 Perturbed predicted: 9 \t Actual:7\n",
            "Index: 343 \t Original Predicted: 7 Perturbed predicted: 3 \t Actual:7\n",
            "Index: 344 \t Original Predicted: 7 Perturbed predicted: 9 \t Actual:7\n",
            "Index: 345 \t Original Predicted: 7 Perturbed predicted: 1 \t Actual:7\n",
            "Index: 346 \t Original Predicted: 7 Perturbed predicted: 9 \t Actual:7\n",
            "Index: 347 \t Original Predicted: 7 Perturbed predicted: 3 \t Actual:7\n",
            "Index: 348 \t Original Predicted: 7 Perturbed predicted: 3 \t Actual:7\n",
            "Index: 349 \t Original Predicted: 7 Perturbed predicted: 9 \t Actual:7\n",
            "Index: 350 \t Original Predicted: 7 Perturbed predicted: 3 \t Actual:7\n",
            "Index: 351 \t Original Predicted: 7 Perturbed predicted: 9 \t Actual:7\n",
            "Index: 352 \t Original Predicted: 7 Perturbed predicted: 3 \t Actual:7\n",
            "Index: 353 \t Original Predicted: 7 Perturbed predicted: 9 \t Actual:7\n",
            "Index: 354 \t Original Predicted: 7 Perturbed predicted: 9 \t Actual:7\n",
            "Index: 355 \t Original Predicted: 7 Perturbed predicted: 0 \t Actual:7\n",
            "Index: 356 \t Original Predicted: 7 Perturbed predicted: 9 \t Actual:7\n",
            "Index: 357 \t Original Predicted: 7 Perturbed predicted: 9 \t Actual:7\n",
            "Index: 358 \t Original Predicted: 7 Perturbed predicted: 3 \t Actual:7\n",
            "Index: 359 \t Original Predicted: 7 Perturbed predicted: 3 \t Actual:7\n",
            "Index: 360 \t Original Predicted: 7 Perturbed predicted: 9 \t Actual:7\n",
            "Index: 361 \t Original Predicted: 7 Perturbed predicted: 9 \t Actual:7\n",
            "Index: 362 \t Original Predicted: 7 Perturbed predicted: 3 \t Actual:7\n",
            "Index: 363 \t Original Predicted: 7 Perturbed predicted: 9 \t Actual:7\n",
            "Index: 364 \t Original Predicted: 7 Perturbed predicted: 9 \t Actual:7\n",
            "Index: 365 \t Original Predicted: 7 Perturbed predicted: 9 \t Actual:7\n",
            "Index: 366 \t Original Predicted: 7 Perturbed predicted: 3 \t Actual:7\n",
            "Index: 367 \t Original Predicted: 7 Perturbed predicted: 2 \t Actual:7\n",
            "Index: 368 \t Original Predicted: 7 Perturbed predicted: 3 \t Actual:7\n",
            "Index: 369 \t Original Predicted: 7 Perturbed predicted: 3 \t Actual:7\n",
            "Index: 370 \t Original Predicted: 7 Perturbed predicted: 9 \t Actual:7\n",
            "Index: 371 \t Original Predicted: 7 Perturbed predicted: 1 \t Actual:7\n",
            "Index: 372 \t Original Predicted: 7 Perturbed predicted: 3 \t Actual:7\n",
            "Index: 373 \t Original Predicted: 7 Perturbed predicted: 9 \t Actual:7\n",
            "Index: 374 \t Original Predicted: 7 Perturbed predicted: 9 \t Actual:7\n",
            "Index: 375 \t Original Predicted: 7 Perturbed predicted: 3 \t Actual:7\n",
            "Index: 376 \t Original Predicted: 7 Perturbed predicted: 1 \t Actual:7\n",
            "Index: 377 \t Original Predicted: 7 Perturbed predicted: 3 \t Actual:7\n",
            "Index: 378 \t Original Predicted: 7 Perturbed predicted: 3 \t Actual:7\n",
            "Index: 379 \t Original Predicted: 7 Perturbed predicted: 5 \t Actual:7\n",
            "Index: 380 \t Original Predicted: 7 Perturbed predicted: 4 \t Actual:7\n",
            "Index: 381 \t Original Predicted: 7 Perturbed predicted: 3 \t Actual:7\n",
            "Index: 382 \t Original Predicted: 7 Perturbed predicted: 9 \t Actual:7\n",
            "Index: 383 \t Original Predicted: 7 Perturbed predicted: 9 \t Actual:7\n",
            "Index: 384 \t Original Predicted: 7 Perturbed predicted: 3 \t Actual:7\n",
            "Index: 385 \t Original Predicted: 7 Perturbed predicted: 3 \t Actual:7\n",
            "Index: 386 \t Original Predicted: 7 Perturbed predicted: 2 \t Actual:7\n",
            "Index: 387 \t Original Predicted: 7 Perturbed predicted: 3 \t Actual:7\n",
            "Index: 388 \t Original Predicted: 7 Perturbed predicted: 9 \t Actual:7\n",
            "Index: 389 \t Original Predicted: 7 Perturbed predicted: 2 \t Actual:7\n",
            "Index: 390 \t Original Predicted: 7 Perturbed predicted: 2 \t Actual:7\n",
            "Index: 391 \t Original Predicted: 7 Perturbed predicted: 9 \t Actual:7\n",
            "Index: 392 \t Original Predicted: 7 Perturbed predicted: 9 \t Actual:7\n",
            "Index: 393 \t Original Predicted: 7 Perturbed predicted: 9 \t Actual:7\n",
            "Index: 394 \t Original Predicted: 7 Perturbed predicted: 9 \t Actual:7\n",
            "Index: 395 \t Original Predicted: 7 Perturbed predicted: 3 \t Actual:7\n",
            "Index: 396 \t Original Predicted: 7 Perturbed predicted: 9 \t Actual:7\n",
            "Index: 397 \t Original Predicted: 7 Perturbed predicted: 3 \t Actual:7\n",
            "Index: 398 \t Original Predicted: 7 Perturbed predicted: 9 \t Actual:7\n",
            "Index: 399 \t Original Predicted: 7 Perturbed predicted: 3 \t Actual:7\n",
            "Index: 400 \t Original Predicted: 7 Perturbed predicted: 3 \t Actual:7\n",
            "Index: 401 \t Original Predicted: 7 Perturbed predicted: 9 \t Actual:7\n",
            "Index: 402 \t Original Predicted: 7 Perturbed predicted: 3 \t Actual:7\n",
            "Index: 403 \t Original Predicted: 7 Perturbed predicted: 2 \t Actual:7\n",
            "Index: 404 \t Original Predicted: 7 Perturbed predicted: 9 \t Actual:7\n",
            "Index: 405 \t Original Predicted: 7 Perturbed predicted: 3 \t Actual:7\n",
            "Index: 406 \t Original Predicted: 7 Perturbed predicted: 3 \t Actual:7\n",
            "Index: 407 \t Original Predicted: 7 Perturbed predicted: 9 \t Actual:7\n",
            "Index: 408 \t Original Predicted: 7 Perturbed predicted: 3 \t Actual:7\n",
            "Index: 409 \t Original Predicted: 7 Perturbed predicted: 3 \t Actual:7\n",
            "Index: 410 \t Original Predicted: 7 Perturbed predicted: 5 \t Actual:7\n",
            "Index: 411 \t Original Predicted: 7 Perturbed predicted: 1 \t Actual:7\n",
            "Index: 412 \t Original Predicted: 7 Perturbed predicted: 9 \t Actual:7\n",
            "Index: 413 \t Original Predicted: 7 Perturbed predicted: 5 \t Actual:7\n",
            "Index: 414 \t Original Predicted: 1 Perturbed predicted: 1 \t Actual:7\n",
            "Index: 415 \t Original Predicted: 7 Perturbed predicted: 9 \t Actual:7\n",
            "Index: 416 \t Original Predicted: 7 Perturbed predicted: 9 \t Actual:7\n",
            "Index: 417 \t Original Predicted: 7 Perturbed predicted: 9 \t Actual:7\n",
            "Index: 418 \t Original Predicted: 7 Perturbed predicted: 9 \t Actual:7\n",
            "Index: 419 \t Original Predicted: 7 Perturbed predicted: 3 \t Actual:7\n",
            "Index: 420 \t Original Predicted: 7 Perturbed predicted: 9 \t Actual:7\n",
            "Index: 421 \t Original Predicted: 7 Perturbed predicted: 3 \t Actual:7\n",
            "Index: 422 \t Original Predicted: 7 Perturbed predicted: 9 \t Actual:7\n",
            "Index: 423 \t Original Predicted: 7 Perturbed predicted: 5 \t Actual:7\n",
            "Index: 424 \t Original Predicted: 7 Perturbed predicted: 0 \t Actual:7\n",
            "Index: 425 \t Original Predicted: 7 Perturbed predicted: 3 \t Actual:7\n",
            "Index: 426 \t Original Predicted: 7 Perturbed predicted: 2 \t Actual:7\n",
            "Index: 427 \t Original Predicted: 7 Perturbed predicted: 9 \t Actual:7\n",
            "Index: 428 \t Original Predicted: 7 Perturbed predicted: 2 \t Actual:7\n",
            "Index: 429 \t Original Predicted: 7 Perturbed predicted: 2 \t Actual:7\n",
            "Index: 430 \t Original Predicted: 7 Perturbed predicted: 9 \t Actual:7\n",
            "Index: 431 \t Original Predicted: 7 Perturbed predicted: 9 \t Actual:7\n",
            "Index: 432 \t Original Predicted: 7 Perturbed predicted: 3 \t Actual:7\n",
            "Index: 433 \t Original Predicted: 7 Perturbed predicted: 0 \t Actual:7\n",
            "Index: 434 \t Original Predicted: 7 Perturbed predicted: 9 \t Actual:7\n",
            "Index: 435 \t Original Predicted: 7 Perturbed predicted: 3 \t Actual:7\n",
            "Index: 436 \t Original Predicted: 7 Perturbed predicted: 9 \t Actual:7\n",
            "Index: 437 \t Original Predicted: 7 Perturbed predicted: 2 \t Actual:7\n",
            "Index: 438 \t Original Predicted: 7 Perturbed predicted: 9 \t Actual:7\n",
            "Index: 439 \t Original Predicted: 7 Perturbed predicted: 1 \t Actual:7\n",
            "Index: 440 \t Original Predicted: 7 Perturbed predicted: 9 \t Actual:7\n",
            "Index: 441 \t Original Predicted: 7 Perturbed predicted: 3 \t Actual:7\n",
            "Index: 442 \t Original Predicted: 7 Perturbed predicted: 9 \t Actual:7\n",
            "Index: 443 \t Original Predicted: 7 Perturbed predicted: 3 \t Actual:7\n",
            "Index: 444 \t Original Predicted: 7 Perturbed predicted: 9 \t Actual:7\n",
            "Index: 445 \t Original Predicted: 7 Perturbed predicted: 9 \t Actual:7\n",
            "Index: 446 \t Original Predicted: 7 Perturbed predicted: 3 \t Actual:7\n",
            "Index: 447 \t Original Predicted: 7 Perturbed predicted: 9 \t Actual:7\n",
            "Index: 448 \t Original Predicted: 7 Perturbed predicted: 3 \t Actual:7\n",
            "Index: 449 \t Original Predicted: 7 Perturbed predicted: 3 \t Actual:7\n",
            "Index: 450 \t Original Predicted: 7 Perturbed predicted: 2 \t Actual:7\n",
            "Index: 451 \t Original Predicted: 7 Perturbed predicted: 9 \t Actual:7\n",
            "Index: 452 \t Original Predicted: 7 Perturbed predicted: 9 \t Actual:7\n",
            "Index: 453 \t Original Predicted: 7 Perturbed predicted: 9 \t Actual:7\n",
            "Index: 454 \t Original Predicted: 7 Perturbed predicted: 3 \t Actual:7\n",
            "Index: 455 \t Original Predicted: 7 Perturbed predicted: 9 \t Actual:7\n",
            "Index: 456 \t Original Predicted: 7 Perturbed predicted: 3 \t Actual:7\n",
            "Index: 457 \t Original Predicted: 7 Perturbed predicted: 9 \t Actual:7\n",
            "Index: 458 \t Original Predicted: 7 Perturbed predicted: 3 \t Actual:7\n",
            "Index: 459 \t Original Predicted: 7 Perturbed predicted: 9 \t Actual:7\n",
            "Index: 460 \t Original Predicted: 7 Perturbed predicted: 9 \t Actual:7\n",
            "Index: 461 \t Original Predicted: 7 Perturbed predicted: 3 \t Actual:7\n",
            "Index: 462 \t Original Predicted: 7 Perturbed predicted: 2 \t Actual:7\n",
            "Index: 463 \t Original Predicted: 7 Perturbed predicted: 3 \t Actual:7\n",
            "Index: 464 \t Original Predicted: 7 Perturbed predicted: 3 \t Actual:7\n",
            "Index: 465 \t Original Predicted: 7 Perturbed predicted: 3 \t Actual:7\n",
            "Index: 466 \t Original Predicted: 7 Perturbed predicted: 9 \t Actual:7\n",
            "Index: 467 \t Original Predicted: 7 Perturbed predicted: 9 \t Actual:7\n",
            "Index: 468 \t Original Predicted: 7 Perturbed predicted: 3 \t Actual:7\n",
            "Index: 469 \t Original Predicted: 7 Perturbed predicted: 9 \t Actual:7\n",
            "Index: 470 \t Original Predicted: 7 Perturbed predicted: 9 \t Actual:7\n",
            "Index: 471 \t Original Predicted: 7 Perturbed predicted: 4 \t Actual:7\n",
            "Index: 472 \t Original Predicted: 7 Perturbed predicted: 3 \t Actual:7\n",
            "Index: 473 \t Original Predicted: 7 Perturbed predicted: 2 \t Actual:7\n",
            "Index: 474 \t Original Predicted: 7 Perturbed predicted: 8 \t Actual:7\n",
            "Index: 475 \t Original Predicted: 7 Perturbed predicted: 9 \t Actual:7\n",
            "Index: 476 \t Original Predicted: 7 Perturbed predicted: 9 \t Actual:7\n",
            "Index: 477 \t Original Predicted: 7 Perturbed predicted: 9 \t Actual:7\n",
            "Index: 478 \t Original Predicted: 7 Perturbed predicted: 9 \t Actual:7\n",
            "Index: 479 \t Original Predicted: 7 Perturbed predicted: 2 \t Actual:7\n",
            "Index: 480 \t Original Predicted: 7 Perturbed predicted: 2 \t Actual:7\n",
            "Index: 481 \t Original Predicted: 7 Perturbed predicted: 3 \t Actual:7\n",
            "Index: 482 \t Original Predicted: 7 Perturbed predicted: 3 \t Actual:7\n",
            "Index: 483 \t Original Predicted: 7 Perturbed predicted: 9 \t Actual:7\n",
            "Index: 484 \t Original Predicted: 7 Perturbed predicted: 3 \t Actual:7\n",
            "Index: 485 \t Original Predicted: 7 Perturbed predicted: 9 \t Actual:7\n",
            "Index: 486 \t Original Predicted: 7 Perturbed predicted: 3 \t Actual:7\n",
            "Index: 487 \t Original Predicted: 7 Perturbed predicted: 3 \t Actual:7\n",
            "Index: 488 \t Original Predicted: 7 Perturbed predicted: 9 \t Actual:7\n",
            "Index: 489 \t Original Predicted: 7 Perturbed predicted: 9 \t Actual:7\n",
            "Index: 490 \t Original Predicted: 7 Perturbed predicted: 9 \t Actual:7\n",
            "Index: 491 \t Original Predicted: 7 Perturbed predicted: 2 \t Actual:7\n",
            "Index: 492 \t Original Predicted: 7 Perturbed predicted: 9 \t Actual:7\n",
            "Index: 493 \t Original Predicted: 7 Perturbed predicted: 3 \t Actual:7\n",
            "Index: 494 \t Original Predicted: 7 Perturbed predicted: 3 \t Actual:7\n",
            "Index: 495 \t Original Predicted: 7 Perturbed predicted: 1 \t Actual:7\n",
            "Index: 496 \t Original Predicted: 7 Perturbed predicted: 3 \t Actual:7\n",
            "Index: 497 \t Original Predicted: 7 Perturbed predicted: 9 \t Actual:7\n",
            "Index: 498 \t Original Predicted: 7 Perturbed predicted: 3 \t Actual:7\n",
            "Index: 499 \t Original Predicted: 7 Perturbed predicted: 3 \t Actual:7\n",
            "Index: 500 \t Original Predicted: 7 Perturbed predicted: 9 \t Actual:7\n",
            "Index: 501 \t Original Predicted: 7 Perturbed predicted: 9 \t Actual:7\n",
            "Index: 502 \t Original Predicted: 7 Perturbed predicted: 9 \t Actual:7\n",
            "Index: 503 \t Original Predicted: 7 Perturbed predicted: 3 \t Actual:7\n",
            "Index: 504 \t Original Predicted: 7 Perturbed predicted: 3 \t Actual:7\n",
            "Index: 505 \t Original Predicted: 7 Perturbed predicted: 3 \t Actual:7\n",
            "Index: 506 \t Original Predicted: 7 Perturbed predicted: 9 \t Actual:7\n",
            "Index: 507 \t Original Predicted: 7 Perturbed predicted: 9 \t Actual:7\n",
            "Index: 508 \t Original Predicted: 7 Perturbed predicted: 9 \t Actual:7\n",
            "Index: 509 \t Original Predicted: 7 Perturbed predicted: 3 \t Actual:7\n",
            "Index: 510 \t Original Predicted: 7 Perturbed predicted: 3 \t Actual:7\n",
            "Index: 511 \t Original Predicted: 7 Perturbed predicted: 1 \t Actual:7\n",
            "Index: 512 \t Original Predicted: 7 Perturbed predicted: 3 \t Actual:7\n",
            "Index: 513 \t Original Predicted: 7 Perturbed predicted: 3 \t Actual:7\n",
            "Index: 514 \t Original Predicted: 7 Perturbed predicted: 3 \t Actual:7\n",
            "Index: 515 \t Original Predicted: 7 Perturbed predicted: 9 \t Actual:7\n",
            "Index: 516 \t Original Predicted: 7 Perturbed predicted: 9 \t Actual:7\n",
            "Index: 517 \t Original Predicted: 7 Perturbed predicted: 3 \t Actual:7\n",
            "Index: 518 \t Original Predicted: 7 Perturbed predicted: 9 \t Actual:7\n",
            "Index: 519 \t Original Predicted: 7 Perturbed predicted: 2 \t Actual:7\n",
            "Index: 520 \t Original Predicted: 7 Perturbed predicted: 3 \t Actual:7\n",
            "Index: 521 \t Original Predicted: 7 Perturbed predicted: 4 \t Actual:7\n",
            "Index: 522 \t Original Predicted: 7 Perturbed predicted: 9 \t Actual:7\n",
            "Index: 523 \t Original Predicted: 7 Perturbed predicted: 9 \t Actual:7\n",
            "Index: 524 \t Original Predicted: 7 Perturbed predicted: 2 \t Actual:7\n",
            "Index: 525 \t Original Predicted: 7 Perturbed predicted: 3 \t Actual:7\n",
            "Index: 526 \t Original Predicted: 7 Perturbed predicted: 3 \t Actual:7\n",
            "Index: 527 \t Original Predicted: 7 Perturbed predicted: 9 \t Actual:7\n",
            "Index: 528 \t Original Predicted: 7 Perturbed predicted: 2 \t Actual:7\n",
            "Index: 529 \t Original Predicted: 7 Perturbed predicted: 3 \t Actual:7\n",
            "Index: 530 \t Original Predicted: 7 Perturbed predicted: 3 \t Actual:7\n",
            "Index: 531 \t Original Predicted: 7 Perturbed predicted: 9 \t Actual:7\n",
            "Index: 532 \t Original Predicted: 7 Perturbed predicted: 9 \t Actual:7\n",
            "Index: 533 \t Original Predicted: 7 Perturbed predicted: 9 \t Actual:7\n",
            "Index: 534 \t Original Predicted: 7 Perturbed predicted: 9 \t Actual:7\n",
            "Index: 535 \t Original Predicted: 7 Perturbed predicted: 2 \t Actual:7\n",
            "Index: 536 \t Original Predicted: 7 Perturbed predicted: 3 \t Actual:7\n",
            "Index: 537 \t Original Predicted: 7 Perturbed predicted: 9 \t Actual:7\n",
            "Index: 538 \t Original Predicted: 7 Perturbed predicted: 3 \t Actual:7\n",
            "Index: 539 \t Original Predicted: 7 Perturbed predicted: 4 \t Actual:7\n",
            "Index: 540 \t Original Predicted: 7 Perturbed predicted: 9 \t Actual:7\n",
            "Index: 541 \t Original Predicted: 7 Perturbed predicted: 3 \t Actual:7\n",
            "Index: 542 \t Original Predicted: 7 Perturbed predicted: 9 \t Actual:7\n",
            "Index: 543 \t Original Predicted: 7 Perturbed predicted: 3 \t Actual:7\n",
            "Index: 544 \t Original Predicted: 7 Perturbed predicted: 3 \t Actual:7\n",
            "Index: 545 \t Original Predicted: 7 Perturbed predicted: 5 \t Actual:7\n",
            "Index: 546 \t Original Predicted: 7 Perturbed predicted: 3 \t Actual:7\n",
            "Index: 547 \t Original Predicted: 7 Perturbed predicted: 3 \t Actual:7\n",
            "Index: 548 \t Original Predicted: 7 Perturbed predicted: 1 \t Actual:7\n",
            "Index: 549 \t Original Predicted: 7 Perturbed predicted: 3 \t Actual:7\n",
            "Index: 550 \t Original Predicted: 7 Perturbed predicted: 3 \t Actual:7\n",
            "Index: 551 \t Original Predicted: 7 Perturbed predicted: 3 \t Actual:7\n",
            "Index: 552 \t Original Predicted: 7 Perturbed predicted: 2 \t Actual:7\n",
            "Index: 553 \t Original Predicted: 7 Perturbed predicted: 5 \t Actual:7\n",
            "Index: 554 \t Original Predicted: 7 Perturbed predicted: 9 \t Actual:7\n",
            "Index: 555 \t Original Predicted: 7 Perturbed predicted: 3 \t Actual:7\n",
            "Index: 556 \t Original Predicted: 7 Perturbed predicted: 9 \t Actual:7\n",
            "Index: 557 \t Original Predicted: 7 Perturbed predicted: 9 \t Actual:7\n",
            "Index: 558 \t Original Predicted: 7 Perturbed predicted: 9 \t Actual:7\n",
            "Index: 559 \t Original Predicted: 7 Perturbed predicted: 9 \t Actual:7\n",
            "Index: 560 \t Original Predicted: 7 Perturbed predicted: 3 \t Actual:7\n",
            "Index: 561 \t Original Predicted: 7 Perturbed predicted: 9 \t Actual:7\n",
            "Index: 562 \t Original Predicted: 7 Perturbed predicted: 9 \t Actual:7\n",
            "Index: 563 \t Original Predicted: 7 Perturbed predicted: 9 \t Actual:7\n",
            "Index: 564 \t Original Predicted: 7 Perturbed predicted: 3 \t Actual:7\n",
            "Index: 565 \t Original Predicted: 7 Perturbed predicted: 3 \t Actual:7\n",
            "Index: 566 \t Original Predicted: 7 Perturbed predicted: 3 \t Actual:7\n",
            "Index: 567 \t Original Predicted: 7 Perturbed predicted: 3 \t Actual:7\n",
            "Index: 568 \t Original Predicted: 7 Perturbed predicted: 3 \t Actual:7\n",
            "Index: 569 \t Original Predicted: 7 Perturbed predicted: 0 \t Actual:7\n",
            "Index: 570 \t Original Predicted: 7 Perturbed predicted: 8 \t Actual:7\n",
            "Index: 571 \t Original Predicted: 7 Perturbed predicted: 3 \t Actual:7\n",
            "Index: 572 \t Original Predicted: 7 Perturbed predicted: 3 \t Actual:7\n",
            "Index: 573 \t Original Predicted: 7 Perturbed predicted: 9 \t Actual:7\n",
            "Index: 574 \t Original Predicted: 7 Perturbed predicted: 9 \t Actual:7\n",
            "Index: 575 \t Original Predicted: 7 Perturbed predicted: 9 \t Actual:7\n",
            "Index: 576 \t Original Predicted: 7 Perturbed predicted: 9 \t Actual:7\n",
            "Index: 577 \t Original Predicted: 7 Perturbed predicted: 2 \t Actual:7\n",
            "Index: 578 \t Original Predicted: 7 Perturbed predicted: 3 \t Actual:7\n",
            "Index: 579 \t Original Predicted: 7 Perturbed predicted: 3 \t Actual:7\n",
            "Index: 580 \t Original Predicted: 7 Perturbed predicted: 4 \t Actual:7\n",
            "Index: 581 \t Original Predicted: 7 Perturbed predicted: 3 \t Actual:7\n",
            "Index: 582 \t Original Predicted: 7 Perturbed predicted: 9 \t Actual:7\n",
            "Index: 583 \t Original Predicted: 7 Perturbed predicted: 4 \t Actual:7\n",
            "Index: 584 \t Original Predicted: 7 Perturbed predicted: 9 \t Actual:7\n",
            "Index: 585 \t Original Predicted: 1 Perturbed predicted: 5 \t Actual:7\n",
            "Index: 586 \t Original Predicted: 7 Perturbed predicted: 9 \t Actual:7\n",
            "Index: 587 \t Original Predicted: 7 Perturbed predicted: 9 \t Actual:7\n",
            "Index: 588 \t Original Predicted: 7 Perturbed predicted: 1 \t Actual:7\n",
            "Index: 589 \t Original Predicted: 7 Perturbed predicted: 9 \t Actual:7\n",
            "Index: 590 \t Original Predicted: 7 Perturbed predicted: 9 \t Actual:7\n",
            "Index: 591 \t Original Predicted: 7 Perturbed predicted: 9 \t Actual:7\n",
            "Index: 592 \t Original Predicted: 7 Perturbed predicted: 3 \t Actual:7\n",
            "Index: 593 \t Original Predicted: 7 Perturbed predicted: 3 \t Actual:7\n",
            "Index: 594 \t Original Predicted: 7 Perturbed predicted: 3 \t Actual:7\n",
            "Index: 595 \t Original Predicted: 7 Perturbed predicted: 9 \t Actual:7\n",
            "Index: 596 \t Original Predicted: 7 Perturbed predicted: 9 \t Actual:7\n",
            "Index: 597 \t Original Predicted: 7 Perturbed predicted: 2 \t Actual:7\n",
            "Index: 598 \t Original Predicted: 7 Perturbed predicted: 5 \t Actual:7\n",
            "Index: 599 \t Original Predicted: 7 Perturbed predicted: 9 \t Actual:7\n",
            "Index: 600 \t Original Predicted: 7 Perturbed predicted: 9 \t Actual:7\n",
            "Index: 601 \t Original Predicted: 7 Perturbed predicted: 9 \t Actual:7\n",
            "Index: 602 \t Original Predicted: 7 Perturbed predicted: 3 \t Actual:7\n",
            "Index: 603 \t Original Predicted: 7 Perturbed predicted: 9 \t Actual:7\n",
            "Index: 604 \t Original Predicted: 7 Perturbed predicted: 3 \t Actual:7\n",
            "Index: 605 \t Original Predicted: 7 Perturbed predicted: 3 \t Actual:7\n",
            "Index: 606 \t Original Predicted: 7 Perturbed predicted: 3 \t Actual:7\n",
            "Index: 607 \t Original Predicted: 7 Perturbed predicted: 9 \t Actual:7\n",
            "Index: 608 \t Original Predicted: 7 Perturbed predicted: 9 \t Actual:7\n",
            "Index: 609 \t Original Predicted: 7 Perturbed predicted: 1 \t Actual:7\n",
            "Index: 610 \t Original Predicted: 7 Perturbed predicted: 3 \t Actual:7\n",
            "Index: 611 \t Original Predicted: 7 Perturbed predicted: 3 \t Actual:7\n",
            "Index: 612 \t Original Predicted: 7 Perturbed predicted: 3 \t Actual:7\n",
            "Index: 613 \t Original Predicted: 7 Perturbed predicted: 5 \t Actual:7\n",
            "Index: 614 \t Original Predicted: 7 Perturbed predicted: 2 \t Actual:7\n",
            "Index: 615 \t Original Predicted: 7 Perturbed predicted: 9 \t Actual:7\n",
            "Index: 616 \t Original Predicted: 7 Perturbed predicted: 3 \t Actual:7\n",
            "Index: 617 \t Original Predicted: 7 Perturbed predicted: 3 \t Actual:7\n",
            "Index: 618 \t Original Predicted: 7 Perturbed predicted: 9 \t Actual:7\n",
            "Index: 619 \t Original Predicted: 7 Perturbed predicted: 9 \t Actual:7\n",
            "Index: 620 \t Original Predicted: 7 Perturbed predicted: 9 \t Actual:7\n",
            "Index: 621 \t Original Predicted: 7 Perturbed predicted: 1 \t Actual:7\n",
            "Index: 622 \t Original Predicted: 7 Perturbed predicted: 9 \t Actual:7\n",
            "Index: 623 \t Original Predicted: 7 Perturbed predicted: 9 \t Actual:7\n",
            "Index: 624 \t Original Predicted: 7 Perturbed predicted: 9 \t Actual:7\n",
            "Index: 625 \t Original Predicted: 7 Perturbed predicted: 5 \t Actual:7\n",
            "Index: 626 \t Original Predicted: 7 Perturbed predicted: 5 \t Actual:7\n",
            "Index: 627 \t Original Predicted: 7 Perturbed predicted: 9 \t Actual:7\n",
            "Index: 628 \t Original Predicted: 7 Perturbed predicted: 9 \t Actual:7\n",
            "Index: 629 \t Original Predicted: 7 Perturbed predicted: 9 \t Actual:7\n",
            "Index: 630 \t Original Predicted: 7 Perturbed predicted: 9 \t Actual:7\n",
            "Index: 631 \t Original Predicted: 7 Perturbed predicted: 2 \t Actual:7\n",
            "Index: 632 \t Original Predicted: 7 Perturbed predicted: 2 \t Actual:7\n",
            "Index: 633 \t Original Predicted: 7 Perturbed predicted: 0 \t Actual:7\n",
            "Index: 634 \t Original Predicted: 7 Perturbed predicted: 3 \t Actual:7\n",
            "Index: 635 \t Original Predicted: 7 Perturbed predicted: 8 \t Actual:7\n",
            "Index: 636 \t Original Predicted: 7 Perturbed predicted: 2 \t Actual:7\n",
            "Index: 637 \t Original Predicted: 7 Perturbed predicted: 3 \t Actual:7\n",
            "Index: 638 \t Original Predicted: 7 Perturbed predicted: 2 \t Actual:7\n",
            "Index: 639 \t Original Predicted: 7 Perturbed predicted: 3 \t Actual:7\n",
            "Index: 640 \t Original Predicted: 7 Perturbed predicted: 9 \t Actual:7\n",
            "Index: 641 \t Original Predicted: 7 Perturbed predicted: 2 \t Actual:7\n",
            "Index: 642 \t Original Predicted: 7 Perturbed predicted: 3 \t Actual:7\n",
            "Index: 643 \t Original Predicted: 7 Perturbed predicted: 3 \t Actual:7\n",
            "Index: 644 \t Original Predicted: 7 Perturbed predicted: 9 \t Actual:7\n",
            "Index: 645 \t Original Predicted: 7 Perturbed predicted: 3 \t Actual:7\n",
            "Index: 646 \t Original Predicted: 7 Perturbed predicted: 2 \t Actual:7\n",
            "Index: 647 \t Original Predicted: 7 Perturbed predicted: 3 \t Actual:7\n",
            "Index: 648 \t Original Predicted: 7 Perturbed predicted: 9 \t Actual:7\n",
            "Index: 649 \t Original Predicted: 7 Perturbed predicted: 9 \t Actual:7\n",
            "Index: 650 \t Original Predicted: 7 Perturbed predicted: 3 \t Actual:7\n",
            "Index: 651 \t Original Predicted: 7 Perturbed predicted: 3 \t Actual:7\n",
            "Index: 652 \t Original Predicted: 7 Perturbed predicted: 9 \t Actual:7\n",
            "Index: 653 \t Original Predicted: 7 Perturbed predicted: 3 \t Actual:7\n",
            "Index: 654 \t Original Predicted: 7 Perturbed predicted: 9 \t Actual:7\n",
            "Index: 655 \t Original Predicted: 7 Perturbed predicted: 2 \t Actual:7\n",
            "Index: 656 \t Original Predicted: 7 Perturbed predicted: 8 \t Actual:7\n",
            "Index: 657 \t Original Predicted: 7 Perturbed predicted: 4 \t Actual:7\n",
            "Index: 658 \t Original Predicted: 7 Perturbed predicted: 3 \t Actual:7\n",
            "Index: 659 \t Original Predicted: 7 Perturbed predicted: 3 \t Actual:7\n",
            "Index: 660 \t Original Predicted: 7 Perturbed predicted: 9 \t Actual:7\n",
            "Index: 661 \t Original Predicted: 7 Perturbed predicted: 9 \t Actual:7\n",
            "Index: 662 \t Original Predicted: 7 Perturbed predicted: 9 \t Actual:7\n",
            "Index: 663 \t Original Predicted: 7 Perturbed predicted: 3 \t Actual:7\n",
            "Index: 664 \t Original Predicted: 7 Perturbed predicted: 3 \t Actual:7\n",
            "Index: 665 \t Original Predicted: 7 Perturbed predicted: 9 \t Actual:7\n",
            "Index: 666 \t Original Predicted: 7 Perturbed predicted: 3 \t Actual:7\n",
            "Index: 667 \t Original Predicted: 7 Perturbed predicted: 9 \t Actual:7\n",
            "Index: 668 \t Original Predicted: 7 Perturbed predicted: 8 \t Actual:7\n",
            "Index: 669 \t Original Predicted: 7 Perturbed predicted: 2 \t Actual:7\n",
            "Index: 670 \t Original Predicted: 7 Perturbed predicted: 9 \t Actual:7\n",
            "Index: 671 \t Original Predicted: 7 Perturbed predicted: 2 \t Actual:7\n",
            "Index: 672 \t Original Predicted: 7 Perturbed predicted: 9 \t Actual:7\n",
            "Index: 673 \t Original Predicted: 7 Perturbed predicted: 3 \t Actual:7\n",
            "Index: 674 \t Original Predicted: 7 Perturbed predicted: 9 \t Actual:7\n",
            "Index: 675 \t Original Predicted: 7 Perturbed predicted: 9 \t Actual:7\n",
            "Index: 676 \t Original Predicted: 7 Perturbed predicted: 3 \t Actual:7\n",
            "Index: 677 \t Original Predicted: 7 Perturbed predicted: 3 \t Actual:7\n",
            "Index: 678 \t Original Predicted: 7 Perturbed predicted: 1 \t Actual:7\n",
            "Index: 679 \t Original Predicted: 7 Perturbed predicted: 2 \t Actual:7\n",
            "Index: 680 \t Original Predicted: 7 Perturbed predicted: 5 \t Actual:7\n",
            "Index: 681 \t Original Predicted: 7 Perturbed predicted: 2 \t Actual:7\n",
            "Index: 682 \t Original Predicted: 7 Perturbed predicted: 9 \t Actual:7\n",
            "Index: 683 \t Original Predicted: 7 Perturbed predicted: 9 \t Actual:7\n",
            "Index: 684 \t Original Predicted: 7 Perturbed predicted: 9 \t Actual:7\n",
            "Index: 685 \t Original Predicted: 7 Perturbed predicted: 3 \t Actual:7\n",
            "Index: 686 \t Original Predicted: 7 Perturbed predicted: 3 \t Actual:7\n",
            "Index: 687 \t Original Predicted: 7 Perturbed predicted: 9 \t Actual:7\n",
            "Index: 688 \t Original Predicted: 7 Perturbed predicted: 2 \t Actual:7\n",
            "Index: 689 \t Original Predicted: 7 Perturbed predicted: 3 \t Actual:7\n",
            "Index: 690 \t Original Predicted: 7 Perturbed predicted: 9 \t Actual:7\n",
            "Index: 691 \t Original Predicted: 7 Perturbed predicted: 9 \t Actual:7\n",
            "Index: 692 \t Original Predicted: 7 Perturbed predicted: 9 \t Actual:7\n",
            "Index: 693 \t Original Predicted: 7 Perturbed predicted: 3 \t Actual:7\n",
            "Index: 694 \t Original Predicted: 7 Perturbed predicted: 9 \t Actual:7\n",
            "Index: 695 \t Original Predicted: 7 Perturbed predicted: 9 \t Actual:7\n",
            "Index: 696 \t Original Predicted: 7 Perturbed predicted: 2 \t Actual:7\n",
            "Index: 697 \t Original Predicted: 7 Perturbed predicted: 3 \t Actual:7\n",
            "Index: 698 \t Original Predicted: 7 Perturbed predicted: 3 \t Actual:7\n",
            "Index: 699 \t Original Predicted: 7 Perturbed predicted: 9 \t Actual:7\n",
            "Index: 700 \t Original Predicted: 7 Perturbed predicted: 2 \t Actual:7\n",
            "Index: 701 \t Original Predicted: 7 Perturbed predicted: 5 \t Actual:7\n",
            "Index: 702 \t Original Predicted: 7 Perturbed predicted: 9 \t Actual:7\n",
            "Index: 703 \t Original Predicted: 7 Perturbed predicted: 9 \t Actual:7\n",
            "Index: 704 \t Original Predicted: 7 Perturbed predicted: 3 \t Actual:7\n",
            "Index: 705 \t Original Predicted: 7 Perturbed predicted: 3 \t Actual:7\n",
            "Index: 706 \t Original Predicted: 7 Perturbed predicted: 9 \t Actual:7\n",
            "Index: 707 \t Original Predicted: 7 Perturbed predicted: 3 \t Actual:7\n",
            "Index: 708 \t Original Predicted: 7 Perturbed predicted: 9 \t Actual:7\n",
            "Index: 709 \t Original Predicted: 7 Perturbed predicted: 9 \t Actual:7\n",
            "Index: 710 \t Original Predicted: 7 Perturbed predicted: 2 \t Actual:7\n",
            "Index: 711 \t Original Predicted: 7 Perturbed predicted: 3 \t Actual:7\n",
            "Index: 712 \t Original Predicted: 7 Perturbed predicted: 2 \t Actual:7\n",
            "Index: 713 \t Original Predicted: 7 Perturbed predicted: 9 \t Actual:7\n",
            "Index: 714 \t Original Predicted: 7 Perturbed predicted: 9 \t Actual:7\n",
            "Index: 715 \t Original Predicted: 7 Perturbed predicted: 9 \t Actual:7\n",
            "Index: 716 \t Original Predicted: 7 Perturbed predicted: 9 \t Actual:7\n",
            "Index: 717 \t Original Predicted: 7 Perturbed predicted: 3 \t Actual:7\n",
            "Index: 718 \t Original Predicted: 7 Perturbed predicted: 9 \t Actual:7\n",
            "Index: 719 \t Original Predicted: 7 Perturbed predicted: 4 \t Actual:7\n",
            "Index: 720 \t Original Predicted: 7 Perturbed predicted: 3 \t Actual:7\n",
            "Index: 721 \t Original Predicted: 7 Perturbed predicted: 9 \t Actual:7\n",
            "Index: 722 \t Original Predicted: 7 Perturbed predicted: 3 \t Actual:7\n",
            "Index: 723 \t Original Predicted: 7 Perturbed predicted: 3 \t Actual:7\n",
            "Index: 724 \t Original Predicted: 7 Perturbed predicted: 9 \t Actual:7\n",
            "Index: 725 \t Original Predicted: 7 Perturbed predicted: 4 \t Actual:7\n",
            "Index: 726 \t Original Predicted: 7 Perturbed predicted: 9 \t Actual:7\n",
            "Index: 727 \t Original Predicted: 7 Perturbed predicted: 9 \t Actual:7\n",
            "Index: 728 \t Original Predicted: 7 Perturbed predicted: 2 \t Actual:7\n",
            "Index: 729 \t Original Predicted: 7 Perturbed predicted: 3 \t Actual:7\n",
            "Index: 730 \t Original Predicted: 7 Perturbed predicted: 3 \t Actual:7\n",
            "Index: 731 \t Original Predicted: 7 Perturbed predicted: 9 \t Actual:7\n",
            "Index: 732 \t Original Predicted: 7 Perturbed predicted: 9 \t Actual:7\n",
            "Index: 733 \t Original Predicted: 7 Perturbed predicted: 3 \t Actual:7\n",
            "Index: 734 \t Original Predicted: 7 Perturbed predicted: 3 \t Actual:7\n",
            "Index: 735 \t Original Predicted: 7 Perturbed predicted: 9 \t Actual:7\n",
            "Index: 736 \t Original Predicted: 7 Perturbed predicted: 9 \t Actual:7\n",
            "Index: 737 \t Original Predicted: 7 Perturbed predicted: 2 \t Actual:7\n",
            "Index: 738 \t Original Predicted: 7 Perturbed predicted: 6 \t Actual:7\n",
            "Index: 739 \t Original Predicted: 7 Perturbed predicted: 3 \t Actual:7\n",
            "Index: 740 \t Original Predicted: 7 Perturbed predicted: 9 \t Actual:7\n",
            "Index: 741 \t Original Predicted: 7 Perturbed predicted: 9 \t Actual:7\n",
            "Index: 742 \t Original Predicted: 7 Perturbed predicted: 3 \t Actual:7\n",
            "Index: 743 \t Original Predicted: 7 Perturbed predicted: 3 \t Actual:7\n",
            "Index: 744 \t Original Predicted: 7 Perturbed predicted: 3 \t Actual:7\n",
            "Index: 745 \t Original Predicted: 7 Perturbed predicted: 0 \t Actual:7\n",
            "Index: 746 \t Original Predicted: 7 Perturbed predicted: 9 \t Actual:7\n",
            "Index: 747 \t Original Predicted: 7 Perturbed predicted: 9 \t Actual:7\n",
            "Index: 748 \t Original Predicted: 7 Perturbed predicted: 3 \t Actual:7\n",
            "Index: 749 \t Original Predicted: 7 Perturbed predicted: 9 \t Actual:7\n",
            "Index: 750 \t Original Predicted: 7 Perturbed predicted: 8 \t Actual:7\n",
            "Index: 751 \t Original Predicted: 7 Perturbed predicted: 3 \t Actual:7\n",
            "Index: 752 \t Original Predicted: 7 Perturbed predicted: 8 \t Actual:7\n",
            "Index: 753 \t Original Predicted: 7 Perturbed predicted: 5 \t Actual:7\n",
            "Index: 754 \t Original Predicted: 7 Perturbed predicted: 3 \t Actual:7\n",
            "Index: 755 \t Original Predicted: 7 Perturbed predicted: 9 \t Actual:7\n",
            "Index: 756 \t Original Predicted: 7 Perturbed predicted: 9 \t Actual:7\n",
            "Index: 757 \t Original Predicted: 7 Perturbed predicted: 5 \t Actual:7\n",
            "Index: 758 \t Original Predicted: 7 Perturbed predicted: 9 \t Actual:7\n",
            "Index: 759 \t Original Predicted: 7 Perturbed predicted: 3 \t Actual:7\n",
            "Index: 760 \t Original Predicted: 7 Perturbed predicted: 3 \t Actual:7\n",
            "Index: 761 \t Original Predicted: 7 Perturbed predicted: 9 \t Actual:7\n",
            "Index: 762 \t Original Predicted: 7 Perturbed predicted: 3 \t Actual:7\n",
            "Index: 763 \t Original Predicted: 7 Perturbed predicted: 2 \t Actual:7\n",
            "Index: 764 \t Original Predicted: 7 Perturbed predicted: 9 \t Actual:7\n",
            "Index: 765 \t Original Predicted: 7 Perturbed predicted: 9 \t Actual:7\n",
            "Index: 766 \t Original Predicted: 7 Perturbed predicted: 2 \t Actual:7\n",
            "Index: 767 \t Original Predicted: 7 Perturbed predicted: 3 \t Actual:7\n",
            "Index: 768 \t Original Predicted: 7 Perturbed predicted: 2 \t Actual:7\n",
            "Index: 769 \t Original Predicted: 7 Perturbed predicted: 9 \t Actual:7\n",
            "Index: 770 \t Original Predicted: 7 Perturbed predicted: 9 \t Actual:7\n",
            "Index: 771 \t Original Predicted: 7 Perturbed predicted: 2 \t Actual:7\n",
            "Index: 772 \t Original Predicted: 7 Perturbed predicted: 3 \t Actual:7\n",
            "Index: 773 \t Original Predicted: 7 Perturbed predicted: 9 \t Actual:7\n",
            "Index: 774 \t Original Predicted: 7 Perturbed predicted: 3 \t Actual:7\n",
            "Index: 775 \t Original Predicted: 7 Perturbed predicted: 3 \t Actual:7\n",
            "Index: 776 \t Original Predicted: 7 Perturbed predicted: 5 \t Actual:7\n",
            "Index: 777 \t Original Predicted: 7 Perturbed predicted: 9 \t Actual:7\n",
            "Index: 778 \t Original Predicted: 7 Perturbed predicted: 3 \t Actual:7\n",
            "Index: 779 \t Original Predicted: 7 Perturbed predicted: 9 \t Actual:7\n",
            "Index: 780 \t Original Predicted: 7 Perturbed predicted: 9 \t Actual:7\n",
            "Index: 781 \t Original Predicted: 7 Perturbed predicted: 3 \t Actual:7\n",
            "Index: 782 \t Original Predicted: 7 Perturbed predicted: 9 \t Actual:7\n",
            "Index: 783 \t Original Predicted: 7 Perturbed predicted: 3 \t Actual:7\n",
            "Index: 784 \t Original Predicted: 2 Perturbed predicted: 2 \t Actual:7\n",
            "Index: 785 \t Original Predicted: 7 Perturbed predicted: 9 \t Actual:7\n",
            "Index: 786 \t Original Predicted: 7 Perturbed predicted: 2 \t Actual:7\n",
            "Index: 787 \t Original Predicted: 7 Perturbed predicted: 9 \t Actual:7\n",
            "Index: 788 \t Original Predicted: 7 Perturbed predicted: 2 \t Actual:7\n",
            "Index: 789 \t Original Predicted: 7 Perturbed predicted: 9 \t Actual:7\n",
            "Index: 790 \t Original Predicted: 7 Perturbed predicted: 5 \t Actual:7\n",
            "Index: 791 \t Original Predicted: 7 Perturbed predicted: 9 \t Actual:7\n",
            "Index: 792 \t Original Predicted: 7 Perturbed predicted: 2 \t Actual:7\n",
            "Index: 793 \t Original Predicted: 7 Perturbed predicted: 3 \t Actual:7\n",
            "Index: 794 \t Original Predicted: 7 Perturbed predicted: 3 \t Actual:7\n",
            "Index: 795 \t Original Predicted: 7 Perturbed predicted: 9 \t Actual:7\n",
            "Index: 796 \t Original Predicted: 7 Perturbed predicted: 9 \t Actual:7\n",
            "Index: 797 \t Original Predicted: 7 Perturbed predicted: 3 \t Actual:7\n",
            "Index: 798 \t Original Predicted: 2 Perturbed predicted: 2 \t Actual:7\n",
            "Index: 799 \t Original Predicted: 7 Perturbed predicted: 9 \t Actual:7\n",
            "Index: 800 \t Original Predicted: 7 Perturbed predicted: 2 \t Actual:7\n",
            "Index: 801 \t Original Predicted: 7 Perturbed predicted: 9 \t Actual:7\n",
            "Index: 802 \t Original Predicted: 7 Perturbed predicted: 3 \t Actual:7\n",
            "Index: 803 \t Original Predicted: 7 Perturbed predicted: 5 \t Actual:7\n",
            "Index: 804 \t Original Predicted: 9 Perturbed predicted: 9 \t Actual:7\n",
            "Index: 805 \t Original Predicted: 7 Perturbed predicted: 2 \t Actual:7\n",
            "Index: 806 \t Original Predicted: 7 Perturbed predicted: 9 \t Actual:7\n",
            "Index: 807 \t Original Predicted: 7 Perturbed predicted: 2 \t Actual:7\n",
            "Index: 808 \t Original Predicted: 7 Perturbed predicted: 3 \t Actual:7\n",
            "Index: 809 \t Original Predicted: 7 Perturbed predicted: 3 \t Actual:7\n",
            "Index: 810 \t Original Predicted: 7 Perturbed predicted: 9 \t Actual:7\n",
            "Index: 811 \t Original Predicted: 7 Perturbed predicted: 9 \t Actual:7\n",
            "Index: 812 \t Original Predicted: 7 Perturbed predicted: 3 \t Actual:7\n",
            "Index: 813 \t Original Predicted: 7 Perturbed predicted: 3 \t Actual:7\n",
            "Index: 814 \t Original Predicted: 9 Perturbed predicted: 5 \t Actual:7\n",
            "Index: 815 \t Original Predicted: 7 Perturbed predicted: 2 \t Actual:7\n",
            "Index: 816 \t Original Predicted: 7 Perturbed predicted: 9 \t Actual:7\n",
            "Index: 817 \t Original Predicted: 7 Perturbed predicted: 9 \t Actual:7\n",
            "Index: 818 \t Original Predicted: 7 Perturbed predicted: 3 \t Actual:7\n",
            "Index: 819 \t Original Predicted: 7 Perturbed predicted: 9 \t Actual:7\n",
            "Index: 820 \t Original Predicted: 7 Perturbed predicted: 3 \t Actual:7\n",
            "Index: 821 \t Original Predicted: 7 Perturbed predicted: 9 \t Actual:7\n",
            "Index: 822 \t Original Predicted: 7 Perturbed predicted: 9 \t Actual:7\n",
            "Index: 823 \t Original Predicted: 7 Perturbed predicted: 3 \t Actual:7\n",
            "Index: 824 \t Original Predicted: 7 Perturbed predicted: 9 \t Actual:7\n",
            "Index: 825 \t Original Predicted: 7 Perturbed predicted: 2 \t Actual:7\n",
            "Index: 826 \t Original Predicted: 7 Perturbed predicted: 9 \t Actual:7\n",
            "Index: 827 \t Original Predicted: 7 Perturbed predicted: 3 \t Actual:7\n",
            "Index: 828 \t Original Predicted: 7 Perturbed predicted: 9 \t Actual:7\n",
            "Index: 829 \t Original Predicted: 7 Perturbed predicted: 3 \t Actual:7\n",
            "Index: 830 \t Original Predicted: 7 Perturbed predicted: 3 \t Actual:7\n",
            "Index: 831 \t Original Predicted: 7 Perturbed predicted: 9 \t Actual:7\n",
            "Index: 832 \t Original Predicted: 7 Perturbed predicted: 9 \t Actual:7\n",
            "Index: 833 \t Original Predicted: 9 Perturbed predicted: 3 \t Actual:7\n",
            "Index: 834 \t Original Predicted: 7 Perturbed predicted: 2 \t Actual:7\n",
            "Index: 835 \t Original Predicted: 7 Perturbed predicted: 9 \t Actual:7\n",
            "Index: 836 \t Original Predicted: 7 Perturbed predicted: 2 \t Actual:7\n",
            "Index: 837 \t Original Predicted: 7 Perturbed predicted: 9 \t Actual:7\n",
            "Index: 838 \t Original Predicted: 7 Perturbed predicted: 9 \t Actual:7\n",
            "Index: 839 \t Original Predicted: 7 Perturbed predicted: 3 \t Actual:7\n",
            "Index: 840 \t Original Predicted: 7 Perturbed predicted: 2 \t Actual:7\n",
            "Index: 841 \t Original Predicted: 7 Perturbed predicted: 3 \t Actual:7\n",
            "Index: 842 \t Original Predicted: 7 Perturbed predicted: 3 \t Actual:7\n",
            "Index: 843 \t Original Predicted: 7 Perturbed predicted: 9 \t Actual:7\n",
            "Index: 844 \t Original Predicted: 7 Perturbed predicted: 3 \t Actual:7\n",
            "Index: 845 \t Original Predicted: 7 Perturbed predicted: 3 \t Actual:7\n",
            "Index: 846 \t Original Predicted: 7 Perturbed predicted: 3 \t Actual:7\n",
            "Index: 847 \t Original Predicted: 7 Perturbed predicted: 9 \t Actual:7\n",
            "Index: 848 \t Original Predicted: 7 Perturbed predicted: 5 \t Actual:7\n",
            "Index: 849 \t Original Predicted: 7 Perturbed predicted: 9 \t Actual:7\n",
            "Index: 850 \t Original Predicted: 7 Perturbed predicted: 1 \t Actual:7\n",
            "Index: 851 \t Original Predicted: 7 Perturbed predicted: 9 \t Actual:7\n",
            "Index: 852 \t Original Predicted: 7 Perturbed predicted: 3 \t Actual:7\n",
            "Index: 853 \t Original Predicted: 7 Perturbed predicted: 5 \t Actual:7\n",
            "Index: 854 \t Original Predicted: 7 Perturbed predicted: 3 \t Actual:7\n",
            "Index: 855 \t Original Predicted: 7 Perturbed predicted: 9 \t Actual:7\n",
            "Index: 856 \t Original Predicted: 7 Perturbed predicted: 3 \t Actual:7\n",
            "Index: 857 \t Original Predicted: 7 Perturbed predicted: 9 \t Actual:7\n",
            "Index: 858 \t Original Predicted: 7 Perturbed predicted: 9 \t Actual:7\n",
            "Index: 859 \t Original Predicted: 7 Perturbed predicted: 3 \t Actual:7\n",
            "Index: 860 \t Original Predicted: 7 Perturbed predicted: 9 \t Actual:7\n",
            "Index: 861 \t Original Predicted: 7 Perturbed predicted: 3 \t Actual:7\n",
            "Index: 862 \t Original Predicted: 7 Perturbed predicted: 9 \t Actual:7\n",
            "Index: 863 \t Original Predicted: 7 Perturbed predicted: 9 \t Actual:7\n",
            "Index: 864 \t Original Predicted: 7 Perturbed predicted: 3 \t Actual:7\n",
            "Index: 865 \t Original Predicted: 7 Perturbed predicted: 3 \t Actual:7\n",
            "Index: 866 \t Original Predicted: 7 Perturbed predicted: 8 \t Actual:7\n",
            "Index: 867 \t Original Predicted: 7 Perturbed predicted: 9 \t Actual:7\n",
            "Index: 868 \t Original Predicted: 7 Perturbed predicted: 9 \t Actual:7\n",
            "Index: 869 \t Original Predicted: 7 Perturbed predicted: 9 \t Actual:7\n",
            "Index: 870 \t Original Predicted: 7 Perturbed predicted: 3 \t Actual:7\n",
            "Index: 871 \t Original Predicted: 7 Perturbed predicted: 2 \t Actual:7\n",
            "Index: 872 \t Original Predicted: 7 Perturbed predicted: 5 \t Actual:7\n",
            "Index: 873 \t Original Predicted: 7 Perturbed predicted: 1 \t Actual:7\n",
            "Index: 874 \t Original Predicted: 7 Perturbed predicted: 3 \t Actual:7\n",
            "Index: 875 \t Original Predicted: 7 Perturbed predicted: 9 \t Actual:7\n",
            "Index: 876 \t Original Predicted: 7 Perturbed predicted: 3 \t Actual:7\n",
            "Index: 877 \t Original Predicted: 7 Perturbed predicted: 9 \t Actual:7\n",
            "Index: 878 \t Original Predicted: 7 Perturbed predicted: 3 \t Actual:7\n",
            "Index: 879 \t Original Predicted: 7 Perturbed predicted: 2 \t Actual:7\n",
            "Index: 880 \t Original Predicted: 7 Perturbed predicted: 3 \t Actual:7\n",
            "Index: 881 \t Original Predicted: 7 Perturbed predicted: 9 \t Actual:7\n",
            "Index: 882 \t Original Predicted: 7 Perturbed predicted: 9 \t Actual:7\n",
            "Index: 883 \t Original Predicted: 7 Perturbed predicted: 3 \t Actual:7\n",
            "Index: 884 \t Original Predicted: 7 Perturbed predicted: 3 \t Actual:7\n",
            "Index: 885 \t Original Predicted: 7 Perturbed predicted: 3 \t Actual:7\n",
            "Index: 886 \t Original Predicted: 7 Perturbed predicted: 3 \t Actual:7\n",
            "Index: 887 \t Original Predicted: 7 Perturbed predicted: 3 \t Actual:7\n",
            "Index: 888 \t Original Predicted: 7 Perturbed predicted: 9 \t Actual:7\n",
            "Index: 889 \t Original Predicted: 7 Perturbed predicted: 9 \t Actual:7\n",
            "Index: 890 \t Original Predicted: 7 Perturbed predicted: 9 \t Actual:7\n",
            "Index: 891 \t Original Predicted: 7 Perturbed predicted: 3 \t Actual:7\n",
            "Index: 892 \t Original Predicted: 7 Perturbed predicted: 2 \t Actual:7\n",
            "Index: 893 \t Original Predicted: 7 Perturbed predicted: 9 \t Actual:7\n",
            "Index: 894 \t Original Predicted: 7 Perturbed predicted: 3 \t Actual:7\n",
            "Index: 895 \t Original Predicted: 7 Perturbed predicted: 9 \t Actual:7\n",
            "Index: 896 \t Original Predicted: 7 Perturbed predicted: 3 \t Actual:7\n",
            "Index: 897 \t Original Predicted: 7 Perturbed predicted: 2 \t Actual:7\n",
            "Index: 898 \t Original Predicted: 7 Perturbed predicted: 9 \t Actual:7\n",
            "Index: 899 \t Original Predicted: 7 Perturbed predicted: 9 \t Actual:7\n",
            "Index: 900 \t Original Predicted: 7 Perturbed predicted: 5 \t Actual:7\n",
            "Index: 901 \t Original Predicted: 7 Perturbed predicted: 9 \t Actual:7\n",
            "Index: 902 \t Original Predicted: 7 Perturbed predicted: 3 \t Actual:7\n",
            "Index: 903 \t Original Predicted: 7 Perturbed predicted: 3 \t Actual:7\n",
            "Index: 904 \t Original Predicted: 7 Perturbed predicted: 3 \t Actual:7\n",
            "Index: 905 \t Original Predicted: 7 Perturbed predicted: 9 \t Actual:7\n",
            "Index: 906 \t Original Predicted: 7 Perturbed predicted: 9 \t Actual:7\n",
            "Index: 907 \t Original Predicted: 7 Perturbed predicted: 9 \t Actual:7\n",
            "Index: 908 \t Original Predicted: 7 Perturbed predicted: 1 \t Actual:7\n",
            "Index: 909 \t Original Predicted: 7 Perturbed predicted: 3 \t Actual:7\n",
            "Index: 910 \t Original Predicted: 7 Perturbed predicted: 3 \t Actual:7\n",
            "Index: 911 \t Original Predicted: 7 Perturbed predicted: 1 \t Actual:7\n",
            "Index: 912 \t Original Predicted: 7 Perturbed predicted: 9 \t Actual:7\n",
            "Index: 913 \t Original Predicted: 7 Perturbed predicted: 9 \t Actual:7\n",
            "Index: 914 \t Original Predicted: 7 Perturbed predicted: 3 \t Actual:7\n",
            "Index: 915 \t Original Predicted: 7 Perturbed predicted: 9 \t Actual:7\n",
            "Index: 916 \t Original Predicted: 7 Perturbed predicted: 1 \t Actual:7\n",
            "Index: 917 \t Original Predicted: 7 Perturbed predicted: 3 \t Actual:7\n",
            "Index: 918 \t Original Predicted: 1 Perturbed predicted: 1 \t Actual:7\n",
            "Index: 919 \t Original Predicted: 7 Perturbed predicted: 3 \t Actual:7\n",
            "Index: 920 \t Original Predicted: 7 Perturbed predicted: 9 \t Actual:7\n",
            "Index: 921 \t Original Predicted: 7 Perturbed predicted: 3 \t Actual:7\n",
            "Index: 922 \t Original Predicted: 7 Perturbed predicted: 9 \t Actual:7\n",
            "Index: 923 \t Original Predicted: 7 Perturbed predicted: 3 \t Actual:7\n",
            "Index: 924 \t Original Predicted: 7 Perturbed predicted: 9 \t Actual:7\n",
            "Index: 925 \t Original Predicted: 7 Perturbed predicted: 9 \t Actual:7\n",
            "Index: 926 \t Original Predicted: 7 Perturbed predicted: 9 \t Actual:7\n",
            "Index: 927 \t Original Predicted: 7 Perturbed predicted: 9 \t Actual:7\n",
            "Index: 928 \t Original Predicted: 7 Perturbed predicted: 9 \t Actual:7\n",
            "Index: 929 \t Original Predicted: 7 Perturbed predicted: 9 \t Actual:7\n",
            "Index: 930 \t Original Predicted: 7 Perturbed predicted: 2 \t Actual:7\n",
            "Index: 931 \t Original Predicted: 7 Perturbed predicted: 9 \t Actual:7\n",
            "Index: 932 \t Original Predicted: 7 Perturbed predicted: 3 \t Actual:7\n",
            "Index: 933 \t Original Predicted: 7 Perturbed predicted: 9 \t Actual:7\n",
            "Index: 934 \t Original Predicted: 7 Perturbed predicted: 2 \t Actual:7\n",
            "Index: 935 \t Original Predicted: 7 Perturbed predicted: 9 \t Actual:7\n",
            "Index: 936 \t Original Predicted: 7 Perturbed predicted: 3 \t Actual:7\n",
            "Index: 937 \t Original Predicted: 7 Perturbed predicted: 9 \t Actual:7\n",
            "Index: 938 \t Original Predicted: 7 Perturbed predicted: 9 \t Actual:7\n",
            "Index: 939 \t Original Predicted: 7 Perturbed predicted: 8 \t Actual:7\n",
            "Index: 940 \t Original Predicted: 7 Perturbed predicted: 9 \t Actual:7\n",
            "Index: 941 \t Original Predicted: 7 Perturbed predicted: 1 \t Actual:7\n",
            "Index: 942 \t Original Predicted: 7 Perturbed predicted: 3 \t Actual:7\n",
            "Index: 943 \t Original Predicted: 7 Perturbed predicted: 9 \t Actual:7\n",
            "Index: 944 \t Original Predicted: 7 Perturbed predicted: 3 \t Actual:7\n",
            "Index: 945 \t Original Predicted: 7 Perturbed predicted: 9 \t Actual:7\n",
            "Index: 946 \t Original Predicted: 7 Perturbed predicted: 9 \t Actual:7\n",
            "Index: 947 \t Original Predicted: 9 Perturbed predicted: 9 \t Actual:7\n",
            "Index: 948 \t Original Predicted: 7 Perturbed predicted: 9 \t Actual:7\n",
            "Index: 949 \t Original Predicted: 7 Perturbed predicted: 9 \t Actual:7\n",
            "Index: 950 \t Original Predicted: 7 Perturbed predicted: 3 \t Actual:7\n",
            "Index: 951 \t Original Predicted: 7 Perturbed predicted: 2 \t Actual:7\n",
            "Index: 952 \t Original Predicted: 7 Perturbed predicted: 3 \t Actual:7\n",
            "Index: 953 \t Original Predicted: 7 Perturbed predicted: 9 \t Actual:7\n",
            "Index: 954 \t Original Predicted: 7 Perturbed predicted: 9 \t Actual:7\n",
            "Index: 955 \t Original Predicted: 7 Perturbed predicted: 9 \t Actual:7\n",
            "Index: 956 \t Original Predicted: 7 Perturbed predicted: 1 \t Actual:7\n",
            "Index: 957 \t Original Predicted: 7 Perturbed predicted: 3 \t Actual:7\n",
            "Index: 958 \t Original Predicted: 7 Perturbed predicted: 3 \t Actual:7\n",
            "Index: 959 \t Original Predicted: 7 Perturbed predicted: 3 \t Actual:7\n",
            "Index: 960 \t Original Predicted: 7 Perturbed predicted: 3 \t Actual:7\n",
            "Index: 961 \t Original Predicted: 7 Perturbed predicted: 5 \t Actual:7\n",
            "Index: 962 \t Original Predicted: 7 Perturbed predicted: 3 \t Actual:7\n",
            "Index: 963 \t Original Predicted: 7 Perturbed predicted: 9 \t Actual:7\n",
            "Index: 964 \t Original Predicted: 7 Perturbed predicted: 3 \t Actual:7\n",
            "Index: 965 \t Original Predicted: 7 Perturbed predicted: 3 \t Actual:7\n",
            "Index: 966 \t Original Predicted: 7 Perturbed predicted: 2 \t Actual:7\n",
            "Index: 967 \t Original Predicted: 7 Perturbed predicted: 2 \t Actual:7\n",
            "Index: 968 \t Original Predicted: 7 Perturbed predicted: 9 \t Actual:7\n",
            "Index: 969 \t Original Predicted: 7 Perturbed predicted: 2 \t Actual:7\n",
            "Index: 970 \t Original Predicted: 7 Perturbed predicted: 9 \t Actual:7\n",
            "Index: 971 \t Original Predicted: 7 Perturbed predicted: 9 \t Actual:7\n",
            "Index: 972 \t Original Predicted: 7 Perturbed predicted: 9 \t Actual:7\n",
            "Index: 973 \t Original Predicted: 7 Perturbed predicted: 9 \t Actual:7\n",
            "Index: 974 \t Original Predicted: 7 Perturbed predicted: 3 \t Actual:7\n",
            "Index: 975 \t Original Predicted: 7 Perturbed predicted: 9 \t Actual:7\n",
            "Index: 976 \t Original Predicted: 7 Perturbed predicted: 3 \t Actual:7\n",
            "Index: 977 \t Original Predicted: 7 Perturbed predicted: 2 \t Actual:7\n",
            "Index: 978 \t Original Predicted: 7 Perturbed predicted: 9 \t Actual:7\n",
            "Index: 979 \t Original Predicted: 7 Perturbed predicted: 9 \t Actual:7\n",
            "Index: 980 \t Original Predicted: 7 Perturbed predicted: 3 \t Actual:7\n",
            "Index: 981 \t Original Predicted: 7 Perturbed predicted: 3 \t Actual:7\n",
            "Index: 982 \t Original Predicted: 7 Perturbed predicted: 9 \t Actual:7\n",
            "Index: 983 \t Original Predicted: 7 Perturbed predicted: 3 \t Actual:7\n",
            "Index: 984 \t Original Predicted: 7 Perturbed predicted: 3 \t Actual:7\n",
            "Index: 985 \t Original Predicted: 7 Perturbed predicted: 9 \t Actual:7\n",
            "Index: 986 \t Original Predicted: 7 Perturbed predicted: 3 \t Actual:7\n",
            "Index: 987 \t Original Predicted: 7 Perturbed predicted: 8 \t Actual:7\n",
            "Index: 988 \t Original Predicted: 7 Perturbed predicted: 3 \t Actual:7\n",
            "Index: 989 \t Original Predicted: 7 Perturbed predicted: 9 \t Actual:7\n",
            "Index: 990 \t Original Predicted: 7 Perturbed predicted: 3 \t Actual:7\n",
            "Index: 991 \t Original Predicted: 7 Perturbed predicted: 9 \t Actual:7\n",
            "Index: 992 \t Original Predicted: 7 Perturbed predicted: 9 \t Actual:7\n",
            "Index: 993 \t Original Predicted: 7 Perturbed predicted: 2 \t Actual:7\n",
            "Index: 994 \t Original Predicted: 7 Perturbed predicted: 3 \t Actual:7\n",
            "Index: 995 \t Original Predicted: 7 Perturbed predicted: 3 \t Actual:7\n",
            "Index: 996 \t Original Predicted: 7 Perturbed predicted: 1 \t Actual:7\n",
            "Index: 997 \t Original Predicted: 7 Perturbed predicted: 3 \t Actual:7\n",
            "Index: 998 \t Original Predicted: 7 Perturbed predicted: 9 \t Actual:7\n",
            "Index: 999 \t Original Predicted: 7 Perturbed predicted: 8 \t Actual:7\n"
          ],
          "name": "stdout"
        }
      ]
    },
    {
      "cell_type": "code",
      "metadata": {
        "id": "ligtWCUcAbjY",
        "colab_type": "code",
        "colab": {}
      },
      "source": [
        "epsilons = np.arange(0.01,1,0.05)"
      ],
      "execution_count": 0,
      "outputs": []
    },
    {
      "cell_type": "code",
      "metadata": {
        "id": "ctS2sJl4DglT",
        "colab_type": "code",
        "colab": {
          "base_uri": "https://localhost:8080/",
          "height": 364
        },
        "outputId": "4fe5bae8-b4bc-4cce-8cce-d53f3ee7c749"
      },
      "source": [
        "for i in range(0, len(epsilons)):\n",
        "  print(epsilons[i])"
      ],
      "execution_count": 103,
      "outputs": [
        {
          "output_type": "stream",
          "text": [
            "0.01\n",
            "0.06\n",
            "0.11\n",
            "0.16\n",
            "0.21\n",
            "0.26\n",
            "0.31\n",
            "0.36\n",
            "0.41\n",
            "0.46\n",
            "0.51\n",
            "0.56\n",
            "0.61\n",
            "0.66\n",
            "0.71\n",
            "0.76\n",
            "0.81\n",
            "0.86\n",
            "0.91\n",
            "0.96\n"
          ],
          "name": "stdout"
        }
      ]
    },
    {
      "cell_type": "code",
      "metadata": {
        "id": "_yTgv5OTDJkY",
        "colab_type": "code",
        "colab": {}
      },
      "source": [
        "accuracies = []\n",
        "for i in range(0, len(epsilons)):\n",
        "  # print(epsilons[i])  \n",
        "  perturbed_images = []\n",
        "  index = epsilons[i]\n",
        "  for j in thousand_indices:\n",
        "    perturbed_images.append(perturbe_image(index, j))\n",
        "\n",
        "  perturbed_images = np.array(perturbed_images)\n",
        "  accuracies.append(float(accuracy(params, shape_as_image(perturbed_images, thousand_testing_sevens_labels))))"
      ],
      "execution_count": 0,
      "outputs": []
    },
    {
      "cell_type": "code",
      "metadata": {
        "id": "zYfJfR7ODtLS",
        "colab_type": "code",
        "colab": {
          "base_uri": "https://localhost:8080/",
          "height": 364
        },
        "outputId": "0a1d8074-11ba-46da-cb97-940b26d187f3"
      },
      "source": [
        "accuracies"
      ],
      "execution_count": 105,
      "outputs": [
        {
          "output_type": "execute_result",
          "data": {
            "text/plain": [
              "[0.9810000658035278,\n",
              " 0.7900000214576721,\n",
              " 0.23400001227855682,\n",
              " 0.032999999821186066,\n",
              " 0.0020000000949949026,\n",
              " 0.0,\n",
              " 0.0,\n",
              " 0.0,\n",
              " 0.0,\n",
              " 0.0,\n",
              " 0.0,\n",
              " 0.0,\n",
              " 0.0,\n",
              " 0.0,\n",
              " 0.0,\n",
              " 0.0,\n",
              " 0.0,\n",
              " 0.0,\n",
              " 0.0,\n",
              " 0.0]"
            ]
          },
          "metadata": {
            "tags": []
          },
          "execution_count": 105
        }
      ]
    },
    {
      "cell_type": "code",
      "metadata": {
        "id": "oiWxrhOIDzAF",
        "colab_type": "code",
        "colab": {
          "base_uri": "https://localhost:8080/",
          "height": 312
        },
        "outputId": "641b5fb2-a8fd-43d9-80b5-4bcd70c78b0c"
      },
      "source": [
        "import matplotlib.pyplot as plt\n",
        "%matplotlib inline\n",
        "\n",
        "plt.plot(epsilons, accuracies)\n",
        "plt.title(\"Accuracy vs epsilon\")\n",
        "plt.xlabel(\"$\\epsilon$\")\n",
        "plt.ylabel(\"$Accuracy$\")\n",
        "\n"
      ],
      "execution_count": 106,
      "outputs": [
        {
          "output_type": "execute_result",
          "data": {
            "text/plain": [
              "Text(0, 0.5, '$Accuracy$')"
            ]
          },
          "metadata": {
            "tags": []
          },
          "execution_count": 106
        },
        {
          "output_type": "display_data",
          "data": {
            "image/png": "[encoded data removed]",
            "text/plain": [
              "<Figure size 432x288 with 1 Axes>"
            ]
          },
          "metadata": {
            "tags": []
          }
        }
      ]
    },
    {
      "cell_type": "code",
      "metadata": {
        "id": "xks_AUCsD0j8",
        "colab_type": "code",
        "colab": {
          "base_uri": "https://localhost:8080/",
          "height": 346
        },
        "outputId": "3f7a0b0a-9a0f-4998-824b-70d7bb3b72e5"
      },
      "source": [
        "epsilons = np.arange(0.01,0.2,0.01)\n",
        "for i in range(0, len(epsilons)):\n",
        "  print(epsilons[i])"
      ],
      "execution_count": 107,
      "outputs": [
        {
          "output_type": "stream",
          "text": [
            "0.01\n",
            "0.02\n",
            "0.03\n",
            "0.04\n",
            "0.05\n",
            "0.06\n",
            "0.07\n",
            "0.08\n",
            "0.09\n",
            "0.1\n",
            "0.11\n",
            "0.12\n",
            "0.13\n",
            "0.14\n",
            "0.15\n",
            "0.16\n",
            "0.17\n",
            "0.18\n",
            "0.19\n"
          ],
          "name": "stdout"
        }
      ]
    },
    {
      "cell_type": "code",
      "metadata": {
        "id": "vSYzViOaHAuN",
        "colab_type": "code",
        "colab": {}
      },
      "source": [
        "accuracies = []\n",
        "for i in range(0, len(epsilons)):\n",
        "  # print(epsilons[i])  \n",
        "  perturbed_images = []\n",
        "  index = epsilons[i]\n",
        "  for j in thousand_indices:\n",
        "    perturbed_images.append(perturbe_image(index, j))\n",
        "\n",
        "  perturbed_images = np.array(perturbed_images)\n",
        "  accuracies.append(float(accuracy(params, shape_as_image(perturbed_images, thousand_testing_sevens_labels))))"
      ],
      "execution_count": 0,
      "outputs": []
    },
    {
      "cell_type": "code",
      "metadata": {
        "id": "61JdUlEsHGUj",
        "colab_type": "code",
        "colab": {
          "base_uri": "https://localhost:8080/",
          "height": 312
        },
        "outputId": "d5fc69d0-4bd2-4fb6-8033-a7ca6449e373"
      },
      "source": [
        "import matplotlib.pyplot as plt\n",
        "%matplotlib inline\n",
        "\n",
        "plt.plot(epsilons, accuracies)\n",
        "plt.title(\"Accuracy vs epsilon\")\n",
        "plt.xlabel(\"$\\epsilon$\")\n",
        "plt.ylabel(\"$Accuracy$\")\n",
        "\n"
      ],
      "execution_count": 109,
      "outputs": [
        {
          "output_type": "execute_result",
          "data": {
            "text/plain": [
              "Text(0, 0.5, '$Accuracy$')"
            ]
          },
          "metadata": {
            "tags": []
          },
          "execution_count": 109
        },
        {
          "output_type": "display_data",
          "data": {
            "image/png": "[encoded data removed]",
            "text/plain": [
              "<Figure size 432x288 with 1 Axes>"
            ]
          },
          "metadata": {
            "tags": []
          }
        }
      ]
    },
    {
      "cell_type": "markdown",
      "metadata": {
        "id": "dgI9yxvwKDPV",
        "colab_type": "text"
      },
      "source": [
        "--------------------------------------------------------------------------------"
      ]
    },
    {
      "cell_type": "markdown",
      "metadata": {
        "id": "3q0KjVQgKJDe",
        "colab_type": "text"
      },
      "source": [
        "# **Q3 starts here**"
      ]
    },
    {
      "cell_type": "markdown",
      "metadata": {
        "id": "Es1eQhsTi-Dl",
        "colab_type": "text"
      },
      "source": [
        "### **Visualization of Original Image**"
      ]
    },
    {
      "cell_type": "code",
      "metadata": {
        "id": "XaWGZLeCKpUh",
        "colab_type": "code",
        "colab": {
          "base_uri": "https://localhost:8080/",
          "height": 300
        },
        "outputId": "10656a92-d363-423e-fbb5-cea4415d32eb"
      },
      "source": [
        "index  = 1164\n",
        "epsilon  = 0.1\n",
        "x = test_images[index]\n",
        "x_reshaped = np.reshape(x, [1,28,28,1])\n",
        "\n",
        "predict_image(x_reshaped)\n",
        "# x_star = perturbe_image(epsilon, index)\n",
        "# predict_image(x_star)"
      ],
      "execution_count": 79,
      "outputs": [
        {
          "output_type": "stream",
          "text": [
            "Predicted class: 7\n"
          ],
          "name": "stdout"
        },
        {
          "output_type": "execute_result",
          "data": {
            "text/plain": [
              "7"
            ]
          },
          "metadata": {
            "tags": []
          },
          "execution_count": 79
        },
        {
          "output_type": "display_data",
          "data": {
            "image/png": "[encoded data removed]",
            "text/plain": [
              "<Figure size 432x288 with 1 Axes>"
            ]
          },
          "metadata": {
            "tags": []
          }
        }
      ]
    },
    {
      "cell_type": "markdown",
      "metadata": {
        "id": "SOoBrxeyhvAs",
        "colab_type": "text"
      },
      "source": [
        "### **Iterative perturbations (without dividing by k)**"
      ]
    },
    {
      "cell_type": "code",
      "metadata": {
        "id": "Y2vvzUKNMLoj",
        "colab_type": "code",
        "colab": {
          "base_uri": "https://localhost:8080/",
          "height": 352
        },
        "outputId": "d7af42c9-63fe-416b-8677-4458772f6eaf"
      },
      "source": [
        "index  = 1164\n",
        "epsilon  = 0.1\n",
        "x = test_images[index]\n",
        "x_reshaped = np.reshape(x, [1,28,28,1])\n",
        "\n",
        "perturbed_images = []\n",
        "for i in range(0,5):\n",
        "  # Q3\n",
        "  x_grad = grad(loss,1)(params, shape_as_image(x_reshaped, test_labels[index]))\n",
        "  np_x_grad = np.array(x_grad[0])\n",
        "  np_x_grad_sign = np.sign(np_x_grad)\n",
        "  perturbation  = np_x_grad_sign* epsilon\n",
        "\n",
        "  x_star = x_reshaped + perturbation\n",
        "  x_reshaped = x_star\n",
        "  perturbed_images.append(x_star) \n",
        "  predict_image(x_star)"
      ],
      "execution_count": 66,
      "outputs": [
        {
          "output_type": "stream",
          "text": [
            "Predicted class: 9\n",
            "Predicted class: 9\n",
            "Predicted class: 9\n",
            "Predicted class: 9\n",
            "Predicted class: 9\n"
          ],
          "name": "stdout"
        },
        {
          "output_type": "display_data",
          "data": {
            "image/png": "[encoded data removed]",
            "text/plain": [
              "<Figure size 432x288 with 1 Axes>"
            ]
          },
          "metadata": {
            "tags": []
          }
        }
      ]
    },
    {
      "cell_type": "code",
      "metadata": {
        "id": "0-cOCl8SfV5Z",
        "colab_type": "code",
        "colab": {
          "base_uri": "https://localhost:8080/",
          "height": 190
        },
        "outputId": "801700d3-68fe-4e3e-dd7f-cb0e3f4818ae"
      },
      "source": [
        "plt.figure(figsize=(30, 30))\n",
        "for i in range(0,len(perturbed_images)):\n",
        "  # print(sample_indexes[i])\n",
        "  img = np.reshape(perturbed_images[i], [28,28])\n",
        "  plt.subplot(int(len(perturbed_images)/10)+1, 10, i+1)\n",
        "  plt.imshow(img, cmap='Greys_r')"
      ],
      "execution_count": 67,
      "outputs": [
        {
          "output_type": "display_data",
          "data": {
            "image/png": "[encoded data removed]",
            "text/plain": [
              "<Figure size 2160x2160 with 5 Axes>"
            ]
          },
          "metadata": {
            "tags": []
          }
        }
      ]
    },
    {
      "cell_type": "markdown",
      "metadata": {
        "id": "HetY3RWaghZT",
        "colab_type": "text"
      },
      "source": [
        "### **Dividing epsilon by k**"
      ]
    },
    {
      "cell_type": "code",
      "metadata": {
        "id": "ACcsCbydf5zB",
        "colab_type": "code",
        "colab": {
          "base_uri": "https://localhost:8080/",
          "height": 352
        },
        "outputId": "2eb030c2-2aa5-4b56-c42c-3eed9ff5fca9"
      },
      "source": [
        "index  = 1164\n",
        "epsilon  = 0.1\n",
        "x = test_images[index]\n",
        "x_reshaped = np.reshape(x, [1,28,28,1])\n",
        "\n",
        "perturbed_images = []\n",
        "for k in range(1,6):\n",
        "  # Q3 (1 Code to find the perturbation)\n",
        "  epsilon = epsilon/k\n",
        "  x_grad = grad(loss,1)(params, shape_as_image(x_reshaped, test_labels[index]))\n",
        "  np_x_grad = np.array(x_grad[0])\n",
        "  np_x_grad_sign = np.sign(np_x_grad)\n",
        "  perturbation  = np_x_grad_sign* epsilon\n",
        "\n",
        "  x_star = x_reshaped + perturbation\n",
        "  x_reshaped = x_star\n",
        "  perturbed_images.append(x_star) \n",
        "  predict_image(x_star)"
      ],
      "execution_count": 68,
      "outputs": [
        {
          "output_type": "stream",
          "text": [
            "Predicted class: 9\n",
            "Predicted class: 9\n",
            "Predicted class: 9\n",
            "Predicted class: 9\n",
            "Predicted class: 9\n"
          ],
          "name": "stdout"
        },
        {
          "output_type": "display_data",
          "data": {
            "image/png": "[encoded data removed]",
            "text/plain": [
              "<Figure size 432x288 with 1 Axes>"
            ]
          },
          "metadata": {
            "tags": []
          }
        }
      ]
    },
    {
      "cell_type": "markdown",
      "metadata": {
        "id": "hzVHQN3jiNub",
        "colab_type": "text"
      },
      "source": [
        "### **Q3 (2) Visualization of the perturbed image**"
      ]
    },
    {
      "cell_type": "code",
      "metadata": {
        "id": "Ks_3Hl8ggq2R",
        "colab_type": "code",
        "colab": {
          "base_uri": "https://localhost:8080/",
          "height": 190
        },
        "outputId": "7ecd8b20-1d35-4d13-9cac-08a8e884f683"
      },
      "source": [
        "plt.figure(figsize=(30, 30))\n",
        "for i in range(0,len(perturbed_images)):\n",
        "  # print(sample_indexes[i])\n",
        "  img = np.reshape(perturbed_images[i], [28,28])\n",
        "  plt.subplot(int(len(perturbed_images)/10)+1, 10, i+1)\n",
        "  plt.imshow(img, cmap='Greys_r')"
      ],
      "execution_count": 69,
      "outputs": [
        {
          "output_type": "display_data",
          "data": {
            "image/png": "[encoded data removed]",
            "text/plain": [
              "<Figure size 2160x2160 with 5 Axes>"
            ]
          },
          "metadata": {
            "tags": []
          }
        }
      ]
    },
    {
      "cell_type": "code",
      "metadata": {
        "id": "0tcwRDmNgrby",
        "colab_type": "code",
        "colab": {}
      },
      "source": [
        "def predict_vector_output(input_image):\n",
        "  \"\"\"\n",
        "  input_image: np array with shape (1, 28, 28, 1)\n",
        "  \"\"\"\n",
        "  input_image = np.array(input_image)\n",
        "  return np.array(predict(params, input_image))"
      ],
      "execution_count": 0,
      "outputs": []
    },
    {
      "cell_type": "code",
      "metadata": {
        "id": "-GCDLwRSjDmS",
        "colab_type": "code",
        "colab": {}
      },
      "source": [
        ""
      ],
      "execution_count": 0,
      "outputs": []
    },
    {
      "cell_type": "markdown",
      "metadata": {
        "id": "dKPSFCVYjEFz",
        "colab_type": "text"
      },
      "source": [
        "### **Q3 (3A) The prediction vector output by the model on the ORIGINAL image**"
      ]
    },
    {
      "cell_type": "code",
      "metadata": {
        "id": "wgvPIYeaiZ3I",
        "colab_type": "code",
        "colab": {
          "base_uri": "https://localhost:8080/",
          "height": 69
        },
        "outputId": "033073cf-efe7-4358-b6c2-a074d83c4317"
      },
      "source": [
        "index  = 1164\n",
        "epsilon  = 0.1\n",
        "x_original = test_images[index]\n",
        "x_original = np.reshape(x_original, [1,28,28,1])\n",
        "\n",
        "predict_vector_output(x_original)"
      ],
      "execution_count": 80,
      "outputs": [
        {
          "output_type": "execute_result",
          "data": {
            "text/plain": [
              "DeviceArray([[ -2.4481146,  -3.3410597,  -6.470458 ,  -6.4255195,\n",
              "                2.6814365,   3.0443141, -14.161951 ,  18.817991 ,\n",
              "               -1.6459837,   8.225853 ]], dtype=float32)"
            ]
          },
          "metadata": {
            "tags": []
          },
          "execution_count": 80
        }
      ]
    },
    {
      "cell_type": "code",
      "metadata": {
        "id": "VF__ErlxinmM",
        "colab_type": "code",
        "colab": {
          "base_uri": "https://localhost:8080/",
          "height": 34
        },
        "outputId": "c9b767b6-e443-41f8-f638-5e3d0df29e6a"
      },
      "source": [
        "np.argmax(predict_vector_output(x_original))"
      ],
      "execution_count": 81,
      "outputs": [
        {
          "output_type": "execute_result",
          "data": {
            "text/plain": [
              "DeviceArray(7, dtype=int32)"
            ]
          },
          "metadata": {
            "tags": []
          },
          "execution_count": 81
        }
      ]
    },
    {
      "cell_type": "code",
      "metadata": {
        "id": "_j7dhGQ6jo46",
        "colab_type": "code",
        "colab": {
          "base_uri": "https://localhost:8080/",
          "height": 317
        },
        "outputId": "69c6b2be-535e-45f6-a485-11f77d40117d"
      },
      "source": [
        " print(\"Visualization of original image\")\n",
        " predict_image(x_original)"
      ],
      "execution_count": 87,
      "outputs": [
        {
          "output_type": "stream",
          "text": [
            "Visualization of original image\n",
            "Predicted class: 7\n"
          ],
          "name": "stdout"
        },
        {
          "output_type": "execute_result",
          "data": {
            "text/plain": [
              "7"
            ]
          },
          "metadata": {
            "tags": []
          },
          "execution_count": 87
        },
        {
          "output_type": "display_data",
          "data": {
            "image/png": "[encoded data removed]",
            "text/plain": [
              "<Figure size 432x288 with 1 Axes>"
            ]
          },
          "metadata": {
            "tags": []
          }
        }
      ]
    },
    {
      "cell_type": "markdown",
      "metadata": {
        "id": "EJpYKSJIjTTs",
        "colab_type": "text"
      },
      "source": [
        "### **Q3 (3B) The prediction vector output by the model on the PERTURBED image**"
      ]
    },
    {
      "cell_type": "code",
      "metadata": {
        "id": "XW0qmokmijbB",
        "colab_type": "code",
        "colab": {}
      },
      "source": [
        "perturbed_image = perturbed_images[4]"
      ],
      "execution_count": 0,
      "outputs": []
    },
    {
      "cell_type": "code",
      "metadata": {
        "id": "rBnJjFaKisU2",
        "colab_type": "code",
        "colab": {
          "base_uri": "https://localhost:8080/",
          "height": 69
        },
        "outputId": "2ecf336c-66dd-4fff-d918-c310aaec6bdd"
      },
      "source": [
        "predict_vector_output(perturbed_image)"
      ],
      "execution_count": 83,
      "outputs": [
        {
          "output_type": "execute_result",
          "data": {
            "text/plain": [
              "DeviceArray([[ -4.1326613 ,  -5.255438  ,  -8.403835  ,   1.7471925 ,\n",
              "                5.501384  ,  12.4275465 , -16.19648   ,   7.2348266 ,\n",
              "                0.76729155,  21.29297   ]], dtype=float32)"
            ]
          },
          "metadata": {
            "tags": []
          },
          "execution_count": 83
        }
      ]
    },
    {
      "cell_type": "code",
      "metadata": {
        "id": "7mG7IPuki2HT",
        "colab_type": "code",
        "colab": {
          "base_uri": "https://localhost:8080/",
          "height": 34
        },
        "outputId": "a44ce207-3c09-4ed5-824f-b7258b4631ce"
      },
      "source": [
        "np.argmax(predict_vector_output(perturbed_image))"
      ],
      "execution_count": 84,
      "outputs": [
        {
          "output_type": "execute_result",
          "data": {
            "text/plain": [
              "DeviceArray(9, dtype=int32)"
            ]
          },
          "metadata": {
            "tags": []
          },
          "execution_count": 84
        }
      ]
    },
    {
      "cell_type": "code",
      "metadata": {
        "id": "646bqWyqi5Io",
        "colab_type": "code",
        "colab": {
          "base_uri": "https://localhost:8080/",
          "height": 317
        },
        "outputId": "a6c7a7ca-79eb-489b-e3e1-0005f984b739"
      },
      "source": [
        " print(\"Visualization of perturbed image\")\n",
        " predict_image(perturbed_image)"
      ],
      "execution_count": 86,
      "outputs": [
        {
          "output_type": "stream",
          "text": [
            "Visualization of perturbed image\n",
            "Predicted class: 9\n"
          ],
          "name": "stdout"
        },
        {
          "output_type": "execute_result",
          "data": {
            "text/plain": [
              "9"
            ]
          },
          "metadata": {
            "tags": []
          },
          "execution_count": 86
        },
        {
          "output_type": "display_data",
          "data": {
            "image/png": "[encoded data removed]",
            "text/plain": [
              "<Figure size 432x288 with 1 Axes>"
            ]
          },
          "metadata": {
            "tags": []
          }
        }
      ]
    },
    {
      "cell_type": "markdown",
      "metadata": {
        "id": "Vo0fKOw-oVgT",
        "colab_type": "text"
      },
      "source": [
        "--------------------------------------------------------------------------------\n",
        "# **Q4 starts here**"
      ]
    },
    {
      "cell_type": "markdown",
      "metadata": {
        "id": "wIoZGJCEua05",
        "colab_type": "text"
      },
      "source": [
        "### Obtain predicted output class for original 1000 samples"
      ]
    },
    {
      "cell_type": "code",
      "metadata": {
        "id": "0GyUkdn4uZ-E",
        "colab_type": "code",
        "colab": {
          "base_uri": "https://localhost:8080/",
          "height": 1000
        },
        "outputId": "19bce493-c873-40f2-a309-ad02cace06b2"
      },
      "source": [
        "thousand_testing_sevens = []\n",
        "thousand_testing_sevens_labels = []\n",
        "for i in thousand_indices:\n",
        "  x = test_images[i]\n",
        "  thousand_testing_sevens.append(test_images[i])\n",
        "  x_reshaped = np.reshape(x, [1,28,28,1])\n",
        "  predicted = predict_output_class(x_reshaped)\n",
        "  actual_value = int(np.argmax(test_labels[i]))\n",
        "  thousand_testing_sevens_labels.append(test_labels[i])\n",
        "  print(\"Index: {} \\t Predicted: {} \\t Actual:{}\".\\\n",
        "        format(i, predicted, actual_value))"
      ],
      "execution_count": 143,
      "outputs": [
        {
          "output_type": "stream",
          "text": [
            "Index: 4760 \t Predicted: 7 \t Actual:7\n",
            "Index: 2095 \t Predicted: 7 \t Actual:7\n",
            "Index: 4938 \t Predicted: 7 \t Actual:7\n",
            "Index: 3294 \t Predicted: 7 \t Actual:7\n",
            "Index: 9384 \t Predicted: 7 \t Actual:7\n",
            "Index: 6364 \t Predicted: 7 \t Actual:7\n",
            "Index: 1883 \t Predicted: 7 \t Actual:7\n",
            "Index: 8837 \t Predicted: 7 \t Actual:7\n",
            "Index: 8248 \t Predicted: 7 \t Actual:7\n",
            "Index: 960 \t Predicted: 7 \t Actual:7\n",
            "Index: 7238 \t Predicted: 7 \t Actual:7\n",
            "Index: 9323 \t Predicted: 7 \t Actual:7\n",
            "Index: 4837 \t Predicted: 7 \t Actual:7\n",
            "Index: 9302 \t Predicted: 7 \t Actual:7\n",
            "Index: 2622 \t Predicted: 7 \t Actual:7\n",
            "Index: 75 \t Predicted: 7 \t Actual:7\n",
            "Index: 689 \t Predicted: 7 \t Actual:7\n",
            "Index: 825 \t Predicted: 7 \t Actual:7\n",
            "Index: 9721 \t Predicted: 7 \t Actual:7\n",
            "Index: 3059 \t Predicted: 7 \t Actual:7\n",
            "Index: 3505 \t Predicted: 7 \t Actual:7\n",
            "Index: 9101 \t Predicted: 7 \t Actual:7\n",
            "Index: 8218 \t Predicted: 7 \t Actual:7\n",
            "Index: 9746 \t Predicted: 7 \t Actual:7\n",
            "Index: 4624 \t Predicted: 7 \t Actual:7\n",
            "Index: 6198 \t Predicted: 7 \t Actual:7\n",
            "Index: 7268 \t Predicted: 7 \t Actual:7\n",
            "Index: 7267 \t Predicted: 7 \t Actual:7\n",
            "Index: 3202 \t Predicted: 7 \t Actual:7\n",
            "Index: 7796 \t Predicted: 7 \t Actual:7\n",
            "Index: 2577 \t Predicted: 7 \t Actual:7\n",
            "Index: 9399 \t Predicted: 7 \t Actual:7\n",
            "Index: 3349 \t Predicted: 7 \t Actual:7\n",
            "Index: 4130 \t Predicted: 7 \t Actual:7\n",
            "Index: 6353 \t Predicted: 7 \t Actual:7\n",
            "Index: 3498 \t Predicted: 7 \t Actual:7\n",
            "Index: 4821 \t Predicted: 7 \t Actual:7\n",
            "Index: 853 \t Predicted: 7 \t Actual:7\n",
            "Index: 2123 \t Predicted: 7 \t Actual:7\n",
            "Index: 9393 \t Predicted: 7 \t Actual:7\n",
            "Index: 7477 \t Predicted: 7 \t Actual:7\n",
            "Index: 9773 \t Predicted: 7 \t Actual:7\n",
            "Index: 6576 \t Predicted: 1 \t Actual:7\n",
            "Index: 6589 \t Predicted: 7 \t Actual:7\n",
            "Index: 822 \t Predicted: 7 \t Actual:7\n",
            "Index: 2490 \t Predicted: 7 \t Actual:7\n",
            "Index: 4215 \t Predicted: 7 \t Actual:7\n",
            "Index: 7766 \t Predicted: 7 \t Actual:7\n",
            "Index: 1133 \t Predicted: 7 \t Actual:7\n",
            "Index: 1500 \t Predicted: 7 \t Actual:7\n",
            "Index: 111 \t Predicted: 7 \t Actual:7\n",
            "Index: 1156 \t Predicted: 7 \t Actual:7\n",
            "Index: 9009 \t Predicted: 7 \t Actual:7\n",
            "Index: 5238 \t Predicted: 7 \t Actual:7\n",
            "Index: 5914 \t Predicted: 7 \t Actual:7\n",
            "Index: 9640 \t Predicted: 7 \t Actual:7\n",
            "Index: 9909 \t Predicted: 7 \t Actual:7\n",
            "Index: 223 \t Predicted: 7 \t Actual:7\n",
            "Index: 8956 \t Predicted: 7 \t Actual:7\n",
            "Index: 8144 \t Predicted: 7 \t Actual:7\n",
            "Index: 4966 \t Predicted: 7 \t Actual:7\n",
            "Index: 3743 \t Predicted: 7 \t Actual:7\n",
            "Index: 941 \t Predicted: 7 \t Actual:7\n",
            "Index: 8641 \t Predicted: 7 \t Actual:7\n",
            "Index: 3425 \t Predicted: 7 \t Actual:7\n",
            "Index: 6223 \t Predicted: 7 \t Actual:7\n",
            "Index: 6730 \t Predicted: 7 \t Actual:7\n",
            "Index: 1143 \t Predicted: 7 \t Actual:7\n",
            "Index: 5107 \t Predicted: 7 \t Actual:7\n",
            "Index: 5205 \t Predicted: 7 \t Actual:7\n",
            "Index: 617 \t Predicted: 7 \t Actual:7\n",
            "Index: 6708 \t Predicted: 7 \t Actual:7\n",
            "Index: 9469 \t Predicted: 7 \t Actual:7\n",
            "Index: 3352 \t Predicted: 7 \t Actual:7\n",
            "Index: 7605 \t Predicted: 7 \t Actual:7\n",
            "Index: 2967 \t Predicted: 7 \t Actual:7\n",
            "Index: 3585 \t Predicted: 7 \t Actual:7\n",
            "Index: 5485 \t Predicted: 7 \t Actual:7\n",
            "Index: 3236 \t Predicted: 7 \t Actual:7\n",
            "Index: 5246 \t Predicted: 7 \t Actual:7\n",
            "Index: 4551 \t Predicted: 7 \t Actual:7\n",
            "Index: 6267 \t Predicted: 7 \t Actual:7\n",
            "Index: 2567 \t Predicted: 7 \t Actual:7\n",
            "Index: 6360 \t Predicted: 7 \t Actual:7\n",
            "Index: 8984 \t Predicted: 7 \t Actual:7\n",
            "Index: 5466 \t Predicted: 7 \t Actual:7\n",
            "Index: 8911 \t Predicted: 7 \t Actual:7\n",
            "Index: 8285 \t Predicted: 7 \t Actual:7\n",
            "Index: 7286 \t Predicted: 7 \t Actual:7\n",
            "Index: 9731 \t Predicted: 7 \t Actual:7\n",
            "Index: 175 \t Predicted: 7 \t Actual:7\n",
            "Index: 4322 \t Predicted: 7 \t Actual:7\n",
            "Index: 9851 \t Predicted: 7 \t Actual:7\n",
            "Index: 4855 \t Predicted: 7 \t Actual:7\n",
            "Index: 987 \t Predicted: 7 \t Actual:7\n",
            "Index: 2238 \t Predicted: 7 \t Actual:7\n",
            "Index: 6679 \t Predicted: 7 \t Actual:7\n",
            "Index: 1540 \t Predicted: 7 \t Actual:7\n",
            "Index: 3573 \t Predicted: 7 \t Actual:7\n",
            "Index: 1326 \t Predicted: 7 \t Actual:7\n",
            "Index: 9990 \t Predicted: 7 \t Actual:7\n",
            "Index: 4881 \t Predicted: 7 \t Actual:7\n",
            "Index: 4049 \t Predicted: 7 \t Actual:7\n",
            "Index: 2141 \t Predicted: 7 \t Actual:7\n",
            "Index: 255 \t Predicted: 7 \t Actual:7\n",
            "Index: 8455 \t Predicted: 7 \t Actual:7\n",
            "Index: 605 \t Predicted: 7 \t Actual:7\n",
            "Index: 2961 \t Predicted: 7 \t Actual:7\n",
            "Index: 2399 \t Predicted: 7 \t Actual:7\n",
            "Index: 6741 \t Predicted: 7 \t Actual:7\n",
            "Index: 2024 \t Predicted: 7 \t Actual:7\n",
            "Index: 1346 \t Predicted: 7 \t Actual:7\n",
            "Index: 6170 \t Predicted: 7 \t Actual:7\n",
            "Index: 2234 \t Predicted: 7 \t Actual:7\n",
            "Index: 2240 \t Predicted: 7 \t Actual:7\n",
            "Index: 1110 \t Predicted: 7 \t Actual:7\n",
            "Index: 5498 \t Predicted: 7 \t Actual:7\n",
            "Index: 1175 \t Predicted: 7 \t Actual:7\n",
            "Index: 9141 \t Predicted: 7 \t Actual:7\n",
            "Index: 7260 \t Predicted: 7 \t Actual:7\n",
            "Index: 8402 \t Predicted: 7 \t Actual:7\n",
            "Index: 4498 \t Predicted: 7 \t Actual:7\n",
            "Index: 2665 \t Predicted: 7 \t Actual:7\n",
            "Index: 5670 \t Predicted: 7 \t Actual:7\n",
            "Index: 5482 \t Predicted: 7 \t Actual:7\n",
            "Index: 852 \t Predicted: 7 \t Actual:7\n",
            "Index: 262 \t Predicted: 7 \t Actual:7\n",
            "Index: 3604 \t Predicted: 7 \t Actual:7\n",
            "Index: 7744 \t Predicted: 7 \t Actual:7\n",
            "Index: 6242 \t Predicted: 7 \t Actual:7\n",
            "Index: 8555 \t Predicted: 7 \t Actual:7\n",
            "Index: 9015 \t Predicted: 2 \t Actual:7\n",
            "Index: 5649 \t Predicted: 7 \t Actual:7\n",
            "Index: 3848 \t Predicted: 7 \t Actual:7\n",
            "Index: 6171 \t Predicted: 7 \t Actual:7\n",
            "Index: 2285 \t Predicted: 7 \t Actual:7\n",
            "Index: 3125 \t Predicted: 7 \t Actual:7\n",
            "Index: 3103 \t Predicted: 7 \t Actual:7\n",
            "Index: 8541 \t Predicted: 7 \t Actual:7\n",
            "Index: 6503 \t Predicted: 7 \t Actual:7\n",
            "Index: 9077 \t Predicted: 7 \t Actual:7\n",
            "Index: 6158 \t Predicted: 7 \t Actual:7\n",
            "Index: 8918 \t Predicted: 7 \t Actual:7\n",
            "Index: 9618 \t Predicted: 7 \t Actual:7\n",
            "Index: 8786 \t Predicted: 7 \t Actual:7\n",
            "Index: 4865 \t Predicted: 7 \t Actual:7\n",
            "Index: 2646 \t Predicted: 7 \t Actual:7\n",
            "Index: 8375 \t Predicted: 7 \t Actual:7\n",
            "Index: 1595 \t Predicted: 7 \t Actual:7\n",
            "Index: 4781 \t Predicted: 7 \t Actual:7\n",
            "Index: 6316 \t Predicted: 7 \t Actual:7\n",
            "Index: 1935 \t Predicted: 7 \t Actual:7\n",
            "Index: 6815 \t Predicted: 7 \t Actual:7\n",
            "Index: 557 \t Predicted: 7 \t Actual:7\n",
            "Index: 7144 \t Predicted: 7 \t Actual:7\n",
            "Index: 5064 \t Predicted: 7 \t Actual:7\n",
            "Index: 917 \t Predicted: 7 \t Actual:7\n",
            "Index: 2187 \t Predicted: 7 \t Actual:7\n",
            "Index: 1543 \t Predicted: 7 \t Actual:7\n",
            "Index: 7912 \t Predicted: 7 \t Actual:7\n",
            "Index: 4530 \t Predicted: 7 \t Actual:7\n",
            "Index: 6263 \t Predicted: 7 \t Actual:7\n",
            "Index: 4991 \t Predicted: 7 \t Actual:7\n",
            "Index: 6121 \t Predicted: 7 \t Actual:7\n",
            "Index: 4400 \t Predicted: 7 \t Actual:7\n",
            "Index: 9451 \t Predicted: 7 \t Actual:7\n",
            "Index: 3713 \t Predicted: 7 \t Actual:7\n",
            "Index: 9019 \t Predicted: 7 \t Actual:7\n",
            "Index: 9650 \t Predicted: 7 \t Actual:7\n",
            "Index: 6640 \t Predicted: 7 \t Actual:7\n",
            "Index: 8620 \t Predicted: 7 \t Actual:7\n",
            "Index: 1563 \t Predicted: 7 \t Actual:7\n",
            "Index: 9248 \t Predicted: 7 \t Actual:7\n",
            "Index: 26 \t Predicted: 7 \t Actual:7\n",
            "Index: 911 \t Predicted: 7 \t Actual:7\n",
            "Index: 1361 \t Predicted: 7 \t Actual:7\n",
            "Index: 705 \t Predicted: 7 \t Actual:7\n",
            "Index: 4815 \t Predicted: 7 \t Actual:7\n",
            "Index: 4955 \t Predicted: 7 \t Actual:7\n",
            "Index: 6105 \t Predicted: 7 \t Actual:7\n",
            "Index: 3920 \t Predicted: 7 \t Actual:7\n",
            "Index: 7504 \t Predicted: 7 \t Actual:7\n",
            "Index: 6963 \t Predicted: 7 \t Actual:7\n",
            "Index: 4433 \t Predicted: 7 \t Actual:7\n",
            "Index: 2070 \t Predicted: 7 \t Actual:7\n",
            "Index: 7189 \t Predicted: 7 \t Actual:7\n",
            "Index: 9919 \t Predicted: 7 \t Actual:7\n",
            "Index: 7852 \t Predicted: 7 \t Actual:7\n",
            "Index: 9859 \t Predicted: 7 \t Actual:7\n",
            "Index: 2270 \t Predicted: 7 \t Actual:7\n",
            "Index: 8316 \t Predicted: 7 \t Actual:7\n",
            "Index: 2539 \t Predicted: 7 \t Actual:7\n",
            "Index: 114 \t Predicted: 7 \t Actual:7\n",
            "Index: 9288 \t Predicted: 7 \t Actual:7\n",
            "Index: 1347 \t Predicted: 7 \t Actual:7\n",
            "Index: 2507 \t Predicted: 7 \t Actual:7\n",
            "Index: 649 \t Predicted: 7 \t Actual:7\n",
            "Index: 3292 \t Predicted: 7 \t Actual:7\n",
            "Index: 2474 \t Predicted: 7 \t Actual:7\n",
            "Index: 7021 \t Predicted: 7 \t Actual:7\n",
            "Index: 5563 \t Predicted: 7 \t Actual:7\n",
            "Index: 6874 \t Predicted: 7 \t Actual:7\n",
            "Index: 9771 \t Predicted: 7 \t Actual:7\n",
            "Index: 7300 \t Predicted: 7 \t Actual:7\n",
            "Index: 859 \t Predicted: 7 \t Actual:7\n",
            "Index: 5549 \t Predicted: 7 \t Actual:7\n",
            "Index: 946 \t Predicted: 7 \t Actual:7\n",
            "Index: 8573 \t Predicted: 7 \t Actual:7\n",
            "Index: 3329 \t Predicted: 7 \t Actual:7\n",
            "Index: 6858 \t Predicted: 7 \t Actual:7\n",
            "Index: 2484 \t Predicted: 7 \t Actual:7\n",
            "Index: 2642 \t Predicted: 7 \t Actual:7\n",
            "Index: 1006 \t Predicted: 7 \t Actual:7\n",
            "Index: 8391 \t Predicted: 7 \t Actual:7\n",
            "Index: 9869 \t Predicted: 7 \t Actual:7\n",
            "Index: 5600 \t Predicted: 7 \t Actual:7\n",
            "Index: 5512 \t Predicted: 7 \t Actual:7\n",
            "Index: 2028 \t Predicted: 7 \t Actual:7\n",
            "Index: 7695 \t Predicted: 7 \t Actual:7\n",
            "Index: 3079 \t Predicted: 7 \t Actual:7\n",
            "Index: 4746 \t Predicted: 7 \t Actual:7\n",
            "Index: 6434 \t Predicted: 7 \t Actual:7\n",
            "Index: 5114 \t Predicted: 7 \t Actual:7\n",
            "Index: 9929 \t Predicted: 7 \t Actual:7\n",
            "Index: 7219 \t Predicted: 7 \t Actual:7\n",
            "Index: 3328 \t Predicted: 7 \t Actual:7\n",
            "Index: 4593 \t Predicted: 7 \t Actual:7\n",
            "Index: 5773 \t Predicted: 7 \t Actual:7\n",
            "Index: 1848 \t Predicted: 7 \t Actual:7\n",
            "Index: 7082 \t Predicted: 7 \t Actual:7\n",
            "Index: 2442 \t Predicted: 7 \t Actual:7\n",
            "Index: 5297 \t Predicted: 7 \t Actual:7\n",
            "Index: 3101 \t Predicted: 7 \t Actual:7\n",
            "Index: 4578 \t Predicted: 7 \t Actual:7\n",
            "Index: 4921 \t Predicted: 7 \t Actual:7\n",
            "Index: 4142 \t Predicted: 7 \t Actual:7\n",
            "Index: 5363 \t Predicted: 7 \t Actual:7\n",
            "Index: 2841 \t Predicted: 7 \t Actual:7\n",
            "Index: 6539 \t Predicted: 7 \t Actual:7\n",
            "Index: 1507 \t Predicted: 7 \t Actual:7\n",
            "Index: 1734 \t Predicted: 7 \t Actual:7\n",
            "Index: 6561 \t Predicted: 7 \t Actual:7\n",
            "Index: 3838 \t Predicted: 7 \t Actual:7\n",
            "Index: 8654 \t Predicted: 7 \t Actual:7\n",
            "Index: 8043 \t Predicted: 7 \t Actual:7\n",
            "Index: 6830 \t Predicted: 7 \t Actual:7\n",
            "Index: 3309 \t Predicted: 7 \t Actual:7\n",
            "Index: 8151 \t Predicted: 7 \t Actual:7\n",
            "Index: 4540 \t Predicted: 7 \t Actual:7\n",
            "Index: 8428 \t Predicted: 7 \t Actual:7\n",
            "Index: 6609 \t Predicted: 7 \t Actual:7\n",
            "Index: 2521 \t Predicted: 7 \t Actual:7\n",
            "Index: 282 \t Predicted: 7 \t Actual:7\n",
            "Index: 41 \t Predicted: 7 \t Actual:7\n",
            "Index: 3055 \t Predicted: 7 \t Actual:7\n",
            "Index: 5858 \t Predicted: 7 \t Actual:7\n",
            "Index: 9979 \t Predicted: 7 \t Actual:7\n",
            "Index: 3009 \t Predicted: 7 \t Actual:7\n",
            "Index: 3692 \t Predicted: 7 \t Actual:7\n",
            "Index: 9567 \t Predicted: 7 \t Actual:7\n",
            "Index: 2547 \t Predicted: 7 \t Actual:7\n",
            "Index: 2048 \t Predicted: 7 \t Actual:7\n",
            "Index: 8565 \t Predicted: 7 \t Actual:7\n",
            "Index: 2143 \t Predicted: 7 \t Actual:7\n",
            "Index: 8871 \t Predicted: 7 \t Actual:7\n",
            "Index: 3609 \t Predicted: 7 \t Actual:7\n",
            "Index: 4568 \t Predicted: 7 \t Actual:7\n",
            "Index: 3360 \t Predicted: 7 \t Actual:7\n",
            "Index: 2730 \t Predicted: 7 \t Actual:7\n",
            "Index: 2252 \t Predicted: 7 \t Actual:7\n",
            "Index: 1805 \t Predicted: 7 \t Actual:7\n",
            "Index: 9608 \t Predicted: 7 \t Actual:7\n",
            "Index: 5532 \t Predicted: 7 \t Actual:7\n",
            "Index: 6363 \t Predicted: 7 \t Actual:7\n",
            "Index: 3038 \t Predicted: 7 \t Actual:7\n",
            "Index: 3303 \t Predicted: 7 \t Actual:7\n",
            "Index: 6934 \t Predicted: 7 \t Actual:7\n",
            "Index: 2193 \t Predicted: 7 \t Actual:7\n",
            "Index: 6855 \t Predicted: 7 \t Actual:7\n",
            "Index: 3356 \t Predicted: 7 \t Actual:7\n",
            "Index: 4467 \t Predicted: 7 \t Actual:7\n",
            "Index: 2016 \t Predicted: 7 \t Actual:7\n",
            "Index: 2710 \t Predicted: 7 \t Actual:7\n",
            "Index: 70 \t Predicted: 7 \t Actual:7\n",
            "Index: 5866 \t Predicted: 7 \t Actual:7\n",
            "Index: 5640 \t Predicted: 7 \t Actual:7\n",
            "Index: 4214 \t Predicted: 7 \t Actual:7\n",
            "Index: 3720 \t Predicted: 7 \t Actual:7\n",
            "Index: 5745 \t Predicted: 7 \t Actual:7\n",
            "Index: 1194 \t Predicted: 7 \t Actual:7\n",
            "Index: 9895 \t Predicted: 7 \t Actual:7\n",
            "Index: 5835 \t Predicted: 7 \t Actual:7\n",
            "Index: 482 \t Predicted: 7 \t Actual:7\n",
            "Index: 1925 \t Predicted: 7 \t Actual:7\n",
            "Index: 3878 \t Predicted: 7 \t Actual:7\n",
            "Index: 5261 \t Predicted: 7 \t Actual:7\n",
            "Index: 8885 \t Predicted: 7 \t Actual:7\n",
            "Index: 6825 \t Predicted: 7 \t Actual:7\n",
            "Index: 9968 \t Predicted: 7 \t Actual:7\n",
            "Index: 1173 \t Predicted: 7 \t Actual:7\n",
            "Index: 3721 \t Predicted: 7 \t Actual:7\n",
            "Index: 9637 \t Predicted: 7 \t Actual:7\n",
            "Index: 7490 \t Predicted: 7 \t Actual:7\n",
            "Index: 7573 \t Predicted: 7 \t Actual:7\n",
            "Index: 6335 \t Predicted: 7 \t Actual:7\n",
            "Index: 2332 \t Predicted: 7 \t Actual:7\n",
            "Index: 2505 \t Predicted: 7 \t Actual:7\n",
            "Index: 7940 \t Predicted: 7 \t Actual:7\n",
            "Index: 8727 \t Predicted: 7 \t Actual:7\n",
            "Index: 5412 \t Predicted: 7 \t Actual:7\n",
            "Index: 1792 \t Predicted: 7 \t Actual:7\n",
            "Index: 9644 \t Predicted: 7 \t Actual:7\n",
            "Index: 1520 \t Predicted: 7 \t Actual:7\n",
            "Index: 337 \t Predicted: 7 \t Actual:7\n",
            "Index: 898 \t Predicted: 7 \t Actual:7\n",
            "Index: 9169 \t Predicted: 7 \t Actual:7\n",
            "Index: 4357 \t Predicted: 7 \t Actual:7\n",
            "Index: 1119 \t Predicted: 7 \t Actual:7\n",
            "Index: 3162 \t Predicted: 7 \t Actual:7\n",
            "Index: 3084 \t Predicted: 7 \t Actual:7\n",
            "Index: 4027 \t Predicted: 7 \t Actual:7\n",
            "Index: 5097 \t Predicted: 7 \t Actual:7\n",
            "Index: 3208 \t Predicted: 7 \t Actual:7\n",
            "Index: 307 \t Predicted: 7 \t Actual:7\n",
            "Index: 2628 \t Predicted: 7 \t Actual:7\n",
            "Index: 7149 \t Predicted: 7 \t Actual:7\n",
            "Index: 6471 \t Predicted: 7 \t Actual:7\n",
            "Index: 4485 \t Predicted: 7 \t Actual:7\n",
            "Index: 7439 \t Predicted: 7 \t Actual:7\n",
            "Index: 7079 \t Predicted: 7 \t Actual:7\n",
            "Index: 9868 \t Predicted: 7 \t Actual:7\n",
            "Index: 171 \t Predicted: 7 \t Actual:7\n",
            "Index: 4654 \t Predicted: 7 \t Actual:7\n",
            "Index: 468 \t Predicted: 7 \t Actual:7\n",
            "Index: 6164 \t Predicted: 7 \t Actual:7\n",
            "Index: 3441 \t Predicted: 7 \t Actual:7\n",
            "Index: 522 \t Predicted: 7 \t Actual:7\n",
            "Index: 6490 \t Predicted: 7 \t Actual:7\n",
            "Index: 1328 \t Predicted: 7 \t Actual:7\n",
            "Index: 2837 \t Predicted: 7 \t Actual:7\n",
            "Index: 9328 \t Predicted: 7 \t Actual:7\n",
            "Index: 383 \t Predicted: 7 \t Actual:7\n",
            "Index: 8638 \t Predicted: 7 \t Actual:7\n",
            "Index: 7924 \t Predicted: 7 \t Actual:7\n",
            "Index: 7230 \t Predicted: 7 \t Actual:7\n",
            "Index: 1716 \t Predicted: 7 \t Actual:7\n",
            "Index: 5808 \t Predicted: 7 \t Actual:7\n",
            "Index: 2091 \t Predicted: 7 \t Actual:7\n",
            "Index: 6361 \t Predicted: 7 \t Actual:7\n",
            "Index: 6837 \t Predicted: 7 \t Actual:7\n",
            "Index: 7538 \t Predicted: 7 \t Actual:7\n",
            "Index: 5287 \t Predicted: 7 \t Actual:7\n",
            "Index: 1975 \t Predicted: 7 \t Actual:7\n",
            "Index: 5959 \t Predicted: 7 \t Actual:7\n",
            "Index: 9486 \t Predicted: 7 \t Actual:7\n",
            "Index: 8931 \t Predicted: 7 \t Actual:7\n",
            "Index: 5714 \t Predicted: 7 \t Actual:7\n",
            "Index: 6724 \t Predicted: 7 \t Actual:7\n",
            "Index: 4107 \t Predicted: 7 \t Actual:7\n",
            "Index: 86 \t Predicted: 7 \t Actual:7\n",
            "Index: 550 \t Predicted: 7 \t Actual:7\n",
            "Index: 9164 \t Predicted: 7 \t Actual:7\n",
            "Index: 9204 \t Predicted: 7 \t Actual:7\n",
            "Index: 6149 \t Predicted: 7 \t Actual:7\n",
            "Index: 6697 \t Predicted: 7 \t Actual:7\n",
            "Index: 7801 \t Predicted: 7 \t Actual:7\n",
            "Index: 9300 \t Predicted: 7 \t Actual:7\n",
            "Index: 9044 \t Predicted: 7 \t Actual:7\n",
            "Index: 3122 \t Predicted: 7 \t Actual:7\n",
            "Index: 9340 \t Predicted: 7 \t Actual:7\n",
            "Index: 5657 \t Predicted: 7 \t Actual:7\n",
            "Index: 7606 \t Predicted: 7 \t Actual:7\n",
            "Index: 4099 \t Predicted: 7 \t Actual:7\n",
            "Index: 5154 \t Predicted: 7 \t Actual:7\n",
            "Index: 7915 \t Predicted: 7 \t Actual:7\n",
            "Index: 1244 \t Predicted: 7 \t Actual:7\n",
            "Index: 6026 \t Predicted: 7 \t Actual:7\n",
            "Index: 9823 \t Predicted: 7 \t Actual:7\n",
            "Index: 7614 \t Predicted: 7 \t Actual:7\n",
            "Index: 3189 \t Predicted: 7 \t Actual:7\n",
            "Index: 832 \t Predicted: 7 \t Actual:7\n",
            "Index: 234 \t Predicted: 7 \t Actual:7\n",
            "Index: 8678 \t Predicted: 7 \t Actual:7\n",
            "Index: 5663 \t Predicted: 7 \t Actual:7\n",
            "Index: 8510 \t Predicted: 7 \t Actual:7\n",
            "Index: 2480 \t Predicted: 7 \t Actual:7\n",
            "Index: 4566 \t Predicted: 7 \t Actual:7\n",
            "Index: 2482 \t Predicted: 7 \t Actual:7\n",
            "Index: 9837 \t Predicted: 7 \t Actual:7\n",
            "Index: 5887 \t Predicted: 7 \t Actual:7\n",
            "Index: 3751 \t Predicted: 7 \t Actual:7\n",
            "Index: 8401 \t Predicted: 7 \t Actual:7\n",
            "Index: 8631 \t Predicted: 7 \t Actual:7\n",
            "Index: 5540 \t Predicted: 7 \t Actual:7\n",
            "Index: 7032 \t Predicted: 7 \t Actual:7\n",
            "Index: 2059 \t Predicted: 7 \t Actual:7\n",
            "Index: 1710 \t Predicted: 7 \t Actual:7\n",
            "Index: 1122 \t Predicted: 7 \t Actual:7\n",
            "Index: 5751 \t Predicted: 7 \t Actual:7\n",
            "Index: 4487 \t Predicted: 7 \t Actual:7\n",
            "Index: 8525 \t Predicted: 7 \t Actual:7\n",
            "Index: 7844 \t Predicted: 7 \t Actual:7\n",
            "Index: 1369 \t Predicted: 7 \t Actual:7\n",
            "Index: 3494 \t Predicted: 7 \t Actual:7\n",
            "Index: 9067 \t Predicted: 7 \t Actual:7\n",
            "Index: 4423 \t Predicted: 7 \t Actual:7\n",
            "Index: 6986 \t Predicted: 7 \t Actual:7\n",
            "Index: 7088 \t Predicted: 7 \t Actual:7\n",
            "Index: 3184 \t Predicted: 7 \t Actual:7\n",
            "Index: 328 \t Predicted: 7 \t Actual:7\n",
            "Index: 6606 \t Predicted: 7 \t Actual:7\n",
            "Index: 9413 \t Predicted: 7 \t Actual:7\n",
            "Index: 841 \t Predicted: 7 \t Actual:7\n",
            "Index: 358 \t Predicted: 7 \t Actual:7\n",
            "Index: 3109 \t Predicted: 1 \t Actual:7\n",
            "Index: 7757 \t Predicted: 7 \t Actual:7\n",
            "Index: 3667 \t Predicted: 7 \t Actual:7\n",
            "Index: 5040 \t Predicted: 7 \t Actual:7\n",
            "Index: 2372 \t Predicted: 7 \t Actual:7\n",
            "Index: 8688 \t Predicted: 7 \t Actual:7\n",
            "Index: 7098 \t Predicted: 7 \t Actual:7\n",
            "Index: 4459 \t Predicted: 7 \t Actual:7\n",
            "Index: 2036 \t Predicted: 7 \t Actual:7\n",
            "Index: 6449 \t Predicted: 7 \t Actual:7\n",
            "Index: 9212 \t Predicted: 7 \t Actual:7\n",
            "Index: 263 \t Predicted: 7 \t Actual:7\n",
            "Index: 9765 \t Predicted: 7 \t Actual:7\n",
            "Index: 6791 \t Predicted: 7 \t Actual:7\n",
            "Index: 3799 \t Predicted: 7 \t Actual:7\n",
            "Index: 1718 \t Predicted: 7 \t Actual:7\n",
            "Index: 626 \t Predicted: 7 \t Actual:7\n",
            "Index: 2167 \t Predicted: 7 \t Actual:7\n",
            "Index: 5798 \t Predicted: 7 \t Actual:7\n",
            "Index: 9242 \t Predicted: 7 \t Actual:7\n",
            "Index: 4238 \t Predicted: 7 \t Actual:7\n",
            "Index: 6098 \t Predicted: 7 \t Actual:7\n",
            "Index: 8825 \t Predicted: 7 \t Actual:7\n",
            "Index: 7903 \t Predicted: 7 \t Actual:7\n",
            "Index: 2268 \t Predicted: 7 \t Actual:7\n",
            "Index: 3736 \t Predicted: 7 \t Actual:7\n",
            "Index: 83 \t Predicted: 7 \t Actual:7\n",
            "Index: 3647 \t Predicted: 7 \t Actual:7\n",
            "Index: 2833 \t Predicted: 7 \t Actual:7\n",
            "Index: 8733 \t Predicted: 7 \t Actual:7\n",
            "Index: 6147 \t Predicted: 7 \t Actual:7\n",
            "Index: 7069 \t Predicted: 7 \t Actual:7\n",
            "Index: 4225 \t Predicted: 7 \t Actual:7\n",
            "Index: 6292 \t Predicted: 7 \t Actual:7\n",
            "Index: 8284 \t Predicted: 7 \t Actual:7\n",
            "Index: 8718 \t Predicted: 7 \t Actual:7\n",
            "Index: 243 \t Predicted: 7 \t Actual:7\n",
            "Index: 6619 \t Predicted: 7 \t Actual:7\n",
            "Index: 1624 \t Predicted: 7 \t Actual:7\n",
            "Index: 8234 \t Predicted: 7 \t Actual:7\n",
            "Index: 6017 \t Predicted: 7 \t Actual:7\n",
            "Index: 9543 \t Predicted: 7 \t Actual:7\n",
            "Index: 7825 \t Predicted: 7 \t Actual:7\n",
            "Index: 6050 \t Predicted: 7 \t Actual:7\n",
            "Index: 7584 \t Predicted: 7 \t Actual:7\n",
            "Index: 4800 \t Predicted: 7 \t Actual:7\n",
            "Index: 8106 \t Predicted: 7 \t Actual:7\n",
            "Index: 8052 \t Predicted: 7 \t Actual:7\n",
            "Index: 684 \t Predicted: 7 \t Actual:7\n",
            "Index: 8791 \t Predicted: 7 \t Actual:7\n",
            "Index: 909 \t Predicted: 7 \t Actual:7\n",
            "Index: 2104 \t Predicted: 7 \t Actual:7\n",
            "Index: 5576 \t Predicted: 7 \t Actual:7\n",
            "Index: 5551 \t Predicted: 7 \t Actual:7\n",
            "Index: 9505 \t Predicted: 7 \t Actual:7\n",
            "Index: 9151 \t Predicted: 7 \t Actual:7\n",
            "Index: 3854 \t Predicted: 7 \t Actual:7\n",
            "Index: 5845 \t Predicted: 7 \t Actual:7\n",
            "Index: 4742 \t Predicted: 7 \t Actual:7\n",
            "Index: 1750 \t Predicted: 7 \t Actual:7\n",
            "Index: 8387 \t Predicted: 7 \t Actual:7\n",
            "Index: 7375 \t Predicted: 7 \t Actual:7\n",
            "Index: 9711 \t Predicted: 7 \t Actual:7\n",
            "Index: 2523 \t Predicted: 7 \t Actual:7\n",
            "Index: 5190 \t Predicted: 7 \t Actual:7\n",
            "Index: 5654 \t Predicted: 7 \t Actual:7\n",
            "Index: 554 \t Predicted: 7 \t Actual:7\n",
            "Index: 6853 \t Predicted: 7 \t Actual:7\n",
            "Index: 2063 \t Predicted: 7 \t Actual:7\n",
            "Index: 8124 \t Predicted: 7 \t Actual:7\n",
            "Index: 5471 \t Predicted: 7 \t Actual:7\n",
            "Index: 7392 \t Predicted: 7 \t Actual:7\n",
            "Index: 3719 \t Predicted: 7 \t Actual:7\n",
            "Index: 8749 \t Predicted: 7 \t Actual:7\n",
            "Index: 5094 \t Predicted: 7 \t Actual:7\n",
            "Index: 1660 \t Predicted: 7 \t Actual:7\n",
            "Index: 9495 \t Predicted: 7 \t Actual:7\n",
            "Index: 679 \t Predicted: 7 \t Actual:7\n",
            "Index: 9448 \t Predicted: 7 \t Actual:7\n",
            "Index: 4295 \t Predicted: 7 \t Actual:7\n",
            "Index: 9087 \t Predicted: 7 \t Actual:7\n",
            "Index: 1754 \t Predicted: 7 \t Actual:7\n",
            "Index: 9447 \t Predicted: 7 \t Actual:7\n",
            "Index: 1966 \t Predicted: 7 \t Actual:7\n",
            "Index: 8734 \t Predicted: 7 \t Actual:7\n",
            "Index: 1949 \t Predicted: 7 \t Actual:7\n",
            "Index: 2749 \t Predicted: 7 \t Actual:7\n",
            "Index: 8302 \t Predicted: 7 \t Actual:7\n",
            "Index: 9963 \t Predicted: 7 \t Actual:7\n",
            "Index: 8313 \t Predicted: 7 \t Actual:7\n",
            "Index: 746 \t Predicted: 7 \t Actual:7\n",
            "Index: 880 \t Predicted: 7 \t Actual:7\n",
            "Index: 6054 \t Predicted: 7 \t Actual:7\n",
            "Index: 7419 \t Predicted: 7 \t Actual:7\n",
            "Index: 5988 \t Predicted: 7 \t Actual:7\n",
            "Index: 7650 \t Predicted: 7 \t Actual:7\n",
            "Index: 9884 \t Predicted: 7 \t Actual:7\n",
            "Index: 3418 \t Predicted: 7 \t Actual:7\n",
            "Index: 9327 \t Predicted: 7 \t Actual:7\n",
            "Index: 2564 \t Predicted: 7 \t Actual:7\n",
            "Index: 4773 \t Predicted: 7 \t Actual:7\n",
            "Index: 7334 \t Predicted: 7 \t Actual:7\n",
            "Index: 1386 \t Predicted: 7 \t Actual:7\n",
            "Index: 3400 \t Predicted: 7 \t Actual:7\n",
            "Index: 842 \t Predicted: 7 \t Actual:7\n",
            "Index: 5854 \t Predicted: 7 \t Actual:7\n",
            "Index: 2301 \t Predicted: 7 \t Actual:7\n",
            "Index: 124 \t Predicted: 7 \t Actual:7\n",
            "Index: 5058 \t Predicted: 7 \t Actual:7\n",
            "Index: 5313 \t Predicted: 7 \t Actual:7\n",
            "Index: 1497 \t Predicted: 7 \t Actual:7\n",
            "Index: 9560 \t Predicted: 7 \t Actual:7\n",
            "Index: 3993 \t Predicted: 7 \t Actual:7\n",
            "Index: 1117 \t Predicted: 7 \t Actual:7\n",
            "Index: 8974 \t Predicted: 7 \t Actual:7\n",
            "Index: 1104 \t Predicted: 7 \t Actual:7\n",
            "Index: 4539 \t Predicted: 7 \t Actual:7\n",
            "Index: 8202 \t Predicted: 7 \t Actual:7\n",
            "Index: 1401 \t Predicted: 7 \t Actual:7\n",
            "Index: 7902 \t Predicted: 7 \t Actual:7\n",
            "Index: 636 \t Predicted: 7 \t Actual:7\n",
            "Index: 3525 \t Predicted: 7 \t Actual:7\n",
            "Index: 1505 \t Predicted: 7 \t Actual:7\n",
            "Index: 9270 \t Predicted: 7 \t Actual:7\n",
            "Index: 6586 \t Predicted: 7 \t Actual:7\n",
            "Index: 2823 \t Predicted: 7 \t Actual:7\n",
            "Index: 7432 \t Predicted: 7 \t Actual:7\n",
            "Index: 3637 \t Predicted: 7 \t Actual:7\n",
            "Index: 8364 \t Predicted: 7 \t Actual:7\n",
            "Index: 9628 \t Predicted: 7 \t Actual:7\n",
            "Index: 438 \t Predicted: 7 \t Actual:7\n",
            "Index: 726 \t Predicted: 7 \t Actual:7\n",
            "Index: 494 \t Predicted: 7 \t Actual:7\n",
            "Index: 8874 \t Predicted: 7 \t Actual:7\n",
            "Index: 667 \t Predicted: 7 \t Actual:7\n",
            "Index: 2463 \t Predicted: 7 \t Actual:7\n",
            "Index: 6756 \t Predicted: 7 \t Actual:7\n",
            "Index: 4612 \t Predicted: 7 \t Actual:7\n",
            "Index: 3296 \t Predicted: 7 \t Actual:7\n",
            "Index: 5728 \t Predicted: 7 \t Actual:7\n",
            "Index: 6871 \t Predicted: 7 \t Actual:7\n",
            "Index: 6960 \t Predicted: 7 \t Actual:7\n",
            "Index: 9522 \t Predicted: 7 \t Actual:7\n",
            "Index: 8891 \t Predicted: 7 \t Actual:7\n",
            "Index: 4811 \t Predicted: 7 \t Actual:7\n",
            "Index: 8074 \t Predicted: 7 \t Actual:7\n",
            "Index: 5999 \t Predicted: 7 \t Actual:7\n",
            "Index: 9279 \t Predicted: 7 \t Actual:7\n",
            "Index: 9816 \t Predicted: 7 \t Actual:7\n",
            "Index: 1496 \t Predicted: 7 \t Actual:7\n",
            "Index: 7416 \t Predicted: 7 \t Actual:7\n",
            "Index: 4460 \t Predicted: 7 \t Actual:7\n",
            "Index: 4119 \t Predicted: 7 \t Actual:7\n",
            "Index: 6648 \t Predicted: 7 \t Actual:7\n",
            "Index: 254 \t Predicted: 7 \t Actual:7\n",
            "Index: 9734 \t Predicted: 7 \t Actual:7\n",
            "Index: 6762 \t Predicted: 7 \t Actual:7\n",
            "Index: 3061 \t Predicted: 7 \t Actual:7\n",
            "Index: 702 \t Predicted: 7 \t Actual:7\n",
            "Index: 220 \t Predicted: 7 \t Actual:7\n",
            "Index: 9660 \t Predicted: 7 \t Actual:7\n",
            "Index: 4678 \t Predicted: 7 \t Actual:7\n",
            "Index: 7445 \t Predicted: 7 \t Actual:7\n",
            "Index: 9045 \t Predicted: 7 \t Actual:7\n",
            "Index: 5334 \t Predicted: 7 \t Actual:7\n",
            "Index: 4073 \t Predicted: 7 \t Actual:7\n",
            "Index: 5906 \t Predicted: 7 \t Actual:7\n",
            "Index: 8398 \t Predicted: 7 \t Actual:7\n",
            "Index: 5465 \t Predicted: 7 \t Actual:7\n",
            "Index: 3836 \t Predicted: 7 \t Actual:7\n",
            "Index: 415 \t Predicted: 7 \t Actual:7\n",
            "Index: 1039 \t Predicted: 1 \t Actual:7\n",
            "Index: 5371 \t Predicted: 7 \t Actual:7\n",
            "Index: 8736 \t Predicted: 7 \t Actual:7\n",
            "Index: 3376 \t Predicted: 7 \t Actual:7\n",
            "Index: 413 \t Predicted: 7 \t Actual:7\n",
            "Index: 9916 \t Predicted: 7 \t Actual:7\n",
            "Index: 9262 \t Predicted: 7 \t Actual:7\n",
            "Index: 9515 \t Predicted: 7 \t Actual:7\n",
            "Index: 7960 \t Predicted: 7 \t Actual:7\n",
            "Index: 9652 \t Predicted: 7 \t Actual:7\n",
            "Index: 144 \t Predicted: 7 \t Actual:7\n",
            "Index: 5610 \t Predicted: 7 \t Actual:7\n",
            "Index: 7998 \t Predicted: 7 \t Actual:7\n",
            "Index: 4794 \t Predicted: 7 \t Actual:7\n",
            "Index: 730 \t Predicted: 7 \t Actual:7\n",
            "Index: 2334 \t Predicted: 7 \t Actual:7\n",
            "Index: 6366 \t Predicted: 7 \t Actual:7\n",
            "Index: 5162 \t Predicted: 7 \t Actual:7\n",
            "Index: 9690 \t Predicted: 7 \t Actual:7\n",
            "Index: 1359 \t Predicted: 7 \t Actual:7\n",
            "Index: 703 \t Predicted: 7 \t Actual:7\n",
            "Index: 411 \t Predicted: 7 \t Actual:7\n",
            "Index: 3399 \t Predicted: 7 \t Actual:7\n",
            "Index: 6954 \t Predicted: 7 \t Actual:7\n",
            "Index: 6599 \t Predicted: 7 \t Actual:7\n",
            "Index: 5789 \t Predicted: 7 \t Actual:7\n",
            "Index: 3632 \t Predicted: 7 \t Actual:7\n",
            "Index: 666 \t Predicted: 7 \t Actual:7\n",
            "Index: 1186 \t Predicted: 7 \t Actual:7\n",
            "Index: 2195 \t Predicted: 7 \t Actual:7\n",
            "Index: 7877 \t Predicted: 7 \t Actual:7\n",
            "Index: 2666 \t Predicted: 7 \t Actual:7\n",
            "Index: 1875 \t Predicted: 7 \t Actual:7\n",
            "Index: 8356 \t Predicted: 7 \t Actual:7\n",
            "Index: 5048 \t Predicted: 7 \t Actual:7\n",
            "Index: 5560 \t Predicted: 7 \t Actual:7\n",
            "Index: 5121 \t Predicted: 7 \t Actual:7\n",
            "Index: 4151 \t Predicted: 7 \t Actual:7\n",
            "Index: 5179 \t Predicted: 7 \t Actual:7\n",
            "Index: 9196 \t Predicted: 7 \t Actual:7\n",
            "Index: 9166 \t Predicted: 7 \t Actual:7\n",
            "Index: 7028 \t Predicted: 7 \t Actual:7\n",
            "Index: 4561 \t Predicted: 7 \t Actual:7\n",
            "Index: 579 \t Predicted: 7 \t Actual:7\n",
            "Index: 7523 \t Predicted: 7 \t Actual:7\n",
            "Index: 7513 \t Predicted: 7 \t Actual:7\n",
            "Index: 8008 \t Predicted: 7 \t Actual:7\n",
            "Index: 4148 \t Predicted: 7 \t Actual:7\n",
            "Index: 1494 \t Predicted: 7 \t Actual:7\n",
            "Index: 2220 \t Predicted: 7 \t Actual:7\n",
            "Index: 6452 \t Predicted: 7 \t Actual:7\n",
            "Index: 1021 \t Predicted: 7 \t Actual:7\n",
            "Index: 7111 \t Predicted: 7 \t Actual:7\n",
            "Index: 1941 \t Predicted: 7 \t Actual:7\n",
            "Index: 1919 \t Predicted: 7 \t Actual:7\n",
            "Index: 6188 \t Predicted: 7 \t Actual:7\n",
            "Index: 1091 \t Predicted: 7 \t Actual:7\n",
            "Index: 6119 \t Predicted: 7 \t Actual:7\n",
            "Index: 370 \t Predicted: 7 \t Actual:7\n",
            "Index: 2115 \t Predicted: 7 \t Actual:7\n",
            "Index: 7966 \t Predicted: 7 \t Actual:7\n",
            "Index: 2513 \t Predicted: 7 \t Actual:7\n",
            "Index: 8321 \t Predicted: 7 \t Actual:7\n",
            "Index: 9576 \t Predicted: 7 \t Actual:7\n",
            "Index: 5122 \t Predicted: 7 \t Actual:7\n",
            "Index: 2314 \t Predicted: 7 \t Actual:7\n",
            "Index: 1366 \t Predicted: 7 \t Actual:7\n",
            "Index: 6856 \t Predicted: 7 \t Actual:7\n",
            "Index: 4660 \t Predicted: 7 \t Actual:7\n",
            "Index: 651 \t Predicted: 7 \t Actual:7\n",
            "Index: 36 \t Predicted: 7 \t Actual:7\n",
            "Index: 9186 \t Predicted: 7 \t Actual:7\n",
            "Index: 3656 \t Predicted: 7 \t Actual:7\n",
            "Index: 676 \t Predicted: 7 \t Actual:7\n",
            "Index: 4028 \t Predicted: 7 \t Actual:7\n",
            "Index: 8651 \t Predicted: 7 \t Actual:7\n",
            "Index: 8767 \t Predicted: 7 \t Actual:7\n",
            "Index: 5365 \t Predicted: 7 \t Actual:7\n",
            "Index: 4064 \t Predicted: 7 \t Actual:7\n",
            "Index: 4913 \t Predicted: 7 \t Actual:7\n",
            "Index: 7760 \t Predicted: 7 \t Actual:7\n",
            "Index: 5277 \t Predicted: 7 \t Actual:7\n",
            "Index: 6944 \t Predicted: 7 \t Actual:7\n",
            "Index: 3575 \t Predicted: 7 \t Actual:7\n",
            "Index: 1241 \t Predicted: 7 \t Actual:7\n",
            "Index: 5372 \t Predicted: 7 \t Actual:7\n",
            "Index: 2890 \t Predicted: 7 \t Actual:7\n",
            "Index: 8833 \t Predicted: 7 \t Actual:7\n",
            "Index: 3373 \t Predicted: 7 \t Actual:7\n",
            "Index: 9294 \t Predicted: 7 \t Actual:7\n",
            "Index: 4083 \t Predicted: 7 \t Actual:7\n",
            "Index: 1592 \t Predicted: 7 \t Actual:7\n",
            "Index: 6805 \t Predicted: 7 \t Actual:7\n",
            "Index: 3580 \t Predicted: 7 \t Actual:7\n",
            "Index: 7204 \t Predicted: 7 \t Actual:7\n",
            "Index: 2695 \t Predicted: 7 \t Actual:7\n",
            "Index: 8606 \t Predicted: 7 \t Actual:7\n",
            "Index: 6380 \t Predicted: 7 \t Actual:7\n",
            "Index: 5425 \t Predicted: 7 \t Actual:7\n",
            "Index: 4784 \t Predicted: 7 \t Actual:7\n",
            "Index: 2887 \t Predicted: 7 \t Actual:7\n",
            "Index: 8282 \t Predicted: 7 \t Actual:7\n",
            "Index: 2851 \t Predicted: 7 \t Actual:7\n",
            "Index: 2578 \t Predicted: 7 \t Actual:7\n",
            "Index: 2262 \t Predicted: 7 \t Actual:7\n",
            "Index: 5324 \t Predicted: 7 \t Actual:7\n",
            "Index: 1576 \t Predicted: 7 \t Actual:7\n",
            "Index: 7598 \t Predicted: 7 \t Actual:7\n",
            "Index: 7041 \t Predicted: 7 \t Actual:7\n",
            "Index: 5110 \t Predicted: 7 \t Actual:7\n",
            "Index: 7141 \t Predicted: 7 \t Actual:7\n",
            "Index: 2736 \t Predicted: 7 \t Actual:7\n",
            "Index: 1933 \t Predicted: 7 \t Actual:7\n",
            "Index: 2844 \t Predicted: 7 \t Actual:7\n",
            "Index: 2888 \t Predicted: 7 \t Actual:7\n",
            "Index: 6048 \t Predicted: 7 \t Actual:7\n",
            "Index: 9743 \t Predicted: 7 \t Actual:7\n",
            "Index: 7533 \t Predicted: 7 \t Actual:7\n",
            "Index: 4936 \t Predicted: 7 \t Actual:7\n",
            "Index: 2591 \t Predicted: 7 \t Actual:7\n",
            "Index: 9573 \t Predicted: 7 \t Actual:7\n",
            "Index: 7908 \t Predicted: 7 \t Actual:7\n",
            "Index: 4493 \t Predicted: 7 \t Actual:7\n",
            "Index: 9108 \t Predicted: 7 \t Actual:7\n",
            "Index: 8904 \t Predicted: 7 \t Actual:7\n",
            "Index: 8265 \t Predicted: 7 \t Actual:7\n",
            "Index: 3111 \t Predicted: 7 \t Actual:7\n",
            "Index: 930 \t Predicted: 7 \t Actual:7\n",
            "Index: 8110 \t Predicted: 7 \t Actual:7\n",
            "Index: 9788 \t Predicted: 7 \t Actual:7\n",
            "Index: 7390 \t Predicted: 7 \t Actual:7\n",
            "Index: 9419 \t Predicted: 7 \t Actual:7\n",
            "Index: 1703 \t Predicted: 7 \t Actual:7\n",
            "Index: 1100 \t Predicted: 7 \t Actual:7\n",
            "Index: 1012 \t Predicted: 7 \t Actual:7\n",
            "Index: 2915 \t Predicted: 7 \t Actual:7\n",
            "Index: 8698 \t Predicted: 7 \t Actual:7\n",
            "Index: 9852 \t Predicted: 7 \t Actual:7\n",
            "Index: 7677 \t Predicted: 7 \t Actual:7\n",
            "Index: 2808 \t Predicted: 7 \t Actual:7\n",
            "Index: 7565 \t Predicted: 7 \t Actual:7\n",
            "Index: 8959 \t Predicted: 7 \t Actual:7\n",
            "Index: 9534 \t Predicted: 7 \t Actual:7\n",
            "Index: 8403 \t Predicted: 7 \t Actual:7\n",
            "Index: 4793 \t Predicted: 7 \t Actual:7\n",
            "Index: 2563 \t Predicted: 7 \t Actual:7\n",
            "Index: 9935 \t Predicted: 7 \t Actual:7\n",
            "Index: 5310 \t Predicted: 7 \t Actual:7\n",
            "Index: 3643 \t Predicted: 7 \t Actual:7\n",
            "Index: 9314 \t Predicted: 7 \t Actual:7\n",
            "Index: 771 \t Predicted: 7 \t Actual:7\n",
            "Index: 7030 \t Predicted: 7 \t Actual:7\n",
            "Index: 9024 \t Predicted: 7 \t Actual:7\n",
            "Index: 1355 \t Predicted: 7 \t Actual:7\n",
            "Index: 133 \t Predicted: 7 \t Actual:7\n",
            "Index: 6208 \t Predicted: 7 \t Actual:7\n",
            "Index: 8805 \t Predicted: 7 \t Actual:7\n",
            "Index: 4861 \t Predicted: 7 \t Actual:7\n",
            "Index: 9806 \t Predicted: 7 \t Actual:7\n",
            "Index: 8519 \t Predicted: 7 \t Actual:7\n",
            "Index: 8926 \t Predicted: 7 \t Actual:7\n",
            "Index: 7296 \t Predicted: 7 \t Actual:7\n",
            "Index: 8175 \t Predicted: 7 \t Actual:7\n",
            "Index: 8173 \t Predicted: 7 \t Actual:7\n",
            "Index: 5177 \t Predicted: 7 \t Actual:7\n",
            "Index: 3054 \t Predicted: 7 \t Actual:7\n",
            "Index: 34 \t Predicted: 7 \t Actual:7\n",
            "Index: 7985 \t Predicted: 7 \t Actual:7\n",
            "Index: 3011 \t Predicted: 7 \t Actual:7\n",
            "Index: 1498 \t Predicted: 7 \t Actual:7\n",
            "Index: 6326 \t Predicted: 7 \t Actual:7\n",
            "Index: 8003 \t Predicted: 7 \t Actual:7\n",
            "Index: 6243 \t Predicted: 7 \t Actual:7\n",
            "Index: 6653 \t Predicted: 7 \t Actual:7\n",
            "Index: 8475 \t Predicted: 7 \t Actual:7\n",
            "Index: 6346 \t Predicted: 7 \t Actual:7\n",
            "Index: 5437 \t Predicted: 7 \t Actual:7\n",
            "Index: 2132 \t Predicted: 7 \t Actual:7\n",
            "Index: 7276 \t Predicted: 7 \t Actual:7\n",
            "Index: 2377 \t Predicted: 7 \t Actual:7\n",
            "Index: 4747 \t Predicted: 7 \t Actual:7\n",
            "Index: 1283 \t Predicted: 7 \t Actual:7\n",
            "Index: 5402 \t Predicted: 7 \t Actual:7\n",
            "Index: 4658 \t Predicted: 7 \t Actual:7\n",
            "Index: 2595 \t Predicted: 7 \t Actual:7\n",
            "Index: 7865 \t Predicted: 7 \t Actual:7\n",
            "Index: 2820 \t Predicted: 7 \t Actual:7\n",
            "Index: 3616 \t Predicted: 7 \t Actual:7\n",
            "Index: 6007 \t Predicted: 7 \t Actual:7\n",
            "Index: 64 \t Predicted: 7 \t Actual:7\n",
            "Index: 2874 \t Predicted: 7 \t Actual:7\n",
            "Index: 4623 \t Predicted: 7 \t Actual:7\n",
            "Index: 6441 \t Predicted: 7 \t Actual:7\n",
            "Index: 8512 \t Predicted: 7 \t Actual:7\n",
            "Index: 4061 \t Predicted: 7 \t Actual:7\n",
            "Index: 9000 \t Predicted: 7 \t Actual:7\n",
            "Index: 2290 \t Predicted: 7 \t Actual:7\n",
            "Index: 2968 \t Predicted: 7 \t Actual:7\n",
            "Index: 1770 \t Predicted: 7 \t Actual:7\n",
            "Index: 1226 \t Predicted: 2 \t Actual:7\n",
            "Index: 6306 \t Predicted: 7 \t Actual:7\n",
            "Index: 9036 \t Predicted: 7 \t Actual:7\n",
            "Index: 6684 \t Predicted: 7 \t Actual:7\n",
            "Index: 9031 \t Predicted: 7 \t Actual:7\n",
            "Index: 7180 \t Predicted: 7 \t Actual:7\n",
            "Index: 1887 \t Predicted: 7 \t Actual:7\n",
            "Index: 3730 \t Predicted: 7 \t Actual:7\n",
            "Index: 756 \t Predicted: 7 \t Actual:7\n",
            "Index: 2278 \t Predicted: 7 \t Actual:7\n",
            "Index: 301 \t Predicted: 7 \t Actual:7\n",
            "Index: 551 \t Predicted: 7 \t Actual:7\n",
            "Index: 5795 \t Predicted: 7 \t Actual:7\n",
            "Index: 4453 \t Predicted: 7 \t Actual:7\n",
            "Index: 3767 \t Predicted: 2 \t Actual:7\n",
            "Index: 8188 \t Predicted: 7 \t Actual:7\n",
            "Index: 7861 \t Predicted: 7 \t Actual:7\n",
            "Index: 3423 \t Predicted: 7 \t Actual:7\n",
            "Index: 8465 \t Predicted: 7 \t Actual:7\n",
            "Index: 1772 \t Predicted: 7 \t Actual:7\n",
            "Index: 846 \t Predicted: 9 \t Actual:7\n",
            "Index: 5861 \t Predicted: 7 \t Actual:7\n",
            "Index: 7307 \t Predicted: 7 \t Actual:7\n",
            "Index: 1903 \t Predicted: 7 \t Actual:7\n",
            "Index: 4970 \t Predicted: 7 \t Actual:7\n",
            "Index: 4900 \t Predicted: 7 \t Actual:7\n",
            "Index: 5071 \t Predicted: 7 \t Actual:7\n",
            "Index: 8190 \t Predicted: 7 \t Actual:7\n",
            "Index: 1544 \t Predicted: 7 \t Actual:7\n",
            "Index: 4522 \t Predicted: 7 \t Actual:7\n",
            "Index: 3225 \t Predicted: 9 \t Actual:7\n",
            "Index: 1806 \t Predicted: 7 \t Actual:7\n",
            "Index: 9147 \t Predicted: 7 \t Actual:7\n",
            "Index: 6069 \t Predicted: 7 \t Actual:7\n",
            "Index: 4730 \t Predicted: 7 \t Actual:7\n",
            "Index: 1721 \t Predicted: 7 \t Actual:7\n",
            "Index: 1171 \t Predicted: 7 \t Actual:7\n",
            "Index: 1566 \t Predicted: 7 \t Actual:7\n",
            "Index: 3535 \t Predicted: 7 \t Actual:7\n",
            "Index: 6253 \t Predicted: 7 \t Actual:7\n",
            "Index: 9894 \t Predicted: 7 \t Actual:7\n",
            "Index: 8030 \t Predicted: 7 \t Actual:7\n",
            "Index: 1164 \t Predicted: 7 \t Actual:7\n",
            "Index: 6339 \t Predicted: 7 \t Actual:7\n",
            "Index: 3316 \t Predicted: 7 \t Actual:7\n",
            "Index: 7460 \t Predicted: 7 \t Actual:7\n",
            "Index: 1141 \t Predicted: 7 \t Actual:7\n",
            "Index: 6079 \t Predicted: 7 \t Actual:7\n",
            "Index: 7355 \t Predicted: 7 \t Actual:7\n",
            "Index: 4199 \t Predicted: 9 \t Actual:7\n",
            "Index: 3997 \t Predicted: 7 \t Actual:7\n",
            "Index: 7059 \t Predicted: 7 \t Actual:7\n",
            "Index: 4690 \t Predicted: 7 \t Actual:7\n",
            "Index: 4868 \t Predicted: 7 \t Actual:7\n",
            "Index: 3107 \t Predicted: 7 \t Actual:7\n",
            "Index: 1809 \t Predicted: 7 \t Actual:7\n",
            "Index: 4228 \t Predicted: 7 \t Actual:7\n",
            "Index: 3572 \t Predicted: 7 \t Actual:7\n",
            "Index: 8421 \t Predicted: 7 \t Actual:7\n",
            "Index: 1071 \t Predicted: 7 \t Actual:7\n",
            "Index: 5496 \t Predicted: 7 \t Actual:7\n",
            "Index: 4993 \t Predicted: 7 \t Actual:7\n",
            "Index: 4471 \t Predicted: 7 \t Actual:7\n",
            "Index: 1581 \t Predicted: 7 \t Actual:7\n",
            "Index: 4767 \t Predicted: 7 \t Actual:7\n",
            "Index: 3308 \t Predicted: 7 \t Actual:7\n",
            "Index: 3976 \t Predicted: 7 \t Actual:7\n",
            "Index: 7362 \t Predicted: 7 \t Actual:7\n",
            "Index: 8304 \t Predicted: 7 \t Actual:7\n",
            "Index: 5422 \t Predicted: 7 \t Actual:7\n",
            "Index: 7493 \t Predicted: 7 \t Actual:7\n",
            "Index: 7145 \t Predicted: 7 \t Actual:7\n",
            "Index: 1776 \t Predicted: 7 \t Actual:7\n",
            "Index: 9566 \t Predicted: 7 \t Actual:7\n",
            "Index: 4102 \t Predicted: 7 \t Actual:7\n",
            "Index: 9285 \t Predicted: 7 \t Actual:7\n",
            "Index: 2243 \t Predicted: 7 \t Actual:7\n",
            "Index: 9586 \t Predicted: 7 \t Actual:7\n",
            "Index: 4693 \t Predicted: 7 \t Actual:7\n",
            "Index: 9781 \t Predicted: 7 \t Actual:7\n",
            "Index: 4994 \t Predicted: 7 \t Actual:7\n",
            "Index: 3753 \t Predicted: 7 \t Actual:7\n",
            "Index: 1206 \t Predicted: 7 \t Actual:7\n",
            "Index: 7734 \t Predicted: 7 \t Actual:7\n",
            "Index: 3040 \t Predicted: 7 \t Actual:7\n",
            "Index: 80 \t Predicted: 7 \t Actual:7\n",
            "Index: 4715 \t Predicted: 7 \t Actual:7\n",
            "Index: 2365 \t Predicted: 7 \t Actual:7\n",
            "Index: 4007 \t Predicted: 7 \t Actual:7\n",
            "Index: 3453 \t Predicted: 7 \t Actual:7\n",
            "Index: 8591 \t Predicted: 7 \t Actual:7\n",
            "Index: 5180 \t Predicted: 7 \t Actual:7\n",
            "Index: 229 \t Predicted: 7 \t Actual:7\n",
            "Index: 5949 \t Predicted: 7 \t Actual:7\n",
            "Index: 7711 \t Predicted: 7 \t Actual:7\n",
            "Index: 1363 \t Predicted: 7 \t Actual:7\n",
            "Index: 5326 \t Predicted: 7 \t Actual:7\n",
            "Index: 4175 \t Predicted: 7 \t Actual:7\n",
            "Index: 3361 \t Predicted: 7 \t Actual:7\n",
            "Index: 3213 \t Predicted: 7 \t Actual:7\n",
            "Index: 0 \t Predicted: 7 \t Actual:7\n",
            "Index: 60 \t Predicted: 7 \t Actual:7\n",
            "Index: 8480 \t Predicted: 7 \t Actual:7\n",
            "Index: 7950 \t Predicted: 7 \t Actual:7\n",
            "Index: 8883 \t Predicted: 7 \t Actual:7\n",
            "Index: 6731 \t Predicted: 7 \t Actual:7\n",
            "Index: 9684 \t Predicted: 7 \t Actual:7\n",
            "Index: 79 \t Predicted: 7 \t Actual:7\n",
            "Index: 2325 \t Predicted: 7 \t Actual:7\n",
            "Index: 5533 \t Predicted: 7 \t Actual:7\n",
            "Index: 97 \t Predicted: 7 \t Actual:7\n",
            "Index: 3378 \t Predicted: 7 \t Actual:7\n",
            "Index: 1321 \t Predicted: 7 \t Actual:7\n",
            "Index: 1126 \t Predicted: 7 \t Actual:7\n",
            "Index: 9546 \t Predicted: 7 \t Actual:7\n",
            "Index: 1783 \t Predicted: 7 \t Actual:7\n",
            "Index: 9172 \t Predicted: 7 \t Actual:7\n",
            "Index: 7197 \t Predicted: 7 \t Actual:7\n",
            "Index: 2565 \t Predicted: 7 \t Actual:7\n",
            "Index: 3589 \t Predicted: 7 \t Actual:7\n",
            "Index: 9958 \t Predicted: 7 \t Actual:7\n",
            "Index: 2275 \t Predicted: 7 \t Actual:7\n",
            "Index: 1950 \t Predicted: 7 \t Actual:7\n",
            "Index: 5939 \t Predicted: 7 \t Actual:7\n",
            "Index: 6458 \t Predicted: 7 \t Actual:7\n",
            "Index: 1799 \t Predicted: 7 \t Actual:7\n",
            "Index: 510 \t Predicted: 7 \t Actual:7\n",
            "Index: 6006 \t Predicted: 7 \t Actual:7\n",
            "Index: 7927 \t Predicted: 7 \t Actual:7\n",
            "Index: 6377 \t Predicted: 7 \t Actual:7\n",
            "Index: 6663 \t Predicted: 7 \t Actual:7\n",
            "Index: 1055 \t Predicted: 7 \t Actual:7\n",
            "Index: 1741 \t Predicted: 7 \t Actual:7\n",
            "Index: 2843 \t Predicted: 7 \t Actual:7\n",
            "Index: 1260 \t Predicted: 1 \t Actual:7\n",
            "Index: 1784 \t Predicted: 7 \t Actual:7\n",
            "Index: 8350 \t Predicted: 7 \t Actual:7\n",
            "Index: 7701 \t Predicted: 7 \t Actual:7\n",
            "Index: 7544 \t Predicted: 7 \t Actual:7\n",
            "Index: 5234 \t Predicted: 7 \t Actual:7\n",
            "Index: 8064 \t Predicted: 7 \t Actual:7\n",
            "Index: 7124 \t Predicted: 7 \t Actual:7\n",
            "Index: 6307 \t Predicted: 7 \t Actual:7\n",
            "Index: 4053 \t Predicted: 7 \t Actual:7\n",
            "Index: 9374 \t Predicted: 7 \t Actual:7\n",
            "Index: 4391 \t Predicted: 7 \t Actual:7\n",
            "Index: 1477 \t Predicted: 7 \t Actual:7\n",
            "Index: 1564 \t Predicted: 7 \t Actual:7\n",
            "Index: 17 \t Predicted: 7 \t Actual:7\n",
            "Index: 2344 \t Predicted: 7 \t Actual:7\n",
            "Index: 2607 \t Predicted: 7 \t Actual:7\n",
            "Index: 9957 \t Predicted: 7 \t Actual:7\n",
            "Index: 1276 \t Predicted: 7 \t Actual:7\n",
            "Index: 9458 \t Predicted: 7 \t Actual:7\n",
            "Index: 4200 \t Predicted: 7 \t Actual:7\n",
            "Index: 5655 \t Predicted: 7 \t Actual:7\n",
            "Index: 8203 \t Predicted: 7 \t Actual:7\n",
            "Index: 3969 \t Predicted: 7 \t Actual:7\n",
            "Index: 3161 \t Predicted: 7 \t Actual:7\n",
            "Index: 5709 \t Predicted: 7 \t Actual:7\n",
            "Index: 3277 \t Predicted: 7 \t Actual:7\n",
            "Index: 6674 \t Predicted: 7 \t Actual:7\n",
            "Index: 1096 \t Predicted: 7 \t Actual:7\n",
            "Index: 1522 \t Predicted: 9 \t Actual:7\n",
            "Index: 6852 \t Predicted: 7 \t Actual:7\n",
            "Index: 9899 \t Predicted: 7 \t Actual:7\n",
            "Index: 8608 \t Predicted: 7 \t Actual:7\n",
            "Index: 8417 \t Predicted: 7 \t Actual:7\n",
            "Index: 122 \t Predicted: 7 \t Actual:7\n",
            "Index: 5620 \t Predicted: 7 \t Actual:7\n",
            "Index: 950 \t Predicted: 7 \t Actual:7\n",
            "Index: 9864 \t Predicted: 7 \t Actual:7\n",
            "Index: 4297 \t Predicted: 7 \t Actual:7\n",
            "Index: 2605 \t Predicted: 7 \t Actual:7\n",
            "Index: 1671 \t Predicted: 7 \t Actual:7\n",
            "Index: 6662 \t Predicted: 7 \t Actual:7\n",
            "Index: 7647 \t Predicted: 7 \t Actual:7\n",
            "Index: 2588 \t Predicted: 7 \t Actual:7\n",
            "Index: 585 \t Predicted: 7 \t Actual:7\n",
            "Index: 141 \t Predicted: 7 \t Actual:7\n",
            "Index: 410 \t Predicted: 7 \t Actual:7\n",
            "Index: 3973 \t Predicted: 7 \t Actual:7\n",
            "Index: 9257 \t Predicted: 7 \t Actual:7\n",
            "Index: 658 \t Predicted: 7 \t Actual:7\n",
            "Index: 6269 \t Predicted: 7 \t Actual:7\n",
            "Index: 3166 \t Predicted: 7 \t Actual:7\n",
            "Index: 9113 \t Predicted: 7 \t Actual:7\n",
            "Index: 5317 \t Predicted: 7 \t Actual:7\n",
            "Index: 3098 \t Predicted: 7 \t Actual:7\n",
            "Index: 7356 \t Predicted: 7 \t Actual:7\n",
            "Index: 4697 \t Predicted: 7 \t Actual:7\n",
            "Index: 6845 \t Predicted: 7 \t Actual:7\n",
            "Index: 1705 \t Predicted: 7 \t Actual:7\n",
            "Index: 6577 \t Predicted: 7 \t Actual:7\n",
            "Index: 7320 \t Predicted: 7 \t Actual:7\n",
            "Index: 5240 \t Predicted: 7 \t Actual:7\n",
            "Index: 6768 \t Predicted: 7 \t Actual:7\n",
            "Index: 8497 \t Predicted: 7 \t Actual:7\n",
            "Index: 5992 \t Predicted: 7 \t Actual:7\n",
            "Index: 4089 \t Predicted: 7 \t Actual:7\n",
            "Index: 3936 \t Predicted: 7 \t Actual:7\n",
            "Index: 6666 \t Predicted: 7 \t Actual:7\n",
            "Index: 7467 \t Predicted: 7 \t Actual:7\n",
            "Index: 2993 \t Predicted: 7 \t Actual:7\n",
            "Index: 2317 \t Predicted: 7 \t Actual:7\n",
            "Index: 9463 \t Predicted: 7 \t Actual:7\n",
            "Index: 3192 \t Predicted: 7 \t Actual:7\n",
            "Index: 3594 \t Predicted: 7 \t Actual:7\n",
            "Index: 8815 \t Predicted: 7 \t Actual:7\n",
            "Index: 7978 \t Predicted: 7 \t Actual:7\n",
            "Index: 7645 \t Predicted: 7 \t Actual:7\n",
            "Index: 8617 \t Predicted: 7 \t Actual:7\n",
            "Index: 4886 \t Predicted: 7 \t Actual:7\n",
            "Index: 7648 \t Predicted: 7 \t Actual:7\n",
            "Index: 5688 \t Predicted: 7 \t Actual:7\n",
            "Index: 1814 \t Predicted: 7 \t Actual:7\n"
          ],
          "name": "stdout"
        }
      ]
    },
    {
      "cell_type": "markdown",
      "metadata": {
        "id": "LK3TaLI-umoM",
        "colab_type": "text"
      },
      "source": [
        "### Obtain accuracy of original samples"
      ]
    },
    {
      "cell_type": "code",
      "metadata": {
        "id": "WkxQJ4mKulby",
        "colab_type": "code",
        "colab": {
          "base_uri": "https://localhost:8080/",
          "height": 34
        },
        "outputId": "7a3c7f0e-f69f-420a-db39-9f610d06065c"
      },
      "source": [
        "thousand_testing_sevens = np.array(thousand_testing_sevens)\n",
        "thousand_testing_sevens_labels = np.array(thousand_testing_sevens_labels)\n",
        "accuracy(params, shape_as_image(thousand_testing_sevens, thousand_testing_sevens_labels))"
      ],
      "execution_count": 144,
      "outputs": [
        {
          "output_type": "execute_result",
          "data": {
            "text/plain": [
              "DeviceArray(0.989, dtype=float32)"
            ]
          },
          "metadata": {
            "tags": []
          },
          "execution_count": 144
        }
      ]
    },
    {
      "cell_type": "markdown",
      "metadata": {
        "id": "7b1i-SWEuqWp",
        "colab_type": "text"
      },
      "source": [
        "### Generate 1000 iteratively perturbed images"
      ]
    },
    {
      "cell_type": "code",
      "metadata": {
        "id": "d3w6qzi9pVga",
        "colab_type": "code",
        "colab": {}
      },
      "source": [
        "index  = 1164\n",
        "epsilon  = 0.1\n",
        "\n",
        "def iterative_perturbation(epsilon, index): \n",
        "  x = test_images[index]\n",
        "  x_reshaped = np.reshape(x, [1,28,28,1])\n",
        "  perturbed_images = []\n",
        "  for k in range(1,6):\n",
        "    # Q3 (1 Code to find the perturbation)\n",
        "    epsilon = epsilon/k\n",
        "    x_grad = grad(loss,1)(params, shape_as_image(x_reshaped, test_labels[index]))\n",
        "    np_x_grad = np.array(x_grad[0])\n",
        "    np_x_grad_sign = np.sign(np_x_grad)\n",
        "    perturbation  = np_x_grad_sign* epsilon\n",
        "\n",
        "    x_star = x_reshaped + perturbation\n",
        "    x_reshaped = x_star\n",
        "    perturbed_images.append(x_star) \n",
        "    # predict_image(x_star)\n",
        "  return perturbed_images[-1]\n"
      ],
      "execution_count": 0,
      "outputs": []
    },
    {
      "cell_type": "code",
      "metadata": {
        "id": "v62OXW2Rp1DU",
        "colab_type": "code",
        "colab": {
          "base_uri": "https://localhost:8080/",
          "height": 300
        },
        "outputId": "2f678d24-4caf-44e6-f9dc-38de6a1c3695"
      },
      "source": [
        "x_original = test_images[index]\n",
        "x_original = np.reshape(x_original, [1,28,28,1])\n",
        "predict_image(x_original)"
      ],
      "execution_count": 118,
      "outputs": [
        {
          "output_type": "stream",
          "text": [
            "Predicted class: 7\n"
          ],
          "name": "stdout"
        },
        {
          "output_type": "execute_result",
          "data": {
            "text/plain": [
              "7"
            ]
          },
          "metadata": {
            "tags": []
          },
          "execution_count": 118
        },
        {
          "output_type": "display_data",
          "data": {
            "image/png": "[encoded data removed]",
            "text/plain": [
              "<Figure size 432x288 with 1 Axes>"
            ]
          },
          "metadata": {
            "tags": []
          }
        }
      ]
    },
    {
      "cell_type": "code",
      "metadata": {
        "id": "S3YZ2YFrpUdS",
        "colab_type": "code",
        "colab": {
          "base_uri": "https://localhost:8080/",
          "height": 300
        },
        "outputId": "25ed74b1-cd09-4928-8caf-d3d18ace47ad"
      },
      "source": [
        "x_perturbed = iterative_perturbation(epsilon, index)\n",
        "predict_image(x_perturbed)"
      ],
      "execution_count": 146,
      "outputs": [
        {
          "output_type": "stream",
          "text": [
            "Predicted class: 9\n"
          ],
          "name": "stdout"
        },
        {
          "output_type": "execute_result",
          "data": {
            "text/plain": [
              "9"
            ]
          },
          "metadata": {
            "tags": []
          },
          "execution_count": 146
        },
        {
          "output_type": "display_data",
          "data": {
            "image/png": "[encoded data removed]",
            "text/plain": [
              "<Figure size 432x288 with 1 Axes>"
            ]
          },
          "metadata": {
            "tags": []
          }
        }
      ]
    },
    {
      "cell_type": "code",
      "metadata": {
        "id": "aaj02nZ-wNO2",
        "colab_type": "code",
        "colab": {
          "base_uri": "https://localhost:8080/",
          "height": 300
        },
        "outputId": "a7877ac7-d83a-4303-ae1d-a3ce61f55e51"
      },
      "source": [
        "x_original_0 = test_images[4760]\n",
        "x_original_0 = np.reshape(x_original_0, [1,28,28,1])\n",
        "predict_image(x_original_0)"
      ],
      "execution_count": 165,
      "outputs": [
        {
          "output_type": "stream",
          "text": [
            "Predicted class: 7\n"
          ],
          "name": "stdout"
        },
        {
          "output_type": "execute_result",
          "data": {
            "text/plain": [
              "7"
            ]
          },
          "metadata": {
            "tags": []
          },
          "execution_count": 165
        },
        {
          "output_type": "display_data",
          "data": {
            "image/png": "[encoded data removed]",
            "text/plain": [
              "<Figure size 432x288 with 1 Axes>"
            ]
          },
          "metadata": {
            "tags": []
          }
        }
      ]
    },
    {
      "cell_type": "code",
      "metadata": {
        "id": "gYE8CyO4qdAh",
        "colab_type": "code",
        "colab": {}
      },
      "source": [
        "epsilon = 0.3\n",
        "\n",
        "perturbed_images = []\n",
        "for i in range(0, 1000):\n",
        "  perturbed_images.append(iterative_perturbation(epsilon, thousand_indices[i]))"
      ],
      "execution_count": 0,
      "outputs": []
    },
    {
      "cell_type": "code",
      "metadata": {
        "id": "Ccmer5rywdAG",
        "colab_type": "code",
        "colab": {
          "base_uri": "https://localhost:8080/",
          "height": 300
        },
        "outputId": "2c9b80a5-2faa-4ba3-96a1-fca77b6602d1"
      },
      "source": [
        "perturbed_images_0 = perturbed_images[0]\n",
        "perturbed_images_0  = np.reshape(perturbed_images_0 , [1,28,28,1])\n",
        "predict_image(perturbed_images_0)"
      ],
      "execution_count": 168,
      "outputs": [
        {
          "output_type": "stream",
          "text": [
            "Predicted class: 1\n"
          ],
          "name": "stdout"
        },
        {
          "output_type": "execute_result",
          "data": {
            "text/plain": [
              "1"
            ]
          },
          "metadata": {
            "tags": []
          },
          "execution_count": 168
        },
        {
          "output_type": "display_data",
          "data": {
            "image/png": "[encoded data removed]",
            "text/plain": [
              "<Figure size 432x288 with 1 Axes>"
            ]
          },
          "metadata": {
            "tags": []
          }
        }
      ]
    },
    {
      "cell_type": "markdown",
      "metadata": {
        "id": "jugb2nz7u0rN",
        "colab_type": "text"
      },
      "source": [
        "### Obtain accuracy for perturbed images "
      ]
    },
    {
      "cell_type": "code",
      "metadata": {
        "id": "fK_j72OAvWg7",
        "colab_type": "code",
        "colab": {
          "base_uri": "https://localhost:8080/",
          "height": 1000
        },
        "outputId": "0a0e3070-bff1-41f3-e6f7-07ff90bfe34d"
      },
      "source": [
        "perturbed_predictions = []\n",
        "for i in range(0, len(thousand_indices)):\n",
        "  x = test_images[thousand_indices[i]]\n",
        "  x_reshaped = np.reshape(x, [1,28,28,1])\n",
        "  predicted = predict_output_class(x_reshaped)\n",
        "  perturbed_image_prediction = predict_output_class(perturbed_images[i])\n",
        "  perturbed_predictions.append(perturbed_image_prediction)\n",
        "  actual_value = int(np.argmax(test_labels[thousand_indices[i]]))\n",
        "  \n",
        "  print(\"Index: {} \\t Original Predicted: {} Perturbed predicted: {} \\t Actual:{}\".\\\n",
        "        format(i, predicted, perturbed_image_prediction, actual_value))"
      ],
      "execution_count": 169,
      "outputs": [
        {
          "output_type": "stream",
          "text": [
            "Index: 0 \t Original Predicted: 7 Perturbed predicted: 1 \t Actual:7\n",
            "Index: 1 \t Original Predicted: 7 Perturbed predicted: 9 \t Actual:7\n",
            "Index: 2 \t Original Predicted: 7 Perturbed predicted: 3 \t Actual:7\n",
            "Index: 3 \t Original Predicted: 7 Perturbed predicted: 2 \t Actual:7\n",
            "Index: 4 \t Original Predicted: 7 Perturbed predicted: 9 \t Actual:7\n",
            "Index: 5 \t Original Predicted: 7 Perturbed predicted: 3 \t Actual:7\n",
            "Index: 6 \t Original Predicted: 7 Perturbed predicted: 9 \t Actual:7\n",
            "Index: 7 \t Original Predicted: 7 Perturbed predicted: 9 \t Actual:7\n",
            "Index: 8 \t Original Predicted: 7 Perturbed predicted: 3 \t Actual:7\n",
            "Index: 9 \t Original Predicted: 7 Perturbed predicted: 5 \t Actual:7\n",
            "Index: 10 \t Original Predicted: 7 Perturbed predicted: 9 \t Actual:7\n",
            "Index: 11 \t Original Predicted: 7 Perturbed predicted: 3 \t Actual:7\n",
            "Index: 12 \t Original Predicted: 7 Perturbed predicted: 2 \t Actual:7\n",
            "Index: 13 \t Original Predicted: 7 Perturbed predicted: 5 \t Actual:7\n",
            "Index: 14 \t Original Predicted: 7 Perturbed predicted: 3 \t Actual:7\n",
            "Index: 15 \t Original Predicted: 7 Perturbed predicted: 3 \t Actual:7\n",
            "Index: 16 \t Original Predicted: 7 Perturbed predicted: 2 \t Actual:7\n",
            "Index: 17 \t Original Predicted: 7 Perturbed predicted: 9 \t Actual:7\n",
            "Index: 18 \t Original Predicted: 7 Perturbed predicted: 9 \t Actual:7\n",
            "Index: 19 \t Original Predicted: 7 Perturbed predicted: 9 \t Actual:7\n",
            "Index: 20 \t Original Predicted: 7 Perturbed predicted: 3 \t Actual:7\n",
            "Index: 21 \t Original Predicted: 7 Perturbed predicted: 9 \t Actual:7\n",
            "Index: 22 \t Original Predicted: 7 Perturbed predicted: 9 \t Actual:7\n",
            "Index: 23 \t Original Predicted: 7 Perturbed predicted: 5 \t Actual:7\n",
            "Index: 24 \t Original Predicted: 7 Perturbed predicted: 3 \t Actual:7\n",
            "Index: 25 \t Original Predicted: 7 Perturbed predicted: 3 \t Actual:7\n",
            "Index: 26 \t Original Predicted: 7 Perturbed predicted: 1 \t Actual:7\n",
            "Index: 27 \t Original Predicted: 7 Perturbed predicted: 5 \t Actual:7\n",
            "Index: 28 \t Original Predicted: 7 Perturbed predicted: 8 \t Actual:7\n",
            "Index: 29 \t Original Predicted: 7 Perturbed predicted: 9 \t Actual:7\n",
            "Index: 30 \t Original Predicted: 7 Perturbed predicted: 1 \t Actual:7\n",
            "Index: 31 \t Original Predicted: 7 Perturbed predicted: 9 \t Actual:7\n",
            "Index: 32 \t Original Predicted: 7 Perturbed predicted: 3 \t Actual:7\n",
            "Index: 33 \t Original Predicted: 7 Perturbed predicted: 3 \t Actual:7\n",
            "Index: 34 \t Original Predicted: 7 Perturbed predicted: 5 \t Actual:7\n",
            "Index: 35 \t Original Predicted: 7 Perturbed predicted: 9 \t Actual:7\n",
            "Index: 36 \t Original Predicted: 7 Perturbed predicted: 5 \t Actual:7\n",
            "Index: 37 \t Original Predicted: 7 Perturbed predicted: 3 \t Actual:7\n",
            "Index: 38 \t Original Predicted: 7 Perturbed predicted: 3 \t Actual:7\n",
            "Index: 39 \t Original Predicted: 7 Perturbed predicted: 9 \t Actual:7\n",
            "Index: 40 \t Original Predicted: 7 Perturbed predicted: 2 \t Actual:7\n",
            "Index: 41 \t Original Predicted: 7 Perturbed predicted: 5 \t Actual:7\n",
            "Index: 42 \t Original Predicted: 1 Perturbed predicted: 1 \t Actual:7\n",
            "Index: 43 \t Original Predicted: 7 Perturbed predicted: 2 \t Actual:7\n",
            "Index: 44 \t Original Predicted: 7 Perturbed predicted: 5 \t Actual:7\n",
            "Index: 45 \t Original Predicted: 7 Perturbed predicted: 3 \t Actual:7\n",
            "Index: 46 \t Original Predicted: 7 Perturbed predicted: 3 \t Actual:7\n",
            "Index: 47 \t Original Predicted: 7 Perturbed predicted: 9 \t Actual:7\n",
            "Index: 48 \t Original Predicted: 7 Perturbed predicted: 9 \t Actual:7\n",
            "Index: 49 \t Original Predicted: 7 Perturbed predicted: 3 \t Actual:7\n",
            "Index: 50 \t Original Predicted: 7 Perturbed predicted: 8 \t Actual:7\n",
            "Index: 51 \t Original Predicted: 7 Perturbed predicted: 5 \t Actual:7\n",
            "Index: 52 \t Original Predicted: 7 Perturbed predicted: 2 \t Actual:7\n",
            "Index: 53 \t Original Predicted: 7 Perturbed predicted: 3 \t Actual:7\n",
            "Index: 54 \t Original Predicted: 7 Perturbed predicted: 4 \t Actual:7\n",
            "Index: 55 \t Original Predicted: 7 Perturbed predicted: 3 \t Actual:7\n",
            "Index: 56 \t Original Predicted: 7 Perturbed predicted: 9 \t Actual:7\n",
            "Index: 57 \t Original Predicted: 7 Perturbed predicted: 9 \t Actual:7\n",
            "Index: 58 \t Original Predicted: 7 Perturbed predicted: 9 \t Actual:7\n",
            "Index: 59 \t Original Predicted: 7 Perturbed predicted: 3 \t Actual:7\n",
            "Index: 60 \t Original Predicted: 7 Perturbed predicted: 3 \t Actual:7\n",
            "Index: 61 \t Original Predicted: 7 Perturbed predicted: 3 \t Actual:7\n",
            "Index: 62 \t Original Predicted: 7 Perturbed predicted: 9 \t Actual:7\n",
            "Index: 63 \t Original Predicted: 7 Perturbed predicted: 3 \t Actual:7\n",
            "Index: 64 \t Original Predicted: 7 Perturbed predicted: 3 \t Actual:7\n",
            "Index: 65 \t Original Predicted: 7 Perturbed predicted: 9 \t Actual:7\n",
            "Index: 66 \t Original Predicted: 7 Perturbed predicted: 9 \t Actual:7\n",
            "Index: 67 \t Original Predicted: 7 Perturbed predicted: 3 \t Actual:7\n",
            "Index: 68 \t Original Predicted: 7 Perturbed predicted: 9 \t Actual:7\n",
            "Index: 69 \t Original Predicted: 7 Perturbed predicted: 2 \t Actual:7\n",
            "Index: 70 \t Original Predicted: 7 Perturbed predicted: 2 \t Actual:7\n",
            "Index: 71 \t Original Predicted: 7 Perturbed predicted: 2 \t Actual:7\n",
            "Index: 72 \t Original Predicted: 7 Perturbed predicted: 9 \t Actual:7\n",
            "Index: 73 \t Original Predicted: 7 Perturbed predicted: 3 \t Actual:7\n",
            "Index: 74 \t Original Predicted: 7 Perturbed predicted: 9 \t Actual:7\n",
            "Index: 75 \t Original Predicted: 7 Perturbed predicted: 3 \t Actual:7\n",
            "Index: 76 \t Original Predicted: 7 Perturbed predicted: 3 \t Actual:7\n",
            "Index: 77 \t Original Predicted: 7 Perturbed predicted: 3 \t Actual:7\n",
            "Index: 78 \t Original Predicted: 7 Perturbed predicted: 5 \t Actual:7\n",
            "Index: 79 \t Original Predicted: 7 Perturbed predicted: 2 \t Actual:7\n",
            "Index: 80 \t Original Predicted: 7 Perturbed predicted: 4 \t Actual:7\n",
            "Index: 81 \t Original Predicted: 7 Perturbed predicted: 9 \t Actual:7\n",
            "Index: 82 \t Original Predicted: 7 Perturbed predicted: 3 \t Actual:7\n",
            "Index: 83 \t Original Predicted: 7 Perturbed predicted: 9 \t Actual:7\n",
            "Index: 84 \t Original Predicted: 7 Perturbed predicted: 2 \t Actual:7\n",
            "Index: 85 \t Original Predicted: 7 Perturbed predicted: 9 \t Actual:7\n",
            "Index: 86 \t Original Predicted: 7 Perturbed predicted: 3 \t Actual:7\n",
            "Index: 87 \t Original Predicted: 7 Perturbed predicted: 9 \t Actual:7\n",
            "Index: 88 \t Original Predicted: 7 Perturbed predicted: 9 \t Actual:7\n",
            "Index: 89 \t Original Predicted: 7 Perturbed predicted: 9 \t Actual:7\n",
            "Index: 90 \t Original Predicted: 7 Perturbed predicted: 1 \t Actual:7\n",
            "Index: 91 \t Original Predicted: 7 Perturbed predicted: 3 \t Actual:7\n",
            "Index: 92 \t Original Predicted: 7 Perturbed predicted: 3 \t Actual:7\n",
            "Index: 93 \t Original Predicted: 7 Perturbed predicted: 9 \t Actual:7\n",
            "Index: 94 \t Original Predicted: 7 Perturbed predicted: 3 \t Actual:7\n",
            "Index: 95 \t Original Predicted: 7 Perturbed predicted: 3 \t Actual:7\n",
            "Index: 96 \t Original Predicted: 7 Perturbed predicted: 3 \t Actual:7\n",
            "Index: 97 \t Original Predicted: 7 Perturbed predicted: 3 \t Actual:7\n",
            "Index: 98 \t Original Predicted: 7 Perturbed predicted: 2 \t Actual:7\n",
            "Index: 99 \t Original Predicted: 7 Perturbed predicted: 2 \t Actual:7\n",
            "Index: 100 \t Original Predicted: 7 Perturbed predicted: 3 \t Actual:7\n",
            "Index: 101 \t Original Predicted: 7 Perturbed predicted: 3 \t Actual:7\n",
            "Index: 102 \t Original Predicted: 7 Perturbed predicted: 3 \t Actual:7\n",
            "Index: 103 \t Original Predicted: 7 Perturbed predicted: 3 \t Actual:7\n",
            "Index: 104 \t Original Predicted: 7 Perturbed predicted: 2 \t Actual:7\n",
            "Index: 105 \t Original Predicted: 7 Perturbed predicted: 3 \t Actual:7\n",
            "Index: 106 \t Original Predicted: 7 Perturbed predicted: 9 \t Actual:7\n",
            "Index: 107 \t Original Predicted: 7 Perturbed predicted: 2 \t Actual:7\n",
            "Index: 108 \t Original Predicted: 7 Perturbed predicted: 3 \t Actual:7\n",
            "Index: 109 \t Original Predicted: 7 Perturbed predicted: 9 \t Actual:7\n",
            "Index: 110 \t Original Predicted: 7 Perturbed predicted: 9 \t Actual:7\n",
            "Index: 111 \t Original Predicted: 7 Perturbed predicted: 3 \t Actual:7\n",
            "Index: 112 \t Original Predicted: 7 Perturbed predicted: 3 \t Actual:7\n",
            "Index: 113 \t Original Predicted: 7 Perturbed predicted: 2 \t Actual:7\n",
            "Index: 114 \t Original Predicted: 7 Perturbed predicted: 3 \t Actual:7\n",
            "Index: 115 \t Original Predicted: 7 Perturbed predicted: 3 \t Actual:7\n",
            "Index: 116 \t Original Predicted: 7 Perturbed predicted: 3 \t Actual:7\n",
            "Index: 117 \t Original Predicted: 7 Perturbed predicted: 3 \t Actual:7\n",
            "Index: 118 \t Original Predicted: 7 Perturbed predicted: 8 \t Actual:7\n",
            "Index: 119 \t Original Predicted: 7 Perturbed predicted: 9 \t Actual:7\n",
            "Index: 120 \t Original Predicted: 7 Perturbed predicted: 2 \t Actual:7\n",
            "Index: 121 \t Original Predicted: 7 Perturbed predicted: 2 \t Actual:7\n",
            "Index: 122 \t Original Predicted: 7 Perturbed predicted: 3 \t Actual:7\n",
            "Index: 123 \t Original Predicted: 7 Perturbed predicted: 9 \t Actual:7\n",
            "Index: 124 \t Original Predicted: 7 Perturbed predicted: 9 \t Actual:7\n",
            "Index: 125 \t Original Predicted: 7 Perturbed predicted: 3 \t Actual:7\n",
            "Index: 126 \t Original Predicted: 7 Perturbed predicted: 3 \t Actual:7\n",
            "Index: 127 \t Original Predicted: 7 Perturbed predicted: 6 \t Actual:7\n",
            "Index: 128 \t Original Predicted: 7 Perturbed predicted: 9 \t Actual:7\n",
            "Index: 129 \t Original Predicted: 7 Perturbed predicted: 9 \t Actual:7\n",
            "Index: 130 \t Original Predicted: 7 Perturbed predicted: 3 \t Actual:7\n",
            "Index: 131 \t Original Predicted: 2 Perturbed predicted: 2 \t Actual:7\n",
            "Index: 132 \t Original Predicted: 7 Perturbed predicted: 9 \t Actual:7\n",
            "Index: 133 \t Original Predicted: 7 Perturbed predicted: 2 \t Actual:7\n",
            "Index: 134 \t Original Predicted: 7 Perturbed predicted: 3 \t Actual:7\n",
            "Index: 135 \t Original Predicted: 7 Perturbed predicted: 3 \t Actual:7\n",
            "Index: 136 \t Original Predicted: 7 Perturbed predicted: 3 \t Actual:7\n",
            "Index: 137 \t Original Predicted: 7 Perturbed predicted: 5 \t Actual:7\n",
            "Index: 138 \t Original Predicted: 7 Perturbed predicted: 9 \t Actual:7\n",
            "Index: 139 \t Original Predicted: 7 Perturbed predicted: 9 \t Actual:7\n",
            "Index: 140 \t Original Predicted: 7 Perturbed predicted: 3 \t Actual:7\n",
            "Index: 141 \t Original Predicted: 7 Perturbed predicted: 3 \t Actual:7\n",
            "Index: 142 \t Original Predicted: 7 Perturbed predicted: 9 \t Actual:7\n",
            "Index: 143 \t Original Predicted: 7 Perturbed predicted: 3 \t Actual:7\n",
            "Index: 144 \t Original Predicted: 7 Perturbed predicted: 9 \t Actual:7\n",
            "Index: 145 \t Original Predicted: 7 Perturbed predicted: 3 \t Actual:7\n",
            "Index: 146 \t Original Predicted: 7 Perturbed predicted: 3 \t Actual:7\n",
            "Index: 147 \t Original Predicted: 7 Perturbed predicted: 9 \t Actual:7\n",
            "Index: 148 \t Original Predicted: 7 Perturbed predicted: 3 \t Actual:7\n",
            "Index: 149 \t Original Predicted: 7 Perturbed predicted: 3 \t Actual:7\n",
            "Index: 150 \t Original Predicted: 7 Perturbed predicted: 3 \t Actual:7\n",
            "Index: 151 \t Original Predicted: 7 Perturbed predicted: 3 \t Actual:7\n",
            "Index: 152 \t Original Predicted: 7 Perturbed predicted: 9 \t Actual:7\n",
            "Index: 153 \t Original Predicted: 7 Perturbed predicted: 2 \t Actual:7\n",
            "Index: 154 \t Original Predicted: 7 Perturbed predicted: 3 \t Actual:7\n",
            "Index: 155 \t Original Predicted: 7 Perturbed predicted: 9 \t Actual:7\n",
            "Index: 156 \t Original Predicted: 7 Perturbed predicted: 3 \t Actual:7\n",
            "Index: 157 \t Original Predicted: 7 Perturbed predicted: 3 \t Actual:7\n",
            "Index: 158 \t Original Predicted: 7 Perturbed predicted: 3 \t Actual:7\n",
            "Index: 159 \t Original Predicted: 7 Perturbed predicted: 9 \t Actual:7\n",
            "Index: 160 \t Original Predicted: 7 Perturbed predicted: 5 \t Actual:7\n",
            "Index: 161 \t Original Predicted: 7 Perturbed predicted: 9 \t Actual:7\n",
            "Index: 162 \t Original Predicted: 7 Perturbed predicted: 3 \t Actual:7\n",
            "Index: 163 \t Original Predicted: 7 Perturbed predicted: 9 \t Actual:7\n",
            "Index: 164 \t Original Predicted: 7 Perturbed predicted: 1 \t Actual:7\n",
            "Index: 165 \t Original Predicted: 7 Perturbed predicted: 5 \t Actual:7\n",
            "Index: 166 \t Original Predicted: 7 Perturbed predicted: 3 \t Actual:7\n",
            "Index: 167 \t Original Predicted: 7 Perturbed predicted: 2 \t Actual:7\n",
            "Index: 168 \t Original Predicted: 7 Perturbed predicted: 2 \t Actual:7\n",
            "Index: 169 \t Original Predicted: 7 Perturbed predicted: 9 \t Actual:7\n",
            "Index: 170 \t Original Predicted: 7 Perturbed predicted: 9 \t Actual:7\n",
            "Index: 171 \t Original Predicted: 7 Perturbed predicted: 3 \t Actual:7\n",
            "Index: 172 \t Original Predicted: 7 Perturbed predicted: 9 \t Actual:7\n",
            "Index: 173 \t Original Predicted: 7 Perturbed predicted: 3 \t Actual:7\n",
            "Index: 174 \t Original Predicted: 7 Perturbed predicted: 3 \t Actual:7\n",
            "Index: 175 \t Original Predicted: 7 Perturbed predicted: 3 \t Actual:7\n",
            "Index: 176 \t Original Predicted: 7 Perturbed predicted: 3 \t Actual:7\n",
            "Index: 177 \t Original Predicted: 7 Perturbed predicted: 9 \t Actual:7\n",
            "Index: 178 \t Original Predicted: 7 Perturbed predicted: 5 \t Actual:7\n",
            "Index: 179 \t Original Predicted: 7 Perturbed predicted: 3 \t Actual:7\n",
            "Index: 180 \t Original Predicted: 7 Perturbed predicted: 3 \t Actual:7\n",
            "Index: 181 \t Original Predicted: 7 Perturbed predicted: 3 \t Actual:7\n",
            "Index: 182 \t Original Predicted: 7 Perturbed predicted: 9 \t Actual:7\n",
            "Index: 183 \t Original Predicted: 7 Perturbed predicted: 2 \t Actual:7\n",
            "Index: 184 \t Original Predicted: 7 Perturbed predicted: 9 \t Actual:7\n",
            "Index: 185 \t Original Predicted: 7 Perturbed predicted: 9 \t Actual:7\n",
            "Index: 186 \t Original Predicted: 7 Perturbed predicted: 9 \t Actual:7\n",
            "Index: 187 \t Original Predicted: 7 Perturbed predicted: 9 \t Actual:7\n",
            "Index: 188 \t Original Predicted: 7 Perturbed predicted: 3 \t Actual:7\n",
            "Index: 189 \t Original Predicted: 7 Perturbed predicted: 3 \t Actual:7\n",
            "Index: 190 \t Original Predicted: 7 Perturbed predicted: 2 \t Actual:7\n",
            "Index: 191 \t Original Predicted: 7 Perturbed predicted: 9 \t Actual:7\n",
            "Index: 192 \t Original Predicted: 7 Perturbed predicted: 3 \t Actual:7\n",
            "Index: 193 \t Original Predicted: 7 Perturbed predicted: 3 \t Actual:7\n",
            "Index: 194 \t Original Predicted: 7 Perturbed predicted: 9 \t Actual:7\n",
            "Index: 195 \t Original Predicted: 7 Perturbed predicted: 3 \t Actual:7\n",
            "Index: 196 \t Original Predicted: 7 Perturbed predicted: 3 \t Actual:7\n",
            "Index: 197 \t Original Predicted: 7 Perturbed predicted: 9 \t Actual:7\n",
            "Index: 198 \t Original Predicted: 7 Perturbed predicted: 8 \t Actual:7\n",
            "Index: 199 \t Original Predicted: 7 Perturbed predicted: 9 \t Actual:7\n",
            "Index: 200 \t Original Predicted: 7 Perturbed predicted: 3 \t Actual:7\n",
            "Index: 201 \t Original Predicted: 7 Perturbed predicted: 3 \t Actual:7\n",
            "Index: 202 \t Original Predicted: 7 Perturbed predicted: 9 \t Actual:7\n",
            "Index: 203 \t Original Predicted: 7 Perturbed predicted: 9 \t Actual:7\n",
            "Index: 204 \t Original Predicted: 7 Perturbed predicted: 3 \t Actual:7\n",
            "Index: 205 \t Original Predicted: 7 Perturbed predicted: 9 \t Actual:7\n",
            "Index: 206 \t Original Predicted: 7 Perturbed predicted: 3 \t Actual:7\n",
            "Index: 207 \t Original Predicted: 7 Perturbed predicted: 5 \t Actual:7\n",
            "Index: 208 \t Original Predicted: 7 Perturbed predicted: 2 \t Actual:7\n",
            "Index: 209 \t Original Predicted: 7 Perturbed predicted: 9 \t Actual:7\n",
            "Index: 210 \t Original Predicted: 7 Perturbed predicted: 9 \t Actual:7\n",
            "Index: 211 \t Original Predicted: 7 Perturbed predicted: 9 \t Actual:7\n",
            "Index: 212 \t Original Predicted: 7 Perturbed predicted: 9 \t Actual:7\n",
            "Index: 213 \t Original Predicted: 7 Perturbed predicted: 2 \t Actual:7\n",
            "Index: 214 \t Original Predicted: 7 Perturbed predicted: 3 \t Actual:7\n",
            "Index: 215 \t Original Predicted: 7 Perturbed predicted: 9 \t Actual:7\n",
            "Index: 216 \t Original Predicted: 7 Perturbed predicted: 9 \t Actual:7\n",
            "Index: 217 \t Original Predicted: 7 Perturbed predicted: 5 \t Actual:7\n",
            "Index: 218 \t Original Predicted: 7 Perturbed predicted: 3 \t Actual:7\n",
            "Index: 219 \t Original Predicted: 7 Perturbed predicted: 3 \t Actual:7\n",
            "Index: 220 \t Original Predicted: 7 Perturbed predicted: 5 \t Actual:7\n",
            "Index: 221 \t Original Predicted: 7 Perturbed predicted: 5 \t Actual:7\n",
            "Index: 222 \t Original Predicted: 7 Perturbed predicted: 9 \t Actual:7\n",
            "Index: 223 \t Original Predicted: 7 Perturbed predicted: 9 \t Actual:7\n",
            "Index: 224 \t Original Predicted: 7 Perturbed predicted: 9 \t Actual:7\n",
            "Index: 225 \t Original Predicted: 7 Perturbed predicted: 2 \t Actual:7\n",
            "Index: 226 \t Original Predicted: 7 Perturbed predicted: 3 \t Actual:7\n",
            "Index: 227 \t Original Predicted: 7 Perturbed predicted: 9 \t Actual:7\n",
            "Index: 228 \t Original Predicted: 7 Perturbed predicted: 9 \t Actual:7\n",
            "Index: 229 \t Original Predicted: 7 Perturbed predicted: 3 \t Actual:7\n",
            "Index: 230 \t Original Predicted: 7 Perturbed predicted: 3 \t Actual:7\n",
            "Index: 231 \t Original Predicted: 7 Perturbed predicted: 9 \t Actual:7\n",
            "Index: 232 \t Original Predicted: 7 Perturbed predicted: 9 \t Actual:7\n",
            "Index: 233 \t Original Predicted: 7 Perturbed predicted: 9 \t Actual:7\n",
            "Index: 234 \t Original Predicted: 7 Perturbed predicted: 9 \t Actual:7\n",
            "Index: 235 \t Original Predicted: 7 Perturbed predicted: 3 \t Actual:7\n",
            "Index: 236 \t Original Predicted: 7 Perturbed predicted: 9 \t Actual:7\n",
            "Index: 237 \t Original Predicted: 7 Perturbed predicted: 2 \t Actual:7\n",
            "Index: 238 \t Original Predicted: 7 Perturbed predicted: 9 \t Actual:7\n",
            "Index: 239 \t Original Predicted: 7 Perturbed predicted: 3 \t Actual:7\n",
            "Index: 240 \t Original Predicted: 7 Perturbed predicted: 5 \t Actual:7\n",
            "Index: 241 \t Original Predicted: 7 Perturbed predicted: 3 \t Actual:7\n",
            "Index: 242 \t Original Predicted: 7 Perturbed predicted: 1 \t Actual:7\n",
            "Index: 243 \t Original Predicted: 7 Perturbed predicted: 3 \t Actual:7\n",
            "Index: 244 \t Original Predicted: 7 Perturbed predicted: 2 \t Actual:7\n",
            "Index: 245 \t Original Predicted: 7 Perturbed predicted: 9 \t Actual:7\n",
            "Index: 246 \t Original Predicted: 7 Perturbed predicted: 3 \t Actual:7\n",
            "Index: 247 \t Original Predicted: 7 Perturbed predicted: 3 \t Actual:7\n",
            "Index: 248 \t Original Predicted: 7 Perturbed predicted: 3 \t Actual:7\n",
            "Index: 249 \t Original Predicted: 7 Perturbed predicted: 9 \t Actual:7\n",
            "Index: 250 \t Original Predicted: 7 Perturbed predicted: 3 \t Actual:7\n",
            "Index: 251 \t Original Predicted: 7 Perturbed predicted: 0 \t Actual:7\n",
            "Index: 252 \t Original Predicted: 7 Perturbed predicted: 3 \t Actual:7\n",
            "Index: 253 \t Original Predicted: 7 Perturbed predicted: 2 \t Actual:7\n",
            "Index: 254 \t Original Predicted: 7 Perturbed predicted: 8 \t Actual:7\n",
            "Index: 255 \t Original Predicted: 7 Perturbed predicted: 4 \t Actual:7\n",
            "Index: 256 \t Original Predicted: 7 Perturbed predicted: 9 \t Actual:7\n",
            "Index: 257 \t Original Predicted: 7 Perturbed predicted: 9 \t Actual:7\n",
            "Index: 258 \t Original Predicted: 7 Perturbed predicted: 9 \t Actual:7\n",
            "Index: 259 \t Original Predicted: 7 Perturbed predicted: 9 \t Actual:7\n",
            "Index: 260 \t Original Predicted: 7 Perturbed predicted: 3 \t Actual:7\n",
            "Index: 261 \t Original Predicted: 7 Perturbed predicted: 9 \t Actual:7\n",
            "Index: 262 \t Original Predicted: 7 Perturbed predicted: 3 \t Actual:7\n",
            "Index: 263 \t Original Predicted: 7 Perturbed predicted: 2 \t Actual:7\n",
            "Index: 264 \t Original Predicted: 7 Perturbed predicted: 9 \t Actual:7\n",
            "Index: 265 \t Original Predicted: 7 Perturbed predicted: 3 \t Actual:7\n",
            "Index: 266 \t Original Predicted: 7 Perturbed predicted: 3 \t Actual:7\n",
            "Index: 267 \t Original Predicted: 7 Perturbed predicted: 3 \t Actual:7\n",
            "Index: 268 \t Original Predicted: 7 Perturbed predicted: 4 \t Actual:7\n",
            "Index: 269 \t Original Predicted: 7 Perturbed predicted: 3 \t Actual:7\n",
            "Index: 270 \t Original Predicted: 7 Perturbed predicted: 3 \t Actual:7\n",
            "Index: 271 \t Original Predicted: 7 Perturbed predicted: 3 \t Actual:7\n",
            "Index: 272 \t Original Predicted: 7 Perturbed predicted: 8 \t Actual:7\n",
            "Index: 273 \t Original Predicted: 7 Perturbed predicted: 9 \t Actual:7\n",
            "Index: 274 \t Original Predicted: 7 Perturbed predicted: 5 \t Actual:7\n",
            "Index: 275 \t Original Predicted: 7 Perturbed predicted: 9 \t Actual:7\n",
            "Index: 276 \t Original Predicted: 7 Perturbed predicted: 9 \t Actual:7\n",
            "Index: 277 \t Original Predicted: 7 Perturbed predicted: 3 \t Actual:7\n",
            "Index: 278 \t Original Predicted: 7 Perturbed predicted: 9 \t Actual:7\n",
            "Index: 279 \t Original Predicted: 7 Perturbed predicted: 3 \t Actual:7\n",
            "Index: 280 \t Original Predicted: 7 Perturbed predicted: 9 \t Actual:7\n",
            "Index: 281 \t Original Predicted: 7 Perturbed predicted: 2 \t Actual:7\n",
            "Index: 282 \t Original Predicted: 7 Perturbed predicted: 5 \t Actual:7\n",
            "Index: 283 \t Original Predicted: 7 Perturbed predicted: 9 \t Actual:7\n",
            "Index: 284 \t Original Predicted: 7 Perturbed predicted: 4 \t Actual:7\n",
            "Index: 285 \t Original Predicted: 7 Perturbed predicted: 9 \t Actual:7\n",
            "Index: 286 \t Original Predicted: 7 Perturbed predicted: 9 \t Actual:7\n",
            "Index: 287 \t Original Predicted: 7 Perturbed predicted: 3 \t Actual:7\n",
            "Index: 288 \t Original Predicted: 7 Perturbed predicted: 3 \t Actual:7\n",
            "Index: 289 \t Original Predicted: 7 Perturbed predicted: 9 \t Actual:7\n",
            "Index: 290 \t Original Predicted: 7 Perturbed predicted: 9 \t Actual:7\n",
            "Index: 291 \t Original Predicted: 7 Perturbed predicted: 9 \t Actual:7\n",
            "Index: 292 \t Original Predicted: 7 Perturbed predicted: 9 \t Actual:7\n",
            "Index: 293 \t Original Predicted: 7 Perturbed predicted: 3 \t Actual:7\n",
            "Index: 294 \t Original Predicted: 7 Perturbed predicted: 5 \t Actual:7\n",
            "Index: 295 \t Original Predicted: 7 Perturbed predicted: 2 \t Actual:7\n",
            "Index: 296 \t Original Predicted: 7 Perturbed predicted: 9 \t Actual:7\n",
            "Index: 297 \t Original Predicted: 7 Perturbed predicted: 3 \t Actual:7\n",
            "Index: 298 \t Original Predicted: 7 Perturbed predicted: 3 \t Actual:7\n",
            "Index: 299 \t Original Predicted: 7 Perturbed predicted: 8 \t Actual:7\n",
            "Index: 300 \t Original Predicted: 7 Perturbed predicted: 1 \t Actual:7\n",
            "Index: 301 \t Original Predicted: 7 Perturbed predicted: 3 \t Actual:7\n",
            "Index: 302 \t Original Predicted: 7 Perturbed predicted: 3 \t Actual:7\n",
            "Index: 303 \t Original Predicted: 7 Perturbed predicted: 9 \t Actual:7\n",
            "Index: 304 \t Original Predicted: 7 Perturbed predicted: 3 \t Actual:7\n",
            "Index: 305 \t Original Predicted: 7 Perturbed predicted: 3 \t Actual:7\n",
            "Index: 306 \t Original Predicted: 7 Perturbed predicted: 3 \t Actual:7\n",
            "Index: 307 \t Original Predicted: 7 Perturbed predicted: 9 \t Actual:7\n",
            "Index: 308 \t Original Predicted: 7 Perturbed predicted: 3 \t Actual:7\n",
            "Index: 309 \t Original Predicted: 7 Perturbed predicted: 9 \t Actual:7\n",
            "Index: 310 \t Original Predicted: 7 Perturbed predicted: 3 \t Actual:7\n",
            "Index: 311 \t Original Predicted: 7 Perturbed predicted: 3 \t Actual:7\n",
            "Index: 312 \t Original Predicted: 7 Perturbed predicted: 2 \t Actual:7\n",
            "Index: 313 \t Original Predicted: 7 Perturbed predicted: 3 \t Actual:7\n",
            "Index: 314 \t Original Predicted: 7 Perturbed predicted: 3 \t Actual:7\n",
            "Index: 315 \t Original Predicted: 7 Perturbed predicted: 9 \t Actual:7\n",
            "Index: 316 \t Original Predicted: 7 Perturbed predicted: 3 \t Actual:7\n",
            "Index: 317 \t Original Predicted: 7 Perturbed predicted: 2 \t Actual:7\n",
            "Index: 318 \t Original Predicted: 7 Perturbed predicted: 3 \t Actual:7\n",
            "Index: 319 \t Original Predicted: 7 Perturbed predicted: 9 \t Actual:7\n",
            "Index: 320 \t Original Predicted: 7 Perturbed predicted: 1 \t Actual:7\n",
            "Index: 321 \t Original Predicted: 7 Perturbed predicted: 9 \t Actual:7\n",
            "Index: 322 \t Original Predicted: 7 Perturbed predicted: 3 \t Actual:7\n",
            "Index: 323 \t Original Predicted: 7 Perturbed predicted: 3 \t Actual:7\n",
            "Index: 324 \t Original Predicted: 7 Perturbed predicted: 2 \t Actual:7\n",
            "Index: 325 \t Original Predicted: 7 Perturbed predicted: 9 \t Actual:7\n",
            "Index: 326 \t Original Predicted: 7 Perturbed predicted: 1 \t Actual:7\n",
            "Index: 327 \t Original Predicted: 7 Perturbed predicted: 9 \t Actual:7\n",
            "Index: 328 \t Original Predicted: 7 Perturbed predicted: 3 \t Actual:7\n",
            "Index: 329 \t Original Predicted: 7 Perturbed predicted: 9 \t Actual:7\n",
            "Index: 330 \t Original Predicted: 7 Perturbed predicted: 9 \t Actual:7\n",
            "Index: 331 \t Original Predicted: 7 Perturbed predicted: 3 \t Actual:7\n",
            "Index: 332 \t Original Predicted: 7 Perturbed predicted: 3 \t Actual:7\n",
            "Index: 333 \t Original Predicted: 7 Perturbed predicted: 3 \t Actual:7\n",
            "Index: 334 \t Original Predicted: 7 Perturbed predicted: 9 \t Actual:7\n",
            "Index: 335 \t Original Predicted: 7 Perturbed predicted: 2 \t Actual:7\n",
            "Index: 336 \t Original Predicted: 7 Perturbed predicted: 3 \t Actual:7\n",
            "Index: 337 \t Original Predicted: 7 Perturbed predicted: 9 \t Actual:7\n",
            "Index: 338 \t Original Predicted: 7 Perturbed predicted: 8 \t Actual:7\n",
            "Index: 339 \t Original Predicted: 7 Perturbed predicted: 3 \t Actual:7\n",
            "Index: 340 \t Original Predicted: 7 Perturbed predicted: 3 \t Actual:7\n",
            "Index: 341 \t Original Predicted: 7 Perturbed predicted: 3 \t Actual:7\n",
            "Index: 342 \t Original Predicted: 7 Perturbed predicted: 9 \t Actual:7\n",
            "Index: 343 \t Original Predicted: 7 Perturbed predicted: 3 \t Actual:7\n",
            "Index: 344 \t Original Predicted: 7 Perturbed predicted: 9 \t Actual:7\n",
            "Index: 345 \t Original Predicted: 7 Perturbed predicted: 2 \t Actual:7\n",
            "Index: 346 \t Original Predicted: 7 Perturbed predicted: 9 \t Actual:7\n",
            "Index: 347 \t Original Predicted: 7 Perturbed predicted: 3 \t Actual:7\n",
            "Index: 348 \t Original Predicted: 7 Perturbed predicted: 3 \t Actual:7\n",
            "Index: 349 \t Original Predicted: 7 Perturbed predicted: 3 \t Actual:7\n",
            "Index: 350 \t Original Predicted: 7 Perturbed predicted: 3 \t Actual:7\n",
            "Index: 351 \t Original Predicted: 7 Perturbed predicted: 9 \t Actual:7\n",
            "Index: 352 \t Original Predicted: 7 Perturbed predicted: 3 \t Actual:7\n",
            "Index: 353 \t Original Predicted: 7 Perturbed predicted: 9 \t Actual:7\n",
            "Index: 354 \t Original Predicted: 7 Perturbed predicted: 5 \t Actual:7\n",
            "Index: 355 \t Original Predicted: 7 Perturbed predicted: 0 \t Actual:7\n",
            "Index: 356 \t Original Predicted: 7 Perturbed predicted: 9 \t Actual:7\n",
            "Index: 357 \t Original Predicted: 7 Perturbed predicted: 9 \t Actual:7\n",
            "Index: 358 \t Original Predicted: 7 Perturbed predicted: 3 \t Actual:7\n",
            "Index: 359 \t Original Predicted: 7 Perturbed predicted: 3 \t Actual:7\n",
            "Index: 360 \t Original Predicted: 7 Perturbed predicted: 9 \t Actual:7\n",
            "Index: 361 \t Original Predicted: 7 Perturbed predicted: 9 \t Actual:7\n",
            "Index: 362 \t Original Predicted: 7 Perturbed predicted: 3 \t Actual:7\n",
            "Index: 363 \t Original Predicted: 7 Perturbed predicted: 9 \t Actual:7\n",
            "Index: 364 \t Original Predicted: 7 Perturbed predicted: 9 \t Actual:7\n",
            "Index: 365 \t Original Predicted: 7 Perturbed predicted: 9 \t Actual:7\n",
            "Index: 366 \t Original Predicted: 7 Perturbed predicted: 3 \t Actual:7\n",
            "Index: 367 \t Original Predicted: 7 Perturbed predicted: 2 \t Actual:7\n",
            "Index: 368 \t Original Predicted: 7 Perturbed predicted: 3 \t Actual:7\n",
            "Index: 369 \t Original Predicted: 7 Perturbed predicted: 3 \t Actual:7\n",
            "Index: 370 \t Original Predicted: 7 Perturbed predicted: 9 \t Actual:7\n",
            "Index: 371 \t Original Predicted: 7 Perturbed predicted: 8 \t Actual:7\n",
            "Index: 372 \t Original Predicted: 7 Perturbed predicted: 3 \t Actual:7\n",
            "Index: 373 \t Original Predicted: 7 Perturbed predicted: 9 \t Actual:7\n",
            "Index: 374 \t Original Predicted: 7 Perturbed predicted: 9 \t Actual:7\n",
            "Index: 375 \t Original Predicted: 7 Perturbed predicted: 3 \t Actual:7\n",
            "Index: 376 \t Original Predicted: 7 Perturbed predicted: 5 \t Actual:7\n",
            "Index: 377 \t Original Predicted: 7 Perturbed predicted: 3 \t Actual:7\n",
            "Index: 378 \t Original Predicted: 7 Perturbed predicted: 3 \t Actual:7\n",
            "Index: 379 \t Original Predicted: 7 Perturbed predicted: 5 \t Actual:7\n",
            "Index: 380 \t Original Predicted: 7 Perturbed predicted: 4 \t Actual:7\n",
            "Index: 381 \t Original Predicted: 7 Perturbed predicted: 3 \t Actual:7\n",
            "Index: 382 \t Original Predicted: 7 Perturbed predicted: 9 \t Actual:7\n",
            "Index: 383 \t Original Predicted: 7 Perturbed predicted: 9 \t Actual:7\n",
            "Index: 384 \t Original Predicted: 7 Perturbed predicted: 3 \t Actual:7\n",
            "Index: 385 \t Original Predicted: 7 Perturbed predicted: 3 \t Actual:7\n",
            "Index: 386 \t Original Predicted: 7 Perturbed predicted: 2 \t Actual:7\n",
            "Index: 387 \t Original Predicted: 7 Perturbed predicted: 3 \t Actual:7\n",
            "Index: 388 \t Original Predicted: 7 Perturbed predicted: 9 \t Actual:7\n",
            "Index: 389 \t Original Predicted: 7 Perturbed predicted: 2 \t Actual:7\n",
            "Index: 390 \t Original Predicted: 7 Perturbed predicted: 2 \t Actual:7\n",
            "Index: 391 \t Original Predicted: 7 Perturbed predicted: 9 \t Actual:7\n",
            "Index: 392 \t Original Predicted: 7 Perturbed predicted: 3 \t Actual:7\n",
            "Index: 393 \t Original Predicted: 7 Perturbed predicted: 9 \t Actual:7\n",
            "Index: 394 \t Original Predicted: 7 Perturbed predicted: 9 \t Actual:7\n",
            "Index: 395 \t Original Predicted: 7 Perturbed predicted: 5 \t Actual:7\n",
            "Index: 396 \t Original Predicted: 7 Perturbed predicted: 3 \t Actual:7\n",
            "Index: 397 \t Original Predicted: 7 Perturbed predicted: 3 \t Actual:7\n",
            "Index: 398 \t Original Predicted: 7 Perturbed predicted: 9 \t Actual:7\n",
            "Index: 399 \t Original Predicted: 7 Perturbed predicted: 3 \t Actual:7\n",
            "Index: 400 \t Original Predicted: 7 Perturbed predicted: 3 \t Actual:7\n",
            "Index: 401 \t Original Predicted: 7 Perturbed predicted: 9 \t Actual:7\n",
            "Index: 402 \t Original Predicted: 7 Perturbed predicted: 3 \t Actual:7\n",
            "Index: 403 \t Original Predicted: 7 Perturbed predicted: 2 \t Actual:7\n",
            "Index: 404 \t Original Predicted: 7 Perturbed predicted: 9 \t Actual:7\n",
            "Index: 405 \t Original Predicted: 7 Perturbed predicted: 3 \t Actual:7\n",
            "Index: 406 \t Original Predicted: 7 Perturbed predicted: 3 \t Actual:7\n",
            "Index: 407 \t Original Predicted: 7 Perturbed predicted: 9 \t Actual:7\n",
            "Index: 408 \t Original Predicted: 7 Perturbed predicted: 3 \t Actual:7\n",
            "Index: 409 \t Original Predicted: 7 Perturbed predicted: 3 \t Actual:7\n",
            "Index: 410 \t Original Predicted: 7 Perturbed predicted: 5 \t Actual:7\n",
            "Index: 411 \t Original Predicted: 7 Perturbed predicted: 1 \t Actual:7\n",
            "Index: 412 \t Original Predicted: 7 Perturbed predicted: 9 \t Actual:7\n",
            "Index: 413 \t Original Predicted: 7 Perturbed predicted: 5 \t Actual:7\n",
            "Index: 414 \t Original Predicted: 1 Perturbed predicted: 1 \t Actual:7\n",
            "Index: 415 \t Original Predicted: 7 Perturbed predicted: 9 \t Actual:7\n",
            "Index: 416 \t Original Predicted: 7 Perturbed predicted: 9 \t Actual:7\n",
            "Index: 417 \t Original Predicted: 7 Perturbed predicted: 9 \t Actual:7\n",
            "Index: 418 \t Original Predicted: 7 Perturbed predicted: 9 \t Actual:7\n",
            "Index: 419 \t Original Predicted: 7 Perturbed predicted: 3 \t Actual:7\n",
            "Index: 420 \t Original Predicted: 7 Perturbed predicted: 9 \t Actual:7\n",
            "Index: 421 \t Original Predicted: 7 Perturbed predicted: 3 \t Actual:7\n",
            "Index: 422 \t Original Predicted: 7 Perturbed predicted: 9 \t Actual:7\n",
            "Index: 423 \t Original Predicted: 7 Perturbed predicted: 5 \t Actual:7\n",
            "Index: 424 \t Original Predicted: 7 Perturbed predicted: 0 \t Actual:7\n",
            "Index: 425 \t Original Predicted: 7 Perturbed predicted: 3 \t Actual:7\n",
            "Index: 426 \t Original Predicted: 7 Perturbed predicted: 2 \t Actual:7\n",
            "Index: 427 \t Original Predicted: 7 Perturbed predicted: 9 \t Actual:7\n",
            "Index: 428 \t Original Predicted: 7 Perturbed predicted: 2 \t Actual:7\n",
            "Index: 429 \t Original Predicted: 7 Perturbed predicted: 2 \t Actual:7\n",
            "Index: 430 \t Original Predicted: 7 Perturbed predicted: 9 \t Actual:7\n",
            "Index: 431 \t Original Predicted: 7 Perturbed predicted: 9 \t Actual:7\n",
            "Index: 432 \t Original Predicted: 7 Perturbed predicted: 3 \t Actual:7\n",
            "Index: 433 \t Original Predicted: 7 Perturbed predicted: 0 \t Actual:7\n",
            "Index: 434 \t Original Predicted: 7 Perturbed predicted: 9 \t Actual:7\n",
            "Index: 435 \t Original Predicted: 7 Perturbed predicted: 3 \t Actual:7\n",
            "Index: 436 \t Original Predicted: 7 Perturbed predicted: 9 \t Actual:7\n",
            "Index: 437 \t Original Predicted: 7 Perturbed predicted: 8 \t Actual:7\n",
            "Index: 438 \t Original Predicted: 7 Perturbed predicted: 9 \t Actual:7\n",
            "Index: 439 \t Original Predicted: 7 Perturbed predicted: 3 \t Actual:7\n",
            "Index: 440 \t Original Predicted: 7 Perturbed predicted: 9 \t Actual:7\n",
            "Index: 441 \t Original Predicted: 7 Perturbed predicted: 3 \t Actual:7\n",
            "Index: 442 \t Original Predicted: 7 Perturbed predicted: 3 \t Actual:7\n",
            "Index: 443 \t Original Predicted: 7 Perturbed predicted: 3 \t Actual:7\n",
            "Index: 444 \t Original Predicted: 7 Perturbed predicted: 9 \t Actual:7\n",
            "Index: 445 \t Original Predicted: 7 Perturbed predicted: 9 \t Actual:7\n",
            "Index: 446 \t Original Predicted: 7 Perturbed predicted: 3 \t Actual:7\n",
            "Index: 447 \t Original Predicted: 7 Perturbed predicted: 9 \t Actual:7\n",
            "Index: 448 \t Original Predicted: 7 Perturbed predicted: 3 \t Actual:7\n",
            "Index: 449 \t Original Predicted: 7 Perturbed predicted: 3 \t Actual:7\n",
            "Index: 450 \t Original Predicted: 7 Perturbed predicted: 2 \t Actual:7\n",
            "Index: 451 \t Original Predicted: 7 Perturbed predicted: 9 \t Actual:7\n",
            "Index: 452 \t Original Predicted: 7 Perturbed predicted: 9 \t Actual:7\n",
            "Index: 453 \t Original Predicted: 7 Perturbed predicted: 9 \t Actual:7\n",
            "Index: 454 \t Original Predicted: 7 Perturbed predicted: 3 \t Actual:7\n",
            "Index: 455 \t Original Predicted: 7 Perturbed predicted: 9 \t Actual:7\n",
            "Index: 456 \t Original Predicted: 7 Perturbed predicted: 3 \t Actual:7\n",
            "Index: 457 \t Original Predicted: 7 Perturbed predicted: 9 \t Actual:7\n",
            "Index: 458 \t Original Predicted: 7 Perturbed predicted: 3 \t Actual:7\n",
            "Index: 459 \t Original Predicted: 7 Perturbed predicted: 3 \t Actual:7\n",
            "Index: 460 \t Original Predicted: 7 Perturbed predicted: 9 \t Actual:7\n",
            "Index: 461 \t Original Predicted: 7 Perturbed predicted: 3 \t Actual:7\n",
            "Index: 462 \t Original Predicted: 7 Perturbed predicted: 2 \t Actual:7\n",
            "Index: 463 \t Original Predicted: 7 Perturbed predicted: 3 \t Actual:7\n",
            "Index: 464 \t Original Predicted: 7 Perturbed predicted: 3 \t Actual:7\n",
            "Index: 465 \t Original Predicted: 7 Perturbed predicted: 3 \t Actual:7\n",
            "Index: 466 \t Original Predicted: 7 Perturbed predicted: 9 \t Actual:7\n",
            "Index: 467 \t Original Predicted: 7 Perturbed predicted: 9 \t Actual:7\n",
            "Index: 468 \t Original Predicted: 7 Perturbed predicted: 3 \t Actual:7\n",
            "Index: 469 \t Original Predicted: 7 Perturbed predicted: 9 \t Actual:7\n",
            "Index: 470 \t Original Predicted: 7 Perturbed predicted: 9 \t Actual:7\n",
            "Index: 471 \t Original Predicted: 7 Perturbed predicted: 4 \t Actual:7\n",
            "Index: 472 \t Original Predicted: 7 Perturbed predicted: 3 \t Actual:7\n",
            "Index: 473 \t Original Predicted: 7 Perturbed predicted: 2 \t Actual:7\n",
            "Index: 474 \t Original Predicted: 7 Perturbed predicted: 8 \t Actual:7\n",
            "Index: 475 \t Original Predicted: 7 Perturbed predicted: 9 \t Actual:7\n",
            "Index: 476 \t Original Predicted: 7 Perturbed predicted: 5 \t Actual:7\n",
            "Index: 477 \t Original Predicted: 7 Perturbed predicted: 9 \t Actual:7\n",
            "Index: 478 \t Original Predicted: 7 Perturbed predicted: 9 \t Actual:7\n",
            "Index: 479 \t Original Predicted: 7 Perturbed predicted: 2 \t Actual:7\n",
            "Index: 480 \t Original Predicted: 7 Perturbed predicted: 2 \t Actual:7\n",
            "Index: 481 \t Original Predicted: 7 Perturbed predicted: 3 \t Actual:7\n",
            "Index: 482 \t Original Predicted: 7 Perturbed predicted: 3 \t Actual:7\n",
            "Index: 483 \t Original Predicted: 7 Perturbed predicted: 9 \t Actual:7\n",
            "Index: 484 \t Original Predicted: 7 Perturbed predicted: 3 \t Actual:7\n",
            "Index: 485 \t Original Predicted: 7 Perturbed predicted: 9 \t Actual:7\n",
            "Index: 486 \t Original Predicted: 7 Perturbed predicted: 3 \t Actual:7\n",
            "Index: 487 \t Original Predicted: 7 Perturbed predicted: 3 \t Actual:7\n",
            "Index: 488 \t Original Predicted: 7 Perturbed predicted: 9 \t Actual:7\n",
            "Index: 489 \t Original Predicted: 7 Perturbed predicted: 8 \t Actual:7\n",
            "Index: 490 \t Original Predicted: 7 Perturbed predicted: 9 \t Actual:7\n",
            "Index: 491 \t Original Predicted: 7 Perturbed predicted: 2 \t Actual:7\n",
            "Index: 492 \t Original Predicted: 7 Perturbed predicted: 9 \t Actual:7\n",
            "Index: 493 \t Original Predicted: 7 Perturbed predicted: 3 \t Actual:7\n",
            "Index: 494 \t Original Predicted: 7 Perturbed predicted: 3 \t Actual:7\n",
            "Index: 495 \t Original Predicted: 7 Perturbed predicted: 1 \t Actual:7\n",
            "Index: 496 \t Original Predicted: 7 Perturbed predicted: 5 \t Actual:7\n",
            "Index: 497 \t Original Predicted: 7 Perturbed predicted: 9 \t Actual:7\n",
            "Index: 498 \t Original Predicted: 7 Perturbed predicted: 3 \t Actual:7\n",
            "Index: 499 \t Original Predicted: 7 Perturbed predicted: 3 \t Actual:7\n",
            "Index: 500 \t Original Predicted: 7 Perturbed predicted: 9 \t Actual:7\n",
            "Index: 501 \t Original Predicted: 7 Perturbed predicted: 5 \t Actual:7\n",
            "Index: 502 \t Original Predicted: 7 Perturbed predicted: 9 \t Actual:7\n",
            "Index: 503 \t Original Predicted: 7 Perturbed predicted: 3 \t Actual:7\n",
            "Index: 504 \t Original Predicted: 7 Perturbed predicted: 3 \t Actual:7\n",
            "Index: 505 \t Original Predicted: 7 Perturbed predicted: 3 \t Actual:7\n",
            "Index: 506 \t Original Predicted: 7 Perturbed predicted: 9 \t Actual:7\n",
            "Index: 507 \t Original Predicted: 7 Perturbed predicted: 9 \t Actual:7\n",
            "Index: 508 \t Original Predicted: 7 Perturbed predicted: 9 \t Actual:7\n",
            "Index: 509 \t Original Predicted: 7 Perturbed predicted: 3 \t Actual:7\n",
            "Index: 510 \t Original Predicted: 7 Perturbed predicted: 3 \t Actual:7\n",
            "Index: 511 \t Original Predicted: 7 Perturbed predicted: 5 \t Actual:7\n",
            "Index: 512 \t Original Predicted: 7 Perturbed predicted: 3 \t Actual:7\n",
            "Index: 513 \t Original Predicted: 7 Perturbed predicted: 3 \t Actual:7\n",
            "Index: 514 \t Original Predicted: 7 Perturbed predicted: 3 \t Actual:7\n",
            "Index: 515 \t Original Predicted: 7 Perturbed predicted: 9 \t Actual:7\n",
            "Index: 516 \t Original Predicted: 7 Perturbed predicted: 9 \t Actual:7\n",
            "Index: 517 \t Original Predicted: 7 Perturbed predicted: 3 \t Actual:7\n",
            "Index: 518 \t Original Predicted: 7 Perturbed predicted: 9 \t Actual:7\n",
            "Index: 519 \t Original Predicted: 7 Perturbed predicted: 2 \t Actual:7\n",
            "Index: 520 \t Original Predicted: 7 Perturbed predicted: 3 \t Actual:7\n",
            "Index: 521 \t Original Predicted: 7 Perturbed predicted: 4 \t Actual:7\n",
            "Index: 522 \t Original Predicted: 7 Perturbed predicted: 9 \t Actual:7\n",
            "Index: 523 \t Original Predicted: 7 Perturbed predicted: 3 \t Actual:7\n",
            "Index: 524 \t Original Predicted: 7 Perturbed predicted: 2 \t Actual:7\n",
            "Index: 525 \t Original Predicted: 7 Perturbed predicted: 3 \t Actual:7\n",
            "Index: 526 \t Original Predicted: 7 Perturbed predicted: 3 \t Actual:7\n",
            "Index: 527 \t Original Predicted: 7 Perturbed predicted: 9 \t Actual:7\n",
            "Index: 528 \t Original Predicted: 7 Perturbed predicted: 2 \t Actual:7\n",
            "Index: 529 \t Original Predicted: 7 Perturbed predicted: 3 \t Actual:7\n",
            "Index: 530 \t Original Predicted: 7 Perturbed predicted: 3 \t Actual:7\n",
            "Index: 531 \t Original Predicted: 7 Perturbed predicted: 9 \t Actual:7\n",
            "Index: 532 \t Original Predicted: 7 Perturbed predicted: 9 \t Actual:7\n",
            "Index: 533 \t Original Predicted: 7 Perturbed predicted: 9 \t Actual:7\n",
            "Index: 534 \t Original Predicted: 7 Perturbed predicted: 9 \t Actual:7\n",
            "Index: 535 \t Original Predicted: 7 Perturbed predicted: 2 \t Actual:7\n",
            "Index: 536 \t Original Predicted: 7 Perturbed predicted: 3 \t Actual:7\n",
            "Index: 537 \t Original Predicted: 7 Perturbed predicted: 9 \t Actual:7\n",
            "Index: 538 \t Original Predicted: 7 Perturbed predicted: 3 \t Actual:7\n",
            "Index: 539 \t Original Predicted: 7 Perturbed predicted: 4 \t Actual:7\n",
            "Index: 540 \t Original Predicted: 7 Perturbed predicted: 9 \t Actual:7\n",
            "Index: 541 \t Original Predicted: 7 Perturbed predicted: 3 \t Actual:7\n",
            "Index: 542 \t Original Predicted: 7 Perturbed predicted: 9 \t Actual:7\n",
            "Index: 543 \t Original Predicted: 7 Perturbed predicted: 3 \t Actual:7\n",
            "Index: 544 \t Original Predicted: 7 Perturbed predicted: 3 \t Actual:7\n",
            "Index: 545 \t Original Predicted: 7 Perturbed predicted: 5 \t Actual:7\n",
            "Index: 546 \t Original Predicted: 7 Perturbed predicted: 3 \t Actual:7\n",
            "Index: 547 \t Original Predicted: 7 Perturbed predicted: 3 \t Actual:7\n",
            "Index: 548 \t Original Predicted: 7 Perturbed predicted: 1 \t Actual:7\n",
            "Index: 549 \t Original Predicted: 7 Perturbed predicted: 3 \t Actual:7\n",
            "Index: 550 \t Original Predicted: 7 Perturbed predicted: 3 \t Actual:7\n",
            "Index: 551 \t Original Predicted: 7 Perturbed predicted: 3 \t Actual:7\n",
            "Index: 552 \t Original Predicted: 7 Perturbed predicted: 2 \t Actual:7\n",
            "Index: 553 \t Original Predicted: 7 Perturbed predicted: 3 \t Actual:7\n",
            "Index: 554 \t Original Predicted: 7 Perturbed predicted: 9 \t Actual:7\n",
            "Index: 555 \t Original Predicted: 7 Perturbed predicted: 3 \t Actual:7\n",
            "Index: 556 \t Original Predicted: 7 Perturbed predicted: 9 \t Actual:7\n",
            "Index: 557 \t Original Predicted: 7 Perturbed predicted: 9 \t Actual:7\n",
            "Index: 558 \t Original Predicted: 7 Perturbed predicted: 9 \t Actual:7\n",
            "Index: 559 \t Original Predicted: 7 Perturbed predicted: 3 \t Actual:7\n",
            "Index: 560 \t Original Predicted: 7 Perturbed predicted: 3 \t Actual:7\n",
            "Index: 561 \t Original Predicted: 7 Perturbed predicted: 3 \t Actual:7\n",
            "Index: 562 \t Original Predicted: 7 Perturbed predicted: 3 \t Actual:7\n",
            "Index: 563 \t Original Predicted: 7 Perturbed predicted: 9 \t Actual:7\n",
            "Index: 564 \t Original Predicted: 7 Perturbed predicted: 3 \t Actual:7\n",
            "Index: 565 \t Original Predicted: 7 Perturbed predicted: 3 \t Actual:7\n",
            "Index: 566 \t Original Predicted: 7 Perturbed predicted: 3 \t Actual:7\n",
            "Index: 567 \t Original Predicted: 7 Perturbed predicted: 3 \t Actual:7\n",
            "Index: 568 \t Original Predicted: 7 Perturbed predicted: 3 \t Actual:7\n",
            "Index: 569 \t Original Predicted: 7 Perturbed predicted: 0 \t Actual:7\n",
            "Index: 570 \t Original Predicted: 7 Perturbed predicted: 8 \t Actual:7\n",
            "Index: 571 \t Original Predicted: 7 Perturbed predicted: 3 \t Actual:7\n",
            "Index: 572 \t Original Predicted: 7 Perturbed predicted: 3 \t Actual:7\n",
            "Index: 573 \t Original Predicted: 7 Perturbed predicted: 9 \t Actual:7\n",
            "Index: 574 \t Original Predicted: 7 Perturbed predicted: 3 \t Actual:7\n",
            "Index: 575 \t Original Predicted: 7 Perturbed predicted: 3 \t Actual:7\n",
            "Index: 576 \t Original Predicted: 7 Perturbed predicted: 9 \t Actual:7\n",
            "Index: 577 \t Original Predicted: 7 Perturbed predicted: 2 \t Actual:7\n",
            "Index: 578 \t Original Predicted: 7 Perturbed predicted: 3 \t Actual:7\n",
            "Index: 579 \t Original Predicted: 7 Perturbed predicted: 3 \t Actual:7\n",
            "Index: 580 \t Original Predicted: 7 Perturbed predicted: 4 \t Actual:7\n",
            "Index: 581 \t Original Predicted: 7 Perturbed predicted: 3 \t Actual:7\n",
            "Index: 582 \t Original Predicted: 7 Perturbed predicted: 9 \t Actual:7\n",
            "Index: 583 \t Original Predicted: 7 Perturbed predicted: 4 \t Actual:7\n",
            "Index: 584 \t Original Predicted: 7 Perturbed predicted: 9 \t Actual:7\n",
            "Index: 585 \t Original Predicted: 1 Perturbed predicted: 5 \t Actual:7\n",
            "Index: 586 \t Original Predicted: 7 Perturbed predicted: 9 \t Actual:7\n",
            "Index: 587 \t Original Predicted: 7 Perturbed predicted: 9 \t Actual:7\n",
            "Index: 588 \t Original Predicted: 7 Perturbed predicted: 1 \t Actual:7\n",
            "Index: 589 \t Original Predicted: 7 Perturbed predicted: 9 \t Actual:7\n",
            "Index: 590 \t Original Predicted: 7 Perturbed predicted: 9 \t Actual:7\n",
            "Index: 591 \t Original Predicted: 7 Perturbed predicted: 9 \t Actual:7\n",
            "Index: 592 \t Original Predicted: 7 Perturbed predicted: 3 \t Actual:7\n",
            "Index: 593 \t Original Predicted: 7 Perturbed predicted: 3 \t Actual:7\n",
            "Index: 594 \t Original Predicted: 7 Perturbed predicted: 3 \t Actual:7\n",
            "Index: 595 \t Original Predicted: 7 Perturbed predicted: 9 \t Actual:7\n",
            "Index: 596 \t Original Predicted: 7 Perturbed predicted: 9 \t Actual:7\n",
            "Index: 597 \t Original Predicted: 7 Perturbed predicted: 2 \t Actual:7\n",
            "Index: 598 \t Original Predicted: 7 Perturbed predicted: 5 \t Actual:7\n",
            "Index: 599 \t Original Predicted: 7 Perturbed predicted: 5 \t Actual:7\n",
            "Index: 600 \t Original Predicted: 7 Perturbed predicted: 9 \t Actual:7\n",
            "Index: 601 \t Original Predicted: 7 Perturbed predicted: 5 \t Actual:7\n",
            "Index: 602 \t Original Predicted: 7 Perturbed predicted: 3 \t Actual:7\n",
            "Index: 603 \t Original Predicted: 7 Perturbed predicted: 9 \t Actual:7\n",
            "Index: 604 \t Original Predicted: 7 Perturbed predicted: 3 \t Actual:7\n",
            "Index: 605 \t Original Predicted: 7 Perturbed predicted: 3 \t Actual:7\n",
            "Index: 606 \t Original Predicted: 7 Perturbed predicted: 3 \t Actual:7\n",
            "Index: 607 \t Original Predicted: 7 Perturbed predicted: 9 \t Actual:7\n",
            "Index: 608 \t Original Predicted: 7 Perturbed predicted: 9 \t Actual:7\n",
            "Index: 609 \t Original Predicted: 7 Perturbed predicted: 1 \t Actual:7\n",
            "Index: 610 \t Original Predicted: 7 Perturbed predicted: 3 \t Actual:7\n",
            "Index: 611 \t Original Predicted: 7 Perturbed predicted: 3 \t Actual:7\n",
            "Index: 612 \t Original Predicted: 7 Perturbed predicted: 3 \t Actual:7\n",
            "Index: 613 \t Original Predicted: 7 Perturbed predicted: 5 \t Actual:7\n",
            "Index: 614 \t Original Predicted: 7 Perturbed predicted: 2 \t Actual:7\n",
            "Index: 615 \t Original Predicted: 7 Perturbed predicted: 9 \t Actual:7\n",
            "Index: 616 \t Original Predicted: 7 Perturbed predicted: 3 \t Actual:7\n",
            "Index: 617 \t Original Predicted: 7 Perturbed predicted: 3 \t Actual:7\n",
            "Index: 618 \t Original Predicted: 7 Perturbed predicted: 9 \t Actual:7\n",
            "Index: 619 \t Original Predicted: 7 Perturbed predicted: 9 \t Actual:7\n",
            "Index: 620 \t Original Predicted: 7 Perturbed predicted: 9 \t Actual:7\n",
            "Index: 621 \t Original Predicted: 7 Perturbed predicted: 3 \t Actual:7\n",
            "Index: 622 \t Original Predicted: 7 Perturbed predicted: 9 \t Actual:7\n",
            "Index: 623 \t Original Predicted: 7 Perturbed predicted: 5 \t Actual:7\n",
            "Index: 624 \t Original Predicted: 7 Perturbed predicted: 9 \t Actual:7\n",
            "Index: 625 \t Original Predicted: 7 Perturbed predicted: 5 \t Actual:7\n",
            "Index: 626 \t Original Predicted: 7 Perturbed predicted: 5 \t Actual:7\n",
            "Index: 627 \t Original Predicted: 7 Perturbed predicted: 9 \t Actual:7\n",
            "Index: 628 \t Original Predicted: 7 Perturbed predicted: 3 \t Actual:7\n",
            "Index: 629 \t Original Predicted: 7 Perturbed predicted: 9 \t Actual:7\n",
            "Index: 630 \t Original Predicted: 7 Perturbed predicted: 5 \t Actual:7\n",
            "Index: 631 \t Original Predicted: 7 Perturbed predicted: 2 \t Actual:7\n",
            "Index: 632 \t Original Predicted: 7 Perturbed predicted: 2 \t Actual:7\n",
            "Index: 633 \t Original Predicted: 7 Perturbed predicted: 0 \t Actual:7\n",
            "Index: 634 \t Original Predicted: 7 Perturbed predicted: 3 \t Actual:7\n",
            "Index: 635 \t Original Predicted: 7 Perturbed predicted: 8 \t Actual:7\n",
            "Index: 636 \t Original Predicted: 7 Perturbed predicted: 2 \t Actual:7\n",
            "Index: 637 \t Original Predicted: 7 Perturbed predicted: 3 \t Actual:7\n",
            "Index: 638 \t Original Predicted: 7 Perturbed predicted: 2 \t Actual:7\n",
            "Index: 639 \t Original Predicted: 7 Perturbed predicted: 3 \t Actual:7\n",
            "Index: 640 \t Original Predicted: 7 Perturbed predicted: 9 \t Actual:7\n",
            "Index: 641 \t Original Predicted: 7 Perturbed predicted: 2 \t Actual:7\n",
            "Index: 642 \t Original Predicted: 7 Perturbed predicted: 3 \t Actual:7\n",
            "Index: 643 \t Original Predicted: 7 Perturbed predicted: 3 \t Actual:7\n",
            "Index: 644 \t Original Predicted: 7 Perturbed predicted: 9 \t Actual:7\n",
            "Index: 645 \t Original Predicted: 7 Perturbed predicted: 3 \t Actual:7\n",
            "Index: 646 \t Original Predicted: 7 Perturbed predicted: 2 \t Actual:7\n",
            "Index: 647 \t Original Predicted: 7 Perturbed predicted: 3 \t Actual:7\n",
            "Index: 648 \t Original Predicted: 7 Perturbed predicted: 9 \t Actual:7\n",
            "Index: 649 \t Original Predicted: 7 Perturbed predicted: 9 \t Actual:7\n",
            "Index: 650 \t Original Predicted: 7 Perturbed predicted: 3 \t Actual:7\n",
            "Index: 651 \t Original Predicted: 7 Perturbed predicted: 3 \t Actual:7\n",
            "Index: 652 \t Original Predicted: 7 Perturbed predicted: 9 \t Actual:7\n",
            "Index: 653 \t Original Predicted: 7 Perturbed predicted: 3 \t Actual:7\n",
            "Index: 654 \t Original Predicted: 7 Perturbed predicted: 9 \t Actual:7\n",
            "Index: 655 \t Original Predicted: 7 Perturbed predicted: 2 \t Actual:7\n",
            "Index: 656 \t Original Predicted: 7 Perturbed predicted: 8 \t Actual:7\n",
            "Index: 657 \t Original Predicted: 7 Perturbed predicted: 4 \t Actual:7\n",
            "Index: 658 \t Original Predicted: 7 Perturbed predicted: 3 \t Actual:7\n",
            "Index: 659 \t Original Predicted: 7 Perturbed predicted: 3 \t Actual:7\n",
            "Index: 660 \t Original Predicted: 7 Perturbed predicted: 9 \t Actual:7\n",
            "Index: 661 \t Original Predicted: 7 Perturbed predicted: 9 \t Actual:7\n",
            "Index: 662 \t Original Predicted: 7 Perturbed predicted: 9 \t Actual:7\n",
            "Index: 663 \t Original Predicted: 7 Perturbed predicted: 3 \t Actual:7\n",
            "Index: 664 \t Original Predicted: 7 Perturbed predicted: 3 \t Actual:7\n",
            "Index: 665 \t Original Predicted: 7 Perturbed predicted: 9 \t Actual:7\n",
            "Index: 666 \t Original Predicted: 7 Perturbed predicted: 3 \t Actual:7\n",
            "Index: 667 \t Original Predicted: 7 Perturbed predicted: 9 \t Actual:7\n",
            "Index: 668 \t Original Predicted: 7 Perturbed predicted: 8 \t Actual:7\n",
            "Index: 669 \t Original Predicted: 7 Perturbed predicted: 2 \t Actual:7\n",
            "Index: 670 \t Original Predicted: 7 Perturbed predicted: 9 \t Actual:7\n",
            "Index: 671 \t Original Predicted: 7 Perturbed predicted: 2 \t Actual:7\n",
            "Index: 672 \t Original Predicted: 7 Perturbed predicted: 9 \t Actual:7\n",
            "Index: 673 \t Original Predicted: 7 Perturbed predicted: 3 \t Actual:7\n",
            "Index: 674 \t Original Predicted: 7 Perturbed predicted: 3 \t Actual:7\n",
            "Index: 675 \t Original Predicted: 7 Perturbed predicted: 3 \t Actual:7\n",
            "Index: 676 \t Original Predicted: 7 Perturbed predicted: 3 \t Actual:7\n",
            "Index: 677 \t Original Predicted: 7 Perturbed predicted: 3 \t Actual:7\n",
            "Index: 678 \t Original Predicted: 7 Perturbed predicted: 1 \t Actual:7\n",
            "Index: 679 \t Original Predicted: 7 Perturbed predicted: 2 \t Actual:7\n",
            "Index: 680 \t Original Predicted: 7 Perturbed predicted: 5 \t Actual:7\n",
            "Index: 681 \t Original Predicted: 7 Perturbed predicted: 2 \t Actual:7\n",
            "Index: 682 \t Original Predicted: 7 Perturbed predicted: 9 \t Actual:7\n",
            "Index: 683 \t Original Predicted: 7 Perturbed predicted: 9 \t Actual:7\n",
            "Index: 684 \t Original Predicted: 7 Perturbed predicted: 9 \t Actual:7\n",
            "Index: 685 \t Original Predicted: 7 Perturbed predicted: 3 \t Actual:7\n",
            "Index: 686 \t Original Predicted: 7 Perturbed predicted: 3 \t Actual:7\n",
            "Index: 687 \t Original Predicted: 7 Perturbed predicted: 9 \t Actual:7\n",
            "Index: 688 \t Original Predicted: 7 Perturbed predicted: 2 \t Actual:7\n",
            "Index: 689 \t Original Predicted: 7 Perturbed predicted: 3 \t Actual:7\n",
            "Index: 690 \t Original Predicted: 7 Perturbed predicted: 9 \t Actual:7\n",
            "Index: 691 \t Original Predicted: 7 Perturbed predicted: 5 \t Actual:7\n",
            "Index: 692 \t Original Predicted: 7 Perturbed predicted: 9 \t Actual:7\n",
            "Index: 693 \t Original Predicted: 7 Perturbed predicted: 3 \t Actual:7\n",
            "Index: 694 \t Original Predicted: 7 Perturbed predicted: 9 \t Actual:7\n",
            "Index: 695 \t Original Predicted: 7 Perturbed predicted: 9 \t Actual:7\n",
            "Index: 696 \t Original Predicted: 7 Perturbed predicted: 2 \t Actual:7\n",
            "Index: 697 \t Original Predicted: 7 Perturbed predicted: 3 \t Actual:7\n",
            "Index: 698 \t Original Predicted: 7 Perturbed predicted: 3 \t Actual:7\n",
            "Index: 699 \t Original Predicted: 7 Perturbed predicted: 9 \t Actual:7\n",
            "Index: 700 \t Original Predicted: 7 Perturbed predicted: 2 \t Actual:7\n",
            "Index: 701 \t Original Predicted: 7 Perturbed predicted: 5 \t Actual:7\n",
            "Index: 702 \t Original Predicted: 7 Perturbed predicted: 9 \t Actual:7\n",
            "Index: 703 \t Original Predicted: 7 Perturbed predicted: 3 \t Actual:7\n",
            "Index: 704 \t Original Predicted: 7 Perturbed predicted: 3 \t Actual:7\n",
            "Index: 705 \t Original Predicted: 7 Perturbed predicted: 3 \t Actual:7\n",
            "Index: 706 \t Original Predicted: 7 Perturbed predicted: 9 \t Actual:7\n",
            "Index: 707 \t Original Predicted: 7 Perturbed predicted: 3 \t Actual:7\n",
            "Index: 708 \t Original Predicted: 7 Perturbed predicted: 9 \t Actual:7\n",
            "Index: 709 \t Original Predicted: 7 Perturbed predicted: 9 \t Actual:7\n",
            "Index: 710 \t Original Predicted: 7 Perturbed predicted: 2 \t Actual:7\n",
            "Index: 711 \t Original Predicted: 7 Perturbed predicted: 3 \t Actual:7\n",
            "Index: 712 \t Original Predicted: 7 Perturbed predicted: 2 \t Actual:7\n",
            "Index: 713 \t Original Predicted: 7 Perturbed predicted: 9 \t Actual:7\n",
            "Index: 714 \t Original Predicted: 7 Perturbed predicted: 9 \t Actual:7\n",
            "Index: 715 \t Original Predicted: 7 Perturbed predicted: 9 \t Actual:7\n",
            "Index: 716 \t Original Predicted: 7 Perturbed predicted: 9 \t Actual:7\n",
            "Index: 717 \t Original Predicted: 7 Perturbed predicted: 3 \t Actual:7\n",
            "Index: 718 \t Original Predicted: 7 Perturbed predicted: 3 \t Actual:7\n",
            "Index: 719 \t Original Predicted: 7 Perturbed predicted: 4 \t Actual:7\n",
            "Index: 720 \t Original Predicted: 7 Perturbed predicted: 3 \t Actual:7\n",
            "Index: 721 \t Original Predicted: 7 Perturbed predicted: 9 \t Actual:7\n",
            "Index: 722 \t Original Predicted: 7 Perturbed predicted: 3 \t Actual:7\n",
            "Index: 723 \t Original Predicted: 7 Perturbed predicted: 3 \t Actual:7\n",
            "Index: 724 \t Original Predicted: 7 Perturbed predicted: 9 \t Actual:7\n",
            "Index: 725 \t Original Predicted: 7 Perturbed predicted: 4 \t Actual:7\n",
            "Index: 726 \t Original Predicted: 7 Perturbed predicted: 9 \t Actual:7\n",
            "Index: 727 \t Original Predicted: 7 Perturbed predicted: 9 \t Actual:7\n",
            "Index: 728 \t Original Predicted: 7 Perturbed predicted: 0 \t Actual:7\n",
            "Index: 729 \t Original Predicted: 7 Perturbed predicted: 3 \t Actual:7\n",
            "Index: 730 \t Original Predicted: 7 Perturbed predicted: 3 \t Actual:7\n",
            "Index: 731 \t Original Predicted: 7 Perturbed predicted: 9 \t Actual:7\n",
            "Index: 732 \t Original Predicted: 7 Perturbed predicted: 9 \t Actual:7\n",
            "Index: 733 \t Original Predicted: 7 Perturbed predicted: 3 \t Actual:7\n",
            "Index: 734 \t Original Predicted: 7 Perturbed predicted: 3 \t Actual:7\n",
            "Index: 735 \t Original Predicted: 7 Perturbed predicted: 9 \t Actual:7\n",
            "Index: 736 \t Original Predicted: 7 Perturbed predicted: 9 \t Actual:7\n",
            "Index: 737 \t Original Predicted: 7 Perturbed predicted: 2 \t Actual:7\n",
            "Index: 738 \t Original Predicted: 7 Perturbed predicted: 6 \t Actual:7\n",
            "Index: 739 \t Original Predicted: 7 Perturbed predicted: 3 \t Actual:7\n",
            "Index: 740 \t Original Predicted: 7 Perturbed predicted: 9 \t Actual:7\n",
            "Index: 741 \t Original Predicted: 7 Perturbed predicted: 9 \t Actual:7\n",
            "Index: 742 \t Original Predicted: 7 Perturbed predicted: 3 \t Actual:7\n",
            "Index: 743 \t Original Predicted: 7 Perturbed predicted: 3 \t Actual:7\n",
            "Index: 744 \t Original Predicted: 7 Perturbed predicted: 3 \t Actual:7\n",
            "Index: 745 \t Original Predicted: 7 Perturbed predicted: 0 \t Actual:7\n",
            "Index: 746 \t Original Predicted: 7 Perturbed predicted: 9 \t Actual:7\n",
            "Index: 747 \t Original Predicted: 7 Perturbed predicted: 9 \t Actual:7\n",
            "Index: 748 \t Original Predicted: 7 Perturbed predicted: 3 \t Actual:7\n",
            "Index: 749 \t Original Predicted: 7 Perturbed predicted: 9 \t Actual:7\n",
            "Index: 750 \t Original Predicted: 7 Perturbed predicted: 6 \t Actual:7\n",
            "Index: 751 \t Original Predicted: 7 Perturbed predicted: 3 \t Actual:7\n",
            "Index: 752 \t Original Predicted: 7 Perturbed predicted: 8 \t Actual:7\n",
            "Index: 753 \t Original Predicted: 7 Perturbed predicted: 5 \t Actual:7\n",
            "Index: 754 \t Original Predicted: 7 Perturbed predicted: 3 \t Actual:7\n",
            "Index: 755 \t Original Predicted: 7 Perturbed predicted: 5 \t Actual:7\n",
            "Index: 756 \t Original Predicted: 7 Perturbed predicted: 9 \t Actual:7\n",
            "Index: 757 \t Original Predicted: 7 Perturbed predicted: 5 \t Actual:7\n",
            "Index: 758 \t Original Predicted: 7 Perturbed predicted: 9 \t Actual:7\n",
            "Index: 759 \t Original Predicted: 7 Perturbed predicted: 3 \t Actual:7\n",
            "Index: 760 \t Original Predicted: 7 Perturbed predicted: 3 \t Actual:7\n",
            "Index: 761 \t Original Predicted: 7 Perturbed predicted: 9 \t Actual:7\n",
            "Index: 762 \t Original Predicted: 7 Perturbed predicted: 3 \t Actual:7\n",
            "Index: 763 \t Original Predicted: 7 Perturbed predicted: 2 \t Actual:7\n",
            "Index: 764 \t Original Predicted: 7 Perturbed predicted: 9 \t Actual:7\n",
            "Index: 765 \t Original Predicted: 7 Perturbed predicted: 9 \t Actual:7\n",
            "Index: 766 \t Original Predicted: 7 Perturbed predicted: 2 \t Actual:7\n",
            "Index: 767 \t Original Predicted: 7 Perturbed predicted: 3 \t Actual:7\n",
            "Index: 768 \t Original Predicted: 7 Perturbed predicted: 2 \t Actual:7\n",
            "Index: 769 \t Original Predicted: 7 Perturbed predicted: 9 \t Actual:7\n",
            "Index: 770 \t Original Predicted: 7 Perturbed predicted: 9 \t Actual:7\n",
            "Index: 771 \t Original Predicted: 7 Perturbed predicted: 2 \t Actual:7\n",
            "Index: 772 \t Original Predicted: 7 Perturbed predicted: 3 \t Actual:7\n",
            "Index: 773 \t Original Predicted: 7 Perturbed predicted: 9 \t Actual:7\n",
            "Index: 774 \t Original Predicted: 7 Perturbed predicted: 3 \t Actual:7\n",
            "Index: 775 \t Original Predicted: 7 Perturbed predicted: 3 \t Actual:7\n",
            "Index: 776 \t Original Predicted: 7 Perturbed predicted: 5 \t Actual:7\n",
            "Index: 777 \t Original Predicted: 7 Perturbed predicted: 9 \t Actual:7\n",
            "Index: 778 \t Original Predicted: 7 Perturbed predicted: 3 \t Actual:7\n",
            "Index: 779 \t Original Predicted: 7 Perturbed predicted: 9 \t Actual:7\n",
            "Index: 780 \t Original Predicted: 7 Perturbed predicted: 9 \t Actual:7\n",
            "Index: 781 \t Original Predicted: 7 Perturbed predicted: 3 \t Actual:7\n",
            "Index: 782 \t Original Predicted: 7 Perturbed predicted: 9 \t Actual:7\n",
            "Index: 783 \t Original Predicted: 7 Perturbed predicted: 3 \t Actual:7\n",
            "Index: 784 \t Original Predicted: 2 Perturbed predicted: 2 \t Actual:7\n",
            "Index: 785 \t Original Predicted: 7 Perturbed predicted: 9 \t Actual:7\n",
            "Index: 786 \t Original Predicted: 7 Perturbed predicted: 2 \t Actual:7\n",
            "Index: 787 \t Original Predicted: 7 Perturbed predicted: 9 \t Actual:7\n",
            "Index: 788 \t Original Predicted: 7 Perturbed predicted: 2 \t Actual:7\n",
            "Index: 789 \t Original Predicted: 7 Perturbed predicted: 9 \t Actual:7\n",
            "Index: 790 \t Original Predicted: 7 Perturbed predicted: 5 \t Actual:7\n",
            "Index: 791 \t Original Predicted: 7 Perturbed predicted: 9 \t Actual:7\n",
            "Index: 792 \t Original Predicted: 7 Perturbed predicted: 2 \t Actual:7\n",
            "Index: 793 \t Original Predicted: 7 Perturbed predicted: 3 \t Actual:7\n",
            "Index: 794 \t Original Predicted: 7 Perturbed predicted: 3 \t Actual:7\n",
            "Index: 795 \t Original Predicted: 7 Perturbed predicted: 9 \t Actual:7\n",
            "Index: 796 \t Original Predicted: 7 Perturbed predicted: 9 \t Actual:7\n",
            "Index: 797 \t Original Predicted: 7 Perturbed predicted: 3 \t Actual:7\n",
            "Index: 798 \t Original Predicted: 2 Perturbed predicted: 2 \t Actual:7\n",
            "Index: 799 \t Original Predicted: 7 Perturbed predicted: 9 \t Actual:7\n",
            "Index: 800 \t Original Predicted: 7 Perturbed predicted: 2 \t Actual:7\n",
            "Index: 801 \t Original Predicted: 7 Perturbed predicted: 9 \t Actual:7\n",
            "Index: 802 \t Original Predicted: 7 Perturbed predicted: 3 \t Actual:7\n",
            "Index: 803 \t Original Predicted: 7 Perturbed predicted: 5 \t Actual:7\n",
            "Index: 804 \t Original Predicted: 9 Perturbed predicted: 9 \t Actual:7\n",
            "Index: 805 \t Original Predicted: 7 Perturbed predicted: 2 \t Actual:7\n",
            "Index: 806 \t Original Predicted: 7 Perturbed predicted: 9 \t Actual:7\n",
            "Index: 807 \t Original Predicted: 7 Perturbed predicted: 2 \t Actual:7\n",
            "Index: 808 \t Original Predicted: 7 Perturbed predicted: 3 \t Actual:7\n",
            "Index: 809 \t Original Predicted: 7 Perturbed predicted: 3 \t Actual:7\n",
            "Index: 810 \t Original Predicted: 7 Perturbed predicted: 9 \t Actual:7\n",
            "Index: 811 \t Original Predicted: 7 Perturbed predicted: 9 \t Actual:7\n",
            "Index: 812 \t Original Predicted: 7 Perturbed predicted: 3 \t Actual:7\n",
            "Index: 813 \t Original Predicted: 7 Perturbed predicted: 3 \t Actual:7\n",
            "Index: 814 \t Original Predicted: 9 Perturbed predicted: 5 \t Actual:7\n",
            "Index: 815 \t Original Predicted: 7 Perturbed predicted: 2 \t Actual:7\n",
            "Index: 816 \t Original Predicted: 7 Perturbed predicted: 9 \t Actual:7\n",
            "Index: 817 \t Original Predicted: 7 Perturbed predicted: 9 \t Actual:7\n",
            "Index: 818 \t Original Predicted: 7 Perturbed predicted: 3 \t Actual:7\n",
            "Index: 819 \t Original Predicted: 7 Perturbed predicted: 9 \t Actual:7\n",
            "Index: 820 \t Original Predicted: 7 Perturbed predicted: 3 \t Actual:7\n",
            "Index: 821 \t Original Predicted: 7 Perturbed predicted: 9 \t Actual:7\n",
            "Index: 822 \t Original Predicted: 7 Perturbed predicted: 5 \t Actual:7\n",
            "Index: 823 \t Original Predicted: 7 Perturbed predicted: 3 \t Actual:7\n",
            "Index: 824 \t Original Predicted: 7 Perturbed predicted: 9 \t Actual:7\n",
            "Index: 825 \t Original Predicted: 7 Perturbed predicted: 2 \t Actual:7\n",
            "Index: 826 \t Original Predicted: 7 Perturbed predicted: 9 \t Actual:7\n",
            "Index: 827 \t Original Predicted: 7 Perturbed predicted: 3 \t Actual:7\n",
            "Index: 828 \t Original Predicted: 7 Perturbed predicted: 9 \t Actual:7\n",
            "Index: 829 \t Original Predicted: 7 Perturbed predicted: 3 \t Actual:7\n",
            "Index: 830 \t Original Predicted: 7 Perturbed predicted: 3 \t Actual:7\n",
            "Index: 831 \t Original Predicted: 7 Perturbed predicted: 3 \t Actual:7\n",
            "Index: 832 \t Original Predicted: 7 Perturbed predicted: 9 \t Actual:7\n",
            "Index: 833 \t Original Predicted: 9 Perturbed predicted: 9 \t Actual:7\n",
            "Index: 834 \t Original Predicted: 7 Perturbed predicted: 2 \t Actual:7\n",
            "Index: 835 \t Original Predicted: 7 Perturbed predicted: 9 \t Actual:7\n",
            "Index: 836 \t Original Predicted: 7 Perturbed predicted: 2 \t Actual:7\n",
            "Index: 837 \t Original Predicted: 7 Perturbed predicted: 9 \t Actual:7\n",
            "Index: 838 \t Original Predicted: 7 Perturbed predicted: 9 \t Actual:7\n",
            "Index: 839 \t Original Predicted: 7 Perturbed predicted: 3 \t Actual:7\n",
            "Index: 840 \t Original Predicted: 7 Perturbed predicted: 2 \t Actual:7\n",
            "Index: 841 \t Original Predicted: 7 Perturbed predicted: 3 \t Actual:7\n",
            "Index: 842 \t Original Predicted: 7 Perturbed predicted: 3 \t Actual:7\n",
            "Index: 843 \t Original Predicted: 7 Perturbed predicted: 9 \t Actual:7\n",
            "Index: 844 \t Original Predicted: 7 Perturbed predicted: 3 \t Actual:7\n",
            "Index: 845 \t Original Predicted: 7 Perturbed predicted: 3 \t Actual:7\n",
            "Index: 846 \t Original Predicted: 7 Perturbed predicted: 3 \t Actual:7\n",
            "Index: 847 \t Original Predicted: 7 Perturbed predicted: 9 \t Actual:7\n",
            "Index: 848 \t Original Predicted: 7 Perturbed predicted: 5 \t Actual:7\n",
            "Index: 849 \t Original Predicted: 7 Perturbed predicted: 3 \t Actual:7\n",
            "Index: 850 \t Original Predicted: 7 Perturbed predicted: 1 \t Actual:7\n",
            "Index: 851 \t Original Predicted: 7 Perturbed predicted: 9 \t Actual:7\n",
            "Index: 852 \t Original Predicted: 7 Perturbed predicted: 3 \t Actual:7\n",
            "Index: 853 \t Original Predicted: 7 Perturbed predicted: 5 \t Actual:7\n",
            "Index: 854 \t Original Predicted: 7 Perturbed predicted: 3 \t Actual:7\n",
            "Index: 855 \t Original Predicted: 7 Perturbed predicted: 9 \t Actual:7\n",
            "Index: 856 \t Original Predicted: 7 Perturbed predicted: 3 \t Actual:7\n",
            "Index: 857 \t Original Predicted: 7 Perturbed predicted: 9 \t Actual:7\n",
            "Index: 858 \t Original Predicted: 7 Perturbed predicted: 9 \t Actual:7\n",
            "Index: 859 \t Original Predicted: 7 Perturbed predicted: 3 \t Actual:7\n",
            "Index: 860 \t Original Predicted: 7 Perturbed predicted: 9 \t Actual:7\n",
            "Index: 861 \t Original Predicted: 7 Perturbed predicted: 3 \t Actual:7\n",
            "Index: 862 \t Original Predicted: 7 Perturbed predicted: 9 \t Actual:7\n",
            "Index: 863 \t Original Predicted: 7 Perturbed predicted: 9 \t Actual:7\n",
            "Index: 864 \t Original Predicted: 7 Perturbed predicted: 3 \t Actual:7\n",
            "Index: 865 \t Original Predicted: 7 Perturbed predicted: 3 \t Actual:7\n",
            "Index: 866 \t Original Predicted: 7 Perturbed predicted: 8 \t Actual:7\n",
            "Index: 867 \t Original Predicted: 7 Perturbed predicted: 9 \t Actual:7\n",
            "Index: 868 \t Original Predicted: 7 Perturbed predicted: 9 \t Actual:7\n",
            "Index: 869 \t Original Predicted: 7 Perturbed predicted: 9 \t Actual:7\n",
            "Index: 870 \t Original Predicted: 7 Perturbed predicted: 3 \t Actual:7\n",
            "Index: 871 \t Original Predicted: 7 Perturbed predicted: 2 \t Actual:7\n",
            "Index: 872 \t Original Predicted: 7 Perturbed predicted: 5 \t Actual:7\n",
            "Index: 873 \t Original Predicted: 7 Perturbed predicted: 1 \t Actual:7\n",
            "Index: 874 \t Original Predicted: 7 Perturbed predicted: 3 \t Actual:7\n",
            "Index: 875 \t Original Predicted: 7 Perturbed predicted: 5 \t Actual:7\n",
            "Index: 876 \t Original Predicted: 7 Perturbed predicted: 3 \t Actual:7\n",
            "Index: 877 \t Original Predicted: 7 Perturbed predicted: 9 \t Actual:7\n",
            "Index: 878 \t Original Predicted: 7 Perturbed predicted: 3 \t Actual:7\n",
            "Index: 879 \t Original Predicted: 7 Perturbed predicted: 2 \t Actual:7\n",
            "Index: 880 \t Original Predicted: 7 Perturbed predicted: 3 \t Actual:7\n",
            "Index: 881 \t Original Predicted: 7 Perturbed predicted: 9 \t Actual:7\n",
            "Index: 882 \t Original Predicted: 7 Perturbed predicted: 9 \t Actual:7\n",
            "Index: 883 \t Original Predicted: 7 Perturbed predicted: 3 \t Actual:7\n",
            "Index: 884 \t Original Predicted: 7 Perturbed predicted: 3 \t Actual:7\n",
            "Index: 885 \t Original Predicted: 7 Perturbed predicted: 3 \t Actual:7\n",
            "Index: 886 \t Original Predicted: 7 Perturbed predicted: 3 \t Actual:7\n",
            "Index: 887 \t Original Predicted: 7 Perturbed predicted: 3 \t Actual:7\n",
            "Index: 888 \t Original Predicted: 7 Perturbed predicted: 9 \t Actual:7\n",
            "Index: 889 \t Original Predicted: 7 Perturbed predicted: 9 \t Actual:7\n",
            "Index: 890 \t Original Predicted: 7 Perturbed predicted: 9 \t Actual:7\n",
            "Index: 891 \t Original Predicted: 7 Perturbed predicted: 3 \t Actual:7\n",
            "Index: 892 \t Original Predicted: 7 Perturbed predicted: 2 \t Actual:7\n",
            "Index: 893 \t Original Predicted: 7 Perturbed predicted: 9 \t Actual:7\n",
            "Index: 894 \t Original Predicted: 7 Perturbed predicted: 3 \t Actual:7\n",
            "Index: 895 \t Original Predicted: 7 Perturbed predicted: 9 \t Actual:7\n",
            "Index: 896 \t Original Predicted: 7 Perturbed predicted: 3 \t Actual:7\n",
            "Index: 897 \t Original Predicted: 7 Perturbed predicted: 2 \t Actual:7\n",
            "Index: 898 \t Original Predicted: 7 Perturbed predicted: 9 \t Actual:7\n",
            "Index: 899 \t Original Predicted: 7 Perturbed predicted: 9 \t Actual:7\n",
            "Index: 900 \t Original Predicted: 7 Perturbed predicted: 5 \t Actual:7\n",
            "Index: 901 \t Original Predicted: 7 Perturbed predicted: 9 \t Actual:7\n",
            "Index: 902 \t Original Predicted: 7 Perturbed predicted: 3 \t Actual:7\n",
            "Index: 903 \t Original Predicted: 7 Perturbed predicted: 3 \t Actual:7\n",
            "Index: 904 \t Original Predicted: 7 Perturbed predicted: 3 \t Actual:7\n",
            "Index: 905 \t Original Predicted: 7 Perturbed predicted: 3 \t Actual:7\n",
            "Index: 906 \t Original Predicted: 7 Perturbed predicted: 9 \t Actual:7\n",
            "Index: 907 \t Original Predicted: 7 Perturbed predicted: 9 \t Actual:7\n",
            "Index: 908 \t Original Predicted: 7 Perturbed predicted: 5 \t Actual:7\n",
            "Index: 909 \t Original Predicted: 7 Perturbed predicted: 3 \t Actual:7\n",
            "Index: 910 \t Original Predicted: 7 Perturbed predicted: 3 \t Actual:7\n",
            "Index: 911 \t Original Predicted: 7 Perturbed predicted: 1 \t Actual:7\n",
            "Index: 912 \t Original Predicted: 7 Perturbed predicted: 9 \t Actual:7\n",
            "Index: 913 \t Original Predicted: 7 Perturbed predicted: 9 \t Actual:7\n",
            "Index: 914 \t Original Predicted: 7 Perturbed predicted: 3 \t Actual:7\n",
            "Index: 915 \t Original Predicted: 7 Perturbed predicted: 9 \t Actual:7\n",
            "Index: 916 \t Original Predicted: 7 Perturbed predicted: 1 \t Actual:7\n",
            "Index: 917 \t Original Predicted: 7 Perturbed predicted: 3 \t Actual:7\n",
            "Index: 918 \t Original Predicted: 1 Perturbed predicted: 1 \t Actual:7\n",
            "Index: 919 \t Original Predicted: 7 Perturbed predicted: 3 \t Actual:7\n",
            "Index: 920 \t Original Predicted: 7 Perturbed predicted: 9 \t Actual:7\n",
            "Index: 921 \t Original Predicted: 7 Perturbed predicted: 3 \t Actual:7\n",
            "Index: 922 \t Original Predicted: 7 Perturbed predicted: 9 \t Actual:7\n",
            "Index: 923 \t Original Predicted: 7 Perturbed predicted: 3 \t Actual:7\n",
            "Index: 924 \t Original Predicted: 7 Perturbed predicted: 9 \t Actual:7\n",
            "Index: 925 \t Original Predicted: 7 Perturbed predicted: 9 \t Actual:7\n",
            "Index: 926 \t Original Predicted: 7 Perturbed predicted: 9 \t Actual:7\n",
            "Index: 927 \t Original Predicted: 7 Perturbed predicted: 5 \t Actual:7\n",
            "Index: 928 \t Original Predicted: 7 Perturbed predicted: 9 \t Actual:7\n",
            "Index: 929 \t Original Predicted: 7 Perturbed predicted: 9 \t Actual:7\n",
            "Index: 930 \t Original Predicted: 7 Perturbed predicted: 2 \t Actual:7\n",
            "Index: 931 \t Original Predicted: 7 Perturbed predicted: 9 \t Actual:7\n",
            "Index: 932 \t Original Predicted: 7 Perturbed predicted: 3 \t Actual:7\n",
            "Index: 933 \t Original Predicted: 7 Perturbed predicted: 9 \t Actual:7\n",
            "Index: 934 \t Original Predicted: 7 Perturbed predicted: 2 \t Actual:7\n",
            "Index: 935 \t Original Predicted: 7 Perturbed predicted: 9 \t Actual:7\n",
            "Index: 936 \t Original Predicted: 7 Perturbed predicted: 3 \t Actual:7\n",
            "Index: 937 \t Original Predicted: 7 Perturbed predicted: 9 \t Actual:7\n",
            "Index: 938 \t Original Predicted: 7 Perturbed predicted: 3 \t Actual:7\n",
            "Index: 939 \t Original Predicted: 7 Perturbed predicted: 8 \t Actual:7\n",
            "Index: 940 \t Original Predicted: 7 Perturbed predicted: 9 \t Actual:7\n",
            "Index: 941 \t Original Predicted: 7 Perturbed predicted: 1 \t Actual:7\n",
            "Index: 942 \t Original Predicted: 7 Perturbed predicted: 3 \t Actual:7\n",
            "Index: 943 \t Original Predicted: 7 Perturbed predicted: 9 \t Actual:7\n",
            "Index: 944 \t Original Predicted: 7 Perturbed predicted: 3 \t Actual:7\n",
            "Index: 945 \t Original Predicted: 7 Perturbed predicted: 9 \t Actual:7\n",
            "Index: 946 \t Original Predicted: 7 Perturbed predicted: 9 \t Actual:7\n",
            "Index: 947 \t Original Predicted: 9 Perturbed predicted: 9 \t Actual:7\n",
            "Index: 948 \t Original Predicted: 7 Perturbed predicted: 9 \t Actual:7\n",
            "Index: 949 \t Original Predicted: 7 Perturbed predicted: 9 \t Actual:7\n",
            "Index: 950 \t Original Predicted: 7 Perturbed predicted: 3 \t Actual:7\n",
            "Index: 951 \t Original Predicted: 7 Perturbed predicted: 2 \t Actual:7\n",
            "Index: 952 \t Original Predicted: 7 Perturbed predicted: 3 \t Actual:7\n",
            "Index: 953 \t Original Predicted: 7 Perturbed predicted: 9 \t Actual:7\n",
            "Index: 954 \t Original Predicted: 7 Perturbed predicted: 9 \t Actual:7\n",
            "Index: 955 \t Original Predicted: 7 Perturbed predicted: 9 \t Actual:7\n",
            "Index: 956 \t Original Predicted: 7 Perturbed predicted: 8 \t Actual:7\n",
            "Index: 957 \t Original Predicted: 7 Perturbed predicted: 3 \t Actual:7\n",
            "Index: 958 \t Original Predicted: 7 Perturbed predicted: 3 \t Actual:7\n",
            "Index: 959 \t Original Predicted: 7 Perturbed predicted: 5 \t Actual:7\n",
            "Index: 960 \t Original Predicted: 7 Perturbed predicted: 3 \t Actual:7\n",
            "Index: 961 \t Original Predicted: 7 Perturbed predicted: 5 \t Actual:7\n",
            "Index: 962 \t Original Predicted: 7 Perturbed predicted: 3 \t Actual:7\n",
            "Index: 963 \t Original Predicted: 7 Perturbed predicted: 5 \t Actual:7\n",
            "Index: 964 \t Original Predicted: 7 Perturbed predicted: 3 \t Actual:7\n",
            "Index: 965 \t Original Predicted: 7 Perturbed predicted: 3 \t Actual:7\n",
            "Index: 966 \t Original Predicted: 7 Perturbed predicted: 2 \t Actual:7\n",
            "Index: 967 \t Original Predicted: 7 Perturbed predicted: 2 \t Actual:7\n",
            "Index: 968 \t Original Predicted: 7 Perturbed predicted: 9 \t Actual:7\n",
            "Index: 969 \t Original Predicted: 7 Perturbed predicted: 2 \t Actual:7\n",
            "Index: 970 \t Original Predicted: 7 Perturbed predicted: 9 \t Actual:7\n",
            "Index: 971 \t Original Predicted: 7 Perturbed predicted: 3 \t Actual:7\n",
            "Index: 972 \t Original Predicted: 7 Perturbed predicted: 9 \t Actual:7\n",
            "Index: 973 \t Original Predicted: 7 Perturbed predicted: 9 \t Actual:7\n",
            "Index: 974 \t Original Predicted: 7 Perturbed predicted: 3 \t Actual:7\n",
            "Index: 975 \t Original Predicted: 7 Perturbed predicted: 9 \t Actual:7\n",
            "Index: 976 \t Original Predicted: 7 Perturbed predicted: 3 \t Actual:7\n",
            "Index: 977 \t Original Predicted: 7 Perturbed predicted: 2 \t Actual:7\n",
            "Index: 978 \t Original Predicted: 7 Perturbed predicted: 9 \t Actual:7\n",
            "Index: 979 \t Original Predicted: 7 Perturbed predicted: 9 \t Actual:7\n",
            "Index: 980 \t Original Predicted: 7 Perturbed predicted: 3 \t Actual:7\n",
            "Index: 981 \t Original Predicted: 7 Perturbed predicted: 3 \t Actual:7\n",
            "Index: 982 \t Original Predicted: 7 Perturbed predicted: 9 \t Actual:7\n",
            "Index: 983 \t Original Predicted: 7 Perturbed predicted: 3 \t Actual:7\n",
            "Index: 984 \t Original Predicted: 7 Perturbed predicted: 3 \t Actual:7\n",
            "Index: 985 \t Original Predicted: 7 Perturbed predicted: 9 \t Actual:7\n",
            "Index: 986 \t Original Predicted: 7 Perturbed predicted: 3 \t Actual:7\n",
            "Index: 987 \t Original Predicted: 7 Perturbed predicted: 8 \t Actual:7\n",
            "Index: 988 \t Original Predicted: 7 Perturbed predicted: 3 \t Actual:7\n",
            "Index: 989 \t Original Predicted: 7 Perturbed predicted: 9 \t Actual:7\n",
            "Index: 990 \t Original Predicted: 7 Perturbed predicted: 3 \t Actual:7\n",
            "Index: 991 \t Original Predicted: 7 Perturbed predicted: 9 \t Actual:7\n",
            "Index: 992 \t Original Predicted: 7 Perturbed predicted: 9 \t Actual:7\n",
            "Index: 993 \t Original Predicted: 7 Perturbed predicted: 2 \t Actual:7\n",
            "Index: 994 \t Original Predicted: 7 Perturbed predicted: 3 \t Actual:7\n",
            "Index: 995 \t Original Predicted: 7 Perturbed predicted: 3 \t Actual:7\n",
            "Index: 996 \t Original Predicted: 7 Perturbed predicted: 1 \t Actual:7\n",
            "Index: 997 \t Original Predicted: 7 Perturbed predicted: 3 \t Actual:7\n",
            "Index: 998 \t Original Predicted: 7 Perturbed predicted: 9 \t Actual:7\n",
            "Index: 999 \t Original Predicted: 7 Perturbed predicted: 8 \t Actual:7\n"
          ],
          "name": "stdout"
        }
      ]
    },
    {
      "cell_type": "code",
      "metadata": {
        "id": "PbMMou-vvGhy",
        "colab_type": "code",
        "colab": {
          "base_uri": "https://localhost:8080/",
          "height": 34
        },
        "outputId": "6ba11ed9-c151-466b-8350-4c09c72f9c66"
      },
      "source": [
        "perturbed_images = np.array(perturbed_images)\n",
        "accuracy(params, shape_as_image(perturbed_images, thousand_testing_sevens_labels))"
      ],
      "execution_count": 170,
      "outputs": [
        {
          "output_type": "execute_result",
          "data": {
            "text/plain": [
              "DeviceArray(0., dtype=float32)"
            ]
          },
          "metadata": {
            "tags": []
          },
          "execution_count": 170
        }
      ]
    },
    {
      "cell_type": "markdown",
      "metadata": {
        "id": "U1kBDAVZx3fj",
        "colab_type": "text"
      },
      "source": [
        "### Generate array of epsilons"
      ]
    },
    {
      "cell_type": "code",
      "metadata": {
        "id": "hIUNGUoayBsI",
        "colab_type": "code",
        "colab": {
          "base_uri": "https://localhost:8080/",
          "height": 346
        },
        "outputId": "d3c8c8b4-e07c-4067-ea7c-b48d368c8e81"
      },
      "source": [
        "epsilons = np.arange(0.01,0.2,0.01)\n",
        "for i in range(0, len(epsilons)):\n",
        "  print(epsilons[i])"
      ],
      "execution_count": 171,
      "outputs": [
        {
          "output_type": "stream",
          "text": [
            "0.01\n",
            "0.02\n",
            "0.03\n",
            "0.04\n",
            "0.05\n",
            "0.06\n",
            "0.07\n",
            "0.08\n",
            "0.09\n",
            "0.1\n",
            "0.11\n",
            "0.12\n",
            "0.13\n",
            "0.14\n",
            "0.15\n",
            "0.16\n",
            "0.17\n",
            "0.18\n",
            "0.19\n"
          ],
          "name": "stdout"
        }
      ]
    },
    {
      "cell_type": "code",
      "metadata": {
        "id": "v0lgTUuAsLhw",
        "colab_type": "code",
        "colab": {}
      },
      "source": [
        "accuracies = []\n",
        "for i in range(0, len(epsilons)):\n",
        "  # print(epsilons[i])  \n",
        "  perturbed_images = []\n",
        "  index = epsilons[i]\n",
        "  for j in thousand_indices:\n",
        "    perturbed_images.append(perturbe_image(index, j))\n",
        "\n",
        "  perturbed_images = np.array(perturbed_images)\n",
        "  accuracies.append(float(accuracy(params, shape_as_image(perturbed_images, thousand_testing_sevens_labels))))"
      ],
      "execution_count": 0,
      "outputs": []
    },
    {
      "cell_type": "code",
      "metadata": {
        "id": "m_gvYUTzyQPy",
        "colab_type": "code",
        "colab": {
          "base_uri": "https://localhost:8080/",
          "height": 312
        },
        "outputId": "c4182b84-e6fa-43b5-87b0-dc1a8c3b6cf7"
      },
      "source": [
        "import matplotlib.pyplot as plt\n",
        "%matplotlib inline\n",
        "\n",
        "plt.plot(epsilons, accuracies)\n",
        "plt.title(\"Accuracy vs epsilon\")\n",
        "plt.xlabel(\"$\\epsilon$\")\n",
        "plt.ylabel(\"$Accuracy$\")\n",
        "\n"
      ],
      "execution_count": 173,
      "outputs": [
        {
          "output_type": "execute_result",
          "data": {
            "text/plain": [
              "Text(0, 0.5, '$Accuracy$')"
            ]
          },
          "metadata": {
            "tags": []
          },
          "execution_count": 173
        },
        {
          "output_type": "display_data",
          "data": {
            "image/png": "[encoded data removed]",
            "text/plain": [
              "<Figure size 432x288 with 1 Axes>"
            ]
          },
          "metadata": {
            "tags": []
          }
        }
      ]
    },
    {
      "cell_type": "code",
      "metadata": {
        "id": "8Wu4BwiYyQLu",
        "colab_type": "code",
        "colab": {
          "base_uri": "https://localhost:8080/",
          "height": 312
        },
        "outputId": "0baea2bf-6e50-46e9-babf-a5900dfacd00"
      },
      "source": [
        "epsilons = np.arange(0.01,0.5,0.03)\n",
        "for i in range(0, len(epsilons)):\n",
        "  print(epsilons[i])"
      ],
      "execution_count": 174,
      "outputs": [
        {
          "output_type": "stream",
          "text": [
            "0.01\n",
            "0.04\n",
            "0.07\n",
            "0.1\n",
            "0.13\n",
            "0.16\n",
            "0.19\n",
            "0.22\n",
            "0.25\n",
            "0.28\n",
            "0.31\n",
            "0.34\n",
            "0.37\n",
            "0.4\n",
            "0.43\n",
            "0.46\n",
            "0.49\n"
          ],
          "name": "stdout"
        }
      ]
    },
    {
      "cell_type": "code",
      "metadata": {
        "id": "Y9a0TbRuyQFj",
        "colab_type": "code",
        "colab": {}
      },
      "source": [
        "accuracies = []\n",
        "for i in range(0, len(epsilons)):\n",
        "  # print(epsilons[i])  \n",
        "  perturbed_images = []\n",
        "  index = epsilons[i]\n",
        "  for j in thousand_indices:\n",
        "    perturbed_images.append(perturbe_image(index, j))\n",
        "\n",
        "  perturbed_images = np.array(perturbed_images)\n",
        "  accuracies.append(float(accuracy(params, shape_as_image(perturbed_images, thousand_testing_sevens_labels))))"
      ],
      "execution_count": 0,
      "outputs": []
    },
    {
      "cell_type": "code",
      "metadata": {
        "id": "GkiC-zX0yQDc",
        "colab_type": "code",
        "colab": {
          "base_uri": "https://localhost:8080/",
          "height": 312
        },
        "outputId": "123dfd51-f463-435e-85bd-d777144ea255"
      },
      "source": [
        "import matplotlib.pyplot as plt\n",
        "%matplotlib inline\n",
        "\n",
        "plt.plot(epsilons, accuracies)\n",
        "plt.title(\"Accuracy vs epsilon\")\n",
        "plt.xlabel(\"$\\epsilon$\")\n",
        "plt.ylabel(\"$Accuracy$\")\n",
        "\n"
      ],
      "execution_count": 176,
      "outputs": [
        {
          "output_type": "execute_result",
          "data": {
            "text/plain": [
              "Text(0, 0.5, '$Accuracy$')"
            ]
          },
          "metadata": {
            "tags": []
          },
          "execution_count": 176
        },
        {
          "output_type": "display_data",
          "data": {
            "image/png": "[encoded data removed]",
            "text/plain": [
              "<Figure size 432x288 with 1 Axes>"
            ]
          },
          "metadata": {
            "tags": []
          }
        }
      ]
    },
    {
      "cell_type": "code",
      "metadata": {
        "id": "iEiH_GUxyQBQ",
        "colab_type": "code",
        "colab": {}
      },
      "source": [
        ""
      ],
      "execution_count": 0,
      "outputs": []
    }
  ]
}