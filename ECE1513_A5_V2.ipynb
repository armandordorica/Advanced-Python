{
  "nbformat": 4,
  "nbformat_minor": 0,
  "metadata": {
    "accelerator": "GPU",
    "colab": {
      "name": "ECE1513_A5_V2.ipynb",
      "provenance": [],
      "collapsed_sections": [],
      "include_colab_link": true
    },
    "kernelspec": {
      "display_name": "Python 3",
      "language": "python",
      "name": "python3"
    },
    "language_info": {
      "codemirror_mode": {
        "name": "ipython",
        "version": 3
      },
      "file_extension": ".py",
      "mimetype": "text/x-python",
      "name": "python",
      "nbconvert_exporter": "python",
      "pygments_lexer": "ipython3",
      "version": "3.7.3"
    }
  },
  "cells": [
    {
      "cell_type": "markdown",
      "metadata": {
        "id": "view-in-github",
        "colab_type": "text"
      },
      "source": [
        "<a href=\"https://colab.research.google.com/github/armandordorica/Advanced-Python/blob/master/ECE1513_A5_V2.ipynb\" target=\"_parent\"><img src=\"https://colab.research.google.com/assets/colab-badge.svg\" alt=\"Open In Colab\"/></a>"
      ]
    },
    {
      "cell_type": "markdown",
      "metadata": {
        "id": "KKdo82c_3WOb",
        "colab_type": "text"
      },
      "source": [
        "## **ECE1513 - Assignment 5 - Training Adversarial Networks**"
      ]
    },
    {
      "cell_type": "markdown",
      "metadata": {
        "colab_type": "text",
        "id": "pxMUmlEENLXc"
      },
      "source": [
        "Let's first get the imports out of the way."
      ]
    },
    {
      "cell_type": "code",
      "metadata": {
        "colab_type": "code",
        "id": "v0yDWKUrCBiX",
        "colab": {}
      },
      "source": [
        "import array\n",
        "import gzip\n",
        "import itertools\n",
        "import numpy\n",
        "import numpy.random as npr\n",
        "import os\n",
        "import struct\n",
        "import time\n",
        "from os import path\n",
        "import urllib.request\n",
        "\n",
        "import jax.numpy as np\n",
        "from jax.api import jit, grad\n",
        "from jax.config import config\n",
        "from jax.scipy.special import logsumexp\n",
        "from jax import random"
      ],
      "execution_count": 0,
      "outputs": []
    },
    {
      "cell_type": "markdown",
      "metadata": {
        "colab_type": "text",
        "id": "nIp--T57NGrU"
      },
      "source": [
        "The following cell contains boilerplate code to download and load MNIST data."
      ]
    },
    {
      "cell_type": "code",
      "metadata": {
        "colab_type": "code",
        "id": "Du24u5vtDEIn",
        "colab": {}
      },
      "source": [
        "_DATA = \"/tmp/\"\n",
        "\n",
        "def _download(url, filename):\n",
        "  \"\"\"Download a url to a file in the JAX data temp directory.\"\"\"\n",
        "  if not path.exists(_DATA):\n",
        "    os.makedirs(_DATA)\n",
        "  out_file = path.join(_DATA, filename)\n",
        "  if not path.isfile(out_file):\n",
        "    urllib.request.urlretrieve(url, out_file)\n",
        "    print(\"downloaded {} to {}\".format(url, _DATA))\n",
        "\n",
        "\n",
        "def _partial_flatten(x):\n",
        "  \"\"\"Flatten all but the first dimension of an ndarray.\"\"\"\n",
        "  return numpy.reshape(x, (x.shape[0], -1))\n",
        "\n",
        "\n",
        "def _one_hot(x, k, dtype=numpy.float32):\n",
        "  \"\"\"Create a one-hot encoding of x of size k.\"\"\"\n",
        "  return numpy.array(x[:, None] == numpy.arange(k), dtype)\n",
        "\n",
        "\n",
        "def mnist_raw():\n",
        "  \"\"\"Download and parse the raw MNIST dataset.\"\"\"\n",
        "  # CVDF mirror of http://yann.lecun.com/exdb/mnist/\n",
        "  base_url = \"https://storage.googleapis.com/cvdf-datasets/mnist/\"\n",
        "\n",
        "  def parse_labels(filename):\n",
        "    with gzip.open(filename, \"rb\") as fh:\n",
        "      _ = struct.unpack(\">II\", fh.read(8))\n",
        "      return numpy.array(array.array(\"B\", fh.read()), dtype=numpy.uint8)\n",
        "\n",
        "  def parse_images(filename):\n",
        "    with gzip.open(filename, \"rb\") as fh:\n",
        "      _, num_data, rows, cols = struct.unpack(\">IIII\", fh.read(16))\n",
        "      return numpy.array(array.array(\"B\", fh.read()),\n",
        "                      dtype=numpy.uint8).reshape(num_data, rows, cols)\n",
        "\n",
        "  for filename in [\"train-images-idx3-ubyte.gz\", \"train-labels-idx1-ubyte.gz\",\n",
        "                   \"t10k-images-idx3-ubyte.gz\", \"t10k-labels-idx1-ubyte.gz\"]:\n",
        "    _download(base_url + filename, filename)\n",
        "\n",
        "  train_images = parse_images(path.join(_DATA, \"train-images-idx3-ubyte.gz\"))\n",
        "  train_labels = parse_labels(path.join(_DATA, \"train-labels-idx1-ubyte.gz\"))\n",
        "  test_images = parse_images(path.join(_DATA, \"t10k-images-idx3-ubyte.gz\"))\n",
        "  test_labels = parse_labels(path.join(_DATA, \"t10k-labels-idx1-ubyte.gz\"))\n",
        "\n",
        "  return train_images, train_labels, test_images, test_labels\n",
        "\n",
        "\n",
        "def mnist(create_outliers=False):\n",
        "  \"\"\"Download, parse and process MNIST data to unit scale and one-hot labels.\"\"\"\n",
        "  train_images, train_labels, test_images, test_labels = mnist_raw()\n",
        "\n",
        "  train_images = _partial_flatten(train_images) / numpy.float32(255.)\n",
        "  test_images = _partial_flatten(test_images) / numpy.float32(255.)\n",
        "  train_labels = _one_hot(train_labels, 10)\n",
        "  test_labels = _one_hot(test_labels, 10)\n",
        "\n",
        "  if create_outliers:\n",
        "    mum_outliers = 30000\n",
        "    perm = numpy.random.RandomState(0).permutation(mum_outliers)\n",
        "    train_images[:mum_outliers] = train_images[:mum_outliers][perm]\n",
        "\n",
        "  return train_images, train_labels, test_images, test_labels\n",
        "\n",
        "def shape_as_image(images, labels, dummy_dim=False):\n",
        "  target_shape = (-1, 1, 28, 28, 1) if dummy_dim else (-1, 28, 28, 1)\n",
        "  return np.reshape(images, target_shape), labels\n",
        "\n",
        "train_images, train_labels, test_images, test_labels = mnist(create_outliers=False)\n",
        "num_train = train_images.shape[0]"
      ],
      "execution_count": 0,
      "outputs": []
    },
    {
      "cell_type": "markdown",
      "metadata": {
        "colab_type": "text",
        "id": "LdTKppnqIHeV"
      },
      "source": [
        "# **Problem 1**\n",
        "\n",
        "This function computes the output of a fully-connected neural network (i.e., multilayer perceptron) by iterating over all of its layers and:\n",
        "\n",
        "1. taking the `activations` of the previous layer (or the input itself for the first hidden layer) to compute the `outputs` of a linear classifier. Recall the lectures: `outputs` is what we wrote $z=w\\cdot x + b$ where $x$ is the input to the linear classifier. \n",
        "2. applying a non-linear activation. Here we will use $tanh$.\n",
        "\n",
        "Complete the following cell to compute `outputs` and `activations`. "
      ]
    },
    {
      "cell_type": "code",
      "metadata": {
        "id": "rUv8dmqtY_pe",
        "colab_type": "code",
        "outputId": "8b166cfc-1388-43a8-f580-45ee16fd766d",
        "colab": {
          "base_uri": "https://localhost:8080/",
          "height": 34
        }
      },
      "source": [
        "train_images[0].shape"
      ],
      "execution_count": 3,
      "outputs": [
        {
          "output_type": "execute_result",
          "data": {
            "text/plain": [
              "(784,)"
            ]
          },
          "metadata": {
            "tags": []
          },
          "execution_count": 3
        }
      ]
    },
    {
      "cell_type": "code",
      "metadata": {
        "id": "qoSCFntkWhyB",
        "colab_type": "code",
        "colab": {}
      },
      "source": [
        "import matplotlib.pyplot as plt\n",
        "a = np.reshape(train_images[15], [28,28])\n"
      ],
      "execution_count": 0,
      "outputs": []
    },
    {
      "cell_type": "code",
      "metadata": {
        "id": "XMSiZhu5ZJmP",
        "colab_type": "code",
        "outputId": "8e66e8bf-c83c-499a-efee-66bdd24a946c",
        "colab": {
          "base_uri": "https://localhost:8080/",
          "height": 282
        }
      },
      "source": [
        "plt.imshow(a, cmap='Greys_r')"
      ],
      "execution_count": 5,
      "outputs": [
        {
          "output_type": "execute_result",
          "data": {
            "text/plain": [
              "<matplotlib.image.AxesImage at 0x7f76a5c087f0>"
            ]
          },
          "metadata": {
            "tags": []
          },
          "execution_count": 5
        },
        {
          "output_type": "display_data",
          "data": {
            "image/png": "[encoded data removed]",
            "text/plain": [
              "<Figure size 432x288 with 1 Axes>"
            ]
          },
          "metadata": {
            "tags": []
          }
        }
      ]
    },
    {
      "cell_type": "code",
      "metadata": {
        "id": "7uX-juqIbdH1",
        "colab_type": "code",
        "outputId": "2db7152d-9283-4607-ac40-98cbf0fbf72e",
        "colab": {
          "base_uri": "https://localhost:8080/",
          "height": 34
        }
      },
      "source": [
        "int_train_labels = np.argmax(train_labels, axis=1)\n",
        "int_train_labels.shape"
      ],
      "execution_count": 6,
      "outputs": [
        {
          "output_type": "execute_result",
          "data": {
            "text/plain": [
              "(60000,)"
            ]
          },
          "metadata": {
            "tags": []
          },
          "execution_count": 6
        }
      ]
    },
    {
      "cell_type": "markdown",
      "metadata": {
        "id": "ns0vCDwydOb-",
        "colab_type": "text"
      },
      "source": [
        "**Get all the indexes of the training data that were classified as 7**"
      ]
    },
    {
      "cell_type": "code",
      "metadata": {
        "id": "7L3WkmLscvzL",
        "colab_type": "code",
        "colab": {}
      },
      "source": [
        "int_train_labels_list = list(int_train_labels)\n",
        "indexes_7 = [index for index in range(len(int_train_labels_list)) if int_train_labels_list[index] == 7]"
      ],
      "execution_count": 0,
      "outputs": []
    },
    {
      "cell_type": "markdown",
      "metadata": {
        "id": "_9SnFBzsf3vL",
        "colab_type": "text"
      },
      "source": [
        "**Sample 5 examples from the train data where it is labeled as a 7**"
      ]
    },
    {
      "cell_type": "code",
      "metadata": {
        "id": "MnH5R3U_dnZ4",
        "colab_type": "code",
        "colab": {}
      },
      "source": [
        "from random import sample\n",
        "sample_indexes= sample(indexes_7,5)"
      ],
      "execution_count": 0,
      "outputs": []
    },
    {
      "cell_type": "code",
      "metadata": {
        "id": "RpKHA5QaeMtT",
        "colab_type": "code",
        "outputId": "c7e602ca-2173-4f19-8ea3-cee9643e26a0",
        "colab": {
          "base_uri": "https://localhost:8080/",
          "height": 34
        }
      },
      "source": [
        "sample_indexes"
      ],
      "execution_count": 9,
      "outputs": [
        {
          "output_type": "execute_result",
          "data": {
            "text/plain": [
              "[6871, 47221, 819, 9077, 36767]"
            ]
          },
          "metadata": {
            "tags": []
          },
          "execution_count": 9
        }
      ]
    },
    {
      "cell_type": "code",
      "metadata": {
        "id": "hvPErN4zdatg",
        "colab_type": "code",
        "outputId": "bc543925-f3e0-4a74-9315-90cf64553484",
        "colab": {
          "base_uri": "https://localhost:8080/",
          "height": 262
        }
      },
      "source": [
        "plt.figure(figsize=(50, 50))\n",
        "for i in range(0,len(sample_indexes)):\n",
        "  print(sample_indexes[i])\n",
        "  index = sample_indexes[i]\n",
        "  a = np.reshape(train_images[index], [28,28])\n",
        "  plt.subplot(int(len(sample_indexes)/6)+1, 6, i+1)\n",
        "  plt.imshow(a, cmap='Greys_r')"
      ],
      "execution_count": 10,
      "outputs": [
        {
          "output_type": "stream",
          "text": [
            "6871\n",
            "47221\n",
            "819\n",
            "9077\n",
            "36767\n"
          ],
          "name": "stdout"
        },
        {
          "output_type": "display_data",
          "data": {
            "image/png": "[encoded data removed]",
            "text/plain": [
              "<Figure size 3600x3600 with 5 Axes>"
            ]
          },
          "metadata": {
            "tags": []
          }
        }
      ]
    },
    {
      "cell_type": "code",
      "metadata": {
        "id": "qQIeKINFdarn",
        "colab_type": "code",
        "colab": {}
      },
      "source": [
        "def train_sample_sevens(num_of_samples):\n",
        "  int_train_labels = np.argmax(train_labels, axis=1)\n",
        "  int_train_labels_list = list(int_train_labels)\n",
        "  indexes_7 = [index for index in range(len(int_train_labels_list)) if int_train_labels_list[index] == 7]\n",
        "  sample_indexes= sample(indexes_7,num_of_samples)\n",
        "\n",
        "  plt.figure(figsize=(30, 30))\n",
        "  for i in range(0,len(sample_indexes)):\n",
        "    # print(sample_indexes[i])\n",
        "    index = sample_indexes[i]\n",
        "    a = np.reshape(train_images[index], [28,28])\n",
        "    plt.subplot(int(len(sample_indexes)/10)+1, 10, i+1)\n",
        "    plt.imshow(a, cmap='Greys_r')"
      ],
      "execution_count": 0,
      "outputs": []
    },
    {
      "cell_type": "code",
      "metadata": {
        "id": "aUXGMmDqdapT",
        "colab_type": "code",
        "outputId": "279347ca-6635-4005-c5c2-43b7b4244b89",
        "colab": {
          "base_uri": "https://localhost:8080/",
          "height": 144
        }
      },
      "source": [
        "train_sample_sevens(7)"
      ],
      "execution_count": 12,
      "outputs": [
        {
          "output_type": "display_data",
          "data": {
            "image/png": "[encoded data removed]",
            "text/plain": [
              "<Figure size 2160x2160 with 7 Axes>"
            ]
          },
          "metadata": {
            "tags": []
          }
        }
      ]
    },
    {
      "cell_type": "markdown",
      "metadata": {
        "id": "rVvqEWnGiSzi",
        "colab_type": "text"
      },
      "source": [
        "### **Visualizing Test Data Images**"
      ]
    },
    {
      "cell_type": "code",
      "metadata": {
        "id": "fMfF-Dh_h0y9",
        "colab_type": "code",
        "outputId": "48f40b30-bbb8-4c42-e3ff-e6b30d4affa4",
        "colab": {
          "base_uri": "https://localhost:8080/",
          "height": 34
        }
      },
      "source": [
        "test_images.shape"
      ],
      "execution_count": 13,
      "outputs": [
        {
          "output_type": "execute_result",
          "data": {
            "text/plain": [
              "(10000, 784)"
            ]
          },
          "metadata": {
            "tags": []
          },
          "execution_count": 13
        }
      ]
    },
    {
      "cell_type": "code",
      "metadata": {
        "id": "pxqxQhjvh0xJ",
        "colab_type": "code",
        "outputId": "6b2b9f81-a7e4-420e-dc46-6e5d401a9736",
        "colab": {
          "base_uri": "https://localhost:8080/",
          "height": 34
        }
      },
      "source": [
        "test_images[0].shape\n"
      ],
      "execution_count": 14,
      "outputs": [
        {
          "output_type": "execute_result",
          "data": {
            "text/plain": [
              "(784,)"
            ]
          },
          "metadata": {
            "tags": []
          },
          "execution_count": 14
        }
      ]
    },
    {
      "cell_type": "code",
      "metadata": {
        "id": "Mi5jXguYh0vG",
        "colab_type": "code",
        "outputId": "2205efae-4ef4-49e7-f21c-48b990b495a9",
        "colab": {
          "base_uri": "https://localhost:8080/",
          "height": 282
        }
      },
      "source": [
        "import matplotlib.pyplot as plt\n",
        "a = np.reshape(test_images[15], [28,28])\n",
        "plt.imshow(a, cmap='Greys_r')\n"
      ],
      "execution_count": 15,
      "outputs": [
        {
          "output_type": "execute_result",
          "data": {
            "text/plain": [
              "<matplotlib.image.AxesImage at 0x7f7691516780>"
            ]
          },
          "metadata": {
            "tags": []
          },
          "execution_count": 15
        },
        {
          "output_type": "display_data",
          "data": {
            "image/png": "[encoded data removed]",
            "text/plain": [
              "<Figure size 432x288 with 1 Axes>"
            ]
          },
          "metadata": {
            "tags": []
          }
        }
      ]
    },
    {
      "cell_type": "code",
      "metadata": {
        "id": "uknWYeVgh0s4",
        "colab_type": "code",
        "outputId": "2b46ecef-c3af-46af-d785-2da27b5f50f6",
        "colab": {
          "base_uri": "https://localhost:8080/",
          "height": 34
        }
      },
      "source": [
        "int_test_labels = np.argmax(test_labels, axis=1)\n",
        "int_test_labels.shape"
      ],
      "execution_count": 16,
      "outputs": [
        {
          "output_type": "execute_result",
          "data": {
            "text/plain": [
              "(10000,)"
            ]
          },
          "metadata": {
            "tags": []
          },
          "execution_count": 16
        }
      ]
    },
    {
      "cell_type": "code",
      "metadata": {
        "id": "X22FhuIwh0qd",
        "colab_type": "code",
        "colab": {}
      },
      "source": [
        "def test_sample_sevens(num_of_samples):\n",
        "  int_test_labels = np.argmax(test_labels, axis=1)\n",
        "  int_test_labels_list = list(int_test_labels)\n",
        "  indexes_7 = [index for index in range(len(int_test_labels_list)) if int_test_labels_list[index] == 7]\n",
        "  sample_indexes= sample(indexes_7,num_of_samples)\n",
        "\n",
        "  plt.figure(figsize=(30, 30))\n",
        "  for i in range(0,len(sample_indexes)):\n",
        "    # print(sample_indexes[i])\n",
        "    index = sample_indexes[i]\n",
        "    a = np.reshape(test_images[index], [28,28])\n",
        "    plt.subplot(int(len(sample_indexes)/10)+1, 10, i+1)\n",
        "    plt.imshow(a, cmap='Greys_r')"
      ],
      "execution_count": 0,
      "outputs": []
    },
    {
      "cell_type": "code",
      "metadata": {
        "id": "Sq5sJjRvh0n4",
        "colab_type": "code",
        "outputId": "49f71298-e518-4822-a62a-728cbd12d723",
        "colab": {
          "base_uri": "https://localhost:8080/",
          "height": 190
        }
      },
      "source": [
        "test_sample_sevens(5)"
      ],
      "execution_count": 18,
      "outputs": [
        {
          "output_type": "display_data",
          "data": {
            "image/png": "[encoded data removed]",
            "text/plain": [
              "<Figure size 2160x2160 with 5 Axes>"
            ]
          },
          "metadata": {
            "tags": []
          }
        }
      ]
    },
    {
      "cell_type": "code",
      "metadata": {
        "colab_type": "code",
        "id": "PGU4xK-iHjhx",
        "colab": {}
      },
      "source": [
        "def predict(params, inputs):\n",
        "  activations = inputs\n",
        "  for w, b in params[:-1]:\n",
        "    outputs = np.dot(activations, w) + b\n",
        "    activations = np.tanh(outputs)\n",
        "  final_w, final_b = params[-1]\n",
        "  logits = np.dot(activations, final_w) + final_b\n",
        "  return logits - logsumexp(logits, axis=1, keepdims=True)"
      ],
      "execution_count": 0,
      "outputs": []
    },
    {
      "cell_type": "markdown",
      "metadata": {
        "colab_type": "text",
        "id": "UgE_NBb9JNDI"
      },
      "source": [
        "The following cell computes the loss of our model. Here we are using cross-entropy combined with a softmax but the implementation uses the `LogSumExp` trick for numerical stability. This is why our previous function `predict` returns the logits to which we substract the `logsumexp` of logits. We discussed this in class but you can read more about it [here](https://blog.feedly.com/tricks-of-the-trade-logsumexp/).\n",
        "\n",
        "Complete the return line. Recall that the loss is defined as :\n",
        "$$ l(X, Y) = -\\frac{1}{n} \\sum_{i\\in 1..n}  \\sum_{j\\in 1.. K}y_j^{(i)} \\log(f_j(x^{(i)})) = -\\frac{1}{n} \\sum_{i\\in 1..n}  \\sum_{j\\in 1.. K}y_j^{(i)} \\log\\left(\\frac{z_j^{(i)}}{\\sum_{k\\in 1..K}z_k^{(i)}}\\right) $$\n",
        "where $X$ is a matrix containing a batch of $n$ training inputs, and $Y$ a matrix containing a batch of one-hot encoded labels defined over $K$ labels. Here $z_j^{(i)}$ is the logits (i.e., input to the softmax) of the model on the example $i$ of our batch of training examples $X$."
      ]
    },
    {
      "cell_type": "code",
      "metadata": {
        "colab_type": "code",
        "id": "JlgdP72hH9ly",
        "colab": {}
      },
      "source": [
        "def loss(params, batch):\n",
        "  inputs, targets = batch\n",
        "  preds = predict(params, inputs)\n",
        "  return -np.mean((np.sum(targets*preds,axis=1)))"
      ],
      "execution_count": 0,
      "outputs": []
    },
    {
      "cell_type": "markdown",
      "metadata": {
        "colab_type": "text",
        "id": "ILZ-q5PTMohU"
      },
      "source": [
        "The following cell defines the accuracy of our model and how to initialize its parameters. "
      ]
    },
    {
      "cell_type": "code",
      "metadata": {
        "colab_type": "code",
        "id": "UDjCuIGzIAjf",
        "colab": {}
      },
      "source": [
        "def accuracy(params, batch):\n",
        "  inputs, targets = batch\n",
        "  target_class = np.argmax(targets, axis=1)\n",
        "  predicted_class = np.argmax(predict(params, inputs), axis=1)\n",
        "  return np.mean(predicted_class == target_class)\n",
        "\n",
        "def init_random_params(layer_sizes, rng=npr.RandomState(0)):\n",
        "  scale = 0.1\n",
        "  return [(scale * rng.randn(m, n), scale * rng.randn(n))\n",
        "          for m, n, in zip(layer_sizes[:-1], layer_sizes[1:])]"
      ],
      "execution_count": 0,
      "outputs": []
    },
    {
      "cell_type": "markdown",
      "metadata": {
        "colab_type": "text",
        "id": "as46_qd5NWMA"
      },
      "source": [
        "The following line defines our architecture with the number of neurons contained in each fully-connected layer (the first layer has 784 neurons because MNIST images are 28*28=784 pixels and the last layer has 10 neurons because MNIST has 10 classes)"
      ]
    },
    {
      "cell_type": "code",
      "metadata": {
        "colab_type": "code",
        "id": "MZzv-4dHNV4D",
        "colab": {}
      },
      "source": [
        "#Good fit\n",
        "layer_sizes = [784, 1024, 128, 10]\n",
        "\n",
        "# underfits \n",
        "#layer_sizes = [784, 4, 2, 10]\n",
        "\n",
        "# overfits\n",
        "#layer_sizes = [784, 1024, 1024, 1024, 1024, 128, 10]\n"
      ],
      "execution_count": 0,
      "outputs": []
    },
    {
      "cell_type": "markdown",
      "metadata": {
        "colab_type": "text",
        "id": "PKroKJ6TOETY"
      },
      "source": [
        "The following cell creates a Python generator for our dataset. It outputs one batch of $n$ training examples at a time. "
      ]
    },
    {
      "cell_type": "code",
      "metadata": {
        "colab_type": "code",
        "id": "_6lLT1klOMIn",
        "colab": {}
      },
      "source": [
        "batch_size = 128\n",
        "num_complete_batches, leftover = divmod(num_train, batch_size)\n",
        "num_batches = num_complete_batches + bool(leftover)\n",
        "\n",
        "def data_stream():\n",
        "  rng = npr.RandomState(0)\n",
        "  while True:\n",
        "    perm = rng.permutation(num_train)\n",
        "    for i in range(num_batches):\n",
        "      batch_idx = perm[i * batch_size:(i + 1) * batch_size]\n",
        "      yield train_images[batch_idx], train_labels[batch_idx]\n",
        "batches = data_stream()"
      ],
      "execution_count": 0,
      "outputs": []
    },
    {
      "cell_type": "markdown",
      "metadata": {
        "colab_type": "text",
        "id": "Lm-UbcYZOOci"
      },
      "source": [
        "We are now ready to define our optimizer. Here we use mini-batch stochastic gradient descent. Complete `<w UPDATE RULE>` and `<b UPDATE RULE>` using the update rule we saw in class. Recall that `dw` is the partial derivative of the `loss` with respect to `w` and `learning_rate` is the learning rate of gradient descent. "
      ]
    },
    {
      "cell_type": "code",
      "metadata": {
        "colab_type": "code",
        "id": "Z8EktCm-OvFh",
        "colab": {}
      },
      "source": [
        "learning_rate = 0.1\n",
        "# oscillates but converges for e.g. 0.5 and doesn't converge for 1.5\n",
        "\n",
        "@jit\n",
        "def update(params, batch):\n",
        "  grads = grad(loss)(params, batch)\n",
        "  return [(w - learning_rate * dw, b - learning_rate* db)\n",
        "          for (w, b), (dw, db) in zip(params, grads)]"
      ],
      "execution_count": 0,
      "outputs": []
    },
    {
      "cell_type": "markdown",
      "metadata": {
        "colab_type": "text",
        "id": "Tqo4M7uNOvzo"
      },
      "source": [
        "This is now the proper training loop for our fully-connected neural network. "
      ]
    },
    {
      "cell_type": "code",
      "metadata": {
        "colab_type": "code",
        "id": "fgrHTrafDHAE",
        "outputId": "0dc42aab-8112-4c17-939a-3064149e311a",
        "colab": {
          "base_uri": "https://localhost:8080/",
          "height": 537
        }
      },
      "source": [
        "num_epochs = 10\n",
        "params = init_random_params(layer_sizes)\n",
        "for epoch in range(num_epochs):\n",
        "  start_time = time.time()\n",
        "  for _ in range(num_batches):\n",
        "    params = update(params, next(batches))\n",
        "  epoch_time = time.time() - start_time\n",
        "\n",
        "  train_acc = accuracy(params, (train_images, train_labels))\n",
        "  test_acc = accuracy(params, (test_images, test_labels))\n",
        "  print(\"Epoch {} in {:0.2f} sec\".format(epoch, epoch_time))\n",
        "  print(\"Training set accuracy {}\".format(train_acc))\n",
        "  print(\"Test set accuracy {}\".format(test_acc))"
      ],
      "execution_count": 25,
      "outputs": [
        {
          "output_type": "stream",
          "text": [
            "Epoch 0 in 1.93 sec\n",
            "Training set accuracy 0.9401500225067139\n",
            "Test set accuracy 0.9377000331878662\n",
            "Epoch 1 in 0.49 sec\n",
            "Training set accuracy 0.9592833518981934\n",
            "Test set accuracy 0.95250004529953\n",
            "Epoch 2 in 0.47 sec\n",
            "Training set accuracy 0.9681666493415833\n",
            "Test set accuracy 0.9607000350952148\n",
            "Epoch 3 in 0.47 sec\n",
            "Training set accuracy 0.9759166836738586\n",
            "Test set accuracy 0.9663000702857971\n",
            "Epoch 4 in 0.49 sec\n",
            "Training set accuracy 0.9795500040054321\n",
            "Test set accuracy 0.9676000475883484\n",
            "Epoch 5 in 0.47 sec\n",
            "Training set accuracy 0.982616662979126\n",
            "Test set accuracy 0.970300018787384\n",
            "Epoch 6 in 0.51 sec\n",
            "Training set accuracy 0.9865833520889282\n",
            "Test set accuracy 0.9716000556945801\n",
            "Epoch 7 in 0.49 sec\n",
            "Training set accuracy 0.9892333149909973\n",
            "Test set accuracy 0.9736000299453735\n",
            "Epoch 8 in 0.51 sec\n",
            "Training set accuracy 0.9911666512489319\n",
            "Test set accuracy 0.9741000533103943\n",
            "Epoch 9 in 0.50 sec\n",
            "Training set accuracy 0.992983341217041\n",
            "Test set accuracy 0.9746000170707703\n"
          ],
          "name": "stdout"
        }
      ]
    },
    {
      "cell_type": "markdown",
      "metadata": {
        "colab_type": "text",
        "id": "s9yFvjncWk8G"
      },
      "source": [
        "# **Problem 2**\n",
        "\n",
        "Before we get started, we need to import two small libraries that contain boilerplate code for common neural network layer types and for optimizers like mini-batch SGD."
      ]
    },
    {
      "cell_type": "code",
      "metadata": {
        "colab_type": "code",
        "id": "tvLxNfXtXCRb",
        "colab": {}
      },
      "source": [
        "from jax.experimental import optimizers\n",
        "from jax.experimental import stax"
      ],
      "execution_count": 0,
      "outputs": []
    },
    {
      "cell_type": "markdown",
      "metadata": {
        "colab_type": "text",
        "id": "nNwMlXqfXI8G"
      },
      "source": [
        "Here is a fully-connected neural network architecture, like the one of Problem 1, but this time defined with `stax`"
      ]
    },
    {
      "cell_type": "code",
      "metadata": {
        "colab_type": "code",
        "id": "Y4wu1XqFds4X",
        "colab": {}
      },
      "source": [
        "init_random_params, predict = stax.serial(\n",
        "    stax.Conv(128, (8,8), padding='valid', strides=(2,2)),\n",
        "    stax.MaxPool((2,2),(1,1)),\n",
        "    stax.Conv(128, (4,4), padding='valid', strides=(2,2)),\n",
        "    stax.Relu,\n",
        "    stax.MaxPool((2,2),(1,1)),\n",
        "    stax.Flatten,\n",
        "    stax.Dense(32),\n",
        "    stax.Relu,\n",
        "    stax.Dense(10)\n",
        ")"
      ],
      "execution_count": 0,
      "outputs": []
    },
    {
      "cell_type": "markdown",
      "metadata": {
        "colab_type": "text",
        "id": "nEW_OcOCdwFX"
      },
      "source": [
        "We redefine the cross-entropy loss for this model. As done in Problem 1, complete the return line below (it's identical). "
      ]
    },
    {
      "cell_type": "code",
      "metadata": {
        "colab_type": "code",
        "id": "zQEeOtAEdvYn",
        "colab": {}
      },
      "source": [
        "def loss(params, batch):\n",
        "  inputs, targets = batch\n",
        "  logits = predict(params, inputs)\n",
        "  preds  = stax.logsoftmax(logits)\n",
        "  return -(1/preds.shape[0])*np.sum(targets * preds)"
      ],
      "execution_count": 0,
      "outputs": []
    },
    {
      "cell_type": "markdown",
      "metadata": {
        "colab_type": "text",
        "id": "8ZBxTvCweJbN"
      },
      "source": [
        "Next, we define the mini-batch SGD optimizer, this time with the optimizers library in JAX. "
      ]
    },
    {
      "cell_type": "code",
      "metadata": {
        "colab_type": "code",
        "id": "peG-cAZ0eGTG",
        "colab": {}
      },
      "source": [
        "learning_rate = 0.15\n",
        "opt_init, opt_update, get_params = optimizers.sgd(learning_rate)\n",
        "\n",
        "@jit\n",
        "def update(_, i, opt_state, batch):\n",
        "  params = get_params(opt_state)\n",
        "  return opt_update(i, grad(loss)(params, batch), opt_state)"
      ],
      "execution_count": 0,
      "outputs": []
    },
    {
      "cell_type": "markdown",
      "metadata": {
        "colab_type": "text",
        "id": "gVx2h8lqeoTD"
      },
      "source": [
        "The next cell contains our training loop, very similar to Problem 1. "
      ]
    },
    {
      "cell_type": "code",
      "metadata": {
        "colab_type": "code",
        "id": "41Y6wwFzb-mk",
        "outputId": "5cd47be6-41b9-4cc8-d4f9-8a4942425e47",
        "colab": {
          "base_uri": "https://localhost:8080/",
          "height": 225
        }
      },
      "source": [
        "num_epochs = 12\n",
        "\n",
        "key = random.PRNGKey(123)\n",
        "_, init_params = init_random_params(key, (-1, 28, 28, 1))\n",
        "opt_state = opt_init(init_params)\n",
        "itercount = itertools.count()\n",
        "for epoch in range(1, num_epochs + 1):\n",
        "  for _ in range(num_batches):\n",
        "    opt_state = update(key, next(itercount), opt_state, shape_as_image(*next(batches)))\n",
        "\n",
        "  params = get_params(opt_state)\n",
        "  test_acc = accuracy(params, shape_as_image(test_images, test_labels))\n",
        "  test_loss = loss(params, shape_as_image(test_images, test_labels))\n",
        "  print('Test set loss, accuracy (%): ({:.2f}, {:.2f})'.format(test_loss, 100 * test_acc))\n",
        "\n",
        "  "
      ],
      "execution_count": 30,
      "outputs": [
        {
          "output_type": "stream",
          "text": [
            "Test set loss, accuracy (%): (0.08, 97.47)\n",
            "Test set loss, accuracy (%): (0.05, 98.16)\n",
            "Test set loss, accuracy (%): (0.04, 98.60)\n",
            "Test set loss, accuracy (%): (0.03, 99.03)\n",
            "Test set loss, accuracy (%): (0.04, 98.78)\n",
            "Test set loss, accuracy (%): (0.03, 99.19)\n",
            "Test set loss, accuracy (%): (0.03, 99.12)\n",
            "Test set loss, accuracy (%): (0.03, 99.19)\n",
            "Test set loss, accuracy (%): (0.02, 99.24)\n",
            "Test set loss, accuracy (%): (0.02, 99.22)\n",
            "Test set loss, accuracy (%): (0.02, 99.26)\n",
            "Test set loss, accuracy (%): (0.02, 99.27)\n"
          ],
          "name": "stdout"
        }
      ]
    },
    {
      "cell_type": "markdown",
      "metadata": {
        "id": "T05oMekesdMX",
        "colab_type": "text"
      },
      "source": [
        "### **`x` is an image from the test set that was originally correctly classified**"
      ]
    },
    {
      "cell_type": "code",
      "metadata": {
        "id": "M4Tc-nAvxSWD",
        "colab_type": "code",
        "colab": {}
      },
      "source": [
        "x = test_images[917]\n",
        "x_reshaped = np.reshape(x, [1,28,28,1])"
      ],
      "execution_count": 0,
      "outputs": []
    },
    {
      "cell_type": "code",
      "metadata": {
        "id": "XYRM0T34xSTD",
        "colab_type": "code",
        "colab": {}
      },
      "source": [
        "def model_prediction(index):\n",
        "  predicted_class = np.argmax(predict(params, np.reshape(test_images[index], [1,28,28,1])))\n",
        "  predicted = int(predicted_class)\n",
        "  print(\"Predicted: {}\".format(predicted))\n",
        "  plt.imshow(a, cmap='Greys_r')"
      ],
      "execution_count": 0,
      "outputs": []
    },
    {
      "cell_type": "markdown",
      "metadata": {
        "id": "-kfEUbG01qea",
        "colab_type": "text"
      },
      "source": [
        "### **Predict image method**"
      ]
    },
    {
      "cell_type": "code",
      "metadata": {
        "id": "eMuFAsIZyn1O",
        "colab_type": "code",
        "colab": {}
      },
      "source": [
        "def predict_image(input_image):\n",
        "  \"\"\"\n",
        "  input_image: np array with shape (1, 28, 28, 1)\n",
        "  \"\"\"\n",
        "  input_image = np.array(input_image)\n",
        "  predicted_class = np.argmax(predict(params, input_image))\n",
        "  predicted = int(predicted_class) \n",
        "  img = np.reshape(input_image, [28,28])\n",
        "  plt.imshow(img, cmap='gist_gray') \n",
        "  print(\"Predicted class: {}\".format(predicted))\n",
        "  return predicted "
      ],
      "execution_count": 0,
      "outputs": []
    },
    {
      "cell_type": "markdown",
      "metadata": {
        "id": "C2Ede5aU2oIU",
        "colab_type": "text"
      },
      "source": [
        "### **Predict vector output method**"
      ]
    },
    {
      "cell_type": "code",
      "metadata": {
        "id": "VnZz3deS2u-G",
        "colab_type": "code",
        "colab": {}
      },
      "source": [
        "def predict_vector_output(input_image):\n",
        "  \"\"\"\n",
        "  input_image: np array with shape (1, 28, 28, 1)\n",
        "  \"\"\"\n",
        "  input_image = np.array(input_image)\n",
        "  return np.array(predict(params, input_image))"
      ],
      "execution_count": 0,
      "outputs": []
    },
    {
      "cell_type": "markdown",
      "metadata": {
        "id": "znun4Uiv0LEW",
        "colab_type": "text"
      },
      "source": [
        "### **Result for original image in test set**"
      ]
    },
    {
      "cell_type": "code",
      "metadata": {
        "id": "g5WQTPvm0RkV",
        "colab_type": "code",
        "colab": {}
      },
      "source": [
        "x = test_images[917]\n",
        "x_reshaped = np.reshape(x, [1,28,28,1])"
      ],
      "execution_count": 0,
      "outputs": []
    },
    {
      "cell_type": "code",
      "metadata": {
        "id": "XhukNTc7zJYJ",
        "colab_type": "code",
        "colab": {
          "base_uri": "https://localhost:8080/",
          "height": 300
        },
        "outputId": "b344f29b-600e-4133-981a-f4b7c3e2b05b"
      },
      "source": [
        "predict_image(x_reshaped)"
      ],
      "execution_count": 36,
      "outputs": [
        {
          "output_type": "stream",
          "text": [
            "Predicted class: 7\n"
          ],
          "name": "stdout"
        },
        {
          "output_type": "execute_result",
          "data": {
            "text/plain": [
              "7"
            ]
          },
          "metadata": {
            "tags": []
          },
          "execution_count": 36
        },
        {
          "output_type": "display_data",
          "data": {
            "image/png": "[encoded data removed]",
            "text/plain": [
              "<Figure size 432x288 with 1 Axes>"
            ]
          },
          "metadata": {
            "tags": []
          }
        }
      ]
    },
    {
      "cell_type": "markdown",
      "metadata": {
        "id": "9qdwbfOY0gOI",
        "colab_type": "text"
      },
      "source": [
        "### **Generate perturbed image method**\n",
        "**Q1 (1) - Code used to find the perturbation**"
      ]
    },
    {
      "cell_type": "code",
      "metadata": {
        "id": "tLjAaVb-0mHb",
        "colab_type": "code",
        "colab": {}
      },
      "source": [
        "def perturbe_image(epsilon, index_of_test_image): \n",
        "  epsilon = epsilon\n",
        "  x_grad = grad(loss,1)(params, shape_as_image(test_images[index_of_test_image], test_labels[index_of_test_image]))\n",
        "  np_x_grad = np.array(x_grad[0])\n",
        "  np_x_grad_sign = np.sign(np_x_grad)\n",
        "  perturbation  = np_x_grad_sign* epsilon\n",
        "\n",
        "  x = test_images[index_of_test_image]\n",
        "  x_reshaped = np.reshape(x, [1,28,28,1])\n",
        "\n",
        "  x_star = x_reshaped + perturbation\n",
        "  return x_star"
      ],
      "execution_count": 0,
      "outputs": []
    },
    {
      "cell_type": "markdown",
      "metadata": {
        "id": "YbejcvnF0YCX",
        "colab_type": "text"
      },
      "source": [
        "### **Result for perturbed image in test set**\n",
        "**Q1 (2) Visualization of the perturbed image**"
      ]
    },
    {
      "cell_type": "code",
      "metadata": {
        "id": "3Qy-0cjtzFqh",
        "colab_type": "code",
        "colab": {
          "base_uri": "https://localhost:8080/",
          "height": 300
        },
        "outputId": "ee864316-943f-4c8e-c067-3414c932152b"
      },
      "source": [
        "x_star = perturbe_image(0.3, 917)\n",
        "predict_image(x_star)"
      ],
      "execution_count": 38,
      "outputs": [
        {
          "output_type": "stream",
          "text": [
            "Predicted class: 3\n"
          ],
          "name": "stdout"
        },
        {
          "output_type": "execute_result",
          "data": {
            "text/plain": [
              "3"
            ]
          },
          "metadata": {
            "tags": []
          },
          "execution_count": 38
        },
        {
          "output_type": "display_data",
          "data": {
            "image/png": "[encoded data removed]",
            "text/plain": [
              "<Figure size 432x288 with 1 Axes>"
            ]
          },
          "metadata": {
            "tags": []
          }
        }
      ]
    },
    {
      "cell_type": "markdown",
      "metadata": {
        "id": "NSGKCvGk3KFM",
        "colab_type": "text"
      },
      "source": [
        "**Q1 (3) The prediction vector output by the model on the original and perturbed image**"
      ]
    },
    {
      "cell_type": "code",
      "metadata": {
        "id": "73WFcTAw2dBC",
        "colab_type": "code",
        "colab": {
          "base_uri": "https://localhost:8080/",
          "height": 69
        },
        "outputId": "43a0692b-a180-439f-ee95-54dc0626cf56"
      },
      "source": [
        "predict_vector_output(x_reshaped)\n"
      ],
      "execution_count": 39,
      "outputs": [
        {
          "output_type": "execute_result",
          "data": {
            "text/plain": [
              "DeviceArray([[ -3.6405835 ,  -0.83469486,   1.6745666 ,   3.1052432 ,\n",
              "               -1.7701457 ,  -3.8864946 , -18.328262  ,  17.085344  ,\n",
              "               -5.157089  ,   5.2541113 ]], dtype=float32)"
            ]
          },
          "metadata": {
            "tags": []
          },
          "execution_count": 39
        }
      ]
    },
    {
      "cell_type": "code",
      "metadata": {
        "id": "yXlFF6hq2832",
        "colab_type": "code",
        "colab": {
          "base_uri": "https://localhost:8080/",
          "height": 69
        },
        "outputId": "61c4630e-9f9e-4143-e3e5-495efa3ccdd8"
      },
      "source": [
        "predict_vector_output(x_star)"
      ],
      "execution_count": 40,
      "outputs": [
        {
          "output_type": "execute_result",
          "data": {
            "text/plain": [
              "DeviceArray([[ -3.1837993 ,   0.45956945,  -4.328016  ,  15.009528  ,\n",
              "               -2.8964155 ,   4.8086553 , -14.488246  ,   3.1471734 ,\n",
              "               -0.9284396 ,  12.764921  ]], dtype=float32)"
            ]
          },
          "metadata": {
            "tags": []
          },
          "execution_count": 40
        }
      ]
    },
    {
      "cell_type": "markdown",
      "metadata": {
        "id": "R64IjOyQC3QC",
        "colab_type": "text"
      },
      "source": [
        "---------------------------------------------------------------------"
      ]
    },
    {
      "cell_type": "code",
      "metadata": {
        "id": "aZ_ywqF6d-dI",
        "colab_type": "code",
        "colab": {
          "base_uri": "https://localhost:8080/",
          "height": 132
        },
        "outputId": "a748a80e-4b52-4e23-e60b-00fd5326a60f"
      },
      "source": [
        "break"
      ],
      "execution_count": 41,
      "outputs": [
        {
          "output_type": "error",
          "ename": "SyntaxError",
          "evalue": "ignored",
          "traceback": [
            "\u001b[0;36m  File \u001b[0;32m\"<ipython-input-41-6aaf1f276005>\"\u001b[0;36m, line \u001b[0;32m1\u001b[0m\n\u001b[0;31m    break\u001b[0m\n\u001b[0m         ^\u001b[0m\n\u001b[0;31mSyntaxError\u001b[0m\u001b[0;31m:\u001b[0m 'break' outside loop\n"
          ]
        }
      ]
    },
    {
      "cell_type": "markdown",
      "metadata": {
        "id": "A8x3mzqjCtu8",
        "colab_type": "text"
      },
      "source": [
        "# **Q2 begins here**"
      ]
    },
    {
      "cell_type": "markdown",
      "metadata": {
        "id": "HReK3UfD52Fz",
        "colab_type": "text"
      },
      "source": [
        "### **Obtaining 1000 indices for original 7s**"
      ]
    },
    {
      "cell_type": "code",
      "metadata": {
        "id": "z8ChSWvz57IH",
        "colab_type": "code",
        "colab": {}
      },
      "source": [
        "def test_sample_sevens_indices(num_of_samples):\n",
        "  int_test_labels = np.argmax(test_labels, axis=1)\n",
        "  int_test_labels_list = list(int_test_labels)\n",
        "  indexes_7 = [index for index in range(len(int_test_labels_list)) if int_test_labels_list[index] == 7]\n",
        "  sample_indexes= sample(indexes_7,num_of_samples)\n",
        "\n",
        "  return sample_indexes"
      ],
      "execution_count": 0,
      "outputs": []
    },
    {
      "cell_type": "code",
      "metadata": {
        "id": "bKx6sCOq6EIG",
        "colab_type": "code",
        "colab": {}
      },
      "source": [
        "thousand_indices = test_sample_sevens_indices(1000)"
      ],
      "execution_count": 0,
      "outputs": []
    },
    {
      "cell_type": "code",
      "metadata": {
        "id": "rgFxP8TM7AY5",
        "colab_type": "code",
        "colab": {}
      },
      "source": [
        "def predict_output_class(input_image):\n",
        "  \"\"\"\n",
        "  input_image: np array with shape (1, 28, 28, 1)\n",
        "  \"\"\"\n",
        "  input_image = np.array(input_image)\n",
        "  predicted_class = np.argmax(predict(params, input_image))\n",
        "  predicted = int(predicted_class) \n",
        "  return predicted "
      ],
      "execution_count": 0,
      "outputs": []
    },
    {
      "cell_type": "markdown",
      "metadata": {
        "id": "3qY350ad7eeQ",
        "colab_type": "text"
      },
      "source": [
        "### **Obtaining Predicted Output Class for Original 1000 samples**\n",
        "\n",
        "---\n",
        "\n"
      ]
    },
    {
      "cell_type": "code",
      "metadata": {
        "id": "FTNtdKil6wj_",
        "colab_type": "code",
        "colab": {}
      },
      "source": [
        "thousand_testing_sevens = []\n",
        "thousand_testing_sevens_labels = []\n",
        "for i in thousand_indices:\n",
        "  x = test_images[i]\n",
        "  thousand_testing_sevens.append(test_images[i])\n",
        "  x_reshaped = np.reshape(x, [1,28,28,1])\n",
        "  predicted = predict_output_class(x_reshaped)\n",
        "  actual_value = int(np.argmax(test_labels[i]))\n",
        "  thousand_testing_sevens_labels.append(test_labels[i])\n",
        "  print(\"Index: {} \\t Predicted: {} \\t Actual:{}\".\\\n",
        "        format(i, predicted, actual_value))"
      ],
      "execution_count": 0,
      "outputs": []
    },
    {
      "cell_type": "markdown",
      "metadata": {
        "id": "tOai8PL992nX",
        "colab_type": "text"
      },
      "source": [
        "### **Original accuracy for 1000 samples of 7s**"
      ]
    },
    {
      "cell_type": "code",
      "metadata": {
        "id": "Fx9tCAqk8sGQ",
        "colab_type": "code",
        "colab": {}
      },
      "source": [
        "thousand_testing_sevens = np.array(thousand_testing_sevens)"
      ],
      "execution_count": 0,
      "outputs": []
    },
    {
      "cell_type": "code",
      "metadata": {
        "id": "6YtkB3se9Xh9",
        "colab_type": "code",
        "colab": {}
      },
      "source": [
        "thousand_testing_sevens_labels = np.array(thousand_testing_sevens_labels)"
      ],
      "execution_count": 0,
      "outputs": []
    },
    {
      "cell_type": "code",
      "metadata": {
        "id": "4f-JQc156K1E",
        "colab_type": "code",
        "colab": {}
      },
      "source": [
        "accuracy(params, shape_as_image(thousand_testing_sevens, thousand_testing_sevens_labels))"
      ],
      "execution_count": 0,
      "outputs": []
    },
    {
      "cell_type": "markdown",
      "metadata": {
        "id": "l-Vdk79f-oBq",
        "colab_type": "text"
      },
      "source": [
        "### Generating 1000 perturbed images"
      ]
    },
    {
      "cell_type": "code",
      "metadata": {
        "id": "YdotMoGK-QhZ",
        "colab_type": "code",
        "colab": {}
      },
      "source": [
        "perturbed_images = []\n",
        "for i in thousand_indices:\n",
        "  perturbed_images.append(perturbe_image(0.3, i))"
      ],
      "execution_count": 0,
      "outputs": []
    },
    {
      "cell_type": "markdown",
      "metadata": {
        "id": "nl8cbhTZBCea",
        "colab_type": "text"
      },
      "source": [
        "### **Sampling an image to visualize perturbation**"
      ]
    },
    {
      "cell_type": "code",
      "metadata": {
        "id": "_PBqXJ6F-7AJ",
        "colab_type": "code",
        "colab": {}
      },
      "source": [
        "thousand_indices[100]"
      ],
      "execution_count": 0,
      "outputs": []
    },
    {
      "cell_type": "code",
      "metadata": {
        "id": "aHuPRDMi_DDG",
        "colab_type": "code",
        "colab": {}
      },
      "source": [
        "x = test_images[1164]\n",
        "x_reshaped = np.reshape(x, [1,28,28,1])\n",
        "predict_image(x_reshaped)"
      ],
      "execution_count": 0,
      "outputs": []
    },
    {
      "cell_type": "code",
      "metadata": {
        "id": "-SpQ-IBP-vcB",
        "colab_type": "code",
        "colab": {}
      },
      "source": [
        "predict_image(perturbed_images[100])"
      ],
      "execution_count": 0,
      "outputs": []
    },
    {
      "cell_type": "markdown",
      "metadata": {
        "id": "ipOH9-XrB6Xf",
        "colab_type": "text"
      },
      "source": [
        "### **Accuracy from perturbed images**"
      ]
    },
    {
      "cell_type": "code",
      "metadata": {
        "id": "_N2unC2m_cD6",
        "colab_type": "code",
        "colab": {}
      },
      "source": [
        "perturbed_images = np.array(perturbed_images)"
      ],
      "execution_count": 0,
      "outputs": []
    },
    {
      "cell_type": "code",
      "metadata": {
        "id": "BRGtHvNj9qrF",
        "colab_type": "code",
        "colab": {}
      },
      "source": [
        "accuracy(params, shape_as_image(perturbed_images, thousand_testing_sevens_labels))"
      ],
      "execution_count": 0,
      "outputs": []
    },
    {
      "cell_type": "code",
      "metadata": {
        "id": "Bs57Z0JS_hNt",
        "colab_type": "code",
        "colab": {}
      },
      "source": [
        "perturbed_predictions = []\n",
        "for i in range(0, len(thousand_indices)):\n",
        "  x = test_images[thousand_indices[i]]\n",
        "  x_reshaped = np.reshape(x, [1,28,28,1])\n",
        "  predicted = predict_output_class(x_reshaped)\n",
        "  perturbed_image_prediction = predict_output_class(perturbed_images[i])\n",
        "  perturbed_predictions.append(perturbed_image_prediction)\n",
        "  actual_value = int(np.argmax(test_labels[thousand_indices[i]]))\n",
        "  \n",
        "  print(\"Index: {} \\t Original Predicted: {} Perturbed predicted: {} \\t Actual:{}\".\\\n",
        "        format(i, predicted, perturbed_image_prediction, actual_value))"
      ],
      "execution_count": 0,
      "outputs": []
    },
    {
      "cell_type": "code",
      "metadata": {
        "id": "ligtWCUcAbjY",
        "colab_type": "code",
        "colab": {}
      },
      "source": [
        "epsilons = np.arange(0.01,1,0.05)"
      ],
      "execution_count": 0,
      "outputs": []
    },
    {
      "cell_type": "code",
      "metadata": {
        "id": "ctS2sJl4DglT",
        "colab_type": "code",
        "colab": {}
      },
      "source": [
        "for i in range(0, len(epsilons)):\n",
        "  print(epsilons[i])"
      ],
      "execution_count": 0,
      "outputs": []
    },
    {
      "cell_type": "code",
      "metadata": {
        "id": "_yTgv5OTDJkY",
        "colab_type": "code",
        "colab": {}
      },
      "source": [
        "accuracies = []\n",
        "for i in range(0, len(epsilons)):\n",
        "  # print(epsilons[i])  \n",
        "  perturbed_images = []\n",
        "  index = epsilons[i]\n",
        "  for j in thousand_indices:\n",
        "    perturbed_images.append(perturbe_image(index, j))\n",
        "\n",
        "  perturbed_images = np.array(perturbed_images)\n",
        "  accuracies.append(float(accuracy(params, shape_as_image(perturbed_images, thousand_testing_sevens_labels))))"
      ],
      "execution_count": 0,
      "outputs": []
    },
    {
      "cell_type": "code",
      "metadata": {
        "id": "zYfJfR7ODtLS",
        "colab_type": "code",
        "colab": {}
      },
      "source": [
        "accuracies"
      ],
      "execution_count": 0,
      "outputs": []
    },
    {
      "cell_type": "code",
      "metadata": {
        "id": "oiWxrhOIDzAF",
        "colab_type": "code",
        "colab": {}
      },
      "source": [
        "import matplotlib.pyplot as plt\n",
        "%matplotlib inline\n",
        "\n",
        "plt.plot(epsilons, accuracies)\n",
        "plt.title(\"Accuracy vs epsilon\")\n",
        "plt.xlabel(\"$\\epsilon$\")\n",
        "plt.ylabel(\"$Accuracy$\")\n",
        "\n"
      ],
      "execution_count": 0,
      "outputs": []
    },
    {
      "cell_type": "code",
      "metadata": {
        "id": "xks_AUCsD0j8",
        "colab_type": "code",
        "colab": {}
      },
      "source": [
        "epsilons = np.arange(0.01,0.2,0.01)\n",
        "for i in range(0, len(epsilons)):\n",
        "  print(epsilons[i])"
      ],
      "execution_count": 0,
      "outputs": []
    },
    {
      "cell_type": "code",
      "metadata": {
        "id": "vSYzViOaHAuN",
        "colab_type": "code",
        "colab": {}
      },
      "source": [
        "accuracies = []\n",
        "for i in range(0, len(epsilons)):\n",
        "  # print(epsilons[i])  \n",
        "  perturbed_images = []\n",
        "  index = epsilons[i]\n",
        "  for j in thousand_indices:\n",
        "    perturbed_images.append(perturbe_image(index, j))\n",
        "\n",
        "  perturbed_images = np.array(perturbed_images)\n",
        "  accuracies.append(float(accuracy(params, shape_as_image(perturbed_images, thousand_testing_sevens_labels))))"
      ],
      "execution_count": 0,
      "outputs": []
    },
    {
      "cell_type": "code",
      "metadata": {
        "id": "61JdUlEsHGUj",
        "colab_type": "code",
        "colab": {}
      },
      "source": [
        "import matplotlib.pyplot as plt\n",
        "%matplotlib inline\n",
        "\n",
        "plt.plot(epsilons, accuracies)\n",
        "plt.title(\"Accuracy vs epsilon\")\n",
        "plt.xlabel(\"$\\epsilon$\")\n",
        "plt.ylabel(\"$Accuracy$\")\n",
        "\n"
      ],
      "execution_count": 0,
      "outputs": []
    },
    {
      "cell_type": "markdown",
      "metadata": {
        "id": "dgI9yxvwKDPV",
        "colab_type": "text"
      },
      "source": [
        "--------------------------------------------------------------------------------"
      ]
    },
    {
      "cell_type": "markdown",
      "metadata": {
        "id": "3q0KjVQgKJDe",
        "colab_type": "text"
      },
      "source": [
        "# **Q3 starts here**"
      ]
    },
    {
      "cell_type": "code",
      "metadata": {
        "id": "XaWGZLeCKpUh",
        "colab_type": "code",
        "colab": {
          "base_uri": "https://localhost:8080/",
          "height": 300
        },
        "outputId": "7c59ef2b-e347-4f76-ffd6-72a0c70bf98d"
      },
      "source": [
        "index  = 1164\n",
        "epsilon  = 0.1\n",
        "x = test_images[index]\n",
        "x_reshaped = np.reshape(x, [1,28,28,1])\n",
        "\n",
        "predict_image(x_reshaped)\n",
        "# x_star = perturbe_image(epsilon, index)\n",
        "# predict_image(x_star)"
      ],
      "execution_count": 57,
      "outputs": [
        {
          "output_type": "stream",
          "text": [
            "Predicted class: 7\n"
          ],
          "name": "stdout"
        },
        {
          "output_type": "execute_result",
          "data": {
            "text/plain": [
              "7"
            ]
          },
          "metadata": {
            "tags": []
          },
          "execution_count": 57
        },
        {
          "output_type": "display_data",
          "data": {
            "image/png": "[encoded data removed]",
            "text/plain": [
              "<Figure size 432x288 with 1 Axes>"
            ]
          },
          "metadata": {
            "tags": []
          }
        }
      ]
    },
    {
      "cell_type": "code",
      "metadata": {
        "id": "Y2vvzUKNMLoj",
        "colab_type": "code",
        "colab": {
          "base_uri": "https://localhost:8080/",
          "height": 352
        },
        "outputId": "0c50a7e8-d178-4454-961e-8a1caca1df1b"
      },
      "source": [
        "index  = 1164\n",
        "epsilon  = 0.1\n",
        "x = test_images[index]\n",
        "x_reshaped = np.reshape(x, [1,28,28,1])\n",
        "\n",
        "perturbed_images = []\n",
        "for i in range(0,5):\n",
        "  # Q3\n",
        "  x_grad = grad(loss,1)(params, shape_as_image(x_reshaped, test_labels[index]))\n",
        "  np_x_grad = np.array(x_grad[0])\n",
        "  np_x_grad_sign = np.sign(np_x_grad)\n",
        "  perturbation  = np_x_grad_sign* epsilon\n",
        "\n",
        "  x_star = x_reshaped + perturbation\n",
        "  x_reshaped = x_star\n",
        "  perturbed_images.append(x_star) \n",
        "  predict_image(x_star)"
      ],
      "execution_count": 62,
      "outputs": [
        {
          "output_type": "stream",
          "text": [
            "Predicted class: 9\n",
            "Predicted class: 9\n",
            "Predicted class: 9\n",
            "Predicted class: 9\n",
            "Predicted class: 9\n"
          ],
          "name": "stdout"
        },
        {
          "output_type": "display_data",
          "data": {
            "image/png": "[encoded data removed]",
            "text/plain": [
              "<Figure size 432x288 with 1 Axes>"
            ]
          },
          "metadata": {
            "tags": []
          }
        }
      ]
    },
    {
      "cell_type": "code",
      "metadata": {
        "id": "0-cOCl8SfV5Z",
        "colab_type": "code",
        "colab": {
          "base_uri": "https://localhost:8080/",
          "height": 190
        },
        "outputId": "3bfd04d9-e882-49fa-a8cd-83671510282d"
      },
      "source": [
        "plt.figure(figsize=(30, 30))\n",
        "for i in range(0,len(perturbed_images)):\n",
        "  # print(sample_indexes[i])\n",
        "  img = np.reshape(perturbed_images[i], [28,28])\n",
        "  plt.subplot(int(len(perturbed_images)/10)+1, 10, i+1)\n",
        "  plt.imshow(img, cmap='Greys_r')"
      ],
      "execution_count": 63,
      "outputs": [
        {
          "output_type": "display_data",
          "data": {
            "image/png": "[encoded data removed]",
            "text/plain": [
              "<Figure size 2160x2160 with 5 Axes>"
            ]
          },
          "metadata": {
            "tags": []
          }
        }
      ]
    },
    {
      "cell_type": "markdown",
      "metadata": {
        "id": "HetY3RWaghZT",
        "colab_type": "text"
      },
      "source": [
        "### Dividing epsilon by k"
      ]
    },
    {
      "cell_type": "code",
      "metadata": {
        "id": "ACcsCbydf5zB",
        "colab_type": "code",
        "colab": {
          "base_uri": "https://localhost:8080/",
          "height": 352
        },
        "outputId": "5fd93d96-84a5-4d3a-9125-4b65331def71"
      },
      "source": [
        "index  = 1164\n",
        "epsilon  = 0.1\n",
        "x = test_images[index]\n",
        "x_reshaped = np.reshape(x, [1,28,28,1])\n",
        "\n",
        "perturbed_images = []\n",
        "for k in range(1,6):\n",
        "  # Q3\n",
        "  epsilon = epsilon/k\n",
        "  x_grad = grad(loss,1)(params, shape_as_image(x_reshaped, test_labels[index]))\n",
        "  np_x_grad = np.array(x_grad[0])\n",
        "  np_x_grad_sign = np.sign(np_x_grad)\n",
        "  perturbation  = np_x_grad_sign* epsilon\n",
        "\n",
        "  x_star = x_reshaped + perturbation\n",
        "  x_reshaped = x_star\n",
        "  perturbed_images.append(x_star) \n",
        "  predict_image(x_star)"
      ],
      "execution_count": 64,
      "outputs": [
        {
          "output_type": "stream",
          "text": [
            "Predicted class: 9\n",
            "Predicted class: 9\n",
            "Predicted class: 9\n",
            "Predicted class: 9\n",
            "Predicted class: 9\n"
          ],
          "name": "stdout"
        },
        {
          "output_type": "display_data",
          "data": {
            "image/png": "[encoded data removed]",
            "text/plain": [
              "<Figure size 432x288 with 1 Axes>"
            ]
          },
          "metadata": {
            "tags": []
          }
        }
      ]
    },
    {
      "cell_type": "code",
      "metadata": {
        "id": "Ks_3Hl8ggq2R",
        "colab_type": "code",
        "colab": {
          "base_uri": "https://localhost:8080/",
          "height": 190
        },
        "outputId": "fa08ce40-ad16-4cec-894f-a2c2a0bad727"
      },
      "source": [
        "plt.figure(figsize=(30, 30))\n",
        "for i in range(0,len(perturbed_images)):\n",
        "  # print(sample_indexes[i])\n",
        "  img = np.reshape(perturbed_images[i], [28,28])\n",
        "  plt.subplot(int(len(perturbed_images)/10)+1, 10, i+1)\n",
        "  plt.imshow(img, cmap='Greys_r')"
      ],
      "execution_count": 65,
      "outputs": [
        {
          "output_type": "display_data",
          "data": {
            "image/png": "[encoded data removed]",
            "text/plain": [
              "<Figure size 2160x2160 with 5 Axes>"
            ]
          },
          "metadata": {
            "tags": []
          }
        }
      ]
    },
    {
      "cell_type": "code",
      "metadata": {
        "id": "0tcwRDmNgrby",
        "colab_type": "code",
        "colab": {}
      },
      "source": [
        ""
      ],
      "execution_count": 0,
      "outputs": []
    }
  ]
}