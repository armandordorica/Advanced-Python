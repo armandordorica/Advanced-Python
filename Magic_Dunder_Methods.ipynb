{
  "nbformat": 4,
  "nbformat_minor": 0,
  "metadata": {
    "colab": {
      "name": "Magic/Dunder Methods.ipynb",
      "provenance": [],
      "authorship_tag": "ABX9TyNqE2Qoke2j/KDhhRjK+6xZ",
      "include_colab_link": true
    },
    "kernelspec": {
      "name": "python3",
      "display_name": "Python 3"
    }
  },
  "cells": [
    {
      "cell_type": "markdown",
      "metadata": {
        "id": "view-in-github",
        "colab_type": "text"
      },
      "source": [
        "<a href=\"https://colab.research.google.com/github/armandordorica/Advanced-Python/blob/master/Magic_Dunder_Methods.ipynb\" target=\"_parent\"><img src=\"https://colab.research.google.com/assets/colab-badge.svg\" alt=\"Open In Colab\"/></a>"
      ]
    },
    {
      "cell_type": "code",
      "metadata": {
        "id": "HwPKR7CGzeAy",
        "colab_type": "code",
        "colab": {
          "base_uri": "https://localhost:8080/",
          "height": 52
        },
        "outputId": "412c7439-7fa5-4825-c484-b3f062b7fd2c"
      },
      "source": [
        "class Employee:\n",
        "\n",
        "    raise_amt = 1.04\n",
        "\n",
        "    def __init__(self, first, last, pay):\n",
        "        self.first = first\n",
        "        self.last = last\n",
        "        self.email = first + '.' + last + '@email.com'\n",
        "        self.pay = pay\n",
        "\n",
        "    def fullname(self):\n",
        "        return '{} {}'.format(self.first, self.last)\n",
        "\n",
        "    def apply_raise(self):\n",
        "        self.pay = int(self.pay * self.raise_amt)\n",
        "\n",
        "    def __repr__(self):\n",
        "      #Print out a string that you can use to recreate the object\n",
        "      return (\"Employee('{}', '{}', '{}')\".format(self.first, self.last, self.pay))\n",
        "\n",
        "    def __str__(self):\n",
        "      return (\"{} - {}\".format(self.fullname(), self.email))\n",
        "\n",
        "    def __add__(self, other):\n",
        "      return self.pay + other.pay\n",
        "\n",
        "    def __len__(self):\n",
        "      return len(self.fullname())\n",
        "      \n",
        "\n",
        "\n",
        "dev_1 = Employee('Corey', 'Schafer', 50000)\n",
        "dev_2 = Employee('Test', 'Employee', 60000)\n",
        "\n",
        "print(dev_1.email)\n",
        "print(dev_2.email)\n",
        "\n"
      ],
      "execution_count": 8,
      "outputs": [
        {
          "output_type": "stream",
          "text": [
            "Corey.Schafer@email.com\n",
            "Test.Employee@email.com\n"
          ],
          "name": "stdout"
        }
      ]
    },
    {
      "cell_type": "code",
      "metadata": {
        "id": "AXtMIYwOzhtm",
        "colab_type": "code",
        "colab": {
          "base_uri": "https://localhost:8080/",
          "height": 34
        },
        "outputId": "14e80172-7e2e-4a20-aff1-4deb75532ae4"
      },
      "source": [
        "print(dev_1)"
      ],
      "execution_count": 3,
      "outputs": [
        {
          "output_type": "stream",
          "text": [
            "Employee('Corey', 'Schafer', '50000')\n"
          ],
          "name": "stdout"
        }
      ]
    },
    {
      "cell_type": "code",
      "metadata": {
        "id": "f8iGYKmZz2Rs",
        "colab_type": "code",
        "colab": {
          "base_uri": "https://localhost:8080/",
          "height": 34
        },
        "outputId": "55f47781-36f4-4555-8a93-114ac866999d"
      },
      "source": [
        "print(dev_1.__repr__())"
      ],
      "execution_count": 4,
      "outputs": [
        {
          "output_type": "stream",
          "text": [
            "Employee('Corey', 'Schafer', '50000')\n"
          ],
          "name": "stdout"
        }
      ]
    },
    {
      "cell_type": "code",
      "metadata": {
        "id": "fjlhToNb0O5f",
        "colab_type": "code",
        "colab": {
          "base_uri": "https://localhost:8080/",
          "height": 34
        },
        "outputId": "46df8d3f-71a7-4d5b-c010-98381e713d4b"
      },
      "source": [
        "print(dev_1.__str__())"
      ],
      "execution_count": 5,
      "outputs": [
        {
          "output_type": "stream",
          "text": [
            "Employee('Corey', 'Schafer', '50000')\n"
          ],
          "name": "stdout"
        }
      ]
    },
    {
      "cell_type": "markdown",
      "metadata": {
        "id": "Eks9n_2Z0xoa",
        "colab_type": "text"
      },
      "source": [
        "Because we created the `__add__` method, we can define it to add the whatever attributes of each of the objects."
      ]
    },
    {
      "cell_type": "code",
      "metadata": {
        "id": "aAFzIuvk0QA_",
        "colab_type": "code",
        "colab": {
          "base_uri": "https://localhost:8080/",
          "height": 34
        },
        "outputId": "db91929b-817a-4115-b621-8eabe64fd189"
      },
      "source": [
        "print(dev_1+dev_2)"
      ],
      "execution_count": 7,
      "outputs": [
        {
          "output_type": "stream",
          "text": [
            "110000\n"
          ],
          "name": "stdout"
        }
      ]
    },
    {
      "cell_type": "markdown",
      "metadata": {
        "id": "uQExbaig1OVb",
        "colab_type": "text"
      },
      "source": [
        "Now if we use the `__len__` method, we have defined it such that it prints out the length of the full name of the employee"
      ]
    },
    {
      "cell_type": "code",
      "metadata": {
        "id": "ggK0WU0M0wDL",
        "colab_type": "code",
        "colab": {
          "base_uri": "https://localhost:8080/",
          "height": 34
        },
        "outputId": "6f30d0ea-a175-4945-9993-f9d61204c50f"
      },
      "source": [
        "print(len(dev_1))"
      ],
      "execution_count": 9,
      "outputs": [
        {
          "output_type": "stream",
          "text": [
            "13\n"
          ],
          "name": "stdout"
        }
      ]
    },
    {
      "cell_type": "code",
      "metadata": {
        "id": "HBdAd0ZV1XyF",
        "colab_type": "code",
        "colab": {}
      },
      "source": [
        ""
      ],
      "execution_count": 0,
      "outputs": []
    }
  ]
}