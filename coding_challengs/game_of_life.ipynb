{
  "nbformat": 4,
  "nbformat_minor": 0,
  "metadata": {
    "colab": {
      "name": "game of life.ipynb",
      "provenance": [],
      "authorship_tag": "ABX9TyOhh/ZUaUi8bNpjGExntiYC",
      "include_colab_link": true
    },
    "kernelspec": {
      "name": "python3",
      "display_name": "Python 3"
    }
  },
  "cells": [
    {
      "cell_type": "markdown",
      "metadata": {
        "id": "view-in-github",
        "colab_type": "text"
      },
      "source": [
        "<a href=\"https://colab.research.google.com/github/armandordorica/Advanced-Python/blob/master/coding_challengs/game_of_life.ipynb\" target=\"_parent\"><img src=\"https://colab.research.google.com/assets/colab-badge.svg\" alt=\"Open In Colab\"/></a>"
      ]
    },
    {
      "cell_type": "markdown",
      "metadata": {
        "id": "xX7z2gRD4dcj",
        "colab_type": "text"
      },
      "source": [
        "According to the Wikipedia's article: \"The Game of Life, also known simply as Life, is a cellular automaton devised by the British mathematician John Horton Conway in 1970.\"\n",
        "\n",
        "Given a board with m by n cells, each cell has an initial state live (1) or dead (0). Each cell interacts with its eight neighbors (horizontal, vertical, diagonal) using the following four rules (taken from the above Wikipedia article):\n",
        "\n",
        "1. Any live cell with fewer than two live neighbors dies, as if caused by under-population.\n",
        "2. Any live cell with two or three live neighbors lives on to the next generation.\n",
        "3. Any live cell with more than three live neighbors dies, as if by over-population..\n",
        "4. Any dead cell with exactly three live neighbors becomes a live cell, as if by reproduction.\n",
        "\n",
        "Write a function to compute the next state (after one update) of the board given its current state. The next state is created by applying the above rules simultaneously to every cell in the current state, where births and deaths occur simultaneously.\n"
      ]
    },
    {
      "cell_type": "markdown",
      "metadata": {
        "id": "jHert5Fs4rLR",
        "colab_type": "text"
      },
      "source": [
        "### Planning\n",
        "\n",
        "1. Create a function that given an tupe for a 2D array location and a grid, it gets the indices of the neighbours. \n",
        "2. Create a function that gets the values of the neighbours given a position (i,j). \n",
        "3. Create a function that gets the sum of alive cells around a cell. \n",
        "4. Create a function that determines current time and next time status based on the rules. \n",
        "\n",
        "Embed functions 1-4 into a class called Cell. \n",
        "\n",
        "1. Create a Grid class that contains a grid of Cell objects, each of which contain a next time status. \n",
        "\n",
        "The answer will be a grid at next time status"
      ]
    },
    {
      "cell_type": "code",
      "metadata": {
        "id": "CVqURYIRP7sj",
        "colab_type": "code",
        "colab": {}
      },
      "source": [
        "import numpy as np\n",
        "grid = [\n",
        "  [0,1,0],\n",
        "  [0,0,1],\n",
        "  [1,1,1],\n",
        "  [0,0,0]\n",
        "]"
      ],
      "execution_count": 1,
      "outputs": []
    },
    {
      "cell_type": "code",
      "metadata": {
        "id": "62J3OxGdz7ZY",
        "colab_type": "code",
        "colab": {}
      },
      "source": [
        "import numpy as np\n",
        "\n",
        "class Cell:\n",
        "  def __init__(self, i, j, grid): \n",
        "    self.i = i\n",
        "    self.j = j\n",
        "    self.grid = grid\n",
        "    self.num_neighbours = self.get_num_neighbours()\n",
        "    self.neighbours_indices = self.get_neighbours_indices()\n",
        "    self.current_status = grid[i][j]\n",
        "\n",
        "    self.next_status = self.get_status()\n",
        "\n",
        "  def get_neighbours_indices(self): \n",
        "    grid = np.array(self.grid)\n",
        "    i = self.i\n",
        "    j=self.j \n",
        "    i_s = [i-1, i, i+1]\n",
        "    j_s = [j-1, j, j+1]\n",
        "\n",
        "    cartesian_product = [(i,j) for i in i_s for j in j_s]\n",
        "\n",
        "    cartesian_product.remove((i,j))\n",
        "    possible_neighbours = cartesian_product\n",
        "    max_rows = grid.shape[0]-1\n",
        "    max_cols = grid.shape[1]-1\n",
        "    filtered_possible_values = list(filter( lambda x: (x[0] >= 0 and x[0]<= max_rows) and (x[1]>=0 and x[1]<= max_cols), possible_neighbours))\n",
        "    return filtered_possible_values\n",
        "\n",
        "  def get_neighbours_values(self):\n",
        "    return list(map(lambda x: self.grid[x[0]][x[1]], self.neighbours_indices))\n",
        "\n",
        "\n",
        "  def get_num_neighbours(self): \n",
        "    self.neighbours_indices = self.get_neighbours_indices()\n",
        "    self.neighbours_values = self.get_neighbours_values()\n",
        "    return sum(self.neighbours_values)\n",
        "\n",
        "  def get_status(self): \n",
        "    if self.current_status == 1: \n",
        "      if self.num_neighbours < 2 or self.num_neighbours > 3: \n",
        "        self.next_status = 0 \n",
        "\n",
        "      if self.num_neighbours == 2 or self.num_neighbours ==3: \n",
        "        self.next_status = 1 \n",
        "\n",
        "    elif self.current_status == 0:\n",
        "      if self.num_neighbours == 3:\n",
        "        self.next_status = 1 \n",
        "      \n",
        "      else: \n",
        "        self.next_status = self.current_status \n",
        "    \n",
        "    return self.next_status\n",
        "\n",
        "      \n",
        "class Grid:\n",
        "  def __init__(self, grid): \n",
        "    self.grid = grid \n",
        "    self.grid_of_cells = self.get_grid_of_cells()\n",
        "    self.next_status_grid = self.get_next_status_grid()\n",
        "    print(\"Grid at t:\\n{}\".format(np.array(self.grid)))\n",
        "    print(\"Grid at t+1:\\n{}\".format(np.array(self.next_status_grid)))\n",
        "\n",
        "  def get_grid_of_cells(self):\n",
        "    self.grid_of_cells = []\n",
        "    for i in range(0, len(self.grid)):\n",
        "      row =  []\n",
        "      for j in range(0, len(self.grid[i])):\n",
        "        #print(i,j)\n",
        "        cell = Cell(i, j, self.grid)\n",
        "        row.append(cell)\n",
        "      self.grid_of_cells.append(row)\n",
        "\n",
        "    return self.grid_of_cells\n",
        "  \n",
        "  def get_next_status_grid(self): \n",
        "    self.next_status_grid  = []\n",
        "\n",
        "    for i in range(0, len(self.grid_of_cells)): \n",
        "      row = []\n",
        "      for j in range(0, len(self.grid_of_cells[i])):\n",
        "        #print(i,j)\n",
        "        #print(self.grid_of_cells[i][j].next_status)\n",
        "        row.append(self.grid_of_cells[i][j].next_status)\n",
        "\n",
        "      self.next_status_grid.append(row)\n",
        "  \n",
        "    return self.next_status_grid\n"
      ],
      "execution_count": 2,
      "outputs": []
    },
    {
      "cell_type": "code",
      "metadata": {
        "id": "2aGyiz_A0maa",
        "colab_type": "code",
        "colab": {}
      },
      "source": [
        "grid = [\n",
        "  [0,1,0],\n",
        "  [0,0,1],\n",
        "  [1,1,1],\n",
        "  [0,0,0]\n",
        "]"
      ],
      "execution_count": 3,
      "outputs": []
    },
    {
      "cell_type": "code",
      "metadata": {
        "id": "65yZ2nIF0oNC",
        "colab_type": "code",
        "colab": {
          "base_uri": "https://localhost:8080/",
          "height": 196
        },
        "outputId": "8f218ee7-ce6a-408a-fa07-5fd9b27e48a5"
      },
      "source": [
        "new_grid = Grid(grid)"
      ],
      "execution_count": 4,
      "outputs": [
        {
          "output_type": "stream",
          "text": [
            "Grid at t:\n",
            "[[0 1 0]\n",
            " [0 0 1]\n",
            " [1 1 1]\n",
            " [0 0 0]]\n",
            "Grid at t+1:\n",
            "[[0 0 0]\n",
            " [1 0 1]\n",
            " [0 1 1]\n",
            " [0 1 0]]\n"
          ],
          "name": "stdout"
        }
      ]
    },
    {
      "cell_type": "code",
      "metadata": {
        "id": "lb72e-pA0q0Z",
        "colab_type": "code",
        "colab": {}
      },
      "source": [
        ""
      ],
      "execution_count": null,
      "outputs": []
    }
  ]
}