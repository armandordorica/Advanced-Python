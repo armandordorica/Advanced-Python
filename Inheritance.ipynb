{
  "nbformat": 4,
  "nbformat_minor": 0,
  "metadata": {
    "colab": {
      "name": "Inheritance.ipynb",
      "provenance": [],
      "authorship_tag": "ABX9TyNs8OxXHb4VacMzSsgslYG0",
      "include_colab_link": true
    },
    "kernelspec": {
      "name": "python3",
      "display_name": "Python 3"
    }
  },
  "cells": [
    {
      "cell_type": "markdown",
      "metadata": {
        "id": "view-in-github",
        "colab_type": "text"
      },
      "source": [
        "<a href=\"https://colab.research.google.com/github/armandordorica/Advanced-Python/blob/master/Inheritance.ipynb\" target=\"_parent\"><img src=\"https://colab.research.google.com/assets/colab-badge.svg\" alt=\"Open In Colab\"/></a>"
      ]
    },
    {
      "cell_type": "markdown",
      "metadata": {
        "id": "iElBCvq-q6SY",
        "colab_type": "text"
      },
      "source": [
        "The point of inheritance is to use the functionality of parent classes and add extra functionality or overwrite parent functionality without affecting the parent class in any way. \n",
        "\n",
        "Reference: https://www.youtube.com/watch?v=RSl87lqOXDE&t=125s"
      ]
    },
    {
      "cell_type": "code",
      "metadata": {
        "id": "rfAZNVcEqVXw",
        "colab_type": "code",
        "colab": {
          "base_uri": "https://localhost:8080/",
          "height": 52
        },
        "outputId": "727d5d4d-847f-4b9e-e793-3968e21de181"
      },
      "source": [
        "class Employee:\n",
        "\n",
        "    raise_amt = 1.04\n",
        "\n",
        "    def __init__(self, first, last, pay):\n",
        "        self.first = first\n",
        "        self.last = last\n",
        "        self.email = first + '.' + last + '@email.com'\n",
        "        self.pay = pay\n",
        "\n",
        "    def fullname(self):\n",
        "        return '{} {}'.format(self.first, self.last)\n",
        "\n",
        "    def apply_raise(self):\n",
        "        self.pay = int(self.pay * self.raise_amt)\n",
        "\n",
        "\n",
        "dev_1 = Employee('Corey', 'Schafer', 50000)\n",
        "dev_2 = Employee('Test', 'Employee', 60000)\n",
        "\n",
        "print(dev_1.email)\n",
        "print(dev_2.email)\n",
        "\n",
        "\n",
        "\n",
        "\n"
      ],
      "execution_count": 1,
      "outputs": [
        {
          "output_type": "stream",
          "text": [
            "Corey.Schafer@email.com\n",
            "Test.Employee@email.com\n"
          ],
          "name": "stdout"
        }
      ]
    },
    {
      "cell_type": "code",
      "metadata": {
        "id": "pxbII5rRq09g",
        "colab_type": "code",
        "colab": {}
      },
      "source": [
        "class Developer(Employee): \n",
        "  raise_amt = 1.10"
      ],
      "execution_count": 0,
      "outputs": []
    },
    {
      "cell_type": "code",
      "metadata": {
        "id": "p8-msmchrYDT",
        "colab_type": "code",
        "colab": {}
      },
      "source": [
        "dev_1 = Developer('Corey', 'Schafer', 50000)\n",
        "dev_2 = Developer('Test', 'Employee', 60000)"
      ],
      "execution_count": 0,
      "outputs": []
    },
    {
      "cell_type": "code",
      "metadata": {
        "id": "l9HwvNh7rcU4",
        "colab_type": "code",
        "colab": {
          "base_uri": "https://localhost:8080/",
          "height": 52
        },
        "outputId": "af5c2b8b-9ddc-4165-8292-93fb0e19d6ae"
      },
      "source": [
        "print(dev_1.email)\n",
        "print(dev_2.email)"
      ],
      "execution_count": 12,
      "outputs": [
        {
          "output_type": "stream",
          "text": [
            "Corey.Schafer@email.com\n",
            "Test.Employee@email.com\n"
          ],
          "name": "stdout"
        }
      ]
    },
    {
      "cell_type": "markdown",
      "metadata": {
        "id": "Rau_Zx2yrjjH",
        "colab_type": "text"
      },
      "source": [
        "When you initialize an object in a child class, Python will try to look for attributes set in the child object first and then go up in the chain until it finds them. This chain is called method resolution order. "
      ]
    },
    {
      "cell_type": "code",
      "metadata": {
        "id": "5wIhufqyrclx",
        "colab_type": "code",
        "colab": {
          "base_uri": "https://localhost:8080/",
          "height": 572
        },
        "outputId": "048a6b26-ff7c-4ec8-dd94-9c6a5e5e8002"
      },
      "source": [
        "\n",
        "print(help(Developer))"
      ],
      "execution_count": 13,
      "outputs": [
        {
          "output_type": "stream",
          "text": [
            "Help on class Developer in module __main__:\n",
            "\n",
            "class Developer(Employee)\n",
            " |  Method resolution order:\n",
            " |      Developer\n",
            " |      Employee\n",
            " |      builtins.object\n",
            " |  \n",
            " |  Data and other attributes defined here:\n",
            " |  \n",
            " |  raise_amt = 1.1\n",
            " |  \n",
            " |  ----------------------------------------------------------------------\n",
            " |  Methods inherited from Employee:\n",
            " |  \n",
            " |  __init__(self, first, last, pay)\n",
            " |      Initialize self.  See help(type(self)) for accurate signature.\n",
            " |  \n",
            " |  apply_raise(self)\n",
            " |  \n",
            " |  fullname(self)\n",
            " |  \n",
            " |  ----------------------------------------------------------------------\n",
            " |  Data descriptors inherited from Employee:\n",
            " |  \n",
            " |  __dict__\n",
            " |      dictionary for instance variables (if defined)\n",
            " |  \n",
            " |  __weakref__\n",
            " |      list of weak references to the object (if defined)\n",
            "\n",
            "None\n"
          ],
          "name": "stdout"
        }
      ]
    },
    {
      "cell_type": "code",
      "metadata": {
        "id": "BaS5EJf2r7iJ",
        "colab_type": "code",
        "colab": {
          "base_uri": "https://localhost:8080/",
          "height": 34
        },
        "outputId": "717ee149-2ec0-4d35-8346-666ed4a68648"
      },
      "source": [
        "dev_1.pay"
      ],
      "execution_count": 14,
      "outputs": [
        {
          "output_type": "execute_result",
          "data": {
            "text/plain": [
              "50000"
            ]
          },
          "metadata": {
            "tags": []
          },
          "execution_count": 14
        }
      ]
    },
    {
      "cell_type": "code",
      "metadata": {
        "id": "nAyv31IbsOPy",
        "colab_type": "code",
        "colab": {}
      },
      "source": [
        "dev_1.apply_raise()"
      ],
      "execution_count": 0,
      "outputs": []
    },
    {
      "cell_type": "code",
      "metadata": {
        "id": "m-8EkTZrsQGl",
        "colab_type": "code",
        "colab": {
          "base_uri": "https://localhost:8080/",
          "height": 34
        },
        "outputId": "cc7010a3-e108-46da-a1a7-9393282683c4"
      },
      "source": [
        "dev_1.pay"
      ],
      "execution_count": 16,
      "outputs": [
        {
          "output_type": "execute_result",
          "data": {
            "text/plain": [
              "55000"
            ]
          },
          "metadata": {
            "tags": []
          },
          "execution_count": 16
        }
      ]
    },
    {
      "cell_type": "markdown",
      "metadata": {
        "id": "2QAl2zuPsgxL",
        "colab_type": "text"
      },
      "source": [
        "After adding the specific attribute for the developer class: \n",
        "```python\n",
        "class Developer(Employee): \n",
        "  raise_amt = 1.10\n",
        "```"
      ]
    },
    {
      "cell_type": "code",
      "metadata": {
        "id": "Xz80wNJasQ-7",
        "colab_type": "code",
        "colab": {
          "base_uri": "https://localhost:8080/",
          "height": 34
        },
        "outputId": "314e7db2-7251-43fa-d75b-23f83478a468"
      },
      "source": [
        "dev_1.pay"
      ],
      "execution_count": 17,
      "outputs": [
        {
          "output_type": "execute_result",
          "data": {
            "text/plain": [
              "55000"
            ]
          },
          "metadata": {
            "tags": []
          },
          "execution_count": 17
        }
      ]
    },
    {
      "cell_type": "code",
      "metadata": {
        "id": "Z_UkSIRNsl6A",
        "colab_type": "code",
        "colab": {}
      },
      "source": [
        "dev_1.apply_raise()"
      ],
      "execution_count": 0,
      "outputs": []
    },
    {
      "cell_type": "code",
      "metadata": {
        "id": "D3NxW7BmsvFn",
        "colab_type": "code",
        "colab": {
          "base_uri": "https://localhost:8080/",
          "height": 34
        },
        "outputId": "54c3835e-c0d8-4fec-d2b0-9284289fb612"
      },
      "source": [
        "dev_1.pay"
      ],
      "execution_count": 19,
      "outputs": [
        {
          "output_type": "execute_result",
          "data": {
            "text/plain": [
              "60500"
            ]
          },
          "metadata": {
            "tags": []
          },
          "execution_count": 19
        }
      ]
    },
    {
      "cell_type": "code",
      "metadata": {
        "id": "lLO1fPKasv1n",
        "colab_type": "code",
        "colab": {
          "base_uri": "https://localhost:8080/",
          "height": 34
        },
        "outputId": "b70a68be-9e54-4d5c-9571-8ad5c5f79863"
      },
      "source": [
        "dev_1 = Employee('Corey', 'Schafer', 50000)\n",
        "dev_1.pay"
      ],
      "execution_count": 20,
      "outputs": [
        {
          "output_type": "execute_result",
          "data": {
            "text/plain": [
              "50000"
            ]
          },
          "metadata": {
            "tags": []
          },
          "execution_count": 20
        }
      ]
    },
    {
      "cell_type": "code",
      "metadata": {
        "id": "WhH1izNNsyP2",
        "colab_type": "code",
        "colab": {}
      },
      "source": [
        "class Developer(Employee): \n",
        "  raise_amt = 1.10\n",
        "  def __init__(self, first ,last, pay, prog_lang):\n",
        "    super().__init__(first, last, pay)\n",
        "    self.prog_lang = prog_lang"
      ],
      "execution_count": 0,
      "outputs": []
    },
    {
      "cell_type": "code",
      "metadata": {
        "id": "rVG_5tNsuPpA",
        "colab_type": "code",
        "colab": {}
      },
      "source": [
        "dev_1 = Developer('Corey', 'Schafer', 50000, 'Python')\n",
        "dev_2 = Developer('Test', 'Employee', 60000, 'Java')"
      ],
      "execution_count": 0,
      "outputs": []
    },
    {
      "cell_type": "code",
      "metadata": {
        "id": "ZuOECiVyuRtK",
        "colab_type": "code",
        "colab": {
          "base_uri": "https://localhost:8080/",
          "height": 34
        },
        "outputId": "9bdf5fb5-c328-4c3a-ba43-8df9e2f6870d"
      },
      "source": [
        "print(dev_1.email, dev_1.prog_lang)"
      ],
      "execution_count": 23,
      "outputs": [
        {
          "output_type": "stream",
          "text": [
            "Corey.Schafer@email.com Python\n"
          ],
          "name": "stdout"
        }
      ]
    },
    {
      "cell_type": "code",
      "metadata": {
        "id": "A400EXgCuW1p",
        "colab_type": "code",
        "colab": {}
      },
      "source": [
        "class Manager(Employee):\n",
        "  def __init__(self, first ,last, pay, employees=None):\n",
        "    super().__init__(first, last, pay)\n",
        "    if employees is None: \n",
        "      self.employees = []\n",
        "    else:\n",
        "      self.employees = employees\n",
        "  \n",
        "  def add_emp(self, emp):\n",
        "    if emp not in self.employees:\n",
        "      self.employees.append(emp)\n",
        "\n",
        "  def remove_emp(self, emp):\n",
        "    if emp in self.employees:\n",
        "      self.employees.remove(emp)\n",
        "  \n",
        "  def print_employees(self):\n",
        "    for emp in self.employees:\n",
        "      print('-->', emp.fullname())"
      ],
      "execution_count": 0,
      "outputs": []
    },
    {
      "cell_type": "code",
      "metadata": {
        "id": "xVqdnZ3YvRyD",
        "colab_type": "code",
        "colab": {
          "base_uri": "https://localhost:8080/",
          "height": 34
        },
        "outputId": "e82d6c9f-61ca-48b1-8e1f-2f689a547a8c"
      },
      "source": [
        "mgr_1 = Manager('Sue', 'Smith', 90000, [dev_1])\n",
        "print(mgr_1.email)"
      ],
      "execution_count": 36,
      "outputs": [
        {
          "output_type": "stream",
          "text": [
            "Sue.Smith@email.com\n"
          ],
          "name": "stdout"
        }
      ]
    },
    {
      "cell_type": "code",
      "metadata": {
        "id": "TKsnn4HKvW-w",
        "colab_type": "code",
        "colab": {
          "base_uri": "https://localhost:8080/",
          "height": 34
        },
        "outputId": "c2b8dba2-53d1-48b1-a750-23c07ac6e454"
      },
      "source": [
        "mgr_1.print_employees()"
      ],
      "execution_count": 37,
      "outputs": [
        {
          "output_type": "stream",
          "text": [
            "--> Corey Schafer\n"
          ],
          "name": "stdout"
        }
      ]
    },
    {
      "cell_type": "code",
      "metadata": {
        "id": "iI8-hoqevanv",
        "colab_type": "code",
        "colab": {}
      },
      "source": [
        "mgr_1.add_emp(dev_2)"
      ],
      "execution_count": 0,
      "outputs": []
    },
    {
      "cell_type": "code",
      "metadata": {
        "id": "iYkD7sClvif-",
        "colab_type": "code",
        "colab": {
          "base_uri": "https://localhost:8080/",
          "height": 52
        },
        "outputId": "cfe6647e-e47c-4c1c-ab4f-f72e65d401f9"
      },
      "source": [
        "mgr_1.print_employees()"
      ],
      "execution_count": 39,
      "outputs": [
        {
          "output_type": "stream",
          "text": [
            "--> Corey Schafer\n",
            "--> Test Employee\n"
          ],
          "name": "stdout"
        }
      ]
    },
    {
      "cell_type": "code",
      "metadata": {
        "id": "AFIQjhKpvjKt",
        "colab_type": "code",
        "colab": {
          "base_uri": "https://localhost:8080/",
          "height": 34
        },
        "outputId": "d66d6f6f-b724-4e28-f5eb-be3b2b40fe38"
      },
      "source": [
        "dev_2.fullname()"
      ],
      "execution_count": 32,
      "outputs": [
        {
          "output_type": "execute_result",
          "data": {
            "text/plain": [
              "'Test Employee'"
            ]
          },
          "metadata": {
            "tags": []
          },
          "execution_count": 32
        }
      ]
    },
    {
      "cell_type": "code",
      "metadata": {
        "id": "Av7FKGPqvnau",
        "colab_type": "code",
        "colab": {}
      },
      "source": [
        "mgr_1.remove_emp(dev_1)"
      ],
      "execution_count": 0,
      "outputs": []
    },
    {
      "cell_type": "code",
      "metadata": {
        "id": "H5VmHqmgv0MD",
        "colab_type": "code",
        "colab": {
          "base_uri": "https://localhost:8080/",
          "height": 34
        },
        "outputId": "b050131c-1878-4f19-c314-fe537c0864e6"
      },
      "source": [
        "mgr_1.print_employees()"
      ],
      "execution_count": 41,
      "outputs": [
        {
          "output_type": "stream",
          "text": [
            "--> Test Employee\n"
          ],
          "name": "stdout"
        }
      ]
    },
    {
      "cell_type": "code",
      "metadata": {
        "id": "OxCAbjPKv001",
        "colab_type": "code",
        "colab": {
          "base_uri": "https://localhost:8080/",
          "height": 34
        },
        "outputId": "2a313371-19c2-48ab-8a0d-9099ac9c9ecc"
      },
      "source": [
        "print(issubclass(Manager, Employee))"
      ],
      "execution_count": 42,
      "outputs": [
        {
          "output_type": "stream",
          "text": [
            "True\n"
          ],
          "name": "stdout"
        }
      ]
    },
    {
      "cell_type": "code",
      "metadata": {
        "id": "wEMtQRTewHd6",
        "colab_type": "code",
        "colab": {
          "base_uri": "https://localhost:8080/",
          "height": 34
        },
        "outputId": "8b23f8e4-0107-4728-9aa1-8f29c707221b"
      },
      "source": [
        "print(issubclass(Manager, Developer))"
      ],
      "execution_count": 43,
      "outputs": [
        {
          "output_type": "stream",
          "text": [
            "False\n"
          ],
          "name": "stdout"
        }
      ]
    },
    {
      "cell_type": "code",
      "metadata": {
        "id": "kOV9p9qFwLlw",
        "colab_type": "code",
        "colab": {}
      },
      "source": [
        ""
      ],
      "execution_count": 0,
      "outputs": []
    }
  ]
}